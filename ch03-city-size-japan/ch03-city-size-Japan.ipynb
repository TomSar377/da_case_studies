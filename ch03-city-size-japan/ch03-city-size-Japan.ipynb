{
 "cells": [
  {
   "cell_type": "markdown",
   "metadata": {},
   "source": [
    "#### Prepared for Gabor's Data Analysis\n",
    "\n",
    "### Data Analysis for Business, Economics, and Policy\n",
    "by Gabor Bekes and  Gabor Kezdi\n",
    " \n",
    "Cambridge University Press 2021\n",
    "\n",
    "**[gabors-data-analysis.com ](https://gabors-data-analysis.com/)**\n",
    "\n",
    " License: Free to share, modify and use for educational purposes. \n",
    " Not to be used for commercial purposes.\n",
    "\n",
    "### Chapter 03\n",
    "**Also good to know section, power loaw distribution**\n",
    "\n",
    "using the city-size-japan dataset\n",
    "\n",
    "version 1.0 2021-05-05"
   ]
  },
  {
   "cell_type": "code",
   "execution_count": 1,
   "metadata": {},
   "outputs": [],
   "source": [
    "import os\n",
    "import sys\n",
    "import warnings\n",
    "\n",
    "import numpy as np\n",
    "import pandas as pd\n",
    "from plotnine import *\n",
    "\n",
    "warnings.filterwarnings(\"ignore\")"
   ]
  },
  {
   "cell_type": "code",
   "execution_count": 2,
   "metadata": {},
   "outputs": [],
   "source": [
    "# Current script folder\n",
    "current_path = os.getcwd()\n",
    "dirname = current_path.split(\"da_case_studies\")[0]\n",
    "\n",
    "# location folders\n",
    "data_in = dirname + \"da_data_repo/city-size-japan/clean/\"\n",
    "data_out = dirname + \"da_case_studies/ch03-city-size-japan/\"\n",
    "output = dirname + \"da_case_studies/ch03-city-size-japan/output/\"\n",
    "func = dirname + \"da_case_studies/ch00-tech-prep/\"\n",
    "sys.path.append(func)"
   ]
  },
  {
   "cell_type": "code",
   "execution_count": 3,
   "metadata": {},
   "outputs": [],
   "source": [
    "# Import the prewritten helper functions\n",
    "from py_helper_functions import *"
   ]
  },
  {
   "cell_type": "code",
   "execution_count": 4,
   "metadata": {},
   "outputs": [],
   "source": [
    "city_size = pd.read_csv(data_in + \"city-size-japan.csv\")"
   ]
  },
  {
   "cell_type": "code",
   "execution_count": 5,
   "metadata": {},
   "outputs": [],
   "source": [
    "# create variables\n",
    "\n",
    "city_size[\"pop\"] = city_size[\"pop_2015\"] / 1000\n",
    "city_size[\"lnpop\"] = np.log(city_size[\"pop\"])\n",
    "city_size = city_size.sort_values(by=\"pop\", ascending=False).reset_index(drop=True)\n",
    "city_size[\"rank\"] = [x for x in range(1, len(city_size[\"pop\"]) + 1)]"
   ]
  },
  {
   "cell_type": "code",
   "execution_count": 6,
   "metadata": {},
   "outputs": [
    {
     "data": {
      "text/html": [
       "<div>\n",
       "<style scoped>\n",
       "    .dataframe tbody tr th:only-of-type {\n",
       "        vertical-align: middle;\n",
       "    }\n",
       "\n",
       "    .dataframe tbody tr th {\n",
       "        vertical-align: top;\n",
       "    }\n",
       "\n",
       "    .dataframe thead th {\n",
       "        text-align: right;\n",
       "    }\n",
       "</style>\n",
       "<table border=\"1\" class=\"dataframe\">\n",
       "  <thead>\n",
       "    <tr style=\"text-align: right;\">\n",
       "      <th></th>\n",
       "      <th>Name</th>\n",
       "      <th>pop_1995</th>\n",
       "      <th>pop_2000</th>\n",
       "      <th>pop_2005</th>\n",
       "      <th>pop_2010</th>\n",
       "      <th>pop_2015</th>\n",
       "      <th>pop</th>\n",
       "      <th>lnpop</th>\n",
       "      <th>rank</th>\n",
       "    </tr>\n",
       "  </thead>\n",
       "  <tbody>\n",
       "    <tr>\n",
       "      <th>0</th>\n",
       "      <td>T?ky? [Tokyo]</td>\n",
       "      <td>7967614</td>\n",
       "      <td>8134688</td>\n",
       "      <td>8489653</td>\n",
       "      <td>8945695</td>\n",
       "      <td>9272740</td>\n",
       "      <td>9272.740</td>\n",
       "      <td>9.134834</td>\n",
       "      <td>1</td>\n",
       "    </tr>\n",
       "    <tr>\n",
       "      <th>1</th>\n",
       "      <td>Yokohama</td>\n",
       "      <td>3307136</td>\n",
       "      <td>3426651</td>\n",
       "      <td>3579628</td>\n",
       "      <td>3688773</td>\n",
       "      <td>3724844</td>\n",
       "      <td>3724.844</td>\n",
       "      <td>8.222780</td>\n",
       "      <td>2</td>\n",
       "    </tr>\n",
       "    <tr>\n",
       "      <th>2</th>\n",
       "      <td>?saka [Osaka]</td>\n",
       "      <td>2602421</td>\n",
       "      <td>2598774</td>\n",
       "      <td>2628811</td>\n",
       "      <td>2665314</td>\n",
       "      <td>2691185</td>\n",
       "      <td>2691.185</td>\n",
       "      <td>7.897737</td>\n",
       "      <td>3</td>\n",
       "    </tr>\n",
       "    <tr>\n",
       "      <th>3</th>\n",
       "      <td>Nagoya</td>\n",
       "      <td>2152184</td>\n",
       "      <td>2171557</td>\n",
       "      <td>2215062</td>\n",
       "      <td>2263894</td>\n",
       "      <td>2295638</td>\n",
       "      <td>2295.638</td>\n",
       "      <td>7.738766</td>\n",
       "      <td>4</td>\n",
       "    </tr>\n",
       "    <tr>\n",
       "      <th>4</th>\n",
       "      <td>Sapporo</td>\n",
       "      <td>1757025</td>\n",
       "      <td>1822368</td>\n",
       "      <td>1880863</td>\n",
       "      <td>1913545</td>\n",
       "      <td>1952356</td>\n",
       "      <td>1952.356</td>\n",
       "      <td>7.576792</td>\n",
       "      <td>5</td>\n",
       "    </tr>\n",
       "    <tr>\n",
       "      <th>...</th>\n",
       "      <td>...</td>\n",
       "      <td>...</td>\n",
       "      <td>...</td>\n",
       "      <td>...</td>\n",
       "      <td>...</td>\n",
       "      <td>...</td>\n",
       "      <td>...</td>\n",
       "      <td>...</td>\n",
       "      <td>...</td>\n",
       "    </tr>\n",
       "    <tr>\n",
       "      <th>154</th>\n",
       "      <td>Kawanishi</td>\n",
       "      <td>144539</td>\n",
       "      <td>153762</td>\n",
       "      <td>157668</td>\n",
       "      <td>156423</td>\n",
       "      <td>156375</td>\n",
       "      <td>156.375</td>\n",
       "      <td>5.052257</td>\n",
       "      <td>155</td>\n",
       "    </tr>\n",
       "    <tr>\n",
       "      <th>155</th>\n",
       "      <td>Hitachinaka (Katsuta)</td>\n",
       "      <td>146750</td>\n",
       "      <td>151673</td>\n",
       "      <td>153639</td>\n",
       "      <td>157060</td>\n",
       "      <td>155689</td>\n",
       "      <td>155.689</td>\n",
       "      <td>5.047860</td>\n",
       "      <td>156</td>\n",
       "    </tr>\n",
       "    <tr>\n",
       "      <th>156</th>\n",
       "      <td>Noda</td>\n",
       "      <td>152245</td>\n",
       "      <td>151197</td>\n",
       "      <td>151240</td>\n",
       "      <td>155491</td>\n",
       "      <td>153583</td>\n",
       "      <td>153.583</td>\n",
       "      <td>5.034241</td>\n",
       "      <td>157</td>\n",
       "    </tr>\n",
       "    <tr>\n",
       "      <th>157</th>\n",
       "      <td>Sayama</td>\n",
       "      <td>162240</td>\n",
       "      <td>161460</td>\n",
       "      <td>158074</td>\n",
       "      <td>155727</td>\n",
       "      <td>152405</td>\n",
       "      <td>152.405</td>\n",
       "      <td>5.026541</td>\n",
       "      <td>158</td>\n",
       "    </tr>\n",
       "    <tr>\n",
       "      <th>158</th>\n",
       "      <td>Kuki</td>\n",
       "      <td>151756</td>\n",
       "      <td>154292</td>\n",
       "      <td>154684</td>\n",
       "      <td>154310</td>\n",
       "      <td>152311</td>\n",
       "      <td>152.311</td>\n",
       "      <td>5.025924</td>\n",
       "      <td>159</td>\n",
       "    </tr>\n",
       "  </tbody>\n",
       "</table>\n",
       "<p>159 rows × 9 columns</p>\n",
       "</div>"
      ],
      "text/plain": [
       "                      Name  pop_1995  pop_2000  pop_2005  pop_2010  pop_2015  \\\n",
       "0            T?ky? [Tokyo]   7967614   8134688   8489653   8945695   9272740   \n",
       "1                 Yokohama   3307136   3426651   3579628   3688773   3724844   \n",
       "2            ?saka [Osaka]   2602421   2598774   2628811   2665314   2691185   \n",
       "3                   Nagoya   2152184   2171557   2215062   2263894   2295638   \n",
       "4                  Sapporo   1757025   1822368   1880863   1913545   1952356   \n",
       "..                     ...       ...       ...       ...       ...       ...   \n",
       "154              Kawanishi    144539    153762    157668    156423    156375   \n",
       "155  Hitachinaka (Katsuta)    146750    151673    153639    157060    155689   \n",
       "156                   Noda    152245    151197    151240    155491    153583   \n",
       "157                 Sayama    162240    161460    158074    155727    152405   \n",
       "158                   Kuki    151756    154292    154684    154310    152311   \n",
       "\n",
       "          pop     lnpop  rank  \n",
       "0    9272.740  9.134834     1  \n",
       "1    3724.844  8.222780     2  \n",
       "2    2691.185  7.897737     3  \n",
       "3    2295.638  7.738766     4  \n",
       "4    1952.356  7.576792     5  \n",
       "..        ...       ...   ...  \n",
       "154   156.375  5.052257   155  \n",
       "155   155.689  5.047860   156  \n",
       "156   153.583  5.034241   157  \n",
       "157   152.405  5.026541   158  \n",
       "158   152.311  5.025924   159  \n",
       "\n",
       "[159 rows x 9 columns]"
      ]
     },
     "execution_count": 6,
     "metadata": {},
     "output_type": "execute_result"
    }
   ],
   "source": [
    "city_size"
   ]
  },
  {
   "cell_type": "code",
   "execution_count": 7,
   "metadata": {},
   "outputs": [],
   "source": [
    "# ---------------------------------------------------------------\n",
    "# ln(rank) vs ln(x)\n",
    "\n",
    "city_size[\"lnrank\"] = np.log(city_size[\"rank\"])"
   ]
  },
  {
   "cell_type": "code",
   "execution_count": 8,
   "metadata": {},
   "outputs": [
    {
     "data": {
      "image/png": "[encoded data removed]",
      "text/plain": [
       "<Figure size 640x480 with 1 Axes>"
      ]
     },
     "metadata": {},
     "output_type": "display_data"
    },
    {
     "data": {
      "text/plain": [
       "<ggplot: (673218470)>"
      ]
     },
     "execution_count": 8,
     "metadata": {},
     "output_type": "execute_result"
    }
   ],
   "source": [
    "ggplot(city_size, aes(x=\"lnpop\", y=\"lnrank\")) + geom_smooth(\n",
    "    color=color[1], method=\"lm\"\n",
    ") + geom_point(color=color[0]) + labs(\n",
    "    x=\"ln(population)\", y=\"ln(rank)\"\n",
    ") + scale_y_continuous(\n",
    "    expand=(0.01, 0.01), limits=(0, 6), breaks=seq(0, 6, by=1)\n",
    ") + scale_x_continuous(\n",
    "    expand=(0.01, 0.01), limits=(5, 9.5), breaks=seq(5, 9.5, by=0.5)\n",
    ") + theme_bw()"
   ]
  },
  {
   "cell_type": "code",
   "execution_count": 9,
   "metadata": {},
   "outputs": [],
   "source": [
    "# ---------------------------------------------------------------\n",
    "# scale invariance\n",
    "\n",
    "x1 = 200\n",
    "x2 = 300\n",
    "bound = 0.2"
   ]
  },
  {
   "cell_type": "code",
   "execution_count": 10,
   "metadata": {},
   "outputs": [
    {
     "data": {
      "text/plain": [
       "56"
      ]
     },
     "execution_count": 10,
     "metadata": {},
     "output_type": "execute_result"
    }
   ],
   "source": [
    "city_size.query(\"pop >= @x1*(1-@bound)  & pop <= @x1*(1+@bound)\").shape[0]"
   ]
  },
  {
   "cell_type": "code",
   "execution_count": 11,
   "metadata": {},
   "outputs": [
    {
     "data": {
      "text/plain": [
       "37"
      ]
     },
     "execution_count": 11,
     "metadata": {},
     "output_type": "execute_result"
    }
   ],
   "source": [
    "city_size.query(\"pop >= @x2*(1-@bound) & pop <= @x2*(1+@bound)\").shape[0]"
   ]
  },
  {
   "cell_type": "code",
   "execution_count": 12,
   "metadata": {},
   "outputs": [],
   "source": [
    "shift = 3\n",
    "x3 = x1 * shift\n",
    "x4 = x2 * shift"
   ]
  },
  {
   "cell_type": "code",
   "execution_count": 13,
   "metadata": {},
   "outputs": [
    {
     "data": {
      "text/plain": [
       "13"
      ]
     },
     "execution_count": 13,
     "metadata": {},
     "output_type": "execute_result"
    }
   ],
   "source": [
    "city_size.query(\"pop >= @x3*(1-@bound)  & pop <= @x3*(1+@bound)\").shape[0]"
   ]
  },
  {
   "cell_type": "code",
   "execution_count": 14,
   "metadata": {},
   "outputs": [
    {
     "data": {
      "text/plain": [
       "7"
      ]
     },
     "execution_count": 14,
     "metadata": {},
     "output_type": "execute_result"
    }
   ],
   "source": [
    "city_size.query(\"pop >= @x4*(1-@bound) & pop <= @x4*(1+@bound)\").shape[0]"
   ]
  },
  {
   "cell_type": "code",
   "execution_count": null,
   "metadata": {},
   "outputs": [],
   "source": []
  }
 ],
 "metadata": {
  "kernelspec": {
   "display_name": "Python 3.8.9 ('da_case_studies-TgTp0_0o')",
   "language": "python",
   "name": "python3"
  },
  "language_info": {
   "codemirror_mode": {
    "name": "ipython",
    "version": 3
   },
   "file_extension": ".py",
   "mimetype": "text/x-python",
   "name": "python",
   "nbconvert_exporter": "python",
   "pygments_lexer": "ipython3",
   "version": "3.8.10"
  },
  "vscode": {
   "interpreter": {
    "hash": "c01754e8627d0ea60fdf9a984fbf743943cf4db47884120dd04bfc512143b077"
   }
  }
 },
 "nbformat": 4,
 "nbformat_minor": 4
}
