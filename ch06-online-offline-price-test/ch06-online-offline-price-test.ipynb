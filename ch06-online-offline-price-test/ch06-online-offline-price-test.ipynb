{
 "cells": [
  {
   "cell_type": "markdown",
   "metadata": {},
   "source": [
    "#### Prepared for Gabor's Data Analysis\n",
    "\n",
    "### Data Analysis for Business, Economics, and Policy\n",
    "by Gabor Bekes and  Gabor Kezdi\n",
    " \n",
    "Cambridge University Press 2021\n",
    "\n",
    "**[gabors-data-analysis.com ](https://gabors-data-analysis.com/)**\n",
    "\n",
    " License: Free to share, modify and use for educational purposes. \n",
    " Not to be used for commercial purposes.\n",
    "\n",
    "### Chapter 06\n",
    "**CH06A Comparing Online and Offline Prices: Testing the Difference**\n",
    "\n",
    "billion-prices dataset dataset\n",
    "\n",
    "version 1.0 2021-05-05"
   ]
  },
  {
   "cell_type": "code",
   "execution_count": 1,
   "metadata": {},
   "outputs": [],
   "source": [
    "import os\n",
    "import sys\n",
    "import warnings\n",
    "\n",
    "import numpy as np\n",
    "import pandas\n",
    "from mizani.formatters import percent_format\n",
    "from plotnine import *\n",
    "\n",
    "warnings.filterwarnings(\"ignore\")\n"
   ]
  },
  {
   "cell_type": "code",
   "execution_count": 2,
   "metadata": {},
   "outputs": [],
   "source": [
    "# Current script folder\n",
    "current_path = os.getcwd()\n",
    "dirname = current_path.split(\"da_case_studies\")[0]\n",
    "\n",
    "# location folders\n",
    "data_in = dirname + \"da_data_repo/billion-prices/clean/\"\n",
    "data_out = dirname + \"da_case_studies/ch06-online-offline-price-test/\"\n",
    "output = dirname + \"da_case_studies/ch06-online-offline-price-test/output/\"\n",
    "func = dirname + \"da_case_studies/ch00-tech-prep/\"\n",
    "sys.path.append(func)\n"
   ]
  },
  {
   "cell_type": "code",
   "execution_count": 3,
   "metadata": {},
   "outputs": [],
   "source": [
    "# Import the prewritten helper functions\n",
    "from py_helper_functions import *\n"
   ]
  },
  {
   "cell_type": "code",
   "execution_count": 4,
   "metadata": {},
   "outputs": [],
   "source": [
    "pd = pandas.read_csv(data_in + \"online_offline_ALL_clean.csv\", encoding=\"latin1\")\n"
   ]
  },
  {
   "cell_type": "code",
   "execution_count": 5,
   "metadata": {},
   "outputs": [],
   "source": [
    "# FILTER DATA\n",
    "pd = pd.loc[\n",
    "    lambda x: (x[\"COUNTRY\"] == \"USA\")\n",
    "    & (x[\"PRICETYPE\"] == \"Regular Price\")\n",
    "    & (x[\"sale_online\"].isnull())\n",
    "    & (~x[\"price\"].isnull())\n",
    "    & (~x[\"price_online\"].isnull())\n",
    "]\n"
   ]
  },
  {
   "cell_type": "code",
   "execution_count": 6,
   "metadata": {},
   "outputs": [],
   "source": [
    "# Drop obvious errors\n",
    "pd = pd.loc[lambda x: x[\"price\"] < 1000]\n"
   ]
  },
  {
   "cell_type": "code",
   "execution_count": 7,
   "metadata": {},
   "outputs": [],
   "source": [
    "# Compare variables\n",
    "pd[\"diff\"] = pd[\"price_online\"] - pd[\"price\"]\n",
    "descr = pd[\"diff\"].describe()\n"
   ]
  },
  {
   "cell_type": "code",
   "execution_count": 8,
   "metadata": {},
   "outputs": [
    {
     "data": {
      "text/plain": [
       "count    6439.000000\n",
       "mean        0.054460\n",
       "std         9.994452\n",
       "min      -380.130000\n",
       "25%        -0.040000\n",
       "50%         0.000000\n",
       "75%         0.000000\n",
       "max       415.270000\n",
       "Name: diff, dtype: float64"
      ]
     },
     "execution_count": 8,
     "metadata": {},
     "output_type": "execute_result"
    }
   ],
   "source": [
    "descr\n"
   ]
  },
  {
   "cell_type": "code",
   "execution_count": 9,
   "metadata": {},
   "outputs": [
    {
     "data": {
      "image/png": "[encoded data removed]",
      "text/plain": [
       "<Figure size 640x480 with 1 Axes>"
      ]
     },
     "metadata": {},
     "output_type": "display_data"
    },
    {
     "data": {
      "text/plain": [
       "<ggplot: (345651703)>"
      ]
     },
     "execution_count": 9,
     "metadata": {},
     "output_type": "execute_result"
    }
   ],
   "source": [
    "(\n",
    "    ggplot(pd, aes(\"diff\"))\n",
    "    + geom_histogram(\n",
    "        binwidth=5,\n",
    "        boundary=0,\n",
    "        fill=color[0],\n",
    "        size=0.25,\n",
    "        alpha=0.8,\n",
    "        show_legend=False,\n",
    "        na_rm=True,\n",
    "        closed=\"left\",\n",
    "    )\n",
    "    + labs(x=\"Online - offline price difference (US dollars)\", y=\"Frequency\")\n",
    "    + theme_bw()\n",
    "    + scale_x_continuous(limits=(-420, 420), breaks=seq(-400, 420, by=100))\n",
    "    + scale_y_continuous(\n",
    "        limits=(0, 6000), breaks=seq(0, 6000, by=1000), expand=(0.01, 0.01)\n",
    "    )\n",
    "    + geom_segment(aes(x=300, y=500, xend=415, yend=20), arrow=arrow())\n",
    "    + annotate(\"text\", x=300, y=700, label=\"max value= 415\", size=11.5)\n",
    "    + geom_segment(aes(x=-280, y=500, xend=-380, yend=20), arrow=arrow())\n",
    "    + annotate(\"text\", x=-300, y=700, label=\"min value= -380\", size=11.5)\n",
    ")\n"
   ]
  },
  {
   "cell_type": "code",
   "execution_count": 10,
   "metadata": {},
   "outputs": [
    {
     "data": {
      "text/plain": [
       "count    6200.000000\n",
       "mean       -0.127437\n",
       "std         0.788358\n",
       "min        -4.900000\n",
       "25%         0.000000\n",
       "50%         0.000000\n",
       "75%         0.000000\n",
       "max         4.990000\n",
       "Name: diff, dtype: float64"
      ]
     },
     "execution_count": 10,
     "metadata": {},
     "output_type": "execute_result"
    }
   ],
   "source": [
    "# 4.99999 not 5 -- needed because of data imported from stata may be stored wierdly.\n",
    "pd1 = pd.query(\"abs(diff)<4.999999\")\n",
    "pd1[\"diff\"].describe()\n"
   ]
  },
  {
   "cell_type": "code",
   "execution_count": 11,
   "metadata": {},
   "outputs": [
    {
     "data": {
      "image/png": "[encoded data removed]",
      "text/plain": [
       "<Figure size 640x480 with 1 Axes>"
      ]
     },
     "metadata": {},
     "output_type": "display_data"
    },
    {
     "data": {
      "text/plain": [
       "<ggplot: (345422562)>"
      ]
     },
     "execution_count": 11,
     "metadata": {},
     "output_type": "execute_result"
    }
   ],
   "source": [
    "(\n",
    "    ggplot(pd, aes(\"diff\"))\n",
    "    + geom_histogram(\n",
    "        binwidth=0.5,\n",
    "        center=0.5,\n",
    "        color=\"white\",\n",
    "        fill=color[0],\n",
    "        size=0.25,\n",
    "        alpha=0.8,\n",
    "        show_legend=False,\n",
    "        na_rm=True,\n",
    "    )\n",
    "    + labs(x=\"Online - offline price difference (US dollars)\", y=\"Frequency\")\n",
    "    + theme_bw()\n",
    "    + expand_limits(x=0.01, y=0.01)\n",
    "    + scale_x_continuous(limits=(-5, 5), breaks=seq(-5, 5, by=1))\n",
    "    + scale_y_continuous(expand=(0.00, 0.00))\n",
    ")\n"
   ]
  },
  {
   "cell_type": "code",
   "execution_count": 12,
   "metadata": {
    "tags": []
   },
   "outputs": [
    {
     "data": {
      "text/plain": [
       "Ttest_1sampResult(statistic=0.4372481266029261, pvalue=0.6619460766193054)"
      ]
     },
     "execution_count": 12,
     "metadata": {},
     "output_type": "execute_result"
    }
   ],
   "source": [
    "# HYPOTHESIS\n",
    "from scipy import stats\n",
    "\n",
    "stats.ttest_1samp(pd[\"diff\"], 0)\n"
   ]
  },
  {
   "cell_type": "code",
   "execution_count": 13,
   "metadata": {},
   "outputs": [],
   "source": [
    "def t_test_1samp(series, mu=0):\n",
    "    \"\"\"\n",
    "    This is a function to calculate t_test for 1 sample.\n",
    "    Return: tuple of 2 elements, first is sample mean, second is t test object from scipy\n",
    "    \"\"\"\n",
    "    return (np.mean(series), stats.ttest_1samp(series, mu))\n"
   ]
  },
  {
   "cell_type": "code",
   "execution_count": 14,
   "metadata": {},
   "outputs": [],
   "source": [
    "# MULTIPLE HYPOTHESES\n",
    "spd = [\n",
    "    pd.loc[\n",
    "        pd[\"retailer\"] == x,\n",
    "    ]\n",
    "    for x in set(pd[\"retailer\"])\n",
    "]\n",
    "out = [(set(x[\"retailer\"]), t_test_1samp(x[\"diff\"], 0)) for x in spd]\n"
   ]
  },
  {
   "cell_type": "code",
   "execution_count": 15,
   "metadata": {},
   "outputs": [
    {
     "data": {
      "text/plain": [
       "[({44},\n",
       "  (3.73675,\n",
       "   Ttest_1sampResult(statistic=2.0970967695735117, pvalue=0.038102345149389))),\n",
       " ({45},\n",
       "  (-1.2166300366300367,\n",
       "   Ttest_1sampResult(statistic=-1.2271928388565805, pvalue=0.22027995382690432))),\n",
       " ({46},\n",
       "  (-0.4290707648320227,\n",
       "   Ttest_1sampResult(statistic=-11.641716539786147, pvalue=5.8008651517374406e-30))),\n",
       " ({47},\n",
       "  (0.051625239005736144,\n",
       "   Ttest_1sampResult(statistic=1.6613855468290473, pvalue=0.09723645884012402))),\n",
       " ({48},\n",
       "  (0.42059701492537316,\n",
       "   Ttest_1sampResult(statistic=2.132197897818741, pvalue=0.033903290670897486))),\n",
       " ({49},\n",
       "  (2.410042735042735,\n",
       "   Ttest_1sampResult(statistic=1.2798236568799926, pvalue=0.20187999009028343))),\n",
       " ({50},\n",
       "  (0.606011673151751,\n",
       "   Ttest_1sampResult(statistic=1.6405334895253019, pvalue=0.10150724842940251))),\n",
       " ({51},\n",
       "  (0.28394321766561514,\n",
       "   Ttest_1sampResult(statistic=1.8754817018086298, pvalue=0.061648393463910545))),\n",
       " ({53},\n",
       "  (-0.9704273504273504,\n",
       "   Ttest_1sampResult(statistic=-2.7305459292926293, pvalue=0.007310099636366778))),\n",
       " ({54},\n",
       "  (-0.02752293577981653,\n",
       "   Ttest_1sampResult(statistic=-0.25336201919865803, pvalue=0.8004701402078858))),\n",
       " ({56},\n",
       "  (-0.48571428571428577,\n",
       "   Ttest_1sampResult(statistic=-2.6522599342109534, pvalue=0.03791395309485158))),\n",
       " ({57},\n",
       "  (0.9323955119214586,\n",
       "   Ttest_1sampResult(statistic=3.911425728405225, pvalue=0.00010053731293869892))),\n",
       " ({58},\n",
       "  (-0.168949494949495,\n",
       "   Ttest_1sampResult(statistic=-7.031604745018549, pvalue=6.8305950050812234e-12))),\n",
       " ({59},\n",
       "  (-0.5278311965811966,\n",
       "   Ttest_1sampResult(statistic=-3.0192400270571738, pvalue=0.0026029022858653893))),\n",
       " ({60},\n",
       "  (-0.13846153846153847,\n",
       "   Ttest_1sampResult(statistic=-0.3917210971460755, pvalue=0.6965655987786239))),\n",
       " ({62},\n",
       "  (1.3613157894736843,\n",
       "   Ttest_1sampResult(statistic=1.5579432479712532, pvalue=0.12345670125446079)))]"
      ]
     },
     "execution_count": 15,
     "metadata": {},
     "output_type": "execute_result"
    }
   ],
   "source": [
    "out\n"
   ]
  },
  {
   "cell_type": "code",
   "execution_count": 16,
   "metadata": {},
   "outputs": [],
   "source": [
    "table_out = pandas.DataFrame.from_records(\n",
    "    [\n",
    "        {\"retailer\": list(x[0])[0], \"estimate\": x[1][0], \"p.value\": x[1][1].pvalue}\n",
    "        for x in out\n",
    "    ]\n",
    ")\n"
   ]
  },
  {
   "cell_type": "code",
   "execution_count": 17,
   "metadata": {},
   "outputs": [
    {
     "data": {
      "text/html": [
       "<div>\n",
       "<style scoped>\n",
       "    .dataframe tbody tr th:only-of-type {\n",
       "        vertical-align: middle;\n",
       "    }\n",
       "\n",
       "    .dataframe tbody tr th {\n",
       "        vertical-align: top;\n",
       "    }\n",
       "\n",
       "    .dataframe thead th {\n",
       "        text-align: right;\n",
       "    }\n",
       "</style>\n",
       "<table border=\"1\" class=\"dataframe\">\n",
       "  <thead>\n",
       "    <tr style=\"text-align: right;\">\n",
       "      <th></th>\n",
       "      <th>retailer</th>\n",
       "      <th>estimate</th>\n",
       "      <th>p.value</th>\n",
       "    </tr>\n",
       "  </thead>\n",
       "  <tbody>\n",
       "    <tr>\n",
       "      <th>0</th>\n",
       "      <td>44</td>\n",
       "      <td>3.736750</td>\n",
       "      <td>3.810235e-02</td>\n",
       "    </tr>\n",
       "    <tr>\n",
       "      <th>1</th>\n",
       "      <td>45</td>\n",
       "      <td>-1.216630</td>\n",
       "      <td>2.202800e-01</td>\n",
       "    </tr>\n",
       "    <tr>\n",
       "      <th>2</th>\n",
       "      <td>46</td>\n",
       "      <td>-0.429071</td>\n",
       "      <td>5.800865e-30</td>\n",
       "    </tr>\n",
       "    <tr>\n",
       "      <th>3</th>\n",
       "      <td>47</td>\n",
       "      <td>0.051625</td>\n",
       "      <td>9.723646e-02</td>\n",
       "    </tr>\n",
       "    <tr>\n",
       "      <th>4</th>\n",
       "      <td>48</td>\n",
       "      <td>0.420597</td>\n",
       "      <td>3.390329e-02</td>\n",
       "    </tr>\n",
       "    <tr>\n",
       "      <th>5</th>\n",
       "      <td>49</td>\n",
       "      <td>2.410043</td>\n",
       "      <td>2.018800e-01</td>\n",
       "    </tr>\n",
       "    <tr>\n",
       "      <th>6</th>\n",
       "      <td>50</td>\n",
       "      <td>0.606012</td>\n",
       "      <td>1.015072e-01</td>\n",
       "    </tr>\n",
       "    <tr>\n",
       "      <th>7</th>\n",
       "      <td>51</td>\n",
       "      <td>0.283943</td>\n",
       "      <td>6.164839e-02</td>\n",
       "    </tr>\n",
       "    <tr>\n",
       "      <th>8</th>\n",
       "      <td>53</td>\n",
       "      <td>-0.970427</td>\n",
       "      <td>7.310100e-03</td>\n",
       "    </tr>\n",
       "    <tr>\n",
       "      <th>9</th>\n",
       "      <td>54</td>\n",
       "      <td>-0.027523</td>\n",
       "      <td>8.004701e-01</td>\n",
       "    </tr>\n",
       "    <tr>\n",
       "      <th>10</th>\n",
       "      <td>56</td>\n",
       "      <td>-0.485714</td>\n",
       "      <td>3.791395e-02</td>\n",
       "    </tr>\n",
       "    <tr>\n",
       "      <th>11</th>\n",
       "      <td>57</td>\n",
       "      <td>0.932396</td>\n",
       "      <td>1.005373e-04</td>\n",
       "    </tr>\n",
       "    <tr>\n",
       "      <th>12</th>\n",
       "      <td>58</td>\n",
       "      <td>-0.168949</td>\n",
       "      <td>6.830595e-12</td>\n",
       "    </tr>\n",
       "    <tr>\n",
       "      <th>13</th>\n",
       "      <td>59</td>\n",
       "      <td>-0.527831</td>\n",
       "      <td>2.602902e-03</td>\n",
       "    </tr>\n",
       "    <tr>\n",
       "      <th>14</th>\n",
       "      <td>60</td>\n",
       "      <td>-0.138462</td>\n",
       "      <td>6.965656e-01</td>\n",
       "    </tr>\n",
       "    <tr>\n",
       "      <th>15</th>\n",
       "      <td>62</td>\n",
       "      <td>1.361316</td>\n",
       "      <td>1.234567e-01</td>\n",
       "    </tr>\n",
       "  </tbody>\n",
       "</table>\n",
       "</div>"
      ],
      "text/plain": [
       "    retailer  estimate       p.value\n",
       "0         44  3.736750  3.810235e-02\n",
       "1         45 -1.216630  2.202800e-01\n",
       "2         46 -0.429071  5.800865e-30\n",
       "3         47  0.051625  9.723646e-02\n",
       "4         48  0.420597  3.390329e-02\n",
       "5         49  2.410043  2.018800e-01\n",
       "6         50  0.606012  1.015072e-01\n",
       "7         51  0.283943  6.164839e-02\n",
       "8         53 -0.970427  7.310100e-03\n",
       "9         54 -0.027523  8.004701e-01\n",
       "10        56 -0.485714  3.791395e-02\n",
       "11        57  0.932396  1.005373e-04\n",
       "12        58 -0.168949  6.830595e-12\n",
       "13        59 -0.527831  2.602902e-03\n",
       "14        60 -0.138462  6.965656e-01\n",
       "15        62  1.361316  1.234567e-01"
      ]
     },
     "execution_count": 17,
     "metadata": {},
     "output_type": "execute_result"
    }
   ],
   "source": [
    "table_out\n"
   ]
  },
  {
   "cell_type": "code",
   "execution_count": null,
   "metadata": {},
   "outputs": [],
   "source": []
  }
 ],
 "metadata": {
  "kernelspec": {
   "display_name": "Python 3.8.9 ('da_case_studies-TgTp0_0o')",
   "language": "python",
   "name": "python3"
  },
  "language_info": {
   "codemirror_mode": {
    "name": "ipython",
    "version": 3
   },
   "file_extension": ".py",
   "mimetype": "text/x-python",
   "name": "python",
   "nbconvert_exporter": "python",
   "pygments_lexer": "ipython3",
   "version": "3.8.10"
  },
  "vscode": {
   "interpreter": {
    "hash": "c01754e8627d0ea60fdf9a984fbf743943cf4db47884120dd04bfc512143b077"
   }
  }
 },
 "nbformat": 4,
 "nbformat_minor": 4
}
