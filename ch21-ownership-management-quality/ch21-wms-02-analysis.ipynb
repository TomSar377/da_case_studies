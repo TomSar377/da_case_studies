{
 "cells": [
  {
   "cell_type": "markdown",
   "metadata": {},
   "source": [
    "#### Prepared for Gabor's Data Analysis\n",
    "\n",
    "### Data Analysis for Business, Economics, and Policy\n",
    "by Gabor Bekes and  Gabor Kezdi\n",
    " \n",
    "Cambridge University Press 2021\n",
    "\n",
    "**[gabors-data-analysis.com ](https://gabors-data-analysis.com/)**\n",
    "\n",
    " License: Free to share, modify and use for educational purposes. \n",
    " Not to be used for commercial purposes.\n",
    "\n",
    "### CHAPTER 21\n",
    "**CH20A Founder/family ownership and quality of management**\n",
    "\n",
    "using the wms-management dataset\n",
    "\n",
    "version 1.0 2021-05-05"
   ]
  },
  {
   "cell_type": "code",
   "execution_count": 1,
   "metadata": {},
   "outputs": [],
   "source": [
    "import pandas as pd\n",
    "import numpy as np\n",
    "import matplotlib.pyplot as plt\n",
    "import seaborn as sns\n",
    "import statsmodels.formula.api as smf\n",
    "import os\n",
    "import sys\n",
    "from sklearn.neighbors import NearestNeighbors\n",
    "\n",
    "from stargazer.stargazer import Stargazer\n",
    "from IPython.core.display import HTML\n",
    "import warnings\n",
    "\n",
    "warnings.filterwarnings(\"ignore\")"
   ]
  },
  {
   "cell_type": "code",
   "execution_count": 2,
   "metadata": {},
   "outputs": [],
   "source": [
    "# Current script folder\n",
    "current_path = os.getcwd()\n",
    "dirname = \"/\".join(current_path.split(\"/\")[:-2]) + \"/\"\n",
    "\n",
    "# location folders\n",
    "data_in = dirname + \"da_data_repo/wms-management-survey/clean/\"\n",
    "data_out = dirname + \"da_case_studies/ch21-ownership-management-quality/\"\n",
    "output = dirname + \"da_case_studies/ch21-ownership-management-quality/output/\"\n",
    "\n",
    "func = dirname + \"da_case_studies/ch00-tech-prep/\"\n",
    "sys.path.append(func)"
   ]
  },
  {
   "cell_type": "code",
   "execution_count": 3,
   "metadata": {},
   "outputs": [],
   "source": [
    "# Import the prewritten helper functions \n",
    "from py_helper_functions import *"
   ]
  },
  {
   "cell_type": "markdown",
   "metadata": {},
   "source": [
    "### Read in data"
   ]
  },
  {
   "cell_type": "code",
   "execution_count": 4,
   "metadata": {},
   "outputs": [],
   "source": [
    "data = pd.read_csv(data_out+\"wms_da_textbook-work.csv\")"
   ]
  },
  {
   "cell_type": "code",
   "execution_count": 5,
   "metadata": {},
   "outputs": [
    {
     "data": {
      "text/plain": [
       "foundfam_owned\n",
       "0    3.047261\n",
       "1    2.681602\n",
       "Name: management, dtype: float64"
      ]
     },
     "execution_count": 5,
     "metadata": {},
     "output_type": "execute_result"
    }
   ],
   "source": [
    "data.groupby(\"foundfam_owned\").mean()[\"management\"]"
   ]
  },
  {
   "cell_type": "markdown",
   "metadata": {},
   "source": [
    "### Set variables to use"
   ]
  },
  {
   "cell_type": "code",
   "execution_count": 6,
   "metadata": {},
   "outputs": [],
   "source": [
    "y_var = \"management\"\n",
    "x_var = \"foundfam_owned\"\n",
    "\n",
    "control_vars = [\"degree_nm\", \"degree_nm_sq\", \"compet_moder\", \"compet_strong\", \n",
    "                  \"lnemp\", \"age_young\", \"age_old\", \"age_unknown\"]\n",
    "\n",
    "control_vars_to_interact = [\"industry\", \"countrycode\"]"
   ]
  },
  {
   "cell_type": "markdown",
   "metadata": {},
   "source": [
    "## REGRESSIONS"
   ]
  },
  {
   "cell_type": "code",
   "execution_count": 7,
   "metadata": {},
   "outputs": [],
   "source": [
    "# OLS with no control vars.\n",
    "formula1 = y_var + \" ~ \" + x_var\n",
    "ols1 = smf.ols(formula=formula1, data=data).fit()"
   ]
  },
  {
   "cell_type": "code",
   "execution_count": 8,
   "metadata": {},
   "outputs": [],
   "source": [
    "# OLS with all control vars\n",
    "formula2 = (\n",
    "    y_var + \" ~ \" + x_var + \" + \" + \" + \".join(control_vars + control_vars_to_interact)\n",
    ")\n",
    "ols2 = smf.ols(formula=formula2, data=data).fit()"
   ]
  },
  {
   "cell_type": "code",
   "execution_count": 9,
   "metadata": {},
   "outputs": [],
   "source": [
    "# OLS with all controls + interactions\n",
    "formula3 = (\n",
    "    y_var\n",
    "    + \" ~ \"\n",
    "    + x_var\n",
    "    + \"+\"\n",
    "    + \":\".join(control_vars_to_interact)\n",
    "    + \"+(\"\n",
    "    + \"+\".join(control_vars)\n",
    "    + \")*(\"\n",
    "    + \"+\".join(control_vars_to_interact)\n",
    "    + \")\"\n",
    ")\n",
    "ols3 = smf.ols(formula=formula3,data=data).fit()"
   ]
  },
  {
   "cell_type": "code",
   "execution_count": 10,
   "metadata": {},
   "outputs": [
    {
     "data": {
      "text/html": [
       "<table style=\"text-align:center\"><tr><td colspan=\"4\" style=\"border-bottom: 1px solid black\"></td></tr><tr><td style=\"text-align:left\"></td><td colspan=\"3\"><em>Dependent variable:management</em></td></tr><tr><td style=\"text-align:left\"></td><tr><td></td><td colspan=\"1\">No confounders</td><td colspan=\"1\">With confounders</td><td colspan=\"1\">With confounders interacted</td></tr><tr><td colspan=\"4\" style=\"border-bottom: 1px solid black\"></td></tr><tr><td style=\"text-align:left\">foundfam_owned</td><td>-0.37<sup>***</sup></td><td>-0.19<sup>***</sup></td><td>-0.19<sup>***</sup></td></tr><tr><td style=\"text-align:left\"></td><td>(0.01)</td><td>(0.01)</td><td>(0.01)</td></tr><tr><td style=\"text-align:left\">Constant</td><td>3.05<sup>***</sup></td><td>1.69<sup>***</sup></td><td>1.06<sup>***</sup></td></tr><tr><td style=\"text-align:left\"></td><td>(0.01)</td><td>(0.06)</td><td>(0.33)</td></tr><td colspan=\"4\" style=\"border-bottom: 1px solid black\"></td></tr><tr><td style=\"text-align: left\">Observations</td><td>8,439</td><td>8,439</td><td>8,439</td></tr><tr><td style=\"text-align: left\">R<sup>2</sup></td><td>0.08</td><td>0.29</td><td>0.37</td></tr><tr><td style=\"text-align: left\">Adjusted R<sup>2</sup></td><td>0.08</td><td>0.28</td><td>0.31</td></tr><tr><td style=\"text-align: left\">Residual Std. Error</td><td>0.61 (df=8437)</td><td>0.54 (df=8387)</td><td>0.53 (df=7660)</td></tr><tr><td style=\"text-align: left\">F Statistic</td><td>752.87<sup>***</sup> (df=1; 8437)</td><td>65.78<sup>***</sup> (df=51; 8387)</td><td>5.90<sup>***</sup> (df=778; 7660)</td></tr><tr><td colspan=\"4\" style=\"border-bottom: 1px solid black\"></td></tr><tr><td style=\"text-align: left\">Note:</td>\n",
       " <td colspan=\"3\" style=\"text-align: right\">\n",
       "  <sup>*</sup>p&lt;0.1;\n",
       "  <sup>**</sup>p&lt;0.05;\n",
       "  <sup>***</sup>p&lt;0.01\n",
       " </td></tr></table>"
      ],
      "text/plain": [
       "<IPython.core.display.HTML object>"
      ]
     },
     "execution_count": 10,
     "metadata": {},
     "output_type": "execute_result"
    }
   ],
   "source": [
    "stargazer = Stargazer([ols1, ols2, ols3])\n",
    "stargazer.rename_covariates({\"Intercept\": \"Constant\"})\n",
    "stargazer.covariate_order([x_var,\"Intercept\"])\n",
    "stargazer.significant_digits(2)\n",
    "stargazer.custom_columns(\n",
    "    [\"No confounders\", \"With confounders\", \"With confounders interacted\"],\n",
    "    [1, 1, 1],\n",
    ")\n",
    "stargazer.show_model_numbers(False)\n",
    "HTML(stargazer.render_html())"
   ]
  },
  {
   "cell_type": "code",
   "execution_count": 11,
   "metadata": {},
   "outputs": [
    {
     "data": {
      "text/plain": [
       "count    8439.000000\n",
       "mean        2.881352\n",
       "std         0.636060\n",
       "min         1.055556\n",
       "25%         2.444444\n",
       "50%         2.888889\n",
       "75%         3.333333\n",
       "max         4.888889\n",
       "Name: management, dtype: float64"
      ]
     },
     "execution_count": 11,
     "metadata": {},
     "output_type": "execute_result"
    }
   ],
   "source": [
    "data[\"management\"].describe()"
   ]
  },
  {
   "cell_type": "code",
   "execution_count": 12,
   "metadata": {},
   "outputs": [],
   "source": [
    "data[\"empbin5\"] = pd.cut(\n",
    "    data[\"emp_firm\"],\n",
    "    bins=data[\"emp_firm\"].quantile(np.arange(0, 1.01, 0.2)),\n",
    "    include_lowest=True,\n",
    "    right=False,\n",
    ")\n",
    "data[\"agecat\"] = (\n",
    "    (data[\"age_young\"] == True)\n",
    "    + 2 * (data[\"age_mid\"] == True)\n",
    "    + 3 * (data[\"age_old\"] == True)\n",
    "    + 4 * (data[\"age_unknown\"] == True)\n",
    ")"
   ]
  },
  {
   "cell_type": "code",
   "execution_count": 13,
   "metadata": {},
   "outputs": [],
   "source": [
    "def functions_for_groupby(x):\n",
    "    d = {}\n",
    "    d[\"n\"] = x[\"foundfam_owned\"].count()\n",
    "    d[\"n0\"] = sum(1 - x[\"foundfam_owned\"])\n",
    "    d[\"n1\"] = sum(x[\"foundfam_owned\"])\n",
    "    d[\"y0\"] = sum(x[\"management\"] * (x[\"foundfam_owned\"] == 0))\n",
    "    d[\"y1\"] = sum(x[\"management\"] * (x[\"foundfam_owned\"] == 1))\n",
    "    return pd.Series(d, index=[\"n\", \"n0\", \"n1\", \"y0\", \"y1\"])"
   ]
  },
  {
   "cell_type": "code",
   "execution_count": 14,
   "metadata": {},
   "outputs": [],
   "source": [
    "data_agg = (\n",
    "    data.groupby(\n",
    "        [\n",
    "            \"degree_nm_bins\",\n",
    "            \"agecat\",\n",
    "            \"competition\",\n",
    "            \"empbin5\",\n",
    "            \"industry\",\n",
    "            \"countrycode\",\n",
    "        ]\n",
    "    )\n",
    "    .apply(functions_for_groupby)\n",
    "    .reset_index()\n",
    ")\n",
    "\n",
    "data_agg = data_agg.loc[data_agg[\"n\"].notnull()]\n",
    "data_agg[\"y0\"] = data_agg[\"y0\"] / data_agg[\"n0\"]\n",
    "data_agg[\"y1\"] = data_agg[\"y1\"] / data_agg[\"n1\"]"
   ]
  },
  {
   "cell_type": "code",
   "execution_count": 15,
   "metadata": {},
   "outputs": [
    {
     "data": {
      "text/plain": [
       "n0==0             2886\n",
       "n1==0             3605\n",
       "n0!=0 & n1!=0      462\n",
       "dtype: int64"
      ]
     },
     "execution_count": 15,
     "metadata": {},
     "output_type": "execute_result"
    }
   ],
   "source": [
    "# firms with/without exact match\n",
    "pd.Series(\n",
    "    {\n",
    "        \"n0==0\": data_agg.loc[lambda x: x[\"n0\"] == 0].shape[0],\n",
    "        \"n1==0\": data_agg.loc[lambda x: x[\"n1\"] == 0].shape[0],\n",
    "        \"n0!=0 & n1!=0 \": data_agg.loc[lambda x: (x[\"n0\"] != 0) & (x[\"n1\"] != 0)].shape[\n",
    "            0\n",
    "        ],\n",
    "    }\n",
    ")"
   ]
  },
  {
   "cell_type": "code",
   "execution_count": 16,
   "metadata": {},
   "outputs": [],
   "source": [
    "# random order just for the examples"
   ]
  },
  {
   "cell_type": "code",
   "execution_count": 17,
   "metadata": {},
   "outputs": [],
   "source": [
    "np.random.seed(123)\n",
    "data_sample = data_agg.sample(n=340)[\n",
    "    [\n",
    "        \"industry\",\n",
    "        \"countrycode\",\n",
    "        \"degree_nm_bins\",\n",
    "        \"competition\",\n",
    "        \"agecat\",\n",
    "        \"empbin5\",\n",
    "        \"n1\",\n",
    "        \"n0\",\n",
    "        \"n\",\n",
    "    ]\n",
    "]"
   ]
  },
  {
   "cell_type": "code",
   "execution_count": 18,
   "metadata": {},
   "outputs": [
    {
     "data": {
      "text/html": [
       "<div>\n",
       "<style scoped>\n",
       "    .dataframe tbody tr th:only-of-type {\n",
       "        vertical-align: middle;\n",
       "    }\n",
       "\n",
       "    .dataframe tbody tr th {\n",
       "        vertical-align: top;\n",
       "    }\n",
       "\n",
       "    .dataframe thead th {\n",
       "        text-align: right;\n",
       "    }\n",
       "</style>\n",
       "<table border=\"1\" class=\"dataframe\">\n",
       "  <thead>\n",
       "    <tr style=\"text-align: right;\">\n",
       "      <th></th>\n",
       "      <th>industry</th>\n",
       "      <th>countrycode</th>\n",
       "      <th>degree_nm_bins</th>\n",
       "      <th>competition</th>\n",
       "      <th>agecat</th>\n",
       "      <th>empbin5</th>\n",
       "      <th>n1</th>\n",
       "      <th>n0</th>\n",
       "      <th>n</th>\n",
       "    </tr>\n",
       "  </thead>\n",
       "  <tbody>\n",
       "    <tr>\n",
       "      <th>14092</th>\n",
       "      <td>ind_machinery</td>\n",
       "      <td>cl</td>\n",
       "      <td>[0,0.001)</td>\n",
       "      <td>1-4 competitors</td>\n",
       "      <td>2</td>\n",
       "      <td>[760.0, 5000.0)</td>\n",
       "      <td>1.0</td>\n",
       "      <td>0.0</td>\n",
       "      <td>1.0</td>\n",
       "    </tr>\n",
       "    <tr>\n",
       "      <th>121450</th>\n",
       "      <td>apparel</td>\n",
       "      <td>gr</td>\n",
       "      <td>[0.2,1.01)</td>\n",
       "      <td>10+ competitors</td>\n",
       "      <td>1</td>\n",
       "      <td>[348.8, 760.0)</td>\n",
       "      <td>1.0</td>\n",
       "      <td>0.0</td>\n",
       "      <td>1.0</td>\n",
       "    </tr>\n",
       "    <tr>\n",
       "      <th>120175</th>\n",
       "      <td>ind_machinery</td>\n",
       "      <td>fr</td>\n",
       "      <td>[0.2,1.01)</td>\n",
       "      <td>10+ competitors</td>\n",
       "      <td>1</td>\n",
       "      <td>[50.0, 120.0)</td>\n",
       "      <td>1.0</td>\n",
       "      <td>0.0</td>\n",
       "      <td>1.0</td>\n",
       "    </tr>\n",
       "    <tr>\n",
       "      <th>45127</th>\n",
       "      <td>apparel</td>\n",
       "      <td>fr</td>\n",
       "      <td>[0.001,0.05)</td>\n",
       "      <td>10+ competitors</td>\n",
       "      <td>1</td>\n",
       "      <td>[760.0, 5000.0)</td>\n",
       "      <td>1.0</td>\n",
       "      <td>0.0</td>\n",
       "      <td>1.0</td>\n",
       "    </tr>\n",
       "    <tr>\n",
       "      <th>57168</th>\n",
       "      <td>electronic</td>\n",
       "      <td>ar</td>\n",
       "      <td>[0.001,0.05)</td>\n",
       "      <td>5-9 competitors</td>\n",
       "      <td>2</td>\n",
       "      <td>[760.0, 5000.0)</td>\n",
       "      <td>1.0</td>\n",
       "      <td>0.0</td>\n",
       "      <td>1.0</td>\n",
       "    </tr>\n",
       "    <tr>\n",
       "      <th>129851</th>\n",
       "      <td>lumber</td>\n",
       "      <td>in</td>\n",
       "      <td>[0.2,1.01)</td>\n",
       "      <td>10+ competitors</td>\n",
       "      <td>2</td>\n",
       "      <td>[50.0, 120.0)</td>\n",
       "      <td>1.0</td>\n",
       "      <td>0.0</td>\n",
       "      <td>1.0</td>\n",
       "    </tr>\n",
       "    <tr>\n",
       "      <th>118623</th>\n",
       "      <td>electronic</td>\n",
       "      <td>mx</td>\n",
       "      <td>[0.2,1.01)</td>\n",
       "      <td>1-4 competitors</td>\n",
       "      <td>1</td>\n",
       "      <td>[200.0, 348.8)</td>\n",
       "      <td>1.0</td>\n",
       "      <td>0.0</td>\n",
       "      <td>1.0</td>\n",
       "    </tr>\n",
       "    <tr>\n",
       "      <th>53690</th>\n",
       "      <td>textile</td>\n",
       "      <td>br</td>\n",
       "      <td>[0.001,0.05)</td>\n",
       "      <td>10+ competitors</td>\n",
       "      <td>2</td>\n",
       "      <td>[120.0, 200.0)</td>\n",
       "      <td>1.0</td>\n",
       "      <td>0.0</td>\n",
       "      <td>1.0</td>\n",
       "    </tr>\n",
       "  </tbody>\n",
       "</table>\n",
       "</div>"
      ],
      "text/plain": [
       "             industry countrycode degree_nm_bins      competition  agecat  \\\n",
       "14092   ind_machinery          cl      [0,0.001)  1-4 competitors       2   \n",
       "121450        apparel          gr     [0.2,1.01)  10+ competitors       1   \n",
       "120175  ind_machinery          fr     [0.2,1.01)  10+ competitors       1   \n",
       "45127         apparel          fr   [0.001,0.05)  10+ competitors       1   \n",
       "57168      electronic          ar   [0.001,0.05)  5-9 competitors       2   \n",
       "129851         lumber          in     [0.2,1.01)  10+ competitors       2   \n",
       "118623     electronic          mx     [0.2,1.01)  1-4 competitors       1   \n",
       "53690         textile          br   [0.001,0.05)  10+ competitors       2   \n",
       "\n",
       "                empbin5   n1   n0    n  \n",
       "14092   [760.0, 5000.0)  1.0  0.0  1.0  \n",
       "121450   [348.8, 760.0)  1.0  0.0  1.0  \n",
       "120175    [50.0, 120.0)  1.0  0.0  1.0  \n",
       "45127   [760.0, 5000.0)  1.0  0.0  1.0  \n",
       "57168   [760.0, 5000.0)  1.0  0.0  1.0  \n",
       "129851    [50.0, 120.0)  1.0  0.0  1.0  \n",
       "118623   [200.0, 348.8)  1.0  0.0  1.0  \n",
       "53690    [120.0, 200.0)  1.0  0.0  1.0  "
      ]
     },
     "execution_count": 18,
     "metadata": {},
     "output_type": "execute_result"
    }
   ],
   "source": [
    "# examples with founder/family only\n",
    "data_sample.loc[lambda x: (x[\"n1\"] == 1) & (x[\"n0\"] == 0)].head(8)"
   ]
  },
  {
   "cell_type": "code",
   "execution_count": 19,
   "metadata": {},
   "outputs": [
    {
     "data": {
      "text/html": [
       "<div>\n",
       "<style scoped>\n",
       "    .dataframe tbody tr th:only-of-type {\n",
       "        vertical-align: middle;\n",
       "    }\n",
       "\n",
       "    .dataframe tbody tr th {\n",
       "        vertical-align: top;\n",
       "    }\n",
       "\n",
       "    .dataframe thead th {\n",
       "        text-align: right;\n",
       "    }\n",
       "</style>\n",
       "<table border=\"1\" class=\"dataframe\">\n",
       "  <thead>\n",
       "    <tr style=\"text-align: right;\">\n",
       "      <th></th>\n",
       "      <th>industry</th>\n",
       "      <th>countrycode</th>\n",
       "      <th>degree_nm_bins</th>\n",
       "      <th>competition</th>\n",
       "      <th>agecat</th>\n",
       "      <th>empbin5</th>\n",
       "      <th>n1</th>\n",
       "      <th>n0</th>\n",
       "      <th>n</th>\n",
       "    </tr>\n",
       "  </thead>\n",
       "  <tbody>\n",
       "    <tr>\n",
       "      <th>111749</th>\n",
       "      <td>rubber</td>\n",
       "      <td>cn</td>\n",
       "      <td>[0.05,0.2)</td>\n",
       "      <td>10+ competitors</td>\n",
       "      <td>4</td>\n",
       "      <td>[200.0, 348.8)</td>\n",
       "      <td>0.0</td>\n",
       "      <td>1.0</td>\n",
       "      <td>1.0</td>\n",
       "    </tr>\n",
       "    <tr>\n",
       "      <th>7592</th>\n",
       "      <td>rubber</td>\n",
       "      <td>gb</td>\n",
       "      <td>[0,0.001)</td>\n",
       "      <td>5-9 competitors</td>\n",
       "      <td>1</td>\n",
       "      <td>[50.0, 120.0)</td>\n",
       "      <td>0.0</td>\n",
       "      <td>1.0</td>\n",
       "      <td>1.0</td>\n",
       "    </tr>\n",
       "    <tr>\n",
       "      <th>88849</th>\n",
       "      <td>electronic</td>\n",
       "      <td>au</td>\n",
       "      <td>[0.05,0.2)</td>\n",
       "      <td>1-4 competitors</td>\n",
       "      <td>2</td>\n",
       "      <td>[50.0, 120.0)</td>\n",
       "      <td>0.0</td>\n",
       "      <td>1.0</td>\n",
       "      <td>1.0</td>\n",
       "    </tr>\n",
       "    <tr>\n",
       "      <th>25441</th>\n",
       "      <td>apparel</td>\n",
       "      <td>au</td>\n",
       "      <td>[0,0.001)</td>\n",
       "      <td>10+ competitors</td>\n",
       "      <td>3</td>\n",
       "      <td>[348.8, 760.0)</td>\n",
       "      <td>0.0</td>\n",
       "      <td>1.0</td>\n",
       "      <td>1.0</td>\n",
       "    </tr>\n",
       "    <tr>\n",
       "      <th>25137</th>\n",
       "      <td>ind_machinery</td>\n",
       "      <td>ge</td>\n",
       "      <td>[0,0.001)</td>\n",
       "      <td>10+ competitors</td>\n",
       "      <td>3</td>\n",
       "      <td>[200.0, 348.8)</td>\n",
       "      <td>0.0</td>\n",
       "      <td>1.0</td>\n",
       "      <td>1.0</td>\n",
       "    </tr>\n",
       "    <tr>\n",
       "      <th>131192</th>\n",
       "      <td>glass</td>\n",
       "      <td>gb</td>\n",
       "      <td>[0.2,1.01)</td>\n",
       "      <td>10+ competitors</td>\n",
       "      <td>2</td>\n",
       "      <td>[348.8, 760.0)</td>\n",
       "      <td>0.0</td>\n",
       "      <td>1.0</td>\n",
       "      <td>1.0</td>\n",
       "    </tr>\n",
       "    <tr>\n",
       "      <th>79749</th>\n",
       "      <td>electronic</td>\n",
       "      <td>sw</td>\n",
       "      <td>[0.05,0.2)</td>\n",
       "      <td>1-4 competitors</td>\n",
       "      <td>1</td>\n",
       "      <td>[120.0, 200.0)</td>\n",
       "      <td>0.0</td>\n",
       "      <td>1.0</td>\n",
       "      <td>1.0</td>\n",
       "    </tr>\n",
       "    <tr>\n",
       "      <th>138266</th>\n",
       "      <td>chemical</td>\n",
       "      <td>br</td>\n",
       "      <td>[0.2,1.01)</td>\n",
       "      <td>1-4 competitors</td>\n",
       "      <td>3</td>\n",
       "      <td>[348.8, 760.0)</td>\n",
       "      <td>0.0</td>\n",
       "      <td>1.0</td>\n",
       "      <td>1.0</td>\n",
       "    </tr>\n",
       "  </tbody>\n",
       "</table>\n",
       "</div>"
      ],
      "text/plain": [
       "             industry countrycode degree_nm_bins      competition  agecat  \\\n",
       "111749         rubber          cn     [0.05,0.2)  10+ competitors       4   \n",
       "7592           rubber          gb      [0,0.001)  5-9 competitors       1   \n",
       "88849      electronic          au     [0.05,0.2)  1-4 competitors       2   \n",
       "25441         apparel          au      [0,0.001)  10+ competitors       3   \n",
       "25137   ind_machinery          ge      [0,0.001)  10+ competitors       3   \n",
       "131192          glass          gb     [0.2,1.01)  10+ competitors       2   \n",
       "79749      electronic          sw     [0.05,0.2)  1-4 competitors       1   \n",
       "138266       chemical          br     [0.2,1.01)  1-4 competitors       3   \n",
       "\n",
       "               empbin5   n1   n0    n  \n",
       "111749  [200.0, 348.8)  0.0  1.0  1.0  \n",
       "7592     [50.0, 120.0)  0.0  1.0  1.0  \n",
       "88849    [50.0, 120.0)  0.0  1.0  1.0  \n",
       "25441   [348.8, 760.0)  0.0  1.0  1.0  \n",
       "25137   [200.0, 348.8)  0.0  1.0  1.0  \n",
       "131192  [348.8, 760.0)  0.0  1.0  1.0  \n",
       "79749   [120.0, 200.0)  0.0  1.0  1.0  \n",
       "138266  [348.8, 760.0)  0.0  1.0  1.0  "
      ]
     },
     "execution_count": 19,
     "metadata": {},
     "output_type": "execute_result"
    }
   ],
   "source": [
    "# examples with other only:\n",
    "data_sample.loc[lambda x: (x[\"n1\"] == 0) & (x[\"n0\"] == 1)].head(8)"
   ]
  },
  {
   "cell_type": "code",
   "execution_count": 20,
   "metadata": {},
   "outputs": [
    {
     "data": {
      "text/html": [
       "<div>\n",
       "<style scoped>\n",
       "    .dataframe tbody tr th:only-of-type {\n",
       "        vertical-align: middle;\n",
       "    }\n",
       "\n",
       "    .dataframe tbody tr th {\n",
       "        vertical-align: top;\n",
       "    }\n",
       "\n",
       "    .dataframe thead th {\n",
       "        text-align: right;\n",
       "    }\n",
       "</style>\n",
       "<table border=\"1\" class=\"dataframe\">\n",
       "  <thead>\n",
       "    <tr style=\"text-align: right;\">\n",
       "      <th></th>\n",
       "      <th>industry</th>\n",
       "      <th>countrycode</th>\n",
       "      <th>degree_nm_bins</th>\n",
       "      <th>competition</th>\n",
       "      <th>agecat</th>\n",
       "      <th>empbin5</th>\n",
       "      <th>n1</th>\n",
       "      <th>n0</th>\n",
       "      <th>n</th>\n",
       "    </tr>\n",
       "  </thead>\n",
       "  <tbody>\n",
       "    <tr>\n",
       "      <th>74999</th>\n",
       "      <td>food</td>\n",
       "      <td>us</td>\n",
       "      <td>[0.001,0.05)</td>\n",
       "      <td>5-9 competitors</td>\n",
       "      <td>4</td>\n",
       "      <td>[120.0, 200.0)</td>\n",
       "      <td>1.0</td>\n",
       "      <td>0.0</td>\n",
       "      <td>1.0</td>\n",
       "    </tr>\n",
       "  </tbody>\n",
       "</table>\n",
       "</div>"
      ],
      "text/plain": [
       "      industry countrycode degree_nm_bins      competition  agecat  \\\n",
       "74999     food          us   [0.001,0.05)  5-9 competitors       4   \n",
       "\n",
       "              empbin5   n1   n0    n  \n",
       "74999  [120.0, 200.0)  1.0  0.0  1.0  "
      ]
     },
     "execution_count": 20,
     "metadata": {},
     "output_type": "execute_result"
    }
   ],
   "source": [
    "# examples of similar firms unmatched\n",
    "data_sample.loc[\n",
    "    lambda x: (x[\"countrycode\"] == \"us\") & (x[\"industry\"] == \"food\") & (x[\"n\"] == 1)\n",
    "]"
   ]
  },
  {
   "cell_type": "code",
   "execution_count": 21,
   "metadata": {},
   "outputs": [
    {
     "data": {
      "text/html": [
       "<div>\n",
       "<style scoped>\n",
       "    .dataframe tbody tr th:only-of-type {\n",
       "        vertical-align: middle;\n",
       "    }\n",
       "\n",
       "    .dataframe tbody tr th {\n",
       "        vertical-align: top;\n",
       "    }\n",
       "\n",
       "    .dataframe thead th {\n",
       "        text-align: right;\n",
       "    }\n",
       "</style>\n",
       "<table border=\"1\" class=\"dataframe\">\n",
       "  <thead>\n",
       "    <tr style=\"text-align: right;\">\n",
       "      <th></th>\n",
       "      <th>0</th>\n",
       "    </tr>\n",
       "  </thead>\n",
       "  <tbody>\n",
       "    <tr>\n",
       "      <th>ATE</th>\n",
       "      <td>-0.157672</td>\n",
       "    </tr>\n",
       "    <tr>\n",
       "      <th>ATET</th>\n",
       "      <td>-0.147158</td>\n",
       "    </tr>\n",
       "  </tbody>\n",
       "</table>\n",
       "</div>"
      ],
      "text/plain": [
       "             0\n",
       "ATE  -0.157672\n",
       "ATET -0.147158"
      ]
     },
     "execution_count": 21,
     "metadata": {},
     "output_type": "execute_result"
    }
   ],
   "source": [
    "# ATE/ATET by exact matching:\n",
    "data_agg[\"y1-y0\"] = data_agg[\"y1\"] - data_agg[\"y0\"]\n",
    "pd.DataFrame.from_dict(\n",
    "    {\n",
    "        \"ATE\": np.average(\n",
    "            data_agg.loc[lambda x: (x[\"n0\"] > 0) & (x[\"n1\"] > 0), \"y1-y0\"],\n",
    "            weights=data_agg.loc[lambda x: (x[\"n0\"] > 0) & (x[\"n1\"] > 0), \"n\"],\n",
    "        ),\n",
    "        \"ATET\": np.average(\n",
    "            data_agg.loc[lambda x: (x[\"n0\"] > 0) & (x[\"n1\"] > 0), \"y1-y0\"],\n",
    "            weights=data_agg.loc[lambda x: (x[\"n0\"] > 0) & (x[\"n1\"] > 0), \"n1\"],\n",
    "        ),\n",
    "    },\n",
    "    orient=\"index\",\n",
    ")"
   ]
  },
  {
   "cell_type": "markdown",
   "metadata": {},
   "source": [
    "## Matching on the propensity score "
   ]
  },
  {
   "cell_type": "code",
   "execution_count": 22,
   "metadata": {},
   "outputs": [],
   "source": [
    "data_pscore = data[[y_var] + [x_var] + control_vars + control_vars_to_interact].dropna()"
   ]
  },
  {
   "cell_type": "code",
   "execution_count": 23,
   "metadata": {},
   "outputs": [],
   "source": [
    "formula_pscore1 = x_var + \"~\" + \"+\".join(control_vars + control_vars_to_interact)"
   ]
  },
  {
   "cell_type": "code",
   "execution_count": 24,
   "metadata": {},
   "outputs": [
    {
     "name": "stdout",
     "output_type": "stream",
     "text": [
      "Optimization terminated successfully.\n",
      "         Current function value: 0.593408\n",
      "         Iterations 6\n"
     ]
    }
   ],
   "source": [
    "log_reg_model = smf.logit(formula=formula_pscore1, data=data_pscore)\n",
    "log_reg = log_reg_model.fit()"
   ]
  },
  {
   "cell_type": "code",
   "execution_count": 25,
   "metadata": {},
   "outputs": [],
   "source": [
    "data_pscore[\"pscore\"] = log_reg.predict()"
   ]
  },
  {
   "cell_type": "code",
   "execution_count": 26,
   "metadata": {},
   "outputs": [],
   "source": [
    "def get_pscore_matched(data, variable=\"foundfam_owned\"):\n",
    "    \"\"\"\n",
    "    This function performs Single Nearest Neighbor search on the estimated\n",
    "    propensity score to find matches to the treated sample.\n",
    "\n",
    "    \"\"\"\n",
    "\n",
    "    # get treatment and control group's estimated pscore\n",
    "    x_1_pscore = data.loc[lambda x: x[variable] == 1, \"pscore\"].values\n",
    "    x_0_pscore = data.loc[lambda x: x[variable] == 0, \"pscore\"].values\n",
    "\n",
    "    # this is the NN model, n_neighbors set to 1 to find the closest neightbor\n",
    "    knn = NearestNeighbors(n_neighbors=1, metric=\"euclidean\", n_jobs=1)\n",
    "\n",
    "    # fit the model on control (x=0)\n",
    "    knn.fit(x_0_pscore.reshape(-1, 1))\n",
    "\n",
    "    # find nearest controls (x=0) to the treated group (x=1)\n",
    "    indices = knn.kneighbors(x_1_pscore.reshape(-1, 1), return_distance=False)\n",
    "\n",
    "    x_1 = data[lambda x: x[variable] == 1]\n",
    "\n",
    "    x_0_matched = (\n",
    "        pd.DataFrame(indices)\n",
    "        .merge(\n",
    "            data.loc[lambda x: x[variable] == 0].reset_index(drop=True).reset_index(),\n",
    "            left_on=0,\n",
    "            right_on=\"index\",\n",
    "            how=\"left\",\n",
    "        )\n",
    "        .drop(columns=[0, \"index\"])\n",
    "    )\n",
    "\n",
    "    data_matched = pd.concat([x_1, x_0_matched], axis=0)\n",
    "\n",
    "    return data_matched"
   ]
  },
  {
   "cell_type": "code",
   "execution_count": 27,
   "metadata": {},
   "outputs": [
    {
     "data": {
      "text/html": [
       "<table class=\"simpletable\">\n",
       "<caption>OLS Regression Results</caption>\n",
       "<tr>\n",
       "  <th>Dep. Variable:</th>       <td>management</td>    <th>  R-squared:         </th> <td>   0.024</td> \n",
       "</tr>\n",
       "<tr>\n",
       "  <th>Model:</th>                   <td>OLS</td>       <th>  Adj. R-squared:    </th> <td>   0.024</td> \n",
       "</tr>\n",
       "<tr>\n",
       "  <th>Method:</th>             <td>Least Squares</td>  <th>  F-statistic:       </th> <td>   192.1</td> \n",
       "</tr>\n",
       "<tr>\n",
       "  <th>Date:</th>             <td>Sat, 08 May 2021</td> <th>  Prob (F-statistic):</th> <td>3.63e-43</td> \n",
       "</tr>\n",
       "<tr>\n",
       "  <th>Time:</th>                 <td>18:26:00</td>     <th>  Log-Likelihood:    </th> <td> -7191.8</td> \n",
       "</tr>\n",
       "<tr>\n",
       "  <th>No. Observations:</th>      <td>  7658</td>      <th>  AIC:               </th> <td>1.439e+04</td>\n",
       "</tr>\n",
       "<tr>\n",
       "  <th>Df Residuals:</th>          <td>  7656</td>      <th>  BIC:               </th> <td>1.440e+04</td>\n",
       "</tr>\n",
       "<tr>\n",
       "  <th>Df Model:</th>              <td>     1</td>      <th>                     </th>     <td> </td>    \n",
       "</tr>\n",
       "<tr>\n",
       "  <th>Covariance Type:</th>      <td>nonrobust</td>    <th>                     </th>     <td> </td>    \n",
       "</tr>\n",
       "</table>\n",
       "<table class=\"simpletable\">\n",
       "<tr>\n",
       "         <td></td>           <th>coef</th>     <th>std err</th>      <th>t</th>      <th>P>|t|</th>  <th>[0.025</th>    <th>0.975]</th>  \n",
       "</tr>\n",
       "<tr>\n",
       "  <th>Intercept</th>      <td>    2.8777</td> <td>    0.010</td> <td>  287.682</td> <td> 0.000</td> <td>    2.858</td> <td>    2.897</td>\n",
       "</tr>\n",
       "<tr>\n",
       "  <th>foundfam_owned</th> <td>   -0.1961</td> <td>    0.014</td> <td>  -13.861</td> <td> 0.000</td> <td>   -0.224</td> <td>   -0.168</td>\n",
       "</tr>\n",
       "</table>\n",
       "<table class=\"simpletable\">\n",
       "<tr>\n",
       "  <th>Omnibus:</th>       <td>10.209</td> <th>  Durbin-Watson:     </th> <td>   1.809</td>\n",
       "</tr>\n",
       "<tr>\n",
       "  <th>Prob(Omnibus):</th> <td> 0.006</td> <th>  Jarque-Bera (JB):  </th> <td>   9.005</td>\n",
       "</tr>\n",
       "<tr>\n",
       "  <th>Skew:</th>          <td> 0.029</td> <th>  Prob(JB):          </th> <td>  0.0111</td>\n",
       "</tr>\n",
       "<tr>\n",
       "  <th>Kurtosis:</th>      <td> 2.842</td> <th>  Cond. No.          </th> <td>    2.62</td>\n",
       "</tr>\n",
       "</table><br/><br/>Notes:<br/>[1] Standard Errors assume that the covariance matrix of the errors is correctly specified."
      ],
      "text/plain": [
       "<class 'statsmodels.iolib.summary.Summary'>\n",
       "\"\"\"\n",
       "                            OLS Regression Results                            \n",
       "==============================================================================\n",
       "Dep. Variable:             management   R-squared:                       0.024\n",
       "Model:                            OLS   Adj. R-squared:                  0.024\n",
       "Method:                 Least Squares   F-statistic:                     192.1\n",
       "Date:                Sat, 08 May 2021   Prob (F-statistic):           3.63e-43\n",
       "Time:                        18:26:00   Log-Likelihood:                -7191.8\n",
       "No. Observations:                7658   AIC:                         1.439e+04\n",
       "Df Residuals:                    7656   BIC:                         1.440e+04\n",
       "Df Model:                           1                                         \n",
       "Covariance Type:            nonrobust                                         \n",
       "==================================================================================\n",
       "                     coef    std err          t      P>|t|      [0.025      0.975]\n",
       "----------------------------------------------------------------------------------\n",
       "Intercept          2.8777      0.010    287.682      0.000       2.858       2.897\n",
       "foundfam_owned    -0.1961      0.014    -13.861      0.000      -0.224      -0.168\n",
       "==============================================================================\n",
       "Omnibus:                       10.209   Durbin-Watson:                   1.809\n",
       "Prob(Omnibus):                  0.006   Jarque-Bera (JB):                9.005\n",
       "Skew:                           0.029   Prob(JB):                       0.0111\n",
       "Kurtosis:                       2.842   Cond. No.                         2.62\n",
       "==============================================================================\n",
       "\n",
       "Notes:\n",
       "[1] Standard Errors assume that the covariance matrix of the errors is correctly specified.\n",
       "\"\"\""
      ]
     },
     "execution_count": 27,
     "metadata": {},
     "output_type": "execute_result"
    }
   ],
   "source": [
    "data_matched = get_pscore_matched(data_pscore,\"foundfam_owned\")\n",
    "\n",
    "reg_match = smf.ols(formula=\"management~foundfam_owned\", data=data_matched).fit()\n",
    "reg_match.summary()"
   ]
  },
  {
   "cell_type": "code",
   "execution_count": 28,
   "metadata": {},
   "outputs": [],
   "source": [
    "formula_pscore2 = (\n",
    "    x_var\n",
    "    + \" ~ \"\n",
    "    + \":\".join(control_vars_to_interact)\n",
    "    + \"+(\"\n",
    "    + \"+\".join(control_vars)\n",
    "    + \")*(\"\n",
    "    + \"+\".join(control_vars_to_interact)\n",
    "    + \")\"\n",
    ")"
   ]
  },
  {
   "cell_type": "code",
   "execution_count": 29,
   "metadata": {},
   "outputs": [
    {
     "name": "stdout",
     "output_type": "stream",
     "text": [
      "Optimization terminated successfully.\n",
      "         Current function value: 0.529673\n",
      "         Iterations: 24\n",
      "         Function evaluations: 25\n",
      "         Gradient evaluations: 25\n",
      "         Hessian evaluations: 24\n"
     ]
    }
   ],
   "source": [
    "logit_model_2 = smf.logit(formula=formula_pscore2, data=data_pscore)\n",
    "log_reg2 = logit_model_2.fit(method=\"ncg\")"
   ]
  },
  {
   "cell_type": "code",
   "execution_count": 30,
   "metadata": {},
   "outputs": [],
   "source": [
    "data_pscore[\"pscore\"] = log_reg2.predict()\n",
    "\n",
    "data_matched_2 = get_pscore_matched(data_pscore,\"foundfam_owned\")"
   ]
  },
  {
   "cell_type": "code",
   "execution_count": 31,
   "metadata": {},
   "outputs": [
    {
     "data": {
      "text/html": [
       "<table class=\"simpletable\">\n",
       "<caption>OLS Regression Results</caption>\n",
       "<tr>\n",
       "  <th>Dep. Variable:</th>       <td>management</td>    <th>  R-squared:         </th> <td>   0.028</td> \n",
       "</tr>\n",
       "<tr>\n",
       "  <th>Model:</th>                   <td>OLS</td>       <th>  Adj. R-squared:    </th> <td>   0.028</td> \n",
       "</tr>\n",
       "<tr>\n",
       "  <th>Method:</th>             <td>Least Squares</td>  <th>  F-statistic:       </th> <td>   221.8</td> \n",
       "</tr>\n",
       "<tr>\n",
       "  <th>Date:</th>             <td>Sat, 08 May 2021</td> <th>  Prob (F-statistic):</th> <td>1.80e-49</td> \n",
       "</tr>\n",
       "<tr>\n",
       "  <th>Time:</th>                 <td>18:26:34</td>     <th>  Log-Likelihood:    </th> <td> -7054.7</td> \n",
       "</tr>\n",
       "<tr>\n",
       "  <th>No. Observations:</th>      <td>  7658</td>      <th>  AIC:               </th> <td>1.411e+04</td>\n",
       "</tr>\n",
       "<tr>\n",
       "  <th>Df Residuals:</th>          <td>  7656</td>      <th>  BIC:               </th> <td>1.413e+04</td>\n",
       "</tr>\n",
       "<tr>\n",
       "  <th>Df Model:</th>              <td>     1</td>      <th>                     </th>     <td> </td>    \n",
       "</tr>\n",
       "<tr>\n",
       "  <th>Covariance Type:</th>      <td>nonrobust</td>    <th>                     </th>     <td> </td>    \n",
       "</tr>\n",
       "</table>\n",
       "<table class=\"simpletable\">\n",
       "<tr>\n",
       "         <td></td>           <th>coef</th>     <th>std err</th>      <th>t</th>      <th>P>|t|</th>  <th>[0.025</th>    <th>0.975]</th>  \n",
       "</tr>\n",
       "<tr>\n",
       "  <th>Intercept</th>      <td>    2.8885</td> <td>    0.010</td> <td>  293.983</td> <td> 0.000</td> <td>    2.869</td> <td>    2.908</td>\n",
       "</tr>\n",
       "<tr>\n",
       "  <th>foundfam_owned</th> <td>   -0.2069</td> <td>    0.014</td> <td>  -14.893</td> <td> 0.000</td> <td>   -0.234</td> <td>   -0.180</td>\n",
       "</tr>\n",
       "</table>\n",
       "<table class=\"simpletable\">\n",
       "<tr>\n",
       "  <th>Omnibus:</th>       <td>26.801</td> <th>  Durbin-Watson:     </th> <td>   1.859</td>\n",
       "</tr>\n",
       "<tr>\n",
       "  <th>Prob(Omnibus):</th> <td> 0.000</td> <th>  Jarque-Bera (JB):  </th> <td>  24.345</td>\n",
       "</tr>\n",
       "<tr>\n",
       "  <th>Skew:</th>          <td> 0.098</td> <th>  Prob(JB):          </th> <td>5.17e-06</td>\n",
       "</tr>\n",
       "<tr>\n",
       "  <th>Kurtosis:</th>      <td> 2.806</td> <th>  Cond. No.          </th> <td>    2.62</td>\n",
       "</tr>\n",
       "</table><br/><br/>Notes:<br/>[1] Standard Errors assume that the covariance matrix of the errors is correctly specified."
      ],
      "text/plain": [
       "<class 'statsmodels.iolib.summary.Summary'>\n",
       "\"\"\"\n",
       "                            OLS Regression Results                            \n",
       "==============================================================================\n",
       "Dep. Variable:             management   R-squared:                       0.028\n",
       "Model:                            OLS   Adj. R-squared:                  0.028\n",
       "Method:                 Least Squares   F-statistic:                     221.8\n",
       "Date:                Sat, 08 May 2021   Prob (F-statistic):           1.80e-49\n",
       "Time:                        18:26:34   Log-Likelihood:                -7054.7\n",
       "No. Observations:                7658   AIC:                         1.411e+04\n",
       "Df Residuals:                    7656   BIC:                         1.413e+04\n",
       "Df Model:                           1                                         \n",
       "Covariance Type:            nonrobust                                         \n",
       "==================================================================================\n",
       "                     coef    std err          t      P>|t|      [0.025      0.975]\n",
       "----------------------------------------------------------------------------------\n",
       "Intercept          2.8885      0.010    293.983      0.000       2.869       2.908\n",
       "foundfam_owned    -0.2069      0.014    -14.893      0.000      -0.234      -0.180\n",
       "==============================================================================\n",
       "Omnibus:                       26.801   Durbin-Watson:                   1.859\n",
       "Prob(Omnibus):                  0.000   Jarque-Bera (JB):               24.345\n",
       "Skew:                           0.098   Prob(JB):                     5.17e-06\n",
       "Kurtosis:                       2.806   Cond. No.                         2.62\n",
       "==============================================================================\n",
       "\n",
       "Notes:\n",
       "[1] Standard Errors assume that the covariance matrix of the errors is correctly specified.\n",
       "\"\"\""
      ]
     },
     "execution_count": 31,
     "metadata": {},
     "output_type": "execute_result"
    }
   ],
   "source": [
    "model2 = smf.ols(formula=\"management~foundfam_owned\", data=data_matched_2)\n",
    "reg_match_2 = model2.fit()\n",
    "reg_match_2.summary()"
   ]
  },
  {
   "cell_type": "code",
   "execution_count": 32,
   "metadata": {},
   "outputs": [
    {
     "name": "stdout",
     "output_type": "stream",
     "text": [
      "\n",
      "    Note: ATE not calcuclated here.\n",
      "    \n",
      "    \n",
      "    Warning: the standard error estimates are off here because they don't factor \n",
      "    in the uncertainty due to the fac that the propensity score is an estimate \n",
      "    itself from the same sample.\n",
      "    \n",
      "    To get the correct SE estimates you would have to bootstrap the whole \n",
      "    procedure of estimating the logit and carrying out matching. We don't \n",
      "    do that in this code.\n",
      "\n"
     ]
    },
    {
     "data": {
      "text/html": [
       "<table style=\"text-align:center\"><tr><td colspan=\"3\" style=\"border-bottom: 1px solid black\"></td></tr><tr><td style=\"text-align:left\"></td><td colspan=\"2\"><em>Dependent variable:management</em></td></tr><tr><td style=\"text-align:left\"></td><tr><td></td><td colspan=\"1\">All confounders</td><td colspan=\"1\">All confounders with industry and country</td></tr><tr><td colspan=\"3\" style=\"border-bottom: 1px solid black\"></td></tr><tr><td style=\"text-align:left\">ATET estimate</td><td>-0.20<sup>***</sup></td><td>-0.21<sup>***</sup></td></tr><tr><td style=\"text-align:left\"></td><td>(0.01)</td><td>(0.01)</td></tr><tr><td style=\"text-align: left\">Number of observations used in logit</td><td>5714</td><td>5477</td></tr><td colspan=\"3\" style=\"border-bottom: 1px solid black\"></td></tr><tr><td style=\"text-align: left\">Observations</td><td>7,658</td><td>7,658</td></tr><tr><td style=\"text-align: left\">R<sup>2</sup></td><td>0.02</td><td>0.03</td></tr><tr><td style=\"text-align: left\">Adjusted R<sup>2</sup></td><td>0.02</td><td>0.03</td></tr><tr><td style=\"text-align: left\">Residual Std. Error</td><td>0.62 (df=7656)</td><td>0.61 (df=7656)</td></tr><tr><td style=\"text-align: left\">F Statistic</td><td>192.12<sup>***</sup> (df=1; 7656)</td><td>221.79<sup>***</sup> (df=1; 7656)</td></tr><tr><td colspan=\"3\" style=\"border-bottom: 1px solid black\"></td></tr><tr><td style=\"text-align: left\">Note:</td>\n",
       " <td colspan=\"2\" style=\"text-align: right\">\n",
       "  <sup>*</sup>p&lt;0.1;\n",
       "  <sup>**</sup>p&lt;0.05;\n",
       "  <sup>***</sup>p&lt;0.01\n",
       " </td></tr></table>"
      ],
      "text/plain": [
       "<stargazer.stargazer.Stargazer at 0x127f5da00>"
      ]
     },
     "execution_count": 32,
     "metadata": {},
     "output_type": "execute_result"
    }
   ],
   "source": [
    "stargazer = Stargazer([reg_match, reg_match_2])\n",
    "stargazer.rename_covariates(\n",
    "    {\"Intercept\": \"Constant\", \"foundfam_owned\": \"ATET estimate\"}\n",
    ")\n",
    "stargazer.covariate_order([x_var])\n",
    "stargazer.custom_columns(\n",
    "    [\"All confounders\", \"All confounders with industry and country\"], [1, 1]\n",
    ")\n",
    "stargazer.add_line(\n",
    "    \"Number of observations used in logit\",\n",
    "    [\n",
    "        data_matched.drop(\"pscore\", axis=1).drop_duplicates().shape[0],\n",
    "        data_matched_2.drop(\"pscore\", axis=1).drop_duplicates().shape[0],\n",
    "    ],\n",
    ")\n",
    "stargazer.significant_digits(2)\n",
    "stargazer.show_model_numbers(False)\n",
    "print(\n",
    "    \"\"\"\n",
    "    Note: ATE not calcuclated here.\n",
    "    \n",
    "    \n",
    "    Warning: the standard error estimates are off here because they don't factor \n",
    "    in the uncertainty due to the fac that the propensity score is an estimate \n",
    "    itself from the same sample.\n",
    "    \n",
    "    To get the correct SE estimates you would have to bootstrap the whole \n",
    "    procedure of estimating the logit and carrying out matching. We don't \n",
    "    do that in this code.\n",
    "\"\"\"\n",
    ")\n",
    "stargazer"
   ]
  },
  {
   "cell_type": "code",
   "execution_count": null,
   "metadata": {},
   "outputs": [],
   "source": []
  }
 ],
 "metadata": {
  "kernelspec": {
   "display_name": "Python 3",
   "language": "python",
   "name": "python3"
  },
  "language_info": {
   "codemirror_mode": {
    "name": "ipython",
    "version": 3
   },
   "file_extension": ".py",
   "mimetype": "text/x-python",
   "name": "python",
   "nbconvert_exporter": "python",
   "pygments_lexer": "ipython3",
   "version": "3.8.6"
  }
 },
 "nbformat": 4,
 "nbformat_minor": 4
}
