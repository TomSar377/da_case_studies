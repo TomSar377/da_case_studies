{
 "cells": [
  {
   "cell_type": "code",
   "execution_count": 1,
   "metadata": {},
   "outputs": [],
   "source": [
    "import pandas as pd\n",
    "import os\n",
    "from pathlib import Path\n",
    "import numpy as np\n",
    "import statsmodels.api as sm\n",
    "import statsmodels.formula.api as smf\n",
    "from patsy import dmatrices\n",
    "import sys\n",
    "from plotnine import *\n",
    "from mizani.formatters import percent_format"
   ]
  },
  {
   "cell_type": "code",
   "execution_count": 2,
   "metadata": {},
   "outputs": [],
   "source": [
    "path = Path(os.getcwd())"
   ]
  },
  {
   "cell_type": "code",
   "execution_count": 3,
   "metadata": {},
   "outputs": [],
   "source": [
    "base_dir = path.parent.parent"
   ]
  },
  {
   "cell_type": "code",
   "execution_count": 4,
   "metadata": {},
   "outputs": [],
   "source": [
    "data_in = os.path.join(str(base_dir) , \"da_data_repo/hotels-vienna/clean/\")"
   ]
  },
  {
   "cell_type": "code",
   "execution_count": 5,
   "metadata": {},
   "outputs": [],
   "source": [
    "data_out = os.path.join(str(base_dir), \"da_case_studies/ch10-hotels-multiple-reg/\")"
   ]
  },
  {
   "cell_type": "code",
   "execution_count": 6,
   "metadata": {},
   "outputs": [],
   "source": [
    "func = os.path.join(str(base_dir) ,   \"da_case_studies/ch00-tech-prep/\")"
   ]
  },
  {
   "cell_type": "code",
   "execution_count": 7,
   "metadata": {},
   "outputs": [],
   "source": [
    "sys.path.append(func)"
   ]
  },
  {
   "cell_type": "code",
   "execution_count": 8,
   "metadata": {},
   "outputs": [],
   "source": [
    "from py_helper_functions import *"
   ]
  },
  {
   "cell_type": "code",
   "execution_count": 9,
   "metadata": {},
   "outputs": [],
   "source": [
    "hotels = pd.read_csv(os.path.join(data_in,\"hotels-vienna.csv\"))"
   ]
  },
  {
   "cell_type": "code",
   "execution_count": 10,
   "metadata": {},
   "outputs": [],
   "source": [
    "hotels = hotels.query('accommodation_type==\"Hotel\"'). \\\n",
    "       query('city_actual==\"Vienna\"'). \\\n",
    "       query('stars>=3 & stars<=4'). \\\n",
    "       query('price<=600')"
   ]
  },
  {
   "cell_type": "code",
   "execution_count": 11,
   "metadata": {},
   "outputs": [],
   "source": [
    "hotels = hotels[hotels['stars'].notnull()]"
   ]
  },
  {
   "cell_type": "code",
   "execution_count": 12,
   "metadata": {},
   "outputs": [
    {
     "data": {
      "text/plain": [
       "207"
      ]
     },
     "execution_count": 12,
     "metadata": {},
     "output_type": "execute_result"
    }
   ],
   "source": [
    "len(hotels)"
   ]
  },
  {
   "cell_type": "code",
   "execution_count": 13,
   "metadata": {},
   "outputs": [],
   "source": [
    "hotels['lnprice']=hotels['price'].map(lambda x:np.log(x))"
   ]
  },
  {
   "cell_type": "code",
   "execution_count": 14,
   "metadata": {},
   "outputs": [],
   "source": [
    "hotels['distance2']=hotels['distance']"
   ]
  },
  {
   "cell_type": "code",
   "execution_count": 15,
   "metadata": {},
   "outputs": [],
   "source": [
    "hotels.loc[hotels['distance2']<0.05,'distance2']=0.05"
   ]
  },
  {
   "cell_type": "code",
   "execution_count": 16,
   "metadata": {},
   "outputs": [],
   "source": [
    "hotels['lndistance']=hotels['distance2'].map(lambda x:np.log(x))"
   ]
  },
  {
   "cell_type": "code",
   "execution_count": 17,
   "metadata": {},
   "outputs": [],
   "source": [
    "hotels['star35']=(hotels['stars']==3.5).map(int)"
   ]
  },
  {
   "cell_type": "code",
   "execution_count": 18,
   "metadata": {},
   "outputs": [],
   "source": [
    "hotels['star4']=(hotels['stars']==4).map(int)"
   ]
  },
  {
   "cell_type": "code",
   "execution_count": 19,
   "metadata": {},
   "outputs": [
    {
     "data": {
      "text/plain": [
       "count    207.000000\n",
       "mean     109.975845\n",
       "std       42.221381\n",
       "min       50.000000\n",
       "25%       82.000000\n",
       "50%      100.000000\n",
       "75%      129.500000\n",
       "max      383.000000\n",
       "Name: price, dtype: float64"
      ]
     },
     "execution_count": 19,
     "metadata": {},
     "output_type": "execute_result"
    }
   ],
   "source": [
    "hotels['price'].describe()"
   ]
  },
  {
   "cell_type": "code",
   "execution_count": 20,
   "metadata": {},
   "outputs": [
    {
     "data": {
      "text/plain": [
       "count    207.000000\n",
       "mean       1.529952\n",
       "std        1.161507\n",
       "min        0.000000\n",
       "25%        0.800000\n",
       "50%        1.300000\n",
       "75%        1.900000\n",
       "max        6.600000\n",
       "Name: distance, dtype: float64"
      ]
     },
     "execution_count": 20,
     "metadata": {},
     "output_type": "execute_result"
    }
   ],
   "source": [
    "hotels['distance'].describe()"
   ]
  },
  {
   "cell_type": "code",
   "execution_count": 21,
   "metadata": {},
   "outputs": [
    {
     "data": {
      "text/plain": [
       "count    207.000000\n",
       "mean       4.640219\n",
       "std        0.336751\n",
       "min        3.912023\n",
       "25%        4.406719\n",
       "50%        4.605170\n",
       "75%        4.863673\n",
       "max        5.948035\n",
       "Name: lnprice, dtype: float64"
      ]
     },
     "execution_count": 21,
     "metadata": {},
     "output_type": "execute_result"
    }
   ],
   "source": [
    "hotels['lnprice'].describe()"
   ]
  },
  {
   "cell_type": "code",
   "execution_count": 22,
   "metadata": {},
   "outputs": [],
   "source": [
    "reg0 = smf.ols('lnprice ~ rating', data=hotels).fit()\n",
    "reg1 = smf.ols('lnprice ~ distance', data=hotels).fit()\n",
    "reg2 = smf.ols('lnprice ~ distance + rating', data=hotels).fit()"
   ]
  },
  {
   "cell_type": "code",
   "execution_count": 23,
   "metadata": {},
   "outputs": [
    {
     "name": "stdout",
     "output_type": "stream",
     "text": [
      "                            OLS Regression Results                            \n",
      "==============================================================================\n",
      "Dep. Variable:                lnprice   R-squared:                       0.252\n",
      "Model:                            OLS   Adj. R-squared:                  0.248\n",
      "Method:                 Least Squares   F-statistic:                     69.11\n",
      "Date:                Thu, 15 Apr 2021   Prob (F-statistic):           1.28e-14\n",
      "Time:                        13:20:17   Log-Likelihood:                -37.850\n",
      "No. Observations:                 207   AIC:                             79.70\n",
      "Df Residuals:                     205   BIC:                             86.37\n",
      "Df Model:                           1                                         \n",
      "Covariance Type:            nonrobust                                         \n",
      "==============================================================================\n",
      "                 coef    std err          t      P>|t|      [0.025      0.975]\n",
      "------------------------------------------------------------------------------\n",
      "Intercept      2.8460      0.217     13.128      0.000       2.419       3.273\n",
      "rating         0.4424      0.053      8.313      0.000       0.337       0.547\n",
      "==============================================================================\n",
      "Omnibus:                       28.523   Durbin-Watson:                   1.393\n",
      "Prob(Omnibus):                  0.000   Jarque-Bera (JB):               43.031\n",
      "Skew:                           0.793   Prob(JB):                     4.53e-10\n",
      "Kurtosis:                       4.572   Cond. No.                         46.1\n",
      "==============================================================================\n",
      "\n",
      "Notes:\n",
      "[1] Standard Errors assume that the covariance matrix of the errors is correctly specified.\n"
     ]
    }
   ],
   "source": [
    "print(reg0.summary())"
   ]
  },
  {
   "cell_type": "code",
   "execution_count": 24,
   "metadata": {},
   "outputs": [
    {
     "name": "stdout",
     "output_type": "stream",
     "text": [
      "                            OLS Regression Results                            \n",
      "==============================================================================\n",
      "Dep. Variable:                lnprice   R-squared:                       0.252\n",
      "Model:                            OLS   Adj. R-squared:                  0.248\n",
      "Method:                 Least Squares   F-statistic:                     46.78\n",
      "Date:                Thu, 15 Apr 2021   Prob (F-statistic):           8.96e-11\n",
      "Time:                        13:20:30   Log-Likelihood:                -37.850\n",
      "No. Observations:                 207   AIC:                             79.70\n",
      "Df Residuals:                     205   BIC:                             86.37\n",
      "Df Model:                           1                                         \n",
      "Covariance Type:                  HC1                                         \n",
      "==============================================================================\n",
      "                 coef    std err          t      P>|t|      [0.025      0.975]\n",
      "------------------------------------------------------------------------------\n",
      "Intercept      2.8460      0.265     10.731      0.000       2.323       3.369\n",
      "rating         0.4424      0.065      6.840      0.000       0.315       0.570\n",
      "==============================================================================\n",
      "Omnibus:                       28.523   Durbin-Watson:                   1.393\n",
      "Prob(Omnibus):                  0.000   Jarque-Bera (JB):               43.031\n",
      "Skew:                           0.793   Prob(JB):                     4.53e-10\n",
      "Kurtosis:                       4.572   Cond. No.                         46.1\n",
      "==============================================================================\n",
      "\n",
      "Notes:\n",
      "[1] Standard Errors are heteroscedasticity robust (HC1)\n",
      "                            OLS Regression Results                            \n",
      "==============================================================================\n",
      "Dep. Variable:                lnprice   R-squared:                       0.205\n",
      "Model:                            OLS   Adj. R-squared:                  0.201\n",
      "Method:                 Least Squares   F-statistic:                     32.32\n",
      "Date:                Thu, 15 Apr 2021   Prob (F-statistic):           4.46e-08\n",
      "Time:                        13:20:30   Log-Likelihood:                -44.160\n",
      "No. Observations:                 207   AIC:                             92.32\n",
      "Df Residuals:                     205   BIC:                             98.99\n",
      "Df Model:                           1                                         \n",
      "Covariance Type:                  HC1                                         \n",
      "==============================================================================\n",
      "                 coef    std err          t      P>|t|      [0.025      0.975]\n",
      "------------------------------------------------------------------------------\n",
      "Intercept      4.8411      0.039    125.679      0.000       4.765       4.917\n",
      "distance      -0.1313      0.023     -5.685      0.000      -0.177      -0.086\n",
      "==============================================================================\n",
      "Omnibus:                       28.470   Durbin-Watson:                   1.564\n",
      "Prob(Omnibus):                  0.000   Jarque-Bera (JB):               47.450\n",
      "Skew:                           0.746   Prob(JB):                     4.97e-11\n",
      "Kurtosis:                       4.809   Cond. No.                         3.78\n",
      "==============================================================================\n",
      "\n",
      "Notes:\n",
      "[1] Standard Errors are heteroscedasticity robust (HC1)\n",
      "                            OLS Regression Results                            \n",
      "==============================================================================\n",
      "Dep. Variable:                lnprice   R-squared:                       0.365\n",
      "Model:                            OLS   Adj. R-squared:                  0.359\n",
      "Method:                 Least Squares   F-statistic:                     43.18\n",
      "Date:                Thu, 15 Apr 2021   Prob (F-statistic):           2.31e-16\n",
      "Time:                        13:20:30   Log-Likelihood:                -20.875\n",
      "No. Observations:                 207   AIC:                             47.75\n",
      "Df Residuals:                     204   BIC:                             57.75\n",
      "Df Model:                           2                                         \n",
      "Covariance Type:                  HC1                                         \n",
      "==============================================================================\n",
      "                 coef    std err          t      P>|t|      [0.025      0.975]\n",
      "------------------------------------------------------------------------------\n",
      "Intercept      3.3160      0.265     12.495      0.000       2.793       3.839\n",
      "distance      -0.1008      0.021     -4.907      0.000      -0.141      -0.060\n",
      "rating         0.3646      0.062      5.878      0.000       0.242       0.487\n",
      "==============================================================================\n",
      "Omnibus:                       48.220   Durbin-Watson:                   1.555\n",
      "Prob(Omnibus):                  0.000   Jarque-Bera (JB):              110.776\n",
      "Skew:                           1.057   Prob(JB):                     8.82e-25\n",
      "Kurtosis:                       5.893   Cond. No.                         52.7\n",
      "==============================================================================\n",
      "\n",
      "Notes:\n",
      "[1] Standard Errors are heteroscedasticity robust (HC1)\n"
     ]
    }
   ],
   "source": [
    "print(reg0.get_robustcov_results(cov_type='HC1').summary())\n",
    "print(reg1.get_robustcov_results(cov_type='HC1').summary())\n",
    "print(reg2.get_robustcov_results(cov_type='HC1').summary())"
   ]
  },
  {
   "cell_type": "code",
   "execution_count": 25,
   "metadata": {},
   "outputs": [],
   "source": [
    "y,X = dmatrices(\"lnprice ~ lspline(distance,[1,4]) + lspline(rating, 3.5) + star35 + star4\",hotels)"
   ]
  },
  {
   "cell_type": "code",
   "execution_count": 26,
   "metadata": {},
   "outputs": [],
   "source": [
    "model = sm.OLS(y, X)\n",
    "results = model.fit()"
   ]
  },
  {
   "cell_type": "code",
   "execution_count": 27,
   "metadata": {},
   "outputs": [
    {
     "name": "stdout",
     "output_type": "stream",
     "text": [
      "                            OLS Regression Results                            \n",
      "==============================================================================\n",
      "Dep. Variable:                lnprice   R-squared:                       0.550\n",
      "Model:                            OLS   Adj. R-squared:                  0.534\n",
      "Method:                 Least Squares   F-statistic:                     34.76\n",
      "Date:                Thu, 15 Apr 2021   Prob (F-statistic):           2.19e-31\n",
      "Time:                        13:20:51   Log-Likelihood:                 14.744\n",
      "No. Observations:                 207   AIC:                            -13.49\n",
      "Df Residuals:                     199   BIC:                             13.17\n",
      "Df Model:                           7                                         \n",
      "Covariance Type:            nonrobust                                         \n",
      "================================================================================================\n",
      "                                   coef    std err          t      P>|t|      [0.025      0.975]\n",
      "------------------------------------------------------------------------------------------------\n",
      "Intercept                        5.1551      0.454     11.355      0.000       4.260       6.050\n",
      "lspline(distance, [1, 4])[0]    -0.4601      0.067     -6.887      0.000      -0.592      -0.328\n",
      "lspline(distance, [1, 4])[1]    -0.0503      0.021     -2.343      0.020      -0.093      -0.008\n",
      "lspline(distance, [1, 4])[2]     0.1435      0.081      1.776      0.077      -0.016       0.303\n",
      "lspline(rating, 3.5)[0]         -0.1133      0.132     -0.855      0.393      -0.375       0.148\n",
      "lspline(rating, 3.5)[1]          0.3599      0.059      6.144      0.000       0.244       0.475\n",
      "star35                           0.0174      0.071      0.244      0.808      -0.123       0.158\n",
      "star4                            0.1496      0.037      4.067      0.000       0.077       0.222\n",
      "==============================================================================\n",
      "Omnibus:                      108.185   Durbin-Watson:                   1.774\n",
      "Prob(Omnibus):                  0.000   Jarque-Bera (JB):              886.011\n",
      "Skew:                           1.825   Prob(JB):                    4.03e-193\n",
      "Kurtosis:                      12.455   Cond. No.                         114.\n",
      "==============================================================================\n",
      "\n",
      "Notes:\n",
      "[1] Standard Errors assume that the covariance matrix of the errors is correctly specified.\n"
     ]
    }
   ],
   "source": [
    "print(results.summary())"
   ]
  },
  {
   "cell_type": "code",
   "execution_count": 28,
   "metadata": {},
   "outputs": [],
   "source": [
    "hotels['lnprice_hat']=results.predict(X)"
   ]
  },
  {
   "cell_type": "code",
   "execution_count": 29,
   "metadata": {},
   "outputs": [],
   "source": [
    "hotels['lnprice_resid'] = hotels['lnprice'] - hotels['lnprice_hat']"
   ]
  },
  {
   "cell_type": "code",
   "execution_count": 30,
   "metadata": {},
   "outputs": [],
   "source": [
    "hotels['bestdeals'] = hotels.index.isin(hotels['lnprice_resid'].sort_values(ascending=False).tail().index.values)"
   ]
  },
  {
   "cell_type": "code",
   "execution_count": 31,
   "metadata": {},
   "outputs": [
    {
     "data": {
      "text/html": [
       "<div>\n",
       "<style scoped>\n",
       "    .dataframe tbody tr th:only-of-type {\n",
       "        vertical-align: middle;\n",
       "    }\n",
       "\n",
       "    .dataframe tbody tr th {\n",
       "        vertical-align: top;\n",
       "    }\n",
       "\n",
       "    .dataframe thead th {\n",
       "        text-align: right;\n",
       "    }\n",
       "</style>\n",
       "<table border=\"1\" class=\"dataframe\">\n",
       "  <thead>\n",
       "    <tr style=\"text-align: right;\">\n",
       "      <th></th>\n",
       "      <th>country</th>\n",
       "      <th>city_actual</th>\n",
       "      <th>rating_count</th>\n",
       "      <th>center1label</th>\n",
       "      <th>center2label</th>\n",
       "      <th>neighbourhood</th>\n",
       "      <th>price</th>\n",
       "      <th>city</th>\n",
       "      <th>stars</th>\n",
       "      <th>ratingta</th>\n",
       "      <th>...</th>\n",
       "      <th>nnights</th>\n",
       "      <th>rating</th>\n",
       "      <th>lnprice</th>\n",
       "      <th>distance2</th>\n",
       "      <th>lndistance</th>\n",
       "      <th>star35</th>\n",
       "      <th>star4</th>\n",
       "      <th>lnprice_hat</th>\n",
       "      <th>lnprice_resid</th>\n",
       "      <th>bestdeals</th>\n",
       "    </tr>\n",
       "  </thead>\n",
       "  <tbody>\n",
       "    <tr>\n",
       "      <th>1</th>\n",
       "      <td>Austria</td>\n",
       "      <td>Vienna</td>\n",
       "      <td>189.0</td>\n",
       "      <td>City centre</td>\n",
       "      <td>Donauturm</td>\n",
       "      <td>17. Hernals</td>\n",
       "      <td>81</td>\n",
       "      <td>Vienna</td>\n",
       "      <td>4.0</td>\n",
       "      <td>3.5</td>\n",
       "      <td>...</td>\n",
       "      <td>1</td>\n",
       "      <td>3.9</td>\n",
       "      <td>4.394449</td>\n",
       "      <td>1.7</td>\n",
       "      <td>0.530628</td>\n",
       "      <td>0</td>\n",
       "      <td>1</td>\n",
       "      <td>4.556784</td>\n",
       "      <td>-0.162335</td>\n",
       "      <td>False</td>\n",
       "    </tr>\n",
       "    <tr>\n",
       "      <th>2</th>\n",
       "      <td>Austria</td>\n",
       "      <td>Vienna</td>\n",
       "      <td>53.0</td>\n",
       "      <td>City centre</td>\n",
       "      <td>Donauturm</td>\n",
       "      <td>Alsergrund</td>\n",
       "      <td>85</td>\n",
       "      <td>Vienna</td>\n",
       "      <td>4.0</td>\n",
       "      <td>3.5</td>\n",
       "      <td>...</td>\n",
       "      <td>1</td>\n",
       "      <td>3.7</td>\n",
       "      <td>4.442651</td>\n",
       "      <td>1.4</td>\n",
       "      <td>0.336472</td>\n",
       "      <td>0</td>\n",
       "      <td>1</td>\n",
       "      <td>4.499887</td>\n",
       "      <td>-0.057236</td>\n",
       "      <td>False</td>\n",
       "    </tr>\n",
       "    <tr>\n",
       "      <th>3</th>\n",
       "      <td>Austria</td>\n",
       "      <td>Vienna</td>\n",
       "      <td>55.0</td>\n",
       "      <td>City centre</td>\n",
       "      <td>Donauturm</td>\n",
       "      <td>Alsergrund</td>\n",
       "      <td>83</td>\n",
       "      <td>Vienna</td>\n",
       "      <td>3.0</td>\n",
       "      <td>4.0</td>\n",
       "      <td>...</td>\n",
       "      <td>1</td>\n",
       "      <td>4.0</td>\n",
       "      <td>4.418841</td>\n",
       "      <td>1.7</td>\n",
       "      <td>0.530628</td>\n",
       "      <td>0</td>\n",
       "      <td>0</td>\n",
       "      <td>4.443176</td>\n",
       "      <td>-0.024335</td>\n",
       "      <td>False</td>\n",
       "    </tr>\n",
       "    <tr>\n",
       "      <th>4</th>\n",
       "      <td>Austria</td>\n",
       "      <td>Vienna</td>\n",
       "      <td>33.0</td>\n",
       "      <td>City centre</td>\n",
       "      <td>Donauturm</td>\n",
       "      <td>Alsergrund</td>\n",
       "      <td>82</td>\n",
       "      <td>Vienna</td>\n",
       "      <td>4.0</td>\n",
       "      <td>3.5</td>\n",
       "      <td>...</td>\n",
       "      <td>1</td>\n",
       "      <td>3.9</td>\n",
       "      <td>4.406719</td>\n",
       "      <td>1.2</td>\n",
       "      <td>0.182322</td>\n",
       "      <td>0</td>\n",
       "      <td>1</td>\n",
       "      <td>4.581920</td>\n",
       "      <td>-0.175201</td>\n",
       "      <td>False</td>\n",
       "    </tr>\n",
       "    <tr>\n",
       "      <th>6</th>\n",
       "      <td>Austria</td>\n",
       "      <td>Vienna</td>\n",
       "      <td>57.0</td>\n",
       "      <td>City centre</td>\n",
       "      <td>Donauturm</td>\n",
       "      <td>Alsergrund</td>\n",
       "      <td>103</td>\n",
       "      <td>Vienna</td>\n",
       "      <td>4.0</td>\n",
       "      <td>3.5</td>\n",
       "      <td>...</td>\n",
       "      <td>1</td>\n",
       "      <td>3.9</td>\n",
       "      <td>4.634729</td>\n",
       "      <td>0.9</td>\n",
       "      <td>-0.105361</td>\n",
       "      <td>0</td>\n",
       "      <td>1</td>\n",
       "      <td>4.637984</td>\n",
       "      <td>-0.003255</td>\n",
       "      <td>False</td>\n",
       "    </tr>\n",
       "    <tr>\n",
       "      <th>...</th>\n",
       "      <td>...</td>\n",
       "      <td>...</td>\n",
       "      <td>...</td>\n",
       "      <td>...</td>\n",
       "      <td>...</td>\n",
       "      <td>...</td>\n",
       "      <td>...</td>\n",
       "      <td>...</td>\n",
       "      <td>...</td>\n",
       "      <td>...</td>\n",
       "      <td>...</td>\n",
       "      <td>...</td>\n",
       "      <td>...</td>\n",
       "      <td>...</td>\n",
       "      <td>...</td>\n",
       "      <td>...</td>\n",
       "      <td>...</td>\n",
       "      <td>...</td>\n",
       "      <td>...</td>\n",
       "      <td>...</td>\n",
       "      <td>...</td>\n",
       "    </tr>\n",
       "    <tr>\n",
       "      <th>420</th>\n",
       "      <td>Austria</td>\n",
       "      <td>Vienna</td>\n",
       "      <td>77.0</td>\n",
       "      <td>City centre</td>\n",
       "      <td>Donauturm</td>\n",
       "      <td>Wieden</td>\n",
       "      <td>100</td>\n",
       "      <td>Vienna</td>\n",
       "      <td>3.0</td>\n",
       "      <td>4.0</td>\n",
       "      <td>...</td>\n",
       "      <td>1</td>\n",
       "      <td>4.0</td>\n",
       "      <td>4.605170</td>\n",
       "      <td>1.2</td>\n",
       "      <td>0.182322</td>\n",
       "      <td>0</td>\n",
       "      <td>0</td>\n",
       "      <td>4.468312</td>\n",
       "      <td>0.136859</td>\n",
       "      <td>False</td>\n",
       "    </tr>\n",
       "    <tr>\n",
       "      <th>421</th>\n",
       "      <td>Austria</td>\n",
       "      <td>Vienna</td>\n",
       "      <td>572.0</td>\n",
       "      <td>City centre</td>\n",
       "      <td>Donauturm</td>\n",
       "      <td>Wieden</td>\n",
       "      <td>95</td>\n",
       "      <td>Vienna</td>\n",
       "      <td>4.0</td>\n",
       "      <td>4.0</td>\n",
       "      <td>...</td>\n",
       "      <td>1</td>\n",
       "      <td>4.1</td>\n",
       "      <td>4.553877</td>\n",
       "      <td>1.5</td>\n",
       "      <td>0.405465</td>\n",
       "      <td>0</td>\n",
       "      <td>1</td>\n",
       "      <td>4.638817</td>\n",
       "      <td>-0.084940</td>\n",
       "      <td>False</td>\n",
       "    </tr>\n",
       "    <tr>\n",
       "      <th>422</th>\n",
       "      <td>Austria</td>\n",
       "      <td>Vienna</td>\n",
       "      <td>53.0</td>\n",
       "      <td>City centre</td>\n",
       "      <td>Donauturm</td>\n",
       "      <td>Wieden</td>\n",
       "      <td>73</td>\n",
       "      <td>Vienna</td>\n",
       "      <td>3.0</td>\n",
       "      <td>3.0</td>\n",
       "      <td>...</td>\n",
       "      <td>1</td>\n",
       "      <td>3.4</td>\n",
       "      <td>4.290459</td>\n",
       "      <td>1.5</td>\n",
       "      <td>0.405465</td>\n",
       "      <td>0</td>\n",
       "      <td>0</td>\n",
       "      <td>4.284615</td>\n",
       "      <td>0.005845</td>\n",
       "      <td>False</td>\n",
       "    </tr>\n",
       "    <tr>\n",
       "      <th>425</th>\n",
       "      <td>Austria</td>\n",
       "      <td>Vienna</td>\n",
       "      <td>112.0</td>\n",
       "      <td>City centre</td>\n",
       "      <td>Donauturm</td>\n",
       "      <td>Wieden</td>\n",
       "      <td>100</td>\n",
       "      <td>Vienna</td>\n",
       "      <td>4.0</td>\n",
       "      <td>4.5</td>\n",
       "      <td>...</td>\n",
       "      <td>1</td>\n",
       "      <td>4.4</td>\n",
       "      <td>4.605170</td>\n",
       "      <td>1.0</td>\n",
       "      <td>0.000000</td>\n",
       "      <td>0</td>\n",
       "      <td>1</td>\n",
       "      <td>4.771920</td>\n",
       "      <td>-0.166750</td>\n",
       "      <td>False</td>\n",
       "    </tr>\n",
       "    <tr>\n",
       "      <th>426</th>\n",
       "      <td>Austria</td>\n",
       "      <td>Vienna</td>\n",
       "      <td>169.0</td>\n",
       "      <td>City centre</td>\n",
       "      <td>Donauturm</td>\n",
       "      <td>Wieden</td>\n",
       "      <td>58</td>\n",
       "      <td>Vienna</td>\n",
       "      <td>3.0</td>\n",
       "      <td>3.0</td>\n",
       "      <td>...</td>\n",
       "      <td>1</td>\n",
       "      <td>3.2</td>\n",
       "      <td>4.060443</td>\n",
       "      <td>1.4</td>\n",
       "      <td>0.336472</td>\n",
       "      <td>0</td>\n",
       "      <td>0</td>\n",
       "      <td>4.312302</td>\n",
       "      <td>-0.251859</td>\n",
       "      <td>False</td>\n",
       "    </tr>\n",
       "  </tbody>\n",
       "</table>\n",
       "<p>207 rows × 32 columns</p>\n",
       "</div>"
      ],
      "text/plain": [
       "     country city_actual  rating_count center1label center2label  \\\n",
       "1    Austria      Vienna         189.0  City centre    Donauturm   \n",
       "2    Austria      Vienna          53.0  City centre    Donauturm   \n",
       "3    Austria      Vienna          55.0  City centre    Donauturm   \n",
       "4    Austria      Vienna          33.0  City centre    Donauturm   \n",
       "6    Austria      Vienna          57.0  City centre    Donauturm   \n",
       "..       ...         ...           ...          ...          ...   \n",
       "420  Austria      Vienna          77.0  City centre    Donauturm   \n",
       "421  Austria      Vienna         572.0  City centre    Donauturm   \n",
       "422  Austria      Vienna          53.0  City centre    Donauturm   \n",
       "425  Austria      Vienna         112.0  City centre    Donauturm   \n",
       "426  Austria      Vienna         169.0  City centre    Donauturm   \n",
       "\n",
       "    neighbourhood  price    city  stars  ratingta  ...  nnights  rating  \\\n",
       "1     17. Hernals     81  Vienna    4.0       3.5  ...        1     3.9   \n",
       "2      Alsergrund     85  Vienna    4.0       3.5  ...        1     3.7   \n",
       "3      Alsergrund     83  Vienna    3.0       4.0  ...        1     4.0   \n",
       "4      Alsergrund     82  Vienna    4.0       3.5  ...        1     3.9   \n",
       "6      Alsergrund    103  Vienna    4.0       3.5  ...        1     3.9   \n",
       "..            ...    ...     ...    ...       ...  ...      ...     ...   \n",
       "420        Wieden    100  Vienna    3.0       4.0  ...        1     4.0   \n",
       "421        Wieden     95  Vienna    4.0       4.0  ...        1     4.1   \n",
       "422        Wieden     73  Vienna    3.0       3.0  ...        1     3.4   \n",
       "425        Wieden    100  Vienna    4.0       4.5  ...        1     4.4   \n",
       "426        Wieden     58  Vienna    3.0       3.0  ...        1     3.2   \n",
       "\n",
       "      lnprice  distance2 lndistance  star35  star4  lnprice_hat  \\\n",
       "1    4.394449        1.7   0.530628       0      1     4.556784   \n",
       "2    4.442651        1.4   0.336472       0      1     4.499887   \n",
       "3    4.418841        1.7   0.530628       0      0     4.443176   \n",
       "4    4.406719        1.2   0.182322       0      1     4.581920   \n",
       "6    4.634729        0.9  -0.105361       0      1     4.637984   \n",
       "..        ...        ...        ...     ...    ...          ...   \n",
       "420  4.605170        1.2   0.182322       0      0     4.468312   \n",
       "421  4.553877        1.5   0.405465       0      1     4.638817   \n",
       "422  4.290459        1.5   0.405465       0      0     4.284615   \n",
       "425  4.605170        1.0   0.000000       0      1     4.771920   \n",
       "426  4.060443        1.4   0.336472       0      0     4.312302   \n",
       "\n",
       "     lnprice_resid  bestdeals  \n",
       "1        -0.162335      False  \n",
       "2        -0.057236      False  \n",
       "3        -0.024335      False  \n",
       "4        -0.175201      False  \n",
       "6        -0.003255      False  \n",
       "..             ...        ...  \n",
       "420       0.136859      False  \n",
       "421      -0.084940      False  \n",
       "422       0.005845      False  \n",
       "425      -0.166750      False  \n",
       "426      -0.251859      False  \n",
       "\n",
       "[207 rows x 32 columns]"
      ]
     },
     "execution_count": 31,
     "metadata": {},
     "output_type": "execute_result"
    }
   ],
   "source": [
    "hotels"
   ]
  },
  {
   "cell_type": "code",
   "execution_count": 32,
   "metadata": {},
   "outputs": [],
   "source": [
    "y,X = dmatrices(\"lnprice ~ lspline(distance,[1,4])\",hotels)"
   ]
  },
  {
   "cell_type": "code",
   "execution_count": 33,
   "metadata": {},
   "outputs": [],
   "source": [
    "model = sm.OLS(y, X)\n",
    "reg4 = model.fit()"
   ]
  },
  {
   "cell_type": "code",
   "execution_count": 34,
   "metadata": {},
   "outputs": [
    {
     "name": "stdout",
     "output_type": "stream",
     "text": [
      "                            OLS Regression Results                            \n",
      "==============================================================================\n",
      "Dep. Variable:                lnprice   R-squared:                       0.371\n",
      "Model:                            OLS   Adj. R-squared:                  0.362\n",
      "Method:                 Least Squares   F-statistic:                     39.97\n",
      "Date:                Thu, 15 Apr 2021   Prob (F-statistic):           2.43e-20\n",
      "Time:                        13:20:53   Log-Likelihood:                -19.879\n",
      "No. Observations:                 207   AIC:                             47.76\n",
      "Df Residuals:                     203   BIC:                             61.09\n",
      "Df Model:                           3                                         \n",
      "Covariance Type:            nonrobust                                         \n",
      "================================================================================================\n",
      "                                   coef    std err          t      P>|t|      [0.025      0.975]\n",
      "------------------------------------------------------------------------------------------------\n",
      "Intercept                        5.1806      0.060     86.674      0.000       5.063       5.298\n",
      "lspline(distance, [1, 4])[0]    -0.5993      0.076     -7.925      0.000      -0.748      -0.450\n",
      "lspline(distance, [1, 4])[1]    -0.0752      0.025     -3.046      0.003      -0.124      -0.027\n",
      "lspline(distance, [1, 4])[2]     0.1731      0.093      1.854      0.065      -0.011       0.357\n",
      "==============================================================================\n",
      "Omnibus:                       56.756   Durbin-Watson:                   1.780\n",
      "Prob(Omnibus):                  0.000   Jarque-Bera (JB):              173.809\n",
      "Skew:                           1.122   Prob(JB):                     1.81e-38\n",
      "Kurtosis:                       6.888   Cond. No.                         8.28\n",
      "==============================================================================\n",
      "\n",
      "Notes:\n",
      "[1] Standard Errors assume that the covariance matrix of the errors is correctly specified.\n"
     ]
    }
   ],
   "source": [
    "print(reg4.summary())"
   ]
  },
  {
   "cell_type": "code",
   "execution_count": 35,
   "metadata": {},
   "outputs": [],
   "source": [
    "# y - yhat graph"
   ]
  },
  {
   "cell_type": "code",
   "execution_count": 36,
   "metadata": {},
   "outputs": [
    {
     "data": {
      "image/png": "[encoded data removed]",
      "text/plain": [
       "<Figure size 640x480 with 1 Axes>"
      ]
     },
     "metadata": {},
     "output_type": "display_data"
    },
    {
     "data": {
      "text/plain": [
       "<ggplot: (325752540)>"
      ]
     },
     "execution_count": 36,
     "metadata": {},
     "output_type": "execute_result"
    }
   ],
   "source": [
    "y_yhat_hotels = (ggplot(data=hotels)\n",
    " + geom_point(aes(x='lnprice_hat',y='lnprice',color='bestdeals',shape='bestdeals'),size=1.2, fill=color[3],alpha=0.8,)\n",
    " + geom_segment(aes(x = 3.8, y = 3.8, xend = 6, yend =6), size=0.8, color=color[2],linetype='dashed')\n",
    " + labs(x = \"ln(predicted price, US dollars) \",y = \"ln(price, US dollars)\")\n",
    " + scale_colour_manual(name='',values=[color[1],'black']) \n",
    " + geom_segment(aes(x = 4.8, y = 3.9, xend = 4.68, yend = 4.05), arrow = arrow())\n",
    " + annotate(\"text\", x = 4.93, y = 3.9, label = \"Best deal\", size=8)\n",
    " + theme_bw()\n",
    ")\n",
    "y_yhat_hotels"
   ]
  },
  {
   "cell_type": "code",
   "execution_count": 37,
   "metadata": {},
   "outputs": [
    {
     "name": "stderr",
     "output_type": "stream",
     "text": [
      "/usr/local/lib/python3.8/site-packages/plotnine/guides/guides.py:197: PlotnineWarning: Cannot generate legend for the 'color' aesthetic. Make sure you have mapped a variable to it\n"
     ]
    },
    {
     "data": {
      "image/png": "[encoded data removed]",
      "text/plain": [
       "<Figure size 640x480 with 1 Axes>"
      ]
     },
     "metadata": {},
     "output_type": "display_data"
    },
    {
     "data": {
      "text/plain": [
       "<ggplot: (325646990)>"
      ]
     },
     "execution_count": 37,
     "metadata": {},
     "output_type": "execute_result"
    }
   ],
   "source": [
    "y_hat_resid_hotels = (ggplot(data=hotels)\n",
    " + geom_point(aes(x='lnprice_hat',y='lnprice_resid'),color=color[1],size=1, fill=color[3],alpha=0.6)\n",
    " + geom_smooth(aes(x='lnprice_hat',y='lnprice_resid'),method='lm',color=color[2],size=1,se=False)\n",
    " + labs(x = \"ln(Predicted hotel price, US dollars)\",y = \"Residuals\")\n",
    " + scale_colour_manual(name='',values=[color[1],'black']) \n",
    " + theme_bw()\n",
    ")\n",
    "y_hat_resid_hotels"
   ]
  },
  {
   "cell_type": "code",
   "execution_count": null,
   "metadata": {},
   "outputs": [],
   "source": []
  }
 ],
 "metadata": {
  "kernelspec": {
   "display_name": "Python 3",
   "language": "python",
   "name": "python3"
  },
  "language_info": {
   "codemirror_mode": {
    "name": "ipython",
    "version": 3
   },
   "file_extension": ".py",
   "mimetype": "text/x-python",
   "name": "python",
   "nbconvert_exporter": "python",
   "pygments_lexer": "ipython3",
   "version": "3.8.6"
  }
 },
 "nbformat": 4,
 "nbformat_minor": 2
}
