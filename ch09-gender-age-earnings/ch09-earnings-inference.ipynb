{
 "cells": [
  {
   "cell_type": "markdown",
   "metadata": {},
   "source": [
    "#### Prepared for Gabor's Data Analysis\n",
    "\n",
    "### Data Analysis for Business, Economics, and Policy\n",
    "by Gabor Bekes and  Gabor Kezdi\n",
    " \n",
    "Cambridge University Press 2021\n",
    "\n",
    "**[gabors-data-analysis.com ](https://gabors-data-analysis.com/)**\n",
    "\n",
    " License: Free to share, modify and use for educational purposes. \n",
    " Not to be used for commercial purposes.\n",
    "\n",
    "### Chapter 09\n",
    "**CH09A Estimating gender and age differences in earnings**\n",
    "\n",
    "using the cps-earnings dataset\n",
    "\n",
    "version 1.0 2021-05-05"
   ]
  },
  {
   "cell_type": "code",
   "execution_count": 1,
   "metadata": {},
   "outputs": [
    {
     "ename": "ModuleNotFoundError",
     "evalue": "No module named 'mizani'",
     "output_type": "error",
     "traceback": [
      "\u001b[0;31m---------------------------------------------------------------------------\u001b[0m",
      "\u001b[0;31mModuleNotFoundError\u001b[0m                       Traceback (most recent call last)",
      "Input \u001b[0;32mIn [1]\u001b[0m, in \u001b[0;36m<cell line: 7>\u001b[0;34m()\u001b[0m\n\u001b[1;32m      5\u001b[0m \u001b[38;5;28;01mimport\u001b[39;00m \u001b[38;5;21;01mnumpy\u001b[39;00m \u001b[38;5;28;01mas\u001b[39;00m \u001b[38;5;21;01mnp\u001b[39;00m\n\u001b[1;32m      6\u001b[0m \u001b[38;5;28;01mimport\u001b[39;00m \u001b[38;5;21;01mpandas\u001b[39;00m \u001b[38;5;28;01mas\u001b[39;00m \u001b[38;5;21;01mpd\u001b[39;00m\n\u001b[0;32m----> 7\u001b[0m \u001b[38;5;28;01mfrom\u001b[39;00m \u001b[38;5;21;01mmizani\u001b[39;00m\u001b[38;5;21;01m.\u001b[39;00m\u001b[38;5;21;01mformatters\u001b[39;00m \u001b[38;5;28;01mimport\u001b[39;00m percent_format\n\u001b[1;32m      8\u001b[0m \u001b[38;5;28;01mfrom\u001b[39;00m \u001b[38;5;21;01mplotnine\u001b[39;00m \u001b[38;5;28;01mimport\u001b[39;00m \u001b[38;5;241m*\u001b[39m\n\u001b[1;32m      9\u001b[0m \u001b[38;5;28;01mfrom\u001b[39;00m \u001b[38;5;21;01mdatetime\u001b[39;00m \u001b[38;5;28;01mimport\u001b[39;00m datetime\n",
      "\u001b[0;31mModuleNotFoundError\u001b[0m: No module named 'mizani'"
     ]
    }
   ],
   "source": [
    "import os\n",
    "import sys\n",
    "import warnings\n",
    "\n",
    "import numpy as np\n",
    "import pandas as pd\n",
    "from mizani.formatters import percent_format\n",
    "from plotnine import *\n",
    "from datetime import datetime\n",
    "import statsmodels.api as sm\n",
    "import statsmodels.formula.api as smf\n",
    "from scipy.stats import norm\n",
    "from IPython.core.display import HTML\n",
    "from stargazer.stargazer import Stargazer\n",
    "import statsmodels.nonparametric.kernel_regression as loess\n",
    "\n",
    "warnings.filterwarnings(\"ignore\")\n"
   ]
  },
  {
   "cell_type": "code",
   "execution_count": null,
   "metadata": {},
   "outputs": [],
   "source": [
    "# Current script folder\n",
    "current_path = os.getcwd()\n",
    "dirname = current_path.split(\"da_case_studies\")[0]\n",
    "\n",
    "# location folders\n",
    "data_in = dirname + \"da_data_repo/cps-earnings/clean/\"\n",
    "data_out = dirname + \"da_case_studies/ch09-gender-age-earnings/\"\n",
    "output = dirname + \"da_case_studies/ch09-gender-age-earnings/output/\"\n",
    "func = dirname + \"da_case_studies/ch00-tech-prep/\"\n",
    "sys.path.append(func)\n"
   ]
  },
  {
   "cell_type": "code",
   "execution_count": null,
   "metadata": {},
   "outputs": [],
   "source": [
    "# Import the prewritten helper functions\n",
    "from py_helper_functions import *\n"
   ]
  },
  {
   "cell_type": "code",
   "execution_count": null,
   "metadata": {},
   "outputs": [],
   "source": [
    "data_all = pd.read_csv(data_in + \"morg-2014-emp.csv\")\n"
   ]
  },
  {
   "cell_type": "code",
   "execution_count": null,
   "metadata": {},
   "outputs": [],
   "source": [
    "# SELECT OCCUPATION\n",
    "# keep only two occupation types: Market research analysts and marketing specialists\n",
    "# and Computer and Mathematical Occupations\n",
    "data_all.loc[data_all[\"occ2012\"] == 735, \"sample\"] = 1\n",
    "data_all.loc[\n",
    "    ((data_all[\"occ2012\"] >= 1005) & (data_all[\"occ2012\"] <= 1240)), \"sample\"\n",
    "] = 2\n",
    "data_all.loc[data_all[\"sample\"].isna(), \"sample\"] = 0\n"
   ]
  },
  {
   "cell_type": "code",
   "execution_count": null,
   "metadata": {},
   "outputs": [],
   "source": [
    "data_all = data_all.loc[\n",
    "    (data_all[\"sample\"] == 1) | (data_all[\"sample\"] == 2), :\n",
    "].reset_index(drop=True)\n"
   ]
  },
  {
   "cell_type": "code",
   "execution_count": null,
   "metadata": {},
   "outputs": [],
   "source": [
    "data_all[\"sample\"].value_counts()\n"
   ]
  },
  {
   "cell_type": "code",
   "execution_count": null,
   "metadata": {},
   "outputs": [],
   "source": [
    "data_all[\"female\"] = (data_all.sex == 2).astype(int)\n",
    "data_all[\"w\"] = data_all[\"earnwke\"] / data_all[\"uhours\"]\n",
    "data_all[\"lnw\"] = np.log(data_all[\"w\"])\n",
    "data_all[\"agesq\"] = np.power(data_all[\"age\"], 2)\n"
   ]
  },
  {
   "cell_type": "code",
   "execution_count": null,
   "metadata": {},
   "outputs": [],
   "source": [
    "i = 1\n",
    "data = data_all.loc[data_all[\"sample\"] == i, :].reset_index(drop=True)\n",
    "data.to_csv(data_out + \"earnings_inference.csv\", index=False)\n"
   ]
  },
  {
   "cell_type": "code",
   "execution_count": null,
   "metadata": {},
   "outputs": [],
   "source": [
    "#####################\n",
    "# DISTRIBUTION OF EARNINGS\n",
    "#######################\n",
    "data.loc[:, [\"earnwke\", \"uhours\", \"w\"]].describe()\n"
   ]
  },
  {
   "cell_type": "code",
   "execution_count": null,
   "metadata": {},
   "outputs": [],
   "source": [
    "data.loc[data.w >= 1, [\"earnwke\", \"uhours\", \"w\"]].describe()\n"
   ]
  },
  {
   "cell_type": "code",
   "execution_count": null,
   "metadata": {},
   "outputs": [],
   "source": [
    "data[\"female\"].value_counts()\n"
   ]
  },
  {
   "cell_type": "code",
   "execution_count": null,
   "metadata": {},
   "outputs": [],
   "source": [
    "data.groupby([\"occ2012\", \"female\"]).size()\n"
   ]
  },
  {
   "cell_type": "code",
   "execution_count": null,
   "metadata": {},
   "outputs": [],
   "source": [
    "##############################\n",
    "# linear regressions\n",
    "##############################\n",
    "\n",
    "# First, look at them one by one\n"
   ]
  },
  {
   "cell_type": "code",
   "execution_count": null,
   "metadata": {},
   "outputs": [],
   "source": [
    "reg1 = smf.ols(formula=\"lnw~female\", data=data).fit()\n",
    "reg1.summary()\n"
   ]
  },
  {
   "cell_type": "code",
   "execution_count": null,
   "metadata": {},
   "outputs": [],
   "source": [
    "reg2 = smf.ols(formula=\"lnw~female\", data=data).fit(cov_type=\"HC1\")\n",
    "reg2.summary()\n"
   ]
  },
  {
   "cell_type": "markdown",
   "metadata": {},
   "source": [
    "### Table 9.1 Wage and gender gap baseline regression"
   ]
  },
  {
   "cell_type": "code",
   "execution_count": null,
   "metadata": {},
   "outputs": [],
   "source": [
    "stargazer = Stargazer([reg1, reg2])\n",
    "stargazer.covariate_order([\"female\", \"Intercept\"])\n",
    "stargazer.rename_covariates({\"Intercept\": \"Constant\"})\n",
    "stargazer\n"
   ]
  },
  {
   "cell_type": "code",
   "execution_count": null,
   "metadata": {},
   "outputs": [],
   "source": [
    "reg3 = smf.ols(formula=\"lnw~age\", data=data).fit(cov_type=\"HC1\")\n",
    "reg3.summary()\n"
   ]
  },
  {
   "cell_type": "code",
   "execution_count": null,
   "metadata": {},
   "outputs": [],
   "source": [
    "reg4 = smf.ols(formula=\"lnw~age+agesq\", data=data).fit(cov_type=\"HC1\")\n",
    "reg4.summary()\n"
   ]
  },
  {
   "cell_type": "code",
   "execution_count": null,
   "metadata": {},
   "outputs": [],
   "source": [
    "reg5 = smf.ols(formula=\"lnw~lspline(age,[30,40])\", data=data).fit(cov_type=\"HC1\")\n",
    "reg5.summary()\n"
   ]
  },
  {
   "cell_type": "code",
   "execution_count": null,
   "metadata": {},
   "outputs": [],
   "source": [
    "reg6 = loess.KernelReg(data[\"lnw\"], data[\"age\"], var_type=\"c\", reg_type=\"lc\")\n",
    "# loess.lowess(data['lnw'],data[\"age\"],frac=0.75,return_sorted=False)\n",
    "# reg6 = localr(y=data[\"lnw\"], x=data[\"age\"],kernel=gaussian,frac=0.75)\n"
   ]
  },
  {
   "cell_type": "code",
   "execution_count": null,
   "metadata": {},
   "outputs": [],
   "source": [
    "reg6\n"
   ]
  },
  {
   "cell_type": "markdown",
   "metadata": {},
   "source": [
    "### Table 9.2 Wage and age – different specifications"
   ]
  },
  {
   "cell_type": "code",
   "execution_count": null,
   "metadata": {},
   "outputs": [],
   "source": [
    "stargazer = Stargazer([reg3, reg4, reg5])\n",
    "stargazer.covariate_order(\n",
    "    [\n",
    "        \"age\",\n",
    "        \"agesq\",\n",
    "        \"lspline(age, [30, 40])[0]\",\n",
    "        \"lspline(age, [30, 40])[1]\",\n",
    "        \"lspline(age, [30, 40])[2]\",\n",
    "        \"Intercept\",\n",
    "    ]\n",
    ")\n",
    "stargazer.rename_covariates(\n",
    "    {\n",
    "        \"Intercept\": \"Constant\",\n",
    "        \"agesq\": \"age squared\",\n",
    "        \"lspline(age, [30, 40])[0]\": \"age spline <30\",\n",
    "        \"lspline(age, [30, 40])[1]\": \"age spline 30–40\",\n",
    "        \"lspline(age, [30, 40])[2]\": \"age spline 40<\",\n",
    "    }\n",
    ")\n",
    "stargazer\n"
   ]
  },
  {
   "cell_type": "markdown",
   "metadata": {},
   "source": [
    "### Figure 9.3 Log hourly wage and age: regressions that capture nonlinearity"
   ]
  },
  {
   "cell_type": "markdown",
   "metadata": {},
   "source": [
    "(a) Lowess regression and scatterplot"
   ]
  },
  {
   "cell_type": "code",
   "execution_count": null,
   "metadata": {},
   "outputs": [],
   "source": [
    "##############################\n",
    "# graphs\n",
    "##############################\n",
    "(\n",
    "    ggplot(data, aes(x=\"age\", y=\"lnw\"))\n",
    "    + geom_point(color=color[0])\n",
    "    + geom_smooth(method=\"loess\", color=color[1], se=False)\n",
    "    + scale_x_continuous(expand=(0.01, 0.01), limits=(20, 65), breaks=seq(20, 65, by=5))\n",
    "    + scale_y_continuous(\n",
    "        expand=(0.01, 0.01), limits=(1.5, 4.5), breaks=seq(1.5, 4.5, by=0.50)\n",
    "    )\n",
    "    + labs(x=\"Age (years)\", y=\"ln(earnings per hour)\")\n",
    "    + theme_bw()\n",
    ")\n"
   ]
  },
  {
   "cell_type": "code",
   "execution_count": null,
   "metadata": {},
   "outputs": [],
   "source": [
    "z = reg4.get_prediction().conf_int()\n"
   ]
  },
  {
   "cell_type": "code",
   "execution_count": null,
   "metadata": {},
   "outputs": [],
   "source": [
    "res = reg4.get_prediction().summary_frame()\n",
    "data[\"lnwpred_ageq\"] = res[\"mean\"]\n",
    "data[\"lnwpred_ageqCIUP\"] = [x[0] for x in z]\n",
    "data[\"lnwpred_ageqCILO\"] = [x[1] for x in z]\n"
   ]
  },
  {
   "cell_type": "code",
   "execution_count": null,
   "metadata": {},
   "outputs": [],
   "source": [
    "z = reg5.get_prediction().conf_int()\n"
   ]
  },
  {
   "cell_type": "code",
   "execution_count": null,
   "metadata": {},
   "outputs": [],
   "source": [
    "res = reg5.get_prediction().summary_frame()\n",
    "data[\"lnwpred_agesp\"] = res[\"mean\"]\n",
    "data[\"lnwpred_agespCIUP\"] = [x[0] for x in z]\n",
    "data[\"lnwpred_agespCILO\"] = [x[1] for x in z]\n"
   ]
  },
  {
   "cell_type": "code",
   "execution_count": null,
   "metadata": {},
   "outputs": [],
   "source": [
    "data[\"lnwpred_agel\"] = reg6.fit()[0]\n"
   ]
  },
  {
   "cell_type": "markdown",
   "metadata": {},
   "source": [
    "(b) Lowess, piecewise linear spline, and quadratic"
   ]
  },
  {
   "cell_type": "code",
   "execution_count": null,
   "metadata": {},
   "outputs": [],
   "source": [
    "(\n",
    "    ggplot(data, aes(x=\"age\"))\n",
    "    + geom_line(\n",
    "        data,\n",
    "        aes(y=\"lnwpred_agel\"),\n",
    "        color=color[0],\n",
    "        linetype=\"solid\",\n",
    "        size=1.2,\n",
    "        show_legend=True,\n",
    "    )\n",
    "    + geom_line(\n",
    "        data,\n",
    "        aes(y=\"lnwpred_ageq\"),\n",
    "        color=color[2],\n",
    "        linetype=\"dotted\",\n",
    "        size=1.2,\n",
    "        show_legend=True,\n",
    "    )\n",
    "    + geom_line(\n",
    "        data,\n",
    "        aes(y=\"lnwpred_agesp\"),\n",
    "        color=color[1],\n",
    "        linetype=\"dashed\",\n",
    "        size=1.2,\n",
    "        show_legend=True,\n",
    "    )\n",
    "    + scale_x_continuous(expand=(0.01, 0.01), limits=(20, 65), breaks=seq(20, 66, by=5))\n",
    "    + scale_y_continuous(\n",
    "        expand=(0.01, 0.01), limits=(2.4, 3.6), breaks=seq(2.4, 3.6, by=0.20)\n",
    "    )\n",
    "    + labs(x=\"Age (years)\", y=\"ln(earnings per hour)\")\n",
    "    + theme_bw()\n",
    "    + theme(\n",
    "        legend_position=(45, 2.6),\n",
    "        legend_direction=\"horizontal\",\n",
    "        legend_text=element_text(size=3),\n",
    "        legend_key_width=0.8,\n",
    "        legend_key_height=0.2,\n",
    "    )\n",
    "    + guides(linetype=guide_legend(override_aes=dict(size=0.6)))\n",
    "    + scale_color_discrete(name=\" \", values=[\"red\", \"cyan\", \"green\"])\n",
    ")\n"
   ]
  },
  {
   "cell_type": "markdown",
   "metadata": {},
   "source": [
    "### Figure 9.4 Average log earnings and age: regressions with CI"
   ]
  },
  {
   "cell_type": "code",
   "execution_count": null,
   "metadata": {},
   "outputs": [],
   "source": [
    "(\n",
    "    ggplot(data, aes(x=\"age\"))\n",
    "    + geom_line(aes(y=\"lnwpred_agel\"), color=color[0], linetype=\"solid\", size=1.2)\n",
    "    + geom_line(aes(y=\"lnwpred_ageq\"), color=color[2], linetype=\"dotted\", size=1.2)\n",
    "    + geom_line(aes(y=\"lnwpred_ageqCIUP\"), color=color[2], linetype=\"dotted\", size=0.6)\n",
    "    + geom_line(aes(y=\"lnwpred_ageqCILO\"), color=color[2], linetype=\"dotted\", size=0.6)\n",
    "    + geom_ribbon(aes(ymin=\"lnwpred_ageqCILO\", ymax=\"lnwpred_ageqCIUP\"), alpha=0.2)\n",
    "    + geom_line(aes(y=\"lnwpred_agesp\"), color=color[1], linetype=\"dashed\", size=1.2)\n",
    "    + geom_line(aes(y=\"lnwpred_agespCIUP\"), color=color[1], linetype=\"dashed\", size=0.6)\n",
    "    + geom_line(aes(y=\"lnwpred_agespCILO\"), color=color[1], linetype=\"dashed\", size=0.6)\n",
    "    + geom_ribbon(aes(ymin=\"lnwpred_agespCILO\", ymax=\"lnwpred_agespCIUP\"), alpha=0.2)\n",
    "    + coord_cartesian(xlim=(20, 65), ylim=(2.6, 3.6))\n",
    "    + scale_x_continuous(expand=(0.01, 0.01), limits=(20, 65), breaks=seq(20, 65, by=5))\n",
    "    + scale_y_continuous(\n",
    "        expand=(0.01, 0.01), limits=(2.4, 3.6), breaks=seq(2.4, 3.6, by=0.20)\n",
    "    )\n",
    "    + labs(x=\"Age (years)\", y=\"ln(earnings per hour)\")\n",
    "    + scale_color_manual(name=\"\", values=(color[1], color[2], color[3]))\n",
    "    + scale_linetype_manual(name=\"\", values=(\"solid\", \"dashed\", \"dotted\"))\n",
    "    + theme_bw()\n",
    "    + theme(\n",
    "        legend_position=(0.65, 0.1),\n",
    "        legend_direction=\"horizontal\",\n",
    "        legend_text=element_text(size=4),\n",
    "        legend_key_width=0.8,\n",
    "        legend_key_height=0.2,\n",
    "    )\n",
    "    + guides(linetype=guide_legend(override_aes=dict(size=0.6)))\n",
    ")\n"
   ]
  },
  {
   "cell_type": "markdown",
   "metadata": {},
   "source": [
    "### Figure 9.2 Log hourly wage and age: regression line, confidence interval, prediction interval."
   ]
  },
  {
   "cell_type": "code",
   "execution_count": null,
   "metadata": {},
   "outputs": [],
   "source": [
    "##########################################\n",
    "# CI and PI for the linear model\n",
    "##########################################\n",
    "reg7 = smf.ols(\n",
    "    formula=\"lnw~age\",\n",
    "    data=data.loc[\n",
    "        data[\"sample\"] == 1,\n",
    "    ],\n",
    ").fit()\n"
   ]
  },
  {
   "cell_type": "markdown",
   "metadata": {},
   "source": [
    "(a) Confidence interval"
   ]
  },
  {
   "cell_type": "code",
   "execution_count": null,
   "metadata": {},
   "outputs": [],
   "source": [
    "pred_confidence = data.join(\n",
    "    pd.DataFrame(reg7.get_prediction().conf_int(), columns=[\"lwr\", \"upr\"])\n",
    ").join(reg7.get_prediction().summary_frame()[\"mean\"].rename(\"fit\"))\n"
   ]
  },
  {
   "cell_type": "code",
   "execution_count": null,
   "metadata": {},
   "outputs": [],
   "source": [
    "(\n",
    "    ggplot(\n",
    "        pred_confidence.loc[lambda x: (x[\"lnw\"] < 4.4) & (x[\"lnw\"] > 2)],\n",
    "        aes(x=\"age\", y=\"lnw\"),\n",
    "    )\n",
    "    + geom_point(color=color[0], size=1, alpha=0.8, show_legend=False, na_rm=True)\n",
    "    + geom_smooth(method=\"lm\", colour=color[1], se=False, size=0.8, linetype=\"solid\")\n",
    "    + geom_line(\n",
    "        pred_confidence,\n",
    "        aes(x=\"age\", y=\"lwr\"),\n",
    "        size=0.5,\n",
    "        linetype=\"dashed\",\n",
    "        colour=color[1],\n",
    "    )\n",
    "    + geom_line(\n",
    "        pred_confidence,\n",
    "        aes(x=\"age\", y=\"upr\"),\n",
    "        size=0.5,\n",
    "        linetype=\"dashed\",\n",
    "        colour=color[1],\n",
    "    )\n",
    "    + coord_cartesian(xlim=(20, 65), ylim=(1.5, 4.5))\n",
    "    + scale_x_continuous(expand=(0.01, 0.01), limits=(20, 65), breaks=seq(20, 65, by=5))\n",
    "    + scale_y_continuous(\n",
    "        expand=(0.01, 0.01), limits=(1.5, 4.5), breaks=seq(1.5, 4.5, by=0.50)\n",
    "    )\n",
    "    + labs(x=\"Age (years)\", y=\"ln(earnings per hour)\")\n",
    "    + scale_linetype_manual(\n",
    "        name=\"\",\n",
    "        values=(1, 1, 2),\n",
    "        labels=(\"Lowess\", \"Confidence interval (95%)\", \"Confidence interval (95%)\"),\n",
    "    )\n",
    "    + theme_bw()\n",
    ")\n"
   ]
  },
  {
   "cell_type": "markdown",
   "metadata": {},
   "source": [
    "(b) Prediction interval"
   ]
  },
  {
   "cell_type": "code",
   "execution_count": null,
   "metadata": {},
   "outputs": [],
   "source": [
    "pred_interval = data\n",
    "pred_interval[[\"lwr\", \"upr\"]] = (\n",
    "    reg7.get_prediction().summary_frame().loc[:, [\"obs_ci_lower\", \"obs_ci_upper\"]]\n",
    ")\n",
    "pred_interval = pred_interval.join(\n",
    "    reg7.get_prediction().summary_frame()[\"mean\"].rename(\"fit\")\n",
    ")\n"
   ]
  },
  {
   "cell_type": "code",
   "execution_count": null,
   "metadata": {},
   "outputs": [],
   "source": [
    "(\n",
    "    ggplot(\n",
    "        pred_interval.loc[lambda x: (x[\"lnw\"] < 4.4) & (x[\"lnw\"] > 2)],\n",
    "        aes(x=\"age\", y=\"lnw\"),\n",
    "    )\n",
    "    + geom_point(color=color[0], size=1, alpha=0.8, show_legend=False, na_rm=True)\n",
    "    + geom_smooth(method=\"lm\", colour=color[1], se=False, size=0.8, linetype=\"solid\")\n",
    "    + geom_line(\n",
    "        pred_interval, aes(y=\"lwr\"), size=0.5, linetype=\"dashed\", colour=color[1]\n",
    "    )\n",
    "    + geom_line(\n",
    "        pred_interval, aes(y=\"upr\"), size=0.5, linetype=\"dashed\", colour=color[1]\n",
    "    )\n",
    "    + coord_cartesian(xlim=(20, 65), ylim=(1.5, 4.5))\n",
    "    + scale_x_continuous(expand=(0.01, 0.01), limits=(20, 65), breaks=seq(20, 65, by=5))\n",
    "    + scale_y_continuous(\n",
    "        expand=(0.01, 0.01), limits=(1.5, 4.5), breaks=seq(1.5, 4.5, by=0.50)\n",
    "    )\n",
    "    + labs(x=\"Age (years)\", y=\"ln(earnings per hour)\")\n",
    "    + theme_bw()\n",
    ")\n"
   ]
  },
  {
   "cell_type": "markdown",
   "metadata": {},
   "source": [
    "### Figure 9.1 Bootstrap distribution of the average female–male wage difference among market analysts"
   ]
  },
  {
   "cell_type": "code",
   "execution_count": null,
   "metadata": {},
   "outputs": [],
   "source": [
    "data = pd.read_csv(data_out + \"earnings_inference.csv\")\n"
   ]
  },
  {
   "cell_type": "code",
   "execution_count": null,
   "metadata": {},
   "outputs": [],
   "source": [
    "def bs_linreg(x, y, size=1, seed=200999):\n",
    "    \"\"\"Perform pairs bootstrap for linear regression.\"\"\"\n",
    "    # Set up array of indices to sample from\n",
    "    inds = np.arange(len(x))\n",
    "\n",
    "    # Initialize samples\n",
    "    bs_slope_reps = np.empty(size)\n",
    "    bs_intercept_reps = np.empty(size)\n",
    "    np.random.seed(seed)\n",
    "    # Take samples\n",
    "    for i in range(size):\n",
    "        bs_inds = np.random.choice(inds, len(inds), replace=True)\n",
    "        bs_x, bs_y = sm.add_constant(x[bs_inds]), y[bs_inds]\n",
    "        bs_slope_reps[i], bs_intercept_reps[i] = (\n",
    "            sm.regression.linear_model.OLS(bs_y, bs_x).fit().params\n",
    "        )\n",
    "\n",
    "    return bs_slope_reps, bs_intercept_reps\n"
   ]
  },
  {
   "cell_type": "code",
   "execution_count": null,
   "metadata": {},
   "outputs": [],
   "source": [
    "results = bs_linreg(data.lnw.values, data.female.values, size=1000)\n",
    "\n",
    "b_earnings_female = pd.DataFrame(results).T\n",
    "\n",
    "b_earnings_female.columns = [\"_b_intercept\", \"_b_female\"]\n"
   ]
  },
  {
   "cell_type": "code",
   "execution_count": null,
   "metadata": {},
   "outputs": [],
   "source": [
    "(\n",
    "    ggplot(b_earnings_female, aes(x=\"_b_female\"))\n",
    "    + geom_histogram(\n",
    "        aes(y=\"stat(count)/sum(stat(count))\"),\n",
    "        binwidth=0.025,\n",
    "        center=0.0125,\n",
    "        closed=\"left\",\n",
    "        color=\"white\",\n",
    "        fill=color[0],\n",
    "        size=0.2,\n",
    "        alpha=0.8,\n",
    "        show_legend=False,\n",
    "        na_rm=True,\n",
    "    )\n",
    "    + geom_segment(\n",
    "        aes(\n",
    "            x=b_earnings_female[\"_b_female\"].mean(),\n",
    "            y=0,\n",
    "            xend=b_earnings_female[\"_b_female\"].mean(),\n",
    "            yend=0.2,\n",
    "        ),\n",
    "        colour=color[1],\n",
    "        size=1,\n",
    "    )\n",
    "    + annotate(\"text\", x=-0.07, y=0.18, label=\"mean\", size=12.5)\n",
    "    + coord_cartesian(xlim=(-0.3, 0.15), ylim=(0, 0.2))\n",
    "    + labs(x=\"Slope coefficients from bootstrap samples\", y=\"Percent\")\n",
    "    + scale_y_continuous(expand=(0.0, 0.0), limits=(0, 0.2), labels=percent_format())\n",
    "    + theme_bw()\n",
    ")\n"
   ]
  },
  {
   "cell_type": "code",
   "execution_count": null,
   "metadata": {},
   "outputs": [],
   "source": []
  }
 ],
 "metadata": {
  "kernelspec": {
   "display_name": "Python 3 (ipykernel)",
   "language": "python",
   "name": "python3"
  },
  "language_info": {
   "codemirror_mode": {
    "name": "ipython",
    "version": 3
   },
   "file_extension": ".py",
   "mimetype": "text/x-python",
   "name": "python",
   "nbconvert_exporter": "python",
   "pygments_lexer": "ipython3",
   "version": "3.10.0"
  },
  "vscode": {
   "interpreter": {
    "hash": "c01754e8627d0ea60fdf9a984fbf743943cf4db47884120dd04bfc512143b077"
   }
  }
 },
 "nbformat": 4,
 "nbformat_minor": 4
}
