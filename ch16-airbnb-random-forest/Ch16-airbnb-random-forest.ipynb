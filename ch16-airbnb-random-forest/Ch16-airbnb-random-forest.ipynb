{
 "cells": [
  {
   "cell_type": "markdown",
   "metadata": {},
   "source": [
    "#### Prepared for Gabor's Data Analysis\n",
    "\n",
    "### Data Analysis for Business, Economics, and Policy\n",
    "by Gabor Bekes and Gabor Kezdi\n",
    " \n",
    "Cambridge University Press 2021\n",
    "\n",
    "**[gabors-data-analysis.com ](https://gabors-data-analysis.com/)**\n",
    "\n",
    " License: Free to share, modify and use for educational purposes. \n",
    " Not to be used for commercial purposes.\n",
    "\n",
    "### Chapter 16\n",
    "**CH16A Predicting apartment prices with random forest**\n",
    "\n",
    "using the airbnb dataset\n",
    "\n",
    "version 0.92 2021-07-05"
   ]
  },
  {
   "cell_type": "code",
   "execution_count": 1,
   "metadata": {},
   "outputs": [],
   "source": [
    "import pandas as pd\n",
    "import numpy as np\n",
    "import os\n",
    "from pathlib import Path\n",
    "import sys\n",
    "from patsy import dmatrices\n",
    "from sklearn.model_selection import train_test_split\n",
    "from mizani.formatters import percent_format\n",
    "from plotnine import *\n",
    "import matplotlib.pyplot as plt\n",
    "\n",
    "from sklearn.ensemble import RandomForestRegressor\n",
    "from sklearn.model_selection import GridSearchCV\n",
    "from sklearn.model_selection import RandomizedSearchCV\n",
    "from sklearn.metrics import mean_squared_error\n",
    "from sklearn.impute import SimpleImputer\n",
    "from sklearn.inspection import permutation_importance\n",
    "from sklearn.inspection import plot_partial_dependence\n",
    "from sklearn.inspection import partial_dependence\n",
    "from sklearn.compose import ColumnTransformer\n",
    "from sklearn.pipeline import Pipeline\n",
    "from sklearn.preprocessing import OneHotEncoder\n",
    "import warnings\n",
    "\n",
    "warnings.filterwarnings('ignore')"
   ]
  },
  {
   "cell_type": "code",
   "execution_count": 2,
   "metadata": {},
   "outputs": [],
   "source": [
    "path = Path(os.getcwd())\n",
    "\n",
    "base_dir = str(path.parent.parent)\n",
    "\n",
    "data_in = os.path.join(base_dir, \"da_case_studies/ch16-airbnb-random-forest/\")\n",
    "data_out = os.path.join(base_dir, \"da_case_studies/ch16-airbnb-random-forest/\")\n",
    "output = os.path.join(base_dir, \"da_case_studies/ch16-airbnb-random-forest/output/\")\n",
    "func = os.path.join(base_dir, \"da_case_studies/ch00-tech-prep/\")\n",
    "\n",
    "sys.path.append(func)\n",
    "from py_helper_functions import *"
   ]
  },
  {
   "cell_type": "markdown",
   "metadata": {},
   "source": [
    "## PART I\n",
    "### Loading and preparing data \n",
    "----------------------------------------------"
   ]
  },
  {
   "cell_type": "code",
   "execution_count": 3,
   "metadata": {},
   "outputs": [],
   "source": [
    "area = \"london\"\n",
    "data = pd.read_csv(data_in + \"airbnb_\" + area + \"_workfile_adj_book.csv\")\n",
    "data = data.loc[data.price.notna(), :]"
   ]
  },
  {
   "cell_type": "code",
   "execution_count": 4,
   "metadata": {},
   "outputs": [],
   "source": [
    "def count_missing_values(df):\n",
    "    return df.isna().sum()[df.isna().sum()>0]"
   ]
  },
  {
   "cell_type": "code",
   "execution_count": 5,
   "metadata": {},
   "outputs": [
    {
     "data": {
      "text/plain": [
       "Series([], dtype: int64)"
      ]
     },
     "execution_count": 5,
     "metadata": {},
     "output_type": "execute_result"
    }
   ],
   "source": [
    "count_missing_values(data)"
   ]
  },
  {
   "cell_type": "code",
   "execution_count": 6,
   "metadata": {},
   "outputs": [],
   "source": [
    "# Sample definition and preparation ---------------------------------------\n",
    "\n",
    "# We focus on normal apartments, n<8\n",
    "data = data.query('n_accommodates < 8')"
   ]
  },
  {
   "cell_type": "code",
   "execution_count": 7,
   "metadata": {},
   "outputs": [],
   "source": [
    "# copy a variable - purpose later, see at variable importance\n",
    "data = data.assign(n_accommodates_copy = data.n_accommodates)"
   ]
  },
  {
   "cell_type": "code",
   "execution_count": 8,
   "metadata": {},
   "outputs": [
    {
     "data": {
      "text/html": [
       "<div>\n",
       "<style scoped>\n",
       "    .dataframe tbody tr th:only-of-type {\n",
       "        vertical-align: middle;\n",
       "    }\n",
       "\n",
       "    .dataframe tbody tr th {\n",
       "        vertical-align: top;\n",
       "    }\n",
       "\n",
       "    .dataframe thead th {\n",
       "        text-align: right;\n",
       "    }\n",
       "</style>\n",
       "<table border=\"1\" class=\"dataframe\">\n",
       "  <thead>\n",
       "    <tr style=\"text-align: right;\">\n",
       "      <th></th>\n",
       "      <th>usd_price_day</th>\n",
       "      <th>n_accommodates</th>\n",
       "      <th>n_bathrooms</th>\n",
       "      <th>n_review_scores_rating</th>\n",
       "      <th>n_number_of_reviews</th>\n",
       "      <th>n_guests_included</th>\n",
       "      <th>n_reviews_per_month</th>\n",
       "      <th>n_extra_people</th>\n",
       "      <th>n_minimum_nights</th>\n",
       "      <th>n_beds</th>\n",
       "      <th>...</th>\n",
       "      <th>flag_review_scores_rating</th>\n",
       "      <th>flag_reviews_per_month</th>\n",
       "      <th>flag_n_number_of_reviews</th>\n",
       "      <th>ln_days_since</th>\n",
       "      <th>ln_days_since2</th>\n",
       "      <th>ln_days_since3</th>\n",
       "      <th>n_days_since2</th>\n",
       "      <th>n_days_since3</th>\n",
       "      <th>ln_review_scores_rating</th>\n",
       "      <th>n_accommodates_copy</th>\n",
       "    </tr>\n",
       "  </thead>\n",
       "  <tbody>\n",
       "    <tr>\n",
       "      <th>count</th>\n",
       "      <td>49826.000000</td>\n",
       "      <td>49826.000000</td>\n",
       "      <td>49826.000000</td>\n",
       "      <td>49826.000000</td>\n",
       "      <td>49826.000000</td>\n",
       "      <td>49826.000000</td>\n",
       "      <td>49826.000000</td>\n",
       "      <td>49826.00000</td>\n",
       "      <td>49826.000000</td>\n",
       "      <td>49826.000000</td>\n",
       "      <td>...</td>\n",
       "      <td>49826.0</td>\n",
       "      <td>49826.0</td>\n",
       "      <td>49826.000000</td>\n",
       "      <td>49826.000000</td>\n",
       "      <td>49826.000000</td>\n",
       "      <td>49826.000000</td>\n",
       "      <td>4.982600e+04</td>\n",
       "      <td>4.982600e+04</td>\n",
       "      <td>49826.000000</td>\n",
       "      <td>49826.000000</td>\n",
       "    </tr>\n",
       "    <tr>\n",
       "      <th>mean</th>\n",
       "      <td>88.984044</td>\n",
       "      <td>2.838759</td>\n",
       "      <td>1.224260</td>\n",
       "      <td>92.458616</td>\n",
       "      <td>12.340144</td>\n",
       "      <td>1.356180</td>\n",
       "      <td>1.138253</td>\n",
       "      <td>6.50873</td>\n",
       "      <td>3.300947</td>\n",
       "      <td>1.585959</td>\n",
       "      <td>...</td>\n",
       "      <td>0.0</td>\n",
       "      <td>0.0</td>\n",
       "      <td>0.303998</td>\n",
       "      <td>5.713297</td>\n",
       "      <td>33.456371</td>\n",
       "      <td>199.607207</td>\n",
       "      <td>2.931985e+05</td>\n",
       "      <td>3.046539e+08</td>\n",
       "      <td>4.520910</td>\n",
       "      <td>2.838759</td>\n",
       "    </tr>\n",
       "    <tr>\n",
       "      <th>std</th>\n",
       "      <td>70.515089</td>\n",
       "      <td>1.494748</td>\n",
       "      <td>0.466448</td>\n",
       "      <td>8.418474</td>\n",
       "      <td>25.889935</td>\n",
       "      <td>0.879263</td>\n",
       "      <td>1.238156</td>\n",
       "      <td>12.31549</td>\n",
       "      <td>29.578062</td>\n",
       "      <td>0.927501</td>\n",
       "      <td>...</td>\n",
       "      <td>0.0</td>\n",
       "      <td>0.0</td>\n",
       "      <td>0.459986</td>\n",
       "      <td>0.902564</td>\n",
       "      <td>9.506988</td>\n",
       "      <td>80.264045</td>\n",
       "      <td>5.640361e+05</td>\n",
       "      <td>9.636140e+08</td>\n",
       "      <td>0.120421</td>\n",
       "      <td>1.494748</td>\n",
       "    </tr>\n",
       "    <tr>\n",
       "      <th>min</th>\n",
       "      <td>8.000000</td>\n",
       "      <td>1.000000</td>\n",
       "      <td>0.000000</td>\n",
       "      <td>20.000000</td>\n",
       "      <td>0.000000</td>\n",
       "      <td>1.000000</td>\n",
       "      <td>0.010000</td>\n",
       "      <td>0.00000</td>\n",
       "      <td>1.000000</td>\n",
       "      <td>0.000000</td>\n",
       "      <td>...</td>\n",
       "      <td>0.0</td>\n",
       "      <td>0.0</td>\n",
       "      <td>0.000000</td>\n",
       "      <td>0.000000</td>\n",
       "      <td>0.000000</td>\n",
       "      <td>0.000000</td>\n",
       "      <td>0.000000e+00</td>\n",
       "      <td>0.000000e+00</td>\n",
       "      <td>2.995732</td>\n",
       "      <td>1.000000</td>\n",
       "    </tr>\n",
       "    <tr>\n",
       "      <th>25%</th>\n",
       "      <td>41.000000</td>\n",
       "      <td>2.000000</td>\n",
       "      <td>1.000000</td>\n",
       "      <td>92.000000</td>\n",
       "      <td>0.000000</td>\n",
       "      <td>1.000000</td>\n",
       "      <td>0.470000</td>\n",
       "      <td>0.00000</td>\n",
       "      <td>1.000000</td>\n",
       "      <td>1.000000</td>\n",
       "      <td>...</td>\n",
       "      <td>0.0</td>\n",
       "      <td>0.0</td>\n",
       "      <td>0.000000</td>\n",
       "      <td>5.433722</td>\n",
       "      <td>29.525335</td>\n",
       "      <td>160.432461</td>\n",
       "      <td>5.198400e+04</td>\n",
       "      <td>1.185235e+07</td>\n",
       "      <td>4.521789</td>\n",
       "      <td>2.000000</td>\n",
       "    </tr>\n",
       "    <tr>\n",
       "      <th>50%</th>\n",
       "      <td>70.000000</td>\n",
       "      <td>2.000000</td>\n",
       "      <td>1.000000</td>\n",
       "      <td>94.000000</td>\n",
       "      <td>3.000000</td>\n",
       "      <td>1.000000</td>\n",
       "      <td>0.770000</td>\n",
       "      <td>0.00000</td>\n",
       "      <td>2.000000</td>\n",
       "      <td>1.000000</td>\n",
       "      <td>...</td>\n",
       "      <td>0.0</td>\n",
       "      <td>0.0</td>\n",
       "      <td>0.000000</td>\n",
       "      <td>5.793014</td>\n",
       "      <td>33.559007</td>\n",
       "      <td>194.407782</td>\n",
       "      <td>1.069290e+05</td>\n",
       "      <td>3.496578e+07</td>\n",
       "      <td>4.543295</td>\n",
       "      <td>2.000000</td>\n",
       "    </tr>\n",
       "    <tr>\n",
       "      <th>75%</th>\n",
       "      <td>110.000000</td>\n",
       "      <td>4.000000</td>\n",
       "      <td>1.000000</td>\n",
       "      <td>97.000000</td>\n",
       "      <td>12.000000</td>\n",
       "      <td>1.000000</td>\n",
       "      <td>1.170000</td>\n",
       "      <td>10.00000</td>\n",
       "      <td>3.000000</td>\n",
       "      <td>2.000000</td>\n",
       "      <td>...</td>\n",
       "      <td>0.0</td>\n",
       "      <td>0.0</td>\n",
       "      <td>1.000000</td>\n",
       "      <td>6.224558</td>\n",
       "      <td>38.745128</td>\n",
       "      <td>241.171311</td>\n",
       "      <td>2.540160e+05</td>\n",
       "      <td>1.280241e+08</td>\n",
       "      <td>4.574711</td>\n",
       "      <td>4.000000</td>\n",
       "    </tr>\n",
       "    <tr>\n",
       "      <th>max</th>\n",
       "      <td>999.000000</td>\n",
       "      <td>7.000000</td>\n",
       "      <td>8.000000</td>\n",
       "      <td>100.000000</td>\n",
       "      <td>396.000000</td>\n",
       "      <td>16.000000</td>\n",
       "      <td>15.000000</td>\n",
       "      <td>240.00000</td>\n",
       "      <td>5000.000000</td>\n",
       "      <td>16.000000</td>\n",
       "      <td>...</td>\n",
       "      <td>0.0</td>\n",
       "      <td>0.0</td>\n",
       "      <td>1.000000</td>\n",
       "      <td>7.909489</td>\n",
       "      <td>62.560024</td>\n",
       "      <td>494.817853</td>\n",
       "      <td>7.409284e+06</td>\n",
       "      <td>2.016807e+10</td>\n",
       "      <td>4.605170</td>\n",
       "      <td>7.000000</td>\n",
       "    </tr>\n",
       "  </tbody>\n",
       "</table>\n",
       "<p>8 rows × 83 columns</p>\n",
       "</div>"
      ],
      "text/plain": [
       "       usd_price_day  n_accommodates   n_bathrooms  n_review_scores_rating  \\\n",
       "count   49826.000000    49826.000000  49826.000000            49826.000000   \n",
       "mean       88.984044        2.838759      1.224260               92.458616   \n",
       "std        70.515089        1.494748      0.466448                8.418474   \n",
       "min         8.000000        1.000000      0.000000               20.000000   \n",
       "25%        41.000000        2.000000      1.000000               92.000000   \n",
       "50%        70.000000        2.000000      1.000000               94.000000   \n",
       "75%       110.000000        4.000000      1.000000               97.000000   \n",
       "max       999.000000        7.000000      8.000000              100.000000   \n",
       "\n",
       "       n_number_of_reviews  n_guests_included  n_reviews_per_month  \\\n",
       "count         49826.000000       49826.000000         49826.000000   \n",
       "mean             12.340144           1.356180             1.138253   \n",
       "std              25.889935           0.879263             1.238156   \n",
       "min               0.000000           1.000000             0.010000   \n",
       "25%               0.000000           1.000000             0.470000   \n",
       "50%               3.000000           1.000000             0.770000   \n",
       "75%              12.000000           1.000000             1.170000   \n",
       "max             396.000000          16.000000            15.000000   \n",
       "\n",
       "       n_extra_people  n_minimum_nights        n_beds  ...  \\\n",
       "count     49826.00000      49826.000000  49826.000000  ...   \n",
       "mean          6.50873          3.300947      1.585959  ...   \n",
       "std          12.31549         29.578062      0.927501  ...   \n",
       "min           0.00000          1.000000      0.000000  ...   \n",
       "25%           0.00000          1.000000      1.000000  ...   \n",
       "50%           0.00000          2.000000      1.000000  ...   \n",
       "75%          10.00000          3.000000      2.000000  ...   \n",
       "max         240.00000       5000.000000     16.000000  ...   \n",
       "\n",
       "       flag_review_scores_rating  flag_reviews_per_month  \\\n",
       "count                    49826.0                 49826.0   \n",
       "mean                         0.0                     0.0   \n",
       "std                          0.0                     0.0   \n",
       "min                          0.0                     0.0   \n",
       "25%                          0.0                     0.0   \n",
       "50%                          0.0                     0.0   \n",
       "75%                          0.0                     0.0   \n",
       "max                          0.0                     0.0   \n",
       "\n",
       "       flag_n_number_of_reviews  ln_days_since  ln_days_since2  \\\n",
       "count              49826.000000   49826.000000    49826.000000   \n",
       "mean                   0.303998       5.713297       33.456371   \n",
       "std                    0.459986       0.902564        9.506988   \n",
       "min                    0.000000       0.000000        0.000000   \n",
       "25%                    0.000000       5.433722       29.525335   \n",
       "50%                    0.000000       5.793014       33.559007   \n",
       "75%                    1.000000       6.224558       38.745128   \n",
       "max                    1.000000       7.909489       62.560024   \n",
       "\n",
       "       ln_days_since3  n_days_since2  n_days_since3  ln_review_scores_rating  \\\n",
       "count    49826.000000   4.982600e+04   4.982600e+04             49826.000000   \n",
       "mean       199.607207   2.931985e+05   3.046539e+08                 4.520910   \n",
       "std         80.264045   5.640361e+05   9.636140e+08                 0.120421   \n",
       "min          0.000000   0.000000e+00   0.000000e+00                 2.995732   \n",
       "25%        160.432461   5.198400e+04   1.185235e+07                 4.521789   \n",
       "50%        194.407782   1.069290e+05   3.496578e+07                 4.543295   \n",
       "75%        241.171311   2.540160e+05   1.280241e+08                 4.574711   \n",
       "max        494.817853   7.409284e+06   2.016807e+10                 4.605170   \n",
       "\n",
       "       n_accommodates_copy  \n",
       "count         49826.000000  \n",
       "mean              2.838759  \n",
       "std               1.494748  \n",
       "min               1.000000  \n",
       "25%               2.000000  \n",
       "50%               2.000000  \n",
       "75%               4.000000  \n",
       "max               7.000000  \n",
       "\n",
       "[8 rows x 83 columns]"
      ]
     },
     "execution_count": 8,
     "metadata": {},
     "output_type": "execute_result"
    }
   ],
   "source": [
    "\n",
    "# basic descr stat -------------------------------------------\n",
    "data.describe()"
   ]
  },
  {
   "cell_type": "code",
   "execution_count": 9,
   "metadata": {},
   "outputs": [
    {
     "data": {
      "text/plain": [
       "count    49826.000000\n",
       "mean        88.984044\n",
       "std         70.515089\n",
       "min          8.000000\n",
       "25%         41.000000\n",
       "50%         70.000000\n",
       "75%        110.000000\n",
       "max        999.000000\n",
       "Name: price, dtype: float64"
      ]
     },
     "execution_count": 9,
     "metadata": {},
     "output_type": "execute_result"
    }
   ],
   "source": [
    "data.price.describe()"
   ]
  },
  {
   "cell_type": "code",
   "execution_count": 10,
   "metadata": {},
   "outputs": [
    {
     "data": {
      "text/plain": [
       "Entire home/apt    24938\n",
       "Private room       24351\n",
       "Shared room          537\n",
       "Name: f_room_type, dtype: int64"
      ]
     },
     "execution_count": 10,
     "metadata": {},
     "output_type": "execute_result"
    }
   ],
   "source": [
    "data.f_room_type.value_counts()"
   ]
  },
  {
   "cell_type": "code",
   "execution_count": 11,
   "metadata": {},
   "outputs": [
    {
     "data": {
      "text/plain": [
       "Apartment    37467\n",
       "House        12359\n",
       "Name: f_property_type, dtype: int64"
      ]
     },
     "execution_count": 11,
     "metadata": {},
     "output_type": "execute_result"
    }
   ],
   "source": [
    "data.f_property_type.value_counts()"
   ]
  },
  {
   "cell_type": "code",
   "execution_count": 12,
   "metadata": {},
   "outputs": [
    {
     "data": {
      "text/plain": [
       "2    31575\n",
       "1    15148\n",
       "3     3103\n",
       "Name: f_number_of_reviews, dtype: int64"
      ]
     },
     "execution_count": 12,
     "metadata": {},
     "output_type": "execute_result"
    }
   ],
   "source": [
    "data.f_number_of_reviews.value_counts()"
   ]
  },
  {
   "cell_type": "code",
   "execution_count": 13,
   "metadata": {},
   "outputs": [],
   "source": [
    "# create train and holdout samples -------------------------------------------\n",
    "# train is where we do it all, incl CV\n",
    "\n",
    "# First pick a smaller than usual training set so that models run faster and check if works\n",
    "# If works, start anew without these two lines"
   ]
  },
  {
   "cell_type": "code",
   "execution_count": 14,
   "metadata": {},
   "outputs": [],
   "source": [
    "data_train, data_holdout = train_test_split(data,train_size=0.7, random_state=42)"
   ]
  },
  {
   "cell_type": "code",
   "execution_count": 15,
   "metadata": {},
   "outputs": [
    {
     "data": {
      "text/plain": [
       "((34878, 93), (14948, 93))"
      ]
     },
     "execution_count": 15,
     "metadata": {},
     "output_type": "execute_result"
    }
   ],
   "source": [
    "data_train.shape, data_holdout.shape"
   ]
  },
  {
   "cell_type": "code",
   "execution_count": 16,
   "metadata": {},
   "outputs": [],
   "source": [
    "# Basic Variables inc neighnourhood\n",
    "basic_vars = [\n",
    "    \"n_accommodates\",\n",
    "    \"n_beds\",\n",
    "    \"n_days_since\",\n",
    "    \"f_property_type\",\n",
    "    \"f_room_type\",\n",
    "    \"f_bathroom\",\n",
    "    \"f_cancellation_policy\",\n",
    "    \"f_bed_type\",\n",
    "    \"f_neighbourhood_cleansed\",\n",
    "]\n",
    "\n",
    "# reviews\n",
    "reviews = [\n",
    "    \"n_number_of_reviews\",\n",
    "    \"flag_n_number_of_reviews\",\n",
    "    \"n_review_scores_rating\",\n",
    "    \"flag_review_scores_rating\",\n",
    "]\n",
    "\n",
    "# Dummy variables\n",
    "amenities = [col for col in data if col.startswith(\"d_\")]\n",
    "\n",
    "# interactions for the LASSO\n",
    "# from ch14\n",
    "X1 = [\n",
    "    \"n_accommodates:f_property_type\",\n",
    "    \"f_room_type:f_property_type\",\n",
    "    \"f_room_type:d_familykidfriendly\",\n",
    "    \"d_airconditioning:f_property_type\",\n",
    "    \"d_cats:f_property_type\",\n",
    "    \"d_dogs:f_property_type\",\n",
    "]\n",
    "# with boroughs\n",
    "X2 = [\n",
    "    \"f_property_type:f_neighbourhood_cleansed\",\n",
    "    \"f_room_type:f_neighbourhood_cleansed\",\n",
    "    \"n_accommodates:f_neighbourhood_cleansed\",\n",
    "]"
   ]
  },
  {
   "cell_type": "code",
   "execution_count": 17,
   "metadata": {},
   "outputs": [],
   "source": [
    "predictors_1 = basic_vars\n",
    "predictors_2 = basic_vars + reviews + amenities\n",
    "predictors_E = basic_vars + reviews + amenities + X1 + X2"
   ]
  },
  {
   "cell_type": "markdown",
   "metadata": {},
   "source": [
    "## PART II\n",
    "### RANDOM FORESTS \n",
    "-------------------------------------------------------"
   ]
  },
  {
   "cell_type": "markdown",
   "metadata": {},
   "source": [
    "**Note:** n_estimators=500 in the R code.\n",
    "\n",
    "Here, we set it to 30 because the model runs mutch faster, and this does not change the results substantively here – however in other cases might."
   ]
  },
  {
   "cell_type": "code",
   "execution_count": 18,
   "metadata": {},
   "outputs": [],
   "source": [
    "#NOTE: set number of cores you want to run models\n",
    "ncores = 7"
   ]
  },
  {
   "cell_type": "code",
   "execution_count": 19,
   "metadata": {},
   "outputs": [
    {
     "name": "stdout",
     "output_type": "stream",
     "text": [
      "Fitting 5 folds for each of 6 candidates, totalling 30 fits\n",
      "[CV 1/5] END max_features=5, min_samples_split=6;, score=-46.106 total time=   1.0s\n",
      "[CV 2/5] END max_features=5, min_samples_split=6;, score=-44.956 total time=   0.4s\n",
      "[CV 3/5] END max_features=5, min_samples_split=6;, score=-45.958 total time=   0.4s\n",
      "[CV 4/5] END max_features=5, min_samples_split=6;, score=-43.283 total time=   0.4s\n",
      "[CV 5/5] END max_features=5, min_samples_split=6;, score=-46.790 total time=   0.4s\n",
      "[CV 1/5] END max_features=5, min_samples_split=11;, score=-46.268 total time=   0.3s\n",
      "[CV 2/5] END max_features=5, min_samples_split=11;, score=-45.043 total time=   0.4s\n",
      "[CV 3/5] END max_features=5, min_samples_split=11;, score=-46.077 total time=   0.3s\n",
      "[CV 4/5] END max_features=5, min_samples_split=11;, score=-43.614 total time=   0.3s\n",
      "[CV 5/5] END max_features=5, min_samples_split=11;, score=-46.928 total time=   0.4s\n",
      "[CV 1/5] END max_features=7, min_samples_split=6;, score=-45.471 total time=   0.4s\n",
      "[CV 2/5] END max_features=7, min_samples_split=6;, score=-44.707 total time=   0.4s\n",
      "[CV 3/5] END max_features=7, min_samples_split=6;, score=-45.590 total time=   0.4s\n",
      "[CV 4/5] END max_features=7, min_samples_split=6;, score=-43.014 total time=   0.4s\n",
      "[CV 5/5] END max_features=7, min_samples_split=6;, score=-45.930 total time=   0.4s\n",
      "[CV 1/5] END max_features=7, min_samples_split=11;, score=-45.512 total time=   0.4s\n",
      "[CV 2/5] END max_features=7, min_samples_split=11;, score=-44.478 total time=   0.3s\n",
      "[CV 3/5] END max_features=7, min_samples_split=11;, score=-45.830 total time=   0.3s\n",
      "[CV 4/5] END max_features=7, min_samples_split=11;, score=-43.063 total time=   0.4s\n",
      "[CV 5/5] END max_features=7, min_samples_split=11;, score=-46.442 total time=   0.3s\n",
      "[CV 1/5] END max_features=9, min_samples_split=6;, score=-45.284 total time=   0.4s\n",
      "[CV 2/5] END max_features=9, min_samples_split=6;, score=-44.425 total time=   0.4s\n",
      "[CV 3/5] END max_features=9, min_samples_split=6;, score=-44.942 total time=   0.4s\n",
      "[CV 4/5] END max_features=9, min_samples_split=6;, score=-42.591 total time=   0.4s\n",
      "[CV 5/5] END max_features=9, min_samples_split=6;, score=-45.861 total time=   0.4s\n",
      "[CV 1/5] END max_features=9, min_samples_split=11;, score=-45.360 total time=   0.4s\n",
      "[CV 2/5] END max_features=9, min_samples_split=11;, score=-44.263 total time=   0.4s\n",
      "[CV 3/5] END max_features=9, min_samples_split=11;, score=-45.176 total time=   0.4s\n",
      "[CV 4/5] END max_features=9, min_samples_split=11;, score=-42.570 total time=   0.4s\n",
      "[CV 5/5] END max_features=9, min_samples_split=11;, score=-45.892 total time=   0.4s\n"
     ]
    }
   ],
   "source": [
    "rfr = RandomForestRegressor(\n",
    "    random_state=42,\n",
    "    criterion=\"squared_error\",\n",
    "    n_estimators=30,\n",
    "    oob_score=True,\n",
    "    n_jobs=ncores,\n",
    ")\n",
    "\n",
    "tune_grid = {\"max_features\": [5, 7, 9], \"min_samples_split\": [6, 11]}\n",
    "\n",
    "rf_random = GridSearchCV(\n",
    "    rfr, tune_grid, cv=5, scoring=\"neg_root_mean_squared_error\", verbose=3\n",
    ")\n",
    "\n",
    "y, X = dmatrices(\"price ~ \" + \" + \".join(predictors_2), data_train)\n",
    "\n",
    "rf_model_1 = rf_random.fit(X, y.ravel())"
   ]
  },
  {
   "cell_type": "code",
   "execution_count": 20,
   "metadata": {},
   "outputs": [
    {
     "name": "stdout",
     "output_type": "stream",
     "text": [
      "Fitting 5 folds for each of 9 candidates, totalling 45 fits\n",
      "[CV 1/5] END max_features=8, min_samples_split=6;, score=-44.807 total time=   0.4s\n",
      "[CV 2/5] END max_features=8, min_samples_split=6;, score=-44.338 total time=   0.4s\n",
      "[CV 3/5] END max_features=8, min_samples_split=6;, score=-45.228 total time=   0.4s\n",
      "[CV 4/5] END max_features=8, min_samples_split=6;, score=-42.422 total time=   0.5s\n",
      "[CV 5/5] END max_features=8, min_samples_split=6;, score=-45.955 total time=   0.4s\n",
      "[CV 1/5] END max_features=8, min_samples_split=11;, score=-45.324 total time=   0.4s\n",
      "[CV 2/5] END max_features=8, min_samples_split=11;, score=-44.644 total time=   0.4s\n",
      "[CV 3/5] END max_features=8, min_samples_split=11;, score=-45.143 total time=   0.4s\n",
      "[CV 4/5] END max_features=8, min_samples_split=11;, score=-43.107 total time=   0.4s\n",
      "[CV 5/5] END max_features=8, min_samples_split=11;, score=-45.632 total time=   0.4s\n",
      "[CV 1/5] END max_features=8, min_samples_split=16;, score=-45.635 total time=   0.3s\n",
      "[CV 2/5] END max_features=8, min_samples_split=16;, score=-44.647 total time=   0.3s\n",
      "[CV 3/5] END max_features=8, min_samples_split=16;, score=-45.419 total time=   0.4s\n",
      "[CV 4/5] END max_features=8, min_samples_split=16;, score=-43.226 total time=   0.3s\n",
      "[CV 5/5] END max_features=8, min_samples_split=16;, score=-45.944 total time=   0.3s\n",
      "[CV 1/5] END max_features=10, min_samples_split=6;, score=-44.931 total time=   0.4s\n",
      "[CV 2/5] END max_features=10, min_samples_split=6;, score=-44.485 total time=   0.4s\n",
      "[CV 3/5] END max_features=10, min_samples_split=6;, score=-44.984 total time=   0.4s\n",
      "[CV 4/5] END max_features=10, min_samples_split=6;, score=-42.350 total time=   0.4s\n",
      "[CV 5/5] END max_features=10, min_samples_split=6;, score=-45.554 total time=   0.4s\n",
      "[CV 1/5] END max_features=10, min_samples_split=11;, score=-45.444 total time=   0.4s\n",
      "[CV 2/5] END max_features=10, min_samples_split=11;, score=-44.624 total time=   0.4s\n",
      "[CV 3/5] END max_features=10, min_samples_split=11;, score=-44.778 total time=   0.4s\n",
      "[CV 4/5] END max_features=10, min_samples_split=11;, score=-42.660 total time=   0.4s\n",
      "[CV 5/5] END max_features=10, min_samples_split=11;, score=-45.683 total time=   0.4s\n",
      "[CV 1/5] END max_features=10, min_samples_split=16;, score=-45.375 total time=   0.4s\n",
      "[CV 2/5] END max_features=10, min_samples_split=16;, score=-44.386 total time=   0.4s\n",
      "[CV 3/5] END max_features=10, min_samples_split=16;, score=-45.025 total time=   0.4s\n",
      "[CV 4/5] END max_features=10, min_samples_split=16;, score=-42.748 total time=   0.4s\n",
      "[CV 5/5] END max_features=10, min_samples_split=16;, score=-45.893 total time=   0.4s\n",
      "[CV 1/5] END max_features=12, min_samples_split=6;, score=-45.165 total time=   0.4s\n",
      "[CV 2/5] END max_features=12, min_samples_split=6;, score=-44.152 total time=   0.4s\n",
      "[CV 3/5] END max_features=12, min_samples_split=6;, score=-44.380 total time=   0.4s\n",
      "[CV 4/5] END max_features=12, min_samples_split=6;, score=-42.311 total time=   0.4s\n",
      "[CV 5/5] END max_features=12, min_samples_split=6;, score=-45.286 total time=   0.4s\n",
      "[CV 1/5] END max_features=12, min_samples_split=11;, score=-44.987 total time=   0.4s\n",
      "[CV 2/5] END max_features=12, min_samples_split=11;, score=-44.287 total time=   0.4s\n",
      "[CV 3/5] END max_features=12, min_samples_split=11;, score=-44.641 total time=   0.4s\n",
      "[CV 4/5] END max_features=12, min_samples_split=11;, score=-41.791 total time=   0.4s\n",
      "[CV 5/5] END max_features=12, min_samples_split=11;, score=-45.270 total time=   0.4s\n",
      "[CV 1/5] END max_features=12, min_samples_split=16;, score=-45.233 total time=   0.4s\n",
      "[CV 2/5] END max_features=12, min_samples_split=16;, score=-44.248 total time=   0.4s\n",
      "[CV 3/5] END max_features=12, min_samples_split=16;, score=-44.775 total time=   0.4s\n",
      "[CV 4/5] END max_features=12, min_samples_split=16;, score=-42.499 total time=   0.4s\n",
      "[CV 5/5] END max_features=12, min_samples_split=16;, score=-45.556 total time=   0.4s\n"
     ]
    }
   ],
   "source": [
    "rfr = RandomForestRegressor(\n",
    "    random_state=42,\n",
    "    criterion=\"squared_error\",\n",
    "    n_estimators=30,\n",
    "    oob_score=True,\n",
    "    n_jobs=ncores,\n",
    ")\n",
    "\n",
    "tune_grid = {\n",
    "    \"max_features\": [8, 10, 12],\n",
    "    \"min_samples_split\": [6, 11, 16],\n",
    "}\n",
    "\n",
    "rf_random = GridSearchCV(\n",
    "    rfr,\n",
    "    tune_grid,\n",
    "    cv=5,\n",
    "    scoring=\"neg_root_mean_squared_error\",\n",
    "    verbose=3,\n",
    ")\n",
    "\n",
    "y, X = dmatrices(\"price ~ \" + \" + \".join(predictors_2), data_train)\n",
    "\n",
    "rf_model_2 = rf_random.fit(X, y.ravel())"
   ]
  },
  {
   "cell_type": "markdown",
   "metadata": {},
   "source": [
    "### Table 16.1 Random forest RMSE by tuning parameters"
   ]
  },
  {
   "cell_type": "code",
   "execution_count": 21,
   "metadata": {},
   "outputs": [
    {
     "data": {
      "text/html": [
       "<div>\n",
       "<style scoped>\n",
       "    .dataframe tbody tr th:only-of-type {\n",
       "        vertical-align: middle;\n",
       "    }\n",
       "\n",
       "    .dataframe tbody tr th {\n",
       "        vertical-align: top;\n",
       "    }\n",
       "\n",
       "    .dataframe thead th {\n",
       "        text-align: right;\n",
       "    }\n",
       "</style>\n",
       "<table border=\"1\" class=\"dataframe\">\n",
       "  <thead>\n",
       "    <tr style=\"text-align: right;\">\n",
       "      <th>Variables</th>\n",
       "      <th>8</th>\n",
       "      <th>10</th>\n",
       "      <th>12</th>\n",
       "    </tr>\n",
       "    <tr>\n",
       "      <th>Min_nodes</th>\n",
       "      <th></th>\n",
       "      <th></th>\n",
       "      <th></th>\n",
       "    </tr>\n",
       "  </thead>\n",
       "  <tbody>\n",
       "    <tr>\n",
       "      <th>5</th>\n",
       "      <td>44.55</td>\n",
       "      <td>44.46</td>\n",
       "      <td>44.26</td>\n",
       "    </tr>\n",
       "    <tr>\n",
       "      <th>10</th>\n",
       "      <td>44.77</td>\n",
       "      <td>44.64</td>\n",
       "      <td>44.20</td>\n",
       "    </tr>\n",
       "    <tr>\n",
       "      <th>15</th>\n",
       "      <td>44.97</td>\n",
       "      <td>44.69</td>\n",
       "      <td>44.46</td>\n",
       "    </tr>\n",
       "  </tbody>\n",
       "</table>\n",
       "</div>"
      ],
      "text/plain": [
       "Variables     8      10     12\n",
       "Min_nodes                     \n",
       "5          44.55  44.46  44.26\n",
       "10         44.77  44.64  44.20\n",
       "15         44.97  44.69  44.46"
      ]
     },
     "execution_count": 21,
     "metadata": {},
     "output_type": "execute_result"
    }
   ],
   "source": [
    "pd.DataFrame(rf_model_2.cv_results_)[\n",
    "    [\"param_max_features\", \"param_min_samples_split\", \"mean_test_score\"]\n",
    "].assign(\n",
    "    mean_test_score=lambda x: x[\"mean_test_score\"] * -1,\n",
    "    Variables=lambda x: x[\"param_max_features\"],\n",
    "    Min_nodes=lambda x: x[\"param_min_samples_split\"] - 1,\n",
    ").pivot(\n",
    "    index=\"Min_nodes\", columns=\"Variables\", values=\"mean_test_score\"\n",
    ").round(\n",
    "    2\n",
    ")"
   ]
  },
  {
   "cell_type": "code",
   "execution_count": 22,
   "metadata": {},
   "outputs": [
    {
     "data": {
      "text/html": [
       "<div>\n",
       "<style scoped>\n",
       "    .dataframe tbody tr th:only-of-type {\n",
       "        vertical-align: middle;\n",
       "    }\n",
       "\n",
       "    .dataframe tbody tr th {\n",
       "        vertical-align: top;\n",
       "    }\n",
       "\n",
       "    .dataframe thead th {\n",
       "        text-align: right;\n",
       "    }\n",
       "</style>\n",
       "<table border=\"1\" class=\"dataframe\">\n",
       "  <thead>\n",
       "    <tr style=\"text-align: right;\">\n",
       "      <th></th>\n",
       "      <th>Min vars</th>\n",
       "      <th>Min nodes</th>\n",
       "    </tr>\n",
       "  </thead>\n",
       "  <tbody>\n",
       "    <tr>\n",
       "      <th>Model A</th>\n",
       "      <td>9</td>\n",
       "      <td>5</td>\n",
       "    </tr>\n",
       "    <tr>\n",
       "      <th>Model B</th>\n",
       "      <td>12</td>\n",
       "      <td>10</td>\n",
       "    </tr>\n",
       "  </tbody>\n",
       "</table>\n",
       "</div>"
      ],
      "text/plain": [
       "         Min vars  Min nodes\n",
       "Model A         9          5\n",
       "Model B        12         10"
      ]
     },
     "execution_count": 22,
     "metadata": {},
     "output_type": "execute_result"
    }
   ],
   "source": [
    "pd.DataFrame(\n",
    "    {\n",
    "        \"Min vars\": [\n",
    "            rf_model_1.best_estimator_.max_features,\n",
    "            rf_model_2.best_estimator_.max_features,\n",
    "        ],\n",
    "        \"Min nodes\": [\n",
    "            rf_model_1.best_estimator_.min_samples_split - 1,\n",
    "            rf_model_2.best_estimator_.min_samples_split - 1,\n",
    "        ],\n",
    "    },\n",
    "    [\"Model A\", \"Model B\"],\n",
    ")"
   ]
  },
  {
   "cell_type": "code",
   "execution_count": 23,
   "metadata": {},
   "outputs": [
    {
     "data": {
      "text/html": [
       "<div>\n",
       "<style scoped>\n",
       "    .dataframe tbody tr th:only-of-type {\n",
       "        vertical-align: middle;\n",
       "    }\n",
       "\n",
       "    .dataframe tbody tr th {\n",
       "        vertical-align: top;\n",
       "    }\n",
       "\n",
       "    .dataframe thead th {\n",
       "        text-align: right;\n",
       "    }\n",
       "</style>\n",
       "<table border=\"1\" class=\"dataframe\">\n",
       "  <thead>\n",
       "    <tr style=\"text-align: right;\">\n",
       "      <th></th>\n",
       "      <th>RMSE</th>\n",
       "    </tr>\n",
       "  </thead>\n",
       "  <tbody>\n",
       "    <tr>\n",
       "      <th>Model A</th>\n",
       "      <td>45.586</td>\n",
       "    </tr>\n",
       "    <tr>\n",
       "      <th>Model B</th>\n",
       "      <td>44.974</td>\n",
       "    </tr>\n",
       "  </tbody>\n",
       "</table>\n",
       "</div>"
      ],
      "text/plain": [
       "           RMSE\n",
       "Model A  45.586\n",
       "Model B  44.974"
      ]
     },
     "execution_count": 23,
     "metadata": {},
     "output_type": "execute_result"
    }
   ],
   "source": [
    "pd.DataFrame(\n",
    "    {\n",
    "        \"RMSE\": [\n",
    "            rf_model_1.cv_results_[\"mean_test_score\"].min(),\n",
    "            rf_model_2.cv_results_[\"mean_test_score\"].min(),\n",
    "        ]\n",
    "    },\n",
    "    [\"Model A\", \"Model B\"],\n",
    ").round(3) * -1"
   ]
  },
  {
   "cell_type": "markdown",
   "metadata": {},
   "source": [
    "## PART III\n",
    "### MODEL DIAGNOSTICS \n",
    "---"
   ]
  },
  {
   "cell_type": "code",
   "execution_count": 24,
   "metadata": {},
   "outputs": [],
   "source": [
    "rf_model_2_var_imp_df = (\n",
    "    pd.DataFrame(\n",
    "        rf_model_2.best_estimator_.feature_importances_, X.design_info.column_names\n",
    "    )\n",
    "    .reset_index()\n",
    "    .rename({\"index\": \"varname\", 0: \"imp\"}, axis=1)\n",
    "    .assign(\n",
    "        imp_percentage=lambda x: x[\"imp\"] / x[\"imp\"].sum(),\n",
    "        varname=lambda x: x.varname.str.replace(\"f_room_type[T.\", \"Room type:\", regex=False)\n",
    "        .str.replace(\"f_neighbourhood_cleansed[T.\", \"Borough:\",regex=False)\n",
    "        .str.replace(\"]\", \"\", regex=False),\n",
    "    )\n",
    "    .sort_values(by=[\"imp\"], ascending=False)\n",
    ")"
   ]
  },
  {
   "cell_type": "markdown",
   "metadata": {},
   "source": [
    "**1) full varimp plot, above a cutoff**"
   ]
  },
  {
   "cell_type": "code",
   "execution_count": 25,
   "metadata": {},
   "outputs": [
    {
     "data": {
      "image/png": "[encoded data removed]",
      "text/plain": [
       "<Figure size 640x480 with 1 Axes>"
      ]
     },
     "metadata": {},
     "output_type": "display_data"
    },
    {
     "data": {
      "text/plain": [
       "<ggplot: (400551774)>"
      ]
     },
     "execution_count": 25,
     "metadata": {},
     "output_type": "execute_result"
    }
   ],
   "source": [
    "cutoff = 0.013\n",
    "\n",
    "rf_model_2_var_imp_plot = (\n",
    "    ggplot(\n",
    "        rf_model_2_var_imp_df.loc[lambda x: x.imp > cutoff],\n",
    "        aes(x=\"reorder(varname, imp)\", y=\"imp_percentage\"),\n",
    "    )\n",
    "    + geom_point(color=color[0], size=2.5)\n",
    "    + geom_segment(\n",
    "        aes(x=\"varname\", xend=\"varname\", y=0, yend=\"imp_percentage\"),\n",
    "        color=color[0],\n",
    "        size=2,\n",
    "    )\n",
    "    + ylab(\"Importance (Percent)\")\n",
    "    + xlab(\"Variable Name\")\n",
    "    + coord_flip()\n",
    "    + scale_y_continuous(labels=percent_format())\n",
    "    + theme_bw()\n",
    ")\n",
    "rf_model_2_var_imp_plot"
   ]
  },
  {
   "cell_type": "markdown",
   "metadata": {},
   "source": [
    "**2) full varimp plot, top 10 only**"
   ]
  },
  {
   "cell_type": "code",
   "execution_count": 26,
   "metadata": {},
   "outputs": [
    {
     "data": {
      "image/png": "[encoded data removed]",
      "text/plain": [
       "<Figure size 640x480 with 1 Axes>"
      ]
     },
     "metadata": {},
     "output_type": "display_data"
    },
    {
     "data": {
      "text/plain": [
       "<ggplot: (390677788)>"
      ]
     },
     "execution_count": 26,
     "metadata": {},
     "output_type": "execute_result"
    }
   ],
   "source": [
    "ggplot(\n",
    "    rf_model_2_var_imp_df.iloc[:10, :],\n",
    "    aes(x=\"reorder(varname, imp)\", y=\"imp_percentage\"),\n",
    ") + geom_point(color=color[0], size=2.5) + geom_segment(\n",
    "    aes(x=\"varname\", xend=\"varname\", y=0, yend=\"imp_percentage\"), color=color[0], size=2\n",
    ") + ylab(\n",
    "    \"Importance (Percent)\"\n",
    ") + xlab(\n",
    "    \"Variable Name\"\n",
    ") + coord_flip() + scale_y_continuous(\n",
    "    labels=percent_format()\n",
    ") + theme_bw()"
   ]
  },
  {
   "cell_type": "markdown",
   "metadata": {},
   "source": [
    "**3) grouped variable importance - keep binaries created off factors together**\n",
    "\n",
    "For this, you need to create an sklearn pipeline and put OneHotEncoding in it (before, encoding was done by patsy's dmatrices). This way permutation_importance can calculate factor variables' importance "
   ]
  },
  {
   "cell_type": "code",
   "execution_count": 27,
   "metadata": {},
   "outputs": [],
   "source": [
    "categorical_columns = [col for col in predictors_2 if col.startswith(\"f_\")]\n",
    "numerical_columns = [col for col in predictors_2 if col not in categorical_columns]"
   ]
  },
  {
   "cell_type": "code",
   "execution_count": 28,
   "metadata": {},
   "outputs": [],
   "source": [
    "categorical_encoder = OneHotEncoder(handle_unknown=\"ignore\")\n",
    "\n",
    "preprocessing = ColumnTransformer(\n",
    "    [\n",
    "        (\"cat\", categorical_encoder, categorical_columns),\n",
    "        (\"num\", \"passthrough\", numerical_columns),\n",
    "    ]\n",
    ")\n",
    "\n",
    "rf_best_pipeline = Pipeline(\n",
    "    [\n",
    "        (\"preprocess\", preprocessing),\n",
    "        (\"regressor\", rf_model_2.best_estimator_),  # put best model to pipeline\n",
    "    ]\n",
    ")"
   ]
  },
  {
   "cell_type": "code",
   "execution_count": 29,
   "metadata": {},
   "outputs": [
    {
     "data": {
      "text/plain": [
       "Pipeline(steps=[('preprocess',\n",
       "                 ColumnTransformer(transformers=[('cat',\n",
       "                                                  OneHotEncoder(handle_unknown='ignore'),\n",
       "                                                  ['f_property_type',\n",
       "                                                   'f_room_type', 'f_bathroom',\n",
       "                                                   'f_cancellation_policy',\n",
       "                                                   'f_bed_type',\n",
       "                                                   'f_neighbourhood_cleansed']),\n",
       "                                                 ('num', 'passthrough',\n",
       "                                                  ['n_accommodates', 'n_beds',\n",
       "                                                   'n_days_since',\n",
       "                                                   'n_number_of_reviews',\n",
       "                                                   'flag_n_number_of_reviews',\n",
       "                                                   'n_review_scores_r...\n",
       "                                                   'd_doormanentry', 'd_dryer',\n",
       "                                                   'd_elevatorinbuilding',\n",
       "                                                   'd_essentials',\n",
       "                                                   'd_familykidfriendly',\n",
       "                                                   'd_fireextinguisher',\n",
       "                                                   'd_firstaidkit',\n",
       "                                                   'd_freeparkingonpremises',\n",
       "                                                   'd_freeparkingonstreet',\n",
       "                                                   'd_gym', 'd_hairdryer',\n",
       "                                                   'd_hangers', 'd_heating',\n",
       "                                                   'd_hottub', ...])])),\n",
       "                ('regressor',\n",
       "                 RandomForestRegressor(max_features=12, min_samples_split=11,\n",
       "                                       n_estimators=30, n_jobs=7,\n",
       "                                       oob_score=True, random_state=42))])"
      ]
     },
     "execution_count": 29,
     "metadata": {},
     "output_type": "execute_result"
    }
   ],
   "source": [
    "rf_best_pipeline.fit(data_train[predictors_2],data_train.price)"
   ]
  },
  {
   "cell_type": "code",
   "execution_count": 30,
   "metadata": {},
   "outputs": [],
   "source": [
    "# This takes a while\n",
    "result = permutation_importance(\n",
    "    rf_best_pipeline,\n",
    "    data_train[predictors_2],\n",
    "    data_train.price,\n",
    "    n_repeats=10,\n",
    "    random_state=45,\n",
    "    n_jobs=-1,\n",
    ")"
   ]
  },
  {
   "cell_type": "code",
   "execution_count": 31,
   "metadata": {},
   "outputs": [],
   "source": [
    "grouped = [\n",
    "    \"f_bed_type\",\n",
    "    \"f_property_type\",\n",
    "    \"f_room_type\",\n",
    "    \"f_bathroom\",\n",
    "    \"n_days_since\",\n",
    "    \"n_accommodates\",\n",
    "    \"n_beds\",\n",
    "    \"f_neighbourhood_cleansed\",\n",
    "    \"f_cancellation_policy\",\n",
    "]\n",
    "grouped_imp = (\n",
    "    pd.DataFrame(result.importances_mean, data_train[predictors_2].columns)\n",
    "    .loc[grouped]\n",
    "    .reset_index()\n",
    "    .rename({\"index\": \"varname\", 0: \"imp\"}, axis=1)\n",
    "    .assign(imp_percentage=lambda x: x[\"imp\"] / x[\"imp\"].sum())\n",
    "    .sort_values(by=[\"imp\"], ascending=False)\n",
    ")"
   ]
  },
  {
   "cell_type": "code",
   "execution_count": 32,
   "metadata": {},
   "outputs": [
    {
     "data": {
      "image/png": "[encoded data removed]",
      "text/plain": [
       "<Figure size 640x480 with 1 Axes>"
      ]
     },
     "metadata": {},
     "output_type": "display_data"
    },
    {
     "data": {
      "text/plain": [
       "<ggplot: (390705936)>"
      ]
     },
     "execution_count": 32,
     "metadata": {},
     "output_type": "execute_result"
    }
   ],
   "source": [
    "ggplot(grouped_imp, aes(x=\"reorder(varname, imp)\", y=\"imp_percentage\"),) + geom_point(\n",
    "    color=color[0], size=2.5\n",
    ") + geom_segment(\n",
    "    aes(x=\"varname\", xend=\"varname\", y=0, yend=\"imp_percentage\"), color=color[0], size=2\n",
    ") + ylab(\n",
    "    \"Importance (Percent)\"\n",
    ") + xlab(\n",
    "    \"Variable Name\"\n",
    ") + coord_flip() + scale_y_continuous(\n",
    "    labels=percent_format()\n",
    ") + theme_bw()"
   ]
  },
  {
   "cell_type": "markdown",
   "metadata": {},
   "source": [
    "## Partial Dependence Plots \n",
    "-------------------------------------------------------\n"
   ]
  },
  {
   "cell_type": "code",
   "execution_count": 33,
   "metadata": {},
   "outputs": [
    {
     "data": {
      "image/png": "[encoded data removed]",
      "text/plain": [
       "<Figure size 432x288 with 2 Axes>"
      ]
     },
     "metadata": {
      "needs_background": "light"
     },
     "output_type": "display_data"
    }
   ],
   "source": [
    "# Note: easy way, sklearn has plot_partial_dependence function\n",
    "# we do this on holdout set!\n",
    "plot_partial_dependence(\n",
    "    rf_best_pipeline,\n",
    "    data_holdout[predictors_2],\n",
    "    [\"n_accommodates\"],\n",
    "    feature_names=data_holdout[predictors_2].columns,\n",
    "    line_kw={\"marker\": \"o\", \"color\": color[0]},\n",
    ")\n",
    "plt.grid()\n",
    "plt.ylim(70, 130)\n",
    "plt.show()"
   ]
  },
  {
   "cell_type": "code",
   "execution_count": 34,
   "metadata": {},
   "outputs": [
    {
     "data": {
      "image/png": "[encoded data removed]",
      "text/plain": [
       "<Figure size 640x480 with 1 Axes>"
      ]
     },
     "metadata": {},
     "output_type": "display_data"
    },
    {
     "data": {
      "text/plain": [
       "<ggplot: (390798068)>"
      ]
     },
     "execution_count": 34,
     "metadata": {},
     "output_type": "execute_result"
    }
   ],
   "source": [
    "# replicate the exact book figure with plotnine\n",
    "accom_pdp = partial_dependence(\n",
    "    rf_best_pipeline, data_holdout[predictors_2], [\"n_accommodates\"], kind=\"average\"\n",
    ")\n",
    "\n",
    "accom_pdp = (\n",
    "    pd.DataFrame(accom_pdp[\"average\"], columns=accom_pdp[\"values\"][0].tolist())\n",
    "    .T.reset_index()\n",
    "    .rename({0: \"Predicted price\", \"index\": \"Accomodates (person)\"}, axis=1)\n",
    ")\n",
    "\n",
    "ggplot(accom_pdp, aes(x=\"Accomodates (person)\", y=\"Predicted price\")) + geom_point(\n",
    "    color=color[0], size=2\n",
    ") + geom_line(color=color[0], size=1) + scale_y_continuous(\n",
    "    limits=[70, 120], breaks=seq(70, 121, 10)\n",
    ") + scale_x_continuous(\n",
    "    breaks=range(1, 8)\n",
    ") + theme_bw()"
   ]
  },
  {
   "cell_type": "code",
   "execution_count": 35,
   "metadata": {},
   "outputs": [
    {
     "data": {
      "image/png": "[encoded data removed]",
      "text/plain": [
       "<Figure size 640x480 with 1 Axes>"
      ]
     },
     "metadata": {},
     "output_type": "display_data"
    },
    {
     "data": {
      "text/plain": [
       "<ggplot: (390840402)>"
      ]
     },
     "execution_count": 35,
     "metadata": {},
     "output_type": "execute_result"
    }
   ],
   "source": [
    "roomtype_pdp = partial_dependence(\n",
    "    rf_best_pipeline, data_holdout[predictors_2], [\"f_room_type\"], kind=\"average\"\n",
    ")\n",
    "\n",
    "roomtype_pdp = (\n",
    "    pd.DataFrame(roomtype_pdp[\"average\"], columns=roomtype_pdp[\"values\"][0].tolist())\n",
    "    .T.reset_index()\n",
    "    .rename({0: \"Predicted price\", \"index\": \"Room type\"}, axis=1)\n",
    ")\n",
    "\n",
    "ggplot(roomtype_pdp, aes(x=\"Room type\", y=\"Predicted price\")) + geom_point(\n",
    "    color=color[0], size=2\n",
    ") + scale_y_continuous(limits=[60, 120], breaks=seq(60, 121, 10)) + theme_bw()"
   ]
  },
  {
   "cell_type": "markdown",
   "metadata": {},
   "source": [
    "### Subsample performance: RMSE / mean(y) \n",
    "---------------------------------------\n",
    "NOTE  we do this on the holdout set.\n"
   ]
  },
  {
   "cell_type": "code",
   "execution_count": 36,
   "metadata": {},
   "outputs": [],
   "source": [
    "data_holdout_w_prediction = data_holdout.assign(\n",
    "    predicted_price=rf_best_pipeline.predict(data_holdout[predictors_2])\n",
    ")"
   ]
  },
  {
   "cell_type": "markdown",
   "metadata": {},
   "source": [
    "create nice summary table of heterogeneity"
   ]
  },
  {
   "cell_type": "code",
   "execution_count": 37,
   "metadata": {},
   "outputs": [],
   "source": [
    "def calculate_rmse(groupby_obj):\n",
    "    return (\n",
    "        groupby_obj.apply(\n",
    "            lambda x: mean_squared_error(x.predicted_price, x.price, squared=False),\n",
    "        )\n",
    "        .to_frame(name=\"rmse\")\n",
    "        .assign(mean_price=groupby_obj.apply(lambda x: np.mean(x.price)).values)\n",
    "        .assign(rmse_norm=lambda x: x.rmse / x.mean_price).round(2)\n",
    "    )"
   ]
  },
  {
   "cell_type": "code",
   "execution_count": 38,
   "metadata": {},
   "outputs": [],
   "source": [
    "# cheaper or more expensive flats - not used in book\n",
    "grouped_object = data_holdout_w_prediction.assign(\n",
    "    is_low_size=lambda x: np.where(x.n_accommodates <= 3, \"small apt\", \"large apt\")\n",
    ").groupby(\"is_low_size\")\n",
    "accom_subset = calculate_rmse(grouped_object)"
   ]
  },
  {
   "cell_type": "code",
   "execution_count": 39,
   "metadata": {},
   "outputs": [],
   "source": [
    "grouped_object = data_holdout_w_prediction.loc[\n",
    "    lambda x: x.f_neighbourhood_cleansed.isin(\n",
    "        [\n",
    "            \"Westminster\",\n",
    "            \"Camden\",\n",
    "            \"Kensington and Chelsea\",\n",
    "            \"Tower Hamlets\",\n",
    "            \"Hackney\",\n",
    "            \"Newham\",\n",
    "        ]\n",
    "    )\n",
    "].groupby(\"f_neighbourhood_cleansed\")\n",
    "neightbourhood_subset = calculate_rmse(grouped_object)"
   ]
  },
  {
   "cell_type": "code",
   "execution_count": 40,
   "metadata": {},
   "outputs": [],
   "source": [
    "grouped_object = data_holdout_w_prediction.loc[\n",
    "    lambda x: x.f_property_type.isin([\"Apartment\", \"House\"])\n",
    "].groupby(\"f_property_type\")\n",
    "proptype_subset = calculate_rmse(grouped_object)"
   ]
  },
  {
   "cell_type": "code",
   "execution_count": 41,
   "metadata": {},
   "outputs": [],
   "source": [
    "all_holdout = pd.DataFrame(\n",
    "    [\n",
    "        mean_squared_error(\n",
    "            data_holdout_w_prediction.price,\n",
    "            data_holdout_w_prediction.predicted_price,\n",
    "            squared=False,\n",
    "        ),\n",
    "        data_holdout_w_prediction.price.mean(),\n",
    "    ],\n",
    "    index=[\"rmse\", \"mean_price\"],\n",
    ").T.assign(rmse_norm=lambda x: x.rmse / x.mean_price).round(2)\n",
    "all_holdout.index = [\"All\"]"
   ]
  },
  {
   "cell_type": "code",
   "execution_count": 42,
   "metadata": {},
   "outputs": [],
   "source": [
    "type_rows = pd.DataFrame(\n",
    "    None,\n",
    "    index=[\"Apartment size\", \"Type\", \"Borough\"],\n",
    "    columns=[\"rmse\", \"mean_price\", \"rmse_norm\"],\n",
    ").fillna(\"\")"
   ]
  },
  {
   "cell_type": "markdown",
   "metadata": {},
   "source": [
    "### Table 16.2 Performance across subsamples"
   ]
  },
  {
   "cell_type": "code",
   "execution_count": 43,
   "metadata": {},
   "outputs": [
    {
     "data": {
      "text/html": [
       "<div>\n",
       "<style scoped>\n",
       "    .dataframe tbody tr th:only-of-type {\n",
       "        vertical-align: middle;\n",
       "    }\n",
       "\n",
       "    .dataframe tbody tr th {\n",
       "        vertical-align: top;\n",
       "    }\n",
       "\n",
       "    .dataframe thead th {\n",
       "        text-align: right;\n",
       "    }\n",
       "</style>\n",
       "<table border=\"1\" class=\"dataframe\">\n",
       "  <thead>\n",
       "    <tr style=\"text-align: right;\">\n",
       "      <th></th>\n",
       "      <th>rmse</th>\n",
       "      <th>mean_price</th>\n",
       "      <th>rmse_norm</th>\n",
       "    </tr>\n",
       "  </thead>\n",
       "  <tbody>\n",
       "    <tr>\n",
       "      <th>Apartment size</th>\n",
       "      <td></td>\n",
       "      <td></td>\n",
       "      <td></td>\n",
       "    </tr>\n",
       "    <tr>\n",
       "      <th>large apt</th>\n",
       "      <td>65.48</td>\n",
       "      <td>144.06</td>\n",
       "      <td>0.45</td>\n",
       "    </tr>\n",
       "    <tr>\n",
       "      <th>small apt</th>\n",
       "      <td>31.02</td>\n",
       "      <td>62.86</td>\n",
       "      <td>0.49</td>\n",
       "    </tr>\n",
       "    <tr>\n",
       "      <th>Type</th>\n",
       "      <td></td>\n",
       "      <td></td>\n",
       "      <td></td>\n",
       "    </tr>\n",
       "    <tr>\n",
       "      <th>Apartment</th>\n",
       "      <td>43.27</td>\n",
       "      <td>93.19</td>\n",
       "      <td>0.46</td>\n",
       "    </tr>\n",
       "    <tr>\n",
       "      <th>House</th>\n",
       "      <td>50.4</td>\n",
       "      <td>77.49</td>\n",
       "      <td>0.65</td>\n",
       "    </tr>\n",
       "    <tr>\n",
       "      <th>Borough</th>\n",
       "      <td></td>\n",
       "      <td></td>\n",
       "      <td></td>\n",
       "    </tr>\n",
       "    <tr>\n",
       "      <th>Camden</th>\n",
       "      <td>52.83</td>\n",
       "      <td>105.01</td>\n",
       "      <td>0.5</td>\n",
       "    </tr>\n",
       "    <tr>\n",
       "      <th>Hackney</th>\n",
       "      <td>38.71</td>\n",
       "      <td>76.05</td>\n",
       "      <td>0.51</td>\n",
       "    </tr>\n",
       "    <tr>\n",
       "      <th>Kensington and Chelsea</th>\n",
       "      <td>66.94</td>\n",
       "      <td>143.55</td>\n",
       "      <td>0.47</td>\n",
       "    </tr>\n",
       "    <tr>\n",
       "      <th>Newham</th>\n",
       "      <td>29.02</td>\n",
       "      <td>61.57</td>\n",
       "      <td>0.47</td>\n",
       "    </tr>\n",
       "    <tr>\n",
       "      <th>Tower Hamlets</th>\n",
       "      <td>35.44</td>\n",
       "      <td>74.25</td>\n",
       "      <td>0.48</td>\n",
       "    </tr>\n",
       "    <tr>\n",
       "      <th>Westminster</th>\n",
       "      <td>64.11</td>\n",
       "      <td>131.43</td>\n",
       "      <td>0.49</td>\n",
       "    </tr>\n",
       "    <tr>\n",
       "      <th>All</th>\n",
       "      <td>45.18</td>\n",
       "      <td>89.21</td>\n",
       "      <td>0.51</td>\n",
       "    </tr>\n",
       "  </tbody>\n",
       "</table>\n",
       "</div>"
      ],
      "text/plain": [
       "                         rmse mean_price rmse_norm\n",
       "Apartment size                                    \n",
       "large apt               65.48     144.06      0.45\n",
       "small apt               31.02      62.86      0.49\n",
       "Type                                              \n",
       "Apartment               43.27      93.19      0.46\n",
       "House                    50.4      77.49      0.65\n",
       "Borough                                           \n",
       "Camden                  52.83     105.01       0.5\n",
       "Hackney                 38.71      76.05      0.51\n",
       "Kensington and Chelsea  66.94     143.55      0.47\n",
       "Newham                  29.02      61.57      0.47\n",
       "Tower Hamlets           35.44      74.25      0.48\n",
       "Westminster             64.11     131.43      0.49\n",
       "All                     45.18      89.21      0.51"
      ]
     },
     "execution_count": 43,
     "metadata": {},
     "output_type": "execute_result"
    }
   ],
   "source": [
    "pd.concat(\n",
    "    [\n",
    "        type_rows.iloc[[0]],\n",
    "        accom_subset,\n",
    "        type_rows.iloc[[1]],\n",
    "        proptype_subset,\n",
    "        type_rows.iloc[[2]],\n",
    "        neightbourhood_subset,\n",
    "        all_holdout,\n",
    "    ]\n",
    ")"
   ]
  },
  {
   "cell_type": "markdown",
   "metadata": {},
   "source": [
    "## PART IV\n",
    "### HORSERACE: compare with other models \n",
    "-----------------------------------------------\n",
    "**NOTE: this part of the code is not finished**"
   ]
  },
  {
   "cell_type": "markdown",
   "metadata": {},
   "source": [
    "1. OLS with dummies for area\n",
    "\n",
    " using model B"
   ]
  },
  {
   "cell_type": "code",
   "execution_count": 44,
   "metadata": {},
   "outputs": [],
   "source": [
    "from sklearn.linear_model import LinearRegression\n",
    "from sklearn.metrics import mean_squared_error"
   ]
  },
  {
   "cell_type": "code",
   "execution_count": 45,
   "metadata": {},
   "outputs": [
    {
     "data": {
      "text/plain": [
       "47.158198045250636"
      ]
     },
     "execution_count": 45,
     "metadata": {},
     "output_type": "execute_result"
    }
   ],
   "source": [
    "y, X = dmatrices(\"price ~ \" + \" + \".join(predictors_2), data_train)\n",
    "\n",
    "ols_model = LinearRegression().fit(X,y)\n",
    "\n",
    "#y_test, X_test = dmatrices(\"price ~ \" + \" + \".join(predictors_2), data_holdout)\n",
    "\n",
    "y_hat = ols_model.predict(X)\n",
    "\n",
    "ols_rmse = mean_squared_error(y,y_hat,squared=False)\n",
    "ols_rmse"
   ]
  },
  {
   "cell_type": "code",
   "execution_count": 46,
   "metadata": {},
   "outputs": [],
   "source": [
    "ols_model_coeffs_df = pd.DataFrame(\n",
    "    ols_model.coef_.tolist()[0],\n",
    "    index=X.design_info.column_names,\n",
    "    columns=[\"ols_coefficient\"],\n",
    ").assign(ols_coefficient=lambda x: x.ols_coefficient.round(3))"
   ]
  },
  {
   "cell_type": "code",
   "execution_count": 47,
   "metadata": {},
   "outputs": [
    {
     "data": {
      "text/html": [
       "<div>\n",
       "<style scoped>\n",
       "    .dataframe tbody tr th:only-of-type {\n",
       "        vertical-align: middle;\n",
       "    }\n",
       "\n",
       "    .dataframe tbody tr th {\n",
       "        vertical-align: top;\n",
       "    }\n",
       "\n",
       "    .dataframe thead th {\n",
       "        text-align: right;\n",
       "    }\n",
       "</style>\n",
       "<table border=\"1\" class=\"dataframe\">\n",
       "  <thead>\n",
       "    <tr style=\"text-align: right;\">\n",
       "      <th></th>\n",
       "      <th>ols_coefficient</th>\n",
       "    </tr>\n",
       "  </thead>\n",
       "  <tbody>\n",
       "    <tr>\n",
       "      <th>Intercept</th>\n",
       "      <td>-0.000</td>\n",
       "    </tr>\n",
       "    <tr>\n",
       "      <th>f_property_type[T.House]</th>\n",
       "      <td>7.392</td>\n",
       "    </tr>\n",
       "    <tr>\n",
       "      <th>f_room_type[T.Private room]</th>\n",
       "      <td>-34.916</td>\n",
       "    </tr>\n",
       "    <tr>\n",
       "      <th>f_room_type[T.Shared room]</th>\n",
       "      <td>-44.589</td>\n",
       "    </tr>\n",
       "    <tr>\n",
       "      <th>f_cancellation_policy[T.moderate]</th>\n",
       "      <td>-1.387</td>\n",
       "    </tr>\n",
       "    <tr>\n",
       "      <th>...</th>\n",
       "      <td>...</td>\n",
       "    </tr>\n",
       "    <tr>\n",
       "      <th>d_tv</th>\n",
       "      <td>6.053</td>\n",
       "    </tr>\n",
       "    <tr>\n",
       "      <th>d_washer</th>\n",
       "      <td>-4.681</td>\n",
       "    </tr>\n",
       "    <tr>\n",
       "      <th>d_washerdryer</th>\n",
       "      <td>80.041</td>\n",
       "    </tr>\n",
       "    <tr>\n",
       "      <th>d_wheelchairaccessible</th>\n",
       "      <td>-1.930</td>\n",
       "    </tr>\n",
       "    <tr>\n",
       "      <th>d_wirelessinternet</th>\n",
       "      <td>-1.531</td>\n",
       "    </tr>\n",
       "  </tbody>\n",
       "</table>\n",
       "<p>97 rows × 1 columns</p>\n",
       "</div>"
      ],
      "text/plain": [
       "                                   ols_coefficient\n",
       "Intercept                                   -0.000\n",
       "f_property_type[T.House]                     7.392\n",
       "f_room_type[T.Private room]                -34.916\n",
       "f_room_type[T.Shared room]                 -44.589\n",
       "f_cancellation_policy[T.moderate]           -1.387\n",
       "...                                            ...\n",
       "d_tv                                         6.053\n",
       "d_washer                                    -4.681\n",
       "d_washerdryer                               80.041\n",
       "d_wheelchairaccessible                      -1.930\n",
       "d_wirelessinternet                          -1.531\n",
       "\n",
       "[97 rows x 1 columns]"
      ]
     },
     "execution_count": 47,
     "metadata": {},
     "output_type": "execute_result"
    }
   ],
   "source": [
    "ols_model_coeffs_df"
   ]
  },
  {
   "cell_type": "markdown",
   "metadata": {},
   "source": [
    "2.  LASSO\n",
    "\n",
    "using extended model w interactions"
   ]
  },
  {
   "cell_type": "code",
   "execution_count": 48,
   "metadata": {},
   "outputs": [],
   "source": [
    "from sklearn.linear_model import ElasticNet"
   ]
  },
  {
   "cell_type": "markdown",
   "metadata": {},
   "source": [
    "The parameter l1_ratio corresponds to alpha in the glmnet R package while alpha corresponds to the lambda parameter in glmnet. Specifically, l1_ratio = 1 is the lasso penalty. Currently, l1_ratio <= 0.01 is not reliable, unless you supply your own sequence of alpha.\n",
    "\n",
    "https://scikit-learn.org/stable/modules/generated/sklearn.linear_model.ElasticNet.html"
   ]
  },
  {
   "cell_type": "code",
   "execution_count": 49,
   "metadata": {},
   "outputs": [],
   "source": [
    "lasso_model =  ElasticNet(l1_ratio = 1,normalize=True,fit_intercept=True)"
   ]
  },
  {
   "cell_type": "code",
   "execution_count": 50,
   "metadata": {},
   "outputs": [],
   "source": [
    "lasso_model_cv = GridSearchCV(\n",
    "    lasso_model,\n",
    "    {\"alpha\":[i/100 for i in range(1, 26, 1)]},\n",
    "    cv=5,\n",
    "    scoring=\"neg_root_mean_squared_error\",\n",
    "    verbose=3,\n",
    ")\n"
   ]
  },
  {
   "cell_type": "code",
   "execution_count": 51,
   "metadata": {},
   "outputs": [],
   "source": [
    "y, X = dmatrices(\"price ~ \" + \" + \".join(predictors_E), data_train)"
   ]
  },
  {
   "cell_type": "code",
   "execution_count": 52,
   "metadata": {},
   "outputs": [
    {
     "name": "stdout",
     "output_type": "stream",
     "text": [
      "Fitting 5 folds for each of 25 candidates, totalling 125 fits\n",
      "[CV 1/5] END ......................alpha=0.01;, score=-48.065 total time=   0.3s\n",
      "[CV 2/5] END ......................alpha=0.01;, score=-46.626 total time=   0.4s\n",
      "[CV 3/5] END ......................alpha=0.01;, score=-47.383 total time=   0.4s\n",
      "[CV 4/5] END ......................alpha=0.01;, score=-45.670 total time=   0.3s\n",
      "[CV 5/5] END ......................alpha=0.01;, score=-48.532 total time=   0.4s\n",
      "[CV 1/5] END ......................alpha=0.02;, score=-49.671 total time=   0.4s\n",
      "[CV 2/5] END ......................alpha=0.02;, score=-48.017 total time=   0.3s\n",
      "[CV 3/5] END ......................alpha=0.02;, score=-48.788 total time=   0.3s\n",
      "[CV 4/5] END ......................alpha=0.02;, score=-47.270 total time=   0.3s\n",
      "[CV 5/5] END ......................alpha=0.02;, score=-50.202 total time=   0.3s\n",
      "[CV 1/5] END ......................alpha=0.03;, score=-50.922 total time=   0.2s\n",
      "[CV 2/5] END ......................alpha=0.03;, score=-49.145 total time=   0.3s\n",
      "[CV 3/5] END ......................alpha=0.03;, score=-49.937 total time=   0.2s\n",
      "[CV 4/5] END ......................alpha=0.03;, score=-48.553 total time=   0.2s\n",
      "[CV 5/5] END ......................alpha=0.03;, score=-51.460 total time=   0.3s\n",
      "[CV 1/5] END ......................alpha=0.04;, score=-52.010 total time=   0.3s\n",
      "[CV 2/5] END ......................alpha=0.04;, score=-50.040 total time=   0.3s\n",
      "[CV 3/5] END ......................alpha=0.04;, score=-51.083 total time=   0.2s\n",
      "[CV 4/5] END ......................alpha=0.04;, score=-49.630 total time=   0.3s\n",
      "[CV 5/5] END ......................alpha=0.04;, score=-52.641 total time=   0.2s\n",
      "[CV 1/5] END ......................alpha=0.05;, score=-52.758 total time=   0.2s\n",
      "[CV 2/5] END ......................alpha=0.05;, score=-50.669 total time=   0.1s\n",
      "[CV 3/5] END ......................alpha=0.05;, score=-51.970 total time=   0.2s\n",
      "[CV 4/5] END ......................alpha=0.05;, score=-50.442 total time=   0.1s\n",
      "[CV 5/5] END ......................alpha=0.05;, score=-53.520 total time=   0.1s\n",
      "[CV 1/5] END ......................alpha=0.06;, score=-53.649 total time=   0.1s\n",
      "[CV 2/5] END ......................alpha=0.06;, score=-51.419 total time=   0.2s\n",
      "[CV 3/5] END ......................alpha=0.06;, score=-52.970 total time=   0.1s\n",
      "[CV 4/5] END ......................alpha=0.06;, score=-51.365 total time=   0.2s\n",
      "[CV 5/5] END ......................alpha=0.06;, score=-54.543 total time=   0.2s\n",
      "[CV 1/5] END ......................alpha=0.07;, score=-54.683 total time=   0.1s\n",
      "[CV 2/5] END ......................alpha=0.07;, score=-52.320 total time=   0.2s\n",
      "[CV 3/5] END ......................alpha=0.07;, score=-54.113 total time=   0.2s\n",
      "[CV 4/5] END ......................alpha=0.07;, score=-52.430 total time=   0.2s\n",
      "[CV 5/5] END ......................alpha=0.07;, score=-55.721 total time=   0.1s\n",
      "[CV 1/5] END ......................alpha=0.08;, score=-55.852 total time=   0.1s\n",
      "[CV 2/5] END ......................alpha=0.08;, score=-53.364 total time=   0.1s\n",
      "[CV 3/5] END ......................alpha=0.08;, score=-55.391 total time=   0.2s\n",
      "[CV 4/5] END ......................alpha=0.08;, score=-53.630 total time=   0.2s\n",
      "[CV 5/5] END ......................alpha=0.08;, score=-57.021 total time=   0.3s\n",
      "[CV 1/5] END ......................alpha=0.09;, score=-56.783 total time=   0.2s\n",
      "[CV 2/5] END ......................alpha=0.09;, score=-54.226 total time=   0.2s\n",
      "[CV 3/5] END ......................alpha=0.09;, score=-56.250 total time=   0.2s\n",
      "[CV 4/5] END ......................alpha=0.09;, score=-54.565 total time=   0.1s\n",
      "[CV 5/5] END ......................alpha=0.09;, score=-57.842 total time=   0.2s\n",
      "[CV 1/5] END .......................alpha=0.1;, score=-57.424 total time=   0.2s\n",
      "[CV 2/5] END .......................alpha=0.1;, score=-54.915 total time=   0.2s\n",
      "[CV 3/5] END .......................alpha=0.1;, score=-56.865 total time=   0.2s\n",
      "[CV 4/5] END .......................alpha=0.1;, score=-55.339 total time=   0.1s\n",
      "[CV 5/5] END .......................alpha=0.1;, score=-58.519 total time=   0.1s\n",
      "[CV 1/5] END ......................alpha=0.11;, score=-58.060 total time=   0.2s\n",
      "[CV 2/5] END ......................alpha=0.11;, score=-55.501 total time=   0.2s\n",
      "[CV 3/5] END ......................alpha=0.11;, score=-57.506 total time=   0.1s\n",
      "[CV 4/5] END ......................alpha=0.11;, score=-56.021 total time=   0.1s\n",
      "[CV 5/5] END ......................alpha=0.11;, score=-59.173 total time=   0.2s\n",
      "[CV 1/5] END ......................alpha=0.12;, score=-58.748 total time=   0.2s\n",
      "[CV 2/5] END ......................alpha=0.12;, score=-56.143 total time=   0.2s\n",
      "[CV 3/5] END ......................alpha=0.12;, score=-58.200 total time=   0.1s\n",
      "[CV 4/5] END ......................alpha=0.12;, score=-56.755 total time=   0.2s\n",
      "[CV 5/5] END ......................alpha=0.12;, score=-59.877 total time=   0.1s\n",
      "[CV 1/5] END ......................alpha=0.13;, score=-59.486 total time=   0.1s\n",
      "[CV 2/5] END ......................alpha=0.13;, score=-56.839 total time=   0.2s\n",
      "[CV 3/5] END ......................alpha=0.13;, score=-58.945 total time=   0.2s\n",
      "[CV 4/5] END ......................alpha=0.13;, score=-57.539 total time=   0.1s\n",
      "[CV 5/5] END ......................alpha=0.13;, score=-60.632 total time=   0.1s\n",
      "[CV 1/5] END ......................alpha=0.14;, score=-60.273 total time=   0.2s\n",
      "[CV 2/5] END ......................alpha=0.14;, score=-57.586 total time=   0.1s\n",
      "[CV 3/5] END ......................alpha=0.14;, score=-59.740 total time=   0.1s\n",
      "[CV 4/5] END ......................alpha=0.14;, score=-58.370 total time=   0.1s\n",
      "[CV 5/5] END ......................alpha=0.14;, score=-61.435 total time=   0.1s\n",
      "[CV 1/5] END ......................alpha=0.15;, score=-61.107 total time=   0.2s\n",
      "[CV 2/5] END ......................alpha=0.15;, score=-58.383 total time=   0.1s\n",
      "[CV 3/5] END ......................alpha=0.15;, score=-60.582 total time=   0.1s\n",
      "[CV 4/5] END ......................alpha=0.15;, score=-59.247 total time=   0.1s\n",
      "[CV 5/5] END ......................alpha=0.15;, score=-62.283 total time=   0.1s\n",
      "[CV 1/5] END ......................alpha=0.16;, score=-61.985 total time=   0.2s\n",
      "[CV 2/5] END ......................alpha=0.16;, score=-59.228 total time=   0.2s\n",
      "[CV 3/5] END ......................alpha=0.16;, score=-61.470 total time=   0.1s\n",
      "[CV 4/5] END ......................alpha=0.16;, score=-60.167 total time=   0.2s\n",
      "[CV 5/5] END ......................alpha=0.16;, score=-63.177 total time=   0.1s\n",
      "[CV 1/5] END ......................alpha=0.17;, score=-62.906 total time=   0.1s\n",
      "[CV 2/5] END ......................alpha=0.17;, score=-60.118 total time=   0.2s\n",
      "[CV 3/5] END ......................alpha=0.17;, score=-62.401 total time=   0.2s\n",
      "[CV 4/5] END ......................alpha=0.17;, score=-61.130 total time=   0.1s\n",
      "[CV 5/5] END ......................alpha=0.17;, score=-64.112 total time=   0.2s\n",
      "[CV 1/5] END ......................alpha=0.18;, score=-63.868 total time=   0.2s\n",
      "[CV 2/5] END ......................alpha=0.18;, score=-61.052 total time=   0.2s\n",
      "[CV 3/5] END ......................alpha=0.18;, score=-63.373 total time=   0.1s\n",
      "[CV 4/5] END ......................alpha=0.18;, score=-62.132 total time=   0.1s\n",
      "[CV 5/5] END ......................alpha=0.18;, score=-65.089 total time=   0.2s\n",
      "[CV 1/5] END ......................alpha=0.19;, score=-64.839 total time=   0.1s\n",
      "[CV 2/5] END ......................alpha=0.19;, score=-62.007 total time=   0.1s\n",
      "[CV 3/5] END ......................alpha=0.19;, score=-64.380 total time=   0.1s\n",
      "[CV 4/5] END ......................alpha=0.19;, score=-63.134 total time=   0.1s\n",
      "[CV 5/5] END ......................alpha=0.19;, score=-66.104 total time=   0.2s\n",
      "[CV 1/5] END .......................alpha=0.2;, score=-65.675 total time=   0.1s\n",
      "[CV 2/5] END .......................alpha=0.2;, score=-62.808 total time=   0.1s\n",
      "[CV 3/5] END .......................alpha=0.2;, score=-65.230 total time=   0.1s\n",
      "[CV 4/5] END .......................alpha=0.2;, score=-63.992 total time=   0.1s\n",
      "[CV 5/5] END .......................alpha=0.2;, score=-67.007 total time=   0.1s\n",
      "[CV 1/5] END ......................alpha=0.21;, score=-66.543 total time=   0.1s\n",
      "[CV 2/5] END ......................alpha=0.21;, score=-63.643 total time=   0.1s\n",
      "[CV 3/5] END ......................alpha=0.21;, score=-66.111 total time=   0.1s\n"
     ]
    },
    {
     "name": "stdout",
     "output_type": "stream",
     "text": [
      "[CV 4/5] END ......................alpha=0.21;, score=-64.880 total time=   0.1s\n",
      "[CV 5/5] END ......................alpha=0.21;, score=-67.910 total time=   0.1s\n",
      "[CV 1/5] END ......................alpha=0.22;, score=-67.441 total time=   0.1s\n",
      "[CV 2/5] END ......................alpha=0.22;, score=-64.509 total time=   0.1s\n",
      "[CV 3/5] END ......................alpha=0.22;, score=-67.022 total time=   0.1s\n",
      "[CV 4/5] END ......................alpha=0.22;, score=-65.796 total time=   0.1s\n",
      "[CV 5/5] END ......................alpha=0.22;, score=-68.842 total time=   0.1s\n",
      "[CV 1/5] END ......................alpha=0.23;, score=-68.368 total time=   0.1s\n",
      "[CV 2/5] END ......................alpha=0.23;, score=-65.407 total time=   0.1s\n",
      "[CV 3/5] END ......................alpha=0.23;, score=-67.963 total time=   0.1s\n",
      "[CV 4/5] END ......................alpha=0.23;, score=-66.741 total time=   0.1s\n",
      "[CV 5/5] END ......................alpha=0.23;, score=-69.804 total time=   0.1s\n",
      "[CV 1/5] END ......................alpha=0.24;, score=-69.324 total time=   0.1s\n",
      "[CV 2/5] END ......................alpha=0.24;, score=-66.334 total time=   0.1s\n",
      "[CV 3/5] END ......................alpha=0.24;, score=-68.932 total time=   0.1s\n",
      "[CV 4/5] END ......................alpha=0.24;, score=-67.712 total time=   0.1s\n",
      "[CV 5/5] END ......................alpha=0.24;, score=-70.793 total time=   0.1s\n",
      "[CV 1/5] END ......................alpha=0.25;, score=-70.307 total time=   0.1s\n",
      "[CV 2/5] END ......................alpha=0.25;, score=-67.289 total time=   0.1s\n",
      "[CV 3/5] END ......................alpha=0.25;, score=-69.927 total time=   0.1s\n",
      "[CV 4/5] END ......................alpha=0.25;, score=-68.708 total time=   0.1s\n",
      "[CV 5/5] END ......................alpha=0.25;, score=-71.809 total time=   0.1s\n"
     ]
    },
    {
     "data": {
      "text/plain": [
       "GridSearchCV(cv=5, estimator=ElasticNet(l1_ratio=1, normalize=True),\n",
       "             param_grid={'alpha': [0.01, 0.02, 0.03, 0.04, 0.05, 0.06, 0.07,\n",
       "                                   0.08, 0.09, 0.1, 0.11, 0.12, 0.13, 0.14,\n",
       "                                   0.15, 0.16, 0.17, 0.18, 0.19, 0.2, 0.21,\n",
       "                                   0.22, 0.23, 0.24, 0.25]},\n",
       "             scoring='neg_root_mean_squared_error', verbose=3)"
      ]
     },
     "execution_count": 52,
     "metadata": {},
     "output_type": "execute_result"
    }
   ],
   "source": [
    "lasso_model_cv.fit(X, y.ravel())"
   ]
  },
  {
   "cell_type": "code",
   "execution_count": 53,
   "metadata": {},
   "outputs": [
    {
     "data": {
      "text/html": [
       "<div>\n",
       "<style scoped>\n",
       "    .dataframe tbody tr th:only-of-type {\n",
       "        vertical-align: middle;\n",
       "    }\n",
       "\n",
       "    .dataframe tbody tr th {\n",
       "        vertical-align: top;\n",
       "    }\n",
       "\n",
       "    .dataframe thead th {\n",
       "        text-align: right;\n",
       "    }\n",
       "</style>\n",
       "<table border=\"1\" class=\"dataframe\">\n",
       "  <thead>\n",
       "    <tr style=\"text-align: right;\">\n",
       "      <th></th>\n",
       "      <th>lasso_coefficient</th>\n",
       "    </tr>\n",
       "  </thead>\n",
       "  <tbody>\n",
       "    <tr>\n",
       "      <th>f_room_type[T.Private room]</th>\n",
       "      <td>-34.620</td>\n",
       "    </tr>\n",
       "    <tr>\n",
       "      <th>f_room_type[T.Shared room]</th>\n",
       "      <td>-28.414</td>\n",
       "    </tr>\n",
       "    <tr>\n",
       "      <th>f_cancellation_policy[T.strict]</th>\n",
       "      <td>1.739</td>\n",
       "    </tr>\n",
       "    <tr>\n",
       "      <th>f_neighbourhood_cleansed[T.City of London]</th>\n",
       "      <td>12.733</td>\n",
       "    </tr>\n",
       "    <tr>\n",
       "      <th>f_room_type[T.Private room]:f_property_type[T.House]</th>\n",
       "      <td>-4.182</td>\n",
       "    </tr>\n",
       "    <tr>\n",
       "      <th>f_property_type[T.House]:f_neighbourhood_cleansed[T.Kensington and Chelsea]</th>\n",
       "      <td>34.546</td>\n",
       "    </tr>\n",
       "    <tr>\n",
       "      <th>n_accommodates</th>\n",
       "      <td>11.890</td>\n",
       "    </tr>\n",
       "    <tr>\n",
       "      <th>n_accommodates:f_property_type[T.House]</th>\n",
       "      <td>2.039</td>\n",
       "    </tr>\n",
       "    <tr>\n",
       "      <th>n_accommodates:f_neighbourhood_cleansed[T.Camden]</th>\n",
       "      <td>3.886</td>\n",
       "    </tr>\n",
       "    <tr>\n",
       "      <th>n_accommodates:f_neighbourhood_cleansed[T.City of London]</th>\n",
       "      <td>1.532</td>\n",
       "    </tr>\n",
       "    <tr>\n",
       "      <th>n_accommodates:f_neighbourhood_cleansed[T.Croydon]</th>\n",
       "      <td>-0.896</td>\n",
       "    </tr>\n",
       "    <tr>\n",
       "      <th>n_accommodates:f_neighbourhood_cleansed[T.Hammersmith and Fulham]</th>\n",
       "      <td>0.208</td>\n",
       "    </tr>\n",
       "    <tr>\n",
       "      <th>n_accommodates:f_neighbourhood_cleansed[T.Haringey]</th>\n",
       "      <td>-0.399</td>\n",
       "    </tr>\n",
       "    <tr>\n",
       "      <th>n_accommodates:f_neighbourhood_cleansed[T.Islington]</th>\n",
       "      <td>0.359</td>\n",
       "    </tr>\n",
       "    <tr>\n",
       "      <th>n_accommodates:f_neighbourhood_cleansed[T.Kensington and Chelsea]</th>\n",
       "      <td>10.732</td>\n",
       "    </tr>\n",
       "    <tr>\n",
       "      <th>n_accommodates:f_neighbourhood_cleansed[T.Lewisham]</th>\n",
       "      <td>-2.261</td>\n",
       "    </tr>\n",
       "    <tr>\n",
       "      <th>n_accommodates:f_neighbourhood_cleansed[T.Richmond upon Thames]</th>\n",
       "      <td>1.013</td>\n",
       "    </tr>\n",
       "    <tr>\n",
       "      <th>n_accommodates:f_neighbourhood_cleansed[T.Waltham Forest]</th>\n",
       "      <td>-2.234</td>\n",
       "    </tr>\n",
       "    <tr>\n",
       "      <th>n_accommodates:f_neighbourhood_cleansed[T.Westminster]</th>\n",
       "      <td>10.117</td>\n",
       "    </tr>\n",
       "    <tr>\n",
       "      <th>n_beds</th>\n",
       "      <td>3.186</td>\n",
       "    </tr>\n",
       "    <tr>\n",
       "      <th>f_bathroom</th>\n",
       "      <td>22.843</td>\n",
       "    </tr>\n",
       "    <tr>\n",
       "      <th>flag_n_number_of_reviews</th>\n",
       "      <td>10.706</td>\n",
       "    </tr>\n",
       "    <tr>\n",
       "      <th>n_review_scores_rating</th>\n",
       "      <td>0.141</td>\n",
       "    </tr>\n",
       "    <tr>\n",
       "      <th>d_airconditioning</th>\n",
       "      <td>14.282</td>\n",
       "    </tr>\n",
       "    <tr>\n",
       "      <th>d_cabletv</th>\n",
       "      <td>3.532</td>\n",
       "    </tr>\n",
       "    <tr>\n",
       "      <th>d_dryer</th>\n",
       "      <td>4.707</td>\n",
       "    </tr>\n",
       "    <tr>\n",
       "      <th>d_elevatorinbuilding</th>\n",
       "      <td>3.709</td>\n",
       "    </tr>\n",
       "    <tr>\n",
       "      <th>d_freeparkingonpremises</th>\n",
       "      <td>-3.900</td>\n",
       "    </tr>\n",
       "    <tr>\n",
       "      <th>d_heating</th>\n",
       "      <td>-0.796</td>\n",
       "    </tr>\n",
       "    <tr>\n",
       "      <th>d_indoorfireplace</th>\n",
       "      <td>3.882</td>\n",
       "    </tr>\n",
       "    <tr>\n",
       "      <th>d_lockonbedroomdoor</th>\n",
       "      <td>-0.906</td>\n",
       "    </tr>\n",
       "    <tr>\n",
       "      <th>d_smokingallowed</th>\n",
       "      <td>-0.760</td>\n",
       "    </tr>\n",
       "    <tr>\n",
       "      <th>d_tv</th>\n",
       "      <td>3.983</td>\n",
       "    </tr>\n",
       "    <tr>\n",
       "      <th>d_washerdryer</th>\n",
       "      <td>22.270</td>\n",
       "    </tr>\n",
       "  </tbody>\n",
       "</table>\n",
       "</div>"
      ],
      "text/plain": [
       "                                                    lasso_coefficient\n",
       "f_room_type[T.Private room]                                   -34.620\n",
       "f_room_type[T.Shared room]                                    -28.414\n",
       "f_cancellation_policy[T.strict]                                 1.739\n",
       "f_neighbourhood_cleansed[T.City of London]                     12.733\n",
       "f_room_type[T.Private room]:f_property_type[T.H...             -4.182\n",
       "f_property_type[T.House]:f_neighbourhood_cleans...             34.546\n",
       "n_accommodates                                                 11.890\n",
       "n_accommodates:f_property_type[T.House]                         2.039\n",
       "n_accommodates:f_neighbourhood_cleansed[T.Camden]               3.886\n",
       "n_accommodates:f_neighbourhood_cleansed[T.City ...              1.532\n",
       "n_accommodates:f_neighbourhood_cleansed[T.Croydon]             -0.896\n",
       "n_accommodates:f_neighbourhood_cleansed[T.Hamme...              0.208\n",
       "n_accommodates:f_neighbourhood_cleansed[T.Harin...             -0.399\n",
       "n_accommodates:f_neighbourhood_cleansed[T.Islin...              0.359\n",
       "n_accommodates:f_neighbourhood_cleansed[T.Kensi...             10.732\n",
       "n_accommodates:f_neighbourhood_cleansed[T.Lewis...             -2.261\n",
       "n_accommodates:f_neighbourhood_cleansed[T.Richm...              1.013\n",
       "n_accommodates:f_neighbourhood_cleansed[T.Walth...             -2.234\n",
       "n_accommodates:f_neighbourhood_cleansed[T.Westm...             10.117\n",
       "n_beds                                                          3.186\n",
       "f_bathroom                                                     22.843\n",
       "flag_n_number_of_reviews                                       10.706\n",
       "n_review_scores_rating                                          0.141\n",
       "d_airconditioning                                              14.282\n",
       "d_cabletv                                                       3.532\n",
       "d_dryer                                                         4.707\n",
       "d_elevatorinbuilding                                            3.709\n",
       "d_freeparkingonpremises                                        -3.900\n",
       "d_heating                                                      -0.796\n",
       "d_indoorfireplace                                               3.882\n",
       "d_lockonbedroomdoor                                            -0.906\n",
       "d_smokingallowed                                               -0.760\n",
       "d_tv                                                            3.983\n",
       "d_washerdryer                                                  22.270"
      ]
     },
     "execution_count": 53,
     "metadata": {},
     "output_type": "execute_result"
    }
   ],
   "source": [
    "pd.DataFrame(\n",
    "    lasso_model_cv.best_estimator_.coef_.tolist(),\n",
    "    index=X.design_info.column_names,\n",
    "    columns=[\"lasso_coefficient\"],\n",
    ").assign(lasso_coefficient=lambda x: x.lasso_coefficient.round(3)).loc[\n",
    "    lambda x: x.lasso_coefficient != 0\n",
    "]"
   ]
  },
  {
   "cell_type": "code",
   "execution_count": 54,
   "metadata": {
    "scrolled": true
   },
   "outputs": [
    {
     "data": {
      "text/plain": [
       "47.25511607450686"
      ]
     },
     "execution_count": 54,
     "metadata": {},
     "output_type": "execute_result"
    }
   ],
   "source": [
    "lasso_rmse = pd.DataFrame(lasso_model_cv.cv_results_).loc[\n",
    "    lambda x: x.param_alpha == lasso_model_cv.best_estimator_.alpha\n",
    "].mean_test_score.values[0] * -1\n",
    "lasso_rmse"
   ]
  },
  {
   "cell_type": "markdown",
   "metadata": {},
   "source": [
    "3. CART model"
   ]
  },
  {
   "cell_type": "code",
   "execution_count": 55,
   "metadata": {},
   "outputs": [],
   "source": [
    "from sklearn.tree import DecisionTreeClassifier"
   ]
  },
  {
   "cell_type": "code",
   "execution_count": 56,
   "metadata": {},
   "outputs": [],
   "source": [
    "y, X = dmatrices(\"price ~ \" + \" + \".join(predictors_2), data_train)"
   ]
  },
  {
   "cell_type": "code",
   "execution_count": 57,
   "metadata": {},
   "outputs": [],
   "source": [
    "cart_model = DecisionTreeClassifier(random_state=2018, criterion=\"gini\")"
   ]
  },
  {
   "cell_type": "code",
   "execution_count": 58,
   "metadata": {},
   "outputs": [],
   "source": [
    "# Get potential ccp_alpha parameters\n",
    "\n",
    "path = cart_model.cost_complexity_pruning_path(X, y.ravel())\n",
    "ccp_alphas, impurities = path.ccp_alphas, path.impurities"
   ]
  },
  {
   "cell_type": "code",
   "execution_count": 59,
   "metadata": {},
   "outputs": [
    {
     "name": "stdout",
     "output_type": "stream",
     "text": [
      "Fitting 5 folds for each of 10 candidates, totalling 50 fits\n",
      "[CV 1/5] END ccp_alpha=2.8671368771145135e-05;, score=-62.504 total time=   0.8s\n",
      "[CV 2/5] END ccp_alpha=2.8671368771145135e-05;, score=-64.139 total time=   0.8s\n",
      "[CV 3/5] END ccp_alpha=2.8671368771145135e-05;, score=-64.296 total time=   0.8s\n",
      "[CV 4/5] END ccp_alpha=2.8671368771145135e-05;, score=-63.848 total time=   0.8s\n",
      "[CV 5/5] END ccp_alpha=2.8671368771145135e-05;, score=-61.507 total time=   0.8s\n",
      "[CV 1/5] END ccp_alpha=4.0834979764964285e-05;, score=-58.256 total time=   1.2s\n",
      "[CV 2/5] END ccp_alpha=4.0834979764964285e-05;, score=-62.634 total time=   1.2s\n",
      "[CV 3/5] END ccp_alpha=4.0834979764964285e-05;, score=-61.830 total time=   1.2s\n",
      "[CV 4/5] END ccp_alpha=4.0834979764964285e-05;, score=-59.031 total time=   1.2s\n",
      "[CV 5/5] END ccp_alpha=4.0834979764964285e-05;, score=-60.570 total time=   1.2s\n",
      "[CV 1/5] END ccp_alpha=4.5874190033832205e-05;, score=-57.215 total time=   1.2s\n",
      "[CV 2/5] END ccp_alpha=4.5874190033832205e-05;, score=-62.367 total time=   1.2s\n",
      "[CV 3/5] END ccp_alpha=4.5874190033832205e-05;, score=-60.304 total time=   1.2s\n",
      "[CV 4/5] END ccp_alpha=4.5874190033832205e-05;, score=-58.697 total time=   1.2s\n",
      "[CV 5/5] END ccp_alpha=4.5874190033832205e-05;, score=-59.184 total time=   1.2s\n",
      "[CV 1/5] END ..ccp_alpha=4.30070531567177e-05;, score=-58.021 total time=   1.2s\n",
      "[CV 2/5] END ..ccp_alpha=4.30070531567177e-05;, score=-62.848 total time=   1.2s\n",
      "[CV 3/5] END ..ccp_alpha=4.30070531567177e-05;, score=-61.441 total time=   1.2s\n",
      "[CV 4/5] END ..ccp_alpha=4.30070531567177e-05;, score=-58.813 total time=   1.2s\n",
      "[CV 5/5] END ..ccp_alpha=4.30070531567177e-05;, score=-60.236 total time=   1.2s\n",
      "[CV 1/5] END .ccp_alpha=6.552976842699862e-05;, score=-53.458 total time=   1.4s\n",
      "[CV 2/5] END .ccp_alpha=6.552976842699862e-05;, score=-55.939 total time=   1.4s\n",
      "[CV 3/5] END .ccp_alpha=6.552976842699862e-05;, score=-52.800 total time=   1.4s\n",
      "[CV 4/5] END .ccp_alpha=6.552976842699862e-05;, score=-51.975 total time=   1.4s\n",
      "[CV 5/5] END .ccp_alpha=6.552976842699862e-05;, score=-51.664 total time=   1.4s\n",
      "[CV 1/5] END .ccp_alpha=3.610468660070129e-05;, score=-58.240 total time=   1.2s\n",
      "[CV 2/5] END .ccp_alpha=3.610468660070129e-05;, score=-62.776 total time=   1.2s\n",
      "[CV 3/5] END .ccp_alpha=3.610468660070129e-05;, score=-61.886 total time=   1.2s\n",
      "[CV 4/5] END .ccp_alpha=3.610468660070129e-05;, score=-59.548 total time=   1.2s\n",
      "[CV 5/5] END .ccp_alpha=3.610468660070129e-05;, score=-60.849 total time=   1.2s\n",
      "[CV 1/5] END ccp_alpha=2.8671368771145135e-05;, score=-62.504 total time=   0.8s\n",
      "[CV 2/5] END ccp_alpha=2.8671368771145135e-05;, score=-64.139 total time=   0.8s\n",
      "[CV 3/5] END ccp_alpha=2.8671368771145135e-05;, score=-64.296 total time=   0.8s\n",
      "[CV 4/5] END ccp_alpha=2.8671368771145135e-05;, score=-63.848 total time=   0.8s\n",
      "[CV 5/5] END ccp_alpha=2.8671368771145135e-05;, score=-61.507 total time=   0.8s\n",
      "[CV 1/5] END ccp_alpha=4.5874190033832205e-05;, score=-57.215 total time=   1.2s\n",
      "[CV 2/5] END ccp_alpha=4.5874190033832205e-05;, score=-62.367 total time=   1.2s\n",
      "[CV 3/5] END ccp_alpha=4.5874190033832205e-05;, score=-60.304 total time=   1.2s\n",
      "[CV 4/5] END ccp_alpha=4.5874190033832205e-05;, score=-58.697 total time=   1.2s\n",
      "[CV 5/5] END ccp_alpha=4.5874190033832205e-05;, score=-59.184 total time=   1.2s\n",
      "[CV 1/5] END ccp_alpha=2.8671368771145135e-05;, score=-62.504 total time=   0.8s\n",
      "[CV 2/5] END ccp_alpha=2.8671368771145135e-05;, score=-64.139 total time=   0.8s\n",
      "[CV 3/5] END ccp_alpha=2.8671368771145135e-05;, score=-64.296 total time=   0.8s\n",
      "[CV 4/5] END ccp_alpha=2.8671368771145135e-05;, score=-63.848 total time=   0.9s\n",
      "[CV 5/5] END ccp_alpha=2.8671368771145135e-05;, score=-61.507 total time=   0.9s\n",
      "[CV 1/5] END ..ccp_alpha=4.30070531567177e-05;, score=-58.021 total time=   1.2s\n",
      "[CV 2/5] END ..ccp_alpha=4.30070531567177e-05;, score=-62.848 total time=   1.2s\n",
      "[CV 3/5] END ..ccp_alpha=4.30070531567177e-05;, score=-61.441 total time=   1.2s\n",
      "[CV 4/5] END ..ccp_alpha=4.30070531567177e-05;, score=-58.813 total time=   1.2s\n",
      "[CV 5/5] END ..ccp_alpha=4.30070531567177e-05;, score=-60.236 total time=   1.2s\n"
     ]
    },
    {
     "data": {
      "text/plain": [
       "RandomizedSearchCV(cv=5, estimator=DecisionTreeClassifier(random_state=2018),\n",
       "                   param_distributions={'ccp_alpha': array([0.00000000e+00, 2.40598899e-06, 2.86713688e-06, ...,\n",
       "       9.49341420e-04, 1.09022941e-03, 1.00707174e-02])},\n",
       "                   scoring='neg_root_mean_squared_error', verbose=3)"
      ]
     },
     "execution_count": 59,
     "metadata": {},
     "output_type": "execute_result"
    }
   ],
   "source": [
    "# apply random search to select a \"best\" alpha \n",
    "# RandomizedSearchCV does not calculate all potential alphas, just a random subset\n",
    "\n",
    "cart_model_cv = RandomizedSearchCV(\n",
    "    cart_model,\n",
    "    {\"ccp_alpha\":ccp_alphas},\n",
    "    cv=5,\n",
    "    scoring=\"neg_root_mean_squared_error\",\n",
    "    verbose=3,\n",
    ")\n",
    "\n",
    "\n",
    "cart_model_cv.fit(X,y.ravel())"
   ]
  },
  {
   "cell_type": "code",
   "execution_count": 60,
   "metadata": {},
   "outputs": [
    {
     "data": {
      "text/plain": [
       "53.167046104159795"
      ]
     },
     "execution_count": 60,
     "metadata": {},
     "output_type": "execute_result"
    }
   ],
   "source": [
    "cart_rmse = pd.DataFrame(cart_model_cv.cv_results_).loc[\n",
    "    lambda x: x.param_ccp_alpha == cart_model_cv.best_estimator_.ccp_alpha\n",
    "].mean_test_score.values[0] * -1\n",
    "cart_rmse"
   ]
  },
  {
   "cell_type": "markdown",
   "metadata": {},
   "source": [
    "4. GBM\n",
    "\n",
    "**NOTE:** These models run for a **very long time** -- needs further investigations."
   ]
  },
  {
   "cell_type": "code",
   "execution_count": null,
   "metadata": {},
   "outputs": [],
   "source": [
    "from sklearn.ensemble import GradientBoostingRegressor"
   ]
  },
  {
   "cell_type": "code",
   "execution_count": null,
   "metadata": {},
   "outputs": [],
   "source": [
    "gbm = GradientBoostingRegressor(learning_rate=0.1, min_samples_split=20)\n",
    "\n",
    "tune_grid = {\"n_estimators\": [i for i in range(200, 500, 50)], \"max_depth\": [1, 5, 10]}\n",
    "\n",
    "gbm_model_cv = GridSearchCV(\n",
    "    gbm,\n",
    "    tune_grid,\n",
    "    cv=5,\n",
    "    scoring=\"neg_root_mean_squared_error\",\n",
    "    verbose=10,\n",
    "    n_jobs=-1\n",
    ")"
   ]
  },
  {
   "cell_type": "code",
   "execution_count": null,
   "metadata": {},
   "outputs": [],
   "source": [
    "categorical_columns = [col for col in predictors_2 if col.startswith(\"f_\")]\n",
    "numerical_columns = [col for col in predictors_2 if col not in categorical_columns]\n",
    "\n",
    "categorical_encoder = OneHotEncoder(handle_unknown=\"ignore\")\n",
    "\n",
    "preprocessing = ColumnTransformer(\n",
    "    [\n",
    "        (\"cat\", categorical_encoder, categorical_columns),\n",
    "        (\"num\", \"passthrough\", numerical_columns),\n",
    "    ]\n",
    ")\n",
    "\n",
    "gbm_pipe = Pipeline(\n",
    "    [(\"preprocess\", preprocessing), (\"regressor\", gbm_model_cv)], verbose=True\n",
    ")"
   ]
  },
  {
   "cell_type": "code",
   "execution_count": null,
   "metadata": {},
   "outputs": [],
   "source": [
    "gbm_pipe.fit(data_train[predictors_2], data_train.price)"
   ]
  },
  {
   "cell_type": "markdown",
   "metadata": {},
   "source": [
    "the next will be in final model, loads of tuning"
   ]
  },
  {
   "cell_type": "code",
   "execution_count": null,
   "metadata": {},
   "outputs": [],
   "source": [
    "gbm_broad = GradientBoostingRegressor()"
   ]
  },
  {
   "cell_type": "code",
   "execution_count": null,
   "metadata": {},
   "outputs": [],
   "source": [
    "tune_grid = {\n",
    "    \"n_estimators\": [i for i in range(50, 500, 50)],\n",
    "    \"max_depth\": [1, 5, 10],\n",
    "    \"learning_rate\": [0.02, 0.05, 0.1, 0.15, 0.2],\n",
    "    \"min_samples_split\": [5, 10, 20, 30],\n",
    "}\n",
    "\n",
    "gbm_model_cv_broad = GridSearchCV(\n",
    "    gbm2,\n",
    "    tune_grid,\n",
    "    cv=5,\n",
    "    scoring=\"neg_root_mean_squared_error\",\n",
    "    verbose=10,\n",
    ")"
   ]
  },
  {
   "cell_type": "code",
   "execution_count": null,
   "metadata": {},
   "outputs": [],
   "source": [
    "categorical_columns = [col for col in predictors_2 if col.startswith(\"f_\")]\n",
    "numerical_columns = [col for col in predictors_2 if col not in categorical_columns]\n",
    "\n",
    "categorical_encoder = OneHotEncoder(handle_unknown=\"ignore\")\n",
    "\n",
    "preprocessing = ColumnTransformer(\n",
    "    [\n",
    "        (\"cat\", categorical_encoder, categorical_columns),\n",
    "        (\"num\", \"passthrough\", numerical_columns),\n",
    "    ]\n",
    ")\n",
    "\n",
    "gbm_pipe_broad = Pipeline(\n",
    "    [(\"preprocess\", preprocessing), (\"regressor\", gbm_model_cv_broad)], verbose=True\n",
    ")"
   ]
  },
  {
   "cell_type": "code",
   "execution_count": null,
   "metadata": {},
   "outputs": [],
   "source": [
    "gbm_pipe_broad.fit(data_train[predictors_2],data_train.price)"
   ]
  },
  {
   "cell_type": "code",
   "execution_count": null,
   "metadata": {},
   "outputs": [],
   "source": []
  }
 ],
 "metadata": {
  "kernelspec": {
   "display_name": "Python 3 (ipykernel)",
   "language": "python",
   "name": "python3"
  },
  "language_info": {
   "codemirror_mode": {
    "name": "ipython",
    "version": 3
   },
   "file_extension": ".py",
   "mimetype": "text/x-python",
   "name": "python",
   "nbconvert_exporter": "python",
   "pygments_lexer": "ipython3",
   "version": "3.8.9"
  }
 },
 "nbformat": 4,
 "nbformat_minor": 4
}
