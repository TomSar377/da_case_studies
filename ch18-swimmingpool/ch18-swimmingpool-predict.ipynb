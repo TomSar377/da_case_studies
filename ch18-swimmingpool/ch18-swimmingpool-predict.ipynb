{
 "cells": [
  {
   "cell_type": "code",
   "execution_count": 3,
   "metadata": {},
   "outputs": [
    {
     "name": "stdout",
     "output_type": "stream",
     "text": [
      "Collecting pandas-market-calendars\n",
      "  Downloading pandas_market_calendars-1.6.1-py3-none-any.whl (58 kB)\n",
      "\u001b[K     |████████████████████████████████| 58 kB 2.2 MB/s eta 0:00:01\n",
      "\u001b[?25hCollecting trading-calendars\n",
      "  Downloading trading_calendars-2.1.1.tar.gz (108 kB)\n",
      "\u001b[K     |████████████████████████████████| 108 kB 4.6 MB/s eta 0:00:01\n",
      "\u001b[?25hRequirement already satisfied: pytz in /usr/local/lib/python3.8/site-packages (from pandas-market-calendars) (2020.5)\n",
      "Requirement already satisfied: pandas>=0.18 in /usr/local/lib/python3.8/site-packages (from pandas-market-calendars) (1.2.1)\n",
      "Requirement already satisfied: python-dateutil in /usr/local/lib/python3.8/site-packages (from pandas-market-calendars) (2.8.1)\n",
      "Requirement already satisfied: numpy in /usr/local/lib/python3.8/site-packages (from trading-calendars->pandas-market-calendars) (1.19.5)\n",
      "Requirement already satisfied: six in /usr/local/lib/python3.8/site-packages (from trading-calendars->pandas-market-calendars) (1.15.0)\n",
      "Requirement already satisfied: toolz in /usr/local/lib/python3.8/site-packages (from trading-calendars->pandas-market-calendars) (0.11.1)\n",
      "Building wheels for collected packages: trading-calendars\n",
      "  Building wheel for trading-calendars (setup.py) ... \u001b[?25ldone\n",
      "\u001b[?25h  Created wheel for trading-calendars: filename=trading_calendars-2.1.1-py3-none-any.whl size=140919 sha256=ca430fcbc27c1c6d3c50dc2bf8405cc5a1f652e56c52ff96948460fa529aaddf\n",
      "  Stored in directory: /Users/vigadam/Library/Caches/pip/wheels/f3/a3/ef/b4be7414461eb777966a832a9494924ac12efb80ae4509f54f\n",
      "Successfully built trading-calendars\n",
      "Installing collected packages: trading-calendars, pandas-market-calendars\n",
      "Successfully installed pandas-market-calendars-1.6.1 trading-calendars-2.1.1\n",
      "Note: you may need to restart the kernel to use updated packages.\n"
     ]
    }
   ],
   "source": [
    "#pip install pandas-market-calendars"
   ]
  },
  {
   "cell_type": "code",
   "execution_count": 4,
   "metadata": {},
   "outputs": [],
   "source": [
    "import pandas as pd\n",
    "import os\n",
    "from pathlib import Path\n",
    "import pandas_market_calendars as mcal\n",
    "from datetime import datetime\n",
    "import numpy as np\n",
    "from sklearn.model_selection import LeaveOneGroupOut\n",
    "from sklearn.linear_model import LinearRegression\n",
    "from sklearn.metrics import mean_squared_error"
   ]
  },
  {
   "cell_type": "code",
   "execution_count": 5,
   "metadata": {},
   "outputs": [],
   "source": [
    "path = Path(os.getcwd())"
   ]
  },
  {
   "cell_type": "code",
   "execution_count": 6,
   "metadata": {},
   "outputs": [],
   "source": [
    "base_dir = path.parent.parent"
   ]
  },
  {
   "cell_type": "code",
   "execution_count": 7,
   "metadata": {},
   "outputs": [],
   "source": [
    "data_in = os.path.join(str(base_dir) , \"da_data_repo/swim-transactions/clean/\")\n",
    "data_out = os.path.join(\"ch18-swim-transactions/\")\n",
    "output = os.path.join(data_out,'output')\n",
    "#func = os.path.join(str(base_dir) ,   \"da_case_studies/ch00-tech-prep/\")"
   ]
  },
  {
   "cell_type": "code",
   "execution_count": 8,
   "metadata": {},
   "outputs": [],
   "source": [
    "daily_agg = pd.read_csv(os.path.join(data_in,\"swim_work.csv\"),parse_dates=['date'])"
   ]
  },
  {
   "cell_type": "code",
   "execution_count": 9,
   "metadata": {},
   "outputs": [
    {
     "data": {
      "text/html": [
       "<div>\n",
       "<style scoped>\n",
       "    .dataframe tbody tr th:only-of-type {\n",
       "        vertical-align: middle;\n",
       "    }\n",
       "\n",
       "    .dataframe tbody tr th {\n",
       "        vertical-align: top;\n",
       "    }\n",
       "\n",
       "    .dataframe thead th {\n",
       "        text-align: right;\n",
       "    }\n",
       "</style>\n",
       "<table border=\"1\" class=\"dataframe\">\n",
       "  <thead>\n",
       "    <tr style=\"text-align: right;\">\n",
       "      <th></th>\n",
       "      <th>date</th>\n",
       "      <th>QUANTITY</th>\n",
       "    </tr>\n",
       "  </thead>\n",
       "  <tbody>\n",
       "    <tr>\n",
       "      <th>0</th>\n",
       "      <td>2010-01-01</td>\n",
       "      <td>0</td>\n",
       "    </tr>\n",
       "    <tr>\n",
       "      <th>1</th>\n",
       "      <td>2010-01-02</td>\n",
       "      <td>49</td>\n",
       "    </tr>\n",
       "    <tr>\n",
       "      <th>2</th>\n",
       "      <td>2010-01-03</td>\n",
       "      <td>31</td>\n",
       "    </tr>\n",
       "    <tr>\n",
       "      <th>3</th>\n",
       "      <td>2010-01-04</td>\n",
       "      <td>14</td>\n",
       "    </tr>\n",
       "    <tr>\n",
       "      <th>4</th>\n",
       "      <td>2010-01-05</td>\n",
       "      <td>18</td>\n",
       "    </tr>\n",
       "  </tbody>\n",
       "</table>\n",
       "</div>"
      ],
      "text/plain": [
       "        date  QUANTITY\n",
       "0 2010-01-01         0\n",
       "1 2010-01-02        49\n",
       "2 2010-01-03        31\n",
       "3 2010-01-04        14\n",
       "4 2010-01-05        18"
      ]
     },
     "execution_count": 9,
     "metadata": {},
     "output_type": "execute_result"
    }
   ],
   "source": [
    "daily_agg.head()"
   ]
  },
  {
   "cell_type": "code",
   "execution_count": 10,
   "metadata": {},
   "outputs": [],
   "source": [
    "daily_agg['year']=daily_agg['date'].dt.year\n",
    "daily_agg['quarter']=daily_agg['date'].dt.quarter\n",
    "daily_agg['month']=daily_agg['date'].dt.month\n",
    "daily_agg['day']=daily_agg['date'].dt.day\n",
    "daily_agg['dow']=daily_agg['date'].dt.dayofweek +1\n",
    "daily_agg['weekend']=daily_agg['dow'].isin([6,7])\n"
   ]
  },
  {
   "cell_type": "code",
   "execution_count": 11,
   "metadata": {},
   "outputs": [
    {
     "data": {
      "text/html": [
       "<div>\n",
       "<style scoped>\n",
       "    .dataframe tbody tr th:only-of-type {\n",
       "        vertical-align: middle;\n",
       "    }\n",
       "\n",
       "    .dataframe tbody tr th {\n",
       "        vertical-align: top;\n",
       "    }\n",
       "\n",
       "    .dataframe thead th {\n",
       "        text-align: right;\n",
       "    }\n",
       "</style>\n",
       "<table border=\"1\" class=\"dataframe\">\n",
       "  <thead>\n",
       "    <tr style=\"text-align: right;\">\n",
       "      <th></th>\n",
       "      <th>date</th>\n",
       "      <th>QUANTITY</th>\n",
       "      <th>year</th>\n",
       "      <th>quarter</th>\n",
       "      <th>month</th>\n",
       "      <th>day</th>\n",
       "      <th>dow</th>\n",
       "      <th>weekend</th>\n",
       "    </tr>\n",
       "  </thead>\n",
       "  <tbody>\n",
       "    <tr>\n",
       "      <th>0</th>\n",
       "      <td>2010-01-01</td>\n",
       "      <td>0</td>\n",
       "      <td>2010</td>\n",
       "      <td>1</td>\n",
       "      <td>1</td>\n",
       "      <td>1</td>\n",
       "      <td>5</td>\n",
       "      <td>False</td>\n",
       "    </tr>\n",
       "    <tr>\n",
       "      <th>1</th>\n",
       "      <td>2010-01-02</td>\n",
       "      <td>49</td>\n",
       "      <td>2010</td>\n",
       "      <td>1</td>\n",
       "      <td>1</td>\n",
       "      <td>2</td>\n",
       "      <td>6</td>\n",
       "      <td>True</td>\n",
       "    </tr>\n",
       "    <tr>\n",
       "      <th>2</th>\n",
       "      <td>2010-01-03</td>\n",
       "      <td>31</td>\n",
       "      <td>2010</td>\n",
       "      <td>1</td>\n",
       "      <td>1</td>\n",
       "      <td>3</td>\n",
       "      <td>7</td>\n",
       "      <td>True</td>\n",
       "    </tr>\n",
       "    <tr>\n",
       "      <th>3</th>\n",
       "      <td>2010-01-04</td>\n",
       "      <td>14</td>\n",
       "      <td>2010</td>\n",
       "      <td>1</td>\n",
       "      <td>1</td>\n",
       "      <td>4</td>\n",
       "      <td>1</td>\n",
       "      <td>False</td>\n",
       "    </tr>\n",
       "    <tr>\n",
       "      <th>4</th>\n",
       "      <td>2010-01-05</td>\n",
       "      <td>18</td>\n",
       "      <td>2010</td>\n",
       "      <td>1</td>\n",
       "      <td>1</td>\n",
       "      <td>5</td>\n",
       "      <td>2</td>\n",
       "      <td>False</td>\n",
       "    </tr>\n",
       "  </tbody>\n",
       "</table>\n",
       "</div>"
      ],
      "text/plain": [
       "        date  QUANTITY  year  quarter  month  day  dow  weekend\n",
       "0 2010-01-01         0  2010        1      1    1    5    False\n",
       "1 2010-01-02        49  2010        1      1    2    6     True\n",
       "2 2010-01-03        31  2010        1      1    3    7     True\n",
       "3 2010-01-04        14  2010        1      1    4    1    False\n",
       "4 2010-01-05        18  2010        1      1    5    2    False"
      ]
     },
     "execution_count": 11,
     "metadata": {},
     "output_type": "execute_result"
    }
   ],
   "source": [
    "daily_agg.head()"
   ]
  },
  {
   "cell_type": "code",
   "execution_count": 12,
   "metadata": {},
   "outputs": [
    {
     "data": {
      "text/html": [
       "<div>\n",
       "<style scoped>\n",
       "    .dataframe tbody tr th:only-of-type {\n",
       "        vertical-align: middle;\n",
       "    }\n",
       "\n",
       "    .dataframe tbody tr th {\n",
       "        vertical-align: top;\n",
       "    }\n",
       "\n",
       "    .dataframe thead th {\n",
       "        text-align: right;\n",
       "    }\n",
       "</style>\n",
       "<table border=\"1\" class=\"dataframe\">\n",
       "  <thead>\n",
       "    <tr style=\"text-align: right;\">\n",
       "      <th></th>\n",
       "      <th>date</th>\n",
       "      <th>QUANTITY</th>\n",
       "      <th>year</th>\n",
       "      <th>quarter</th>\n",
       "      <th>month</th>\n",
       "      <th>day</th>\n",
       "      <th>dow</th>\n",
       "      <th>weekend</th>\n",
       "    </tr>\n",
       "  </thead>\n",
       "  <tbody>\n",
       "    <tr>\n",
       "      <th>2552</th>\n",
       "      <td>2016-12-27</td>\n",
       "      <td>12</td>\n",
       "      <td>2016</td>\n",
       "      <td>4</td>\n",
       "      <td>12</td>\n",
       "      <td>27</td>\n",
       "      <td>2</td>\n",
       "      <td>False</td>\n",
       "    </tr>\n",
       "    <tr>\n",
       "      <th>2553</th>\n",
       "      <td>2016-12-28</td>\n",
       "      <td>17</td>\n",
       "      <td>2016</td>\n",
       "      <td>4</td>\n",
       "      <td>12</td>\n",
       "      <td>28</td>\n",
       "      <td>3</td>\n",
       "      <td>False</td>\n",
       "    </tr>\n",
       "    <tr>\n",
       "      <th>2554</th>\n",
       "      <td>2016-12-29</td>\n",
       "      <td>27</td>\n",
       "      <td>2016</td>\n",
       "      <td>4</td>\n",
       "      <td>12</td>\n",
       "      <td>29</td>\n",
       "      <td>4</td>\n",
       "      <td>False</td>\n",
       "    </tr>\n",
       "    <tr>\n",
       "      <th>2555</th>\n",
       "      <td>2016-12-30</td>\n",
       "      <td>3</td>\n",
       "      <td>2016</td>\n",
       "      <td>4</td>\n",
       "      <td>12</td>\n",
       "      <td>30</td>\n",
       "      <td>5</td>\n",
       "      <td>False</td>\n",
       "    </tr>\n",
       "    <tr>\n",
       "      <th>2556</th>\n",
       "      <td>2016-12-31</td>\n",
       "      <td>0</td>\n",
       "      <td>2016</td>\n",
       "      <td>4</td>\n",
       "      <td>12</td>\n",
       "      <td>31</td>\n",
       "      <td>6</td>\n",
       "      <td>True</td>\n",
       "    </tr>\n",
       "  </tbody>\n",
       "</table>\n",
       "</div>"
      ],
      "text/plain": [
       "           date  QUANTITY  year  quarter  month  day  dow  weekend\n",
       "2552 2016-12-27        12  2016        4     12   27    2    False\n",
       "2553 2016-12-28        17  2016        4     12   28    3    False\n",
       "2554 2016-12-29        27  2016        4     12   29    4    False\n",
       "2555 2016-12-30         3  2016        4     12   30    5    False\n",
       "2556 2016-12-31         0  2016        4     12   31    6     True"
      ]
     },
     "execution_count": 12,
     "metadata": {},
     "output_type": "execute_result"
    }
   ],
   "source": [
    "daily_agg.tail()"
   ]
  },
  {
   "cell_type": "code",
   "execution_count": 13,
   "metadata": {},
   "outputs": [],
   "source": [
    "daily_agg['school_off']=(((daily_agg['day']>15) & (daily_agg['month']==5) & (daily_agg['day'] <=30)) | \n",
    "           ((daily_agg['month']==6) |  (daily_agg['month']==7)) | \n",
    "           ((daily_agg['day']<15) & (daily_agg['month']==8)) | \n",
    "           ((daily_agg['day']>20) & (daily_agg['month']==12)))"
   ]
  },
  {
   "cell_type": "code",
   "execution_count": 14,
   "metadata": {},
   "outputs": [],
   "source": [
    "daily_agg['trend']=daily_agg.index +1 "
   ]
  },
  {
   "cell_type": "code",
   "execution_count": 15,
   "metadata": {},
   "outputs": [
    {
     "data": {
      "text/plain": [
       "0          1\n",
       "1          2\n",
       "2          3\n",
       "3          4\n",
       "4          5\n",
       "        ... \n",
       "2552    2553\n",
       "2553    2554\n",
       "2554    2555\n",
       "2555    2556\n",
       "2556    2557\n",
       "Name: trend, Length: 2557, dtype: int64"
      ]
     },
     "execution_count": 15,
     "metadata": {},
     "output_type": "execute_result"
    }
   ],
   "source": [
    "daily_agg['trend']"
   ]
  },
  {
   "cell_type": "code",
   "execution_count": 16,
   "metadata": {},
   "outputs": [],
   "source": [
    "nyse = mcal.get_calendar('NYSE')"
   ]
  },
  {
   "cell_type": "code",
   "execution_count": 17,
   "metadata": {},
   "outputs": [],
   "source": [
    "holidays=nyse.holidays().holidays"
   ]
  },
  {
   "cell_type": "code",
   "execution_count": 18,
   "metadata": {},
   "outputs": [],
   "source": [
    "daily_agg['isHoliday'] = daily_agg['date'].isin(holidays)"
   ]
  },
  {
   "cell_type": "code",
   "execution_count": 19,
   "metadata": {},
   "outputs": [
    {
     "data": {
      "text/html": [
       "<div>\n",
       "<style scoped>\n",
       "    .dataframe tbody tr th:only-of-type {\n",
       "        vertical-align: middle;\n",
       "    }\n",
       "\n",
       "    .dataframe tbody tr th {\n",
       "        vertical-align: top;\n",
       "    }\n",
       "\n",
       "    .dataframe thead th {\n",
       "        text-align: right;\n",
       "    }\n",
       "</style>\n",
       "<table border=\"1\" class=\"dataframe\">\n",
       "  <thead>\n",
       "    <tr style=\"text-align: right;\">\n",
       "      <th></th>\n",
       "      <th>QUANTITY</th>\n",
       "      <th>year</th>\n",
       "      <th>quarter</th>\n",
       "      <th>month</th>\n",
       "      <th>day</th>\n",
       "      <th>dow</th>\n",
       "      <th>trend</th>\n",
       "    </tr>\n",
       "  </thead>\n",
       "  <tbody>\n",
       "    <tr>\n",
       "      <th>count</th>\n",
       "      <td>2557.000000</td>\n",
       "      <td>2557.000000</td>\n",
       "      <td>2557.000000</td>\n",
       "      <td>2557.000000</td>\n",
       "      <td>2557.000000</td>\n",
       "      <td>2557.000000</td>\n",
       "      <td>2557.000000</td>\n",
       "    </tr>\n",
       "    <tr>\n",
       "      <th>mean</th>\n",
       "      <td>47.867032</td>\n",
       "      <td>2013.000782</td>\n",
       "      <td>2.508408</td>\n",
       "      <td>6.522487</td>\n",
       "      <td>15.730935</td>\n",
       "      <td>4.001173</td>\n",
       "      <td>1279.000000</td>\n",
       "    </tr>\n",
       "    <tr>\n",
       "      <th>std</th>\n",
       "      <td>50.491050</td>\n",
       "      <td>2.000587</td>\n",
       "      <td>1.117346</td>\n",
       "      <td>3.449499</td>\n",
       "      <td>8.802361</td>\n",
       "      <td>2.000097</td>\n",
       "      <td>738.286643</td>\n",
       "    </tr>\n",
       "    <tr>\n",
       "      <th>min</th>\n",
       "      <td>0.000000</td>\n",
       "      <td>2010.000000</td>\n",
       "      <td>1.000000</td>\n",
       "      <td>1.000000</td>\n",
       "      <td>1.000000</td>\n",
       "      <td>1.000000</td>\n",
       "      <td>1.000000</td>\n",
       "    </tr>\n",
       "    <tr>\n",
       "      <th>25%</th>\n",
       "      <td>14.000000</td>\n",
       "      <td>2011.000000</td>\n",
       "      <td>2.000000</td>\n",
       "      <td>4.000000</td>\n",
       "      <td>8.000000</td>\n",
       "      <td>2.000000</td>\n",
       "      <td>640.000000</td>\n",
       "    </tr>\n",
       "    <tr>\n",
       "      <th>50%</th>\n",
       "      <td>28.000000</td>\n",
       "      <td>2013.000000</td>\n",
       "      <td>3.000000</td>\n",
       "      <td>7.000000</td>\n",
       "      <td>16.000000</td>\n",
       "      <td>4.000000</td>\n",
       "      <td>1279.000000</td>\n",
       "    </tr>\n",
       "    <tr>\n",
       "      <th>75%</th>\n",
       "      <td>64.000000</td>\n",
       "      <td>2015.000000</td>\n",
       "      <td>4.000000</td>\n",
       "      <td>10.000000</td>\n",
       "      <td>23.000000</td>\n",
       "      <td>6.000000</td>\n",
       "      <td>1918.000000</td>\n",
       "    </tr>\n",
       "    <tr>\n",
       "      <th>max</th>\n",
       "      <td>287.000000</td>\n",
       "      <td>2016.000000</td>\n",
       "      <td>4.000000</td>\n",
       "      <td>12.000000</td>\n",
       "      <td>31.000000</td>\n",
       "      <td>7.000000</td>\n",
       "      <td>2557.000000</td>\n",
       "    </tr>\n",
       "  </tbody>\n",
       "</table>\n",
       "</div>"
      ],
      "text/plain": [
       "          QUANTITY         year      quarter        month          day  \\\n",
       "count  2557.000000  2557.000000  2557.000000  2557.000000  2557.000000   \n",
       "mean     47.867032  2013.000782     2.508408     6.522487    15.730935   \n",
       "std      50.491050     2.000587     1.117346     3.449499     8.802361   \n",
       "min       0.000000  2010.000000     1.000000     1.000000     1.000000   \n",
       "25%      14.000000  2011.000000     2.000000     4.000000     8.000000   \n",
       "50%      28.000000  2013.000000     3.000000     7.000000    16.000000   \n",
       "75%      64.000000  2015.000000     4.000000    10.000000    23.000000   \n",
       "max     287.000000  2016.000000     4.000000    12.000000    31.000000   \n",
       "\n",
       "               dow        trend  \n",
       "count  2557.000000  2557.000000  \n",
       "mean      4.001173  1279.000000  \n",
       "std       2.000097   738.286643  \n",
       "min       1.000000     1.000000  \n",
       "25%       2.000000   640.000000  \n",
       "50%       4.000000  1279.000000  \n",
       "75%       6.000000  1918.000000  \n",
       "max       7.000000  2557.000000  "
      ]
     },
     "execution_count": 19,
     "metadata": {},
     "output_type": "execute_result"
    }
   ],
   "source": [
    "daily_agg.describe()"
   ]
  },
  {
   "cell_type": "code",
   "execution_count": 20,
   "metadata": {},
   "outputs": [],
   "source": [
    "daily_agg['q_month'] = daily_agg.groupby('month')['QUANTITY'].transform('mean')"
   ]
  },
  {
   "cell_type": "code",
   "execution_count": 21,
   "metadata": {},
   "outputs": [],
   "source": [
    "daily_agg['QUANTITY2'] = np.where(daily_agg['QUANTITY']<1, 1,daily_agg['QUANTITY'])"
   ]
  },
  {
   "cell_type": "code",
   "execution_count": 22,
   "metadata": {},
   "outputs": [],
   "source": [
    "daily_agg['q_ln'] = np.log(daily_agg['QUANTITY2'])"
   ]
  },
  {
   "cell_type": "code",
   "execution_count": 23,
   "metadata": {},
   "outputs": [],
   "source": [
    "daily_agg['tickets'] = daily_agg.groupby(['month','dow'])['QUANTITY'].transform('mean')"
   ]
  },
  {
   "cell_type": "code",
   "execution_count": 24,
   "metadata": {},
   "outputs": [],
   "source": [
    "daily_agg['tickets_ln'] = daily_agg.groupby(['month','dow'])['q_ln'].transform('mean')"
   ]
  },
  {
   "cell_type": "code",
   "execution_count": 25,
   "metadata": {},
   "outputs": [],
   "source": [
    "daily_agg['dow_abb'] = daily_agg['date'].dt.day_name().str[:3]"
   ]
  },
  {
   "cell_type": "code",
   "execution_count": 26,
   "metadata": {},
   "outputs": [],
   "source": [
    "daily_agg['month_abb'] = daily_agg['date'].dt.month_name().str[:3]"
   ]
  },
  {
   "cell_type": "code",
   "execution_count": 27,
   "metadata": {},
   "outputs": [],
   "source": [
    "### Creat train/holdout data"
   ]
  },
  {
   "cell_type": "code",
   "execution_count": 28,
   "metadata": {},
   "outputs": [],
   "source": [
    "data_holdout = daily_agg.loc[daily_agg['year']==2016,:]"
   ]
  },
  {
   "cell_type": "code",
   "execution_count": 29,
   "metadata": {},
   "outputs": [],
   "source": [
    "data_train = daily_agg.loc[daily_agg['year']<2016,:]"
   ]
  },
  {
   "cell_type": "code",
   "execution_count": 30,
   "metadata": {},
   "outputs": [
    {
     "data": {
      "text/plain": [
       "[2557, 366, 2191]"
      ]
     },
     "execution_count": 30,
     "metadata": {},
     "output_type": "execute_result"
    }
   ],
   "source": [
    "list(map(len,[daily_agg,data_holdout,data_train]))"
   ]
  },
  {
   "cell_type": "code",
   "execution_count": 31,
   "metadata": {},
   "outputs": [
    {
     "data": {
      "text/html": [
       "<div>\n",
       "<style scoped>\n",
       "    .dataframe tbody tr th:only-of-type {\n",
       "        vertical-align: middle;\n",
       "    }\n",
       "\n",
       "    .dataframe tbody tr th {\n",
       "        vertical-align: top;\n",
       "    }\n",
       "\n",
       "    .dataframe thead th {\n",
       "        text-align: right;\n",
       "    }\n",
       "</style>\n",
       "<table border=\"1\" class=\"dataframe\">\n",
       "  <thead>\n",
       "    <tr style=\"text-align: right;\">\n",
       "      <th></th>\n",
       "      <th>date</th>\n",
       "      <th>QUANTITY</th>\n",
       "      <th>year</th>\n",
       "      <th>quarter</th>\n",
       "      <th>month</th>\n",
       "      <th>day</th>\n",
       "      <th>dow</th>\n",
       "      <th>weekend</th>\n",
       "      <th>school_off</th>\n",
       "      <th>trend</th>\n",
       "      <th>isHoliday</th>\n",
       "      <th>q_month</th>\n",
       "      <th>QUANTITY2</th>\n",
       "      <th>q_ln</th>\n",
       "      <th>tickets</th>\n",
       "      <th>tickets_ln</th>\n",
       "      <th>dow_abb</th>\n",
       "      <th>month_abb</th>\n",
       "    </tr>\n",
       "  </thead>\n",
       "  <tbody>\n",
       "    <tr>\n",
       "      <th>2186</th>\n",
       "      <td>2015-12-27</td>\n",
       "      <td>0</td>\n",
       "      <td>2015</td>\n",
       "      <td>4</td>\n",
       "      <td>12</td>\n",
       "      <td>27</td>\n",
       "      <td>7</td>\n",
       "      <td>True</td>\n",
       "      <td>True</td>\n",
       "      <td>2187</td>\n",
       "      <td>False</td>\n",
       "      <td>15.97235</td>\n",
       "      <td>1</td>\n",
       "      <td>0.000000</td>\n",
       "      <td>25.266667</td>\n",
       "      <td>2.927724</td>\n",
       "      <td>Sun</td>\n",
       "      <td>Dec</td>\n",
       "    </tr>\n",
       "    <tr>\n",
       "      <th>2187</th>\n",
       "      <td>2015-12-28</td>\n",
       "      <td>16</td>\n",
       "      <td>2015</td>\n",
       "      <td>4</td>\n",
       "      <td>12</td>\n",
       "      <td>28</td>\n",
       "      <td>1</td>\n",
       "      <td>False</td>\n",
       "      <td>True</td>\n",
       "      <td>2188</td>\n",
       "      <td>False</td>\n",
       "      <td>15.97235</td>\n",
       "      <td>16</td>\n",
       "      <td>2.772589</td>\n",
       "      <td>13.483871</td>\n",
       "      <td>2.392609</td>\n",
       "      <td>Mon</td>\n",
       "      <td>Dec</td>\n",
       "    </tr>\n",
       "    <tr>\n",
       "      <th>2188</th>\n",
       "      <td>2015-12-29</td>\n",
       "      <td>32</td>\n",
       "      <td>2015</td>\n",
       "      <td>4</td>\n",
       "      <td>12</td>\n",
       "      <td>29</td>\n",
       "      <td>2</td>\n",
       "      <td>False</td>\n",
       "      <td>True</td>\n",
       "      <td>2189</td>\n",
       "      <td>False</td>\n",
       "      <td>15.97235</td>\n",
       "      <td>32</td>\n",
       "      <td>3.465736</td>\n",
       "      <td>14.612903</td>\n",
       "      <td>2.507322</td>\n",
       "      <td>Tue</td>\n",
       "      <td>Dec</td>\n",
       "    </tr>\n",
       "    <tr>\n",
       "      <th>2189</th>\n",
       "      <td>2015-12-30</td>\n",
       "      <td>15</td>\n",
       "      <td>2015</td>\n",
       "      <td>4</td>\n",
       "      <td>12</td>\n",
       "      <td>30</td>\n",
       "      <td>3</td>\n",
       "      <td>False</td>\n",
       "      <td>True</td>\n",
       "      <td>2190</td>\n",
       "      <td>False</td>\n",
       "      <td>15.97235</td>\n",
       "      <td>15</td>\n",
       "      <td>2.708050</td>\n",
       "      <td>14.903226</td>\n",
       "      <td>2.470384</td>\n",
       "      <td>Wed</td>\n",
       "      <td>Dec</td>\n",
       "    </tr>\n",
       "    <tr>\n",
       "      <th>2190</th>\n",
       "      <td>2015-12-31</td>\n",
       "      <td>16</td>\n",
       "      <td>2015</td>\n",
       "      <td>4</td>\n",
       "      <td>12</td>\n",
       "      <td>31</td>\n",
       "      <td>4</td>\n",
       "      <td>False</td>\n",
       "      <td>True</td>\n",
       "      <td>2191</td>\n",
       "      <td>False</td>\n",
       "      <td>15.97235</td>\n",
       "      <td>16</td>\n",
       "      <td>2.772589</td>\n",
       "      <td>13.093750</td>\n",
       "      <td>2.321463</td>\n",
       "      <td>Thu</td>\n",
       "      <td>Dec</td>\n",
       "    </tr>\n",
       "  </tbody>\n",
       "</table>\n",
       "</div>"
      ],
      "text/plain": [
       "           date  QUANTITY  year  quarter  month  day  dow  weekend  \\\n",
       "2186 2015-12-27         0  2015        4     12   27    7     True   \n",
       "2187 2015-12-28        16  2015        4     12   28    1    False   \n",
       "2188 2015-12-29        32  2015        4     12   29    2    False   \n",
       "2189 2015-12-30        15  2015        4     12   30    3    False   \n",
       "2190 2015-12-31        16  2015        4     12   31    4    False   \n",
       "\n",
       "      school_off  trend  isHoliday   q_month  QUANTITY2      q_ln    tickets  \\\n",
       "2186        True   2187      False  15.97235          1  0.000000  25.266667   \n",
       "2187        True   2188      False  15.97235         16  2.772589  13.483871   \n",
       "2188        True   2189      False  15.97235         32  3.465736  14.612903   \n",
       "2189        True   2190      False  15.97235         15  2.708050  14.903226   \n",
       "2190        True   2191      False  15.97235         16  2.772589  13.093750   \n",
       "\n",
       "      tickets_ln dow_abb month_abb  \n",
       "2186    2.927724     Sun       Dec  \n",
       "2187    2.392609     Mon       Dec  \n",
       "2188    2.507322     Tue       Dec  \n",
       "2189    2.470384     Wed       Dec  \n",
       "2190    2.321463     Thu       Dec  "
      ]
     },
     "execution_count": 31,
     "metadata": {},
     "output_type": "execute_result"
    }
   ],
   "source": [
    "data_train.tail()"
   ]
  },
  {
   "cell_type": "code",
   "execution_count": 32,
   "metadata": {},
   "outputs": [
    {
     "name": "stderr",
     "output_type": "stream",
     "text": [
      "/usr/local/lib/python3.8/site-packages/pandas/core/frame.py:3188: SettingWithCopyWarning: \n",
      "A value is trying to be set on a copy of a slice from a DataFrame.\n",
      "Try using .loc[row_indexer,col_indexer] = value instead\n",
      "\n",
      "See the caveats in the documentation: https://pandas.pydata.org/pandas-docs/stable/user_guide/indexing.html#returning-a-view-versus-a-copy\n",
      "  self[k1] = value[k2]\n"
     ]
    }
   ],
   "source": [
    "factor_cols = ['month', 'dow', 'isHoliday', 'school_off']\n",
    "data_train[factor_cols] = data_train[factor_cols].astype('category')"
   ]
  },
  {
   "cell_type": "code",
   "execution_count": 33,
   "metadata": {},
   "outputs": [
    {
     "data": {
      "text/plain": [
       "date          datetime64[ns]\n",
       "QUANTITY               int64\n",
       "year                   int64\n",
       "quarter                int64\n",
       "month               category\n",
       "day                    int64\n",
       "dow                 category\n",
       "weekend                 bool\n",
       "school_off          category\n",
       "trend                  int64\n",
       "isHoliday           category\n",
       "q_month              float64\n",
       "QUANTITY2              int64\n",
       "q_ln                 float64\n",
       "tickets              float64\n",
       "tickets_ln           float64\n",
       "dow_abb               object\n",
       "month_abb             object\n",
       "dtype: object"
      ]
     },
     "execution_count": 33,
     "metadata": {},
     "output_type": "execute_result"
    }
   ],
   "source": [
    "data_train.dtypes"
   ]
  },
  {
   "cell_type": "code",
   "execution_count": 34,
   "metadata": {},
   "outputs": [],
   "source": [
    "import patsy"
   ]
  },
  {
   "cell_type": "code",
   "execution_count": 35,
   "metadata": {},
   "outputs": [],
   "source": [
    "y,X = patsy.dmatrices(\"QUANTITY ~ 1+ trend + month\",data_train)"
   ]
  },
  {
   "cell_type": "code",
   "execution_count": 36,
   "metadata": {},
   "outputs": [
    {
     "data": {
      "text/plain": [
       "DesignMatrix with shape (2191, 13)\n",
       "  Columns:\n",
       "    ['Intercept',\n",
       "     'month[T.2]',\n",
       "     'month[T.3]',\n",
       "     'month[T.4]',\n",
       "     'month[T.5]',\n",
       "     'month[T.6]',\n",
       "     'month[T.7]',\n",
       "     'month[T.8]',\n",
       "     'month[T.9]',\n",
       "     'month[T.10]',\n",
       "     'month[T.11]',\n",
       "     'month[T.12]',\n",
       "     'trend']\n",
       "  Terms:\n",
       "    'Intercept' (column 0)\n",
       "    'month' (columns 1:12)\n",
       "    'trend' (column 12)\n",
       "  (to view full data, use np.asarray(this_obj))"
      ]
     },
     "execution_count": 36,
     "metadata": {},
     "output_type": "execute_result"
    }
   ],
   "source": [
    "X"
   ]
  },
  {
   "cell_type": "code",
   "execution_count": null,
   "metadata": {},
   "outputs": [],
   "source": []
  },
  {
   "cell_type": "code",
   "execution_count": 37,
   "metadata": {},
   "outputs": [],
   "source": [
    "#X = data_train.loc[:,['trend','month']].to_numpy()\n",
    "#y = data_train.loc[:,'QUANTITY'].to_numpy()\n",
    "groups = data_train.loc[:,'year'].to_numpy()"
   ]
  },
  {
   "cell_type": "code",
   "execution_count": 38,
   "metadata": {},
   "outputs": [],
   "source": [
    "lin_reg = LinearRegression(fit_intercept=False)"
   ]
  },
  {
   "cell_type": "code",
   "execution_count": 39,
   "metadata": {},
   "outputs": [],
   "source": [
    "logo = LeaveOneGroupOut()"
   ]
  },
  {
   "cell_type": "code",
   "execution_count": 40,
   "metadata": {},
   "outputs": [],
   "source": [
    "y_true=[]\n",
    "y_pred=[]\n",
    "rmse_folds=[]\n",
    "for train_index, test_index in logo.split(X, y, groups):\n",
    "    X_train, X_test = X[train_index], X[test_index]\n",
    "    y_train, y_test = y[train_index], y[test_index]\n",
    "    lin_reg.fit(X_train,y_train)\n",
    "    y_hat = lin_reg.predict(X_test)\n",
    "    y_true.append(y_test)\n",
    "    y_pred.append(y_hat)\n",
    "    rmse_folds.append(mean_squared_error(y_test,y_hat,squared=False))\n",
    "#mean_squared_error(np.concatenate(y_true).ravel(),np.concatenate(y_pred).ravel(),squared=False)"
   ]
  },
  {
   "cell_type": "code",
   "execution_count": 41,
   "metadata": {},
   "outputs": [
    {
     "data": {
      "text/plain": [
       "32.347871356433025"
      ]
     },
     "execution_count": 41,
     "metadata": {},
     "output_type": "execute_result"
    }
   ],
   "source": [
    "sum(rmse_folds)/len(rmse_folds)"
   ]
  },
  {
   "cell_type": "code",
   "execution_count": 149,
   "metadata": {},
   "outputs": [],
   "source": [
    "y,X = patsy.dmatrices(\"QUANTITY ~ 1+ trend + month + dow\",data_train)"
   ]
  },
  {
   "cell_type": "code",
   "execution_count": 154,
   "metadata": {},
   "outputs": [],
   "source": [
    "rmse_folds=[]\n",
    "for train_index, test_index in logo.split(X, y, groups):\n",
    "    X_train, X_test = X[train_index], X[test_index]\n",
    "    y_train, y_test = y[train_index], y[test_index]\n",
    "    lin_reg.fit(X_train,y_train)\n",
    "    y_hat = lin_reg.predict(X_test)\n",
    "    rmse_folds.append(mean_squared_error(y_test,y_hat,squared=False))"
   ]
  },
  {
   "cell_type": "code",
   "execution_count": 155,
   "metadata": {},
   "outputs": [
    {
     "data": {
      "text/plain": [
       "31.448481901741218"
      ]
     },
     "execution_count": 155,
     "metadata": {},
     "output_type": "execute_result"
    }
   ],
   "source": [
    "sum(rmse_folds)/len(rmse_folds)"
   ]
  },
  {
   "cell_type": "code",
   "execution_count": null,
   "metadata": {},
   "outputs": [],
   "source": []
  },
  {
   "cell_type": "code",
   "execution_count": 156,
   "metadata": {},
   "outputs": [],
   "source": [
    "# creating instance of one-hot-encoder\n",
    "enc = OneHotEncoder(handle_unknown='ignore')\n",
    "# passing bridge-types-cat column (label encoded values of bridge_types)\n",
    "enc_df = pd.DataFrame(enc.fit_transform(data_train[['month']]).toarray())"
   ]
  },
  {
   "cell_type": "code",
   "execution_count": 157,
   "metadata": {},
   "outputs": [],
   "source": [
    "enc_df_d = enc_df.drop(columns=0)"
   ]
  },
  {
   "cell_type": "code",
   "execution_count": 158,
   "metadata": {},
   "outputs": [
    {
     "ename": "ValueError",
     "evalue": "columns overlap but no suffix specified: Index([1, 2, 3, 4, 5, 6, 7, 8, 9, 10, 11], dtype='object')",
     "output_type": "error",
     "traceback": [
      "\u001b[0;31m---------------------------------------------------------------------------\u001b[0m",
      "\u001b[0;31mValueError\u001b[0m                                Traceback (most recent call last)",
      "\u001b[0;32m<ipython-input-158-4e91aa69a7fc>\u001b[0m in \u001b[0;36m<module>\u001b[0;34m()\u001b[0m\n\u001b[0;32m----> 1\u001b[0;31m \u001b[0mdata_train\u001b[0m \u001b[0;34m=\u001b[0m \u001b[0mdata_train\u001b[0m\u001b[0;34m.\u001b[0m\u001b[0mjoin\u001b[0m\u001b[0;34m(\u001b[0m\u001b[0menc_df_d\u001b[0m\u001b[0;34m)\u001b[0m\u001b[0;34m\u001b[0m\u001b[0m\n\u001b[0m",
      "\u001b[0;32m/anaconda3/lib/python3.6/site-packages/pandas/core/frame.py\u001b[0m in \u001b[0;36mjoin\u001b[0;34m(self, other, on, how, lsuffix, rsuffix, sort)\u001b[0m\n\u001b[1;32m   7862\u001b[0m         \"\"\"\n\u001b[1;32m   7863\u001b[0m         return self._join_compat(\n\u001b[0;32m-> 7864\u001b[0;31m             \u001b[0mother\u001b[0m\u001b[0;34m,\u001b[0m \u001b[0mon\u001b[0m\u001b[0;34m=\u001b[0m\u001b[0mon\u001b[0m\u001b[0;34m,\u001b[0m \u001b[0mhow\u001b[0m\u001b[0;34m=\u001b[0m\u001b[0mhow\u001b[0m\u001b[0;34m,\u001b[0m \u001b[0mlsuffix\u001b[0m\u001b[0;34m=\u001b[0m\u001b[0mlsuffix\u001b[0m\u001b[0;34m,\u001b[0m \u001b[0mrsuffix\u001b[0m\u001b[0;34m=\u001b[0m\u001b[0mrsuffix\u001b[0m\u001b[0;34m,\u001b[0m \u001b[0msort\u001b[0m\u001b[0;34m=\u001b[0m\u001b[0msort\u001b[0m\u001b[0;34m\u001b[0m\u001b[0m\n\u001b[0m\u001b[1;32m   7865\u001b[0m         )\n\u001b[1;32m   7866\u001b[0m \u001b[0;34m\u001b[0m\u001b[0m\n",
      "\u001b[0;32m/anaconda3/lib/python3.6/site-packages/pandas/core/frame.py\u001b[0m in \u001b[0;36m_join_compat\u001b[0;34m(self, other, on, how, lsuffix, rsuffix, sort)\u001b[0m\n\u001b[1;32m   7885\u001b[0m                 \u001b[0mright_index\u001b[0m\u001b[0;34m=\u001b[0m\u001b[0;32mTrue\u001b[0m\u001b[0;34m,\u001b[0m\u001b[0;34m\u001b[0m\u001b[0m\n\u001b[1;32m   7886\u001b[0m                 \u001b[0msuffixes\u001b[0m\u001b[0;34m=\u001b[0m\u001b[0;34m(\u001b[0m\u001b[0mlsuffix\u001b[0m\u001b[0;34m,\u001b[0m \u001b[0mrsuffix\u001b[0m\u001b[0;34m)\u001b[0m\u001b[0;34m,\u001b[0m\u001b[0;34m\u001b[0m\u001b[0m\n\u001b[0;32m-> 7887\u001b[0;31m                 \u001b[0msort\u001b[0m\u001b[0;34m=\u001b[0m\u001b[0msort\u001b[0m\u001b[0;34m,\u001b[0m\u001b[0;34m\u001b[0m\u001b[0m\n\u001b[0m\u001b[1;32m   7888\u001b[0m             )\n\u001b[1;32m   7889\u001b[0m         \u001b[0;32melse\u001b[0m\u001b[0;34m:\u001b[0m\u001b[0;34m\u001b[0m\u001b[0m\n",
      "\u001b[0;32m/anaconda3/lib/python3.6/site-packages/pandas/core/reshape/merge.py\u001b[0m in \u001b[0;36mmerge\u001b[0;34m(left, right, how, on, left_on, right_on, left_index, right_index, sort, suffixes, copy, indicator, validate)\u001b[0m\n\u001b[1;32m     87\u001b[0m         \u001b[0mvalidate\u001b[0m\u001b[0;34m=\u001b[0m\u001b[0mvalidate\u001b[0m\u001b[0;34m,\u001b[0m\u001b[0;34m\u001b[0m\u001b[0m\n\u001b[1;32m     88\u001b[0m     )\n\u001b[0;32m---> 89\u001b[0;31m     \u001b[0;32mreturn\u001b[0m \u001b[0mop\u001b[0m\u001b[0;34m.\u001b[0m\u001b[0mget_result\u001b[0m\u001b[0;34m(\u001b[0m\u001b[0;34m)\u001b[0m\u001b[0;34m\u001b[0m\u001b[0m\n\u001b[0m\u001b[1;32m     90\u001b[0m \u001b[0;34m\u001b[0m\u001b[0m\n\u001b[1;32m     91\u001b[0m \u001b[0;34m\u001b[0m\u001b[0m\n",
      "\u001b[0;32m/anaconda3/lib/python3.6/site-packages/pandas/core/reshape/merge.py\u001b[0m in \u001b[0;36mget_result\u001b[0;34m(self)\u001b[0m\n\u001b[1;32m    669\u001b[0m \u001b[0;34m\u001b[0m\u001b[0m\n\u001b[1;32m    670\u001b[0m         llabels, rlabels = _items_overlap_with_suffix(\n\u001b[0;32m--> 671\u001b[0;31m             \u001b[0mself\u001b[0m\u001b[0;34m.\u001b[0m\u001b[0mleft\u001b[0m\u001b[0;34m.\u001b[0m\u001b[0m_info_axis\u001b[0m\u001b[0;34m,\u001b[0m \u001b[0mself\u001b[0m\u001b[0;34m.\u001b[0m\u001b[0mright\u001b[0m\u001b[0;34m.\u001b[0m\u001b[0m_info_axis\u001b[0m\u001b[0;34m,\u001b[0m \u001b[0mself\u001b[0m\u001b[0;34m.\u001b[0m\u001b[0msuffixes\u001b[0m\u001b[0;34m\u001b[0m\u001b[0m\n\u001b[0m\u001b[1;32m    672\u001b[0m         )\n\u001b[1;32m    673\u001b[0m \u001b[0;34m\u001b[0m\u001b[0m\n",
      "\u001b[0;32m/anaconda3/lib/python3.6/site-packages/pandas/core/reshape/merge.py\u001b[0m in \u001b[0;36m_items_overlap_with_suffix\u001b[0;34m(left, right, suffixes)\u001b[0m\n\u001b[1;32m   2089\u001b[0m \u001b[0;34m\u001b[0m\u001b[0m\n\u001b[1;32m   2090\u001b[0m     \u001b[0;32mif\u001b[0m \u001b[0;32mnot\u001b[0m \u001b[0mlsuffix\u001b[0m \u001b[0;32mand\u001b[0m \u001b[0;32mnot\u001b[0m \u001b[0mrsuffix\u001b[0m\u001b[0;34m:\u001b[0m\u001b[0;34m\u001b[0m\u001b[0m\n\u001b[0;32m-> 2091\u001b[0;31m         \u001b[0;32mraise\u001b[0m \u001b[0mValueError\u001b[0m\u001b[0;34m(\u001b[0m\u001b[0;34mf\"columns overlap but no suffix specified: {to_rename}\"\u001b[0m\u001b[0;34m)\u001b[0m\u001b[0;34m\u001b[0m\u001b[0m\n\u001b[0m\u001b[1;32m   2092\u001b[0m \u001b[0;34m\u001b[0m\u001b[0m\n\u001b[1;32m   2093\u001b[0m     \u001b[0;32mdef\u001b[0m \u001b[0mrenamer\u001b[0m\u001b[0;34m(\u001b[0m\u001b[0mx\u001b[0m\u001b[0;34m,\u001b[0m \u001b[0msuffix\u001b[0m\u001b[0;34m)\u001b[0m\u001b[0;34m:\u001b[0m\u001b[0;34m\u001b[0m\u001b[0m\n",
      "\u001b[0;31mValueError\u001b[0m: columns overlap but no suffix specified: Index([1, 2, 3, 4, 5, 6, 7, 8, 9, 10, 11], dtype='object')"
     ]
    }
   ],
   "source": [
    "data_train = data_train.join(enc_df_d)"
   ]
  },
  {
   "cell_type": "code",
   "execution_count": 159,
   "metadata": {},
   "outputs": [
    {
     "data": {
      "text/plain": [
       "Index([      'date',   'QUANTITY',       'year',    'quarter',      'month',\n",
       "              'day',        'dow',    'weekend', 'school_off',      'trend',\n",
       "        'isHoliday',    'q_month',  'QUANTITY2',       'q_ln',    'tickets',\n",
       "       'tickets_ln',    'dow_abb',  'month_abb',            1,            2,\n",
       "                  3,            4,            5,            6,            7,\n",
       "                  8,            9,           10,           11],\n",
       "      dtype='object')"
      ]
     },
     "execution_count": 159,
     "metadata": {},
     "output_type": "execute_result"
    }
   ],
   "source": [
    "data_train.columns"
   ]
  },
  {
   "cell_type": "code",
   "execution_count": 160,
   "metadata": {},
   "outputs": [],
   "source": [
    "X = data_train.loc[:,['trend',1,2,3,4,5,6,7,8,9,10,11]].to_numpy()"
   ]
  },
  {
   "cell_type": "code",
   "execution_count": 161,
   "metadata": {},
   "outputs": [
    {
     "data": {
      "text/plain": [
       "(2191, 29)"
      ]
     },
     "execution_count": 161,
     "metadata": {},
     "output_type": "execute_result"
    }
   ],
   "source": [
    "data_train.shape"
   ]
  },
  {
   "cell_type": "code",
   "execution_count": 162,
   "metadata": {},
   "outputs": [
    {
     "data": {
      "text/plain": [
       "(2191, 12)"
      ]
     },
     "execution_count": 162,
     "metadata": {},
     "output_type": "execute_result"
    }
   ],
   "source": [
    "X.shape"
   ]
  },
  {
   "cell_type": "code",
   "execution_count": 163,
   "metadata": {},
   "outputs": [],
   "source": [
    "lin_reg=LinearRegression(fit_intercept=True)"
   ]
  },
  {
   "cell_type": "code",
   "execution_count": 164,
   "metadata": {},
   "outputs": [],
   "source": [
    "reg1 = lin_reg.fit(X[train_list[0][0]],y[train_list[0][0]])"
   ]
  },
  {
   "cell_type": "code",
   "execution_count": 165,
   "metadata": {},
   "outputs": [
    {
     "data": {
      "text/plain": [
       "array([[-9.22296369e-04,  5.95123925e-01,  1.78223419e+01,\n",
       "         1.67560633e+01,  4.20656987e+01,  1.22358990e+02,\n",
       "         8.66574427e+01,  3.81440984e+01,  3.81050800e+00,\n",
       "        -5.86738309e-01, -3.36656526e+00, -3.82725242e+00]])"
      ]
     },
     "execution_count": 165,
     "metadata": {},
     "output_type": "execute_result"
    }
   ],
   "source": [
    "reg1.coef_"
   ]
  },
  {
   "cell_type": "code",
   "execution_count": null,
   "metadata": {},
   "outputs": [],
   "source": []
  },
  {
   "cell_type": "code",
   "execution_count": null,
   "metadata": {},
   "outputs": [],
   "source": []
  },
  {
   "cell_type": "code",
   "execution_count": 166,
   "metadata": {},
   "outputs": [
    {
     "ename": "ValueError",
     "evalue": "matmul: Input operand 1 has a mismatch in its core dimension 0, with gufunc signature (n?,k),(k,m?)->(n?,m?) (size 12 is different from 19)",
     "output_type": "error",
     "traceback": [
      "\u001b[0;31m---------------------------------------------------------------------------\u001b[0m",
      "\u001b[0;31mValueError\u001b[0m                                Traceback (most recent call last)",
      "\u001b[0;32m<ipython-input-166-787c93402a99>\u001b[0m in \u001b[0;36m<module>\u001b[0;34m()\u001b[0m\n\u001b[0;32m----> 1\u001b[0;31m \u001b[0mlin_reg\u001b[0m\u001b[0;34m.\u001b[0m\u001b[0mpredict\u001b[0m\u001b[0;34m(\u001b[0m\u001b[0mX_test\u001b[0m\u001b[0;34m[\u001b[0m\u001b[0mtrain_list\u001b[0m\u001b[0;34m[\u001b[0m\u001b[0;36m0\u001b[0m\u001b[0;34m]\u001b[0m\u001b[0;34m[\u001b[0m\u001b[0;36m1\u001b[0m\u001b[0;34m]\u001b[0m\u001b[0;34m]\u001b[0m\u001b[0;34m)\u001b[0m\u001b[0;34m\u001b[0m\u001b[0m\n\u001b[0m",
      "\u001b[0;32m/anaconda3/lib/python3.6/site-packages/sklearn/linear_model/_base.py\u001b[0m in \u001b[0;36mpredict\u001b[0;34m(self, X)\u001b[0m\n\u001b[1;32m    234\u001b[0m             \u001b[0mReturns\u001b[0m \u001b[0mpredicted\u001b[0m \u001b[0mvalues\u001b[0m\u001b[0;34m.\u001b[0m\u001b[0;34m\u001b[0m\u001b[0m\n\u001b[1;32m    235\u001b[0m         \"\"\"\n\u001b[0;32m--> 236\u001b[0;31m         \u001b[0;32mreturn\u001b[0m \u001b[0mself\u001b[0m\u001b[0;34m.\u001b[0m\u001b[0m_decision_function\u001b[0m\u001b[0;34m(\u001b[0m\u001b[0mX\u001b[0m\u001b[0;34m)\u001b[0m\u001b[0;34m\u001b[0m\u001b[0m\n\u001b[0m\u001b[1;32m    237\u001b[0m \u001b[0;34m\u001b[0m\u001b[0m\n\u001b[1;32m    238\u001b[0m     \u001b[0m_preprocess_data\u001b[0m \u001b[0;34m=\u001b[0m \u001b[0mstaticmethod\u001b[0m\u001b[0;34m(\u001b[0m\u001b[0m_preprocess_data\u001b[0m\u001b[0;34m)\u001b[0m\u001b[0;34m\u001b[0m\u001b[0m\n",
      "\u001b[0;32m/anaconda3/lib/python3.6/site-packages/sklearn/linear_model/_base.py\u001b[0m in \u001b[0;36m_decision_function\u001b[0;34m(self, X)\u001b[0m\n\u001b[1;32m    218\u001b[0m         \u001b[0mX\u001b[0m \u001b[0;34m=\u001b[0m \u001b[0mcheck_array\u001b[0m\u001b[0;34m(\u001b[0m\u001b[0mX\u001b[0m\u001b[0;34m,\u001b[0m \u001b[0maccept_sparse\u001b[0m\u001b[0;34m=\u001b[0m\u001b[0;34m[\u001b[0m\u001b[0;34m'csr'\u001b[0m\u001b[0;34m,\u001b[0m \u001b[0;34m'csc'\u001b[0m\u001b[0;34m,\u001b[0m \u001b[0;34m'coo'\u001b[0m\u001b[0;34m]\u001b[0m\u001b[0;34m)\u001b[0m\u001b[0;34m\u001b[0m\u001b[0m\n\u001b[1;32m    219\u001b[0m         return safe_sparse_dot(X, self.coef_.T,\n\u001b[0;32m--> 220\u001b[0;31m                                dense_output=True) + self.intercept_\n\u001b[0m\u001b[1;32m    221\u001b[0m \u001b[0;34m\u001b[0m\u001b[0m\n\u001b[1;32m    222\u001b[0m     \u001b[0;32mdef\u001b[0m \u001b[0mpredict\u001b[0m\u001b[0;34m(\u001b[0m\u001b[0mself\u001b[0m\u001b[0;34m,\u001b[0m \u001b[0mX\u001b[0m\u001b[0;34m)\u001b[0m\u001b[0;34m:\u001b[0m\u001b[0;34m\u001b[0m\u001b[0m\n",
      "\u001b[0;32m/anaconda3/lib/python3.6/site-packages/sklearn/utils/validation.py\u001b[0m in \u001b[0;36minner_f\u001b[0;34m(*args, **kwargs)\u001b[0m\n\u001b[1;32m     70\u001b[0m                           FutureWarning)\n\u001b[1;32m     71\u001b[0m         \u001b[0mkwargs\u001b[0m\u001b[0;34m.\u001b[0m\u001b[0mupdate\u001b[0m\u001b[0;34m(\u001b[0m\u001b[0;34m{\u001b[0m\u001b[0mk\u001b[0m\u001b[0;34m:\u001b[0m \u001b[0marg\u001b[0m \u001b[0;32mfor\u001b[0m \u001b[0mk\u001b[0m\u001b[0;34m,\u001b[0m \u001b[0marg\u001b[0m \u001b[0;32min\u001b[0m \u001b[0mzip\u001b[0m\u001b[0;34m(\u001b[0m\u001b[0msig\u001b[0m\u001b[0;34m.\u001b[0m\u001b[0mparameters\u001b[0m\u001b[0;34m,\u001b[0m \u001b[0margs\u001b[0m\u001b[0;34m)\u001b[0m\u001b[0;34m}\u001b[0m\u001b[0;34m)\u001b[0m\u001b[0;34m\u001b[0m\u001b[0m\n\u001b[0;32m---> 72\u001b[0;31m         \u001b[0;32mreturn\u001b[0m \u001b[0mf\u001b[0m\u001b[0;34m(\u001b[0m\u001b[0;34m**\u001b[0m\u001b[0mkwargs\u001b[0m\u001b[0;34m)\u001b[0m\u001b[0;34m\u001b[0m\u001b[0m\n\u001b[0m\u001b[1;32m     73\u001b[0m     \u001b[0;32mreturn\u001b[0m \u001b[0minner_f\u001b[0m\u001b[0;34m\u001b[0m\u001b[0m\n\u001b[1;32m     74\u001b[0m \u001b[0;34m\u001b[0m\u001b[0m\n",
      "\u001b[0;32m/anaconda3/lib/python3.6/site-packages/sklearn/utils/extmath.py\u001b[0m in \u001b[0;36msafe_sparse_dot\u001b[0;34m(a, b, dense_output)\u001b[0m\n\u001b[1;32m    151\u001b[0m             \u001b[0mret\u001b[0m \u001b[0;34m=\u001b[0m \u001b[0mnp\u001b[0m\u001b[0;34m.\u001b[0m\u001b[0mdot\u001b[0m\u001b[0;34m(\u001b[0m\u001b[0ma\u001b[0m\u001b[0;34m,\u001b[0m \u001b[0mb\u001b[0m\u001b[0;34m)\u001b[0m\u001b[0;34m\u001b[0m\u001b[0m\n\u001b[1;32m    152\u001b[0m     \u001b[0;32melse\u001b[0m\u001b[0;34m:\u001b[0m\u001b[0;34m\u001b[0m\u001b[0m\n\u001b[0;32m--> 153\u001b[0;31m         \u001b[0mret\u001b[0m \u001b[0;34m=\u001b[0m \u001b[0ma\u001b[0m \u001b[0;34m@\u001b[0m \u001b[0mb\u001b[0m\u001b[0;34m\u001b[0m\u001b[0m\n\u001b[0m\u001b[1;32m    154\u001b[0m \u001b[0;34m\u001b[0m\u001b[0m\n\u001b[1;32m    155\u001b[0m     if (sparse.issparse(a) and sparse.issparse(b)\n",
      "\u001b[0;31mValueError\u001b[0m: matmul: Input operand 1 has a mismatch in its core dimension 0, with gufunc signature (n?,k),(k,m?)->(n?,m?) (size 12 is different from 19)"
     ]
    }
   ],
   "source": [
    "lin_reg.predict(X_test[train_list[0][1]])"
   ]
  },
  {
   "cell_type": "code",
   "execution_count": 167,
   "metadata": {},
   "outputs": [
    {
     "data": {
      "text/plain": [
       "365"
      ]
     },
     "execution_count": 167,
     "metadata": {},
     "output_type": "execute_result"
    }
   ],
   "source": [
    "len(y_test)"
   ]
  },
  {
   "cell_type": "code",
   "execution_count": 168,
   "metadata": {},
   "outputs": [
    {
     "data": {
      "text/plain": [
       "2191"
      ]
     },
     "execution_count": 168,
     "metadata": {},
     "output_type": "execute_result"
    }
   ],
   "source": [
    "len(np.concatenate(y_pred).ravel())"
   ]
  },
  {
   "cell_type": "code",
   "execution_count": 169,
   "metadata": {},
   "outputs": [
    {
     "name": "stdout",
     "output_type": "stream",
     "text": [
      "TRAIN: [ 365  366  367 ... 2188 2189 2190] TEST: [  0   1   2   3   4   5   6   7   8   9  10  11  12  13  14  15  16  17\n",
      "  18  19  20  21  22  23  24  25  26  27  28  29  30  31  32  33  34  35\n",
      "  36  37  38  39  40  41  42  43  44  45  46  47  48  49  50  51  52  53\n",
      "  54  55  56  57  58  59  60  61  62  63  64  65  66  67  68  69  70  71\n",
      "  72  73  74  75  76  77  78  79  80  81  82  83  84  85  86  87  88  89\n",
      "  90  91  92  93  94  95  96  97  98  99 100 101 102 103 104 105 106 107\n",
      " 108 109 110 111 112 113 114 115 116 117 118 119 120 121 122 123 124 125\n",
      " 126 127 128 129 130 131 132 133 134 135 136 137 138 139 140 141 142 143\n",
      " 144 145 146 147 148 149 150 151 152 153 154 155 156 157 158 159 160 161\n",
      " 162 163 164 165 166 167 168 169 170 171 172 173 174 175 176 177 178 179\n",
      " 180 181 182 183 184 185 186 187 188 189 190 191 192 193 194 195 196 197\n",
      " 198 199 200 201 202 203 204 205 206 207 208 209 210 211 212 213 214 215\n",
      " 216 217 218 219 220 221 222 223 224 225 226 227 228 229 230 231 232 233\n",
      " 234 235 236 237 238 239 240 241 242 243 244 245 246 247 248 249 250 251\n",
      " 252 253 254 255 256 257 258 259 260 261 262 263 264 265 266 267 268 269\n",
      " 270 271 272 273 274 275 276 277 278 279 280 281 282 283 284 285 286 287\n",
      " 288 289 290 291 292 293 294 295 296 297 298 299 300 301 302 303 304 305\n",
      " 306 307 308 309 310 311 312 313 314 315 316 317 318 319 320 321 322 323\n",
      " 324 325 326 327 328 329 330 331 332 333 334 335 336 337 338 339 340 341\n",
      " 342 343 344 345 346 347 348 349 350 351 352 353 354 355 356 357 358 359\n",
      " 360 361 362 363 364]\n",
      "TRAIN: [   0    1    2 ... 2188 2189 2190] TEST: [365 366 367 368 369 370 371 372 373 374 375 376 377 378 379 380 381 382\n",
      " 383 384 385 386 387 388 389 390 391 392 393 394 395 396 397 398 399 400\n",
      " 401 402 403 404 405 406 407 408 409 410 411 412 413 414 415 416 417 418\n",
      " 419 420 421 422 423 424 425 426 427 428 429 430 431 432 433 434 435 436\n",
      " 437 438 439 440 441 442 443 444 445 446 447 448 449 450 451 452 453 454\n",
      " 455 456 457 458 459 460 461 462 463 464 465 466 467 468 469 470 471 472\n",
      " 473 474 475 476 477 478 479 480 481 482 483 484 485 486 487 488 489 490\n",
      " 491 492 493 494 495 496 497 498 499 500 501 502 503 504 505 506 507 508\n",
      " 509 510 511 512 513 514 515 516 517 518 519 520 521 522 523 524 525 526\n",
      " 527 528 529 530 531 532 533 534 535 536 537 538 539 540 541 542 543 544\n",
      " 545 546 547 548 549 550 551 552 553 554 555 556 557 558 559 560 561 562\n",
      " 563 564 565 566 567 568 569 570 571 572 573 574 575 576 577 578 579 580\n",
      " 581 582 583 584 585 586 587 588 589 590 591 592 593 594 595 596 597 598\n",
      " 599 600 601 602 603 604 605 606 607 608 609 610 611 612 613 614 615 616\n",
      " 617 618 619 620 621 622 623 624 625 626 627 628 629 630 631 632 633 634\n",
      " 635 636 637 638 639 640 641 642 643 644 645 646 647 648 649 650 651 652\n",
      " 653 654 655 656 657 658 659 660 661 662 663 664 665 666 667 668 669 670\n",
      " 671 672 673 674 675 676 677 678 679 680 681 682 683 684 685 686 687 688\n",
      " 689 690 691 692 693 694 695 696 697 698 699 700 701 702 703 704 705 706\n",
      " 707 708 709 710 711 712 713 714 715 716 717 718 719 720 721 722 723 724\n",
      " 725 726 727 728 729]\n",
      "TRAIN: [   0    1    2 ... 2188 2189 2190] TEST: [ 730  731  732  733  734  735  736  737  738  739  740  741  742  743\n",
      "  744  745  746  747  748  749  750  751  752  753  754  755  756  757\n",
      "  758  759  760  761  762  763  764  765  766  767  768  769  770  771\n",
      "  772  773  774  775  776  777  778  779  780  781  782  783  784  785\n",
      "  786  787  788  789  790  791  792  793  794  795  796  797  798  799\n",
      "  800  801  802  803  804  805  806  807  808  809  810  811  812  813\n",
      "  814  815  816  817  818  819  820  821  822  823  824  825  826  827\n",
      "  828  829  830  831  832  833  834  835  836  837  838  839  840  841\n",
      "  842  843  844  845  846  847  848  849  850  851  852  853  854  855\n",
      "  856  857  858  859  860  861  862  863  864  865  866  867  868  869\n",
      "  870  871  872  873  874  875  876  877  878  879  880  881  882  883\n",
      "  884  885  886  887  888  889  890  891  892  893  894  895  896  897\n",
      "  898  899  900  901  902  903  904  905  906  907  908  909  910  911\n",
      "  912  913  914  915  916  917  918  919  920  921  922  923  924  925\n",
      "  926  927  928  929  930  931  932  933  934  935  936  937  938  939\n",
      "  940  941  942  943  944  945  946  947  948  949  950  951  952  953\n",
      "  954  955  956  957  958  959  960  961  962  963  964  965  966  967\n",
      "  968  969  970  971  972  973  974  975  976  977  978  979  980  981\n",
      "  982  983  984  985  986  987  988  989  990  991  992  993  994  995\n",
      "  996  997  998  999 1000 1001 1002 1003 1004 1005 1006 1007 1008 1009\n",
      " 1010 1011 1012 1013 1014 1015 1016 1017 1018 1019 1020 1021 1022 1023\n",
      " 1024 1025 1026 1027 1028 1029 1030 1031 1032 1033 1034 1035 1036 1037\n",
      " 1038 1039 1040 1041 1042 1043 1044 1045 1046 1047 1048 1049 1050 1051\n",
      " 1052 1053 1054 1055 1056 1057 1058 1059 1060 1061 1062 1063 1064 1065\n",
      " 1066 1067 1068 1069 1070 1071 1072 1073 1074 1075 1076 1077 1078 1079\n",
      " 1080 1081 1082 1083 1084 1085 1086 1087 1088 1089 1090 1091 1092 1093\n",
      " 1094 1095]\n",
      "TRAIN: [   0    1    2 ... 2188 2189 2190] TEST: [1096 1097 1098 1099 1100 1101 1102 1103 1104 1105 1106 1107 1108 1109\n",
      " 1110 1111 1112 1113 1114 1115 1116 1117 1118 1119 1120 1121 1122 1123\n",
      " 1124 1125 1126 1127 1128 1129 1130 1131 1132 1133 1134 1135 1136 1137\n",
      " 1138 1139 1140 1141 1142 1143 1144 1145 1146 1147 1148 1149 1150 1151\n",
      " 1152 1153 1154 1155 1156 1157 1158 1159 1160 1161 1162 1163 1164 1165\n",
      " 1166 1167 1168 1169 1170 1171 1172 1173 1174 1175 1176 1177 1178 1179\n",
      " 1180 1181 1182 1183 1184 1185 1186 1187 1188 1189 1190 1191 1192 1193\n",
      " 1194 1195 1196 1197 1198 1199 1200 1201 1202 1203 1204 1205 1206 1207\n",
      " 1208 1209 1210 1211 1212 1213 1214 1215 1216 1217 1218 1219 1220 1221\n",
      " 1222 1223 1224 1225 1226 1227 1228 1229 1230 1231 1232 1233 1234 1235\n",
      " 1236 1237 1238 1239 1240 1241 1242 1243 1244 1245 1246 1247 1248 1249\n",
      " 1250 1251 1252 1253 1254 1255 1256 1257 1258 1259 1260 1261 1262 1263\n",
      " 1264 1265 1266 1267 1268 1269 1270 1271 1272 1273 1274 1275 1276 1277\n",
      " 1278 1279 1280 1281 1282 1283 1284 1285 1286 1287 1288 1289 1290 1291\n",
      " 1292 1293 1294 1295 1296 1297 1298 1299 1300 1301 1302 1303 1304 1305\n",
      " 1306 1307 1308 1309 1310 1311 1312 1313 1314 1315 1316 1317 1318 1319\n",
      " 1320 1321 1322 1323 1324 1325 1326 1327 1328 1329 1330 1331 1332 1333\n",
      " 1334 1335 1336 1337 1338 1339 1340 1341 1342 1343 1344 1345 1346 1347\n",
      " 1348 1349 1350 1351 1352 1353 1354 1355 1356 1357 1358 1359 1360 1361\n",
      " 1362 1363 1364 1365 1366 1367 1368 1369 1370 1371 1372 1373 1374 1375\n",
      " 1376 1377 1378 1379 1380 1381 1382 1383 1384 1385 1386 1387 1388 1389\n",
      " 1390 1391 1392 1393 1394 1395 1396 1397 1398 1399 1400 1401 1402 1403\n",
      " 1404 1405 1406 1407 1408 1409 1410 1411 1412 1413 1414 1415 1416 1417\n",
      " 1418 1419 1420 1421 1422 1423 1424 1425 1426 1427 1428 1429 1430 1431\n",
      " 1432 1433 1434 1435 1436 1437 1438 1439 1440 1441 1442 1443 1444 1445\n",
      " 1446 1447 1448 1449 1450 1451 1452 1453 1454 1455 1456 1457 1458 1459\n",
      " 1460]\n",
      "TRAIN: [   0    1    2 ... 2188 2189 2190] TEST: [1461 1462 1463 1464 1465 1466 1467 1468 1469 1470 1471 1472 1473 1474\n",
      " 1475 1476 1477 1478 1479 1480 1481 1482 1483 1484 1485 1486 1487 1488\n",
      " 1489 1490 1491 1492 1493 1494 1495 1496 1497 1498 1499 1500 1501 1502\n",
      " 1503 1504 1505 1506 1507 1508 1509 1510 1511 1512 1513 1514 1515 1516\n",
      " 1517 1518 1519 1520 1521 1522 1523 1524 1525 1526 1527 1528 1529 1530\n",
      " 1531 1532 1533 1534 1535 1536 1537 1538 1539 1540 1541 1542 1543 1544\n",
      " 1545 1546 1547 1548 1549 1550 1551 1552 1553 1554 1555 1556 1557 1558\n",
      " 1559 1560 1561 1562 1563 1564 1565 1566 1567 1568 1569 1570 1571 1572\n",
      " 1573 1574 1575 1576 1577 1578 1579 1580 1581 1582 1583 1584 1585 1586\n",
      " 1587 1588 1589 1590 1591 1592 1593 1594 1595 1596 1597 1598 1599 1600\n",
      " 1601 1602 1603 1604 1605 1606 1607 1608 1609 1610 1611 1612 1613 1614\n",
      " 1615 1616 1617 1618 1619 1620 1621 1622 1623 1624 1625 1626 1627 1628\n",
      " 1629 1630 1631 1632 1633 1634 1635 1636 1637 1638 1639 1640 1641 1642\n",
      " 1643 1644 1645 1646 1647 1648 1649 1650 1651 1652 1653 1654 1655 1656\n",
      " 1657 1658 1659 1660 1661 1662 1663 1664 1665 1666 1667 1668 1669 1670\n",
      " 1671 1672 1673 1674 1675 1676 1677 1678 1679 1680 1681 1682 1683 1684\n",
      " 1685 1686 1687 1688 1689 1690 1691 1692 1693 1694 1695 1696 1697 1698\n",
      " 1699 1700 1701 1702 1703 1704 1705 1706 1707 1708 1709 1710 1711 1712\n",
      " 1713 1714 1715 1716 1717 1718 1719 1720 1721 1722 1723 1724 1725 1726\n",
      " 1727 1728 1729 1730 1731 1732 1733 1734 1735 1736 1737 1738 1739 1740\n",
      " 1741 1742 1743 1744 1745 1746 1747 1748 1749 1750 1751 1752 1753 1754\n",
      " 1755 1756 1757 1758 1759 1760 1761 1762 1763 1764 1765 1766 1767 1768\n",
      " 1769 1770 1771 1772 1773 1774 1775 1776 1777 1778 1779 1780 1781 1782\n",
      " 1783 1784 1785 1786 1787 1788 1789 1790 1791 1792 1793 1794 1795 1796\n",
      " 1797 1798 1799 1800 1801 1802 1803 1804 1805 1806 1807 1808 1809 1810\n",
      " 1811 1812 1813 1814 1815 1816 1817 1818 1819 1820 1821 1822 1823 1824\n",
      " 1825]\n",
      "TRAIN: [   0    1    2 ... 1823 1824 1825] TEST: [1826 1827 1828 1829 1830 1831 1832 1833 1834 1835 1836 1837 1838 1839\n",
      " 1840 1841 1842 1843 1844 1845 1846 1847 1848 1849 1850 1851 1852 1853\n",
      " 1854 1855 1856 1857 1858 1859 1860 1861 1862 1863 1864 1865 1866 1867\n",
      " 1868 1869 1870 1871 1872 1873 1874 1875 1876 1877 1878 1879 1880 1881\n",
      " 1882 1883 1884 1885 1886 1887 1888 1889 1890 1891 1892 1893 1894 1895\n",
      " 1896 1897 1898 1899 1900 1901 1902 1903 1904 1905 1906 1907 1908 1909\n",
      " 1910 1911 1912 1913 1914 1915 1916 1917 1918 1919 1920 1921 1922 1923\n",
      " 1924 1925 1926 1927 1928 1929 1930 1931 1932 1933 1934 1935 1936 1937\n",
      " 1938 1939 1940 1941 1942 1943 1944 1945 1946 1947 1948 1949 1950 1951\n",
      " 1952 1953 1954 1955 1956 1957 1958 1959 1960 1961 1962 1963 1964 1965\n",
      " 1966 1967 1968 1969 1970 1971 1972 1973 1974 1975 1976 1977 1978 1979\n",
      " 1980 1981 1982 1983 1984 1985 1986 1987 1988 1989 1990 1991 1992 1993\n",
      " 1994 1995 1996 1997 1998 1999 2000 2001 2002 2003 2004 2005 2006 2007\n",
      " 2008 2009 2010 2011 2012 2013 2014 2015 2016 2017 2018 2019 2020 2021\n",
      " 2022 2023 2024 2025 2026 2027 2028 2029 2030 2031 2032 2033 2034 2035\n",
      " 2036 2037 2038 2039 2040 2041 2042 2043 2044 2045 2046 2047 2048 2049\n",
      " 2050 2051 2052 2053 2054 2055 2056 2057 2058 2059 2060 2061 2062 2063\n",
      " 2064 2065 2066 2067 2068 2069 2070 2071 2072 2073 2074 2075 2076 2077\n",
      " 2078 2079 2080 2081 2082 2083 2084 2085 2086 2087 2088 2089 2090 2091\n",
      " 2092 2093 2094 2095 2096 2097 2098 2099 2100 2101 2102 2103 2104 2105\n",
      " 2106 2107 2108 2109 2110 2111 2112 2113 2114 2115 2116 2117 2118 2119\n",
      " 2120 2121 2122 2123 2124 2125 2126 2127 2128 2129 2130 2131 2132 2133\n",
      " 2134 2135 2136 2137 2138 2139 2140 2141 2142 2143 2144 2145 2146 2147\n",
      " 2148 2149 2150 2151 2152 2153 2154 2155 2156 2157 2158 2159 2160 2161\n",
      " 2162 2163 2164 2165 2166 2167 2168 2169 2170 2171 2172 2173 2174 2175\n",
      " 2176 2177 2178 2179 2180 2181 2182 2183 2184 2185 2186 2187 2188 2189\n",
      " 2190]\n",
      "[[1.000e+00 0.000e+00 0.000e+00 ... 0.000e+00 0.000e+00 0.000e+00]\n",
      " [2.000e+00 0.000e+00 0.000e+00 ... 0.000e+00 0.000e+00 0.000e+00]\n",
      " [3.000e+00 0.000e+00 0.000e+00 ... 0.000e+00 0.000e+00 0.000e+00]\n",
      " ...\n",
      " [1.824e+03 0.000e+00 0.000e+00 ... 0.000e+00 0.000e+00 1.000e+00]\n",
      " [1.825e+03 0.000e+00 0.000e+00 ... 0.000e+00 0.000e+00 1.000e+00]\n",
      " [1.826e+03 0.000e+00 0.000e+00 ... 0.000e+00 0.000e+00 1.000e+00]] [[1.827e+03 0.000e+00 0.000e+00 ... 0.000e+00 0.000e+00 0.000e+00]\n",
      " [1.828e+03 0.000e+00 0.000e+00 ... 0.000e+00 0.000e+00 0.000e+00]\n",
      " [1.829e+03 0.000e+00 0.000e+00 ... 0.000e+00 0.000e+00 0.000e+00]\n",
      " ...\n",
      " [2.189e+03 0.000e+00 0.000e+00 ... 0.000e+00 0.000e+00 1.000e+00]\n",
      " [2.190e+03 0.000e+00 0.000e+00 ... 0.000e+00 0.000e+00 1.000e+00]\n",
      " [2.191e+03 0.000e+00 0.000e+00 ... 0.000e+00 0.000e+00 1.000e+00]] [[ 0.]\n",
      " [49.]\n",
      " [31.]\n",
      " ...\n",
      " [ 9.]\n",
      " [ 0.]\n",
      " [ 0.]] [[  0.]\n",
      " [  6.]\n",
      " [ 34.]\n",
      " [ 32.]\n",
      " [ 16.]\n",
      " [ 11.]\n",
      " [ 11.]\n",
      " [ 13.]\n",
      " [  6.]\n",
      " [ 35.]\n",
      " [ 42.]\n",
      " [ 17.]\n",
      " [ 15.]\n",
      " [ 12.]\n",
      " [ 14.]\n",
      " [ 20.]\n",
      " [ 31.]\n",
      " [ 38.]\n",
      " [  9.]\n",
      " [ 12.]\n",
      " [  4.]\n",
      " [  6.]\n",
      " [  0.]\n",
      " [ 31.]\n",
      " [ 35.]\n",
      " [ 11.]\n",
      " [ 11.]\n",
      " [ 19.]\n",
      " [  5.]\n",
      " [  0.]\n",
      " [ 36.]\n",
      " [ 40.]\n",
      " [  7.]\n",
      " [ 18.]\n",
      " [ 12.]\n",
      " [ 10.]\n",
      " [  4.]\n",
      " [ 60.]\n",
      " [ 80.]\n",
      " [ 17.]\n",
      " [ 22.]\n",
      " [ 40.]\n",
      " [ 21.]\n",
      " [  1.]\n",
      " [ 18.]\n",
      " [ 60.]\n",
      " [ 22.]\n",
      " [ 26.]\n",
      " [ 11.]\n",
      " [ 14.]\n",
      " [  5.]\n",
      " [ 47.]\n",
      " [ 34.]\n",
      " [ 12.]\n",
      " [ 17.]\n",
      " [ 14.]\n",
      " [ 28.]\n",
      " [  0.]\n",
      " [  0.]\n",
      " [ 36.]\n",
      " [ 23.]\n",
      " [ 25.]\n",
      " [ 17.]\n",
      " [ 20.]\n",
      " [ 10.]\n",
      " [ 43.]\n",
      " [ 71.]\n",
      " [ 22.]\n",
      " [ 24.]\n",
      " [ 19.]\n",
      " [ 22.]\n",
      " [  8.]\n",
      " [ 52.]\n",
      " [ 63.]\n",
      " [ 32.]\n",
      " [ 19.]\n",
      " [ 27.]\n",
      " [ 18.]\n",
      " [ 11.]\n",
      " [ 65.]\n",
      " [ 57.]\n",
      " [ 37.]\n",
      " [ 25.]\n",
      " [ 34.]\n",
      " [ 27.]\n",
      " [  9.]\n",
      " [ 61.]\n",
      " [131.]\n",
      " [ 74.]\n",
      " [ 73.]\n",
      " [ 99.]\n",
      " [ 80.]\n",
      " [ 15.]\n",
      " [ 78.]\n",
      " [  0.]\n",
      " [ 43.]\n",
      " [ 17.]\n",
      " [ 26.]\n",
      " [ 37.]\n",
      " [  7.]\n",
      " [112.]\n",
      " [ 59.]\n",
      " [ 27.]\n",
      " [ 26.]\n",
      " [  5.]\n",
      " [  0.]\n",
      " [  0.]\n",
      " [ 50.]\n",
      " [ 68.]\n",
      " [ 32.]\n",
      " [ 28.]\n",
      " [ 30.]\n",
      " [  0.]\n",
      " [  6.]\n",
      " [ 40.]\n",
      " [ 65.]\n",
      " [ 31.]\n",
      " [ 32.]\n",
      " [ 48.]\n",
      " [ 32.]\n",
      " [  9.]\n",
      " [ 72.]\n",
      " [152.]\n",
      " [ 16.]\n",
      " [ 24.]\n",
      " [ 24.]\n",
      " [ 37.]\n",
      " [  8.]\n",
      " [ 54.]\n",
      " [ 22.]\n",
      " [ 35.]\n",
      " [ 32.]\n",
      " [ 31.]\n",
      " [ 26.]\n",
      " [  4.]\n",
      " [ 77.]\n",
      " [ 77.]\n",
      " [ 15.]\n",
      " [ 50.]\n",
      " [ 63.]\n",
      " [ 15.]\n",
      " [  9.]\n",
      " [ 86.]\n",
      " [ 55.]\n",
      " [ 85.]\n",
      " [105.]\n",
      " [125.]\n",
      " [157.]\n",
      " [213.]\n",
      " [131.]\n",
      " [ 87.]\n",
      " [171.]\n",
      " [147.]\n",
      " [156.]\n",
      " [174.]\n",
      " [158.]\n",
      " [103.]\n",
      " [ 43.]\n",
      " [157.]\n",
      " [155.]\n",
      " [172.]\n",
      " [146.]\n",
      " [106.]\n",
      " [117.]\n",
      " [ 52.]\n",
      " [140.]\n",
      " [170.]\n",
      " [165.]\n",
      " [180.]\n",
      " [161.]\n",
      " [175.]\n",
      " [ 71.]\n",
      " [163.]\n",
      " [172.]\n",
      " [185.]\n",
      " [142.]\n",
      " [ 93.]\n",
      " [151.]\n",
      " [ 70.]\n",
      " [141.]\n",
      " [133.]\n",
      " [118.]\n",
      " [ 99.]\n",
      " [ 72.]\n",
      " [ 67.]\n",
      " [ 55.]\n",
      " [140.]\n",
      " [106.]\n",
      " [ 97.]\n",
      " [126.]\n",
      " [158.]\n",
      " [ 74.]\n",
      " [ 50.]\n",
      " [ 83.]\n",
      " [107.]\n",
      " [103.]\n",
      " [109.]\n",
      " [147.]\n",
      " [ 72.]\n",
      " [ 64.]\n",
      " [ 84.]\n",
      " [100.]\n",
      " [124.]\n",
      " [128.]\n",
      " [ 94.]\n",
      " [ 79.]\n",
      " [ 57.]\n",
      " [103.]\n",
      " [116.]\n",
      " [ 67.]\n",
      " [ 80.]\n",
      " [ 72.]\n",
      " [142.]\n",
      " [ 39.]\n",
      " [ 63.]\n",
      " [113.]\n",
      " [ 78.]\n",
      " [ 69.]\n",
      " [ 57.]\n",
      " [ 70.]\n",
      " [ 49.]\n",
      " [ 25.]\n",
      " [ 45.]\n",
      " [ 43.]\n",
      " [ 25.]\n",
      " [  7.]\n",
      " [115.]\n",
      " [124.]\n",
      " [ 25.]\n",
      " [ 31.]\n",
      " [ 35.]\n",
      " [ 19.]\n",
      " [  8.]\n",
      " [ 50.]\n",
      " [ 81.]\n",
      " [ 39.]\n",
      " [ 18.]\n",
      " [  4.]\n",
      " [ 39.]\n",
      " [  2.]\n",
      " [ 87.]\n",
      " [ 89.]\n",
      " [  6.]\n",
      " [ 32.]\n",
      " [ 19.]\n",
      " [ 37.]\n",
      " [  7.]\n",
      " [ 43.]\n",
      " [ 81.]\n",
      " [ 14.]\n",
      " [ 35.]\n",
      " [ 18.]\n",
      " [ 31.]\n",
      " [  1.]\n",
      " [ 64.]\n",
      " [ 54.]\n",
      " [ 20.]\n",
      " [ 30.]\n",
      " [ 11.]\n",
      " [ 27.]\n",
      " [  4.]\n",
      " [ 31.]\n",
      " [ 59.]\n",
      " [ 21.]\n",
      " [ 17.]\n",
      " [ 20.]\n",
      " [ 14.]\n",
      " [  7.]\n",
      " [ 50.]\n",
      " [ 39.]\n",
      " [ 27.]\n",
      " [ 21.]\n",
      " [ 28.]\n",
      " [ 22.]\n",
      " [ 23.]\n",
      " [ 45.]\n",
      " [ 36.]\n",
      " [ 26.]\n",
      " [ 14.]\n",
      " [ 34.]\n",
      " [ 34.]\n",
      " [  5.]\n",
      " [ 29.]\n",
      " [ 39.]\n",
      " [ 26.]\n",
      " [ 22.]\n",
      " [ 25.]\n",
      " [ 29.]\n",
      " [  2.]\n",
      " [ 37.]\n",
      " [ 44.]\n",
      " [ 21.]\n",
      " [ 13.]\n",
      " [ 17.]\n",
      " [ 18.]\n",
      " [  8.]\n",
      " [ 21.]\n",
      " [ 37.]\n",
      " [ 19.]\n",
      " [ 16.]\n",
      " [ 17.]\n",
      " [ 11.]\n",
      " [  5.]\n",
      " [ 18.]\n",
      " [ 64.]\n",
      " [ 21.]\n",
      " [ 28.]\n",
      " [ 16.]\n",
      " [ 21.]\n",
      " [  8.]\n",
      " [ 18.]\n",
      " [ 39.]\n",
      " [ 17.]\n",
      " [ 19.]\n",
      " [ 10.]\n",
      " [ 17.]\n",
      " [  6.]\n",
      " [ 39.]\n",
      " [ 26.]\n",
      " [  8.]\n",
      " [ 12.]\n",
      " [ 12.]\n",
      " [ 14.]\n",
      " [  7.]\n",
      " [ 55.]\n",
      " [ 40.]\n",
      " [ 15.]\n",
      " [ 17.]\n",
      " [ 12.]\n",
      " [  0.]\n",
      " [  7.]\n",
      " [ 37.]\n",
      " [ 28.]\n",
      " [ 10.]\n",
      " [ 18.]\n",
      " [ 14.]\n",
      " [ 17.]\n",
      " [  3.]\n",
      " [ 43.]\n",
      " [ 56.]\n",
      " [ 18.]\n",
      " [ 11.]\n",
      " [ 12.]\n",
      " [ 18.]\n",
      " [  6.]\n",
      " [ 36.]\n",
      " [ 20.]\n",
      " [ 11.]\n",
      " [ 21.]\n",
      " [ 23.]\n",
      " [ 27.]\n",
      " [ 17.]\n",
      " [ 25.]\n",
      " [ 31.]\n",
      " [ 19.]\n",
      " [ 22.]\n",
      " [ 37.]\n",
      " [ 16.]\n",
      " [  0.]\n",
      " [ 29.]\n",
      " [  0.]\n",
      " [ 16.]\n",
      " [ 32.]\n",
      " [ 15.]\n",
      " [ 16.]]\n"
     ]
    }
   ],
   "source": [
    "for train_index, test_index in logo.split(X, y, groups):\n",
    "    print(\"TRAIN:\", train_index, \"TEST:\", test_index)\n",
    "X_train, X_test = X[train_index], X[test_index]\n",
    "y_train, y_test = y[train_index], y[test_index]\n",
    "print(X_train, X_test, y_train, y_test)"
   ]
  },
  {
   "cell_type": "code",
   "execution_count": null,
   "metadata": {},
   "outputs": [],
   "source": []
  },
  {
   "cell_type": "code",
   "execution_count": null,
   "metadata": {},
   "outputs": [],
   "source": []
  }
 ],
 "metadata": {
  "kernelspec": {
   "display_name": "Python 3",
   "language": "python",
   "name": "python3"
  },
  "language_info": {
   "codemirror_mode": {
    "name": "ipython",
    "version": 3
   },
   "file_extension": ".py",
   "mimetype": "text/x-python",
   "name": "python",
   "nbconvert_exporter": "python",
   "pygments_lexer": "ipython3",
   "version": "3.8.6"
  }
 },
 "nbformat": 4,
 "nbformat_minor": 2
}