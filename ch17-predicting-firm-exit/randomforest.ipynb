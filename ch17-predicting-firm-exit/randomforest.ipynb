{
 "cells": [
  {
   "cell_type": "code",
   "execution_count": 1,
   "metadata": {},
   "outputs": [],
   "source": [
    "import pdb\n",
    "import os\n",
    "from pathlib import Path\n",
    "import pandas as pd\n",
    "import numpy as np\n",
    "import random\n",
    "import sys\n",
    "import patsy\n",
    "import statsmodels.api as sm\n",
    "import statsmodels.formula.api as smf\n",
    "from stargazer.stargazer import Stargazer\n",
    "from sklearn.linear_model import LinearRegression\n",
    "from sklearn.linear_model import LogisticRegression\n",
    "from sklearn.linear_model import LogisticRegressionCV\n",
    "from sklearn.model_selection import train_test_split\n",
    "from sklearn.model_selection import GridSearchCV\n",
    "from sklearn.model_selection import KFold\n",
    "from sklearn.model_selection import cross_val_score\n",
    "from sklearn import metrics\n",
    "from sklearn.metrics import brier_score_loss\n",
    "from sklearn.metrics import roc_curve\n",
    "from sklearn.metrics import auc\n",
    "from sklearn.metrics import confusion_matrix\n",
    "from sklearn.metrics import roc_auc_score\n",
    "from sklearn.metrics import mean_squared_error\n",
    "from plotnine import *\n",
    "import matplotlib.pyplot as plt\n",
    "\n",
    "import warnings\n",
    "#warnings.filterwarnings('ignore')"
   ]
  },
  {
   "cell_type": "code",
   "execution_count": 2,
   "metadata": {},
   "outputs": [],
   "source": [
    "# Import the prewritten helper functions \n",
    "from py_helper_functions import *"
   ]
  },
  {
   "cell_type": "code",
   "execution_count": 3,
   "metadata": {},
   "outputs": [],
   "source": [
    "path = Path(os.getcwd())\n",
    "base_dir = path.parent.parent"
   ]
  },
  {
   "cell_type": "code",
   "execution_count": 4,
   "metadata": {},
   "outputs": [],
   "source": [
    "#Windows format\n",
    "data_in = os.path.join(str(base_dir) , \"da_data_repo\\\\bisnode-firms\\\\clean\\\\\")\n",
    "data_out = os.path.join(str(base_dir) , \"da_data_repo\\\\bisnode-firms\\\\\")\n",
    "output = os.path.join(data_out,'output')\n",
    "func = os.path.join(str(base_dir) ,   \"da_case_studies\\\\ch00-tech-prep\\\\\")"
   ]
  },
  {
   "cell_type": "code",
   "execution_count": 5,
   "metadata": {},
   "outputs": [],
   "source": [
    "current_csv_path = os.path.join(data_out,\"bisnode_firms_clean.csv\")\n",
    "data = pd.read_csv(current_csv_path)"
   ]
  },
  {
   "cell_type": "code",
   "execution_count": 6,
   "metadata": {},
   "outputs": [],
   "source": [
    "# Define variable sets ----------------------------------------------\n",
    "# (making sure we use categories)\n",
    "data['urban_m'] = data['urban_m'].astype(\"category\")\n",
    "data['ind2_cat'] = data['ind2_cat'].astype(\"category\")\n",
    "data['m_region_loc'] = data['region_m'].astype(\"category\")\n",
    "\n",
    "rawvars = [\"curr_assets\", \"curr_liab\", \"extra_exp\", \"extra_inc\", \"extra_profit_loss\", \"fixed_assets\",\n",
    "              \"inc_bef_tax\", \"intang_assets\", \"inventories\", \"liq_assets\", \"material_exp\", \"personnel_exp\",\n",
    "              \"profit_loss_year\", \"sales\", \"share_eq\", \"subscribed_cap\"]\n",
    "qualityvars = [\"balsheet_flag\", \"balsheet_length\", \"balsheet_notfullyear\"]\n",
    "engvar = [\"total_assets_bs\", \"fixed_assets_bs\", \"liq_assets_bs\", \"curr_assets_bs\",\n",
    "            \"share_eq_bs\", \"subscribed_cap_bs\", \"intang_assets_bs\", \"extra_exp_pl\",\n",
    "            \"extra_inc_pl\", \"extra_profit_loss_pl\", \"inc_bef_tax_pl\", \"inventories_pl\",\n",
    "            \"material_exp_pl\", \"profit_loss_year_pl\", \"personnel_exp_pl\"]\n",
    "engvar2 = [\"extra_profit_loss_pl_quad\", \"inc_bef_tax_pl_quad\",\n",
    "             \"profit_loss_year_pl_quad\", \"share_eq_bs_quad\"]\n",
    "engvar3=[]\n",
    "for col in data.columns:\n",
    "    if col.endswith('flag_low') or col.endswith('flag_high') or col.endswith('flag_error') or col.endswith('flag_zero'):\n",
    "        engvar3.append(col)\n",
    "\n",
    "\n",
    "d1 =  [\"d1_sales_mil_log_mod\", \"d1_sales_mil_log_mod_sq\",\n",
    "         \"flag_low_d1_sales_mil_log\", \"flag_high_d1_sales_mil_log\"]\n",
    "hr = [\"female\", \"ceo_age\", \"flag_high_ceo_age\", \"flag_low_ceo_age\",\n",
    "        \"flag_miss_ceo_age\", \"ceo_count\", \"labor_avg_mod\",\n",
    "        \"flag_miss_labor_avg\", \"foreign_management\"]"
   ]
  },
  {
   "cell_type": "code",
   "execution_count": 7,
   "metadata": {},
   "outputs": [],
   "source": [
    "#Creat dummy columns from category variables and drop first level\n",
    "\n",
    "ind2_catmat = patsy.dmatrix(\"0 + C(ind2_cat)\",data, return_type=\"dataframe\")\n",
    "ind2_catmat = ind2_catmat.drop(['C(ind2_cat)[26.0]'], axis=1)\n",
    "\n",
    "m_region_locmat = patsy.dmatrix(\"0 + C(m_region_loc)\",data, return_type=\"dataframe\")\n",
    "m_region_locmat = m_region_locmat.drop(['C(m_region_loc)[Central]'], axis=1)\n",
    "\n",
    "urban_mmat = patsy.dmatrix(\"0 + C(urban_m)\",data, return_type=\"dataframe\")\n",
    "urban_mmat = urban_mmat.drop(['C(urban_m)[1.0]'], axis=1)"
   ]
  },
  {
   "cell_type": "code",
   "execution_count": 8,
   "metadata": {},
   "outputs": [],
   "source": [
    "basevars = data[[\"sales_mil_log\", \"sales_mil_log_sq\", \"d1_sales_mil_log_mod\", \"profit_loss_year_pl\"]]\n",
    "\n",
    "# Define X1\n",
    "X1 = pd.concat([basevars, ind2_catmat], axis=1)\n",
    "# Define X2\n",
    "X2additional_vars = data[[\"fixed_assets_bs\", \"share_eq_bs\",\"curr_liab_bs\", \"curr_liab_bs_flag_high\", \\\n",
    "                          \"curr_liab_bs_flag_error\",  \"age\", \"foreign_management\"]]\n",
    "X2 = pd.concat([X1, X2additional_vars], axis=1)\n",
    "# Define X3\n",
    "firm = pd.concat([data[[\"age\", \"age2\", \"new\"]], ind2_catmat, m_region_locmat,urban_mmat], axis=1)\n",
    "X3 = pd.concat([data[[\"sales_mil_log\", \"sales_mil_log_sq\"] + engvar + d1], firm], axis=1)\n",
    "# Define X4\n",
    "X4 = pd.concat([data[[\"sales_mil_log\", \"sales_mil_log_sq\"] + engvar + d1 \\\n",
    "                                 + engvar2 + engvar3 + hr + qualityvars], firm], axis=1)"
   ]
  },
  {
   "cell_type": "code",
   "execution_count": 9,
   "metadata": {
    "scrolled": true
   },
   "outputs": [],
   "source": [
    "# Define X5\n",
    "#Creat matrix for interactions1 variables\n",
    "int1mat = patsy.dmatrix(\"0 + C(ind2_cat):age + C(ind2_cat):age2 + C(ind2_cat):d1_sales_mil_log_mod \\\n",
    "                + C(ind2_cat):sales_mil_log + C(ind2_cat):ceo_age + C(ind2_cat):foreign_management \\\n",
    "                + C(ind2_cat):female + C(ind2_cat):C(urban_m) + C(ind2_cat):labor_avg_mod\", data, return_type=\"dataframe\")\n",
    "#Drop first level to get k-1 dummies out of k categorical levels \n",
    "for col in int1mat.columns:\n",
    "    if col.startswith('C(ind2_cat)[26.0]') or col.endswith('C(urban_m)[1.0]'):\n",
    "        int1mat = int1mat.drop([col], axis=1)\n",
    "        \n",
    "#Creat matrix for interactions2 variables        \n",
    "int2mat = patsy.dmatrix(\"0 + sales_mil_log:age + sales_mil_log:female + sales_mil_log:profit_loss_year_pl \\\n",
    "                + sales_mil_log:foreign_management\", data, return_type=\"dataframe\")\n",
    "X5 = pd.concat([X4, int1mat, int2mat], axis=1)"
   ]
  },
  {
   "cell_type": "code",
   "execution_count": 10,
   "metadata": {},
   "outputs": [],
   "source": [
    "# Define logitvars for LASSO\n",
    "logitvars = pd.concat([X4, int1mat, int2mat], axis=1)"
   ]
  },
  {
   "cell_type": "code",
   "execution_count": 11,
   "metadata": {},
   "outputs": [],
   "source": [
    "# Define rfvars for RF (no interactions, no modified features)\n",
    "rfvars  = pd.concat([data[[\"sales_mil\", \"d1_sales_mil_log\"] + rawvars + hr + qualityvars], firm], axis=1)"
   ]
  },
  {
   "cell_type": "code",
   "execution_count": 12,
   "metadata": {},
   "outputs": [],
   "source": [
    "y = data['default']"
   ]
  },
  {
   "cell_type": "code",
   "execution_count": 13,
   "metadata": {},
   "outputs": [],
   "source": [
    "# Train Logit Models ----------------------------------------------\n",
    "\n",
    "logit_model_vars = [X1, X2, X3, X4, X5]\n",
    "\n",
    "C_values=[1e4,1e9]\n",
    "logit_models = dict()\n",
    "CV_RMSE_folds = dict()\n",
    "CV_AUC_folds = dict()\n",
    "CV_RMSE = dict()\n",
    "CV_AUC = dict()\n",
    "nvars = dict()\n",
    "\n",
    "k = KFold(n_splits=5, shuffle=True, random_state=42)\n",
    "\n",
    "index_train, index_holdout= train_test_split(\n",
    "    data.index.values, train_size=round(0.8*len(data.index)), random_state=42)\n",
    "\n",
    "y_train = y.iloc[index_train]\n",
    "y_holdout = y.iloc[index_holdout]\n",
    "\n",
    "FP = 1\n",
    "FN = 10\n",
    "cost = FN/FP\n",
    "# the prevalence, or the proportion of cases in the population (n.cases/(n.controls+n.cases))\n",
    "prevelance = y_train.sum()/len(y_train)"
   ]
  },
  {
   "cell_type": "markdown",
   "metadata": {},
   "source": [
    "# Randomforest"
   ]
  },
  {
   "cell_type": "code",
   "execution_count": 14,
   "metadata": {},
   "outputs": [],
   "source": [
    "#################################################\n",
    "# PREDICTION WITH RANDOM FOREST\n",
    "#################################################\n",
    "\n",
    "# -----------------------------------------------\n",
    "# RANDOM FOREST GRAPH EXAMPLE\n",
    "# -----------------------------------------------"
   ]
  },
  {
   "cell_type": "code",
   "execution_count": 15,
   "metadata": {},
   "outputs": [],
   "source": [
    "data_for_graph = data[['sales_mil','profit_loss_year','foreign_management']]"
   ]
  },
  {
   "cell_type": "code",
   "execution_count": 16,
   "metadata": {},
   "outputs": [],
   "source": [
    "data_for_graph_train, data_for_graph_holdout, y_train, y_holdout = train_test_split(data_for_graph, y, train_size=round(0.8*len(data_for_graph.index)), random_state=101)"
   ]
  },
  {
   "cell_type": "code",
   "execution_count": 17,
   "metadata": {},
   "outputs": [],
   "source": [
    "from sklearn.tree import DecisionTreeClassifier\n",
    "\n",
    "clf = DecisionTreeClassifier(ccp_alpha=0.0028,min_samples_leaf=100, \\\n",
    "                            max_depth=3).fit(data_for_graph_train, y_train)"
   ]
  },
  {
   "cell_type": "code",
   "execution_count": 18,
   "metadata": {},
   "outputs": [
    {
     "data": {
      "text/plain": [
       "'digraph Tree {\\nnode [shape=box] ;\\n0 [label=\"sales_mil <= 0.031\\\\ngini = 0.324\\\\nsamples = 15229\\\\nvalue = [12130, 3099]\"] ;\\n1 [label=\"profit_loss_year <= -1085.185\\\\ngini = 0.431\\\\nsamples = 6371\\\\nvalue = [4372, 1999]\"] ;\\n0 -> 1 [labeldistance=2.5, labelangle=45, headlabel=\"True\"] ;\\n2 [label=\"gini = 0.479\\\\nsamples = 3246\\\\nvalue = [1953, 1293]\"] ;\\n1 -> 2 ;\\n3 [label=\"gini = 0.35\\\\nsamples = 3125\\\\nvalue = [2419, 706]\"] ;\\n1 -> 3 ;\\n4 [label=\"profit_loss_year <= -531.481\\\\ngini = 0.218\\\\nsamples = 8858\\\\nvalue = [7758, 1100]\"] ;\\n0 -> 4 [labeldistance=2.5, labelangle=-45, headlabel=\"False\"] ;\\n5 [label=\"gini = 0.341\\\\nsamples = 3091\\\\nvalue = [2417, 674]\"] ;\\n4 -> 5 ;\\n6 [label=\"gini = 0.137\\\\nsamples = 5767\\\\nvalue = [5341, 426]\"] ;\\n4 -> 6 ;\\n}'"
      ]
     },
     "execution_count": 18,
     "metadata": {},
     "output_type": "execute_result"
    }
   ],
   "source": [
    "### Failed to do visualization, could be because of Windows OS....\n",
    "from sklearn.tree import export_graphviz\n",
    "export_graphviz(clf, feature_names = data_for_graph_train.columns)\n",
    "#from IPython.display import Image  \n",
    "#from six import StringIO \n",
    "#from sklearn.tree import export_graphviz\n",
    "#import pydot \n",
    "#import graphviz \n",
    "#features = data_for_graph_train.columns\n",
    "#dot_data = StringIO()  \n",
    "#exp=export_graphviz(clf, out_file=dot_data,feature_names=features,filled=True,rounded=True)\n",
    "#graph = graphviz.Source(exp)  \n",
    "#graph \n",
    "#graph = pydot.graph_from_dot_data(dot_data.getvalue())  \n",
    "#Image(graph[0].create_png())"
   ]
  },
  {
   "cell_type": "code",
   "execution_count": 19,
   "metadata": {
    "scrolled": false
   },
   "outputs": [
    {
     "data": {
      "text/plain": [
       "<Figure size 432x288 with 0 Axes>"
      ]
     },
     "metadata": {},
     "output_type": "display_data"
    },
    {
     "data": {
      "image/png": "[encoded data removed]",
      "text/plain": [
       "<Figure size 792x792 with 1 Axes>"
      ]
     },
     "metadata": {
      "needs_background": "light"
     },
     "output_type": "display_data"
    }
   ],
   "source": [
    "from sklearn.tree import plot_tree\n",
    "plt.figure()\n",
    "plt.figure(figsize=(11,11))\n",
    "plot_tree(clf,feature_names = data_for_graph_train.columns, filled=True, rounded=True,proportion=True,fontsize = 10)\n",
    "plt.title(\"Decision trees\")\n",
    "plt.show() "
   ]
  },
  {
   "cell_type": "code",
   "execution_count": 20,
   "metadata": {},
   "outputs": [],
   "source": [
    "#################################################\n",
    "# Probability forest\n",
    "# Split by gini, ratio of 1's in each tree, average over trees\n",
    "#################################################\n",
    "\n",
    "# 5 fold cross-validation"
   ]
  },
  {
   "cell_type": "code",
   "execution_count": 21,
   "metadata": {},
   "outputs": [],
   "source": [
    "index_train, index_holdout= train_test_split(\n",
    "    data.index.values, train_size=round(0.8*len(data.index)), random_state=42)\n",
    "\n",
    "y_train = y.iloc[index_train]\n",
    "y_holdout = y.iloc[index_holdout]\n",
    "rfvars_train = rfvars.iloc[index_train]\n",
    "rfvars_holdout = rfvars.iloc[index_holdout]\n",
    "\n",
    "k = KFold(n_splits=5, shuffle=True, random_state=42)"
   ]
  },
  {
   "cell_type": "code",
   "execution_count": 22,
   "metadata": {},
   "outputs": [],
   "source": [
    "#Failed to instal skranger, used sklearn instead \n",
    "\n",
    "#from skranger.ensemble import RangerForestClassifier\n",
    "#grid = {'mtry': [5, 6, 7],\n",
    "#        'split_rule':['gini'],\n",
    "#        'min_node_size': [10, 15]}\n"
   ]
  },
  {
   "cell_type": "code",
   "execution_count": 23,
   "metadata": {},
   "outputs": [
    {
     "data": {
      "text/plain": [
       "{'mean_fit_time': array([27.54889946, 28.95893812, 39.06289573, 49.96620045, 50.94425397,\n",
       "        34.95557823]),\n",
       " 'std_fit_time': array([1.0399686 , 0.80976715, 5.06812669, 2.60321753, 4.26829647,\n",
       "        6.49403901]),\n",
       " 'mean_score_time': array([0.736377  , 0.77800322, 1.19046946, 1.0118556 , 0.96924386,\n",
       "        0.64312401]),\n",
       " 'std_score_time': array([0.02353605, 0.02120542, 0.40668933, 0.1963599 , 0.18751288,\n",
       "        0.18058035]),\n",
       " 'param_criterion': masked_array(data=['gini', 'gini', 'gini', 'gini', 'gini', 'gini'],\n",
       "              mask=[False, False, False, False, False, False],\n",
       "        fill_value='?',\n",
       "             dtype=object),\n",
       " 'param_max_features': masked_array(data=[5, 5, 6, 6, 7, 7],\n",
       "              mask=[False, False, False, False, False, False],\n",
       "        fill_value='?',\n",
       "             dtype=object),\n",
       " 'param_min_samples_split': masked_array(data=[10, 15, 10, 15, 10, 15],\n",
       "              mask=[False, False, False, False, False, False],\n",
       "        fill_value='?',\n",
       "             dtype=object),\n",
       " 'params': [{'criterion': 'gini', 'max_features': 5, 'min_samples_split': 10},\n",
       "  {'criterion': 'gini', 'max_features': 5, 'min_samples_split': 15},\n",
       "  {'criterion': 'gini', 'max_features': 6, 'min_samples_split': 10},\n",
       "  {'criterion': 'gini', 'max_features': 6, 'min_samples_split': 15},\n",
       "  {'criterion': 'gini', 'max_features': 7, 'min_samples_split': 10},\n",
       "  {'criterion': 'gini', 'max_features': 7, 'min_samples_split': 15}],\n",
       " 'split0_test_score': array([0.8345371, 0.8348654, 0.8335522, 0.8348654, 0.8345371, 0.8348654]),\n",
       " 'split1_test_score': array([0.81746553, 0.81549573, 0.81910703, 0.81910703, 0.82009192,\n",
       "        0.81976362]),\n",
       " 'split2_test_score': array([0.82862771, 0.82895601, 0.82895601, 0.82829941, 0.8309258 ,\n",
       "        0.82731451]),\n",
       " 'split3_test_score': array([0.82600131, 0.82337492, 0.82501641, 0.82468812, 0.82797111,\n",
       "        0.82501641]),\n",
       " 'split4_test_score': array([0.82692939, 0.82692939, 0.82627258, 0.8272578 , 0.82495895,\n",
       "        0.82660099]),\n",
       " 'mean_test_score': array([0.82671221, 0.82592429, 0.82658085, 0.82684355, 0.82769698,\n",
       "        0.82671219]),\n",
       " 'std_test_score': array([0.00549457, 0.00640935, 0.0047464 , 0.00512134, 0.0049522 ,\n",
       "        0.00485815]),\n",
       " 'rank_test_score': array([3, 6, 5, 2, 1, 4])}"
      ]
     },
     "execution_count": 23,
     "metadata": {},
     "output_type": "execute_result"
    }
   ],
   "source": [
    "from sklearn.ensemble import RandomForestClassifier\n",
    "\n",
    "grid = {'max_features': [5, 6, 7],\n",
    "        'criterion':['gini'],\n",
    "        'min_samples_split': [10, 15]}\n",
    "\n",
    "rfc = RandomForestClassifier(random_state=42,n_estimators=500, oob_score=True, n_jobs=None, verbose=0)\n",
    "# This random state and defined settings produse the same best parameters as in R\n",
    "# ccp_alpha? Default in R is 0.5, here 0 \n",
    "# 0.5 so high that using it all the grid have the same result...\n",
    "gridsearch = GridSearchCV(rfc, grid, cv=k, refit=True, n_jobs=-1)\n",
    "rf_model_p = gridsearch.fit(rfvars_train, y_train)\n",
    "rf_model_p.cv_results_"
   ]
  },
  {
   "cell_type": "code",
   "execution_count": 24,
   "metadata": {},
   "outputs": [
    {
     "name": "stdout",
     "output_type": "stream",
     "text": [
      "{'criterion': 'gini', 'max_features': 7, 'min_samples_split': 10}\n"
     ]
    }
   ],
   "source": [
    "print(rf_model_p.best_params_)\n",
    "best_mtry = rf_model_p.best_params_['max_features']\n",
    "best_min_node_size = rf_model_p.best_params_['min_samples_split']"
   ]
  },
  {
   "cell_type": "code",
   "execution_count": 25,
   "metadata": {},
   "outputs": [],
   "source": [
    "rf_model_p = rf_model_p.best_estimator_.fit(rfvars_train, y_train)"
   ]
  },
  {
   "cell_type": "code",
   "execution_count": 26,
   "metadata": {
    "scrolled": false
   },
   "outputs": [],
   "source": [
    "# Get average (ie over the folds) RMSE and AUC ------------------------------------\n",
    "from sklearn.model_selection import cross_val_score\n",
    "\n",
    "RMSE = []  \n",
    "brier_scores = cross_val_score(rf_model_p, rfvars_train, y_train, scoring='neg_brier_score', cv=k)\n",
    "\n",
    "for i in brier_scores:\n",
    "    RMSE.append(np.sqrt(-i))    \n",
    "CV_RMSE_folds['rf_p'] = RMSE\n"
   ]
  },
  {
   "cell_type": "code",
   "execution_count": 27,
   "metadata": {},
   "outputs": [],
   "source": [
    "CV_AUC_folds['rf_p'] = cross_val_score(rf_model_p, rfvars_train, y_train, scoring='roc_auc', cv=k)"
   ]
  },
  {
   "cell_type": "code",
   "execution_count": 28,
   "metadata": {},
   "outputs": [],
   "source": [
    "CV_RMSE['rf_p'] = np.mean(CV_RMSE_folds['rf_p'])\n",
    "CV_AUC['rf_p'] = np.mean(CV_AUC_folds['rf_p'])"
   ]
  },
  {
   "cell_type": "code",
   "execution_count": 29,
   "metadata": {},
   "outputs": [],
   "source": [
    "# Now use loss function and search for best thresholds and expected loss over folds -----\n",
    "best_tresholds_cv = []\n",
    "expected_loss_cv = []"
   ]
  },
  {
   "cell_type": "code",
   "execution_count": 30,
   "metadata": {},
   "outputs": [],
   "source": [
    "cv_fold = pd.DataFrame()\n",
    "cv_fold['obs'] = y_train\n",
    "cv_fold['pred'] = rf_model_p.predict(rfvars_train)\n",
    "cv_fold['prob'] = rf_model_p.predict_proba(rfvars_train)[:,1]\n",
    "fold = 1\n",
    "Folds = dict()\n",
    "for train_index, test_index in k.split(rfvars_train):\n",
    "    Folds[fold] = cv_fold.iloc[test_index]\n",
    "    fold+=1"
   ]
  },
  {
   "cell_type": "code",
   "execution_count": 31,
   "metadata": {},
   "outputs": [],
   "source": [
    "for i in Folds:\n",
    "    false_pos_rate, true_pos_rate, proba = roc_curve(Folds[i]['obs'], Folds[i]['prob'])\n",
    "    optimal_proba_cutoff = sorted(list(zip(np.abs(true_pos_rate + (1 - prevelance)/(cost * prevelance)*(1-false_pos_rate)),\\\n",
    "                                       proba)), key=lambda x: x[0], reverse=True)[0][1]\n",
    "    best_tresholds_cv.append(optimal_proba_cutoff)\n",
    "    treshold_prediction = np.where(Folds[i]['prob'] < optimal_proba_cutoff, 0, 1)\n",
    "    tn, fp, fn, tp = confusion_matrix(Folds[i]['obs'], treshold_prediction, labels=[0,1]).ravel()\n",
    "    curr_exp_loss = (fp*FP + fn*FN)/len(Folds[i]['obs'])\n",
    "    expected_loss_cv.append(curr_exp_loss)\n",
    "    \n",
    "# suspiciously high optimal tresholds, low expected loss numbers    \n",
    "# RMSE, AUC numbers seems good"
   ]
  },
  {
   "cell_type": "code",
   "execution_count": 32,
   "metadata": {},
   "outputs": [],
   "source": [
    "best_tresholds=dict()\n",
    "expected_loss=dict()\n",
    "best_tresholds['rf_p'] = np.mean(best_tresholds_cv)\n",
    "expected_loss['rf_p'] = np.mean(expected_loss_cv)"
   ]
  },
  {
   "cell_type": "code",
   "execution_count": 33,
   "metadata": {},
   "outputs": [
    {
     "data": {
      "text/plain": [
       "{'CV RMSE': 0.3539381156646485,\n",
       " 'CV AUC': 0.8090787263387504,\n",
       " 'Avg of optimal thresholds': 0.33046428135444234,\n",
       " 'Threshold for Fold5': 0.32959147259390237,\n",
       " 'Avg expected loss': 0.01786065226461903,\n",
       " 'Expected loss for Fold5': 0.017733990147783252}"
      ]
     },
     "execution_count": 33,
     "metadata": {},
     "output_type": "execute_result"
    }
   ],
   "source": [
    "rf_summary = dict(\n",
    "    {'CV RMSE': CV_RMSE['rf_p'],\n",
    "     'CV AUC': CV_AUC['rf_p'],\n",
    "     'Avg of optimal thresholds': best_tresholds['rf_p'],\n",
    "     'Threshold for Fold5': best_tresholds_cv[4],\n",
    "     'Avg expected loss': expected_loss['rf_p'],\n",
    "     'Expected loss for Fold5': expected_loss_cv[4]})\n",
    "\n",
    "rf_summary\n",
    "\n",
    "#create rf_summary.tex"
   ]
  },
  {
   "cell_type": "code",
   "execution_count": 34,
   "metadata": {},
   "outputs": [],
   "source": [
    "# Create plots based on Fold5 in CV ----------------------------------------------\n",
    "# ToDo like for partII"
   ]
  },
  {
   "cell_type": "code",
   "execution_count": 35,
   "metadata": {},
   "outputs": [],
   "source": [
    "# Take model to holdout and estimate RMSE, AUC and expected loss ------------------------------------"
   ]
  },
  {
   "cell_type": "code",
   "execution_count": 36,
   "metadata": {},
   "outputs": [
    {
     "data": {
      "text/plain": [
       "0.35712202165667933"
      ]
     },
     "execution_count": 36,
     "metadata": {},
     "output_type": "execute_result"
    }
   ],
   "source": [
    "rf_predicted_probabilities_holdout = rf_model_p.predict_proba(rfvars_holdout)[:,1]\n",
    "np.sqrt(mean_squared_error(y_holdout, rf_predicted_probabilities_holdout))"
   ]
  },
  {
   "cell_type": "code",
   "execution_count": 37,
   "metadata": {},
   "outputs": [
    {
     "data": {
      "text/plain": [
       "0.8059875893145593"
      ]
     },
     "execution_count": 37,
     "metadata": {},
     "output_type": "execute_result"
    }
   ],
   "source": [
    "# ROC AUC  on holdout\n",
    "roc_auc_score(y_holdout, rf_predicted_probabilities_holdout)"
   ]
  },
  {
   "cell_type": "code",
   "execution_count": 38,
   "metadata": {},
   "outputs": [
    {
     "data": {
      "text/plain": [
       "1.0249540320462307"
      ]
     },
     "execution_count": 38,
     "metadata": {},
     "output_type": "execute_result"
    }
   ],
   "source": [
    "# Get expected loss on holdout\n",
    "holdout_treshold = np.where(rf_predicted_probabilities_holdout < best_tresholds['rf_p'], 0, 1)\n",
    "tn, fp, fn, tp = confusion_matrix(y_holdout, holdout_treshold, labels=[0,1]).ravel()\n",
    "expected_loss_holdout = (fp*FP + fn*FN)/len(y_holdout)\n",
    "expected_loss_holdout\n",
    "\n",
    "# To have lower expected loss as in R best_tresholds['rf_p'] should be around 0.1"
   ]
  },
  {
   "cell_type": "code",
   "execution_count": 39,
   "metadata": {},
   "outputs": [],
   "source": [
    "#################################################\n",
    "# Classification forest\n",
    "# Split by Gini, majority vote in each tree, majority vote over trees\n",
    "#################################################\n",
    "# Show expected loss with classification RF and default majority voting to compare\n",
    "\n",
    "\n",
    "#???? how to do it, which function"
   ]
  },
  {
   "cell_type": "code",
   "execution_count": 40,
   "metadata": {},
   "outputs": [],
   "source": [
    "# Summary results ---------------------------------------------------\n",
    "\n",
    "nvars = dict()\n",
    "nvars[\"rf_p\"] = len(rfvars.columns)\n",
    "#in R length(rfvars) counts 1 for category variables (39), here they count category number-1 (44)\n"
   ]
  },
  {
   "cell_type": "code",
   "execution_count": 41,
   "metadata": {},
   "outputs": [
    {
     "data": {
      "text/html": [
       "<div>\n",
       "<style scoped>\n",
       "    .dataframe tbody tr th:only-of-type {\n",
       "        vertical-align: middle;\n",
       "    }\n",
       "\n",
       "    .dataframe tbody tr th {\n",
       "        vertical-align: top;\n",
       "    }\n",
       "\n",
       "    .dataframe thead th {\n",
       "        text-align: right;\n",
       "    }\n",
       "</style>\n",
       "<table border=\"1\" class=\"dataframe\">\n",
       "  <thead>\n",
       "    <tr style=\"text-align: right;\">\n",
       "      <th></th>\n",
       "      <th>Number of predictors</th>\n",
       "      <th>CV RMSE</th>\n",
       "      <th>CV AUC</th>\n",
       "      <th>CV threshold</th>\n",
       "      <th>CV expected Loss</th>\n",
       "    </tr>\n",
       "  </thead>\n",
       "  <tbody>\n",
       "    <tr>\n",
       "      <th>rf_p</th>\n",
       "      <td>44.0</td>\n",
       "      <td>0.353938</td>\n",
       "      <td>0.809079</td>\n",
       "      <td>0.330464</td>\n",
       "      <td>0.017861</td>\n",
       "    </tr>\n",
       "  </tbody>\n",
       "</table>\n",
       "</div>"
      ],
      "text/plain": [
       "      Number of predictors   CV RMSE    CV AUC  CV threshold  CV expected Loss\n",
       "rf_p                  44.0  0.353938  0.809079      0.330464          0.017861"
      ]
     },
     "execution_count": 41,
     "metadata": {},
     "output_type": "execute_result"
    }
   ],
   "source": [
    "summary_results = np.transpose(pd.DataFrame.from_dict([nvars, CV_RMSE, CV_AUC, best_tresholds,expected_loss], orient='columns'))\n",
    "summary_results.columns = [\"Number of predictors\", \"CV RMSE\", \"CV AUC\", \"CV threshold\", \"CV expected Loss\"]\n",
    "summary_results"
   ]
  },
  {
   "cell_type": "code",
   "execution_count": null,
   "metadata": {},
   "outputs": [],
   "source": []
  }
 ],
 "metadata": {
  "kernelspec": {
   "display_name": "Python 3",
   "language": "python",
   "name": "python3"
  },
  "language_info": {
   "codemirror_mode": {
    "name": "ipython",
    "version": 3
   },
   "file_extension": ".py",
   "mimetype": "text/x-python",
   "name": "python",
   "nbconvert_exporter": "python",
   "pygments_lexer": "ipython3",
   "version": "3.8.5"
  }
 },
 "nbformat": 4,
 "nbformat_minor": 4
}
