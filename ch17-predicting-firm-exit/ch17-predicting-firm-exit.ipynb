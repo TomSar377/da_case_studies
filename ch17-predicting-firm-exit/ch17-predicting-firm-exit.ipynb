{
 "cells": [
  {
   "cell_type": "markdown",
   "metadata": {},
   "source": [
    "#### Prepared for Gabor's Data Analysis\n",
    "\n",
    "# Data Analysis for Business, Economics, and Policy\n",
    "by Gabor Bekes and  Gabor Kezdi\n",
    " \n",
    "Cambridge University Press 2021\n",
    "\n",
    "**[gabors-data-analysis.com ](https://gabors-data-analysis.com/)**\n",
    "\n",
    " License: Free to share, modify and use for educational purposes. \n",
    " Not to be used for commercial purposes.\n",
    "\n",
    "# Chapter 17\n",
    "\n",
    "Predicting firm exit"
   ]
  },
  {
   "cell_type": "code",
   "execution_count": 1,
   "metadata": {},
   "outputs": [],
   "source": [
    "import pdb\n",
    "import os\n",
    "from pathlib import Path\n",
    "import pandas as pd\n",
    "import numpy as np\n",
    "import random\n",
    "import sys\n",
    "import patsy\n",
    "import statsmodels.api as sm\n",
    "import statsmodels.formula.api as smf\n",
    "from stargazer.stargazer import Stargazer\n",
    "from sklearn.linear_model import LinearRegression\n",
    "from sklearn.linear_model import LogisticRegression\n",
    "from sklearn.linear_model import LogisticRegressionCV\n",
    "from sklearn.model_selection import train_test_split\n",
    "from sklearn.model_selection import GridSearchCV\n",
    "from sklearn.model_selection import KFold\n",
    "from sklearn.model_selection import cross_val_score\n",
    "from sklearn import metrics\n",
    "from sklearn.metrics import brier_score_loss\n",
    "from sklearn.metrics import roc_curve\n",
    "from sklearn.metrics import auc\n",
    "from sklearn.metrics import confusion_matrix\n",
    "from sklearn.metrics import roc_auc_score\n",
    "from sklearn.metrics import mean_squared_error\n",
    "from sklearn.feature_selection import f_regression\n",
    "from plotnine import *\n",
    "import matplotlib.pyplot as plt\n",
    "from sklearn.model_selection import train_test_split\n",
    "from sklearn.preprocessing import StandardScaler\n",
    "\n",
    "import warnings\n",
    "warnings.filterwarnings('ignore')"
   ]
  },
  {
   "cell_type": "code",
   "execution_count": 2,
   "metadata": {},
   "outputs": [],
   "source": [
    "# Current script folder\n",
    "path = os.getcwd()\n",
    "base_dir = path.split(\"da_case_studies\")[0]\n",
    "\n",
    "#Set the location of your data directory\n",
    "data_dir = '/Users/zholler/Documents/Private/da_data_repo/'"
   ]
  },
  {
   "cell_type": "code",
   "execution_count": 3,
   "metadata": {},
   "outputs": [],
   "source": [
    "# location folders\n",
    "data_in = os.path.join(data_dir, 'bisnode-firms/clean/')\n",
    "data_out = os.path.join(data_dir, 'bisnode-firms/')\n",
    "output = os.path.join(data_out, 'output/')\n",
    "func = os.path.join(base_dir, 'da_case_studies/ch00-tech-prep/')\n",
    "sys.path.append(func)"
   ]
  },
  {
   "cell_type": "code",
   "execution_count": 4,
   "metadata": {},
   "outputs": [],
   "source": [
    "# Import the prewritten helper functions\n",
    "from py_helper_functions import *"
   ]
  },
  {
   "cell_type": "markdown",
   "metadata": {},
   "source": [
    "## Import data"
   ]
  },
  {
   "cell_type": "code",
   "execution_count": 5,
   "metadata": {},
   "outputs": [],
   "source": [
    "current_csv_path = os.path.join(data_out,\"bisnode_firms_clean.csv\")\n",
    "data = pd.read_csv(current_csv_path)"
   ]
  },
  {
   "cell_type": "markdown",
   "metadata": {},
   "source": [
    "## Define helper functions"
   ]
  },
  {
   "cell_type": "code",
   "execution_count": 6,
   "metadata": {},
   "outputs": [],
   "source": [
    "import sklearn.metrics as metrics\n",
    "def regression_results(y_true, y_pred):\n",
    "\n",
    "    # Regression metrics\n",
    "    explained_variance=metrics.explained_variance_score(y_true, y_pred)\n",
    "    mean_absolute_error=metrics.mean_absolute_error(y_true, y_pred) \n",
    "    mse=metrics.mean_squared_error(y_true, y_pred) \n",
    "    median_absolute_error=metrics.median_absolute_error(y_true, y_pred)\n",
    "    r2=metrics.r2_score(y_true, y_pred)\n",
    "\n",
    "    print('explained_variance: ', round(explained_variance,4))    \n",
    "    print('r2: ', round(r2,4))\n",
    "    print('MAE: ', round(mean_absolute_error,4))\n",
    "    print('MSE: ', round(mse,4))\n",
    "    print('RMSE: ', round(np.sqrt(mse),4))\n",
    "    \n",
    "def coef_matrix(X, model):\n",
    "    # add p values?\n",
    "    coef_matrix = pd.concat([pd.DataFrame(X.columns),pd.DataFrame(np.transpose(model.coef_))], axis = 1)\n",
    "    coef_matrix.columns = ['variable', 'coefficient']\n",
    "    coef_matrix = coef_matrix.append({'variable': 'Intercept', 'coefficient': np.asscalar(model.intercept_)}, ignore_index=True)\n",
    "    return(coef_matrix)\n",
    "\n",
    "def cv_summary(lambdas, C_values, model):\n",
    "    d = {'lambdas': lambdas, 'C_values': C_values, 'mean_cv_score': model.scores_[1].mean(axis = 0)}\n",
    "    return(pd.DataFrame(data=d))\n",
    "\n",
    "def create_roc_plot(y_true, y_pred):\n",
    "    fpr, tpr, thresholds = roc_curve(y_true, y_pred)\n",
    "    all_coords = pd.DataFrame({\n",
    "        'fpr': fpr,\n",
    "        'tpr': tpr,\n",
    "        'thresholds': thresholds\n",
    "    })\n",
    "    \n",
    "    plot = ggplot(all_coords, aes(x = 'fpr', y = 'tpr')) \\\n",
    "        + geom_line(color=color[0], size = 0.7) \\\n",
    "        + geom_area(position = 'identity', fill = 'mediumaquamarine', alpha = 0.3) \\\n",
    "        + xlab(\"False Positive Rate (1-Specifity)\") \\\n",
    "        + ylab(\"True Positive Rate (Sensitivity)\") \\\n",
    "        + geom_abline(intercept = 0, slope = 1,  linetype = \"dotted\", color = \"black\") \\\n",
    "        + scale_y_continuous(limits = (0, 1), breaks = seq(0, 1, .1), expand = (0, 0.01)) \\\n",
    "        + scale_x_continuous(limits = (0, 1), breaks = seq(0, 1, .1), expand = (0.01, 0)) \\\n",
    "        + theme_bw()\n",
    "    return(plot)\n",
    "\n",
    "def sigmoid_array(x):\n",
    "    return(1 / (1 + np.exp(-x)))\n",
    "\n",
    "def generate_fold_prediction(model, X, fold, param_index):\n",
    "    fold_coef = model.coefs_paths_[1][fold,param_index,:]\n",
    "    return(sigmoid_array(np.dot(X, np.transpose(fold_coef)[:-1]) +  np.transpose(fold_coef)[-1]))"
   ]
  },
  {
   "cell_type": "markdown",
   "metadata": {},
   "source": [
    "## Define variable sets "
   ]
  },
  {
   "cell_type": "code",
   "execution_count": 7,
   "metadata": {},
   "outputs": [],
   "source": [
    "rawvars = [\"curr_assets\", \"curr_liab\", \"extra_exp\", \"extra_inc\", \"extra_profit_loss\", \"fixed_assets\",\n",
    "              \"inc_bef_tax\", \"intang_assets\", \"inventories\", \"liq_assets\", \"material_exp\", \"personnel_exp\",\n",
    "              \"profit_loss_year\", \"sales\", \"share_eq\", \"subscribed_cap\"]\n",
    "qualityvars = [\"balsheet_flag\", \"balsheet_length\", \"balsheet_notfullyear\"]\n",
    "engvar = [\"total_assets_bs\", \"fixed_assets_bs\", \"liq_assets_bs\", \"curr_assets_bs\",\n",
    "            \"share_eq_bs\", \"subscribed_cap_bs\", \"intang_assets_bs\", \"extra_exp_pl\",\n",
    "            \"extra_inc_pl\", \"extra_profit_loss_pl\", \"inc_bef_tax_pl\", \"inventories_pl\",\n",
    "            \"material_exp_pl\", \"profit_loss_year_pl\", \"personnel_exp_pl\"]\n",
    "engvar2 = [\"extra_profit_loss_pl_quad\", \"inc_bef_tax_pl_quad\",\n",
    "             \"profit_loss_year_pl_quad\", \"share_eq_bs_quad\"]\n",
    "engvar3=[]\n",
    "for col in data.columns:\n",
    "    if col.endswith('flag_low') or col.endswith('flag_high') or col.endswith('flag_error') or col.endswith('flag_zero'):\n",
    "        engvar3.append(col)\n",
    "\n",
    "\n",
    "d1 =  [\"d1_sales_mil_log_mod\", \"d1_sales_mil_log_mod_sq\",\n",
    "         \"flag_low_d1_sales_mil_log\", \"flag_high_d1_sales_mil_log\"]\n",
    "hr = [\"female\", \"ceo_age\", \"flag_high_ceo_age\", \"flag_low_ceo_age\",\n",
    "        \"flag_miss_ceo_age\", \"ceo_count\", \"labor_avg_mod\",\n",
    "        \"flag_miss_labor_avg\", \"foreign_management\"]"
   ]
  },
  {
   "cell_type": "code",
   "execution_count": 8,
   "metadata": {},
   "outputs": [],
   "source": [
    "#Creat dummy columns from category variables and drop first level\n",
    "ind2_catmat = patsy.dmatrix(\"0 + C(ind2_cat)\",data, return_type=\"dataframe\")\n",
    "ind2_catmat = ind2_catmat.drop(['C(ind2_cat)[26.0]'], axis=1)\n",
    "\n",
    "m_region_locmat = patsy.dmatrix(\"0 + C(m_region_loc)\",data, return_type=\"dataframe\")\n",
    "m_region_locmat = m_region_locmat.drop(['C(m_region_loc)[Central]'], axis=1)\n",
    "\n",
    "urban_mmat = patsy.dmatrix(\"0 + C(urban_m)\",data, return_type=\"dataframe\")\n",
    "urban_mmat = urban_mmat.drop(['C(urban_m)[1.0]'], axis=1)"
   ]
  },
  {
   "cell_type": "code",
   "execution_count": 9,
   "metadata": {},
   "outputs": [],
   "source": [
    "# Define X1\n",
    "basevars = data[[\"sales_mil_log\", \"sales_mil_log_sq\", \"d1_sales_mil_log_mod\", \"profit_loss_year_pl\"]]\n",
    "X1 = pd.concat([basevars, ind2_catmat], axis=1)\n",
    "# Define X2\n",
    "X2additional_vars = data[[\"fixed_assets_bs\", \"share_eq_bs\",\"curr_liab_bs\", \"curr_liab_bs_flag_high\", \\\n",
    "                          \"curr_liab_bs_flag_error\",  \"age\", \"foreign_management\"]]\n",
    "X2 = pd.concat([X1, X2additional_vars], axis=1)\n",
    "# Define X3\n",
    "firm = pd.concat([data[[\"age\", \"age2\", \"new\"]], ind2_catmat, m_region_locmat, urban_mmat], axis=1)\n",
    "X3 = pd.concat([data[[\"sales_mil_log\", \"sales_mil_log_sq\"] + engvar + d1], firm], axis=1)\n",
    "# Define X4\n",
    "X4 = pd.concat([data[[\"sales_mil_log\", \"sales_mil_log_sq\"] + engvar + d1 \\\n",
    "                                 + engvar2 + engvar3 + hr + qualityvars], firm], axis=1)"
   ]
  },
  {
   "cell_type": "code",
   "execution_count": 10,
   "metadata": {
    "scrolled": true
   },
   "outputs": [],
   "source": [
    "# Define X5\n",
    "#Creat matrix for interactions1 variables\n",
    "int1mat = patsy.dmatrix(\"0 + C(ind2_cat):age + C(ind2_cat):age2 + C(ind2_cat):d1_sales_mil_log_mod \\\n",
    "                + C(ind2_cat):sales_mil_log + C(ind2_cat):ceo_age + C(ind2_cat):foreign_management \\\n",
    "                + C(ind2_cat):female + C(ind2_cat):C(urban_m) + C(ind2_cat):labor_avg_mod\", data, return_type=\"dataframe\")\n",
    "#Drop first level to get k-1 dummies out of k categorical levels \n",
    "for col in int1mat.columns:\n",
    "    if col.startswith('C(ind2_cat)[26.0]') or col.endswith('C(urban_m)[1.0]'):\n",
    "        int1mat = int1mat.drop([col], axis=1)\n",
    "        \n",
    "#Creat matrix for interactions2 variables        \n",
    "int2mat = patsy.dmatrix(\"0 + sales_mil_log:age + sales_mil_log:female + sales_mil_log:profit_loss_year_pl \\\n",
    "                + sales_mil_log:foreign_management\", data, return_type=\"dataframe\")\n",
    "X5 = pd.concat([X4, int1mat, int2mat], axis=1)"
   ]
  },
  {
   "cell_type": "code",
   "execution_count": 11,
   "metadata": {},
   "outputs": [],
   "source": [
    "# Define logitvars for LASSO\n",
    "logitvars = pd.concat([X4, int1mat, int2mat], axis=1)"
   ]
  },
  {
   "cell_type": "code",
   "execution_count": 12,
   "metadata": {},
   "outputs": [],
   "source": [
    "# Define rfvars for RF (no interactions, no modified features)\n",
    "rfvars  = pd.concat([data[[\"sales_mil\", \"d1_sales_mil_log\"] + rawvars + hr + qualityvars], firm], axis=1)"
   ]
  },
  {
   "cell_type": "code",
   "execution_count": 13,
   "metadata": {},
   "outputs": [],
   "source": [
    "y = data['default']"
   ]
  },
  {
   "cell_type": "markdown",
   "metadata": {},
   "source": [
    "## Check simple linear and logictic models"
   ]
  },
  {
   "cell_type": "code",
   "execution_count": 14,
   "metadata": {},
   "outputs": [],
   "source": [
    "# Check simplest model X1\n",
    "ols_modelx1 = LinearRegression().fit(X1, y)"
   ]
  },
  {
   "cell_type": "code",
   "execution_count": 15,
   "metadata": {},
   "outputs": [
    {
     "name": "stdout",
     "output_type": "stream",
     "text": [
      "explained_variance:  0.1204\n",
      "r2:  0.1204\n",
      "MAE:  0.2852\n",
      "MSE:  0.1419\n",
      "RMSE:  0.3766\n"
     ]
    }
   ],
   "source": [
    "regression_results(y, ols_modelx1.predict(X1))"
   ]
  },
  {
   "cell_type": "code",
   "execution_count": 16,
   "metadata": {},
   "outputs": [
    {
     "data": {
      "text/html": [
       "<div>\n",
       "<style scoped>\n",
       "    .dataframe tbody tr th:only-of-type {\n",
       "        vertical-align: middle;\n",
       "    }\n",
       "\n",
       "    .dataframe tbody tr th {\n",
       "        vertical-align: top;\n",
       "    }\n",
       "\n",
       "    .dataframe thead th {\n",
       "        text-align: right;\n",
       "    }\n",
       "</style>\n",
       "<table border=\"1\" class=\"dataframe\">\n",
       "  <thead>\n",
       "    <tr style=\"text-align: right;\">\n",
       "      <th></th>\n",
       "      <th>variable</th>\n",
       "      <th>coefficient</th>\n",
       "    </tr>\n",
       "  </thead>\n",
       "  <tbody>\n",
       "    <tr>\n",
       "      <th>0</th>\n",
       "      <td>sales_mil_log</td>\n",
       "      <td>-0.007481</td>\n",
       "    </tr>\n",
       "    <tr>\n",
       "      <th>1</th>\n",
       "      <td>sales_mil_log_sq</td>\n",
       "      <td>0.005824</td>\n",
       "    </tr>\n",
       "    <tr>\n",
       "      <th>2</th>\n",
       "      <td>d1_sales_mil_log_mod</td>\n",
       "      <td>-0.056779</td>\n",
       "    </tr>\n",
       "    <tr>\n",
       "      <th>3</th>\n",
       "      <td>profit_loss_year_pl</td>\n",
       "      <td>-0.169230</td>\n",
       "    </tr>\n",
       "    <tr>\n",
       "      <th>4</th>\n",
       "      <td>C(ind2_cat)[27.0]</td>\n",
       "      <td>0.019950</td>\n",
       "    </tr>\n",
       "    <tr>\n",
       "      <th>5</th>\n",
       "      <td>C(ind2_cat)[28.0]</td>\n",
       "      <td>0.012457</td>\n",
       "    </tr>\n",
       "    <tr>\n",
       "      <th>6</th>\n",
       "      <td>C(ind2_cat)[29.0]</td>\n",
       "      <td>0.049450</td>\n",
       "    </tr>\n",
       "    <tr>\n",
       "      <th>7</th>\n",
       "      <td>C(ind2_cat)[30.0]</td>\n",
       "      <td>0.001055</td>\n",
       "    </tr>\n",
       "    <tr>\n",
       "      <th>8</th>\n",
       "      <td>C(ind2_cat)[33.0]</td>\n",
       "      <td>0.001636</td>\n",
       "    </tr>\n",
       "    <tr>\n",
       "      <th>9</th>\n",
       "      <td>C(ind2_cat)[55.0]</td>\n",
       "      <td>-0.004769</td>\n",
       "    </tr>\n",
       "    <tr>\n",
       "      <th>10</th>\n",
       "      <td>C(ind2_cat)[56.0]</td>\n",
       "      <td>0.105632</td>\n",
       "    </tr>\n",
       "    <tr>\n",
       "      <th>11</th>\n",
       "      <td>Intercept</td>\n",
       "      <td>0.018155</td>\n",
       "    </tr>\n",
       "  </tbody>\n",
       "</table>\n",
       "</div>"
      ],
      "text/plain": [
       "                variable  coefficient\n",
       "0          sales_mil_log    -0.007481\n",
       "1       sales_mil_log_sq     0.005824\n",
       "2   d1_sales_mil_log_mod    -0.056779\n",
       "3    profit_loss_year_pl    -0.169230\n",
       "4      C(ind2_cat)[27.0]     0.019950\n",
       "5      C(ind2_cat)[28.0]     0.012457\n",
       "6      C(ind2_cat)[29.0]     0.049450\n",
       "7      C(ind2_cat)[30.0]     0.001055\n",
       "8      C(ind2_cat)[33.0]     0.001636\n",
       "9      C(ind2_cat)[55.0]    -0.004769\n",
       "10     C(ind2_cat)[56.0]     0.105632\n",
       "11             Intercept     0.018155"
      ]
     },
     "execution_count": 16,
     "metadata": {},
     "output_type": "execute_result"
    }
   ],
   "source": [
    "coef_matrix(X1, ols_modelx1)"
   ]
  },
  {
   "cell_type": "code",
   "execution_count": 17,
   "metadata": {},
   "outputs": [
    {
     "name": "stdout",
     "output_type": "stream",
     "text": [
      "explained_variance:  -0.0601\n",
      "r2:  -0.1993\n",
      "MAE:  0.1934\n",
      "MSE:  0.1934\n",
      "RMSE:  0.4398\n"
     ]
    }
   ],
   "source": [
    "glm_modelx1 = LogisticRegression(solver=\"newton-cg\",max_iter=1000, penalty=\"none\").fit(X1, y)\n",
    "regression_results(y, glm_modelx1.predict(X1))"
   ]
  },
  {
   "cell_type": "code",
   "execution_count": 18,
   "metadata": {},
   "outputs": [
    {
     "data": {
      "text/html": [
       "<div>\n",
       "<style scoped>\n",
       "    .dataframe tbody tr th:only-of-type {\n",
       "        vertical-align: middle;\n",
       "    }\n",
       "\n",
       "    .dataframe tbody tr th {\n",
       "        vertical-align: top;\n",
       "    }\n",
       "\n",
       "    .dataframe thead th {\n",
       "        text-align: right;\n",
       "    }\n",
       "</style>\n",
       "<table border=\"1\" class=\"dataframe\">\n",
       "  <thead>\n",
       "    <tr style=\"text-align: right;\">\n",
       "      <th></th>\n",
       "      <th>variable</th>\n",
       "      <th>coefficient</th>\n",
       "    </tr>\n",
       "  </thead>\n",
       "  <tbody>\n",
       "    <tr>\n",
       "      <th>0</th>\n",
       "      <td>sales_mil_log</td>\n",
       "      <td>-0.323186</td>\n",
       "    </tr>\n",
       "    <tr>\n",
       "      <th>1</th>\n",
       "      <td>sales_mil_log_sq</td>\n",
       "      <td>-0.001676</td>\n",
       "    </tr>\n",
       "    <tr>\n",
       "      <th>2</th>\n",
       "      <td>d1_sales_mil_log_mod</td>\n",
       "      <td>-0.366168</td>\n",
       "    </tr>\n",
       "    <tr>\n",
       "      <th>3</th>\n",
       "      <td>profit_loss_year_pl</td>\n",
       "      <td>-0.858115</td>\n",
       "    </tr>\n",
       "    <tr>\n",
       "      <th>4</th>\n",
       "      <td>C(ind2_cat)[27.0]</td>\n",
       "      <td>0.168237</td>\n",
       "    </tr>\n",
       "    <tr>\n",
       "      <th>5</th>\n",
       "      <td>C(ind2_cat)[28.0]</td>\n",
       "      <td>0.066165</td>\n",
       "    </tr>\n",
       "    <tr>\n",
       "      <th>6</th>\n",
       "      <td>C(ind2_cat)[29.0]</td>\n",
       "      <td>0.515960</td>\n",
       "    </tr>\n",
       "    <tr>\n",
       "      <th>7</th>\n",
       "      <td>C(ind2_cat)[30.0]</td>\n",
       "      <td>0.017363</td>\n",
       "    </tr>\n",
       "    <tr>\n",
       "      <th>8</th>\n",
       "      <td>C(ind2_cat)[33.0]</td>\n",
       "      <td>-0.002646</td>\n",
       "    </tr>\n",
       "    <tr>\n",
       "      <th>9</th>\n",
       "      <td>C(ind2_cat)[55.0]</td>\n",
       "      <td>0.039307</td>\n",
       "    </tr>\n",
       "    <tr>\n",
       "      <th>10</th>\n",
       "      <td>C(ind2_cat)[56.0]</td>\n",
       "      <td>0.843962</td>\n",
       "    </tr>\n",
       "    <tr>\n",
       "      <th>11</th>\n",
       "      <td>Intercept</td>\n",
       "      <td>-3.230273</td>\n",
       "    </tr>\n",
       "  </tbody>\n",
       "</table>\n",
       "</div>"
      ],
      "text/plain": [
       "                variable  coefficient\n",
       "0          sales_mil_log    -0.323186\n",
       "1       sales_mil_log_sq    -0.001676\n",
       "2   d1_sales_mil_log_mod    -0.366168\n",
       "3    profit_loss_year_pl    -0.858115\n",
       "4      C(ind2_cat)[27.0]     0.168237\n",
       "5      C(ind2_cat)[28.0]     0.066165\n",
       "6      C(ind2_cat)[29.0]     0.515960\n",
       "7      C(ind2_cat)[30.0]     0.017363\n",
       "8      C(ind2_cat)[33.0]    -0.002646\n",
       "9      C(ind2_cat)[55.0]     0.039307\n",
       "10     C(ind2_cat)[56.0]     0.843962\n",
       "11             Intercept    -3.230273"
      ]
     },
     "execution_count": 18,
     "metadata": {},
     "output_type": "execute_result"
    }
   ],
   "source": [
    "coef_matrix(X1, glm_modelx1)"
   ]
  },
  {
   "cell_type": "code",
   "execution_count": 19,
   "metadata": {},
   "outputs": [
    {
     "name": "stdout",
     "output_type": "stream",
     "text": [
      "explained_variance:  -0.0527\n",
      "r2:  -0.1592\n",
      "MAE:  0.187\n",
      "MSE:  0.187\n",
      "RMSE:  0.4324\n"
     ]
    }
   ],
   "source": [
    "# Check model X2\n",
    "glm_modelx2 = LogisticRegression(solver=\"newton-cg\", max_iter=1000, penalty=\"none\").fit(X2, y)\n",
    "regression_results(y, glm_modelx2.predict(X2))"
   ]
  },
  {
   "cell_type": "code",
   "execution_count": 20,
   "metadata": {
    "scrolled": true
   },
   "outputs": [
    {
     "data": {
      "text/html": [
       "<div>\n",
       "<style scoped>\n",
       "    .dataframe tbody tr th:only-of-type {\n",
       "        vertical-align: middle;\n",
       "    }\n",
       "\n",
       "    .dataframe tbody tr th {\n",
       "        vertical-align: top;\n",
       "    }\n",
       "\n",
       "    .dataframe thead th {\n",
       "        text-align: right;\n",
       "    }\n",
       "</style>\n",
       "<table border=\"1\" class=\"dataframe\">\n",
       "  <thead>\n",
       "    <tr style=\"text-align: right;\">\n",
       "      <th></th>\n",
       "      <th>variable</th>\n",
       "      <th>coefficient</th>\n",
       "    </tr>\n",
       "  </thead>\n",
       "  <tbody>\n",
       "    <tr>\n",
       "      <th>0</th>\n",
       "      <td>sales_mil_log</td>\n",
       "      <td>-0.180309</td>\n",
       "    </tr>\n",
       "    <tr>\n",
       "      <th>1</th>\n",
       "      <td>sales_mil_log_sq</td>\n",
       "      <td>0.015300</td>\n",
       "    </tr>\n",
       "    <tr>\n",
       "      <th>2</th>\n",
       "      <td>d1_sales_mil_log_mod</td>\n",
       "      <td>-0.482108</td>\n",
       "    </tr>\n",
       "    <tr>\n",
       "      <th>3</th>\n",
       "      <td>profit_loss_year_pl</td>\n",
       "      <td>-0.450082</td>\n",
       "    </tr>\n",
       "    <tr>\n",
       "      <th>4</th>\n",
       "      <td>C(ind2_cat)[27.0]</td>\n",
       "      <td>0.145493</td>\n",
       "    </tr>\n",
       "    <tr>\n",
       "      <th>5</th>\n",
       "      <td>C(ind2_cat)[28.0]</td>\n",
       "      <td>0.032691</td>\n",
       "    </tr>\n",
       "    <tr>\n",
       "      <th>6</th>\n",
       "      <td>C(ind2_cat)[29.0]</td>\n",
       "      <td>0.406298</td>\n",
       "    </tr>\n",
       "    <tr>\n",
       "      <th>7</th>\n",
       "      <td>C(ind2_cat)[30.0]</td>\n",
       "      <td>-0.033016</td>\n",
       "    </tr>\n",
       "    <tr>\n",
       "      <th>8</th>\n",
       "      <td>C(ind2_cat)[33.0]</td>\n",
       "      <td>-0.157820</td>\n",
       "    </tr>\n",
       "    <tr>\n",
       "      <th>9</th>\n",
       "      <td>C(ind2_cat)[55.0]</td>\n",
       "      <td>0.128747</td>\n",
       "    </tr>\n",
       "    <tr>\n",
       "      <th>10</th>\n",
       "      <td>C(ind2_cat)[56.0]</td>\n",
       "      <td>0.463619</td>\n",
       "    </tr>\n",
       "    <tr>\n",
       "      <th>11</th>\n",
       "      <td>fixed_assets_bs</td>\n",
       "      <td>-0.811012</td>\n",
       "    </tr>\n",
       "    <tr>\n",
       "      <th>12</th>\n",
       "      <td>share_eq_bs</td>\n",
       "      <td>-0.388092</td>\n",
       "    </tr>\n",
       "    <tr>\n",
       "      <th>13</th>\n",
       "      <td>curr_liab_bs</td>\n",
       "      <td>0.171157</td>\n",
       "    </tr>\n",
       "    <tr>\n",
       "      <th>14</th>\n",
       "      <td>curr_liab_bs_flag_high</td>\n",
       "      <td>0.135359</td>\n",
       "    </tr>\n",
       "    <tr>\n",
       "      <th>15</th>\n",
       "      <td>curr_liab_bs_flag_error</td>\n",
       "      <td>0.318085</td>\n",
       "    </tr>\n",
       "    <tr>\n",
       "      <th>16</th>\n",
       "      <td>age</td>\n",
       "      <td>-0.035304</td>\n",
       "    </tr>\n",
       "    <tr>\n",
       "      <th>17</th>\n",
       "      <td>foreign_management</td>\n",
       "      <td>0.215923</td>\n",
       "    </tr>\n",
       "    <tr>\n",
       "      <th>18</th>\n",
       "      <td>Intercept</td>\n",
       "      <td>-2.350569</td>\n",
       "    </tr>\n",
       "  </tbody>\n",
       "</table>\n",
       "</div>"
      ],
      "text/plain": [
       "                   variable  coefficient\n",
       "0             sales_mil_log    -0.180309\n",
       "1          sales_mil_log_sq     0.015300\n",
       "2      d1_sales_mil_log_mod    -0.482108\n",
       "3       profit_loss_year_pl    -0.450082\n",
       "4         C(ind2_cat)[27.0]     0.145493\n",
       "5         C(ind2_cat)[28.0]     0.032691\n",
       "6         C(ind2_cat)[29.0]     0.406298\n",
       "7         C(ind2_cat)[30.0]    -0.033016\n",
       "8         C(ind2_cat)[33.0]    -0.157820\n",
       "9         C(ind2_cat)[55.0]     0.128747\n",
       "10        C(ind2_cat)[56.0]     0.463619\n",
       "11          fixed_assets_bs    -0.811012\n",
       "12              share_eq_bs    -0.388092\n",
       "13             curr_liab_bs     0.171157\n",
       "14   curr_liab_bs_flag_high     0.135359\n",
       "15  curr_liab_bs_flag_error     0.318085\n",
       "16                      age    -0.035304\n",
       "17       foreign_management     0.215923\n",
       "18                Intercept    -2.350569"
      ]
     },
     "execution_count": 20,
     "metadata": {},
     "output_type": "execute_result"
    }
   ],
   "source": [
    "coef_matrix(X2, glm_modelx2)"
   ]
  },
  {
   "cell_type": "code",
   "execution_count": 21,
   "metadata": {
    "scrolled": true
   },
   "outputs": [
    {
     "name": "stdout",
     "output_type": "stream",
     "text": [
      "Optimization terminated successfully.\n",
      "         Current function value: 0.423258\n",
      "         Iterations 7\n"
     ]
    },
    {
     "data": {
      "text/html": [
       "<table class=\"simpletable\">\n",
       "<caption>Logit Marginal Effects</caption>\n",
       "<tr>\n",
       "  <th>Dep. Variable:</th> <td>default</td>\n",
       "</tr>\n",
       "<tr>\n",
       "  <th>Method:</th>         <td>dydx</td>  \n",
       "</tr>\n",
       "<tr>\n",
       "  <th>At:</th>            <td>overall</td>\n",
       "</tr>\n",
       "</table>\n",
       "<table class=\"simpletable\">\n",
       "<tr>\n",
       "             <th></th>                <th>dy/dx</th>    <th>std err</th>      <th>z</th>      <th>P>|z|</th>  <th>[0.025</th>    <th>0.975]</th>  \n",
       "</tr>\n",
       "<tr>\n",
       "  <th>sales_mil_log</th>           <td>   -0.0242</td> <td>    0.006</td> <td>   -4.015</td> <td> 0.000</td> <td>   -0.036</td> <td>   -0.012</td>\n",
       "</tr>\n",
       "<tr>\n",
       "  <th>sales_mil_log_sq</th>        <td>    0.0021</td> <td>    0.001</td> <td>    2.464</td> <td> 0.014</td> <td>    0.000</td> <td>    0.004</td>\n",
       "</tr>\n",
       "<tr>\n",
       "  <th>d1_sales_mil_log_mod</th>    <td>   -0.0646</td> <td>    0.005</td> <td>  -12.868</td> <td> 0.000</td> <td>   -0.074</td> <td>   -0.055</td>\n",
       "</tr>\n",
       "<tr>\n",
       "  <th>profit_loss_year_pl</th>     <td>   -0.0603</td> <td>    0.008</td> <td>   -7.740</td> <td> 0.000</td> <td>   -0.076</td> <td>   -0.045</td>\n",
       "</tr>\n",
       "<tr>\n",
       "  <th>C(ind2_cat)[27.0]</th>       <td>    0.0195</td> <td>    0.024</td> <td>    0.829</td> <td> 0.407</td> <td>   -0.027</td> <td>    0.066</td>\n",
       "</tr>\n",
       "<tr>\n",
       "  <th>C(ind2_cat)[28.0]</th>       <td>    0.0044</td> <td>    0.018</td> <td>    0.238</td> <td> 0.812</td> <td>   -0.032</td> <td>    0.040</td>\n",
       "</tr>\n",
       "<tr>\n",
       "  <th>C(ind2_cat)[29.0]</th>       <td>    0.0545</td> <td>    0.030</td> <td>    1.816</td> <td> 0.069</td> <td>   -0.004</td> <td>    0.113</td>\n",
       "</tr>\n",
       "<tr>\n",
       "  <th>C(ind2_cat)[30.0]</th>       <td>   -0.0044</td> <td>    0.039</td> <td>   -0.113</td> <td> 0.910</td> <td>   -0.082</td> <td>    0.073</td>\n",
       "</tr>\n",
       "<tr>\n",
       "  <th>C(ind2_cat)[33.0]</th>       <td>   -0.0212</td> <td>    0.018</td> <td>   -1.161</td> <td> 0.245</td> <td>   -0.057</td> <td>    0.015</td>\n",
       "</tr>\n",
       "<tr>\n",
       "  <th>C(ind2_cat)[55.0]</th>       <td>    0.0173</td> <td>    0.018</td> <td>    0.985</td> <td> 0.324</td> <td>   -0.017</td> <td>    0.052</td>\n",
       "</tr>\n",
       "<tr>\n",
       "  <th>C(ind2_cat)[56.0]</th>       <td>    0.0622</td> <td>    0.015</td> <td>    4.068</td> <td> 0.000</td> <td>    0.032</td> <td>    0.092</td>\n",
       "</tr>\n",
       "<tr>\n",
       "  <th>fixed_assets_bs</th>         <td>   -0.1087</td> <td>    0.008</td> <td>  -12.793</td> <td> 0.000</td> <td>   -0.125</td> <td>   -0.092</td>\n",
       "</tr>\n",
       "<tr>\n",
       "  <th>share_eq_bs</th>             <td>   -0.0520</td> <td>    0.006</td> <td>   -8.414</td> <td> 0.000</td> <td>   -0.064</td> <td>   -0.040</td>\n",
       "</tr>\n",
       "<tr>\n",
       "  <th>curr_liab_bs</th>            <td>    0.0229</td> <td>    0.012</td> <td>    1.865</td> <td> 0.062</td> <td>   -0.001</td> <td>    0.047</td>\n",
       "</tr>\n",
       "<tr>\n",
       "  <th>curr_liab_bs_flag_high</th>  <td>    0.0181</td> <td>    0.010</td> <td>    1.812</td> <td> 0.070</td> <td>   -0.001</td> <td>    0.038</td>\n",
       "</tr>\n",
       "<tr>\n",
       "  <th>curr_liab_bs_flag_error</th> <td>    0.0426</td> <td>    0.115</td> <td>    0.370</td> <td> 0.711</td> <td>   -0.183</td> <td>    0.269</td>\n",
       "</tr>\n",
       "<tr>\n",
       "  <th>age</th>                     <td>   -0.0047</td> <td>    0.000</td> <td>  -10.545</td> <td> 0.000</td> <td>   -0.006</td> <td>   -0.004</td>\n",
       "</tr>\n",
       "<tr>\n",
       "  <th>foreign_management</th>      <td>    0.0290</td> <td>    0.009</td> <td>    3.182</td> <td> 0.001</td> <td>    0.011</td> <td>    0.047</td>\n",
       "</tr>\n",
       "</table>"
      ],
      "text/plain": [
       "<class 'statsmodels.iolib.summary.Summary'>\n",
       "\"\"\"\n",
       "        Logit Marginal Effects       \n",
       "=====================================\n",
       "Dep. Variable:                default\n",
       "Method:                          dydx\n",
       "At:                           overall\n",
       "===========================================================================================\n",
       "                             dy/dx    std err          z      P>|z|      [0.025      0.975]\n",
       "-------------------------------------------------------------------------------------------\n",
       "sales_mil_log              -0.0242      0.006     -4.015      0.000      -0.036      -0.012\n",
       "sales_mil_log_sq            0.0021      0.001      2.464      0.014       0.000       0.004\n",
       "d1_sales_mil_log_mod       -0.0646      0.005    -12.868      0.000      -0.074      -0.055\n",
       "profit_loss_year_pl        -0.0603      0.008     -7.740      0.000      -0.076      -0.045\n",
       "C(ind2_cat)[27.0]           0.0195      0.024      0.829      0.407      -0.027       0.066\n",
       "C(ind2_cat)[28.0]           0.0044      0.018      0.238      0.812      -0.032       0.040\n",
       "C(ind2_cat)[29.0]           0.0545      0.030      1.816      0.069      -0.004       0.113\n",
       "C(ind2_cat)[30.0]          -0.0044      0.039     -0.113      0.910      -0.082       0.073\n",
       "C(ind2_cat)[33.0]          -0.0212      0.018     -1.161      0.245      -0.057       0.015\n",
       "C(ind2_cat)[55.0]           0.0173      0.018      0.985      0.324      -0.017       0.052\n",
       "C(ind2_cat)[56.0]           0.0622      0.015      4.068      0.000       0.032       0.092\n",
       "fixed_assets_bs            -0.1087      0.008    -12.793      0.000      -0.125      -0.092\n",
       "share_eq_bs                -0.0520      0.006     -8.414      0.000      -0.064      -0.040\n",
       "curr_liab_bs                0.0229      0.012      1.865      0.062      -0.001       0.047\n",
       "curr_liab_bs_flag_high      0.0181      0.010      1.812      0.070      -0.001       0.038\n",
       "curr_liab_bs_flag_error     0.0426      0.115      0.370      0.711      -0.183       0.269\n",
       "age                        -0.0047      0.000    -10.545      0.000      -0.006      -0.004\n",
       "foreign_management          0.0290      0.009      3.182      0.001       0.011       0.047\n",
       "===========================================================================================\n",
       "\"\"\""
      ]
     },
     "execution_count": 21,
     "metadata": {},
     "output_type": "execute_result"
    }
   ],
   "source": [
    "mx2 = sm.Logit(y,sm.add_constant(X2)).fit().get_margeff()\n",
    "mx2.summary()"
   ]
  },
  {
   "cell_type": "code",
   "execution_count": 22,
   "metadata": {},
   "outputs": [
    {
     "name": "stdout",
     "output_type": "stream",
     "text": [
      "explained_variance:  0.1924\n",
      "r2:  0.1924\n",
      "MAE:  0.2646\n",
      "MSE:  0.1303\n",
      "RMSE:  0.3609\n"
     ]
    }
   ],
   "source": [
    "# baseline model is X4 (all vars, but no interactions) -------------------------------------------------------\n",
    "ols_model = LinearRegression().fit(X4, y)\n",
    "regression_results(y, ols_model.predict(X4))"
   ]
  },
  {
   "cell_type": "code",
   "execution_count": 23,
   "metadata": {},
   "outputs": [
    {
     "data": {
      "text/html": [
       "<div>\n",
       "<style scoped>\n",
       "    .dataframe tbody tr th:only-of-type {\n",
       "        vertical-align: middle;\n",
       "    }\n",
       "\n",
       "    .dataframe tbody tr th {\n",
       "        vertical-align: top;\n",
       "    }\n",
       "\n",
       "    .dataframe thead th {\n",
       "        text-align: right;\n",
       "    }\n",
       "</style>\n",
       "<table border=\"1\" class=\"dataframe\">\n",
       "  <thead>\n",
       "    <tr style=\"text-align: right;\">\n",
       "      <th></th>\n",
       "      <th>variable</th>\n",
       "      <th>coefficient</th>\n",
       "    </tr>\n",
       "  </thead>\n",
       "  <tbody>\n",
       "    <tr>\n",
       "      <th>0</th>\n",
       "      <td>sales_mil_log</td>\n",
       "      <td>3.937242e-03</td>\n",
       "    </tr>\n",
       "    <tr>\n",
       "      <th>1</th>\n",
       "      <td>sales_mil_log_sq</td>\n",
       "      <td>3.264151e-03</td>\n",
       "    </tr>\n",
       "    <tr>\n",
       "      <th>2</th>\n",
       "      <td>total_assets_bs</td>\n",
       "      <td>5.475821e-10</td>\n",
       "    </tr>\n",
       "    <tr>\n",
       "      <th>3</th>\n",
       "      <td>fixed_assets_bs</td>\n",
       "      <td>-1.360564e-01</td>\n",
       "    </tr>\n",
       "    <tr>\n",
       "      <th>4</th>\n",
       "      <td>liq_assets_bs</td>\n",
       "      <td>-1.602016e-02</td>\n",
       "    </tr>\n",
       "    <tr>\n",
       "      <th>...</th>\n",
       "      <td>...</td>\n",
       "      <td>...</td>\n",
       "    </tr>\n",
       "    <tr>\n",
       "      <th>75</th>\n",
       "      <td>C(m_region_loc)[East]</td>\n",
       "      <td>1.015797e-02</td>\n",
       "    </tr>\n",
       "    <tr>\n",
       "      <th>76</th>\n",
       "      <td>C(m_region_loc)[West]</td>\n",
       "      <td>-1.783071e-02</td>\n",
       "    </tr>\n",
       "    <tr>\n",
       "      <th>77</th>\n",
       "      <td>C(urban_m)[2.0]</td>\n",
       "      <td>8.293544e-03</td>\n",
       "    </tr>\n",
       "    <tr>\n",
       "      <th>78</th>\n",
       "      <td>C(urban_m)[3.0]</td>\n",
       "      <td>-9.986761e-04</td>\n",
       "    </tr>\n",
       "    <tr>\n",
       "      <th>79</th>\n",
       "      <td>Intercept</td>\n",
       "      <td>1.839788e-01</td>\n",
       "    </tr>\n",
       "  </tbody>\n",
       "</table>\n",
       "<p>80 rows × 2 columns</p>\n",
       "</div>"
      ],
      "text/plain": [
       "                 variable   coefficient\n",
       "0           sales_mil_log  3.937242e-03\n",
       "1        sales_mil_log_sq  3.264151e-03\n",
       "2         total_assets_bs  5.475821e-10\n",
       "3         fixed_assets_bs -1.360564e-01\n",
       "4           liq_assets_bs -1.602016e-02\n",
       "..                    ...           ...\n",
       "75  C(m_region_loc)[East]  1.015797e-02\n",
       "76  C(m_region_loc)[West] -1.783071e-02\n",
       "77        C(urban_m)[2.0]  8.293544e-03\n",
       "78        C(urban_m)[3.0] -9.986761e-04\n",
       "79              Intercept  1.839788e-01\n",
       "\n",
       "[80 rows x 2 columns]"
      ]
     },
     "execution_count": 23,
     "metadata": {},
     "output_type": "execute_result"
    }
   ],
   "source": [
    "coef_matrix(X4, ols_model)"
   ]
  },
  {
   "cell_type": "code",
   "execution_count": 24,
   "metadata": {
    "scrolled": true
   },
   "outputs": [
    {
     "name": "stdout",
     "output_type": "stream",
     "text": [
      "explained_variance:  -0.038\n",
      "r2:  -0.1205\n",
      "MAE:  0.1807\n",
      "MSE:  0.1807\n",
      "RMSE:  0.4251\n"
     ]
    }
   ],
   "source": [
    "glm_model = LogisticRegression(solver=\"newton-cg\",max_iter=1000, penalty=\"none\").fit(X4, y)\n",
    "regression_results(y, glm_model.predict(X4))"
   ]
  },
  {
   "cell_type": "code",
   "execution_count": 25,
   "metadata": {},
   "outputs": [
    {
     "data": {
      "text/html": [
       "<div>\n",
       "<style scoped>\n",
       "    .dataframe tbody tr th:only-of-type {\n",
       "        vertical-align: middle;\n",
       "    }\n",
       "\n",
       "    .dataframe tbody tr th {\n",
       "        vertical-align: top;\n",
       "    }\n",
       "\n",
       "    .dataframe thead th {\n",
       "        text-align: right;\n",
       "    }\n",
       "</style>\n",
       "<table border=\"1\" class=\"dataframe\">\n",
       "  <thead>\n",
       "    <tr style=\"text-align: right;\">\n",
       "      <th></th>\n",
       "      <th>variable</th>\n",
       "      <th>coefficient</th>\n",
       "    </tr>\n",
       "  </thead>\n",
       "  <tbody>\n",
       "    <tr>\n",
       "      <th>0</th>\n",
       "      <td>sales_mil_log</td>\n",
       "      <td>-2.065175e-01</td>\n",
       "    </tr>\n",
       "    <tr>\n",
       "      <th>1</th>\n",
       "      <td>sales_mil_log_sq</td>\n",
       "      <td>-3.901116e-03</td>\n",
       "    </tr>\n",
       "    <tr>\n",
       "      <th>2</th>\n",
       "      <td>total_assets_bs</td>\n",
       "      <td>7.323551e-09</td>\n",
       "    </tr>\n",
       "    <tr>\n",
       "      <th>3</th>\n",
       "      <td>fixed_assets_bs</td>\n",
       "      <td>-6.004205e-01</td>\n",
       "    </tr>\n",
       "    <tr>\n",
       "      <th>4</th>\n",
       "      <td>liq_assets_bs</td>\n",
       "      <td>-1.117526e-01</td>\n",
       "    </tr>\n",
       "    <tr>\n",
       "      <th>...</th>\n",
       "      <td>...</td>\n",
       "      <td>...</td>\n",
       "    </tr>\n",
       "    <tr>\n",
       "      <th>75</th>\n",
       "      <td>C(m_region_loc)[East]</td>\n",
       "      <td>6.237594e-02</td>\n",
       "    </tr>\n",
       "    <tr>\n",
       "      <th>76</th>\n",
       "      <td>C(m_region_loc)[West]</td>\n",
       "      <td>-1.625737e-01</td>\n",
       "    </tr>\n",
       "    <tr>\n",
       "      <th>77</th>\n",
       "      <td>C(urban_m)[2.0]</td>\n",
       "      <td>1.444892e-02</td>\n",
       "    </tr>\n",
       "    <tr>\n",
       "      <th>78</th>\n",
       "      <td>C(urban_m)[3.0]</td>\n",
       "      <td>-5.058919e-02</td>\n",
       "    </tr>\n",
       "    <tr>\n",
       "      <th>79</th>\n",
       "      <td>Intercept</td>\n",
       "      <td>-2.409632e+00</td>\n",
       "    </tr>\n",
       "  </tbody>\n",
       "</table>\n",
       "<p>80 rows × 2 columns</p>\n",
       "</div>"
      ],
      "text/plain": [
       "                 variable   coefficient\n",
       "0           sales_mil_log -2.065175e-01\n",
       "1        sales_mil_log_sq -3.901116e-03\n",
       "2         total_assets_bs  7.323551e-09\n",
       "3         fixed_assets_bs -6.004205e-01\n",
       "4           liq_assets_bs -1.117526e-01\n",
       "..                    ...           ...\n",
       "75  C(m_region_loc)[East]  6.237594e-02\n",
       "76  C(m_region_loc)[West] -1.625737e-01\n",
       "77        C(urban_m)[2.0]  1.444892e-02\n",
       "78        C(urban_m)[3.0] -5.058919e-02\n",
       "79              Intercept -2.409632e+00\n",
       "\n",
       "[80 rows x 2 columns]"
      ]
     },
     "execution_count": 25,
     "metadata": {},
     "output_type": "execute_result"
    }
   ],
   "source": [
    "coef_matrix(X4, glm_model)"
   ]
  },
  {
   "cell_type": "code",
   "execution_count": 26,
   "metadata": {
    "scrolled": true
   },
   "outputs": [
    {
     "name": "stdout",
     "output_type": "stream",
     "text": [
      "Warning: Maximum number of iterations has been exceeded.\n",
      "         Current function value: 0.409571\n",
      "         Iterations: 35\n"
     ]
    },
    {
     "data": {
      "text/html": [
       "<table class=\"simpletable\">\n",
       "<caption>Logit Marginal Effects</caption>\n",
       "<tr>\n",
       "  <th>Dep. Variable:</th> <td>default</td>\n",
       "</tr>\n",
       "<tr>\n",
       "  <th>Method:</th>         <td>dydx</td>  \n",
       "</tr>\n",
       "<tr>\n",
       "  <th>At:</th>            <td>overall</td>\n",
       "</tr>\n",
       "</table>\n",
       "<table class=\"simpletable\">\n",
       "<tr>\n",
       "                 <th></th>                   <th>dy/dx</th>    <th>std err</th>      <th>z</th>      <th>P>|z|</th>  <th>[0.025</th>    <th>0.975]</th>  \n",
       "</tr>\n",
       "<tr>\n",
       "  <th>sales_mil_log</th>                  <td>   -0.0266</td> <td>    0.008</td> <td>   -3.422</td> <td> 0.001</td> <td>   -0.042</td> <td>   -0.011</td>\n",
       "</tr>\n",
       "<tr>\n",
       "  <th>sales_mil_log_sq</th>               <td>   -0.0005</td> <td>    0.001</td> <td>   -0.496</td> <td> 0.620</td> <td>   -0.002</td> <td>    0.001</td>\n",
       "</tr>\n",
       "<tr>\n",
       "  <th>total_assets_bs</th>                <td> 9.459e-10</td> <td> 3.19e-09</td> <td>    0.297</td> <td> 0.767</td> <td> -5.3e-09</td> <td> 7.19e-09</td>\n",
       "</tr>\n",
       "<tr>\n",
       "  <th>fixed_assets_bs</th>                <td>   -0.0786</td> <td>    0.137</td> <td>   -0.573</td> <td> 0.566</td> <td>   -0.347</td> <td>    0.190</td>\n",
       "</tr>\n",
       "<tr>\n",
       "  <th>liq_assets_bs</th>                  <td>   -0.0144</td> <td>    0.011</td> <td>   -1.324</td> <td> 0.186</td> <td>   -0.036</td> <td>    0.007</td>\n",
       "</tr>\n",
       "<tr>\n",
       "  <th>curr_assets_bs</th>                 <td>    0.0232</td> <td>    0.137</td> <td>    0.169</td> <td> 0.865</td> <td>   -0.246</td> <td>    0.292</td>\n",
       "</tr>\n",
       "<tr>\n",
       "  <th>share_eq_bs</th>                    <td>   -0.0386</td> <td>    0.009</td> <td>   -4.265</td> <td> 0.000</td> <td>   -0.056</td> <td>   -0.021</td>\n",
       "</tr>\n",
       "<tr>\n",
       "  <th>subscribed_cap_bs</th>              <td>    0.0106</td> <td>    0.013</td> <td>    0.844</td> <td> 0.399</td> <td>   -0.014</td> <td>    0.035</td>\n",
       "</tr>\n",
       "<tr>\n",
       "  <th>intang_assets_bs</th>               <td>   -0.0186</td> <td>    0.146</td> <td>   -0.127</td> <td> 0.899</td> <td>   -0.305</td> <td>    0.268</td>\n",
       "</tr>\n",
       "<tr>\n",
       "  <th>extra_exp_pl</th>                   <td>    0.0318</td> <td>    0.180</td> <td>    0.176</td> <td> 0.860</td> <td>   -0.321</td> <td>    0.385</td>\n",
       "</tr>\n",
       "<tr>\n",
       "  <th>extra_inc_pl</th>                   <td>    0.2488</td> <td>    0.248</td> <td>    1.004</td> <td> 0.316</td> <td>   -0.237</td> <td>    0.735</td>\n",
       "</tr>\n",
       "<tr>\n",
       "  <th>extra_profit_loss_pl</th>           <td>   -0.1409</td> <td>    0.193</td> <td>   -0.731</td> <td> 0.465</td> <td>   -0.519</td> <td>    0.237</td>\n",
       "</tr>\n",
       "<tr>\n",
       "  <th>inc_bef_tax_pl</th>                 <td>   -0.0879</td> <td>    0.048</td> <td>   -1.816</td> <td> 0.069</td> <td>   -0.183</td> <td>    0.007</td>\n",
       "</tr>\n",
       "<tr>\n",
       "  <th>inventories_pl</th>                 <td>   -0.0795</td> <td>    0.019</td> <td>   -4.088</td> <td> 0.000</td> <td>   -0.118</td> <td>   -0.041</td>\n",
       "</tr>\n",
       "<tr>\n",
       "  <th>material_exp_pl</th>                <td>   -0.0002</td> <td>    0.017</td> <td>   -0.012</td> <td> 0.991</td> <td>   -0.034</td> <td>    0.033</td>\n",
       "</tr>\n",
       "<tr>\n",
       "  <th>profit_loss_year_pl</th>            <td>    0.0701</td> <td>    0.048</td> <td>    1.463</td> <td> 0.144</td> <td>   -0.024</td> <td>    0.164</td>\n",
       "</tr>\n",
       "<tr>\n",
       "  <th>personnel_exp_pl</th>               <td>   -0.0371</td> <td>    0.016</td> <td>   -2.355</td> <td> 0.019</td> <td>   -0.068</td> <td>   -0.006</td>\n",
       "</tr>\n",
       "<tr>\n",
       "  <th>d1_sales_mil_log_mod</th>           <td>   -0.0553</td> <td>    0.007</td> <td>   -8.091</td> <td> 0.000</td> <td>   -0.069</td> <td>   -0.042</td>\n",
       "</tr>\n",
       "<tr>\n",
       "  <th>d1_sales_mil_log_mod_sq</th>        <td>    0.0606</td> <td>    0.008</td> <td>    7.905</td> <td> 0.000</td> <td>    0.046</td> <td>    0.076</td>\n",
       "</tr>\n",
       "<tr>\n",
       "  <th>flag_low_d1_sales_mil_log</th>      <td>   -0.0644</td> <td>    0.019</td> <td>   -3.432</td> <td> 0.001</td> <td>   -0.101</td> <td>   -0.028</td>\n",
       "</tr>\n",
       "<tr>\n",
       "  <th>flag_high_d1_sales_mil_log</th>     <td>    0.0081</td> <td>    0.027</td> <td>    0.304</td> <td> 0.761</td> <td>   -0.044</td> <td>    0.060</td>\n",
       "</tr>\n",
       "<tr>\n",
       "  <th>extra_profit_loss_pl_quad</th>      <td>   -0.0170</td> <td>    0.146</td> <td>   -0.117</td> <td> 0.907</td> <td>   -0.303</td> <td>    0.269</td>\n",
       "</tr>\n",
       "<tr>\n",
       "  <th>inc_bef_tax_pl_quad</th>            <td>    0.0860</td> <td>    0.059</td> <td>    1.471</td> <td> 0.141</td> <td>   -0.029</td> <td>    0.201</td>\n",
       "</tr>\n",
       "<tr>\n",
       "  <th>profit_loss_year_pl_quad</th>       <td>    0.0255</td> <td>    0.063</td> <td>    0.408</td> <td> 0.684</td> <td>   -0.097</td> <td>    0.148</td>\n",
       "</tr>\n",
       "<tr>\n",
       "  <th>share_eq_bs_quad</th>               <td>    0.0068</td> <td>    0.012</td> <td>    0.563</td> <td> 0.573</td> <td>   -0.017</td> <td>    0.031</td>\n",
       "</tr>\n",
       "<tr>\n",
       "  <th>extra_exp_pl_flag_high</th>         <td>   -0.1282</td> <td>    0.271</td> <td>   -0.473</td> <td> 0.636</td> <td>   -0.659</td> <td>    0.402</td>\n",
       "</tr>\n",
       "<tr>\n",
       "  <th>extra_inc_pl_flag_high</th>         <td>   -0.0072</td> <td>    0.302</td> <td>   -0.024</td> <td> 0.981</td> <td>   -0.598</td> <td>    0.584</td>\n",
       "</tr>\n",
       "<tr>\n",
       "  <th>inventories_pl_flag_high</th>       <td>    0.0616</td> <td>    0.023</td> <td>    2.700</td> <td> 0.007</td> <td>    0.017</td> <td>    0.106</td>\n",
       "</tr>\n",
       "<tr>\n",
       "  <th>material_exp_pl_flag_high</th>      <td>    0.0003</td> <td>    0.009</td> <td>    0.032</td> <td> 0.975</td> <td>   -0.017</td> <td>    0.017</td>\n",
       "</tr>\n",
       "<tr>\n",
       "  <th>personnel_exp_pl_flag_high</th>     <td>    0.0500</td> <td>    0.015</td> <td>    3.280</td> <td> 0.001</td> <td>    0.020</td> <td>    0.080</td>\n",
       "</tr>\n",
       "<tr>\n",
       "  <th>curr_liab_bs_flag_high</th>         <td>    0.0248</td> <td>    0.008</td> <td>    2.963</td> <td> 0.003</td> <td>    0.008</td> <td>    0.041</td>\n",
       "</tr>\n",
       "<tr>\n",
       "  <th>liq_assets_bs_flag_high</th>        <td>   -0.2030</td> <td>    0.180</td> <td>   -1.125</td> <td> 0.260</td> <td>   -0.556</td> <td>    0.150</td>\n",
       "</tr>\n",
       "<tr>\n",
       "  <th>subscribed_cap_bs_flag_high</th>    <td>    0.0157</td> <td>    0.011</td> <td>    1.405</td> <td> 0.160</td> <td>   -0.006</td> <td>    0.037</td>\n",
       "</tr>\n",
       "<tr>\n",
       "  <th>extra_exp_pl_flag_error</th>        <td>   -3.1876</td> <td> 1.39e+05</td> <td> -2.3e-05</td> <td> 1.000</td> <td>-2.72e+05</td> <td> 2.72e+05</td>\n",
       "</tr>\n",
       "<tr>\n",
       "  <th>extra_inc_pl_flag_error</th>        <td>  -20.0015</td> <td> 1.77e+33</td> <td>-1.13e-32</td> <td> 1.000</td> <td>-3.47e+33</td> <td> 3.47e+33</td>\n",
       "</tr>\n",
       "<tr>\n",
       "  <th>inventories_pl_flag_error</th>      <td>    0.3002</td> <td>    0.165</td> <td>    1.823</td> <td> 0.068</td> <td>   -0.022</td> <td>    0.623</td>\n",
       "</tr>\n",
       "<tr>\n",
       "  <th>material_exp_pl_flag_error</th>     <td>   -3.8164</td> <td> 2.92e+05</td> <td>-1.31e-05</td> <td> 1.000</td> <td>-5.72e+05</td> <td> 5.72e+05</td>\n",
       "</tr>\n",
       "<tr>\n",
       "  <th>personnel_exp_pl_flag_error</th>    <td>    0.2599</td> <td>    0.211</td> <td>    1.230</td> <td> 0.219</td> <td>   -0.154</td> <td>    0.674</td>\n",
       "</tr>\n",
       "<tr>\n",
       "  <th>curr_liab_bs_flag_error</th>        <td>    0.0542</td> <td>    0.113</td> <td>    0.481</td> <td> 0.631</td> <td>   -0.167</td> <td>    0.275</td>\n",
       "</tr>\n",
       "<tr>\n",
       "  <th>liq_assets_bs_flag_error</th>       <td>    0.1024</td> <td>    0.060</td> <td>    1.699</td> <td> 0.089</td> <td>   -0.016</td> <td>    0.221</td>\n",
       "</tr>\n",
       "<tr>\n",
       "  <th>subscribed_cap_bs_flag_error</th>   <td>    1.8039</td> <td>  274.298</td> <td>    0.007</td> <td> 0.995</td> <td> -535.810</td> <td>  539.418</td>\n",
       "</tr>\n",
       "<tr>\n",
       "  <th>extra_profit_loss_pl_flag_low</th>  <td>   -2.1603</td> <td>  249.105</td> <td>   -0.009</td> <td> 0.993</td> <td> -490.397</td> <td>  486.076</td>\n",
       "</tr>\n",
       "<tr>\n",
       "  <th>inc_bef_tax_pl_flag_low</th>        <td>   -0.0598</td> <td>    0.115</td> <td>   -0.518</td> <td> 0.604</td> <td>   -0.286</td> <td>    0.166</td>\n",
       "</tr>\n",
       "<tr>\n",
       "  <th>profit_loss_year_pl_flag_low</th>   <td>    0.0067</td> <td>    0.116</td> <td>    0.058</td> <td> 0.954</td> <td>   -0.221</td> <td>    0.234</td>\n",
       "</tr>\n",
       "<tr>\n",
       "  <th>share_eq_bs_flag_low</th>           <td>    0.0231</td> <td>    0.015</td> <td>    1.502</td> <td> 0.133</td> <td>   -0.007</td> <td>    0.053</td>\n",
       "</tr>\n",
       "<tr>\n",
       "  <th>extra_profit_loss_pl_flag_high</th> <td>    0.0019</td> <td>    0.329</td> <td>    0.006</td> <td> 0.995</td> <td>   -0.642</td> <td>    0.646</td>\n",
       "</tr>\n",
       "<tr>\n",
       "  <th>inc_bef_tax_pl_flag_high</th>       <td>    0.0446</td> <td>    0.087</td> <td>    0.512</td> <td> 0.609</td> <td>   -0.126</td> <td>    0.216</td>\n",
       "</tr>\n",
       "<tr>\n",
       "  <th>profit_loss_year_pl_flag_high</th>  <td>   -0.0749</td> <td>    0.094</td> <td>   -0.798</td> <td> 0.425</td> <td>   -0.259</td> <td>    0.109</td>\n",
       "</tr>\n",
       "<tr>\n",
       "  <th>share_eq_bs_flag_high</th>          <td>   -0.0225</td> <td>    0.031</td> <td>   -0.722</td> <td> 0.470</td> <td>   -0.084</td> <td>    0.039</td>\n",
       "</tr>\n",
       "<tr>\n",
       "  <th>extra_profit_loss_pl_flag_zero</th> <td>    0.0237</td> <td>    0.011</td> <td>    2.112</td> <td> 0.035</td> <td>    0.002</td> <td>    0.046</td>\n",
       "</tr>\n",
       "<tr>\n",
       "  <th>inc_bef_tax_pl_flag_zero</th>       <td>    0.1899</td> <td>    0.052</td> <td>    3.659</td> <td> 0.000</td> <td>    0.088</td> <td>    0.292</td>\n",
       "</tr>\n",
       "<tr>\n",
       "  <th>profit_loss_year_pl_flag_zero</th>  <td>   -0.0074</td> <td>    0.024</td> <td>   -0.313</td> <td> 0.755</td> <td>   -0.054</td> <td>    0.039</td>\n",
       "</tr>\n",
       "<tr>\n",
       "  <th>share_eq_bs_flag_zero</th>          <td>    0.2465</td> <td>    0.129</td> <td>    1.914</td> <td> 0.056</td> <td>   -0.006</td> <td>    0.499</td>\n",
       "</tr>\n",
       "<tr>\n",
       "  <th>female</th>                         <td>   -0.0136</td> <td>    0.006</td> <td>   -2.116</td> <td> 0.034</td> <td>   -0.026</td> <td>   -0.001</td>\n",
       "</tr>\n",
       "<tr>\n",
       "  <th>ceo_age</th>                        <td>   -0.0011</td> <td>    0.000</td> <td>   -3.627</td> <td> 0.000</td> <td>   -0.002</td> <td>   -0.000</td>\n",
       "</tr>\n",
       "<tr>\n",
       "  <th>flag_high_ceo_age</th>              <td>    0.0589</td> <td>    0.041</td> <td>    1.436</td> <td> 0.151</td> <td>   -0.021</td> <td>    0.139</td>\n",
       "</tr>\n",
       "<tr>\n",
       "  <th>flag_low_ceo_age</th>               <td>    0.0028</td> <td>    0.022</td> <td>    0.130</td> <td> 0.896</td> <td>   -0.040</td> <td>    0.045</td>\n",
       "</tr>\n",
       "<tr>\n",
       "  <th>flag_miss_ceo_age</th>              <td>    0.0762</td> <td>    0.008</td> <td>    9.662</td> <td> 0.000</td> <td>    0.061</td> <td>    0.092</td>\n",
       "</tr>\n",
       "<tr>\n",
       "  <th>ceo_count</th>                      <td>   -0.0079</td> <td>    0.006</td> <td>   -1.420</td> <td> 0.155</td> <td>   -0.019</td> <td>    0.003</td>\n",
       "</tr>\n",
       "<tr>\n",
       "  <th>labor_avg_mod</th>                  <td>    0.0026</td> <td>    0.004</td> <td>    0.696</td> <td> 0.486</td> <td>   -0.005</td> <td>    0.010</td>\n",
       "</tr>\n",
       "<tr>\n",
       "  <th>flag_miss_labor_avg</th>            <td>   -0.0005</td> <td>    0.009</td> <td>   -0.058</td> <td> 0.954</td> <td>   -0.018</td> <td>    0.017</td>\n",
       "</tr>\n",
       "<tr>\n",
       "  <th>foreign_management</th>             <td>   -0.0254</td> <td>    0.010</td> <td>   -2.420</td> <td> 0.016</td> <td>   -0.046</td> <td>   -0.005</td>\n",
       "</tr>\n",
       "<tr>\n",
       "  <th>balsheet_flag</th>                  <td>    0.0900</td> <td>    0.059</td> <td>    1.525</td> <td> 0.127</td> <td>   -0.026</td> <td>    0.206</td>\n",
       "</tr>\n",
       "<tr>\n",
       "  <th>balsheet_length</th>                <td> 1.688e-05</td> <td>  9.3e-05</td> <td>    0.182</td> <td> 0.856</td> <td>   -0.000</td> <td>    0.000</td>\n",
       "</tr>\n",
       "<tr>\n",
       "  <th>balsheet_notfullyear</th>           <td>    0.0121</td> <td>    0.018</td> <td>    0.664</td> <td> 0.507</td> <td>   -0.024</td> <td>    0.048</td>\n",
       "</tr>\n",
       "<tr>\n",
       "  <th>age</th>                            <td>   -0.0030</td> <td>    0.002</td> <td>   -1.526</td> <td> 0.127</td> <td>   -0.007</td> <td>    0.001</td>\n",
       "</tr>\n",
       "<tr>\n",
       "  <th>age2</th>                           <td>-4.853e-06</td> <td> 8.86e-05</td> <td>   -0.055</td> <td> 0.956</td> <td>   -0.000</td> <td>    0.000</td>\n",
       "</tr>\n",
       "<tr>\n",
       "  <th>new</th>                            <td>    0.0439</td> <td>    0.009</td> <td>    4.776</td> <td> 0.000</td> <td>    0.026</td> <td>    0.062</td>\n",
       "</tr>\n",
       "<tr>\n",
       "  <th>C(ind2_cat)[27.0]</th>              <td>    0.0115</td> <td>    0.023</td> <td>    0.502</td> <td> 0.616</td> <td>   -0.034</td> <td>    0.057</td>\n",
       "</tr>\n",
       "<tr>\n",
       "  <th>C(ind2_cat)[28.0]</th>              <td>    0.0029</td> <td>    0.018</td> <td>    0.158</td> <td> 0.874</td> <td>   -0.032</td> <td>    0.038</td>\n",
       "</tr>\n",
       "<tr>\n",
       "  <th>C(ind2_cat)[29.0]</th>              <td>    0.0505</td> <td>    0.030</td> <td>    1.707</td> <td> 0.088</td> <td>   -0.007</td> <td>    0.108</td>\n",
       "</tr>\n",
       "<tr>\n",
       "  <th>C(ind2_cat)[30.0]</th>              <td>   -0.0065</td> <td>    0.038</td> <td>   -0.170</td> <td> 0.865</td> <td>   -0.082</td> <td>    0.069</td>\n",
       "</tr>\n",
       "<tr>\n",
       "  <th>C(ind2_cat)[33.0]</th>              <td>   -0.0173</td> <td>    0.018</td> <td>   -0.970</td> <td> 0.332</td> <td>   -0.052</td> <td>    0.018</td>\n",
       "</tr>\n",
       "<tr>\n",
       "  <th>C(ind2_cat)[55.0]</th>              <td>    0.0201</td> <td>    0.017</td> <td>    1.164</td> <td> 0.244</td> <td>   -0.014</td> <td>    0.054</td>\n",
       "</tr>\n",
       "<tr>\n",
       "  <th>C(ind2_cat)[56.0]</th>              <td>    0.0600</td> <td>    0.015</td> <td>    3.966</td> <td> 0.000</td> <td>    0.030</td> <td>    0.090</td>\n",
       "</tr>\n",
       "<tr>\n",
       "  <th>C(m_region_loc)[East]</th>          <td>    0.0080</td> <td>    0.007</td> <td>    1.126</td> <td> 0.260</td> <td>   -0.006</td> <td>    0.022</td>\n",
       "</tr>\n",
       "<tr>\n",
       "  <th>C(m_region_loc)[West]</th>          <td>   -0.0209</td> <td>    0.009</td> <td>   -2.406</td> <td> 0.016</td> <td>   -0.038</td> <td>   -0.004</td>\n",
       "</tr>\n",
       "<tr>\n",
       "  <th>C(urban_m)[2.0]</th>                <td>    0.0019</td> <td>    0.008</td> <td>    0.237</td> <td> 0.813</td> <td>   -0.014</td> <td>    0.017</td>\n",
       "</tr>\n",
       "<tr>\n",
       "  <th>C(urban_m)[3.0]</th>                <td>   -0.0065</td> <td>    0.007</td> <td>   -0.897</td> <td> 0.370</td> <td>   -0.021</td> <td>    0.008</td>\n",
       "</tr>\n",
       "</table>"
      ],
      "text/plain": [
       "<class 'statsmodels.iolib.summary.Summary'>\n",
       "\"\"\"\n",
       "        Logit Marginal Effects       \n",
       "=====================================\n",
       "Dep. Variable:                default\n",
       "Method:                          dydx\n",
       "At:                           overall\n",
       "==================================================================================================\n",
       "                                    dy/dx    std err          z      P>|z|      [0.025      0.975]\n",
       "--------------------------------------------------------------------------------------------------\n",
       "sales_mil_log                     -0.0266      0.008     -3.422      0.001      -0.042      -0.011\n",
       "sales_mil_log_sq                  -0.0005      0.001     -0.496      0.620      -0.002       0.001\n",
       "total_assets_bs                 9.459e-10   3.19e-09      0.297      0.767    -5.3e-09    7.19e-09\n",
       "fixed_assets_bs                   -0.0786      0.137     -0.573      0.566      -0.347       0.190\n",
       "liq_assets_bs                     -0.0144      0.011     -1.324      0.186      -0.036       0.007\n",
       "curr_assets_bs                     0.0232      0.137      0.169      0.865      -0.246       0.292\n",
       "share_eq_bs                       -0.0386      0.009     -4.265      0.000      -0.056      -0.021\n",
       "subscribed_cap_bs                  0.0106      0.013      0.844      0.399      -0.014       0.035\n",
       "intang_assets_bs                  -0.0186      0.146     -0.127      0.899      -0.305       0.268\n",
       "extra_exp_pl                       0.0318      0.180      0.176      0.860      -0.321       0.385\n",
       "extra_inc_pl                       0.2488      0.248      1.004      0.316      -0.237       0.735\n",
       "extra_profit_loss_pl              -0.1409      0.193     -0.731      0.465      -0.519       0.237\n",
       "inc_bef_tax_pl                    -0.0879      0.048     -1.816      0.069      -0.183       0.007\n",
       "inventories_pl                    -0.0795      0.019     -4.088      0.000      -0.118      -0.041\n",
       "material_exp_pl                   -0.0002      0.017     -0.012      0.991      -0.034       0.033\n",
       "profit_loss_year_pl                0.0701      0.048      1.463      0.144      -0.024       0.164\n",
       "personnel_exp_pl                  -0.0371      0.016     -2.355      0.019      -0.068      -0.006\n",
       "d1_sales_mil_log_mod              -0.0553      0.007     -8.091      0.000      -0.069      -0.042\n",
       "d1_sales_mil_log_mod_sq            0.0606      0.008      7.905      0.000       0.046       0.076\n",
       "flag_low_d1_sales_mil_log         -0.0644      0.019     -3.432      0.001      -0.101      -0.028\n",
       "flag_high_d1_sales_mil_log         0.0081      0.027      0.304      0.761      -0.044       0.060\n",
       "extra_profit_loss_pl_quad         -0.0170      0.146     -0.117      0.907      -0.303       0.269\n",
       "inc_bef_tax_pl_quad                0.0860      0.059      1.471      0.141      -0.029       0.201\n",
       "profit_loss_year_pl_quad           0.0255      0.063      0.408      0.684      -0.097       0.148\n",
       "share_eq_bs_quad                   0.0068      0.012      0.563      0.573      -0.017       0.031\n",
       "extra_exp_pl_flag_high            -0.1282      0.271     -0.473      0.636      -0.659       0.402\n",
       "extra_inc_pl_flag_high            -0.0072      0.302     -0.024      0.981      -0.598       0.584\n",
       "inventories_pl_flag_high           0.0616      0.023      2.700      0.007       0.017       0.106\n",
       "material_exp_pl_flag_high          0.0003      0.009      0.032      0.975      -0.017       0.017\n",
       "personnel_exp_pl_flag_high         0.0500      0.015      3.280      0.001       0.020       0.080\n",
       "curr_liab_bs_flag_high             0.0248      0.008      2.963      0.003       0.008       0.041\n",
       "liq_assets_bs_flag_high           -0.2030      0.180     -1.125      0.260      -0.556       0.150\n",
       "subscribed_cap_bs_flag_high        0.0157      0.011      1.405      0.160      -0.006       0.037\n",
       "extra_exp_pl_flag_error           -3.1876   1.39e+05   -2.3e-05      1.000   -2.72e+05    2.72e+05\n",
       "extra_inc_pl_flag_error          -20.0015   1.77e+33  -1.13e-32      1.000   -3.47e+33    3.47e+33\n",
       "inventories_pl_flag_error          0.3002      0.165      1.823      0.068      -0.022       0.623\n",
       "material_exp_pl_flag_error        -3.8164   2.92e+05  -1.31e-05      1.000   -5.72e+05    5.72e+05\n",
       "personnel_exp_pl_flag_error        0.2599      0.211      1.230      0.219      -0.154       0.674\n",
       "curr_liab_bs_flag_error            0.0542      0.113      0.481      0.631      -0.167       0.275\n",
       "liq_assets_bs_flag_error           0.1024      0.060      1.699      0.089      -0.016       0.221\n",
       "subscribed_cap_bs_flag_error       1.8039    274.298      0.007      0.995    -535.810     539.418\n",
       "extra_profit_loss_pl_flag_low     -2.1603    249.105     -0.009      0.993    -490.397     486.076\n",
       "inc_bef_tax_pl_flag_low           -0.0598      0.115     -0.518      0.604      -0.286       0.166\n",
       "profit_loss_year_pl_flag_low       0.0067      0.116      0.058      0.954      -0.221       0.234\n",
       "share_eq_bs_flag_low               0.0231      0.015      1.502      0.133      -0.007       0.053\n",
       "extra_profit_loss_pl_flag_high     0.0019      0.329      0.006      0.995      -0.642       0.646\n",
       "inc_bef_tax_pl_flag_high           0.0446      0.087      0.512      0.609      -0.126       0.216\n",
       "profit_loss_year_pl_flag_high     -0.0749      0.094     -0.798      0.425      -0.259       0.109\n",
       "share_eq_bs_flag_high             -0.0225      0.031     -0.722      0.470      -0.084       0.039\n",
       "extra_profit_loss_pl_flag_zero     0.0237      0.011      2.112      0.035       0.002       0.046\n",
       "inc_bef_tax_pl_flag_zero           0.1899      0.052      3.659      0.000       0.088       0.292\n",
       "profit_loss_year_pl_flag_zero     -0.0074      0.024     -0.313      0.755      -0.054       0.039\n",
       "share_eq_bs_flag_zero              0.2465      0.129      1.914      0.056      -0.006       0.499\n",
       "female                            -0.0136      0.006     -2.116      0.034      -0.026      -0.001\n",
       "ceo_age                           -0.0011      0.000     -3.627      0.000      -0.002      -0.000\n",
       "flag_high_ceo_age                  0.0589      0.041      1.436      0.151      -0.021       0.139\n",
       "flag_low_ceo_age                   0.0028      0.022      0.130      0.896      -0.040       0.045\n",
       "flag_miss_ceo_age                  0.0762      0.008      9.662      0.000       0.061       0.092\n",
       "ceo_count                         -0.0079      0.006     -1.420      0.155      -0.019       0.003\n",
       "labor_avg_mod                      0.0026      0.004      0.696      0.486      -0.005       0.010\n",
       "flag_miss_labor_avg               -0.0005      0.009     -0.058      0.954      -0.018       0.017\n",
       "foreign_management                -0.0254      0.010     -2.420      0.016      -0.046      -0.005\n",
       "balsheet_flag                      0.0900      0.059      1.525      0.127      -0.026       0.206\n",
       "balsheet_length                 1.688e-05    9.3e-05      0.182      0.856      -0.000       0.000\n",
       "balsheet_notfullyear               0.0121      0.018      0.664      0.507      -0.024       0.048\n",
       "age                               -0.0030      0.002     -1.526      0.127      -0.007       0.001\n",
       "age2                           -4.853e-06   8.86e-05     -0.055      0.956      -0.000       0.000\n",
       "new                                0.0439      0.009      4.776      0.000       0.026       0.062\n",
       "C(ind2_cat)[27.0]                  0.0115      0.023      0.502      0.616      -0.034       0.057\n",
       "C(ind2_cat)[28.0]                  0.0029      0.018      0.158      0.874      -0.032       0.038\n",
       "C(ind2_cat)[29.0]                  0.0505      0.030      1.707      0.088      -0.007       0.108\n",
       "C(ind2_cat)[30.0]                 -0.0065      0.038     -0.170      0.865      -0.082       0.069\n",
       "C(ind2_cat)[33.0]                 -0.0173      0.018     -0.970      0.332      -0.052       0.018\n",
       "C(ind2_cat)[55.0]                  0.0201      0.017      1.164      0.244      -0.014       0.054\n",
       "C(ind2_cat)[56.0]                  0.0600      0.015      3.966      0.000       0.030       0.090\n",
       "C(m_region_loc)[East]              0.0080      0.007      1.126      0.260      -0.006       0.022\n",
       "C(m_region_loc)[West]             -0.0209      0.009     -2.406      0.016      -0.038      -0.004\n",
       "C(urban_m)[2.0]                    0.0019      0.008      0.237      0.813      -0.014       0.017\n",
       "C(urban_m)[3.0]                   -0.0065      0.007     -0.897      0.370      -0.021       0.008\n",
       "==================================================================================================\n",
       "\"\"\""
      ]
     },
     "execution_count": 26,
     "metadata": {},
     "output_type": "execute_result"
    }
   ],
   "source": [
    "#Margin calculation\n",
    "m = sm.Logit(y,sm.add_constant(X4)).fit().get_margeff()\n",
    "m.summary()"
   ]
  },
  {
   "cell_type": "markdown",
   "metadata": {},
   "source": [
    "## Separate train and holdout data"
   ]
  },
  {
   "cell_type": "code",
   "execution_count": 27,
   "metadata": {},
   "outputs": [],
   "source": [
    "index_train, index_holdout= train_test_split(\n",
    "    data.index.values, train_size=round(0.8*len(data.index)), random_state=42)\n",
    "\n",
    "y_train = y.iloc[index_train]\n",
    "y_holdout = y.iloc[index_holdout]"
   ]
  },
  {
   "cell_type": "code",
   "execution_count": 28,
   "metadata": {},
   "outputs": [
    {
     "name": "stdout",
     "output_type": "stream",
     "text": [
      "Total\n",
      "0    0.797857\n",
      "1    0.202143\n",
      "Name: default, dtype: float64\n",
      "Train\n",
      "0    0.799199\n",
      "1    0.200801\n",
      "Name: default, dtype: float64\n",
      "Holdout\n",
      "0    0.792488\n",
      "1    0.207512\n",
      "Name: default, dtype: float64\n"
     ]
    }
   ],
   "source": [
    "print('Total')\n",
    "print(data['default'].value_counts(normalize=True))\n",
    "print('Train')\n",
    "print(data.iloc[index_train]['default'].value_counts(normalize=True))\n",
    "print('Holdout')\n",
    "print(data.iloc[index_holdout]['default'].value_counts(normalize=True))"
   ]
  },
  {
   "cell_type": "markdown",
   "metadata": {},
   "source": [
    "## PART I - PREDICT PROBABILITIES"
   ]
  },
  {
   "cell_type": "code",
   "execution_count": 29,
   "metadata": {},
   "outputs": [],
   "source": [
    "k = KFold(n_splits=5, shuffle=True, random_state=42)"
   ]
  },
  {
   "cell_type": "markdown",
   "metadata": {},
   "source": [
    "## Train logit models"
   ]
  },
  {
   "cell_type": "code",
   "execution_count": 55,
   "metadata": {},
   "outputs": [],
   "source": [
    "# no regularisation needed so setting the paremeter to very high value\n",
    "C_value_logit=[1e20]"
   ]
  },
  {
   "cell_type": "code",
   "execution_count": 101,
   "metadata": {},
   "outputs": [],
   "source": [
    "# Train Logit Models ----------------------------------------------\n",
    "logit_model_vars = [X1.iloc[index_train], X2.iloc[index_train], X3.iloc[index_train], X4.iloc[index_train], X5.iloc[index_train]]\n",
    "\n",
    "logit_models = dict()\n",
    "CV_RMSE_folds = dict()\n",
    "\n",
    "for i in range(len(logit_model_vars)):\n",
    "    LRCV_brier = LogisticRegressionCV(Cs=C_value_logit, cv=k, refit=True, scoring='neg_brier_score', \n",
    "                            solver=\"newton-cg\", tol=1e-7, random_state=42)\n",
    "    logit_models['X'+str(i+1)] = LRCV_brier.fit(logit_model_vars[i], y_train)\n",
    "    # Calculate RMSE on test for each fold\n",
    "    CV_RMSE_folds['X'+str(i+1)] = np.sqrt(-1*(logit_models['X'+str(i+1)].scores_[1])).tolist()"
   ]
  },
  {
   "cell_type": "code",
   "execution_count": 32,
   "metadata": {
    "scrolled": true
   },
   "outputs": [
    {
     "data": {
      "text/plain": [
       "{'X1': [[0.36824963036064234],\n",
       "  [0.3804463813204531],\n",
       "  [0.3726070027845802],\n",
       "  [0.375473613275164],\n",
       "  [0.3741374513334578]],\n",
       " 'X2': [[0.3605324137039277],\n",
       "  [0.3727991840151915],\n",
       "  [0.36357940533506594],\n",
       "  [0.36699617856700395],\n",
       "  [0.36485619020817345]],\n",
       " 'X3': [[0.3605088349586404],\n",
       "  [0.3718281851003901],\n",
       "  [0.3609137928300879],\n",
       "  [0.3651622386922962],\n",
       "  [0.3636412932718344]],\n",
       " 'X4': [[0.3567893911055529],\n",
       "  [0.36951054073411205],\n",
       "  [0.3597619359285203],\n",
       "  [0.36285901405686893],\n",
       "  [0.3596473277340482]],\n",
       " 'X5': [[0.3555461076667199],\n",
       "  [0.3701374917188122],\n",
       "  [0.3594093231361132],\n",
       "  [0.3622158764541054],\n",
       "  [0.3588362549915169]]}"
      ]
     },
     "execution_count": 32,
     "metadata": {},
     "output_type": "execute_result"
    }
   ],
   "source": [
    "CV_RMSE_folds"
   ]
  },
  {
   "cell_type": "markdown",
   "metadata": {},
   "source": [
    "## Lasso logit"
   ]
  },
  {
   "cell_type": "code",
   "execution_count": 103,
   "metadata": {},
   "outputs": [],
   "source": [
    "normalized_logitvars=pd.DataFrame(StandardScaler().fit_transform(logitvars.iloc[index_train]))\n",
    "normalized_logitvars.columns=logitvars.columns"
   ]
  },
  {
   "cell_type": "code",
   "execution_count": 106,
   "metadata": {},
   "outputs": [],
   "source": [
    "lambdas=list(10**np.arange(-1,-4.01, -1/3))\n",
    "n_obs = normalized_logitvars.shape[0]*4/5\n",
    "C_values = [1/(l*n_obs) for l in lambdas]\n",
    "\n",
    "logLasso = LogisticRegressionCV(Cs=C_values, penalty='l1', cv=k, refit=True, scoring='accuracy', solver='liblinear',\n",
    "                             random_state=42)"
   ]
  },
  {
   "cell_type": "code",
   "execution_count": 108,
   "metadata": {},
   "outputs": [],
   "source": [
    "logit_models[\"LASSO\"] = logLasso.fit(normalized_logitvars, y_train)"
   ]
  },
  {
   "cell_type": "code",
   "execution_count": 109,
   "metadata": {},
   "outputs": [
    {
     "data": {
      "text/html": [
       "<div>\n",
       "<style scoped>\n",
       "    .dataframe tbody tr th:only-of-type {\n",
       "        vertical-align: middle;\n",
       "    }\n",
       "\n",
       "    .dataframe tbody tr th {\n",
       "        vertical-align: top;\n",
       "    }\n",
       "\n",
       "    .dataframe thead th {\n",
       "        text-align: right;\n",
       "    }\n",
       "</style>\n",
       "<table border=\"1\" class=\"dataframe\">\n",
       "  <thead>\n",
       "    <tr style=\"text-align: right;\">\n",
       "      <th></th>\n",
       "      <th>lambdas</th>\n",
       "      <th>C_values</th>\n",
       "      <th>mean_cv_score</th>\n",
       "    </tr>\n",
       "  </thead>\n",
       "  <tbody>\n",
       "    <tr>\n",
       "      <th>0</th>\n",
       "      <td>0.100000</td>\n",
       "      <td>0.000821</td>\n",
       "      <td>0.799199</td>\n",
       "    </tr>\n",
       "    <tr>\n",
       "      <th>1</th>\n",
       "      <td>0.046416</td>\n",
       "      <td>0.001768</td>\n",
       "      <td>0.806947</td>\n",
       "    </tr>\n",
       "    <tr>\n",
       "      <th>2</th>\n",
       "      <td>0.021544</td>\n",
       "      <td>0.003810</td>\n",
       "      <td>0.815549</td>\n",
       "    </tr>\n",
       "    <tr>\n",
       "      <th>3</th>\n",
       "      <td>0.010000</td>\n",
       "      <td>0.008208</td>\n",
       "      <td>0.818242</td>\n",
       "    </tr>\n",
       "    <tr>\n",
       "      <th>4</th>\n",
       "      <td>0.004642</td>\n",
       "      <td>0.017684</td>\n",
       "      <td>0.818636</td>\n",
       "    </tr>\n",
       "    <tr>\n",
       "      <th>5</th>\n",
       "      <td>0.002154</td>\n",
       "      <td>0.038098</td>\n",
       "      <td>0.819358</td>\n",
       "    </tr>\n",
       "    <tr>\n",
       "      <th>6</th>\n",
       "      <td>0.001000</td>\n",
       "      <td>0.082080</td>\n",
       "      <td>0.820868</td>\n",
       "    </tr>\n",
       "    <tr>\n",
       "      <th>7</th>\n",
       "      <td>0.000464</td>\n",
       "      <td>0.176837</td>\n",
       "      <td>0.821525</td>\n",
       "    </tr>\n",
       "    <tr>\n",
       "      <th>8</th>\n",
       "      <td>0.000215</td>\n",
       "      <td>0.380983</td>\n",
       "      <td>0.821196</td>\n",
       "    </tr>\n",
       "    <tr>\n",
       "      <th>9</th>\n",
       "      <td>0.000100</td>\n",
       "      <td>0.820802</td>\n",
       "      <td>0.820934</td>\n",
       "    </tr>\n",
       "  </tbody>\n",
       "</table>\n",
       "</div>"
      ],
      "text/plain": [
       "    lambdas  C_values  mean_cv_score\n",
       "0  0.100000  0.000821       0.799199\n",
       "1  0.046416  0.001768       0.806947\n",
       "2  0.021544  0.003810       0.815549\n",
       "3  0.010000  0.008208       0.818242\n",
       "4  0.004642  0.017684       0.818636\n",
       "5  0.002154  0.038098       0.819358\n",
       "6  0.001000  0.082080       0.820868\n",
       "7  0.000464  0.176837       0.821525\n",
       "8  0.000215  0.380983       0.821196\n",
       "9  0.000100  0.820802       0.820934"
      ]
     },
     "execution_count": 109,
     "metadata": {},
     "output_type": "execute_result"
    }
   ],
   "source": [
    "cv_summary_lasso = cv_summary(lambdas, C_values, logit_models[\"LASSO\"])\n",
    "cv_summary_lasso"
   ]
  },
  {
   "cell_type": "code",
   "execution_count": 110,
   "metadata": {},
   "outputs": [],
   "source": [
    "best_lambda = cv_summary_lasso.sort_values('mean_cv_score', ascending = False).iloc[0,0]"
   ]
  },
  {
   "cell_type": "code",
   "execution_count": 111,
   "metadata": {},
   "outputs": [
    {
     "data": {
      "text/html": [
       "<div>\n",
       "<style scoped>\n",
       "    .dataframe tbody tr th:only-of-type {\n",
       "        vertical-align: middle;\n",
       "    }\n",
       "\n",
       "    .dataframe tbody tr th {\n",
       "        vertical-align: top;\n",
       "    }\n",
       "\n",
       "    .dataframe thead th {\n",
       "        text-align: right;\n",
       "    }\n",
       "</style>\n",
       "<table border=\"1\" class=\"dataframe\">\n",
       "  <thead>\n",
       "    <tr style=\"text-align: right;\">\n",
       "      <th></th>\n",
       "      <th>variable</th>\n",
       "      <th>coefficient</th>\n",
       "    </tr>\n",
       "  </thead>\n",
       "  <tbody>\n",
       "    <tr>\n",
       "      <th>0</th>\n",
       "      <td>sales_mil_log</td>\n",
       "      <td>-0.019411</td>\n",
       "    </tr>\n",
       "    <tr>\n",
       "      <th>1</th>\n",
       "      <td>sales_mil_log_sq</td>\n",
       "      <td>0.142064</td>\n",
       "    </tr>\n",
       "    <tr>\n",
       "      <th>2</th>\n",
       "      <td>total_assets_bs</td>\n",
       "      <td>0.000616</td>\n",
       "    </tr>\n",
       "    <tr>\n",
       "      <th>3</th>\n",
       "      <td>fixed_assets_bs</td>\n",
       "      <td>-0.276569</td>\n",
       "    </tr>\n",
       "    <tr>\n",
       "      <th>4</th>\n",
       "      <td>liq_assets_bs</td>\n",
       "      <td>-0.020595</td>\n",
       "    </tr>\n",
       "    <tr>\n",
       "      <th>...</th>\n",
       "      <td>...</td>\n",
       "      <td>...</td>\n",
       "    </tr>\n",
       "    <tr>\n",
       "      <th>149</th>\n",
       "      <td>sales_mil_log:age</td>\n",
       "      <td>-0.235860</td>\n",
       "    </tr>\n",
       "    <tr>\n",
       "      <th>150</th>\n",
       "      <td>sales_mil_log:female</td>\n",
       "      <td>-0.066299</td>\n",
       "    </tr>\n",
       "    <tr>\n",
       "      <th>151</th>\n",
       "      <td>sales_mil_log:profit_loss_year_pl</td>\n",
       "      <td>-0.343996</td>\n",
       "    </tr>\n",
       "    <tr>\n",
       "      <th>152</th>\n",
       "      <td>sales_mil_log:foreign_management</td>\n",
       "      <td>-0.019495</td>\n",
       "    </tr>\n",
       "    <tr>\n",
       "      <th>153</th>\n",
       "      <td>Intercept</td>\n",
       "      <td>-1.756459</td>\n",
       "    </tr>\n",
       "  </tbody>\n",
       "</table>\n",
       "<p>154 rows × 2 columns</p>\n",
       "</div>"
      ],
      "text/plain": [
       "                              variable  coefficient\n",
       "0                        sales_mil_log    -0.019411\n",
       "1                     sales_mil_log_sq     0.142064\n",
       "2                      total_assets_bs     0.000616\n",
       "3                      fixed_assets_bs    -0.276569\n",
       "4                        liq_assets_bs    -0.020595\n",
       "..                                 ...          ...\n",
       "149                  sales_mil_log:age    -0.235860\n",
       "150               sales_mil_log:female    -0.066299\n",
       "151  sales_mil_log:profit_loss_year_pl    -0.343996\n",
       "152   sales_mil_log:foreign_management    -0.019495\n",
       "153                          Intercept    -1.756459\n",
       "\n",
       "[154 rows x 2 columns]"
      ]
     },
     "execution_count": 111,
     "metadata": {},
     "output_type": "execute_result"
    }
   ],
   "source": [
    "coef_matrix(normalized_logitvars, logit_models[\"LASSO\"])"
   ]
  },
  {
   "cell_type": "code",
   "execution_count": 112,
   "metadata": {},
   "outputs": [],
   "source": [
    "#refit with negative brier score so we have RMSE values for the same cv split\n",
    "logLasso_brier = LogisticRegressionCV(Cs=C_values, penalty='l1', cv=k, refit=True, scoring='neg_brier_score', \n",
    "                            solver=\"liblinear\", random_state=42)\n",
    "logLasso_brier_fitted = logLasso_brier.fit(normalized_logitvars, y_train)"
   ]
  },
  {
   "cell_type": "code",
   "execution_count": 449,
   "metadata": {},
   "outputs": [],
   "source": [
    "for i, l in enumerate(lambdas):\n",
    "    if l == best_lambda:\n",
    "        best_lambda_i = i\n",
    "        CV_RMSE_folds['LASSO'] = np.sqrt(-1*(logLasso_brier_fitted.scores_[1][:,i])).tolist()"
   ]
  },
  {
   "cell_type": "markdown",
   "metadata": {},
   "source": [
    "## PART I\n",
    "## No loss fn"
   ]
  },
  {
   "cell_type": "code",
   "execution_count": 68,
   "metadata": {},
   "outputs": [],
   "source": [
    "# Calculate AUC for each folds --------------------------------\n",
    "CV_AUC_folds = dict()\n",
    "for i in range(len(logit_model_vars)):\n",
    "    LRCV_auc = LogisticRegressionCV(Cs=C_value_logit, cv=k, refit=True, scoring='roc_auc', \n",
    "                            solver=\"newton-cg\", tol=1e-7, random_state=42)\n",
    "    LRCV_auc_fit = LRCV_auc.fit(logit_model_vars[i], y_train)\n",
    "    # Calculate AUC on test for each fold\n",
    "    CV_AUC_folds['X'+str(i+1)] = LRCV_auc_fit.scores_[1][:,0].tolist()"
   ]
  },
  {
   "cell_type": "code",
   "execution_count": 114,
   "metadata": {},
   "outputs": [],
   "source": [
    "#refit with AUC so we have AUC values for the same cv split\n",
    "logLasso_auc = LogisticRegressionCV(Cs=C_values, penalty='l1', cv=k, refit=True, scoring='roc_auc', \n",
    "                            solver=\"liblinear\", random_state=42)\n",
    "logLasso_auc_fitted = logLasso_auc.fit(normalized_logitvars, y_train)\n",
    "CV_AUC_folds['LASSO'] = logLasso_auc_fitted.scores_[1][:,best_lambda_i].tolist()"
   ]
  },
  {
   "cell_type": "code",
   "execution_count": 663,
   "metadata": {},
   "outputs": [],
   "source": [
    "# For each model: average RMSE and average AUC for models ----------------------------------\n",
    "CV_RMSE = dict()\n",
    "CV_AUC = dict()\n",
    "nvars = dict()\n",
    "\n",
    "for key in logit_models:\n",
    "    CV_RMSE[key] = np.mean(CV_RMSE_folds[key])\n",
    "    CV_AUC[key] = np.mean(CV_AUC_folds[key])"
   ]
  },
  {
   "cell_type": "code",
   "execution_count": 664,
   "metadata": {},
   "outputs": [],
   "source": [
    "# We have 6 models, (5 logit and the logit lasso). For each we have a 5-CV RMSE and AUC.\n",
    "# We pick our preferred model based on that. -----------------------------------------------\n",
    "\n",
    "for key in logit_models:\n",
    "    if key != 'LASSO':\n",
    "        nvars[key] = logit_models[key].n_features_in_\n",
    "    else:\n",
    "        nvars[key] = sum(x != 0 for x in logit_models[key].coef_[0].tolist())\n",
    "        \n",
    "logit_summary1 = np.transpose(pd.DataFrame.from_dict([nvars,CV_RMSE,CV_AUC], orient='columns'))\n",
    "logit_summary1.columns = ['Number of predictors', 'CV RMSE', 'CV AUC']\n"
   ]
  },
  {
   "cell_type": "code",
   "execution_count": 118,
   "metadata": {},
   "outputs": [
    {
     "data": {
      "text/html": [
       "<div>\n",
       "<style scoped>\n",
       "    .dataframe tbody tr th:only-of-type {\n",
       "        vertical-align: middle;\n",
       "    }\n",
       "\n",
       "    .dataframe tbody tr th {\n",
       "        vertical-align: top;\n",
       "    }\n",
       "\n",
       "    .dataframe thead th {\n",
       "        text-align: right;\n",
       "    }\n",
       "</style>\n",
       "<table border=\"1\" class=\"dataframe\">\n",
       "  <thead>\n",
       "    <tr style=\"text-align: right;\">\n",
       "      <th></th>\n",
       "      <th>Number of predictors</th>\n",
       "      <th>CV RMSE</th>\n",
       "      <th>CV AUC</th>\n",
       "    </tr>\n",
       "  </thead>\n",
       "  <tbody>\n",
       "    <tr>\n",
       "      <th>X1</th>\n",
       "      <td>11.0</td>\n",
       "      <td>0.374183</td>\n",
       "      <td>0.736470</td>\n",
       "    </tr>\n",
       "    <tr>\n",
       "      <th>X2</th>\n",
       "      <td>18.0</td>\n",
       "      <td>0.365753</td>\n",
       "      <td>0.770553</td>\n",
       "    </tr>\n",
       "    <tr>\n",
       "      <th>X3</th>\n",
       "      <td>35.0</td>\n",
       "      <td>0.364411</td>\n",
       "      <td>0.778423</td>\n",
       "    </tr>\n",
       "    <tr>\n",
       "      <th>X4</th>\n",
       "      <td>79.0</td>\n",
       "      <td>0.361714</td>\n",
       "      <td>0.784750</td>\n",
       "    </tr>\n",
       "    <tr>\n",
       "      <th>X5</th>\n",
       "      <td>153.0</td>\n",
       "      <td>0.361229</td>\n",
       "      <td>0.786242</td>\n",
       "    </tr>\n",
       "    <tr>\n",
       "      <th>LASSO</th>\n",
       "      <td>120.0</td>\n",
       "      <td>0.360821</td>\n",
       "      <td>0.786736</td>\n",
       "    </tr>\n",
       "  </tbody>\n",
       "</table>\n",
       "</div>"
      ],
      "text/plain": [
       "       Number of predictors   CV RMSE    CV AUC\n",
       "X1                     11.0  0.374183  0.736470\n",
       "X2                     18.0  0.365753  0.770553\n",
       "X3                     35.0  0.364411  0.778423\n",
       "X4                     79.0  0.361714  0.784750\n",
       "X5                    153.0  0.361229  0.786242\n",
       "LASSO                 120.0  0.360821  0.786736"
      ]
     },
     "execution_count": 118,
     "metadata": {},
     "output_type": "execute_result"
    }
   ],
   "source": [
    "logit_summary1"
   ]
  },
  {
   "cell_type": "code",
   "execution_count": 205,
   "metadata": {},
   "outputs": [
    {
     "data": {
      "text/plain": [
       "0.3659602995648845"
      ]
     },
     "execution_count": 205,
     "metadata": {},
     "output_type": "execute_result"
    }
   ],
   "source": [
    "# Take best model and estimate RMSE on holdout  -------------------------------------------\n",
    "# X4, X5 and LASSO are practically the same - go with the simplest model \n",
    "\n",
    "best_model = logit_models['X4']\n",
    "best_model_X_holdout = X4.iloc[index_holdout]\n",
    "\n",
    "logit_predicted_probabilities_holdout = best_model.predict_proba(best_model_X_holdout)[:,1]\n",
    "\n",
    "np.sqrt(metrics.mean_squared_error(y_holdout, logit_predicted_probabilities_holdout))"
   ]
  },
  {
   "cell_type": "code",
   "execution_count": 137,
   "metadata": {},
   "outputs": [],
   "source": [
    "# discrete ROC (with thresholds in steps) on holdout -------------------------------------------------\n",
    "\n",
    "thresholds = seq(0.05, 0.8, by = 0.05)\n",
    "cm = dict()\n",
    "true_positive_rates = []\n",
    "false_positive_rates = []\n",
    "holdout_prediction = []\n",
    "for thr in thresholds:\n",
    "    holdout_prediction = np.where(logit_predicted_probabilities_holdout < thr, 0, 1)\n",
    "    cm_thr = confusion_matrix(y_holdout, holdout_prediction, labels=[0,1])\n",
    "    cm[thr] = cm_thr\n",
    "    tn, fp, fn, tp = cm_thr.ravel()\n",
    "    true_positive_rates.append(tp/(tp+fn))\n",
    "    false_positive_rates.append(fp/(fp+tn))"
   ]
  },
  {
   "cell_type": "code",
   "execution_count": 139,
   "metadata": {},
   "outputs": [],
   "source": [
    "tpr_fpr_for_thresholds = pd.DataFrame(\n",
    "    {'thresholds': thresholds,\n",
    "     'true_positive_rates': true_positive_rates,\n",
    "     'false_positive_rates': false_positive_rates})"
   ]
  },
  {
   "cell_type": "code",
   "execution_count": 140,
   "metadata": {},
   "outputs": [
    {
     "data": {
      "image/png": "[encoded data removed]",
      "text/plain": [
       "<Figure size 640x480 with 1 Axes>"
      ]
     },
     "metadata": {},
     "output_type": "display_data"
    },
    {
     "data": {
      "text/plain": [
       "<ggplot: (314985665)>"
      ]
     },
     "execution_count": 140,
     "metadata": {},
     "output_type": "execute_result"
    }
   ],
   "source": [
    "ggplot(tpr_fpr_for_thresholds, aes(x = 'false_positive_rates', y = 'true_positive_rates', color='thresholds'))\\\n",
    "        + labs(x = \"False positive rate (1 - Specificity)\", y = \"True positive rate (Sensitivity)\")\\\n",
    "        + geom_point(size=2, alpha=0.8) + scale_color_continuous(trans = 'reverse')\\\n",
    "        + scale_x_continuous(limits=(0,1), breaks = seq(0, 1.01, by = 0.1))\\\n",
    "        + scale_y_continuous(limits=(0,1), breaks = seq(0, 1.01, by = 0.1))\\\n",
    "        + theme_bw()\\\n",
    "        +theme(legend_position=\"right\",\n",
    "            axis_text=element_text(size=5),\n",
    "            axis_title=element_text(size=5),\n",
    "            legend_text = element_text(size = 4),\n",
    "            legend_title = element_text(size = 4),\n",
    "            legend_key_size=6)"
   ]
  },
  {
   "cell_type": "code",
   "execution_count": 204,
   "metadata": {},
   "outputs": [
    {
     "data": {
      "image/png": "[encoded data removed]",
      "text/plain": [
       "<Figure size 640x480 with 1 Axes>"
      ]
     },
     "metadata": {},
     "output_type": "display_data"
    },
    {
     "data": {
      "text/plain": [
       "<ggplot: (316101283)>"
      ]
     },
     "execution_count": 204,
     "metadata": {},
     "output_type": "execute_result"
    }
   ],
   "source": [
    "# continuous ROC on holdout with best model (Logit 4) -------------------------------------------\n",
    "\n",
    "create_roc_plot(y_holdout, logit_predicted_probabilities_holdout)"
   ]
  },
  {
   "cell_type": "code",
   "execution_count": 206,
   "metadata": {},
   "outputs": [
    {
     "name": "stdout",
     "output_type": "stream",
     "text": [
      "0  (no default):  3442\n",
      "1  (default):  365\n"
     ]
    }
   ],
   "source": [
    "# Confusion table with different tresholds ----------------------------------------------------------\n",
    "\n",
    "# default: the threshold 0.5 is used to convert probabilities to binary classes\n",
    "logit_class_prediction = best_model.predict(best_model_X_holdout)\n",
    "\n",
    "values, counts = np.unique(logit_class_prediction.tolist(), return_counts=True)\n",
    "print(values[0],' (no default): ',counts[0])\n",
    "print(values[1],' (default): ',counts[1])"
   ]
  },
  {
   "cell_type": "code",
   "execution_count": 207,
   "metadata": {},
   "outputs": [
    {
     "data": {
      "text/html": [
       "<div>\n",
       "<style scoped>\n",
       "    .dataframe tbody tr th:only-of-type {\n",
       "        vertical-align: middle;\n",
       "    }\n",
       "\n",
       "    .dataframe tbody tr th {\n",
       "        vertical-align: top;\n",
       "    }\n",
       "\n",
       "    .dataframe thead th {\n",
       "        text-align: right;\n",
       "    }\n",
       "</style>\n",
       "<table border=\"1\" class=\"dataframe\">\n",
       "  <thead>\n",
       "    <tr style=\"text-align: right;\">\n",
       "      <th></th>\n",
       "      <th>Predicted no default</th>\n",
       "      <th>Predicted default</th>\n",
       "    </tr>\n",
       "  </thead>\n",
       "  <tbody>\n",
       "    <tr>\n",
       "      <th>Actul no defaul</th>\n",
       "      <td>2868</td>\n",
       "      <td>149</td>\n",
       "    </tr>\n",
       "    <tr>\n",
       "      <th>Actual default</th>\n",
       "      <td>574</td>\n",
       "      <td>216</td>\n",
       "    </tr>\n",
       "  </tbody>\n",
       "</table>\n",
       "</div>"
      ],
      "text/plain": [
       "                 Predicted no default  Predicted default\n",
       "Actul no defaul                  2868                149\n",
       "Actual default                    574                216"
      ]
     },
     "execution_count": 207,
     "metadata": {},
     "output_type": "execute_result"
    }
   ],
   "source": [
    "# confusion matrix: summarize different type of errors and successfully predicted cases\n",
    "# positive = \"yes\": explicitly specify the positive case\n",
    "cm1 = confusion_matrix(y_holdout, logit_class_prediction, labels=[0,1])\n",
    "cmt1df = pd.DataFrame(cm1, \n",
    "    index=['Actul no defaul', 'Actual default'], \n",
    "    columns=['Predicted no default', 'Predicted default'])\n",
    "cmt1df"
   ]
  },
  {
   "cell_type": "code",
   "execution_count": 208,
   "metadata": {},
   "outputs": [
    {
     "data": {
      "text/html": [
       "<div>\n",
       "<style scoped>\n",
       "    .dataframe tbody tr th:only-of-type {\n",
       "        vertical-align: middle;\n",
       "    }\n",
       "\n",
       "    .dataframe tbody tr th {\n",
       "        vertical-align: top;\n",
       "    }\n",
       "\n",
       "    .dataframe thead th {\n",
       "        text-align: right;\n",
       "    }\n",
       "</style>\n",
       "<table border=\"1\" class=\"dataframe\">\n",
       "  <thead>\n",
       "    <tr style=\"text-align: right;\">\n",
       "      <th></th>\n",
       "      <th>Predicted no default</th>\n",
       "      <th>Predicted default</th>\n",
       "    </tr>\n",
       "  </thead>\n",
       "  <tbody>\n",
       "    <tr>\n",
       "      <th>Actul no defaul</th>\n",
       "      <td>2868</td>\n",
       "      <td>149</td>\n",
       "    </tr>\n",
       "    <tr>\n",
       "      <th>Actual default</th>\n",
       "      <td>574</td>\n",
       "      <td>216</td>\n",
       "    </tr>\n",
       "  </tbody>\n",
       "</table>\n",
       "</div>"
      ],
      "text/plain": [
       "                 Predicted no default  Predicted default\n",
       "Actul no defaul                  2868                149\n",
       "Actual default                    574                216"
      ]
     },
     "execution_count": 208,
     "metadata": {},
     "output_type": "execute_result"
    }
   ],
   "source": [
    "# we can apply different thresholds\n",
    "\n",
    "# 0.5 same as before\n",
    "holdout_prediction = np.where(logit_predicted_probabilities_holdout < 0.5, 0, 1)\n",
    "cm_object1b = confusion_matrix(y_holdout, holdout_prediction, labels=[0,1])\n",
    "cm1b = pd.DataFrame(cm_object1b, \n",
    "    index=['Actul no defaul', 'Actual default'], \n",
    "    columns=['Predicted no default', 'Predicted default'])\n",
    "cm1b"
   ]
  },
  {
   "cell_type": "code",
   "execution_count": 209,
   "metadata": {},
   "outputs": [
    {
     "data": {
      "text/plain": [
       "0.20887453984161664"
      ]
     },
     "execution_count": 209,
     "metadata": {},
     "output_type": "execute_result"
    }
   ],
   "source": [
    "# a sensible choice: mean of predicted probabilities\n",
    "mean_predicted_default_prob = np.mean(logit_predicted_probabilities_holdout)\n",
    "mean_predicted_default_prob"
   ]
  },
  {
   "cell_type": "code",
   "execution_count": 210,
   "metadata": {},
   "outputs": [
    {
     "data": {
      "text/html": [
       "<div>\n",
       "<style scoped>\n",
       "    .dataframe tbody tr th:only-of-type {\n",
       "        vertical-align: middle;\n",
       "    }\n",
       "\n",
       "    .dataframe tbody tr th {\n",
       "        vertical-align: top;\n",
       "    }\n",
       "\n",
       "    .dataframe thead th {\n",
       "        text-align: right;\n",
       "    }\n",
       "</style>\n",
       "<table border=\"1\" class=\"dataframe\">\n",
       "  <thead>\n",
       "    <tr style=\"text-align: right;\">\n",
       "      <th></th>\n",
       "      <th>Predicted no default</th>\n",
       "      <th>Predicted default</th>\n",
       "    </tr>\n",
       "  </thead>\n",
       "  <tbody>\n",
       "    <tr>\n",
       "      <th>Actul no defaul</th>\n",
       "      <td>2175</td>\n",
       "      <td>842</td>\n",
       "    </tr>\n",
       "    <tr>\n",
       "      <th>Actual default</th>\n",
       "      <td>249</td>\n",
       "      <td>541</td>\n",
       "    </tr>\n",
       "  </tbody>\n",
       "</table>\n",
       "</div>"
      ],
      "text/plain": [
       "                 Predicted no default  Predicted default\n",
       "Actul no defaul                  2175                842\n",
       "Actual default                    249                541"
      ]
     },
     "execution_count": 210,
     "metadata": {},
     "output_type": "execute_result"
    }
   ],
   "source": [
    "holdout_prediction = np.where(logit_predicted_probabilities_holdout < mean_predicted_default_prob, 0, 1)\n",
    "cm_object2 = confusion_matrix(y_holdout, holdout_prediction, labels=[0,1])\n",
    "cm2 = pd.DataFrame(cm_object2, \n",
    "    index=['Actul no defaul', 'Actual default'], \n",
    "    columns=['Predicted no default', 'Predicted default'])\n",
    "cm2"
   ]
  },
  {
   "cell_type": "code",
   "execution_count": 211,
   "metadata": {
    "scrolled": false
   },
   "outputs": [
    {
     "data": {
      "image/png": "[encoded data removed]",
      "text/plain": [
       "<Figure size 640x480 with 1 Axes>"
      ]
     },
     "metadata": {},
     "output_type": "display_data"
    },
    {
     "data": {
      "text/plain": [
       "<ggplot: (316224847)>"
      ]
     },
     "execution_count": 211,
     "metadata": {},
     "output_type": "execute_result"
    }
   ],
   "source": [
    "holdout = pd.concat([best_model_X_holdout, y_holdout], axis=1)\n",
    "holdout[\"best_logit_no_loss_pred\"] = logit_predicted_probabilities_holdout\n",
    "create_calibration_plot(holdout, file_name = \"ch17-figure-1-logit-m4-calibration\",\\\n",
    "                        prob_var='best_logit_no_loss_pred', actual_var='default',\\\n",
    "                        y_lab=\"Actual event probability\", n_bins=10, breaks=None)"
   ]
  },
  {
   "cell_type": "markdown",
   "metadata": {},
   "source": [
    "# PART II.\n",
    "\n",
    "# We have a loss function"
   ]
  },
  {
   "cell_type": "code",
   "execution_count": 327,
   "metadata": {},
   "outputs": [],
   "source": [
    "# Introduce loss function\n",
    "# relative cost of of a false negative classification (as compared with a false positive classification)\n",
    "FP = 1\n",
    "FN = 10\n",
    "cost = FN/FP\n",
    "# the prevalence, or the proportion of cases in the population (n.cases/(n.controls+n.cases))\n",
    "prevelance = y_train.sum()/len(y_train)"
   ]
  },
  {
   "cell_type": "code",
   "execution_count": 595,
   "metadata": {},
   "outputs": [],
   "source": [
    "# Draw ROC Curve and find optimal threshold with loss function --------------------------\n",
    "\n",
    "best_thresholds_cv = dict()\n",
    "expected_loss_cv = dict()\n",
    "fold5_threshold = dict()\n",
    "fold5_expected_loss = dict()\n",
    "fold5_all_coords = dict()\n",
    "\n",
    "for i, model_name in enumerate(logit_models):\n",
    "    best_thresholds = []\n",
    "    expected_loss =[]\n",
    "    if model_name != 'LASSO':\n",
    "        X = logit_model_vars[i]\n",
    "        c_index = 0\n",
    "    else:\n",
    "        X = normalized_logitvars\n",
    "        c_index = best_lambda_i\n",
    "    fold = 0\n",
    "    for train_index, test_index in k.split(X):\n",
    "        X_fold = X.iloc[test_index,:]\n",
    "        y_fold = y_train.iloc[test_index]\n",
    "        pred_fold = generate_fold_prediction(logit_models[model_name], X_fold, fold, c_index)\n",
    "        false_pos_rate, true_pos_rate, thresholds = roc_curve(y_fold, pred_fold)\n",
    "        optimal_threshold = sorted(list(zip(\n",
    "            np.abs(true_pos_rate + (1 - prevelance)/(cost * prevelance)*(1-false_pos_rate)),\\\n",
    "                                       thresholds)), key=lambda i: i[0], reverse=True)[0][1]\n",
    "        best_thresholds.append(optimal_threshold)\n",
    "        threshold_prediction = np.where(pred_fold < optimal_threshold, 0, 1)\n",
    "        tn, fp, fn, tp = confusion_matrix(y_fold, threshold_prediction, labels=[0,1]).ravel()\n",
    "        curr_exp_loss = (fp*FP + fn*FN)/len(y_fold)\n",
    "        expected_loss.append(curr_exp_loss)\n",
    "        fold = fold+1\n",
    "\n",
    "    best_thresholds_cv[model_name] = np.mean(best_thresholds)\n",
    "    expected_loss_cv[model_name] = np.mean(expected_loss)\n",
    "\n",
    "    # for fold #5\n",
    "    fold5_threshold[model_name] = optimal_threshold\n",
    "    fold5_expected_loss[model_name] = curr_exp_loss\n",
    "\n",
    "    all_coords = pd.DataFrame({\n",
    "        'false_pos': false_pos_rate*sum(y_fold == 0),\n",
    "        'true_pos': true_pos_rate*sum(y_fold == 1),\n",
    "        'false_neg': sum(y_fold == 1) - true_pos_rate*sum(y_fold == 1),\n",
    "        'true_neg': sum(y_fold == 0) - false_pos_rate*sum(y_fold == 0),\n",
    "        'pos': sum(y_fold == 1),\n",
    "        'neg': sum(y_fold == 0),\n",
    "        'n': len(y_fold),\n",
    "        'thresholds': thresholds\n",
    "    })\n",
    "    \n",
    "    fold5_all_coords['model'] = all_coords"
   ]
  },
  {
   "cell_type": "code",
   "execution_count": 455,
   "metadata": {},
   "outputs": [],
   "source": [
    "logit_summary2 = pd.DataFrame(best_thresholds_cv.items(),columns=['Model', 'Avg of optimal thresholds'])\n",
    "logit_summary2['Threshold for Fold5'] = fold5_threshold.values()\n",
    "logit_summary2['Avg expected loss'] = expected_loss_cv.values()\n",
    "logit_summary2['Expected loss for Fold5'] = fold5_expected_loss.values()"
   ]
  },
  {
   "cell_type": "code",
   "execution_count": 456,
   "metadata": {
    "scrolled": true
   },
   "outputs": [
    {
     "data": {
      "text/html": [
       "<div>\n",
       "<style scoped>\n",
       "    .dataframe tbody tr th:only-of-type {\n",
       "        vertical-align: middle;\n",
       "    }\n",
       "\n",
       "    .dataframe tbody tr th {\n",
       "        vertical-align: top;\n",
       "    }\n",
       "\n",
       "    .dataframe thead th {\n",
       "        text-align: right;\n",
       "    }\n",
       "</style>\n",
       "<table border=\"1\" class=\"dataframe\">\n",
       "  <thead>\n",
       "    <tr style=\"text-align: right;\">\n",
       "      <th></th>\n",
       "      <th>Model</th>\n",
       "      <th>Avg of optimal thresholds</th>\n",
       "      <th>Threshold for Fold5</th>\n",
       "      <th>Avg expected loss</th>\n",
       "      <th>Expected loss for Fold5</th>\n",
       "    </tr>\n",
       "  </thead>\n",
       "  <tbody>\n",
       "    <tr>\n",
       "      <th>0</th>\n",
       "      <td>X1</td>\n",
       "      <td>0.082475</td>\n",
       "      <td>0.082683</td>\n",
       "      <td>0.727953</td>\n",
       "      <td>0.729721</td>\n",
       "    </tr>\n",
       "    <tr>\n",
       "      <th>1</th>\n",
       "      <td>X2</td>\n",
       "      <td>0.085205</td>\n",
       "      <td>0.084619</td>\n",
       "      <td>0.661632</td>\n",
       "      <td>0.648604</td>\n",
       "    </tr>\n",
       "    <tr>\n",
       "      <th>2</th>\n",
       "      <td>X3</td>\n",
       "      <td>0.090287</td>\n",
       "      <td>0.089162</td>\n",
       "      <td>0.634249</td>\n",
       "      <td>0.618062</td>\n",
       "    </tr>\n",
       "    <tr>\n",
       "      <th>3</th>\n",
       "      <td>X4</td>\n",
       "      <td>0.090899</td>\n",
       "      <td>0.097838</td>\n",
       "      <td>0.618358</td>\n",
       "      <td>0.593103</td>\n",
       "    </tr>\n",
       "    <tr>\n",
       "      <th>4</th>\n",
       "      <td>X5</td>\n",
       "      <td>0.095648</td>\n",
       "      <td>0.092412</td>\n",
       "      <td>0.622757</td>\n",
       "      <td>0.593760</td>\n",
       "    </tr>\n",
       "    <tr>\n",
       "      <th>5</th>\n",
       "      <td>LASSO</td>\n",
       "      <td>0.092846</td>\n",
       "      <td>0.096592</td>\n",
       "      <td>0.626894</td>\n",
       "      <td>0.596716</td>\n",
       "    </tr>\n",
       "  </tbody>\n",
       "</table>\n",
       "</div>"
      ],
      "text/plain": [
       "   Model  Avg of optimal thresholds  Threshold for Fold5  Avg expected loss  \\\n",
       "0     X1                   0.082475             0.082683           0.727953   \n",
       "1     X2                   0.085205             0.084619           0.661632   \n",
       "2     X3                   0.090287             0.089162           0.634249   \n",
       "3     X4                   0.090899             0.097838           0.618358   \n",
       "4     X5                   0.095648             0.092412           0.622757   \n",
       "5  LASSO                   0.092846             0.096592           0.626894   \n",
       "\n",
       "   Expected loss for Fold5  \n",
       "0                 0.729721  \n",
       "1                 0.648604  \n",
       "2                 0.618062  \n",
       "3                 0.593103  \n",
       "4                 0.593760  \n",
       "5                 0.596716  "
      ]
     },
     "execution_count": 456,
     "metadata": {},
     "output_type": "execute_result"
    }
   ],
   "source": [
    "logit_summary2"
   ]
  },
  {
   "cell_type": "code",
   "execution_count": 482,
   "metadata": {},
   "outputs": [
    {
     "data": {
      "image/png": "[encoded data removed]",
      "text/plain": [
       "<Figure size 640x480 with 1 Axes>"
      ]
     },
     "metadata": {},
     "output_type": "display_data"
    },
    {
     "data": {
      "text/plain": [
       "<ggplot: (315207277)>"
      ]
     },
     "execution_count": 482,
     "metadata": {},
     "output_type": "execute_result"
    }
   ],
   "source": [
    "# Create plots based on Fold5 in CV ----------------------------------------------\n",
    "\n",
    "#TODO: put this into function create_loss_plot and run for all models\n",
    "#TODO: try to do hjust, vjust\n",
    "all_coords['loss'] = (all_coords.false_pos*FP + all_coords.false_neg*FN)/all_coords.n\n",
    "all_coords['sp'] = all_coords.true_neg/all_coords.neg\n",
    "all_coords['se'] = all_coords.true_pos/all_coords.pos\n",
    "\n",
    "best_coords = all_coords[all_coords.thresholds == optimal_threshold]\n",
    "t = optimal_threshold\n",
    "sp = best_coords.sp.values[0]\n",
    "se = best_coords.se.values[0]\n",
    "l = curr_exp_loss\n",
    "\n",
    "ggplot(all_coords, aes(x = 'thresholds', y = 'loss')) + \\\n",
    "    geom_line(color=color[0], size=0.7) + \\\n",
    "    scale_x_continuous(breaks = seq(0, 1.1, by = 0.1)) + \\\n",
    "    coord_cartesian(xlim=(0,1))+ \\\n",
    "    geom_vline(xintercept = t , color = color[0] ) + \\\n",
    "    annotate(geom = \"text\", x = t - 0.01, y= max(all_coords.loss) - 0.4,\n",
    "             label=\"best threshold: \" + str(round(t,2)),\n",
    "             colour=color[1], angle=90, size = 7) +\\\n",
    "    annotate(geom = \"text\", x = t + 0.04, y= l,\\\n",
    "             label= str(round(l, 2)), size = 7) +\\\n",
    "    theme_bw()"
   ]
  },
  {
   "cell_type": "code",
   "execution_count": 488,
   "metadata": {},
   "outputs": [
    {
     "data": {
      "image/png": "[encoded data removed]",
      "text/plain": [
       "<Figure size 640x480 with 1 Axes>"
      ]
     },
     "metadata": {},
     "output_type": "display_data"
    },
    {
     "data": {
      "text/plain": [
       "<ggplot: (315647467)>"
      ]
     },
     "execution_count": 488,
     "metadata": {},
     "output_type": "execute_result"
    }
   ],
   "source": [
    "#TODO: put this into function create_roc_plot_with_optimal and run for all models\n",
    "#TODO: try to do hjust, vjust\n",
    "\n",
    "ggplot(all_coords, aes(x = 'sp', y = 'se')) +\\\n",
    "    geom_line(color=color[0], size=0.7) +\\\n",
    "    scale_y_continuous(breaks = seq(0, 1.1, by = 0.1)) +\\\n",
    "    scale_x_reverse(breaks = seq(0, 1, by = 0.1)) +\\\n",
    "    geom_point(data = pd.DataFrame({'sp': [sp], 'se': [se]})) +\\\n",
    "    annotate(geom = \"text\", x = sp, y = se + 0.03,\n",
    "             label = str(round(sp, 2)) + ', ' + str(round(se, 2)), size = 7) +\\\n",
    "    theme_bw()"
   ]
  },
  {
   "cell_type": "code",
   "execution_count": 458,
   "metadata": {},
   "outputs": [
    {
     "data": {
      "text/plain": [
       "0.6393485684265826"
      ]
     },
     "execution_count": 458,
     "metadata": {},
     "output_type": "execute_result"
    }
   ],
   "source": [
    "# Pick best model based on average expected loss ----------------------------------\n",
    "#X4\n",
    "best_logit_optimal_treshold = best_tresholds_cv[\"X4\"]\n",
    "\n",
    "# Get expected loss on holdout\n",
    "holdout_treshold = np.where(logit_predicted_probabilities_holdout < best_logit_optimal_treshold, 0, 1)\n",
    "tn, fp, fn, tp = confusion_matrix(y_holdout, holdout_treshold, labels=[0,1]).ravel()\n",
    "expected_loss_holdout = (fp*FP + fn*FN)/len(y_holdout)\n",
    "expected_loss_holdout"
   ]
  },
  {
   "cell_type": "code",
   "execution_count": 459,
   "metadata": {},
   "outputs": [
    {
     "data": {
      "text/html": [
       "<div>\n",
       "<style scoped>\n",
       "    .dataframe tbody tr th:only-of-type {\n",
       "        vertical-align: middle;\n",
       "    }\n",
       "\n",
       "    .dataframe tbody tr th {\n",
       "        vertical-align: top;\n",
       "    }\n",
       "\n",
       "    .dataframe thead th {\n",
       "        text-align: right;\n",
       "    }\n",
       "</style>\n",
       "<table border=\"1\" class=\"dataframe\">\n",
       "  <thead>\n",
       "    <tr style=\"text-align: right;\">\n",
       "      <th></th>\n",
       "      <th>Predicted no default</th>\n",
       "      <th>Predicted default</th>\n",
       "    </tr>\n",
       "  </thead>\n",
       "  <tbody>\n",
       "    <tr>\n",
       "      <th>Actul no defaul</th>\n",
       "      <td>1253</td>\n",
       "      <td>1764</td>\n",
       "    </tr>\n",
       "    <tr>\n",
       "      <th>Actual default</th>\n",
       "      <td>67</td>\n",
       "      <td>723</td>\n",
       "    </tr>\n",
       "  </tbody>\n",
       "</table>\n",
       "</div>"
      ],
      "text/plain": [
       "                 Predicted no default  Predicted default\n",
       "Actul no defaul                  1253               1764\n",
       "Actual default                     67                723"
      ]
     },
     "execution_count": 459,
     "metadata": {},
     "output_type": "execute_result"
    }
   ],
   "source": [
    "cm_object3 = confusion_matrix(y_holdout, holdout_treshold, labels=[0,1])\n",
    "cm3 = pd.DataFrame(cm_object3, \n",
    "    index=['Actul no defaul', 'Actual default'], \n",
    "    columns=['Predicted no default', 'Predicted default'])\n",
    "cm3"
   ]
  },
  {
   "cell_type": "markdown",
   "metadata": {},
   "source": [
    "# PREDICTION WITH RANDOM FOREST"
   ]
  },
  {
   "cell_type": "markdown",
   "metadata": {},
   "source": [
    "## Graph example"
   ]
  },
  {
   "cell_type": "code",
   "execution_count": 617,
   "metadata": {},
   "outputs": [],
   "source": [
    "#TODO"
   ]
  },
  {
   "cell_type": "markdown",
   "metadata": {},
   "source": [
    "## Probability forest\n",
    "\n",
    "Split by gini, ratio of 1's in each tree, average over trees"
   ]
  },
  {
   "cell_type": "code",
   "execution_count": 490,
   "metadata": {},
   "outputs": [],
   "source": [
    "from sklearn.ensemble import RandomForestClassifier"
   ]
  },
  {
   "cell_type": "code",
   "execution_count": 609,
   "metadata": {},
   "outputs": [],
   "source": [
    "rfvars_train = rfvars.iloc[index_train]\n",
    "rfvars_holdout = rfvars.iloc[index_holdout]"
   ]
  },
  {
   "cell_type": "code",
   "execution_count": 491,
   "metadata": {},
   "outputs": [],
   "source": [
    "grid = {'max_features': [5, 6, 7],\n",
    "        'criterion':['gini'],\n",
    "        'min_samples_split': [10, 15]}"
   ]
  },
  {
   "cell_type": "code",
   "execution_count": 510,
   "metadata": {},
   "outputs": [],
   "source": [
    "prob_forest = RandomForestClassifier(random_state=42, n_estimators=500, oob_score=True)\n",
    "prob_forest_grid = GridSearchCV(prob_forest, grid, cv=k, refit='accuracy',\n",
    "                                scoring = ['accuracy', 'roc_auc', 'neg_brier_score'], n_jobs=-1)"
   ]
  },
  {
   "cell_type": "code",
   "execution_count": 511,
   "metadata": {},
   "outputs": [],
   "source": [
    "prob_forest_fit = prob_forest_grid.fit(rfvars_train, y_train)"
   ]
  },
  {
   "cell_type": "code",
   "execution_count": 539,
   "metadata": {},
   "outputs": [],
   "source": [
    "#create CV summary table\n",
    "cv_accuracy = np.zeros([6])\n",
    "for i in range(5):\n",
    "    cv_accuracy = cv_accuracy + prob_forest_fit.cv_results_['split' + str(i) + '_test_accuracy']\n",
    "cv_accuracy = cv_accuracy/5\n",
    "\n",
    "cv_auc = np.zeros([6])\n",
    "for i in range(5):\n",
    "    cv_auc = cv_auc + prob_forest_fit.cv_results_['split' + str(i) + '_test_roc_auc']\n",
    "cv_auc = cv_auc/5\n",
    "\n",
    "cv_rmse = np.zeros([6])\n",
    "for i in range(5):\n",
    "    cv_rmse = cv_rmse +np.sqrt(-1*(prob_forest_fit.cv_results_['split' + str(i) + '_test_neg_brier_score'])).tolist()\n",
    "cv_rmse = cv_rmse/5\n",
    "\n",
    "prob_forest_cv_results = pd.DataFrame({\n",
    "    'max_features': prob_forest_fit.cv_results_['param_max_features'],\n",
    "    'min_samples_split': prob_forest_fit.cv_results_['param_min_samples_split'],\n",
    "    'cv_accuracy': cv_accuracy,\n",
    "    'cv_auc': cv_auc,\n",
    "    'cv_rmse': cv_rmse\n",
    "})"
   ]
  },
  {
   "cell_type": "code",
   "execution_count": 538,
   "metadata": {},
   "outputs": [
    {
     "data": {
      "text/html": [
       "<div>\n",
       "<style scoped>\n",
       "    .dataframe tbody tr th:only-of-type {\n",
       "        vertical-align: middle;\n",
       "    }\n",
       "\n",
       "    .dataframe tbody tr th {\n",
       "        vertical-align: top;\n",
       "    }\n",
       "\n",
       "    .dataframe thead th {\n",
       "        text-align: right;\n",
       "    }\n",
       "</style>\n",
       "<table border=\"1\" class=\"dataframe\">\n",
       "  <thead>\n",
       "    <tr style=\"text-align: right;\">\n",
       "      <th></th>\n",
       "      <th>max_features</th>\n",
       "      <th>min_samples_split</th>\n",
       "      <th>cv_accuracy</th>\n",
       "      <th>cv_auc</th>\n",
       "      <th>cv_rmse</th>\n",
       "    </tr>\n",
       "  </thead>\n",
       "  <tbody>\n",
       "    <tr>\n",
       "      <th>0</th>\n",
       "      <td>5</td>\n",
       "      <td>10</td>\n",
       "      <td>0.826712</td>\n",
       "      <td>0.809361</td>\n",
       "      <td>0.354228</td>\n",
       "    </tr>\n",
       "    <tr>\n",
       "      <th>1</th>\n",
       "      <td>5</td>\n",
       "      <td>15</td>\n",
       "      <td>0.825924</td>\n",
       "      <td>0.809080</td>\n",
       "      <td>0.354268</td>\n",
       "    </tr>\n",
       "    <tr>\n",
       "      <th>2</th>\n",
       "      <td>6</td>\n",
       "      <td>10</td>\n",
       "      <td>0.826581</td>\n",
       "      <td>0.808828</td>\n",
       "      <td>0.354100</td>\n",
       "    </tr>\n",
       "    <tr>\n",
       "      <th>3</th>\n",
       "      <td>6</td>\n",
       "      <td>15</td>\n",
       "      <td>0.826844</td>\n",
       "      <td>0.809201</td>\n",
       "      <td>0.353919</td>\n",
       "    </tr>\n",
       "    <tr>\n",
       "      <th>4</th>\n",
       "      <td>7</td>\n",
       "      <td>10</td>\n",
       "      <td>0.827697</td>\n",
       "      <td>0.809079</td>\n",
       "      <td>0.353938</td>\n",
       "    </tr>\n",
       "    <tr>\n",
       "      <th>5</th>\n",
       "      <td>7</td>\n",
       "      <td>15</td>\n",
       "      <td>0.826712</td>\n",
       "      <td>0.808496</td>\n",
       "      <td>0.354218</td>\n",
       "    </tr>\n",
       "  </tbody>\n",
       "</table>\n",
       "</div>"
      ],
      "text/plain": [
       "  max_features min_samples_split  cv_accuracy    cv_auc   cv_rmse\n",
       "0            5                10     0.826712  0.809361  0.354228\n",
       "1            5                15     0.825924  0.809080  0.354268\n",
       "2            6                10     0.826581  0.808828  0.354100\n",
       "3            6                15     0.826844  0.809201  0.353919\n",
       "4            7                10     0.827697  0.809079  0.353938\n",
       "5            7                15     0.826712  0.808496  0.354218"
      ]
     },
     "execution_count": 538,
     "metadata": {},
     "output_type": "execute_result"
    }
   ],
   "source": [
    "prob_forest_cv_results"
   ]
  },
  {
   "cell_type": "code",
   "execution_count": 501,
   "metadata": {},
   "outputs": [
    {
     "data": {
      "text/plain": [
       "{'criterion': 'gini', 'max_features': 7, 'min_samples_split': 10}"
      ]
     },
     "execution_count": 501,
     "metadata": {},
     "output_type": "execute_result"
    }
   ],
   "source": [
    "#obtain optimal parameter values\n",
    "best_mtry = prob_forest_fit.best_params_['max_features']\n",
    "best_min_node_size = prob_forest_fit.best_params_['min_samples_split']\n",
    "prob_forest_fit.best_params_"
   ]
  },
  {
   "cell_type": "code",
   "execution_count": 671,
   "metadata": {},
   "outputs": [],
   "source": [
    "# Get average (ie over the folds) RMSE and AUC ------------------------------------\n",
    "prob_forest_best_results = prob_forest_cv_results[(prob_forest_cv_results.max_features == best_mtry) & \n",
    "                      (prob_forest_cv_results.min_samples_split == best_min_node_size)]\n",
    "prob_forest_best_results_index = prob_forest_best_results.index.values[0]\n",
    "\n",
    "CV_RMSE['rf_p'] = prob_forest_best_results.cv_rmse.values[0]\n",
    "CV_AUC['rf_p'] = prob_forest_best_results.cv_auc.values[0]"
   ]
  },
  {
   "cell_type": "code",
   "execution_count": 560,
   "metadata": {},
   "outputs": [],
   "source": [
    "# Get fold level RMSE and AUC ------------------------------------\n",
    "\n",
    "CV_RMSE_folds_rf_p = list()\n",
    "for i in range(5):\n",
    "    rmse = np.sqrt(-1*(prob_forest_fit.cv_results_['split' + str(i) + '_test_neg_brier_score'])).tolist()[prob_forest_best_results_index]\n",
    "    CV_RMSE_folds_rf_p.append(rmse)\n",
    "CV_RMSE_folds['rf_p'] = CV_RMSE_folds_rf_p\n",
    "\n",
    "CV_AUC_folds_rf_p = list()\n",
    "for i in range(5):\n",
    "    rmse = prob_forest_fit.cv_results_['split' + str(i) + '_test_roc_auc'][prob_forest_best_results_index]\n",
    "    CV_AUC_folds_rf_p.append(rmse)\n",
    "CV_AUC_folds['rf_p'] = CV_AUC_folds_rf_p"
   ]
  },
  {
   "cell_type": "code",
   "execution_count": 596,
   "metadata": {},
   "outputs": [],
   "source": [
    "# Now use loss function and search for best thresholds and expected loss over folds -----\n",
    "\n",
    "prob_forest_fit_best = prob_forest_fit.best_estimator_\n",
    "\n",
    "best_thresholds = list()\n",
    "expected_loss = list()\n",
    "\n",
    "fold = 0\n",
    "for train_index, test_index in k.split(rfvars_train):\n",
    "    X_fold = rfvars_train.iloc[test_index,:]\n",
    "    y_fold = y_train.iloc[test_index]\n",
    "    pred_fold = prob_forest_fit_best.predict_proba(X_fold)[:,1]\n",
    "\n",
    "    false_pos_rate, true_pos_rate, threshold = roc_curve(y_fold, pred_fold)\n",
    "    best_threshold = sorted(list(zip(np.abs(true_pos_rate + (1 - prevelance)/(cost * prevelance)*(1-false_pos_rate)),\\\n",
    "                                       threshold)), key=lambda x: x[0], reverse=True)[0][1]\n",
    "    best_thresholds.append(best_threshold)\n",
    "    threshold_prediction = np.where(pred_fold < best_threshold, 0, 1)\n",
    "    tn, fp, fn, tp = confusion_matrix(y_fold, threshold_prediction, labels=[0,1]).ravel()\n",
    "    curr_exp_loss = (fp*FP + fn*FN)/len(y_fold)\n",
    "    expected_loss.append(curr_exp_loss)"
   ]
  },
  {
   "cell_type": "code",
   "execution_count": 648,
   "metadata": {},
   "outputs": [],
   "source": [
    "expected_loss_cv['rf_p'] = np.mean(expected_loss)\n",
    "best_thresholds_cv['rf_p'] = np.mean(best_thresholds)"
   ]
  },
  {
   "cell_type": "code",
   "execution_count": 608,
   "metadata": {},
   "outputs": [
    {
     "data": {
      "text/html": [
       "<div>\n",
       "<style scoped>\n",
       "    .dataframe tbody tr th:only-of-type {\n",
       "        vertical-align: middle;\n",
       "    }\n",
       "\n",
       "    .dataframe tbody tr th {\n",
       "        vertical-align: top;\n",
       "    }\n",
       "\n",
       "    .dataframe thead th {\n",
       "        text-align: right;\n",
       "    }\n",
       "</style>\n",
       "<table border=\"1\" class=\"dataframe\">\n",
       "  <thead>\n",
       "    <tr style=\"text-align: right;\">\n",
       "      <th></th>\n",
       "      <th>CV RMSE</th>\n",
       "      <th>CV AUC</th>\n",
       "      <th>Avg of optimal thresholds</th>\n",
       "      <th>Threshold for Fold5</th>\n",
       "      <th>Avg expected loss</th>\n",
       "      <th>Expected loss for Fold5</th>\n",
       "    </tr>\n",
       "  </thead>\n",
       "  <tbody>\n",
       "    <tr>\n",
       "      <th>0</th>\n",
       "      <td>0.353938</td>\n",
       "      <td>0.809079</td>\n",
       "      <td>0.330464</td>\n",
       "      <td>0.329591</td>\n",
       "      <td>0.017861</td>\n",
       "      <td>0.017734</td>\n",
       "    </tr>\n",
       "  </tbody>\n",
       "</table>\n",
       "</div>"
      ],
      "text/plain": [
       "    CV RMSE    CV AUC  Avg of optimal thresholds  Threshold for Fold5  \\\n",
       "0  0.353938  0.809079                   0.330464             0.329591   \n",
       "\n",
       "   Avg expected loss  Expected loss for Fold5  \n",
       "0           0.017861                 0.017734  "
      ]
     },
     "execution_count": 608,
     "metadata": {},
     "output_type": "execute_result"
    }
   ],
   "source": [
    "#TODO: very low values because we are using the best fit model trained on whole train data\n",
    "rf_summary = pd.DataFrame(\n",
    "    {'CV RMSE': [CV_RMSE['rf_p']],\n",
    "     'CV AUC': [CV_AUC['rf_p']],\n",
    "     'Avg of optimal thresholds': [best_thresholds_cv['rf_p']],\n",
    "     'Threshold for Fold5': [best_threshold],\n",
    "     'Avg expected loss': [expected_loss_cv['rf_p']],\n",
    "     'Expected loss for Fold5': [curr_exp_loss]})\n",
    "\n",
    "rf_summary"
   ]
  },
  {
   "cell_type": "code",
   "execution_count": null,
   "metadata": {},
   "outputs": [],
   "source": [
    "# Create plots based on Fold5 in CV ----------------------------------------------\n",
    "# TODO"
   ]
  },
  {
   "cell_type": "code",
   "execution_count": 610,
   "metadata": {},
   "outputs": [
    {
     "data": {
      "text/plain": [
       "0.35712202165667933"
      ]
     },
     "execution_count": 610,
     "metadata": {},
     "output_type": "execute_result"
    }
   ],
   "source": [
    "# Take model to holdout and estimate RMSE, AUC and expected loss ------------------------------------\n",
    "rf_predicted_probabilities_holdout = prob_forest_fit_best.predict_proba(rfvars_holdout)[:,1]\n",
    "np.sqrt(mean_squared_error(y_holdout, rf_predicted_probabilities_holdout))"
   ]
  },
  {
   "cell_type": "code",
   "execution_count": 611,
   "metadata": {},
   "outputs": [
    {
     "data": {
      "text/plain": [
       "0.8059875893145593"
      ]
     },
     "execution_count": 611,
     "metadata": {},
     "output_type": "execute_result"
    }
   ],
   "source": [
    "# ROC AUC  on holdout\n",
    "roc_auc_score(y_holdout, rf_predicted_probabilities_holdout)"
   ]
  },
  {
   "cell_type": "code",
   "execution_count": 616,
   "metadata": {},
   "outputs": [
    {
     "data": {
      "text/plain": [
       "1.0249540320462307"
      ]
     },
     "execution_count": 616,
     "metadata": {},
     "output_type": "execute_result"
    }
   ],
   "source": [
    "# Get expected loss on holdout\n",
    "holdout_treshold = np.where(rf_predicted_probabilities_holdout < best_thresholds_cv['rf_p'], 0, 1)\n",
    "tn, fp, fn, tp = confusion_matrix(y_holdout, holdout_treshold, labels=[0,1]).ravel()\n",
    "expected_loss_holdout = (fp*FP + fn*FN)/len(y_holdout)\n",
    "expected_loss_holdout"
   ]
  },
  {
   "cell_type": "markdown",
   "metadata": {},
   "source": [
    "## Classification forest\n",
    "\n",
    "Split by Gini, majority vote in each tree, majority vote over trees\n",
    "\n",
    "Show expected loss with classification RF and default majority voting to compare"
   ]
  },
  {
   "cell_type": "code",
   "execution_count": 618,
   "metadata": {},
   "outputs": [],
   "source": [
    "#currently no method implemented in python for this"
   ]
  },
  {
   "cell_type": "markdown",
   "metadata": {},
   "source": [
    "## Final results"
   ]
  },
  {
   "cell_type": "code",
   "execution_count": 666,
   "metadata": {},
   "outputs": [],
   "source": [
    "#Note: in R length(rfvars) counts 1 for category variables (39), here they count category number-1 (44)\n",
    "nvars['rf_p'] = len(rfvars.columns)"
   ]
  },
  {
   "cell_type": "code",
   "execution_count": 672,
   "metadata": {},
   "outputs": [],
   "source": [
    "summary_results = pd.DataFrame({\"Model\": list(nvars.keys()),\n",
    "                              \"Number of predictors\": list(nvars.values()),\n",
    "                              \"CV RMSE\": list(CV_RMSE.values()),\n",
    "                              \"CV AUC\": list(CV_AUC.values()),\n",
    "                              \"CV threshold\": list(best_thresholds_cv.values()),\n",
    "                              \"CV expected Loss\": list(expected_loss_cv.values())\n",
    "                               })"
   ]
  },
  {
   "cell_type": "code",
   "execution_count": 673,
   "metadata": {},
   "outputs": [
    {
     "data": {
      "text/html": [
       "<div>\n",
       "<style scoped>\n",
       "    .dataframe tbody tr th:only-of-type {\n",
       "        vertical-align: middle;\n",
       "    }\n",
       "\n",
       "    .dataframe tbody tr th {\n",
       "        vertical-align: top;\n",
       "    }\n",
       "\n",
       "    .dataframe thead th {\n",
       "        text-align: right;\n",
       "    }\n",
       "</style>\n",
       "<table border=\"1\" class=\"dataframe\">\n",
       "  <thead>\n",
       "    <tr style=\"text-align: right;\">\n",
       "      <th></th>\n",
       "      <th>Model</th>\n",
       "      <th>Number of predictors</th>\n",
       "      <th>CV RMSE</th>\n",
       "      <th>CV AUC</th>\n",
       "      <th>CV threshold</th>\n",
       "      <th>CV expected Loss</th>\n",
       "    </tr>\n",
       "  </thead>\n",
       "  <tbody>\n",
       "    <tr>\n",
       "      <th>0</th>\n",
       "      <td>X1</td>\n",
       "      <td>11</td>\n",
       "      <td>0.374183</td>\n",
       "      <td>0.736470</td>\n",
       "      <td>0.082475</td>\n",
       "      <td>0.727953</td>\n",
       "    </tr>\n",
       "    <tr>\n",
       "      <th>1</th>\n",
       "      <td>X2</td>\n",
       "      <td>18</td>\n",
       "      <td>0.365753</td>\n",
       "      <td>0.770553</td>\n",
       "      <td>0.085205</td>\n",
       "      <td>0.661632</td>\n",
       "    </tr>\n",
       "    <tr>\n",
       "      <th>2</th>\n",
       "      <td>X3</td>\n",
       "      <td>35</td>\n",
       "      <td>0.364411</td>\n",
       "      <td>0.778423</td>\n",
       "      <td>0.090287</td>\n",
       "      <td>0.634249</td>\n",
       "    </tr>\n",
       "    <tr>\n",
       "      <th>3</th>\n",
       "      <td>X4</td>\n",
       "      <td>79</td>\n",
       "      <td>0.361714</td>\n",
       "      <td>0.784750</td>\n",
       "      <td>0.090899</td>\n",
       "      <td>0.618358</td>\n",
       "    </tr>\n",
       "    <tr>\n",
       "      <th>4</th>\n",
       "      <td>X5</td>\n",
       "      <td>153</td>\n",
       "      <td>0.361229</td>\n",
       "      <td>0.786242</td>\n",
       "      <td>0.095648</td>\n",
       "      <td>0.622757</td>\n",
       "    </tr>\n",
       "    <tr>\n",
       "      <th>5</th>\n",
       "      <td>LASSO</td>\n",
       "      <td>120</td>\n",
       "      <td>0.360821</td>\n",
       "      <td>0.786736</td>\n",
       "      <td>0.092846</td>\n",
       "      <td>0.626894</td>\n",
       "    </tr>\n",
       "    <tr>\n",
       "      <th>6</th>\n",
       "      <td>rf_p</td>\n",
       "      <td>44</td>\n",
       "      <td>0.353938</td>\n",
       "      <td>0.809079</td>\n",
       "      <td>0.330464</td>\n",
       "      <td>0.017861</td>\n",
       "    </tr>\n",
       "  </tbody>\n",
       "</table>\n",
       "</div>"
      ],
      "text/plain": [
       "   Model  Number of predictors   CV RMSE    CV AUC  CV threshold  \\\n",
       "0     X1                    11  0.374183  0.736470      0.082475   \n",
       "1     X2                    18  0.365753  0.770553      0.085205   \n",
       "2     X3                    35  0.364411  0.778423      0.090287   \n",
       "3     X4                    79  0.361714  0.784750      0.090899   \n",
       "4     X5                   153  0.361229  0.786242      0.095648   \n",
       "5  LASSO                   120  0.360821  0.786736      0.092846   \n",
       "6   rf_p                    44  0.353938  0.809079      0.330464   \n",
       "\n",
       "   CV expected Loss  \n",
       "0          0.727953  \n",
       "1          0.661632  \n",
       "2          0.634249  \n",
       "3          0.618358  \n",
       "4          0.622757  \n",
       "5          0.626894  \n",
       "6          0.017861  "
      ]
     },
     "execution_count": 673,
     "metadata": {},
     "output_type": "execute_result"
    }
   ],
   "source": [
    "summary_results"
   ]
  }
 ],
 "metadata": {
  "kernelspec": {
   "display_name": "Python 3",
   "language": "python",
   "name": "python3"
  },
  "language_info": {
   "codemirror_mode": {
    "name": "ipython",
    "version": 3
   },
   "file_extension": ".py",
   "mimetype": "text/x-python",
   "name": "python",
   "nbconvert_exporter": "python",
   "pygments_lexer": "ipython3",
   "version": "3.8.6"
  }
 },
 "nbformat": 4,
 "nbformat_minor": 4
}
