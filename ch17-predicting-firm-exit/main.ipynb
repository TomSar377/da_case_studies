{
 "cells": [
  {
   "cell_type": "code",
   "execution_count": 31,
   "metadata": {},
   "outputs": [],
   "source": [
    "import os\n",
    "from pathlib import Path\n",
    "import pandas as pd\n",
    "import numpy as np\n",
    "import sys\n",
    "import re"
   ]
  },
  {
   "cell_type": "code",
   "execution_count": 2,
   "metadata": {},
   "outputs": [],
   "source": [
    "path = Path(os.getcwd())\n",
    "base_dir = path.parent.parent"
   ]
  },
  {
   "cell_type": "code",
   "execution_count": 3,
   "metadata": {},
   "outputs": [],
   "source": [
    "#Windows format\n",
    "data_in = os.path.join(str(base_dir) , \"da_data_repo\\\\bisnode-firms\\\\clean\\\\\")\n",
    "data_out = os.path.join(str(base_dir) , \"da_data_repo\\\\bisnode-firms\\\\\")\n",
    "output = os.path.join(data_out,'output')\n",
    "func = os.path.join(str(base_dir) ,   \"da_case_studies\\\\ch00-tech-prep\\\\\")"
   ]
  },
  {
   "cell_type": "code",
   "execution_count": 4,
   "metadata": {},
   "outputs": [],
   "source": [
    "current_csv_path = os.path.join(data_out,\"bisnode_firms_clean.csv\")\n",
    "data = pd.read_csv(current_csv_path)"
   ]
  },
  {
   "cell_type": "code",
   "execution_count": 11,
   "metadata": {},
   "outputs": [
    {
     "name": "stdout",
     "output_type": "stream",
     "text": [
      "<class 'pandas.core.frame.DataFrame'>\n",
      "RangeIndex: 19036 entries, 0 to 19035\n",
      "Data columns (total 118 columns):\n",
      " #   Column                          Dtype  \n",
      "---  ------                          -----  \n",
      " 0   year                            int64  \n",
      " 1   comp_id                         float64\n",
      " 2   begin                           object \n",
      " 3   end                             object \n",
      " 4   amort                           float64\n",
      " 5   curr_assets                     float64\n",
      " 6   curr_liab                       float64\n",
      " 7   extra_exp                       float64\n",
      " 8   extra_inc                       float64\n",
      " 9   extra_profit_loss               float64\n",
      " 10  fixed_assets                    float64\n",
      " 11  inc_bef_tax                     float64\n",
      " 12  intang_assets                   float64\n",
      " 13  inventories                     float64\n",
      " 14  liq_assets                      float64\n",
      " 15  material_exp                    float64\n",
      " 16  personnel_exp                   float64\n",
      " 17  profit_loss_year                float64\n",
      " 18  sales                           float64\n",
      " 19  share_eq                        float64\n",
      " 20  subscribed_cap                  float64\n",
      " 21  tang_assets                     float64\n",
      " 22  D                               float64\n",
      " 23  balsheet_flag                   float64\n",
      " 24  balsheet_length                 float64\n",
      " 25  balsheet_notfullyear            float64\n",
      " 26  founded_year                    float64\n",
      " 27  exit_year                       float64\n",
      " 28  ceo_count                       float64\n",
      " 29  foreign                         float64\n",
      " 30  female                          float64\n",
      " 31  birth_year                      float64\n",
      " 32  inoffice_days                   float64\n",
      " 33  gender                          object \n",
      " 34  origin                          object \n",
      " 35  nace_main                       float64\n",
      " 36  ind2                            float64\n",
      " 37  ind                             float64\n",
      " 38  urban_m                         float64\n",
      " 39  region_m                        object \n",
      " 40  founded_date                    object \n",
      " 41  exit_date                       object \n",
      " 42  status_alive                    int64  \n",
      " 43  default                         int64  \n",
      " 44  ln_sales                        float64\n",
      " 45  sales_mil                       float64\n",
      " 46  sales_mil_log                   float64\n",
      " 47  d1_sales_mil_log                float64\n",
      " 48  age                             float64\n",
      " 49  new                             float64\n",
      " 50  ind2_cat                        float64\n",
      " 51  age2                            float64\n",
      " 52  foreign_management              float64\n",
      " 53  gender_m                        object \n",
      " 54  m_region_loc                    object \n",
      " 55  flag_asset_problem              float64\n",
      " 56  total_assets_bs                 float64\n",
      " 57  extra_exp_pl                    float64\n",
      " 58  extra_inc_pl                    float64\n",
      " 59  extra_profit_loss_pl            float64\n",
      " 60  inc_bef_tax_pl                  float64\n",
      " 61  inventories_pl                  float64\n",
      " 62  material_exp_pl                 float64\n",
      " 63  profit_loss_year_pl             float64\n",
      " 64  personnel_exp_pl                float64\n",
      " 65  intang_assets_bs                float64\n",
      " 66  curr_liab_bs                    float64\n",
      " 67  fixed_assets_bs                 float64\n",
      " 68  liq_assets_bs                   float64\n",
      " 69  curr_assets_bs                  float64\n",
      " 70  share_eq_bs                     float64\n",
      " 71  subscribed_cap_bs               float64\n",
      " 72  tang_assets_bs                  float64\n",
      " 73  extra_exp_pl_flag_high          float64\n",
      " 74  extra_inc_pl_flag_high          float64\n",
      " 75  inventories_pl_flag_high        float64\n",
      " 76  material_exp_pl_flag_high       float64\n",
      " 77  personnel_exp_pl_flag_high      float64\n",
      " 78  curr_liab_bs_flag_high          float64\n",
      " 79  liq_assets_bs_flag_high         float64\n",
      " 80  subscribed_cap_bs_flag_high     float64\n",
      " 81  extra_exp_pl_flag_error         float64\n",
      " 82  extra_inc_pl_flag_error         float64\n",
      " 83  inventories_pl_flag_error       float64\n",
      " 84  material_exp_pl_flag_error      float64\n",
      " 85  personnel_exp_pl_flag_error     float64\n",
      " 86  curr_liab_bs_flag_error         float64\n",
      " 87  liq_assets_bs_flag_error        float64\n",
      " 88  subscribed_cap_bs_flag_error    float64\n",
      " 89  extra_profit_loss_pl_flag_low   float64\n",
      " 90  inc_bef_tax_pl_flag_low         float64\n",
      " 91  profit_loss_year_pl_flag_low    float64\n",
      " 92  share_eq_bs_flag_low            float64\n",
      " 93  extra_profit_loss_pl_flag_high  float64\n",
      " 94  inc_bef_tax_pl_flag_high        float64\n",
      " 95  profit_loss_year_pl_flag_high   float64\n",
      " 96  share_eq_bs_flag_high           float64\n",
      " 97  extra_profit_loss_pl_flag_zero  float64\n",
      " 98  inc_bef_tax_pl_flag_zero        float64\n",
      " 99  profit_loss_year_pl_flag_zero   float64\n",
      " 100 share_eq_bs_flag_zero           float64\n",
      " 101 extra_profit_loss_pl_quad       float64\n",
      " 102 inc_bef_tax_pl_quad             float64\n",
      " 103 profit_loss_year_pl_quad        float64\n",
      " 104 share_eq_bs_quad                float64\n",
      " 105 ceo_age                         float64\n",
      " 106 flag_low_ceo_age                int64  \n",
      " 107 flag_high_ceo_age               int64  \n",
      " 108 flag_miss_ceo_age               int64  \n",
      " 109 ceo_young                       int64  \n",
      " 110 labor_avg_mod                   float64\n",
      " 111 flag_miss_labor_avg             int64  \n",
      " 112 default_f                       object \n",
      " 113 sales_mil_log_sq                float64\n",
      " 114 flag_low_d1_sales_mil_log       int64  \n",
      " 115 flag_high_d1_sales_mil_log      int64  \n",
      " 116 d1_sales_mil_log_mod            float64\n",
      " 117 d1_sales_mil_log_mod_sq         float64\n",
      "dtypes: float64(98), int64(10), object(10)\n",
      "memory usage: 17.1+ MB\n"
     ]
    }
   ],
   "source": [
    "data.info(verbose=True)"
   ]
  },
  {
   "cell_type": "code",
   "execution_count": 19,
   "metadata": {},
   "outputs": [
    {
     "ename": "NameError",
     "evalue": "name 'engvar3' is not defined",
     "output_type": "error",
     "traceback": [
      "\u001b[1;31m---------------------------------------------------------------------------\u001b[0m",
      "\u001b[1;31mNameError\u001b[0m                                 Traceback (most recent call last)",
      "\u001b[1;32m<ipython-input-19-4065fe33678d>\u001b[0m in \u001b[0;36m<module>\u001b[1;34m\u001b[0m\n\u001b[0;32m     31\u001b[0m       \"foreign_management\" , \"ind2_cat\"]\n\u001b[0;32m     32\u001b[0m \u001b[0mX3\u001b[0m \u001b[1;33m=\u001b[0m \u001b[1;33m[\u001b[0m\u001b[1;34m\"sales_mil_log\"\u001b[0m\u001b[1;33m,\u001b[0m \u001b[1;34m\"sales_mil_log_sq\"\u001b[0m\u001b[1;33m,\u001b[0m \u001b[0mfirm\u001b[0m\u001b[1;33m,\u001b[0m \u001b[0mengvar\u001b[0m\u001b[1;33m,\u001b[0m                   \u001b[0md1\u001b[0m\u001b[1;33m]\u001b[0m\u001b[1;33m\u001b[0m\u001b[1;33m\u001b[0m\u001b[0m\n\u001b[1;32m---> 33\u001b[1;33m \u001b[0mX4\u001b[0m \u001b[1;33m=\u001b[0m \u001b[1;33m[\u001b[0m\u001b[1;34m\"sales_mil_log\"\u001b[0m\u001b[1;33m,\u001b[0m \u001b[1;34m\"sales_mil_log_sq\"\u001b[0m\u001b[1;33m,\u001b[0m \u001b[0mfirm\u001b[0m\u001b[1;33m,\u001b[0m \u001b[0mengvar\u001b[0m\u001b[1;33m,\u001b[0m \u001b[0mengvar2\u001b[0m\u001b[1;33m,\u001b[0m \u001b[0mengvar3\u001b[0m\u001b[1;33m,\u001b[0m \u001b[0md1\u001b[0m\u001b[1;33m,\u001b[0m \u001b[0mhr\u001b[0m\u001b[1;33m,\u001b[0m \u001b[0mqualityvars\u001b[0m\u001b[1;33m]\u001b[0m\u001b[1;33m\u001b[0m\u001b[1;33m\u001b[0m\u001b[0m\n\u001b[0m\u001b[0;32m     34\u001b[0m \u001b[0mX5\u001b[0m \u001b[1;33m=\u001b[0m \u001b[1;33m[\u001b[0m\u001b[1;34m\"sales_mil_log\"\u001b[0m\u001b[1;33m,\u001b[0m \u001b[1;34m\"sales_mil_log_sq\"\u001b[0m\u001b[1;33m,\u001b[0m \u001b[0mfirm\u001b[0m\u001b[1;33m,\u001b[0m \u001b[0mengvar\u001b[0m\u001b[1;33m,\u001b[0m \u001b[0mengvar2\u001b[0m\u001b[1;33m,\u001b[0m \u001b[0mengvar3\u001b[0m\u001b[1;33m,\u001b[0m \u001b[0md1\u001b[0m\u001b[1;33m,\u001b[0m \u001b[0mhr\u001b[0m\u001b[1;33m,\u001b[0m \u001b[0mqualityvars\u001b[0m\u001b[1;33m,\u001b[0m \u001b[0minteractions1\u001b[0m\u001b[1;33m,\u001b[0m \u001b[0minteractions2\u001b[0m\u001b[1;33m]\u001b[0m\u001b[1;33m\u001b[0m\u001b[1;33m\u001b[0m\u001b[0m\n",
      "\u001b[1;31mNameError\u001b[0m: name 'engvar3' is not defined"
     ]
    }
   ],
   "source": [
    "rawvars = [\"curr_assets\", \"curr_liab\", \"extra_exp\", \"extra_inc\", \"extra_profit_loss\", \"fixed_assets\",\n",
    "              \"inc_bef_tax\", \"intang_assets\", \"inventories\", \"liq_assets\", \"material_exp\", \"personnel_exp\",\n",
    "              \"profit_loss_year\", \"sales\", \"share_eq\", \"subscribed_cap\"]\n",
    "qualityvars = [\"balsheet_flag\", \"balsheet_length\", \"balsheet_notfullyear\"]\n",
    "engvar = [\"total_assets_bs\", \"fixed_assets_bs\", \"liq_assets_bs\", \"curr_assets_bs\",\n",
    "            \"share_eq_bs\", \"subscribed_cap_bs\", \"intang_assets_bs\", \"extra_exp_pl\",\n",
    "            \"extra_inc_pl\", \"extra_profit_loss_pl\", \"inc_bef_tax_pl\", \"inventories_pl\",\n",
    "            \"material_exp_pl\", \"profit_loss_year_pl\", \"personnel_exp_pl\"]\n",
    "engvar2 = [\"extra_profit_loss_pl_quad\", \"inc_bef_tax_pl_quad\",\n",
    "             \"profit_loss_year_pl_quad\", \"share_eq_bs_quad\"]\n",
    "\n",
    "\n",
    "d1 =  [\"d1_sales_mil_log_mod\", \"d1_sales_mil_log_mod_sq\",\n",
    "         \"flag_low_d1_sales_mil_log\", \"flag_high_d1_sales_mil_log\"]\n",
    "hr = [\"female\", \"ceo_age\", \"flag_high_ceo_age\", \"flag_low_ceo_age\",\n",
    "        \"flag_miss_ceo_age\", \"ceo_count\", \"labor_avg_mod\",\n",
    "        \"flag_miss_labor_avg\", \"foreign_management\"]\n",
    "firm = [\"age\", \"age2\", \"new\", \"ind2_cat\", \"m_region_loc\", \"urban_m\"]\n",
    "\n",
    "# interactions for logit, LASSO\n",
    "interactions1 = [\"ind2_cat*age\", \"ind2_cat*age2\",\n",
    "                   \"ind2_cat*d1_sales_mil_log_mod\", \"ind2_cat*sales_mil_log\",\n",
    "                   \"ind2_cat*ceo_age\", \"ind2_cat*foreign_management\",\n",
    "                   \"ind2_cat*female\",   \"ind2_cat*urban_m\", \"ind2_cat*labor_avg_mod\"]\n",
    "interactions2 = [\"sales_mil_log*age\", \"sales_mil_log*female\",\n",
    "                   \"sales_mil_log*profit_loss_year_pl\", \"sales_mil_log*foreign_management\"]\n",
    "\n",
    "X1 = [\"sales_mil_log\", \"sales_mil_log_sq\", \"d1_sales_mil_log_mod\", \"profit_loss_year_pl\", \"ind2_cat\"]\n",
    "X2 = [\"sales_mil_log\", \"sales_mil_log_sq\", \"d1_sales_mil_log_mod\", \"profit_loss_year_pl\", \"fixed_assets_bs\",\n",
    "      \"share_eq_bs\",\"curr_liab_bs \",   \"curr_liab_bs_flag_high \", \"curr_liab_bs_flag_error\",  \"age\",\n",
    "      \"foreign_management\" , \"ind2_cat\"]\n",
    "X3 = [\"sales_mil_log\", \"sales_mil_log_sq\", firm, engvar,                   d1]\n",
    "X4 = [\"sales_mil_log\", \"sales_mil_log_sq\", firm, engvar, engvar2, engvar3, d1, hr, qualityvars]\n",
    "X5 = [\"sales_mil_log\", \"sales_mil_log_sq\", firm, engvar, engvar2, engvar3, d1, hr, qualityvars, interactions1, interactions2]\n"
   ]
  },
  {
   "cell_type": "code",
   "execution_count": 30,
   "metadata": {},
   "outputs": [
    {
     "data": {
      "text/plain": [
       "['extra_profit_loss_pl_flag_low',\n",
       " 'inc_bef_tax_pl_flag_low',\n",
       " 'profit_loss_year_pl_flag_low',\n",
       " 'share_eq_bs_flag_low',\n",
       " 'flag_low_ceo_age',\n",
       " 'flag_low_d1_sales_mil_log']"
      ]
     },
     "execution_count": 30,
     "metadata": {},
     "output_type": "execute_result"
    }
   ],
   "source": [
    "for col in data.columns if ('flag_low') in col:\n",
    "    \n",
    "flag_columns"
   ]
  },
  {
   "cell_type": "code",
   "execution_count": null,
   "metadata": {},
   "outputs": [],
   "source": [
    " \"profit_loss_year_pl_quad\", \"share_eq_bs_quad\")\n",
    "engvar3 <- c(grep(\"*flag_low$\", names(data), value = TRUE),\n",
    "             grep(\"*flag_high$\", names(data), value = TRUE),\n",
    "             grep(\"*flag_error$\", names(data), value = TRUE),\n",
    "             grep(\"*flag_zero$\", names(data), value = TRUE))"
   ]
  }
 ],
 "metadata": {
  "kernelspec": {
   "display_name": "Python 3",
   "language": "python",
   "name": "python3"
  },
  "language_info": {
   "codemirror_mode": {
    "name": "ipython",
    "version": 3
   },
   "file_extension": ".py",
   "mimetype": "text/x-python",
   "name": "python",
   "nbconvert_exporter": "python",
   "pygments_lexer": "ipython3",
   "version": "3.8.5"
  }
 },
 "nbformat": 4,
 "nbformat_minor": 4
}
