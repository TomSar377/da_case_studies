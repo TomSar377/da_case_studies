{
 "cells": [
  {
   "cell_type": "code",
   "execution_count": 1,
   "metadata": {},
   "outputs": [],
   "source": [
    "import pdb\n",
    "import os\n",
    "from pathlib import Path\n",
    "import pandas as pd\n",
    "import numpy as np\n",
    "import random\n",
    "import sys\n",
    "import patsy\n",
    "import statsmodels.api as sm\n",
    "import statsmodels.formula.api as smf\n",
    "from stargazer.stargazer import Stargazer\n",
    "from sklearn.linear_model import LinearRegression\n",
    "from sklearn.linear_model import LogisticRegression\n",
    "from sklearn.linear_model import LogisticRegressionCV\n",
    "from sklearn.model_selection import train_test_split\n",
    "from sklearn.model_selection import GridSearchCV\n",
    "from sklearn.model_selection import KFold\n",
    "from sklearn.model_selection import cross_val_score\n",
    "from sklearn import metrics\n",
    "from sklearn.metrics import brier_score_loss\n",
    "from sklearn.metrics import roc_curve\n",
    "from sklearn.metrics import auc\n",
    "from sklearn.metrics import confusion_matrix\n",
    "from sklearn.metrics import roc_auc_score\n",
    "from sklearn.metrics import mean_squared_error\n",
    "from plotnine import *\n",
    "import matplotlib.pyplot as plt\n",
    "\n",
    "import warnings\n",
    "warnings.filterwarnings('ignore')"
   ]
  },
  {
   "cell_type": "code",
   "execution_count": 2,
   "metadata": {},
   "outputs": [],
   "source": [
    "# Import the prewritten helper functions \n",
    "from py_helper_functions import *"
   ]
  },
  {
   "cell_type": "code",
   "execution_count": 3,
   "metadata": {},
   "outputs": [],
   "source": [
    "path = Path(os.getcwd())\n",
    "base_dir = path.parent.parent"
   ]
  },
  {
   "cell_type": "code",
   "execution_count": 4,
   "metadata": {},
   "outputs": [],
   "source": [
    "#Windows format\n",
    "data_in = os.path.join(str(base_dir) , \"da_data_repo\\\\bisnode-firms\\\\clean\\\\\")\n",
    "data_out = os.path.join(str(base_dir) , \"da_data_repo\\\\bisnode-firms\\\\\")\n",
    "output = os.path.join(data_out,'output')\n",
    "func = os.path.join(str(base_dir) ,   \"da_case_studies\\\\ch00-tech-prep\\\\\")"
   ]
  },
  {
   "cell_type": "code",
   "execution_count": 5,
   "metadata": {},
   "outputs": [],
   "source": [
    "current_csv_path = os.path.join(data_out,\"bisnode_firms_clean.csv\")\n",
    "data = pd.read_csv(current_csv_path)"
   ]
  },
  {
   "cell_type": "code",
   "execution_count": 6,
   "metadata": {},
   "outputs": [],
   "source": [
    "# Define variable sets ----------------------------------------------\n",
    "# (making sure we use categories)\n",
    "data['urban_m'] = data['urban_m'].astype(\"category\")\n",
    "data['ind2_cat'] = data['ind2_cat'].astype(\"category\")\n",
    "data['m_region_loc'] = data['region_m'].astype(\"category\")\n",
    "\n",
    "rawvars = [\"curr_assets\", \"curr_liab\", \"extra_exp\", \"extra_inc\", \"extra_profit_loss\", \"fixed_assets\",\n",
    "              \"inc_bef_tax\", \"intang_assets\", \"inventories\", \"liq_assets\", \"material_exp\", \"personnel_exp\",\n",
    "              \"profit_loss_year\", \"sales\", \"share_eq\", \"subscribed_cap\"]\n",
    "qualityvars = [\"balsheet_flag\", \"balsheet_length\", \"balsheet_notfullyear\"]\n",
    "engvar = [\"total_assets_bs\", \"fixed_assets_bs\", \"liq_assets_bs\", \"curr_assets_bs\",\n",
    "            \"share_eq_bs\", \"subscribed_cap_bs\", \"intang_assets_bs\", \"extra_exp_pl\",\n",
    "            \"extra_inc_pl\", \"extra_profit_loss_pl\", \"inc_bef_tax_pl\", \"inventories_pl\",\n",
    "            \"material_exp_pl\", \"profit_loss_year_pl\", \"personnel_exp_pl\"]\n",
    "engvar2 = [\"extra_profit_loss_pl_quad\", \"inc_bef_tax_pl_quad\",\n",
    "             \"profit_loss_year_pl_quad\", \"share_eq_bs_quad\"]\n",
    "engvar3=[]\n",
    "for col in data.columns:\n",
    "    if col.endswith('flag_low') or col.endswith('flag_high') or col.endswith('flag_error') or col.endswith('flag_zero'):\n",
    "        engvar3.append(col)\n",
    "\n",
    "\n",
    "d1 =  [\"d1_sales_mil_log_mod\", \"d1_sales_mil_log_mod_sq\",\n",
    "         \"flag_low_d1_sales_mil_log\", \"flag_high_d1_sales_mil_log\"]\n",
    "hr = [\"female\", \"ceo_age\", \"flag_high_ceo_age\", \"flag_low_ceo_age\",\n",
    "        \"flag_miss_ceo_age\", \"ceo_count\", \"labor_avg_mod\",\n",
    "        \"flag_miss_labor_avg\", \"foreign_management\"]"
   ]
  },
  {
   "cell_type": "code",
   "execution_count": 7,
   "metadata": {},
   "outputs": [],
   "source": [
    "#Creat dummy columns from category variables and drop first level\n",
    "\n",
    "ind2_catmat = patsy.dmatrix(\"0 + C(ind2_cat)\",data, return_type=\"dataframe\")\n",
    "ind2_catmat = ind2_catmat.drop(['C(ind2_cat)[26.0]'], axis=1)\n",
    "\n",
    "m_region_locmat = patsy.dmatrix(\"0 + C(m_region_loc)\",data, return_type=\"dataframe\")\n",
    "m_region_locmat = m_region_locmat.drop(['C(m_region_loc)[Central]'], axis=1)\n",
    "\n",
    "urban_mmat = patsy.dmatrix(\"0 + C(urban_m)\",data, return_type=\"dataframe\")\n",
    "urban_mmat = urban_mmat.drop(['C(urban_m)[1.0]'], axis=1)"
   ]
  },
  {
   "cell_type": "code",
   "execution_count": 8,
   "metadata": {},
   "outputs": [],
   "source": [
    "basevars = data[[\"sales_mil_log\", \"sales_mil_log_sq\", \"d1_sales_mil_log_mod\", \"profit_loss_year_pl\"]]\n",
    "\n",
    "# Define X1\n",
    "X1 = pd.concat([basevars, ind2_catmat], axis=1)\n",
    "# Define X2\n",
    "X2additional_vars = data[[\"fixed_assets_bs\", \"share_eq_bs\",\"curr_liab_bs\", \"curr_liab_bs_flag_high\", \\\n",
    "                          \"curr_liab_bs_flag_error\",  \"age\", \"foreign_management\"]]\n",
    "X2 = pd.concat([X1, X2additional_vars], axis=1)\n",
    "# Define X3\n",
    "firm = pd.concat([data[[\"age\", \"age2\", \"new\"]], ind2_catmat, m_region_locmat,urban_mmat], axis=1)\n",
    "X3 = pd.concat([data[[\"sales_mil_log\", \"sales_mil_log_sq\"] + engvar + d1], firm], axis=1)\n",
    "# Define X4\n",
    "X4 = pd.concat([data[[\"sales_mil_log\", \"sales_mil_log_sq\"] + engvar + d1 \\\n",
    "                                 + engvar2 + engvar3 + hr + qualityvars], firm], axis=1)"
   ]
  },
  {
   "cell_type": "code",
   "execution_count": 9,
   "metadata": {
    "scrolled": true
   },
   "outputs": [],
   "source": [
    "# Define X5\n",
    "#Creat matrix for interactions1 variables\n",
    "int1mat = patsy.dmatrix(\"0 + C(ind2_cat):age + C(ind2_cat):age2 + C(ind2_cat):d1_sales_mil_log_mod \\\n",
    "                + C(ind2_cat):sales_mil_log + C(ind2_cat):ceo_age + C(ind2_cat):foreign_management \\\n",
    "                + C(ind2_cat):female + C(ind2_cat):C(urban_m) + C(ind2_cat):labor_avg_mod\", data, return_type=\"dataframe\")\n",
    "#Drop first level to get k-1 dummies out of k categorical levels \n",
    "for col in int1mat.columns:\n",
    "    if col.startswith('C(ind2_cat)[26.0]') or col.endswith('C(urban_m)[1.0]'):\n",
    "        int1mat = int1mat.drop([col], axis=1)\n",
    "        \n",
    "#Creat matrix for interactions2 variables        \n",
    "int2mat = patsy.dmatrix(\"0 + sales_mil_log:age + sales_mil_log:female + sales_mil_log:profit_loss_year_pl \\\n",
    "                + sales_mil_log:foreign_management\", data, return_type=\"dataframe\")\n",
    "X5 = pd.concat([X4, int1mat, int2mat], axis=1)"
   ]
  },
  {
   "cell_type": "code",
   "execution_count": 10,
   "metadata": {},
   "outputs": [],
   "source": [
    "# Define logitvars for LASSO\n",
    "logitvars = pd.concat([X4, int1mat, int2mat], axis=1)"
   ]
  },
  {
   "cell_type": "code",
   "execution_count": 11,
   "metadata": {},
   "outputs": [],
   "source": [
    "# Define rfvars for RF (no interactions, no modified features)\n",
    "rfvars  = pd.concat([data[[\"sales_mil\", \"d1_sales_mil_log\"] + rawvars + hr + qualityvars], firm], axis=1)"
   ]
  },
  {
   "cell_type": "code",
   "execution_count": 12,
   "metadata": {},
   "outputs": [],
   "source": [
    "y = data['default']"
   ]
  },
  {
   "cell_type": "code",
   "execution_count": 13,
   "metadata": {},
   "outputs": [],
   "source": [
    "import sklearn.metrics as metrics\n",
    "def regression_results(reg,y_true, y_pred):\n",
    "\n",
    "    # Regression metrics\n",
    "    explained_variance=metrics.explained_variance_score(y_true, y_pred)\n",
    "    mean_absolute_error=metrics.mean_absolute_error(y_true, y_pred) \n",
    "    mse=metrics.mean_squared_error(y_true, y_pred) \n",
    "    median_absolute_error=metrics.median_absolute_error(y_true, y_pred)\n",
    "    r2=metrics.r2_score(y_true, y_pred)\n",
    "\n",
    "    print('Intercept:',reg.intercept_)\n",
    "    print('explained_variance: ', round(explained_variance,4))    \n",
    "    print('r2: ', round(r2,4))\n",
    "    print('MAE: ', round(mean_absolute_error,4))\n",
    "    print('MSE: ', round(mse,4))\n",
    "    print('RMSE: ', round(np.sqrt(mse),4))"
   ]
  },
  {
   "cell_type": "code",
   "execution_count": 14,
   "metadata": {},
   "outputs": [
    {
     "name": "stdout",
     "output_type": "stream",
     "text": [
      "Intercept: 0.018155308163654543\n",
      "explained_variance:  0.1204\n",
      "r2:  0.1204\n",
      "MAE:  0.2852\n",
      "MSE:  0.1419\n",
      "RMSE:  0.3766\n",
      "                       0         0\n",
      "0          sales_mil_log -0.007481\n",
      "1       sales_mil_log_sq  0.005824\n",
      "2   d1_sales_mil_log_mod -0.056779\n",
      "3    profit_loss_year_pl -0.169230\n",
      "4      C(ind2_cat)[27.0]  0.019950\n",
      "5      C(ind2_cat)[28.0]  0.012457\n",
      "6      C(ind2_cat)[29.0]  0.049450\n",
      "7      C(ind2_cat)[30.0]  0.001055\n",
      "8      C(ind2_cat)[33.0]  0.001636\n",
      "9      C(ind2_cat)[55.0] -0.004769\n",
      "10     C(ind2_cat)[56.0]  0.105632\n"
     ]
    }
   ],
   "source": [
    "# Check simplest model X1\n",
    "ols_modelx1 = LinearRegression().fit(X1, y)\n",
    "regression_results(ols_modelx1, y, ols_modelx1.predict(X1))\n",
    "print (pd.concat([pd.DataFrame(X1.columns),pd.DataFrame(np.transpose(ols_modelx1.coef_))], axis = 1))"
   ]
  },
  {
   "cell_type": "code",
   "execution_count": 15,
   "metadata": {},
   "outputs": [
    {
     "name": "stdout",
     "output_type": "stream",
     "text": [
      "Intercept: [-3.23027285]\n",
      "explained_variance:  -0.0601\n",
      "r2:  -0.1993\n",
      "MAE:  0.1934\n",
      "MSE:  0.1934\n",
      "RMSE:  0.4398\n",
      "                       0         0\n",
      "0          sales_mil_log -0.323186\n",
      "1       sales_mil_log_sq -0.001676\n",
      "2   d1_sales_mil_log_mod -0.366168\n",
      "3    profit_loss_year_pl -0.858115\n",
      "4      C(ind2_cat)[27.0]  0.168237\n",
      "5      C(ind2_cat)[28.0]  0.066164\n",
      "6      C(ind2_cat)[29.0]  0.515958\n",
      "7      C(ind2_cat)[30.0]  0.017364\n",
      "8      C(ind2_cat)[33.0] -0.002646\n",
      "9      C(ind2_cat)[55.0]  0.039307\n",
      "10     C(ind2_cat)[56.0]  0.843962\n"
     ]
    }
   ],
   "source": [
    "glm_modelx1 = LogisticRegression(solver=\"newton-cg\",max_iter=1000, penalty=\"none\").fit(X1, y)\n",
    "regression_results(glm_modelx1, y, glm_modelx1.predict(X1))\n",
    "print (pd.concat([pd.DataFrame(X1.columns),pd.DataFrame(np.transpose(glm_modelx1.coef_))], axis = 1))"
   ]
  },
  {
   "cell_type": "code",
   "execution_count": 16,
   "metadata": {},
   "outputs": [
    {
     "name": "stdout",
     "output_type": "stream",
     "text": [
      "Intercept: [-2.35056904]\n",
      "explained_variance:  -0.0527\n",
      "r2:  -0.1592\n",
      "MAE:  0.187\n",
      "MSE:  0.187\n",
      "RMSE:  0.4324\n",
      "                          0         0\n",
      "0             sales_mil_log -0.180310\n",
      "1          sales_mil_log_sq  0.015300\n",
      "2      d1_sales_mil_log_mod -0.482108\n",
      "3       profit_loss_year_pl -0.450082\n",
      "4         C(ind2_cat)[27.0]  0.145493\n",
      "5         C(ind2_cat)[28.0]  0.032691\n",
      "6         C(ind2_cat)[29.0]  0.406298\n",
      "7         C(ind2_cat)[30.0] -0.033016\n",
      "8         C(ind2_cat)[33.0] -0.157819\n",
      "9         C(ind2_cat)[55.0]  0.128748\n",
      "10        C(ind2_cat)[56.0]  0.463619\n",
      "11          fixed_assets_bs -0.811012\n",
      "12              share_eq_bs -0.388092\n",
      "13             curr_liab_bs  0.171157\n",
      "14   curr_liab_bs_flag_high  0.135359\n",
      "15  curr_liab_bs_flag_error  0.318083\n",
      "16                      age -0.035304\n",
      "17       foreign_management  0.215923\n"
     ]
    }
   ],
   "source": [
    "# Check model X2\n",
    "glm_modelx2 = LogisticRegression(solver=\"newton-cg\", max_iter=1000, penalty=\"none\").fit(X2, y)\n",
    "regression_results(glm_modelx2, y, glm_modelx2.predict(X2))\n",
    "print (pd.concat([pd.DataFrame(X2.columns),pd.DataFrame(np.transpose(glm_modelx2.coef_))], axis = 1))"
   ]
  },
  {
   "cell_type": "code",
   "execution_count": 17,
   "metadata": {},
   "outputs": [
    {
     "name": "stdout",
     "output_type": "stream",
     "text": [
      "Optimization terminated successfully.\n",
      "         Current function value: 0.423258\n",
      "         Iterations 7\n",
      "        Logit Marginal Effects       \n",
      "=====================================\n",
      "Dep. Variable:                default\n",
      "Method:                          dydx\n",
      "At:                           overall\n",
      "===========================================================================================\n",
      "                             dy/dx    std err          z      P>|z|      [0.025      0.975]\n",
      "-------------------------------------------------------------------------------------------\n",
      "sales_mil_log              -0.0242      0.006     -4.015      0.000      -0.036      -0.012\n",
      "sales_mil_log_sq            0.0021      0.001      2.464      0.014       0.000       0.004\n",
      "d1_sales_mil_log_mod       -0.0646      0.005    -12.868      0.000      -0.074      -0.055\n",
      "profit_loss_year_pl        -0.0603      0.008     -7.740      0.000      -0.076      -0.045\n",
      "C(ind2_cat)[27.0]           0.0195      0.024      0.829      0.407      -0.027       0.066\n",
      "C(ind2_cat)[28.0]           0.0044      0.018      0.238      0.812      -0.032       0.040\n",
      "C(ind2_cat)[29.0]           0.0545      0.030      1.816      0.069      -0.004       0.113\n",
      "C(ind2_cat)[30.0]          -0.0044      0.039     -0.113      0.910      -0.082       0.073\n",
      "C(ind2_cat)[33.0]          -0.0212      0.018     -1.161      0.245      -0.057       0.015\n",
      "C(ind2_cat)[55.0]           0.0173      0.018      0.985      0.324      -0.017       0.052\n",
      "C(ind2_cat)[56.0]           0.0622      0.015      4.068      0.000       0.032       0.092\n",
      "fixed_assets_bs            -0.1087      0.008    -12.793      0.000      -0.125      -0.092\n",
      "share_eq_bs                -0.0520      0.006     -8.414      0.000      -0.064      -0.040\n",
      "curr_liab_bs                0.0229      0.012      1.865      0.062      -0.001       0.047\n",
      "curr_liab_bs_flag_high      0.0181      0.010      1.812      0.070      -0.001       0.038\n",
      "curr_liab_bs_flag_error     0.0426      0.115      0.370      0.711      -0.183       0.269\n",
      "age                        -0.0047      0.000    -10.545      0.000      -0.006      -0.004\n",
      "foreign_management          0.0290      0.009      3.182      0.001       0.011       0.047\n",
      "===========================================================================================\n"
     ]
    }
   ],
   "source": [
    "mx2 = sm.Logit(y,sm.add_constant(X2)).fit().get_margeff()\n",
    "print(mx2.summary())"
   ]
  },
  {
   "cell_type": "code",
   "execution_count": 18,
   "metadata": {},
   "outputs": [
    {
     "name": "stdout",
     "output_type": "stream",
     "text": [
      "Intercept: 0.18397884210964152\n",
      "explained_variance:  0.1924\n",
      "r2:  0.1924\n",
      "MAE:  0.2646\n",
      "MSE:  0.1303\n",
      "RMSE:  0.3609\n",
      "                 Features         Coeff\n",
      "0           sales_mil_log  3.937242e-03\n",
      "1        sales_mil_log_sq  3.264151e-03\n",
      "2         total_assets_bs  5.475821e-10\n",
      "3         fixed_assets_bs -1.360564e-01\n",
      "4           liq_assets_bs -1.602016e-02\n",
      "..                    ...           ...\n",
      "74      C(ind2_cat)[56.0]  5.406954e-02\n",
      "75  C(m_region_loc)[East]  1.015797e-02\n",
      "76  C(m_region_loc)[West] -1.783071e-02\n",
      "77        C(urban_m)[2.0]  8.293544e-03\n",
      "78        C(urban_m)[3.0] -9.986761e-04\n",
      "\n",
      "[79 rows x 2 columns]\n"
     ]
    }
   ],
   "source": [
    "# baseline model is X4 (all vars, but no interactions) -------------------------------------------------------\n",
    "ols_model = LinearRegression().fit(X4, y)\n",
    "regression_results(ols_model, y, ols_model.predict(X4))\n",
    "print (pd.DataFrame({'Features': X4.columns, 'Coeff': ols_model.coef_}))"
   ]
  },
  {
   "cell_type": "code",
   "execution_count": 19,
   "metadata": {
    "scrolled": true
   },
   "outputs": [
    {
     "name": "stdout",
     "output_type": "stream",
     "text": [
      "Intercept: [-2.41269162]\n",
      "explained_variance:  -0.038\n",
      "r2:  -0.1205\n",
      "MAE:  0.1807\n",
      "MSE:  0.1807\n",
      "RMSE:  0.4251\n",
      "                        0             0\n",
      "0           sales_mil_log -2.065526e-01\n",
      "1        sales_mil_log_sq -3.902705e-03\n",
      "2         total_assets_bs  7.326026e-09\n",
      "3         fixed_assets_bs -5.993993e-01\n",
      "4           liq_assets_bs -1.115235e-01\n",
      "..                    ...           ...\n",
      "74      C(ind2_cat)[56.0]  4.661485e-01\n",
      "75  C(m_region_loc)[East]  6.236118e-02\n",
      "76  C(m_region_loc)[West] -1.626176e-01\n",
      "77        C(urban_m)[2.0]  1.444063e-02\n",
      "78        C(urban_m)[3.0] -5.060501e-02\n",
      "\n",
      "[79 rows x 2 columns]\n"
     ]
    }
   ],
   "source": [
    "glm_model = LogisticRegression(solver=\"newton-cg\",max_iter=1000, penalty=\"none\").fit(X4, y)\n",
    "regression_results(glm_model, y, glm_model.predict(X4))\n",
    "print (pd.concat([pd.DataFrame(X4.columns),pd.DataFrame(np.transpose(glm_model.coef_))], axis = 1))"
   ]
  },
  {
   "cell_type": "code",
   "execution_count": 20,
   "metadata": {
    "scrolled": true
   },
   "outputs": [
    {
     "name": "stdout",
     "output_type": "stream",
     "text": [
      "Warning: Maximum number of iterations has been exceeded.\n",
      "         Current function value: 0.409571\n",
      "         Iterations: 35\n",
      "        Logit Marginal Effects       \n",
      "=====================================\n",
      "Dep. Variable:                default\n",
      "Method:                          dydx\n",
      "At:                           overall\n",
      "==================================================================================================\n",
      "                                    dy/dx    std err          z      P>|z|      [0.025      0.975]\n",
      "--------------------------------------------------------------------------------------------------\n",
      "sales_mil_log                     -0.0266      0.008     -3.422      0.001      -0.042      -0.011\n",
      "sales_mil_log_sq                  -0.0005      0.001     -0.496      0.620      -0.002       0.001\n",
      "total_assets_bs                 9.459e-10   3.19e-09      0.297      0.767    -5.3e-09    7.19e-09\n",
      "fixed_assets_bs                   -0.0786      0.137     -0.573      0.566      -0.347       0.190\n",
      "liq_assets_bs                     -0.0144      0.011     -1.324      0.186      -0.036       0.007\n",
      "curr_assets_bs                     0.0232      0.137      0.169      0.865      -0.246       0.292\n",
      "share_eq_bs                       -0.0386      0.009     -4.265      0.000      -0.056      -0.021\n",
      "subscribed_cap_bs                  0.0106      0.013      0.844      0.399      -0.014       0.035\n",
      "intang_assets_bs                  -0.0186      0.146     -0.127      0.899      -0.305       0.268\n",
      "extra_exp_pl                       0.0318      0.180      0.176      0.860      -0.321       0.385\n",
      "extra_inc_pl                       0.2488      0.248      1.004      0.316      -0.237       0.735\n",
      "extra_profit_loss_pl              -0.1409      0.193     -0.731      0.465      -0.519       0.237\n",
      "inc_bef_tax_pl                    -0.0879      0.048     -1.816      0.069      -0.183       0.007\n",
      "inventories_pl                    -0.0795      0.019     -4.088      0.000      -0.118      -0.041\n",
      "material_exp_pl                   -0.0002      0.017     -0.012      0.991      -0.034       0.033\n",
      "profit_loss_year_pl                0.0701      0.048      1.463      0.144      -0.024       0.164\n",
      "personnel_exp_pl                  -0.0371      0.016     -2.355      0.019      -0.068      -0.006\n",
      "d1_sales_mil_log_mod              -0.0553      0.007     -8.091      0.000      -0.069      -0.042\n",
      "d1_sales_mil_log_mod_sq            0.0606      0.008      7.905      0.000       0.046       0.076\n",
      "flag_low_d1_sales_mil_log         -0.0644      0.019     -3.432      0.001      -0.101      -0.028\n",
      "flag_high_d1_sales_mil_log         0.0081      0.027      0.304      0.761      -0.044       0.060\n",
      "extra_profit_loss_pl_quad         -0.0170      0.146     -0.117      0.907      -0.303       0.269\n",
      "inc_bef_tax_pl_quad                0.0860      0.059      1.471      0.141      -0.029       0.201\n",
      "profit_loss_year_pl_quad           0.0255      0.063      0.408      0.684      -0.097       0.148\n",
      "share_eq_bs_quad                   0.0068      0.012      0.563      0.573      -0.017       0.031\n",
      "extra_exp_pl_flag_high            -0.1282      0.271     -0.473      0.636      -0.659       0.402\n",
      "extra_inc_pl_flag_high            -0.0072      0.302     -0.024      0.981      -0.598       0.584\n",
      "inventories_pl_flag_high           0.0616      0.023      2.700      0.007       0.017       0.106\n",
      "material_exp_pl_flag_high          0.0003      0.009      0.032      0.975      -0.017       0.017\n",
      "personnel_exp_pl_flag_high         0.0500      0.015      3.280      0.001       0.020       0.080\n",
      "curr_liab_bs_flag_high             0.0248      0.008      2.963      0.003       0.008       0.041\n",
      "liq_assets_bs_flag_high           -0.2030      0.180     -1.125      0.260      -0.556       0.150\n",
      "subscribed_cap_bs_flag_high        0.0157      0.011      1.405      0.160      -0.006       0.037\n",
      "extra_exp_pl_flag_error           -3.1876   1.39e+05   -2.3e-05      1.000   -2.72e+05    2.72e+05\n",
      "extra_inc_pl_flag_error          -20.0014   1.77e+33  -1.13e-32      1.000   -3.47e+33    3.47e+33\n",
      "inventories_pl_flag_error          0.3002      0.165      1.823      0.068      -0.022       0.623\n",
      "material_exp_pl_flag_error        -3.8164   2.92e+05  -1.31e-05      1.000   -5.72e+05    5.72e+05\n",
      "personnel_exp_pl_flag_error        0.2599      0.211      1.230      0.219      -0.154       0.674\n",
      "curr_liab_bs_flag_error            0.0542      0.113      0.481      0.631      -0.167       0.275\n",
      "liq_assets_bs_flag_error           0.1024      0.060      1.699      0.089      -0.016       0.221\n",
      "subscribed_cap_bs_flag_error       1.8039    274.303      0.007      0.995    -535.820     539.428\n",
      "extra_profit_loss_pl_flag_low     -2.1603    249.106     -0.009      0.993    -490.399     486.078\n",
      "inc_bef_tax_pl_flag_low           -0.0598      0.115     -0.518      0.604      -0.286       0.166\n",
      "profit_loss_year_pl_flag_low       0.0067      0.116      0.058      0.954      -0.221       0.234\n",
      "share_eq_bs_flag_low               0.0231      0.015      1.502      0.133      -0.007       0.053\n",
      "extra_profit_loss_pl_flag_high     0.0019      0.329      0.006      0.995      -0.642       0.646\n",
      "inc_bef_tax_pl_flag_high           0.0446      0.087      0.512      0.609      -0.126       0.216\n",
      "profit_loss_year_pl_flag_high     -0.0749      0.094     -0.798      0.425      -0.259       0.109\n",
      "share_eq_bs_flag_high             -0.0225      0.031     -0.722      0.470      -0.084       0.039\n",
      "extra_profit_loss_pl_flag_zero     0.0237      0.011      2.112      0.035       0.002       0.046\n",
      "inc_bef_tax_pl_flag_zero           0.1899      0.052      3.659      0.000       0.088       0.292\n",
      "profit_loss_year_pl_flag_zero     -0.0074      0.024     -0.313      0.755      -0.054       0.039\n",
      "share_eq_bs_flag_zero              0.2465      0.129      1.914      0.056      -0.006       0.499\n",
      "female                            -0.0136      0.006     -2.116      0.034      -0.026      -0.001\n",
      "ceo_age                           -0.0011      0.000     -3.627      0.000      -0.002      -0.000\n",
      "flag_high_ceo_age                  0.0589      0.041      1.436      0.151      -0.021       0.139\n",
      "flag_low_ceo_age                   0.0028      0.022      0.130      0.896      -0.040       0.045\n",
      "flag_miss_ceo_age                  0.0762      0.008      9.662      0.000       0.061       0.092\n",
      "ceo_count                         -0.0079      0.006     -1.420      0.155      -0.019       0.003\n",
      "labor_avg_mod                      0.0026      0.004      0.696      0.486      -0.005       0.010\n",
      "flag_miss_labor_avg               -0.0005      0.009     -0.058      0.954      -0.018       0.017\n",
      "foreign_management                -0.0254      0.010     -2.420      0.016      -0.046      -0.005\n",
      "balsheet_flag                      0.0900      0.059      1.525      0.127      -0.026       0.206\n",
      "balsheet_length                 1.688e-05    9.3e-05      0.182      0.856      -0.000       0.000\n",
      "balsheet_notfullyear               0.0121      0.018      0.664      0.507      -0.024       0.048\n",
      "age                               -0.0030      0.002     -1.526      0.127      -0.007       0.001\n",
      "age2                           -4.853e-06   8.86e-05     -0.055      0.956      -0.000       0.000\n",
      "new                                0.0439      0.009      4.776      0.000       0.026       0.062\n",
      "C(ind2_cat)[27.0]                  0.0115      0.023      0.502      0.616      -0.034       0.057\n",
      "C(ind2_cat)[28.0]                  0.0029      0.018      0.158      0.874      -0.032       0.038\n",
      "C(ind2_cat)[29.0]                  0.0505      0.030      1.707      0.088      -0.007       0.108\n",
      "C(ind2_cat)[30.0]                 -0.0065      0.038     -0.170      0.865      -0.082       0.069\n",
      "C(ind2_cat)[33.0]                 -0.0173      0.018     -0.970      0.332      -0.052       0.018\n",
      "C(ind2_cat)[55.0]                  0.0201      0.017      1.164      0.244      -0.014       0.054\n",
      "C(ind2_cat)[56.0]                  0.0600      0.015      3.966      0.000       0.030       0.090\n",
      "C(m_region_loc)[East]              0.0080      0.007      1.126      0.260      -0.006       0.022\n",
      "C(m_region_loc)[West]             -0.0209      0.009     -2.406      0.016      -0.038      -0.004\n",
      "C(urban_m)[2.0]                    0.0019      0.008      0.237      0.813      -0.014       0.017\n",
      "C(urban_m)[3.0]                   -0.0065      0.007     -0.897      0.370      -0.021       0.008\n",
      "==================================================================================================\n"
     ]
    }
   ],
   "source": [
    "#Margin calculation\n",
    "m = sm.Logit(y,sm.add_constant(X4)).fit().get_margeff()\n",
    "print(m.summary())"
   ]
  },
  {
   "cell_type": "code",
   "execution_count": 21,
   "metadata": {},
   "outputs": [],
   "source": [
    "from sklearn.model_selection import train_test_split\n",
    "data_train, data_holdout, y_train, y_holdout = train_test_split(data, y, train_size=round(0.8*len(data.index)), random_state=42)"
   ]
  },
  {
   "cell_type": "code",
   "execution_count": 22,
   "metadata": {},
   "outputs": [
    {
     "data": {
      "text/plain": [
       "0    0.797857\n",
       "1    0.202143\n",
       "Name: default, dtype: float64"
      ]
     },
     "execution_count": 22,
     "metadata": {},
     "output_type": "execute_result"
    }
   ],
   "source": [
    "data['default'].value_counts(normalize=True)"
   ]
  },
  {
   "cell_type": "code",
   "execution_count": 23,
   "metadata": {},
   "outputs": [
    {
     "data": {
      "text/plain": [
       "0    0.799199\n",
       "1    0.200801\n",
       "Name: default, dtype: float64"
      ]
     },
     "execution_count": 23,
     "metadata": {},
     "output_type": "execute_result"
    }
   ],
   "source": [
    "data_train['default'].value_counts(normalize=True)"
   ]
  },
  {
   "cell_type": "code",
   "execution_count": 24,
   "metadata": {},
   "outputs": [
    {
     "data": {
      "text/plain": [
       "0    0.792488\n",
       "1    0.207512\n",
       "Name: default, dtype: float64"
      ]
     },
     "execution_count": 24,
     "metadata": {},
     "output_type": "execute_result"
    }
   ],
   "source": [
    "data_holdout['default'].value_counts(normalize=True)"
   ]
  },
  {
   "cell_type": "code",
   "execution_count": 25,
   "metadata": {},
   "outputs": [],
   "source": [
    "#######################################################x\n",
    "# PART I PREDICT PROBABILITIES\n",
    "# Predict logit models ----------------------------------------------\n",
    "#######################################################x"
   ]
  },
  {
   "cell_type": "code",
   "execution_count": 26,
   "metadata": {},
   "outputs": [],
   "source": [
    "# Train Logit Models ----------------------------------------------\n",
    "\n",
    "logit_model_vars = [X1, X2, X3, X4, X5]\n",
    "\n",
    "C_values=[1e4,1e9]\n",
    "logit_models = dict()\n",
    "CV_RMSE_folds = dict()\n",
    "CV_AUC_folds = dict()\n",
    "k = KFold(n_splits=5, shuffle=False, random_state=42)"
   ]
  },
  {
   "cell_type": "code",
   "execution_count": 27,
   "metadata": {},
   "outputs": [],
   "source": [
    "cv_fold = pd.DataFrame()\n",
    "cv_fold['obs'] = y\n",
    "cv_fold['Fold'] = np.nan\n",
    "fold = 1\n",
    "for train_index, test_index in k.split(data):\n",
    "    cv_fold['Fold'][test_index] = 'Fold'+ str(fold)\n",
    "    fold +=1\n",
    "cv_fold['Fold'] = cv_fold['Fold'].astype(\"category\")"
   ]
  },
  {
   "cell_type": "code",
   "execution_count": 28,
   "metadata": {
    "scrolled": true
   },
   "outputs": [],
   "source": [
    "LRCV_brier = LogisticRegressionCV(Cs=C_values, cv=k, refit=True, scoring='neg_brier_score', \n",
    "                            solver=\"newton-cg\", tol=1e-7, random_state=42)\n",
    "\n",
    "for i in range(len(logit_model_vars)):\n",
    "    logit_models['X'+str(i+1)] = LRCV_brier.fit(logit_model_vars[i], y)\n",
    "    \n",
    "    # Calculate RMSE on test for each fold\n",
    "    CV_RMSE_folds['X'+str(i+1)] = np.sqrt(-np.mean(logit_models['X'+str(i+1)].scores_[1], axis=1)).tolist()\n",
    "    cv_fold['pred X'+str(i+1)] = LRCV_brier.predict(logit_model_vars[i])\n",
    "    cv_fold['proba X'+str(i+1)] = LRCV_brier.predict_proba(logit_model_vars[i])[:,1]\n",
    "    \n",
    "    # Calculate AUC\n",
    "    CV_AUC = []\n",
    "    for fold in cv_fold['Fold'].cat.categories:\n",
    "        cfold = cv_fold.loc[cv_fold['Fold'] == str(fold)]\n",
    "        CV_AUC.append(roc_auc_score(cfold['obs'], cfold['proba X'+str(i+1)]))\n",
    "    CV_AUC_folds['X'+str(i+1)] = CV_AUC"
   ]
  },
  {
   "cell_type": "code",
   "execution_count": 29,
   "metadata": {},
   "outputs": [],
   "source": [
    "from sklearn.preprocessing import StandardScaler\n",
    "object= StandardScaler()\n",
    "normalized_logitvars=pd.DataFrame(StandardScaler().fit_transform(logitvars))\n",
    "normalized_logitvars.columns=logitvars.columns"
   ]
  },
  {
   "cell_type": "code",
   "execution_count": 30,
   "metadata": {},
   "outputs": [],
   "source": [
    "lambdas=list(10**np.arange(-1,-4.01, -1/3))\n",
    "grid = {'C': [1/a/normalized_logitvars.shape[0]  for a in lambdas]}\n",
    "\n",
    "logLasso = LogisticRegression(solver=\"liblinear\",max_iter=1000, penalty=\"l1\", tol=1e-7)\n",
    "gridsearch = GridSearchCV(logLasso, grid, scoring='neg_brier_score', cv=k, refit=True, n_jobs=-1)\n",
    "logit_lasso_model = gridsearch.fit(normalized_logitvars, y)"
   ]
  },
  {
   "cell_type": "code",
   "execution_count": 31,
   "metadata": {},
   "outputs": [],
   "source": [
    "logit_models[\"LASSO\"] = logit_lasso_model\n",
    "CV_RMSE_folds['LASSO'] = [np.sqrt(-logit_lasso_model.cv_results_[key][logit_lasso_model.best_index_]) for \\\n",
    "                 key in logit_lasso_model.cv_results_.keys() if 'split' in key]"
   ]
  },
  {
   "cell_type": "code",
   "execution_count": 32,
   "metadata": {},
   "outputs": [],
   "source": [
    "cv_fold['pred LASSO'] = logit_lasso_model.predict(normalized_logitvars)\n",
    "cv_fold['proba LASSO'] = logit_lasso_model.predict_proba(normalized_logitvars)[:,1]\n",
    "CV_AUC = []\n",
    "for fold in cv_fold['Fold'].cat.categories:\n",
    "    cfold = cv_fold.loc[cv_fold['Fold'] == str(fold)]\n",
    "    CV_AUC.append(roc_auc_score(cfold['obs'], cfold['proba LASSO']))\n",
    "CV_AUC_folds['LASSO'] = CV_AUC"
   ]
  },
  {
   "cell_type": "code",
   "execution_count": 33,
   "metadata": {},
   "outputs": [],
   "source": [
    "tuned_logit_lasso_model = LogisticRegression(C=logit_lasso_model.best_params_['C'], solver=\"liblinear\",\\\n",
    "    max_iter=1000, penalty=\"l1\",tol=1e-7).fit(normalized_logitvars, y)"
   ]
  },
  {
   "cell_type": "code",
   "execution_count": 34,
   "metadata": {},
   "outputs": [],
   "source": [
    "lasso_coeffs = pd.concat([pd.DataFrame(normalized_logitvars.columns),\\\n",
    "                          pd.DataFrame(np.transpose(tuned_logit_lasso_model.coef_))], axis = 1)"
   ]
  },
  {
   "cell_type": "code",
   "execution_count": 35,
   "metadata": {},
   "outputs": [],
   "source": [
    "lasso_coeffs.loc[-1] = [\"intercept\", tuned_logit_lasso_model.intercept_[0]]\n",
    "lasso_coeffs.index = lasso_coeffs.index + 1\n",
    "lasso_coeffs = lasso_coeffs.sort_index()\n",
    "lasso_coeffs.columns=['feature', 'coef']\n",
    "#write to csv"
   ]
  },
  {
   "cell_type": "code",
   "execution_count": 36,
   "metadata": {},
   "outputs": [],
   "source": [
    "#############################################x\n",
    "# PART I\n",
    "# No loss fn\n",
    "########################################\n",
    "\n",
    "# For each model: average RMSE and average AUC for models ----------------------------------\n",
    "\n",
    "CV_RMSE = dict()\n",
    "CV_AUC = dict()\n",
    "nvars = dict()\n",
    "\n",
    "for key in logit_models:\n",
    "    CV_RMSE[str(key)] = np.mean(CV_RMSE_folds[str(key)])\n",
    "    CV_AUC[str(key)] = np.mean(CV_AUC_folds[str(key)])\n",
    "\n",
    "# We have 6 models, (5 logit and the logit lasso). For each we have a 5-CV RMSE and AUC.\n",
    "# We pick our preferred model based on that. -----------------------------------------------\n",
    "\n",
    "for key in logit_models:\n",
    "    if key != 'LASSO':\n",
    "        nvars[str(key)] = len(locals()[key].columns)\n",
    "    else:\n",
    "        nvars[\"LASSO\"] = sum(x != 0 for x in tuned_logit_lasso_model.coef_[0].tolist())\n",
    "        \n",
    "logit_summary1 = np.transpose(pd.DataFrame.from_dict([nvars,CV_RMSE,CV_AUC], orient='columns'))\n",
    "logit_summary1.columns = [\"Number of predictors\", \"CV RMSE\", \"CV AUC\"]\n",
    "#write to csv"
   ]
  },
  {
   "cell_type": "code",
   "execution_count": 37,
   "metadata": {},
   "outputs": [
    {
     "data": {
      "text/plain": [
       "0.363352201302305"
      ]
     },
     "execution_count": 37,
     "metadata": {},
     "output_type": "execute_result"
    }
   ],
   "source": [
    "# Take best model and estimate RMSE on holdout  -------------------------------------------\n",
    "\n",
    "# Best model here X4, estimated as glm_model before\n",
    "# Split for X4 data to convert usable exdog matrix\n",
    "data_train, data_holdout, y_train, y_holdout = train_test_split(\n",
    "                                                X4, y, train_size=round(0.8*len(data.index)), random_state=42)\n",
    "logit_predicted_probabilities_holdout = glm_model.predict_proba(data_holdout)[:,1]\n",
    "np.sqrt(mean_squared_error(y_holdout, logit_predicted_probabilities_holdout))"
   ]
  },
  {
   "cell_type": "code",
   "execution_count": 38,
   "metadata": {},
   "outputs": [],
   "source": [
    "# discrete ROC (with thresholds in steps) on holdout -------------------------------------------------\n",
    "\n",
    "thresholds = seq(0.05, 0.75, by = 0.05)\n",
    "cm = dict()\n",
    "true_positive_rates = []\n",
    "false_positive_rates = []\n",
    "holdout_prediction = []\n",
    "for thr in thresholds:\n",
    "    holdout_prediction = np.where(logit_predicted_probabilities_holdout < thr, 0, 1)\n",
    "    cm_thr = confusion_matrix(y_holdout, holdout_prediction, labels=[0,1])\n",
    "    cm[str(thr)] = cm_thr\n",
    "    tn, fp, fn, tp = cm_thr.ravel()\n",
    "    true_positive_rates.append(tp/(tp+fn))\n",
    "    false_positive_rates.append(fp/(fp+tn))"
   ]
  },
  {
   "cell_type": "code",
   "execution_count": 39,
   "metadata": {},
   "outputs": [],
   "source": [
    "tpr_fpr_for_thresholds = pd.DataFrame(\n",
    "    {'thresholds': thresholds,\n",
    "     'true_positive_rates': true_positive_rates,\n",
    "     'false_positive_rates': false_positive_rates})"
   ]
  },
  {
   "cell_type": "code",
   "execution_count": 40,
   "metadata": {},
   "outputs": [
    {
     "data": {
      "image/png": "[encoded data removed]",
      "text/plain": [
       "<Figure size 640x480 with 1 Axes>"
      ]
     },
     "metadata": {},
     "output_type": "display_data"
    },
    {
     "data": {
      "text/plain": [
       "<ggplot: (123615622355)>"
      ]
     },
     "execution_count": 40,
     "metadata": {},
     "output_type": "execute_result"
    }
   ],
   "source": [
    "#thresholds low on top instead of high\n",
    "ggplot(tpr_fpr_for_thresholds, aes(x = 'false_positive_rates', y = 'true_positive_rates', color='thresholds'))\\\n",
    "        + labs(x = \"False positive rate (1 - Specificity)\", y = \"True positive rate (Sensitivity)\")\\\n",
    "        + geom_point(size=2, alpha=0.8) + scale_color_continuous(trans = 'reverse')\\\n",
    "        + scale_x_continuous(limits=(0,1), breaks = seq(0, 1.01, by = 0.1))\\\n",
    "        + scale_y_continuous(limits=(0,1), breaks = seq(0, 1.01, by = 0.1))\\\n",
    "        + theme_bw()\\\n",
    "        +theme(legend_position=\"right\",\n",
    "            axis_text=element_text(size=5),\n",
    "            axis_title=element_text(size=5),\n",
    "            legend_text = element_text(size = 4),\n",
    "            legend_title = element_text(size = 4),\n",
    "            legend_key_size=6)\n",
    "#save figure"
   ]
  },
  {
   "cell_type": "code",
   "execution_count": 41,
   "metadata": {},
   "outputs": [
    {
     "data": {
      "text/plain": [
       "Text(0, 0.5, 'True Positive Rate or (Sensitivity)')"
      ]
     },
     "execution_count": 41,
     "metadata": {},
     "output_type": "execute_result"
    },
    {
     "data": {
      "image/png": "[encoded data removed]",
      "text/plain": [
       "<Figure size 720x720 with 1 Axes>"
      ]
     },
     "metadata": {
      "needs_background": "light"
     },
     "output_type": "display_data"
    }
   ],
   "source": [
    "# Compute fpr, tpr, thresholds and roc auc\n",
    "fpr, tpr, thresholds = roc_curve(y_holdout, logit_predicted_probabilities_holdout)\n",
    "#roc_auc = auc(y_holdout, logit_predicted_probabilities_holdout)\n",
    "plt.figure(figsize=(10,10))\n",
    "plt.xticks(np.arange(0,1.001,0.1))\n",
    "plt.yticks(np.arange(0,1.001,0.1))\n",
    "plt.grid(axis='y', alpha=.4)\n",
    "plt.grid(axis='x', alpha=.4)\n",
    "# Plot ROC curve\n",
    "plt.plot(fpr, tpr, linewidth=1 )\n",
    "plt.fill_between(fpr,tpr, color = 'lightgreen')\n",
    "plt.plot([0, 1], [0, 1], color='black',linestyle=':',linewidth=1)  # random predictions curve\n",
    "plt.xlabel('False Positive Rate or (1 - Specifity)')\n",
    "plt.ylabel('True Positive Rate or (Sensitivity)')"
   ]
  },
  {
   "cell_type": "code",
   "execution_count": 42,
   "metadata": {},
   "outputs": [
    {
     "name": "stdout",
     "output_type": "stream",
     "text": [
      "0  (no default):  3447\n",
      "1  (default):  360\n"
     ]
    }
   ],
   "source": [
    "# Confusion table with different tresholds ----------------------------------------------------------\n",
    "\n",
    "# default: the threshold 0.5 is used to convert probabilities to binary classes\n",
    "logit_class_prediction = glm_model.predict(data_holdout)\n",
    "\n",
    "values, counts = np.unique(logit_class_prediction.tolist(), return_counts=True)\n",
    "print(values[0],' (no default): ',counts[0])\n",
    "print(values[1],' (default): ',counts[1])"
   ]
  },
  {
   "cell_type": "code",
   "execution_count": 43,
   "metadata": {},
   "outputs": [
    {
     "data": {
      "text/html": [
       "<div>\n",
       "<style scoped>\n",
       "    .dataframe tbody tr th:only-of-type {\n",
       "        vertical-align: middle;\n",
       "    }\n",
       "\n",
       "    .dataframe tbody tr th {\n",
       "        vertical-align: top;\n",
       "    }\n",
       "\n",
       "    .dataframe thead th {\n",
       "        text-align: right;\n",
       "    }\n",
       "</style>\n",
       "<table border=\"1\" class=\"dataframe\">\n",
       "  <thead>\n",
       "    <tr style=\"text-align: right;\">\n",
       "      <th></th>\n",
       "      <th>Predicted no default</th>\n",
       "      <th>Predicted default</th>\n",
       "    </tr>\n",
       "  </thead>\n",
       "  <tbody>\n",
       "    <tr>\n",
       "      <th>Actul no defaul</th>\n",
       "      <td>2877</td>\n",
       "      <td>140</td>\n",
       "    </tr>\n",
       "    <tr>\n",
       "      <th>Actual default</th>\n",
       "      <td>570</td>\n",
       "      <td>220</td>\n",
       "    </tr>\n",
       "  </tbody>\n",
       "</table>\n",
       "</div>"
      ],
      "text/plain": [
       "                 Predicted no default  Predicted default\n",
       "Actul no defaul                  2877                140\n",
       "Actual default                    570                220"
      ]
     },
     "execution_count": 43,
     "metadata": {},
     "output_type": "execute_result"
    }
   ],
   "source": [
    "# confusion matrix: summarize different type of errors and successfully predicted cases\n",
    "# positive = \"yes\": explicitly specify the positive case\n",
    "cm1 = confusion_matrix(y_holdout, logit_class_prediction, labels=[0,1])\n",
    "cmt1df = pd.DataFrame(cm1, \n",
    "    index=['Actul no defaul', 'Actual default'], \n",
    "    columns=['Predicted no default', 'Predicted default'])\n",
    "cmt1df"
   ]
  },
  {
   "cell_type": "code",
   "execution_count": 44,
   "metadata": {},
   "outputs": [
    {
     "data": {
      "text/html": [
       "<div>\n",
       "<style scoped>\n",
       "    .dataframe tbody tr th:only-of-type {\n",
       "        vertical-align: middle;\n",
       "    }\n",
       "\n",
       "    .dataframe tbody tr th {\n",
       "        vertical-align: top;\n",
       "    }\n",
       "\n",
       "    .dataframe thead th {\n",
       "        text-align: right;\n",
       "    }\n",
       "</style>\n",
       "<table border=\"1\" class=\"dataframe\">\n",
       "  <thead>\n",
       "    <tr style=\"text-align: right;\">\n",
       "      <th></th>\n",
       "      <th>Predicted no default</th>\n",
       "      <th>Predicted default</th>\n",
       "    </tr>\n",
       "  </thead>\n",
       "  <tbody>\n",
       "    <tr>\n",
       "      <th>Actul no defaul</th>\n",
       "      <td>2877</td>\n",
       "      <td>140</td>\n",
       "    </tr>\n",
       "    <tr>\n",
       "      <th>Actual default</th>\n",
       "      <td>570</td>\n",
       "      <td>220</td>\n",
       "    </tr>\n",
       "  </tbody>\n",
       "</table>\n",
       "</div>"
      ],
      "text/plain": [
       "                 Predicted no default  Predicted default\n",
       "Actul no defaul                  2877                140\n",
       "Actual default                    570                220"
      ]
     },
     "execution_count": 44,
     "metadata": {},
     "output_type": "execute_result"
    }
   ],
   "source": [
    "# we can apply different thresholds\n",
    "\n",
    "# 0.5 same as before\n",
    "holdout_prediction = np.where(logit_predicted_probabilities_holdout < 0.5, 0, 1)\n",
    "cm_object1b = confusion_matrix(y_holdout, holdout_prediction, labels=[0,1])\n",
    "cm1b = pd.DataFrame(cm_object1b, \n",
    "    index=['Actul no defaul', 'Actual default'], \n",
    "    columns=['Predicted no default', 'Predicted default'])\n",
    "cm1b"
   ]
  },
  {
   "cell_type": "code",
   "execution_count": 45,
   "metadata": {},
   "outputs": [
    {
     "data": {
      "text/plain": [
       "0.20809027288854348"
      ]
     },
     "execution_count": 45,
     "metadata": {},
     "output_type": "execute_result"
    }
   ],
   "source": [
    "# a sensible choice: mean of predicted probabilities\n",
    "mean_predicted_default_prob = np.mean(logit_predicted_probabilities_holdout)\n",
    "mean_predicted_default_prob"
   ]
  },
  {
   "cell_type": "code",
   "execution_count": 46,
   "metadata": {},
   "outputs": [
    {
     "data": {
      "text/html": [
       "<div>\n",
       "<style scoped>\n",
       "    .dataframe tbody tr th:only-of-type {\n",
       "        vertical-align: middle;\n",
       "    }\n",
       "\n",
       "    .dataframe tbody tr th {\n",
       "        vertical-align: top;\n",
       "    }\n",
       "\n",
       "    .dataframe thead th {\n",
       "        text-align: right;\n",
       "    }\n",
       "</style>\n",
       "<table border=\"1\" class=\"dataframe\">\n",
       "  <thead>\n",
       "    <tr style=\"text-align: right;\">\n",
       "      <th></th>\n",
       "      <th>Predicted no default</th>\n",
       "      <th>Predicted default</th>\n",
       "    </tr>\n",
       "  </thead>\n",
       "  <tbody>\n",
       "    <tr>\n",
       "      <th>Actul no defaul</th>\n",
       "      <td>2188</td>\n",
       "      <td>829</td>\n",
       "    </tr>\n",
       "    <tr>\n",
       "      <th>Actual default</th>\n",
       "      <td>245</td>\n",
       "      <td>545</td>\n",
       "    </tr>\n",
       "  </tbody>\n",
       "</table>\n",
       "</div>"
      ],
      "text/plain": [
       "                 Predicted no default  Predicted default\n",
       "Actul no defaul                  2188                829\n",
       "Actual default                    245                545"
      ]
     },
     "execution_count": 46,
     "metadata": {},
     "output_type": "execute_result"
    }
   ],
   "source": [
    "holdout_prediction = np.where(logit_predicted_probabilities_holdout < mean_predicted_default_prob, 0, 1)\n",
    "cm_object2 = confusion_matrix(y_holdout, holdout_prediction, labels=[0,1])\n",
    "cm2 = pd.DataFrame(cm_object2, \n",
    "    index=['Actul no defaul', 'Actual default'], \n",
    "    columns=['Predicted no default', 'Predicted default'])\n",
    "cm2"
   ]
  },
  {
   "cell_type": "code",
   "execution_count": 47,
   "metadata": {
    "scrolled": false
   },
   "outputs": [
    {
     "data": {
      "image/png": "[encoded data removed]",
      "text/plain": [
       "<Figure size 640x480 with 1 Axes>"
      ]
     },
     "metadata": {},
     "output_type": "display_data"
    },
    {
     "data": {
      "text/plain": [
       "<ggplot: (123614644733)>"
      ]
     },
     "execution_count": 47,
     "metadata": {},
     "output_type": "execute_result"
    }
   ],
   "source": [
    "holdout = pd.concat([data_holdout, y_holdout], axis=1)\n",
    "holdout[\"best_logit_no_loss_pred\"] = logit_predicted_probabilities_holdout\n",
    "create_calibration_plot(holdout, file_name = \"ch17-figure-1-logit-m4-calibration\",\\\n",
    "                        prob_var='best_logit_no_loss_pred', actual_var='default',\\\n",
    "                        y_lab=\"Actual event probability\", n_bins=10, breaks=None)"
   ]
  },
  {
   "cell_type": "code",
   "execution_count": 48,
   "metadata": {},
   "outputs": [],
   "source": [
    "#############################################x\n",
    "# PART II.\n",
    "# We have a loss function\n",
    "########################################\n",
    "\n",
    "# Introduce loss function\n",
    "# relative cost of of a false negative classification (as compared with a false positive classification)\n",
    "FP = 1\n",
    "FN = 10\n",
    "cost = FN/FP\n",
    "# the prevalence, or the proportion of cases in the population (n.cases/(n.controls+n.cases))\n",
    "prevelance = y_train.sum()/len(y_train)"
   ]
  },
  {
   "cell_type": "code",
   "execution_count": 49,
   "metadata": {},
   "outputs": [],
   "source": [
    "# Draw ROC Curve and find optimal threshold with loss function --------------------------\n",
    "\n",
    "best_tresholds_cv = dict()\n",
    "expected_loss_cv = dict()\n",
    "logit_cv_threshold = []\n",
    "logit_cv_expected_loss = []\n",
    "\n",
    "\n",
    "for model in logit_models:\n",
    "    best_tresholds = []\n",
    "    expected_loss =[]\n",
    "    for fold in cv_fold['Fold'].cat.categories:\n",
    "        cfold = cv_fold.loc[cv_fold['Fold'] == str(fold)]\n",
    "        false_pos_rate, true_pos_rate, proba = roc_curve(cfold['obs'], cfold['proba '+str(model)])\n",
    "        optimal_proba_cutoff = sorted(list(zip(np.abs(true_pos_rate + (1 - prevelance)/(cost * prevelance)*(1-false_pos_rate)),\\\n",
    "                                       proba)), key=lambda i: i[0], reverse=True)[0][1]\n",
    "        best_tresholds.append(optimal_proba_cutoff)\n",
    "        treshold_prediction = np.where(cfold['proba '+str(model)] < optimal_proba_cutoff, 0, 1)\n",
    "        tn, fp, fn, tp = confusion_matrix(cfold['obs'], treshold_prediction, labels=[0,1]).ravel()\n",
    "        curr_exp_loss = (fp*FP + fn*FN)/len(cfold['obs'])\n",
    "        expected_loss.append(curr_exp_loss)\n",
    "        \n",
    "    best_tresholds_cv[str(model)] = np.mean(best_tresholds)\n",
    "    expected_loss_cv[str(model)] = np.mean(expected_loss)\n",
    "    \n",
    "    # for fold #5\n",
    "    logit_cv_threshold.append(optimal_proba_cutoff)\n",
    "    logit_cv_expected_loss.append(curr_exp_loss)"
   ]
  },
  {
   "cell_type": "code",
   "execution_count": 50,
   "metadata": {},
   "outputs": [],
   "source": [
    "logit_summary2 = pd.DataFrame(best_tresholds_cv.items(),columns=['Model', 'Avg of optimal thresholds'])\n",
    "logit_summary2['Threshold for Fold5'] = logit_cv_threshold\n",
    "logit_summary2['Avg expected loss'] = expected_loss_cv.values()\n",
    "logit_summary2['Expected loss for Fold5'] = logit_cv_expected_loss\n",
    "#write to latex"
   ]
  },
  {
   "cell_type": "code",
   "execution_count": 51,
   "metadata": {},
   "outputs": [
    {
     "data": {
      "text/html": [
       "<div>\n",
       "<style scoped>\n",
       "    .dataframe tbody tr th:only-of-type {\n",
       "        vertical-align: middle;\n",
       "    }\n",
       "\n",
       "    .dataframe tbody tr th {\n",
       "        vertical-align: top;\n",
       "    }\n",
       "\n",
       "    .dataframe thead th {\n",
       "        text-align: right;\n",
       "    }\n",
       "</style>\n",
       "<table border=\"1\" class=\"dataframe\">\n",
       "  <thead>\n",
       "    <tr style=\"text-align: right;\">\n",
       "      <th></th>\n",
       "      <th>Model</th>\n",
       "      <th>Avg of optimal thresholds</th>\n",
       "      <th>Threshold for Fold5</th>\n",
       "      <th>Avg expected loss</th>\n",
       "      <th>Expected loss for Fold5</th>\n",
       "    </tr>\n",
       "  </thead>\n",
       "  <tbody>\n",
       "    <tr>\n",
       "      <th>0</th>\n",
       "      <td>X1</td>\n",
       "      <td>0.105499</td>\n",
       "      <td>0.096561</td>\n",
       "      <td>0.725362</td>\n",
       "      <td>0.760704</td>\n",
       "    </tr>\n",
       "    <tr>\n",
       "      <th>1</th>\n",
       "      <td>X2</td>\n",
       "      <td>0.094842</td>\n",
       "      <td>0.087589</td>\n",
       "      <td>0.661221</td>\n",
       "      <td>0.666404</td>\n",
       "    </tr>\n",
       "    <tr>\n",
       "      <th>2</th>\n",
       "      <td>X3</td>\n",
       "      <td>0.089177</td>\n",
       "      <td>0.088172</td>\n",
       "      <td>0.626339</td>\n",
       "      <td>0.631206</td>\n",
       "    </tr>\n",
       "    <tr>\n",
       "      <th>3</th>\n",
       "      <td>X4</td>\n",
       "      <td>0.092308</td>\n",
       "      <td>0.075343</td>\n",
       "      <td>0.617146</td>\n",
       "      <td>0.613081</td>\n",
       "    </tr>\n",
       "    <tr>\n",
       "      <th>4</th>\n",
       "      <td>X5</td>\n",
       "      <td>0.092156</td>\n",
       "      <td>0.111044</td>\n",
       "      <td>0.603908</td>\n",
       "      <td>0.599685</td>\n",
       "    </tr>\n",
       "    <tr>\n",
       "      <th>5</th>\n",
       "      <td>LASSO</td>\n",
       "      <td>0.094782</td>\n",
       "      <td>0.102637</td>\n",
       "      <td>0.604959</td>\n",
       "      <td>0.591805</td>\n",
       "    </tr>\n",
       "  </tbody>\n",
       "</table>\n",
       "</div>"
      ],
      "text/plain": [
       "   Model  Avg of optimal thresholds  Threshold for Fold5  Avg expected loss  \\\n",
       "0     X1                   0.105499             0.096561           0.725362   \n",
       "1     X2                   0.094842             0.087589           0.661221   \n",
       "2     X3                   0.089177             0.088172           0.626339   \n",
       "3     X4                   0.092308             0.075343           0.617146   \n",
       "4     X5                   0.092156             0.111044           0.603908   \n",
       "5  LASSO                   0.094782             0.102637           0.604959   \n",
       "\n",
       "   Expected loss for Fold5  \n",
       "0                 0.760704  \n",
       "1                 0.666404  \n",
       "2                 0.631206  \n",
       "3                 0.613081  \n",
       "4                 0.599685  \n",
       "5                 0.591805  "
      ]
     },
     "execution_count": 51,
     "metadata": {},
     "output_type": "execute_result"
    }
   ],
   "source": [
    "logit_summary2"
   ]
  },
  {
   "cell_type": "code",
   "execution_count": 52,
   "metadata": {},
   "outputs": [],
   "source": [
    "# Create plots based on Fold5 in CV ----------------------------------------------"
   ]
  },
  {
   "cell_type": "code",
   "execution_count": 53,
   "metadata": {},
   "outputs": [
    {
     "data": {
      "text/plain": [
       "0.6170212765957447"
      ]
     },
     "execution_count": 53,
     "metadata": {},
     "output_type": "execute_result"
    }
   ],
   "source": [
    "# Pick best model based on average expected loss ----------------------------------\n",
    "#X4\n",
    "best_logit_optimal_treshold = best_tresholds_cv[\"X4\"]\n",
    "\n",
    "# Get expected loss on holdout\n",
    "holdout_treshold = np.where(logit_predicted_probabilities_holdout < best_logit_optimal_treshold, 0, 1)\n",
    "tn, fp, fn, tp = confusion_matrix(y_holdout, holdout_treshold, labels=[0,1]).ravel()\n",
    "expected_loss_holdout = (fp*FP + fn*FN)/len(y_holdout)\n",
    "expected_loss_holdout"
   ]
  },
  {
   "cell_type": "code",
   "execution_count": 54,
   "metadata": {},
   "outputs": [
    {
     "data": {
      "text/html": [
       "<div>\n",
       "<style scoped>\n",
       "    .dataframe tbody tr th:only-of-type {\n",
       "        vertical-align: middle;\n",
       "    }\n",
       "\n",
       "    .dataframe tbody tr th {\n",
       "        vertical-align: top;\n",
       "    }\n",
       "\n",
       "    .dataframe thead th {\n",
       "        text-align: right;\n",
       "    }\n",
       "</style>\n",
       "<table border=\"1\" class=\"dataframe\">\n",
       "  <thead>\n",
       "    <tr style=\"text-align: right;\">\n",
       "      <th></th>\n",
       "      <th>Predicted no default</th>\n",
       "      <th>Predicted default</th>\n",
       "    </tr>\n",
       "  </thead>\n",
       "  <tbody>\n",
       "    <tr>\n",
       "      <th>Actul no defaul</th>\n",
       "      <td>1268</td>\n",
       "      <td>1749</td>\n",
       "    </tr>\n",
       "    <tr>\n",
       "      <th>Actual default</th>\n",
       "      <td>60</td>\n",
       "      <td>730</td>\n",
       "    </tr>\n",
       "  </tbody>\n",
       "</table>\n",
       "</div>"
      ],
      "text/plain": [
       "                 Predicted no default  Predicted default\n",
       "Actul no defaul                  1268               1749\n",
       "Actual default                     60                730"
      ]
     },
     "execution_count": 54,
     "metadata": {},
     "output_type": "execute_result"
    }
   ],
   "source": [
    "cm_object3 = confusion_matrix(y_holdout, holdout_treshold, labels=[0,1])\n",
    "cm3 = pd.DataFrame(cm_object3, \n",
    "    index=['Actul no defaul', 'Actual default'], \n",
    "    columns=['Predicted no default', 'Predicted default'])\n",
    "cm3"
   ]
  }
 ],
 "metadata": {
  "kernelspec": {
   "display_name": "Python 3",
   "language": "python",
   "name": "python3"
  },
  "language_info": {
   "codemirror_mode": {
    "name": "ipython",
    "version": 3
   },
   "file_extension": ".py",
   "mimetype": "text/x-python",
   "name": "python",
   "nbconvert_exporter": "python",
   "pygments_lexer": "ipython3",
   "version": "3.8.5"
  }
 },
 "nbformat": 4,
 "nbformat_minor": 4
}
