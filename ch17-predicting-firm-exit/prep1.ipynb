{
 "cells": [
  {
   "cell_type": "code",
   "execution_count": 4,
   "metadata": {},
   "outputs": [],
   "source": [
    "import os\n",
    "from pathlib import Path\n",
    "import pandas as pd\n",
    "import numpy as np\n",
    "import sys"
   ]
  },
  {
   "cell_type": "code",
   "execution_count": 5,
   "metadata": {},
   "outputs": [],
   "source": [
    "path = Path(os.getcwd())"
   ]
  },
  {
   "cell_type": "code",
   "execution_count": 6,
   "metadata": {},
   "outputs": [],
   "source": [
    "base_dir = path.parent.parent"
   ]
  },
  {
   "cell_type": "code",
   "execution_count": 7,
   "metadata": {},
   "outputs": [],
   "source": [
    "#Windows format\n",
    "data_in = os.path.join(str(base_dir) , \"da_data_repo\\\\bisnode-firms\\\\clean\\\\\")\n",
    "data_out = os.path.join(str(base_dir) , \"da_data_repo\\\\bisnode-firms\\\\\")\n",
    "output = os.path.join(data_out,'output')\n",
    "func = os.path.join(str(base_dir) ,   \"da_case_studies\\\\ch00-tech-prep\\\\\")"
   ]
  },
  {
   "cell_type": "code",
   "execution_count": 8,
   "metadata": {},
   "outputs": [],
   "source": [
    "###########################################################\n",
    "# Import data\n",
    "###########################################################\n",
    "\n",
    "csv_path = os.path.join(data_in,\"cs_bisnode_panel.csv\")\n",
    "data = pd.read_csv(csv_path)\n",
    "# drop variables with many NAs\n",
    "data = data.drop(columns = ['COGS', 'finished_prod', 'net_dom_sales', 'net_exp_sales', 'wages'])\n",
    "data = data.query('year !=2016')"
   ]
  },
  {
   "cell_type": "code",
   "execution_count": 9,
   "metadata": {},
   "outputs": [],
   "source": [
    "###########################################################\n",
    "# label engineering\n",
    "###########################################################\n",
    "\n",
    "# add all missing year and comp_id combinations -\n",
    "# originally missing combinations will have NAs in all other columns\n",
    "data = data.set_index(['year','comp_id']).unstack(fill_value ='toReplace').stack().reset_index()\n",
    "data = data.replace('toReplace',np.nan) #only way I could define it as NaN"
   ]
  },
  {
   "cell_type": "code",
   "execution_count": 10,
   "metadata": {},
   "outputs": [],
   "source": [
    "# generate status_alive; if sales larger than zero and not-NA, then firm is alive\n",
    "data['status_alive'] = (data['sales'] > 0 & (False == data['sales'].isna())).astype(int)"
   ]
  },
  {
   "cell_type": "code",
   "execution_count": 11,
   "metadata": {},
   "outputs": [],
   "source": [
    "# defaults in two years if there are sales in this year but no sales two years later\n",
    "\n",
    "#Status_in_two_years: data.groupby('comp_id')['status_alive'].shift(-2)\n",
    "data['default'] = ((data['status_alive'] == 1) & (data.groupby('comp_id')['status_alive'].shift(-2) == 0)).astype(int)"
   ]
  },
  {
   "cell_type": "code",
   "execution_count": 12,
   "metadata": {},
   "outputs": [],
   "source": [
    "data = data.query('year <= 2013')"
   ]
  },
  {
   "cell_type": "code",
   "execution_count": 13,
   "metadata": {},
   "outputs": [
    {
     "data": {
      "text/plain": [
       "count    2.151190e+05\n",
       "mean     4.860478e+05\n",
       "std      3.885493e+06\n",
       "min     -1.472559e+07\n",
       "25%      5.344444e+03\n",
       "50%      3.055555e+04\n",
       "75%      1.083537e+05\n",
       "max      1.110294e+08\n",
       "Name: sales, dtype: float64"
      ]
     },
     "execution_count": 13,
     "metadata": {},
     "output_type": "execute_result"
    }
   ],
   "source": [
    "data['default'].describe()\n",
    "data['sales'].describe()"
   ]
  },
  {
   "cell_type": "code",
   "execution_count": 14,
   "metadata": {},
   "outputs": [
    {
     "name": "stderr",
     "output_type": "stream",
     "text": [
      "C:\\dev\\lib\\site-packages\\pandas\\core\\series.py:726: RuntimeWarning: divide by zero encountered in log\n",
      "  result = getattr(ufunc, method)(*inputs, **kwargs)\n",
      "C:\\dev\\lib\\site-packages\\pandas\\core\\series.py:726: RuntimeWarning: divide by zero encountered in log\n",
      "  result = getattr(ufunc, method)(*inputs, **kwargs)\n"
     ]
    }
   ],
   "source": [
    "data['sales']=np.where(data['sales'] < 0, 1, data['sales'])#has to be outside of assin()\n",
    "data = data.assign(\n",
    "    ln_sales = np.where(data['sales'] > 0 , np.log(data['sales']), (np.where(data['sales'].isna(),np.nan,0))), #NaN remain NaN\n",
    "    sales_mil=data['sales']/1000000,\n",
    "    sales_mil_log = np.where(data['sales'] > 0, np.log(data['sales']/1000000), (np.where(data['sales'].isna(),np.nan,0)))\n",
    "  )"
   ]
  },
  {
   "cell_type": "code",
   "execution_count": 31,
   "metadata": {},
   "outputs": [],
   "source": [
    "data['d1_sales_mil_log']=data['sales_mil_log']-data.groupby('comp_id')['sales_mil_log'].shift(1)"
   ]
  },
  {
   "cell_type": "code",
   "execution_count": 32,
   "metadata": {},
   "outputs": [],
   "source": [
    "# replace w 0 for new firms + add dummy to capture it\n",
    "data['age']=np.where(data['year']-data['founded_year'] < 0, 0, data['year']-data['founded_year'])\n",
    "data['new']=np.where(((data['age']<=1)|(data['balsheet_notfullyear']==1)),1,(np.where(data['age'].isna(),np.nan,0))) \n",
    "data['d1_sales_mil_log']=np.where(data['new']==1 , 0, np.where(data['new'].isna(),np.nan,data['d1_sales_mil_log']))\n",
    "data['new']=np.where(data['d1_sales_mil_log'].isna(),1,data['new'] )\n",
    "data['d1_sales_mil_log']=np.where(data['d1_sales_mil_log'].isna(),0,data['d1_sales_mil_log'])"
   ]
  },
  {
   "cell_type": "code",
   "execution_count": 34,
   "metadata": {},
   "outputs": [],
   "source": [
    "#comp_id 180325105664 d1 set to NaN if new==NaN"
   ]
  },
  {
   "cell_type": "code",
   "execution_count": 36,
   "metadata": {},
   "outputs": [],
   "source": [
    "###########################################################\n",
    " # sample design\n",
    "###########################################################\n",
    "\n",
    "# look at cross section\n",
    "data=data.query('year==2012 & status_alive == 1')\n",
    "# look at firms below 10m euro revenues and above 1000 euros\n",
    "data=data.query('sales_mil<=10 & sales_mil>=0.001')"
   ]
  },
  {
   "cell_type": "code",
   "execution_count": 45,
   "metadata": {},
   "outputs": [
    {
     "data": {
      "text/plain": [
       "count    21723.000000\n",
       "mean         0.205681\n",
       "std          0.404207\n",
       "min          0.000000\n",
       "25%          0.000000\n",
       "50%          0.000000\n",
       "75%          0.000000\n",
       "max          1.000000\n",
       "Name: default, dtype: float64"
      ]
     },
     "execution_count": 45,
     "metadata": {},
     "output_type": "execute_result"
    }
   ],
   "source": [
    "data['default'].describe()"
   ]
  },
  {
   "cell_type": "code",
   "execution_count": 46,
   "metadata": {},
   "outputs": [],
   "source": [
    "data.to_csv(data_out+\"work5.csv\",index=False)"
   ]
  }
 ],
 "metadata": {
  "kernelspec": {
   "display_name": "Python 3",
   "language": "python",
   "name": "python3"
  },
  "language_info": {
   "codemirror_mode": {
    "name": "ipython",
    "version": 3
   },
   "file_extension": ".py",
   "mimetype": "text/x-python",
   "name": "python",
   "nbconvert_exporter": "python",
   "pygments_lexer": "ipython3",
   "version": "3.8.5"
  }
 },
 "nbformat": 4,
 "nbformat_minor": 2
}
