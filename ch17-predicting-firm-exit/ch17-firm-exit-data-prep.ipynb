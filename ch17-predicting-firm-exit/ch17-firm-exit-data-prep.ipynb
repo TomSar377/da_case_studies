{
 "cells": [
  {
   "cell_type": "markdown",
   "metadata": {},
   "source": [
    "#### Prepared for Gabor's Data Analysis\n",
    "\n",
    "# Data Analysis for Business, Economics, and Policy\n",
    "by Gabor Bekes and  Gabor Kezdi\n",
    " \n",
    "Cambridge University Press 2021\n",
    "\n",
    "**[gabors-data-analysis.com ](https://gabors-data-analysis.com/)**\n",
    "\n",
    " License: Free to share, modify and use for educational purposes. \n",
    " Not to be used for commercial purposes.\n",
    "\n",
    "# Chapter 17\n",
    "\n",
    "Data preparation"
   ]
  },
  {
   "cell_type": "code",
   "execution_count": 1,
   "metadata": {},
   "outputs": [],
   "source": [
    "import os\n",
    "import pandas as pd\n",
    "import numpy as np\n",
    "import sys\n",
    "from plotnine import *\n",
    "import statsmodels.api as sm\n",
    "import statsmodels.formula.api as smf"
   ]
  },
  {
   "cell_type": "code",
   "execution_count": 2,
   "metadata": {},
   "outputs": [],
   "source": [
    "# Current script folder\n",
    "path = os.getcwd()\n",
    "base_dir = path.split(\"da_case_studies\")[0]\n",
    "\n",
    "#Set the location of your data directory\n",
    "data_dir = '/Users/zholler/Documents/Private/da_data_repo/'"
   ]
  },
  {
   "cell_type": "code",
   "execution_count": 3,
   "metadata": {},
   "outputs": [],
   "source": [
    "# location folders\n",
    "data_in = os.path.join(data_dir, 'bisnode-firms/clean/')\n",
    "data_out = os.path.join(data_dir, 'bisnode-firms/')\n",
    "output = os.path.join(data_out, 'output')\n",
    "func = os.path.join(base_dir, 'da_case_studies/ch00-tech-prep/')\n",
    "sys.path.append(func)"
   ]
  },
  {
   "cell_type": "code",
   "execution_count": 4,
   "metadata": {},
   "outputs": [],
   "source": [
    "# Import the prewritten helper functions\n",
    "from py_helper_functions import *"
   ]
  },
  {
   "cell_type": "markdown",
   "metadata": {},
   "source": [
    "# Import data"
   ]
  },
  {
   "cell_type": "code",
   "execution_count": 6,
   "metadata": {},
   "outputs": [],
   "source": [
    "csv_path = os.path.join(data_in,'cs_bisnode_panel.csv')\n",
    "data = pd.read_csv(csv_path)"
   ]
  },
  {
   "cell_type": "code",
   "execution_count": 7,
   "metadata": {},
   "outputs": [],
   "source": [
    "# drop variables with many NAs\n",
    "data = data.drop(columns = ['COGS', 'finished_prod', 'net_dom_sales', 'net_exp_sales', 'wages'])\n",
    "data = data.query('year !=2016')"
   ]
  },
  {
   "cell_type": "markdown",
   "metadata": {},
   "source": [
    "\n",
    "# Label engineering\n"
   ]
  },
  {
   "cell_type": "code",
   "execution_count": 8,
   "metadata": {},
   "outputs": [],
   "source": [
    "# add all missing year and comp_id combinations -\n",
    "# originally missing combinations will have NAs in all other columns\n",
    "data = data.set_index(['year','comp_id']).unstack(fill_value ='toReplace').stack().reset_index()\n",
    "data = data.replace('toReplace',np.nan) #only way I could define it as NaN"
   ]
  },
  {
   "cell_type": "code",
   "execution_count": 9,
   "metadata": {},
   "outputs": [],
   "source": [
    "# generate status_alive; if sales larger than zero and not-NA, then firm is alive\n",
    "data['status_alive'] = (data['sales'] > 0 & (False == data['sales'].isna())).astype(int)\n",
    "\n",
    "# defaults in two years if there are sales in this year but no sales two years later\n",
    "#Status_in_two_years: data.groupby('comp_id')['status_alive'].shift(-2)\n",
    "data['default'] = ((data['status_alive'] == 1) & (data.groupby('comp_id')['status_alive'].shift(-2) == 0)).astype(int)"
   ]
  },
  {
   "cell_type": "code",
   "execution_count": 10,
   "metadata": {},
   "outputs": [],
   "source": [
    "data = data.query('year <= 2013')"
   ]
  },
  {
   "cell_type": "code",
   "execution_count": 11,
   "metadata": {},
   "outputs": [
    {
     "data": {
      "text/plain": [
       "count    417708.000000\n",
       "mean          0.087276\n",
       "std           0.282240\n",
       "min           0.000000\n",
       "25%           0.000000\n",
       "50%           0.000000\n",
       "75%           0.000000\n",
       "max           1.000000\n",
       "Name: default, dtype: float64"
      ]
     },
     "execution_count": 11,
     "metadata": {},
     "output_type": "execute_result"
    }
   ],
   "source": [
    "data['default'].describe()"
   ]
  },
  {
   "cell_type": "code",
   "execution_count": 12,
   "metadata": {},
   "outputs": [
    {
     "data": {
      "text/plain": [
       "count    2.151190e+05\n",
       "mean     4.860478e+05\n",
       "std      3.885493e+06\n",
       "min     -1.472559e+07\n",
       "25%      5.344444e+03\n",
       "50%      3.055555e+04\n",
       "75%      1.083537e+05\n",
       "max      1.110294e+08\n",
       "Name: sales, dtype: float64"
      ]
     },
     "execution_count": 12,
     "metadata": {},
     "output_type": "execute_result"
    }
   ],
   "source": [
    "data['sales'].describe()"
   ]
  },
  {
   "cell_type": "code",
   "execution_count": 13,
   "metadata": {},
   "outputs": [
    {
     "name": "stderr",
     "output_type": "stream",
     "text": [
      "/Users/zholler/.local/share/virtualenvs/da_case_studies-TSbAoTA8/lib/python3.8/site-packages/pandas/core/arraylike.py:358: RuntimeWarning: divide by zero encountered in log\n",
      "/Users/zholler/.local/share/virtualenvs/da_case_studies-TSbAoTA8/lib/python3.8/site-packages/pandas/core/arraylike.py:358: RuntimeWarning: divide by zero encountered in log\n"
     ]
    }
   ],
   "source": [
    "data['sales']=np.where(data['sales'] < 0, 1, data['sales'])#has to be outside of assin()\n",
    "data = data.assign(\n",
    "    ln_sales = np.where(data['sales'] > 0 , np.log(data['sales']), (np.where(data['sales'].isna(),np.nan,0))), #NaN remain NaN\n",
    "    sales_mil=data['sales']/1000000,\n",
    "    sales_mil_log = np.where(data['sales'] > 0, np.log(data['sales']/1000000), (np.where(data['sales'].isna(),np.nan,0)))\n",
    "  )"
   ]
  },
  {
   "cell_type": "code",
   "execution_count": 14,
   "metadata": {},
   "outputs": [],
   "source": [
    "data['d1_sales_mil_log']=data['sales_mil_log']-data.groupby('comp_id')['sales_mil_log'].shift(1)"
   ]
  },
  {
   "cell_type": "code",
   "execution_count": 15,
   "metadata": {},
   "outputs": [],
   "source": [
    "# replace w 0 for new firms + add dummy to capture it\n",
    "data['age']=np.where(data['year']-data['founded_year'] < 0, 0, data['year']-data['founded_year'])\n",
    "data['new']=np.where(((data['age']<=1)|(data['balsheet_notfullyear']==1)),1,(np.where(data['age'].isna(),np.nan,0))) \n",
    "data['d1_sales_mil_log']=np.where(data['new']==1 , 0, np.where(data['new'].isna(),np.nan,data['d1_sales_mil_log']))\n",
    "data['new']=np.where(data['d1_sales_mil_log'].isna(),1,data['new'] )\n",
    "data['d1_sales_mil_log']=np.where(data['d1_sales_mil_log'].isna(),0,data['d1_sales_mil_log'])"
   ]
  },
  {
   "cell_type": "markdown",
   "metadata": {},
   "source": [
    "# Sample design"
   ]
  },
  {
   "cell_type": "code",
   "execution_count": 16,
   "metadata": {},
   "outputs": [],
   "source": [
    "# look at cross section\n",
    "data=data.query('year==2012 & status_alive == 1')\n",
    "# look at firms below 10m euro revenues and above 1000 euros\n",
    "data=data.query('sales_mil<=10 & sales_mil>=0.001')"
   ]
  },
  {
   "cell_type": "code",
   "execution_count": 17,
   "metadata": {},
   "outputs": [
    {
     "data": {
      "text/plain": [
       "count    21723.000000\n",
       "mean         0.205681\n",
       "std          0.404207\n",
       "min          0.000000\n",
       "25%          0.000000\n",
       "50%          0.000000\n",
       "75%          0.000000\n",
       "max          1.000000\n",
       "Name: default, dtype: float64"
      ]
     },
     "execution_count": 17,
     "metadata": {},
     "output_type": "execute_result"
    }
   ],
   "source": [
    "data['default'].describe()"
   ]
  },
  {
   "cell_type": "code",
   "execution_count": 18,
   "metadata": {},
   "outputs": [],
   "source": [
    "data.to_csv(data_out+'work5.csv',index=False)"
   ]
  },
  {
   "cell_type": "markdown",
   "metadata": {},
   "source": [
    "# Feature engineering"
   ]
  },
  {
   "cell_type": "code",
   "execution_count": 5,
   "metadata": {},
   "outputs": [],
   "source": [
    "current_csv_path = os.path.join(data_out, 'work5.csv')\n",
    "data = pd.read_csv(current_csv_path)"
   ]
  },
  {
   "cell_type": "code",
   "execution_count": 6,
   "metadata": {},
   "outputs": [],
   "source": [
    "# change some industry category codes\n",
    "data['ind2_cat']=data['ind2'].copy()\n",
    "data['ind2_cat']=np.where(data['ind2']>56,60,data['ind2_cat'])\n",
    "data['ind2_cat']=np.where(data['ind2']<26,20,data['ind2_cat'])\n",
    "data['ind2_cat']=np.where((data['ind2']<55)&(data['ind2']>35),40,data['ind2_cat'])\n",
    "data['ind2_cat']=np.where(data['ind2']==31,30,data['ind2_cat'])\n",
    "data['ind2_cat']=np.where(data['ind2'].isna(),99,data['ind2_cat'])"
   ]
  },
  {
   "cell_type": "code",
   "execution_count": 7,
   "metadata": {},
   "outputs": [
    {
     "data": {
      "text/plain": [
       "ind2_cat\n",
       "20.0       50\n",
       "26.0     1080\n",
       "27.0      660\n",
       "28.0     1954\n",
       "29.0      287\n",
       "30.0      168\n",
       "32.0      148\n",
       "33.0     1944\n",
       "40.0      208\n",
       "55.0     2266\n",
       "56.0    12711\n",
       "60.0      242\n",
       "99.0        5\n",
       "Name: comp_id, dtype: int64"
      ]
     },
     "execution_count": 7,
     "metadata": {},
     "output_type": "execute_result"
    }
   ],
   "source": [
    "data.groupby('ind2_cat').count()['comp_id']"
   ]
  },
  {
   "cell_type": "code",
   "execution_count": 8,
   "metadata": {},
   "outputs": [],
   "source": [
    "# Firm characteristics\n",
    "data['age2'] = data['age']**2\n",
    "data['foreign_management'] = np.where(data['foreign'] >= 0.5, 1, np.where(data['foreign'].isna(), np.nan, 0))\n",
    "data['gender_m'] = data['gender'].astype(\"category\")\n",
    "data['m_region_loc'] = data['region_m'].astype(\"category\")"
   ]
  },
  {
   "cell_type": "code",
   "execution_count": 9,
   "metadata": {},
   "outputs": [
    {
     "data": {
      "text/plain": [
       "flag_asset_problem\n",
       "0.0    21700\n",
       "1.0       13\n",
       "Name: comp_id, dtype: int64"
      ]
     },
     "execution_count": 9,
     "metadata": {},
     "output_type": "execute_result"
    }
   ],
   "source": [
    "###########################################################\n",
    "# look at more financial variables, create ratios\n",
    "###########################################################\n",
    "\n",
    "# assets can't be negative. Change them to 0 and add a flag.\n",
    "data['flag_asset_problem'] = np.where(((data['intang_assets'] < 0) | (data['curr_assets'] < 0) | (data['fixed_assets'] < 0)), 1, 0)\n",
    "data['flag_asset_problem'] = np.where(((data['intang_assets'].isna()) | (data['curr_assets'].isna()) | (data['fixed_assets'].isna())), np.nan, data['flag_asset_problem'])\n",
    "data.groupby('flag_asset_problem').count()['comp_id']"
   ]
  },
  {
   "cell_type": "code",
   "execution_count": 10,
   "metadata": {},
   "outputs": [],
   "source": [
    "data['intang_assets'] = np.where(data['intang_assets'] < 0, 0, data['intang_assets'])\n",
    "data['curr_assets'] = np.where(data['curr_assets'] < 0, 0, data['curr_assets'])\n",
    "data['fixed_assets'] = np.where(data['fixed_assets'] < 0, 0, data['fixed_assets'])"
   ]
  },
  {
   "cell_type": "code",
   "execution_count": 11,
   "metadata": {},
   "outputs": [
    {
     "data": {
      "text/plain": [
       "count    2.171300e+04\n",
       "mean     2.525889e+05\n",
       "std      1.383198e+06\n",
       "min      0.000000e+00\n",
       "25%      6.466667e+03\n",
       "50%      2.382963e+04\n",
       "75%      9.346296e+04\n",
       "max      1.046833e+08\n",
       "Name: total_assets_bs, dtype: float64"
      ]
     },
     "execution_count": 11,
     "metadata": {},
     "output_type": "execute_result"
    }
   ],
   "source": [
    "# generate total assets\n",
    "data['total_assets_bs'] = data['intang_assets'] + data['curr_assets'] + data['fixed_assets']\n",
    "data['total_assets_bs'].describe()"
   ]
  },
  {
   "cell_type": "code",
   "execution_count": 12,
   "metadata": {},
   "outputs": [],
   "source": [
    "pl_names = ['extra_exp','extra_inc',  'extra_profit_loss', 'inc_bef_tax' ,'inventories',\n",
    "              'material_exp', 'profit_loss_year', 'personnel_exp']\n",
    "bs_names = ['intang_assets', 'curr_liab', 'fixed_assets', 'liq_assets', 'curr_assets',\n",
    "              'share_eq', 'subscribed_cap', 'tang_assets' ]"
   ]
  },
  {
   "cell_type": "code",
   "execution_count": 13,
   "metadata": {},
   "outputs": [],
   "source": [
    "# divide all pl_names elements by sales and create new column for it\n",
    "data[[col +'_pl' for col in pl_names]] = data[pl_names].div(data['sales'], axis='index')"
   ]
  },
  {
   "cell_type": "code",
   "execution_count": 14,
   "metadata": {},
   "outputs": [],
   "source": [
    "# divide all bs_names elements by total_assets_bs and create new column for it\n",
    "data[[col +'_bs' for col in bs_names]] =  data[bs_names].div(data['total_assets_bs'], axis='index').replace((np.inf, -np.inf, np.nan), (0, 0, 0))\n",
    "# get Nan values where total_assets_bs is NaN\n",
    "for col in bs_names:\n",
    "    data[[col +'_bs']] = np.where(data['total_assets_bs'].isna(), np.nan, data[col +'_bs'])"
   ]
  },
  {
   "cell_type": "code",
   "execution_count": 15,
   "metadata": {},
   "outputs": [],
   "source": [
    "########################################################################\n",
    "# creating flags, and winsorizing tails\n",
    "########################################################################\n",
    "\n",
    "# Variables that represent accounting items that cannot be negative (e.g. materials)\n",
    "zero = ['extra_exp_pl', 'extra_inc_pl', 'inventories_pl', 'material_exp_pl', 'personnel_exp_pl',\n",
    "           'curr_liab_bs', 'fixed_assets_bs', 'liq_assets_bs', 'curr_assets_bs', 'subscribed_cap_bs',\n",
    "           'intang_assets_bs']\n",
    "\n",
    "data[[col +'_flag_high' for col in zero]] = np.where(data[zero].isna(), np.nan, (data[zero] > 1).astype(int))\n",
    "data[[col for col in zero]] = np.where(data[zero].isna(), np.nan, np.where(data[zero] > 1, 1, data[zero]))\n",
    "data[[col +'_flag_error' for col in zero]] = np.where(data[zero].isna(), np.nan, (data[zero] < 0).astype(int))\n",
    "data[[col for col in zero]] = np.where(data[zero].isna(), np.nan, np.where(data[zero] < 0, 0, data[zero]))"
   ]
  },
  {
   "cell_type": "code",
   "execution_count": 16,
   "metadata": {},
   "outputs": [],
   "source": [
    "# for vars that could be any, but are mostly between -1 and 1\n",
    "anyof = ['extra_profit_loss_pl', 'inc_bef_tax_pl', 'profit_loss_year_pl', 'share_eq_bs']\n",
    "\n",
    "data[[col +'_flag_low' for col in anyof]] = np.where(data[anyof].isna(), np.nan, (data[anyof] < -1).astype(int))\n",
    "data[[col for col in anyof]] = np.where(data[anyof].isna(), np.nan, np.where((data[anyof] < -1), -1, data[anyof]))\n",
    "data[[col +'_flag_high' for col in anyof]] = np.where(data[anyof].isna(), np.nan, (data[anyof] > 1).astype(int))\n",
    "data[[col for col in anyof]] = np.where(data[anyof].isna(), np.nan, np.where((data[anyof] > 1), 1, data[anyof]))\n",
    "data[[col +'_flag_zero' for col in anyof]] = np.where(data[anyof].isna(), np.nan, (data[anyof] == 0).astype(int))\n",
    "data[[col +'_quad' for col in anyof]] = np.where(data[anyof].isna(), np.nan, data[anyof]**2)"
   ]
  },
  {
   "cell_type": "code",
   "execution_count": 17,
   "metadata": {},
   "outputs": [],
   "source": [
    "# dropping flags with no variation\n",
    "flag_columns = [col for col in data.columns if 'flag' in col]\n",
    "data = data.drop(data[flag_columns].std()[(data[flag_columns].std() == 0)].index, axis=1)"
   ]
  },
  {
   "cell_type": "code",
   "execution_count": 18,
   "metadata": {},
   "outputs": [],
   "source": [
    "########################################################################\n",
    "# additional\n",
    "# including some imputation\n",
    "########################################################################\n",
    "\n",
    "# CEO age\n",
    "data['ceo_age'] = data['year'] - data['birth_year']\n",
    "data = data.assign(\n",
    "    flag_low_ceo_age = (data['ceo_age'] < 25).astype(int),\n",
    "    flag_high_ceo_age = (data['ceo_age'] > 75).astype(int),\n",
    "    flag_miss_ceo_age = (data['ceo_age'].isna()).astype(int))\n",
    "\n",
    "\n",
    "data['ceo_age'] = np.where(data['ceo_age'] < 25, 25, data['ceo_age'])\n",
    "data['ceo_age'] = np.where(data['ceo_age'] > 75, 75, data['ceo_age'])\n",
    "data['ceo_age'] = np.where(data['ceo_age'].isna(), data['ceo_age'].mean(), data['ceo_age'])\n",
    "data['ceo_young'] = (data['ceo_age'] < 40).astype(int)"
   ]
  },
  {
   "cell_type": "code",
   "execution_count": 19,
   "metadata": {},
   "outputs": [],
   "source": [
    "# number emp, very noisy measure\n",
    "data['labor_avg_mod'] = np.where(data['labor_avg'].isna(), data['labor_avg'].mean(), data['labor_avg'])\n",
    "data['flag_miss_labor_avg'] = (data['labor_avg'].isna()).astype(int)"
   ]
  },
  {
   "cell_type": "code",
   "execution_count": 20,
   "metadata": {},
   "outputs": [
    {
     "data": {
      "text/plain": [
       "count    18569.000000\n",
       "mean         0.621691\n",
       "std          1.586800\n",
       "min          0.083333\n",
       "25%          0.097222\n",
       "50%          0.229167\n",
       "75%          0.513889\n",
       "max         42.118057\n",
       "Name: labor_avg, dtype: float64"
      ]
     },
     "execution_count": 20,
     "metadata": {},
     "output_type": "execute_result"
    }
   ],
   "source": [
    "data['labor_avg'].describe()"
   ]
  },
  {
   "cell_type": "code",
   "execution_count": 21,
   "metadata": {},
   "outputs": [
    {
     "data": {
      "text/plain": [
       "count    21723.000000\n",
       "mean         0.621691\n",
       "std          1.467084\n",
       "min          0.083333\n",
       "25%          0.125000\n",
       "50%          0.284722\n",
       "75%          0.621691\n",
       "max         42.118057\n",
       "Name: labor_avg_mod, dtype: float64"
      ]
     },
     "execution_count": 21,
     "metadata": {},
     "output_type": "execute_result"
    }
   ],
   "source": [
    "data['labor_avg_mod'].describe()"
   ]
  },
  {
   "cell_type": "code",
   "execution_count": 22,
   "metadata": {},
   "outputs": [],
   "source": [
    "data = data.drop(['labor_avg'], axis=1)"
   ]
  },
  {
   "cell_type": "code",
   "execution_count": 23,
   "metadata": {},
   "outputs": [],
   "source": [
    "# create category type variables\n",
    "data['urban_m'] = data['urban_m'].astype(\"category\")\n",
    "data['ind2_cat'] = data['ind2_cat'].astype(\"category\")\n",
    "data['default_f'] = data['default'].astype(\"category\")\n",
    "data['default_f'] = data['default_f'].cat.rename_categories(['no_default', 'default'])"
   ]
  },
  {
   "cell_type": "code",
   "execution_count": 24,
   "metadata": {},
   "outputs": [],
   "source": [
    "########################################################################\n",
    " # sales \n",
    "########################################################################\n",
    "data['sales_mil_log_sq'] = data['sales_mil_log']**2"
   ]
  },
  {
   "cell_type": "code",
   "execution_count": 30,
   "metadata": {},
   "outputs": [
    {
     "data": {
      "image/png": "[encoded data removed]",
      "text/plain": [
       "<Figure size 640x480 with 1 Axes>"
      ]
     },
     "metadata": {},
     "output_type": "display_data"
    },
    {
     "data": {
      "text/plain": [
       "<ggplot: (325139056)>"
      ]
     },
     "execution_count": 30,
     "metadata": {},
     "output_type": "execute_result"
    }
   ],
   "source": [
    "ggplot(data, aes(x = \"sales_mil_log\", y = \"default\")) + geom_point(\n",
    "    color = 'blue') + geom_smooth(\n",
    "    method='lm', formula='y ~ x + x**2',  color=color[3], se = False) + geom_smooth(\n",
    "    method = \"loess\", color=color[4], se = False, size=1.5, span=0.9) + labs(\n",
    "    x=\"sales_mil_log\", y=\"default\"\n",
    ") + theme_bw()"
   ]
  },
  {
   "cell_type": "code",
   "execution_count": 31,
   "metadata": {},
   "outputs": [
    {
     "name": "stdout",
     "output_type": "stream",
     "text": [
      "                            OLS Regression Results                            \n",
      "==============================================================================\n",
      "Dep. Variable:                default   R-squared:                       0.065\n",
      "Model:                            OLS   Adj. R-squared:                  0.065\n",
      "Method:                 Least Squares   F-statistic:                     752.7\n",
      "Date:                Sun, 06 Jun 2021   Prob (F-statistic):          8.90e-317\n",
      "Time:                        00:16:44   Log-Likelihood:                -10418.\n",
      "No. Observations:               21723   AIC:                         2.084e+04\n",
      "Df Residuals:                   21720   BIC:                         2.087e+04\n",
      "Df Model:                           2                                         \n",
      "Covariance Type:            nonrobust                                         \n",
      "====================================================================================\n",
      "                       coef    std err          t      P>|t|      [0.025      0.975]\n",
      "------------------------------------------------------------------------------------\n",
      "Intercept            0.0519      0.006      8.089      0.000       0.039       0.064\n",
      "sales_mil_log       -0.0272      0.004     -6.807      0.000      -0.035      -0.019\n",
      "sales_mil_log_sq     0.0055      0.001      8.566      0.000       0.004       0.007\n",
      "==============================================================================\n",
      "Omnibus:                     3814.473   Durbin-Watson:                   2.005\n",
      "Prob(Omnibus):                  0.000   Jarque-Bera (JB):             6270.301\n",
      "Skew:                           1.314   Prob(JB):                         0.00\n",
      "Kurtosis:                       3.133   Cond. No.                         45.6\n",
      "==============================================================================\n",
      "\n",
      "Notes:\n",
      "[1] Standard Errors assume that the covariance matrix of the errors is correctly specified.\n"
     ]
    }
   ],
   "source": [
    "# Linear regressions\n",
    "ols_s = smf.ols('default ~ sales_mil_log + sales_mil_log_sq', data = data).fit()\n",
    "print(ols_s.summary())"
   ]
  },
  {
   "cell_type": "code",
   "execution_count": 32,
   "metadata": {},
   "outputs": [
    {
     "data": {
      "text/plain": [
       "count    21723.000000\n",
       "mean        -0.077675\n",
       "std          0.842694\n",
       "min         -6.889406\n",
       "25%         -0.158513\n",
       "50%          0.000000\n",
       "75%          0.103433\n",
       "max          7.880300\n",
       "Name: d1_sales_mil_log, dtype: float64"
      ]
     },
     "execution_count": 32,
     "metadata": {},
     "output_type": "execute_result"
    }
   ],
   "source": [
    "########################################################################\n",
    "# sales change\n",
    "########################################################################\n",
    "# Note: graphs not in book\n",
    "\n",
    "# lowess\n",
    "data['d1_sales_mil_log'].describe()"
   ]
  },
  {
   "cell_type": "code",
   "execution_count": 33,
   "metadata": {},
   "outputs": [
    {
     "name": "stderr",
     "output_type": "stream",
     "text": [
      "/Users/zholler/.local/share/virtualenvs/da_case_studies-TSbAoTA8/lib/python3.8/site-packages/plotnine/layer.py:467: PlotnineWarning: geom_point : Removed 56 rows containing missing values.\n"
     ]
    },
    {
     "data": {
      "image/png": "[encoded data removed]",
      "text/plain": [
       "<Figure size 640x480 with 1 Axes>"
      ]
     },
     "metadata": {},
     "output_type": "display_data"
    },
    {
     "data": {
      "text/plain": [
       "<ggplot: (325167535)>"
      ]
     },
     "execution_count": 33,
     "metadata": {},
     "output_type": "execute_result"
    }
   ],
   "source": [
    "ggplot(data, aes(x = 'd1_sales_mil_log', y = 'default')) + geom_point(\n",
    "    color=color[1]) + geom_smooth(\n",
    "    method = 'loess', color=color[0], se = False, size=1.5, span=0.9) + labs(\n",
    "    x='Growth rate (Diff of ln sales)', y='default') + scale_x_continuous(\n",
    "    limits=(-6, 10), breaks = seq(-5, 10, by = 5)\n",
    ") + theme_bw() "
   ]
  },
  {
   "cell_type": "code",
   "execution_count": 34,
   "metadata": {},
   "outputs": [],
   "source": [
    "# generate variables ---------------------------------------------------\n",
    "\n",
    "data['flag_low_d1_sales_mil_log'] = np.where(data['d1_sales_mil_log'] < -1.5, 1, 0)\n",
    "data['flag_high_d1_sales_mil_log'] = np.where(data['d1_sales_mil_log'] > 1.5, 1, 0)\n",
    "data['d1_sales_mil_log_mod'] = np.where(data['d1_sales_mil_log'] < -1.5, -1.5, \n",
    "                                        np.where(data['d1_sales_mil_log'] > 1.5, 1.5, data['d1_sales_mil_log']))\n",
    "data['d1_sales_mil_log_mod_sq'] = data['d1_sales_mil_log_mod']**2"
   ]
  },
  {
   "cell_type": "code",
   "execution_count": 35,
   "metadata": {},
   "outputs": [],
   "source": [
    "# no more imputation, drop obs if key vars missing\n",
    "data = data.dropna(subset = ['liq_assets_bs', 'foreign', 'ind'])"
   ]
  },
  {
   "cell_type": "code",
   "execution_count": 36,
   "metadata": {},
   "outputs": [
    {
     "data": {
      "text/plain": [
       "count    19036.000000\n",
       "mean         8.701828\n",
       "std          6.924531\n",
       "min          0.000000\n",
       "25%          2.000000\n",
       "50%          7.000000\n",
       "75%         15.000000\n",
       "max         34.000000\n",
       "Name: age, dtype: float64"
      ]
     },
     "execution_count": 36,
     "metadata": {},
     "output_type": "execute_result"
    }
   ],
   "source": [
    "# drop missing\n",
    "data = data.dropna(subset = ['age', 'foreign', 'material_exp_pl', 'm_region_loc'])\n",
    "data['age'].describe()"
   ]
  },
  {
   "cell_type": "code",
   "execution_count": 37,
   "metadata": {},
   "outputs": [],
   "source": [
    "# drop unused factor levels\n",
    "for col in data.select_dtypes(include=['category']).columns:\n",
    "    data[col] = data[col].cat.remove_unused_categories()"
   ]
  },
  {
   "cell_type": "code",
   "execution_count": 38,
   "metadata": {},
   "outputs": [
    {
     "name": "stderr",
     "output_type": "stream",
     "text": [
      "/Users/zholler/.local/share/virtualenvs/da_case_studies-TSbAoTA8/lib/python3.8/site-packages/plotnine/layer.py:467: PlotnineWarning: geom_point : Removed 1151 rows containing missing values.\n"
     ]
    },
    {
     "data": {
      "image/png": "[encoded data removed]",
      "text/plain": [
       "<Figure size 640x480 with 1 Axes>"
      ]
     },
     "metadata": {},
     "output_type": "display_data"
    },
    {
     "data": {
      "text/plain": [
       "<ggplot: (325638479)>"
      ]
     },
     "execution_count": 38,
     "metadata": {},
     "output_type": "execute_result"
    }
   ],
   "source": [
    "ggplot(data, aes(x = 'd1_sales_mil_log', y = 'default')) + geom_point(\n",
    "    size = 0.1, color = color[1]) + geom_smooth(\n",
    "    method = 'loess', color = color[0], se = False, size=1.5, span=0.9) + labs(\n",
    "    x='Growth rate (Diff of ln sales)', y='default') + scale_x_continuous(\n",
    "    limits=(-1.5, 1.5), breaks = seq(-1.5, 1.5, by = 0.5)\n",
    ") + theme_bw() "
   ]
  },
  {
   "cell_type": "code",
   "execution_count": 39,
   "metadata": {},
   "outputs": [
    {
     "name": "stderr",
     "output_type": "stream",
     "text": [
      "/Users/zholler/.local/share/virtualenvs/da_case_studies-TSbAoTA8/lib/python3.8/site-packages/plotnine/layer.py:467: PlotnineWarning: geom_point : Removed 142 rows containing missing values.\n"
     ]
    },
    {
     "data": {
      "image/png": "[encoded data removed]",
      "text/plain": [
       "<Figure size 640x480 with 1 Axes>"
      ]
     },
     "metadata": {},
     "output_type": "display_data"
    },
    {
     "data": {
      "text/plain": [
       "<ggplot: (325632907)>"
      ]
     },
     "execution_count": 39,
     "metadata": {},
     "output_type": "execute_result"
    }
   ],
   "source": [
    "ggplot(data, aes(x = 'd1_sales_mil_log', y = 'd1_sales_mil_log_mod')) + geom_point(\n",
    "    size = 0.1, color = color[1]) + labs(\n",
    "    x='Growth rate (Diff of ln sales) (original)', y='Growth rate (Diff of ln sales) (winsorized)'\n",
    ") + scale_x_continuous(limits=(-5, 5), breaks = seq(-5, 5, by = 1)\n",
    ") + scale_y_continuous(limits=(-3, 3), breaks = seq(-3, 3, by = 1))"
   ]
  },
  {
   "cell_type": "code",
   "execution_count": 52,
   "metadata": {},
   "outputs": [],
   "source": [
    "data.to_csv(data_out+'bisnode_firms_clean.csv',index=False)"
   ]
  }
 ],
 "metadata": {
  "kernelspec": {
   "display_name": "Python 3",
   "language": "python",
   "name": "python3"
  },
  "language_info": {
   "codemirror_mode": {
    "name": "ipython",
    "version": 3
   },
   "file_extension": ".py",
   "mimetype": "text/x-python",
   "name": "python",
   "nbconvert_exporter": "python",
   "pygments_lexer": "ipython3",
   "version": "3.8.2"
  }
 },
 "nbformat": 4,
 "nbformat_minor": 2
}
