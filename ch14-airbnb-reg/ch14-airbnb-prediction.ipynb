{
 "cells": [
  {
   "cell_type": "code",
   "execution_count": 1,
   "metadata": {},
   "outputs": [],
   "source": [
    "import os\n",
    "import sys\n",
    "\n",
    "import numpy as np\n",
    "import pandas as pd\n",
    "import seaborn as sns\n",
    "from mizani.formatters import percent_format\n",
    "from plotnine import *\n",
    "import regex as re\n",
    "import statsmodels.api as sm\n",
    "import statsmodels.formula.api as smf\n",
    "\n",
    "# Current script folder\n",
    "current_path = os.getcwd()\n",
    "dirname = \"/\".join(current_path.split(\"/\")[:-2]) + \"/\"\n",
    "# location folders\n",
    "data_in = \"../../da_data_repo/airbnb/clean/\"\n",
    "data_out = dirname + \"da_case_studies/ch14-airbnb-reg/\"\n",
    "output = \"../../da_case_studies/ch14-airbnb-reg/output/\"\n",
    "func = \"../ch00-tech-prep/\"\n",
    "sys.path.append(func)\n",
    "\n",
    "\n",
    "from py_helper_functions import *"
   ]
  },
  {
   "cell_type": "code",
   "execution_count": 2,
   "metadata": {},
   "outputs": [],
   "source": [
    "import warnings\n",
    "\n",
    "warnings.filterwarnings(\"ignore\")"
   ]
  },
  {
   "cell_type": "markdown",
   "metadata": {},
   "source": [
    "### Part 1"
   ]
  },
  {
   "cell_type": "code",
   "execution_count": 3,
   "metadata": {},
   "outputs": [],
   "source": [
    "#############\n",
    "# Load data #\n",
    "#############\n",
    "# Import data\n",
    "# Used area\n",
    "area = \"hackney\"\n",
    "data = pd.read_csv(\"airbnb_\"+area+\"_workfile_adj.csv\")\n",
    "data=data[data.columns.drop(list(data.filter(regex='Unnamed')))]"
   ]
  },
  {
   "cell_type": "code",
   "execution_count": 4,
   "metadata": {},
   "outputs": [
    {
     "data": {
      "text/html": [
       "<div>\n",
       "<style scoped>\n",
       "    .dataframe tbody tr th:only-of-type {\n",
       "        vertical-align: middle;\n",
       "    }\n",
       "\n",
       "    .dataframe tbody tr th {\n",
       "        vertical-align: top;\n",
       "    }\n",
       "\n",
       "    .dataframe thead th {\n",
       "        text-align: right;\n",
       "    }\n",
       "</style>\n",
       "<table border=\"1\" class=\"dataframe\">\n",
       "  <thead>\n",
       "    <tr style=\"text-align: right;\">\n",
       "      <th></th>\n",
       "      <th>usd_cleaning_fee</th>\n",
       "      <th>usd_price_day</th>\n",
       "      <th>p_host_response_rate</th>\n",
       "      <th>n_accommodates</th>\n",
       "      <th>n_bathrooms</th>\n",
       "      <th>n_review_scores_rating</th>\n",
       "      <th>n_number_of_reviews</th>\n",
       "      <th>n_guests_included</th>\n",
       "      <th>n_reviews_per_month</th>\n",
       "      <th>n_extra_people</th>\n",
       "      <th>...</th>\n",
       "      <th>f_bathroom</th>\n",
       "      <th>ln_number_of_reviews</th>\n",
       "      <th>f_number_of_reviews</th>\n",
       "      <th>ln_days_since</th>\n",
       "      <th>ln_days_since2</th>\n",
       "      <th>ln_days_since3</th>\n",
       "      <th>n_days_since2</th>\n",
       "      <th>n_days_since3</th>\n",
       "      <th>ln_review_scores_rating</th>\n",
       "      <th>f_minimum_nights</th>\n",
       "    </tr>\n",
       "  </thead>\n",
       "  <tbody>\n",
       "    <tr>\n",
       "      <th>count</th>\n",
       "      <td>2769.000000</td>\n",
       "      <td>4496.000000</td>\n",
       "      <td>2970.000000</td>\n",
       "      <td>4496.000000</td>\n",
       "      <td>4487.000000</td>\n",
       "      <td>3073.000000</td>\n",
       "      <td>4496.000000</td>\n",
       "      <td>4496.000000</td>\n",
       "      <td>3147.000000</td>\n",
       "      <td>4496.000000</td>\n",
       "      <td>...</td>\n",
       "      <td>4487.000000</td>\n",
       "      <td>4496.000000</td>\n",
       "      <td>4495.000000</td>\n",
       "      <td>3146.000000</td>\n",
       "      <td>3146.000000</td>\n",
       "      <td>3146.000000</td>\n",
       "      <td>3.147000e+03</td>\n",
       "      <td>3.147000e+03</td>\n",
       "      <td>3073.000000</td>\n",
       "      <td>4495.000000</td>\n",
       "    </tr>\n",
       "    <tr>\n",
       "      <th>mean</th>\n",
       "      <td>31.439870</td>\n",
       "      <td>80.556940</td>\n",
       "      <td>90.924579</td>\n",
       "      <td>2.864324</td>\n",
       "      <td>1.225986</td>\n",
       "      <td>93.323788</td>\n",
       "      <td>10.141904</td>\n",
       "      <td>1.385454</td>\n",
       "      <td>0.946295</td>\n",
       "      <td>5.991770</td>\n",
       "      <td>...</td>\n",
       "      <td>1.150435</td>\n",
       "      <td>1.414416</td>\n",
       "      <td>0.745050</td>\n",
       "      <td>5.813246</td>\n",
       "      <td>34.920619</td>\n",
       "      <td>214.912424</td>\n",
       "      <td>4.386975e+05</td>\n",
       "      <td>5.008933e+08</td>\n",
       "      <td>4.529253</td>\n",
       "      <td>2.029366</td>\n",
       "    </tr>\n",
       "    <tr>\n",
       "      <th>std</th>\n",
       "      <td>25.871418</td>\n",
       "      <td>58.915794</td>\n",
       "      <td>21.642376</td>\n",
       "      <td>1.722148</td>\n",
       "      <td>0.480064</td>\n",
       "      <td>9.133501</td>\n",
       "      <td>22.342473</td>\n",
       "      <td>0.996658</td>\n",
       "      <td>1.143208</td>\n",
       "      <td>11.255617</td>\n",
       "      <td>...</td>\n",
       "      <td>0.379318</td>\n",
       "      <td>1.318117</td>\n",
       "      <td>0.529467</td>\n",
       "      <td>1.061670</td>\n",
       "      <td>11.357470</td>\n",
       "      <td>96.884368</td>\n",
       "      <td>6.959114e+05</td>\n",
       "      <td>1.179754e+09</td>\n",
       "      <td>0.130507</td>\n",
       "      <td>0.838032</td>\n",
       "    </tr>\n",
       "    <tr>\n",
       "      <th>min</th>\n",
       "      <td>4.000000</td>\n",
       "      <td>10.000000</td>\n",
       "      <td>0.000000</td>\n",
       "      <td>1.000000</td>\n",
       "      <td>0.000000</td>\n",
       "      <td>20.000000</td>\n",
       "      <td>0.000000</td>\n",
       "      <td>1.000000</td>\n",
       "      <td>0.020000</td>\n",
       "      <td>0.000000</td>\n",
       "      <td>...</td>\n",
       "      <td>0.000000</td>\n",
       "      <td>0.000000</td>\n",
       "      <td>0.000000</td>\n",
       "      <td>0.000000</td>\n",
       "      <td>0.000000</td>\n",
       "      <td>0.000000</td>\n",
       "      <td>0.000000e+00</td>\n",
       "      <td>0.000000e+00</td>\n",
       "      <td>2.995732</td>\n",
       "      <td>1.000000</td>\n",
       "    </tr>\n",
       "    <tr>\n",
       "      <th>25%</th>\n",
       "      <td>15.000000</td>\n",
       "      <td>40.000000</td>\n",
       "      <td>96.000000</td>\n",
       "      <td>2.000000</td>\n",
       "      <td>1.000000</td>\n",
       "      <td>90.000000</td>\n",
       "      <td>0.000000</td>\n",
       "      <td>1.000000</td>\n",
       "      <td>0.210000</td>\n",
       "      <td>0.000000</td>\n",
       "      <td>...</td>\n",
       "      <td>1.000000</td>\n",
       "      <td>0.000000</td>\n",
       "      <td>0.000000</td>\n",
       "      <td>5.269144</td>\n",
       "      <td>27.763878</td>\n",
       "      <td>146.291911</td>\n",
       "      <td>3.763600e+04</td>\n",
       "      <td>7.301384e+06</td>\n",
       "      <td>4.499810</td>\n",
       "      <td>1.000000</td>\n",
       "    </tr>\n",
       "    <tr>\n",
       "      <th>50%</th>\n",
       "      <td>25.000000</td>\n",
       "      <td>65.000000</td>\n",
       "      <td>100.000000</td>\n",
       "      <td>2.000000</td>\n",
       "      <td>1.000000</td>\n",
       "      <td>96.000000</td>\n",
       "      <td>2.000000</td>\n",
       "      <td>1.000000</td>\n",
       "      <td>0.520000</td>\n",
       "      <td>0.000000</td>\n",
       "      <td>...</td>\n",
       "      <td>1.000000</td>\n",
       "      <td>1.098612</td>\n",
       "      <td>1.000000</td>\n",
       "      <td>6.006350</td>\n",
       "      <td>36.076248</td>\n",
       "      <td>216.686649</td>\n",
       "      <td>1.640250e+05</td>\n",
       "      <td>6.643012e+07</td>\n",
       "      <td>4.564348</td>\n",
       "      <td>2.000000</td>\n",
       "    </tr>\n",
       "    <tr>\n",
       "      <th>75%</th>\n",
       "      <td>40.000000</td>\n",
       "      <td>100.000000</td>\n",
       "      <td>100.000000</td>\n",
       "      <td>4.000000</td>\n",
       "      <td>1.500000</td>\n",
       "      <td>100.000000</td>\n",
       "      <td>10.000000</td>\n",
       "      <td>1.000000</td>\n",
       "      <td>1.190000</td>\n",
       "      <td>10.000000</td>\n",
       "      <td>...</td>\n",
       "      <td>1.000000</td>\n",
       "      <td>2.397895</td>\n",
       "      <td>1.000000</td>\n",
       "      <td>6.512487</td>\n",
       "      <td>42.412491</td>\n",
       "      <td>276.210824</td>\n",
       "      <td>4.529300e+05</td>\n",
       "      <td>3.048232e+08</td>\n",
       "      <td>4.605170</td>\n",
       "      <td>3.000000</td>\n",
       "    </tr>\n",
       "    <tr>\n",
       "      <th>max</th>\n",
       "      <td>500.000000</td>\n",
       "      <td>850.000000</td>\n",
       "      <td>100.000000</td>\n",
       "      <td>16.000000</td>\n",
       "      <td>8.000000</td>\n",
       "      <td>100.000000</td>\n",
       "      <td>290.000000</td>\n",
       "      <td>12.000000</td>\n",
       "      <td>9.730000</td>\n",
       "      <td>200.000000</td>\n",
       "      <td>...</td>\n",
       "      <td>2.000000</td>\n",
       "      <td>5.673323</td>\n",
       "      <td>2.000000</td>\n",
       "      <td>7.773594</td>\n",
       "      <td>60.428771</td>\n",
       "      <td>469.748759</td>\n",
       "      <td>5.650129e+06</td>\n",
       "      <td>1.343036e+10</td>\n",
       "      <td>4.605170</td>\n",
       "      <td>3.000000</td>\n",
       "    </tr>\n",
       "  </tbody>\n",
       "</table>\n",
       "<p>8 rows × 79 columns</p>\n",
       "</div>"
      ],
      "text/plain": [
       "       usd_cleaning_fee  usd_price_day  p_host_response_rate  n_accommodates  \\\n",
       "count       2769.000000    4496.000000           2970.000000     4496.000000   \n",
       "mean          31.439870      80.556940             90.924579        2.864324   \n",
       "std           25.871418      58.915794             21.642376        1.722148   \n",
       "min            4.000000      10.000000              0.000000        1.000000   \n",
       "25%           15.000000      40.000000             96.000000        2.000000   \n",
       "50%           25.000000      65.000000            100.000000        2.000000   \n",
       "75%           40.000000     100.000000            100.000000        4.000000   \n",
       "max          500.000000     850.000000            100.000000       16.000000   \n",
       "\n",
       "       n_bathrooms  n_review_scores_rating  n_number_of_reviews  \\\n",
       "count  4487.000000             3073.000000          4496.000000   \n",
       "mean      1.225986               93.323788            10.141904   \n",
       "std       0.480064                9.133501            22.342473   \n",
       "min       0.000000               20.000000             0.000000   \n",
       "25%       1.000000               90.000000             0.000000   \n",
       "50%       1.000000               96.000000             2.000000   \n",
       "75%       1.500000              100.000000            10.000000   \n",
       "max       8.000000              100.000000           290.000000   \n",
       "\n",
       "       n_guests_included  n_reviews_per_month  n_extra_people  ...  \\\n",
       "count        4496.000000          3147.000000     4496.000000  ...   \n",
       "mean            1.385454             0.946295        5.991770  ...   \n",
       "std             0.996658             1.143208       11.255617  ...   \n",
       "min             1.000000             0.020000        0.000000  ...   \n",
       "25%             1.000000             0.210000        0.000000  ...   \n",
       "50%             1.000000             0.520000        0.000000  ...   \n",
       "75%             1.000000             1.190000       10.000000  ...   \n",
       "max            12.000000             9.730000      200.000000  ...   \n",
       "\n",
       "        f_bathroom  ln_number_of_reviews  f_number_of_reviews  ln_days_since  \\\n",
       "count  4487.000000           4496.000000          4495.000000    3146.000000   \n",
       "mean      1.150435              1.414416             0.745050       5.813246   \n",
       "std       0.379318              1.318117             0.529467       1.061670   \n",
       "min       0.000000              0.000000             0.000000       0.000000   \n",
       "25%       1.000000              0.000000             0.000000       5.269144   \n",
       "50%       1.000000              1.098612             1.000000       6.006350   \n",
       "75%       1.000000              2.397895             1.000000       6.512487   \n",
       "max       2.000000              5.673323             2.000000       7.773594   \n",
       "\n",
       "       ln_days_since2  ln_days_since3  n_days_since2  n_days_since3  \\\n",
       "count     3146.000000     3146.000000   3.147000e+03   3.147000e+03   \n",
       "mean        34.920619      214.912424   4.386975e+05   5.008933e+08   \n",
       "std         11.357470       96.884368   6.959114e+05   1.179754e+09   \n",
       "min          0.000000        0.000000   0.000000e+00   0.000000e+00   \n",
       "25%         27.763878      146.291911   3.763600e+04   7.301384e+06   \n",
       "50%         36.076248      216.686649   1.640250e+05   6.643012e+07   \n",
       "75%         42.412491      276.210824   4.529300e+05   3.048232e+08   \n",
       "max         60.428771      469.748759   5.650129e+06   1.343036e+10   \n",
       "\n",
       "       ln_review_scores_rating  f_minimum_nights  \n",
       "count              3073.000000       4495.000000  \n",
       "mean                  4.529253          2.029366  \n",
       "std                   0.130507          0.838032  \n",
       "min                   2.995732          1.000000  \n",
       "25%                   4.499810          1.000000  \n",
       "50%                   4.564348          2.000000  \n",
       "75%                   4.605170          3.000000  \n",
       "max                   4.605170          3.000000  \n",
       "\n",
       "[8 rows x 79 columns]"
      ]
     },
     "execution_count": 4,
     "metadata": {},
     "output_type": "execute_result"
    }
   ],
   "source": [
    "######################\n",
    "# Quick look at data #\n",
    "######################\n",
    "data.describe()"
   ]
  },
  {
   "cell_type": "code",
   "execution_count": 5,
   "metadata": {},
   "outputs": [
    {
     "data": {
      "text/plain": [
       "Index(['usd_cleaning_fee', 'p_host_response_rate', 'n_bathrooms',\n",
       "       'n_review_scores_rating', 'n_reviews_per_month', 'n_beds',\n",
       "       'n_days_since', 'ln_accommodates2', 'ln_beds', 'f_bathroom',\n",
       "       'f_number_of_reviews', 'ln_days_since', 'ln_days_since2',\n",
       "       'ln_days_since3', 'n_days_since2', 'n_days_since3',\n",
       "       'ln_review_scores_rating', 'f_minimum_nights'],\n",
       "      dtype='object')"
      ]
     },
     "execution_count": 5,
     "metadata": {},
     "output_type": "execute_result"
    }
   ],
   "source": [
    "# where do we have missing variables now?\n",
    "to_filter=data.isna().sum()\n",
    "to_filter[to_filter>0].index"
   ]
  },
  {
   "cell_type": "code",
   "execution_count": 6,
   "metadata": {},
   "outputs": [],
   "source": [
    "# what to do with missing values?\n",
    "# 1. drop if no target (already did)\n",
    "data=data.dropna(subset=['price'])"
   ]
  },
  {
   "cell_type": "code",
   "execution_count": 7,
   "metadata": {},
   "outputs": [],
   "source": [
    "# 2. imput when few, not that important\n",
    "data['n_bathrooms']=data['n_bathrooms'].fillna(np.nanmedian(data['n_bathrooms']))\n",
    "data['n_beds']=data['n_beds'].fillna(data['n_accommodates'])\n",
    "data['f_bathroom']=data['f_bathroom'].fillna(1)\n",
    "data['f_minimum_nights']=data['f_minimum_nights'].fillna(1)\n",
    "data['f_number_of_reviews']=data['f_number_of_reviews'].fillna(1)\n",
    "data['ln_beds']=data['ln_beds'].fillna(0)"
   ]
  },
  {
   "cell_type": "code",
   "execution_count": 8,
   "metadata": {},
   "outputs": [],
   "source": [
    "# 3. drop columns when many missing not imortant\n",
    "data=data.drop([\"usd_cleaning_fee\", \"p_host_response_rate\"],axis=1)"
   ]
  },
  {
   "cell_type": "code",
   "execution_count": 9,
   "metadata": {},
   "outputs": [
    {
     "data": {
      "text/plain": [
       "Index(['n_review_scores_rating', 'n_reviews_per_month', 'n_days_since',\n",
       "       'ln_accommodates2', 'ln_days_since', 'ln_days_since2', 'ln_days_since3',\n",
       "       'n_days_since2', 'n_days_since3', 'ln_review_scores_rating'],\n",
       "      dtype='object')"
      ]
     },
     "execution_count": 9,
     "metadata": {},
     "output_type": "execute_result"
    }
   ],
   "source": [
    "# where do we have missing variables now?\n",
    "to_filter=data.isna().sum()\n",
    "to_filter[to_filter>0].index"
   ]
  },
  {
   "cell_type": "code",
   "execution_count": 10,
   "metadata": {},
   "outputs": [],
   "source": [
    "for var in [\"flag_days_since\",\"flag_review_scores_rating\",\"flag_reviews_per_month\"]:\n",
    "    data[var]=[int(x) for x in data[var.replace('flag','n')].isna()]"
   ]
  },
  {
   "cell_type": "code",
   "execution_count": 11,
   "metadata": {},
   "outputs": [],
   "source": [
    "# 4. Replace missing variables re reviews with zero, when no review + add flags\n",
    "data['n_days_since']=data['n_days_since'].fillna(np.nanmedian(data['n_days_since']))\n",
    "data['n_review_scores_rating']=data['n_review_scores_rating'].fillna(np.nanmedian(data['n_review_scores_rating']))\n",
    "data['n_reviews_per_month']=data['n_reviews_per_month'].fillna(np.nanmedian(data['n_reviews_per_month']))"
   ]
  },
  {
   "cell_type": "code",
   "execution_count": 12,
   "metadata": {},
   "outputs": [
    {
     "data": {
      "text/plain": [
       "0    3147\n",
       "1    1349\n",
       "Name: flag_days_since, dtype: int64"
      ]
     },
     "execution_count": 12,
     "metadata": {},
     "output_type": "execute_result"
    }
   ],
   "source": [
    "data.flag_days_since.value_counts()"
   ]
  },
  {
   "cell_type": "code",
   "execution_count": 13,
   "metadata": {},
   "outputs": [
    {
     "data": {
      "text/plain": [
       "count    4496.000000\n",
       "mean       80.556940\n",
       "std        58.915794\n",
       "min        10.000000\n",
       "25%        40.000000\n",
       "50%        65.000000\n",
       "75%       100.000000\n",
       "max       850.000000\n",
       "Name: price, dtype: float64"
      ]
     },
     "execution_count": 13,
     "metadata": {},
     "output_type": "execute_result"
    }
   ],
   "source": [
    "# Look at data\n",
    "data.price.describe()"
   ]
  },
  {
   "cell_type": "code",
   "execution_count": 14,
   "metadata": {},
   "outputs": [
    {
     "data": {
      "text/plain": [
       "ln_accommodates2            535\n",
       "ln_days_since              1350\n",
       "ln_days_since2             1350\n",
       "ln_days_since3             1350\n",
       "n_days_since2              1349\n",
       "n_days_since3              1349\n",
       "ln_review_scores_rating    1423\n",
       "dtype: int64"
      ]
     },
     "execution_count": 14,
     "metadata": {},
     "output_type": "execute_result"
    }
   ],
   "source": [
    "# where do we have missing variables now?\n",
    "to_filter=data.isna().sum()\n",
    "to_filter[to_filter>0]"
   ]
  },
  {
   "cell_type": "code",
   "execution_count": 15,
   "metadata": {},
   "outputs": [],
   "source": [
    "###################################\n",
    "# Business logic- define our prediction problem\n",
    "###################################\n",
    "# Decision\n",
    "# Size, we need a normal apartment, 1-7persons\n",
    "data=data.query('n_accommodates < 8')\n",
    "data.to_csv('airbnb_hackney_work.csv', index=False)"
   ]
  },
  {
   "cell_type": "code",
   "execution_count": 16,
   "metadata": {},
   "outputs": [
    {
     "data": {
      "text/html": [
       "<div>\n",
       "<style scoped>\n",
       "    .dataframe tbody tr th:only-of-type {\n",
       "        vertical-align: middle;\n",
       "    }\n",
       "\n",
       "    .dataframe tbody tr th {\n",
       "        vertical-align: top;\n",
       "    }\n",
       "\n",
       "    .dataframe thead th {\n",
       "        text-align: right;\n",
       "    }\n",
       "</style>\n",
       "<table border=\"1\" class=\"dataframe\">\n",
       "  <thead>\n",
       "    <tr style=\"text-align: right;\">\n",
       "      <th></th>\n",
       "      <th></th>\n",
       "      <th>mean_price</th>\n",
       "    </tr>\n",
       "    <tr>\n",
       "      <th>f_property_type</th>\n",
       "      <th>f_room_type</th>\n",
       "      <th></th>\n",
       "    </tr>\n",
       "  </thead>\n",
       "  <tbody>\n",
       "    <tr>\n",
       "      <th rowspan=\"3\" valign=\"top\">Apartment</th>\n",
       "      <th>Entire home/apt</th>\n",
       "      <td>106.364341</td>\n",
       "    </tr>\n",
       "    <tr>\n",
       "      <th>Private room</th>\n",
       "      <td>48.034439</td>\n",
       "    </tr>\n",
       "    <tr>\n",
       "      <th>Shared room</th>\n",
       "      <td>50.708333</td>\n",
       "    </tr>\n",
       "    <tr>\n",
       "      <th rowspan=\"3\" valign=\"top\">House</th>\n",
       "      <th>Entire home/apt</th>\n",
       "      <td>134.794118</td>\n",
       "    </tr>\n",
       "    <tr>\n",
       "      <th>Private room</th>\n",
       "      <td>42.931487</td>\n",
       "    </tr>\n",
       "    <tr>\n",
       "      <th>Shared room</th>\n",
       "      <td>38.666667</td>\n",
       "    </tr>\n",
       "  </tbody>\n",
       "</table>\n",
       "</div>"
      ],
      "text/plain": [
       "                                 mean_price\n",
       "f_property_type f_room_type                \n",
       "Apartment       Entire home/apt  106.364341\n",
       "                Private room      48.034439\n",
       "                Shared room       50.708333\n",
       "House           Entire home/apt  134.794118\n",
       "                Private room      42.931487\n",
       "                Shared room       38.666667"
      ]
     },
     "execution_count": 16,
     "metadata": {},
     "output_type": "execute_result"
    }
   ],
   "source": [
    "#####################################\n",
    "# Look at some descriptive statistics\n",
    "#####################################\n",
    "#How is the average price changing in my district by `property_type`, `room_type` and the `bed_type`?\n",
    "data.groupby([\"f_property_type\", \"f_room_type\"]).agg(mean_price=(\"price\", np.mean))"
   ]
  },
  {
   "cell_type": "code",
   "execution_count": 17,
   "metadata": {},
   "outputs": [
    {
     "data": {
      "text/html": [
       "<div>\n",
       "<style scoped>\n",
       "    .dataframe tbody tr th:only-of-type {\n",
       "        vertical-align: middle;\n",
       "    }\n",
       "\n",
       "    .dataframe tbody tr th {\n",
       "        vertical-align: top;\n",
       "    }\n",
       "\n",
       "    .dataframe thead th {\n",
       "        text-align: right;\n",
       "    }\n",
       "</style>\n",
       "<table border=\"1\" class=\"dataframe\">\n",
       "  <thead>\n",
       "    <tr style=\"text-align: right;\">\n",
       "      <th></th>\n",
       "      <th>mean_price</th>\n",
       "    </tr>\n",
       "    <tr>\n",
       "      <th>f_bed_type</th>\n",
       "      <th></th>\n",
       "    </tr>\n",
       "  </thead>\n",
       "  <tbody>\n",
       "    <tr>\n",
       "      <th>Couch</th>\n",
       "      <td>49.091954</td>\n",
       "    </tr>\n",
       "    <tr>\n",
       "      <th>Real Bed</th>\n",
       "      <td>77.838365</td>\n",
       "    </tr>\n",
       "  </tbody>\n",
       "</table>\n",
       "</div>"
      ],
      "text/plain": [
       "            mean_price\n",
       "f_bed_type            \n",
       "Couch        49.091954\n",
       "Real Bed     77.838365"
      ]
     },
     "execution_count": 17,
     "metadata": {},
     "output_type": "execute_result"
    }
   ],
   "source": [
    "data.groupby([\"f_bed_type\"]).agg(mean_price=(\"price\", np.mean))"
   ]
  },
  {
   "cell_type": "code",
   "execution_count": 18,
   "metadata": {},
   "outputs": [
    {
     "data": {
      "text/plain": [
       "count    4393.000000\n",
       "mean       77.269064\n",
       "std        53.265471\n",
       "min        10.000000\n",
       "25%        40.000000\n",
       "50%        65.000000\n",
       "75%        99.000000\n",
       "max       850.000000\n",
       "Name: price, dtype: float64"
      ]
     },
     "execution_count": 18,
     "metadata": {},
     "output_type": "execute_result"
    }
   ],
   "source": [
    "data.price.describe()"
   ]
  },
  {
   "cell_type": "code",
   "execution_count": 19,
   "metadata": {},
   "outputs": [],
   "source": [
    "# NB all graphs, we exclude  extreme values of price\n",
    "datau=data.query('price<400')"
   ]
  },
  {
   "cell_type": "code",
   "execution_count": 20,
   "metadata": {},
   "outputs": [
    {
     "data": {
      "image/png": "[encoded data removed]",
      "text/plain": [
       "<Figure size 640x480 with 1 Axes>"
      ]
     },
     "metadata": {},
     "output_type": "display_data"
    },
    {
     "data": {
      "text/plain": [
       "<ggplot: (314314789)>"
      ]
     },
     "execution_count": 20,
     "metadata": {},
     "output_type": "execute_result"
    }
   ],
   "source": [
    "# Distribution of price by type below 400# Histograms# price\n",
    "(\n",
    "    ggplot(datau, aes(x=\"price\"))\n",
    "    + geom_histogram(aes(y=\"stat(count)/sum(stat(count))\"),binwidth=10, fill=color[0], color=\"white\", alpha=0.8,boundary=0,closed=\"left\")\n",
    "    + labs(x=\"Price (US dollars)\", y=\"Percent\")\n",
    "    + scale_y_continuous(\n",
    "        expand=(0.00, 0.00),\n",
    "        limits=(0, 0.15),\n",
    "        breaks=seq(0, 0.16, by=0.03),\n",
    "        labels=percent_format()\n",
    "    )\n",
    "    + scale_x_continuous(expand=(0.00, 0.00), limits=(0, 400), breaks=seq(0, 401, 50))\n",
    "    + theme_bw()\n",
    ")"
   ]
  },
  {
   "cell_type": "code",
   "execution_count": 21,
   "metadata": {},
   "outputs": [
    {
     "data": {
      "image/png": "[encoded data removed]",
      "text/plain": [
       "<Figure size 640x480 with 1 Axes>"
      ]
     },
     "metadata": {},
     "output_type": "display_data"
    },
    {
     "data": {
      "text/plain": [
       "<ggplot: (314241500)>"
      ]
     },
     "execution_count": 21,
     "metadata": {},
     "output_type": "execute_result"
    }
   ],
   "source": [
    "(\n",
    "    ggplot(datau, aes(x=\"ln_price\"))\n",
    "    + geom_histogram(\n",
    "        aes(y=\"stat(count)/sum(stat(count))\"),\n",
    "        binwidth=0.2,\n",
    "        fill=color[0],\n",
    "        color=\"white\",\n",
    "        alpha=0.8,\n",
    "        boundary=0,\n",
    "        closed=\"left\",\n",
    "    )\n",
    "    + coord_cartesian(xlim=(2.5, 6.5))\n",
    "    + scale_y_continuous(\n",
    "        expand=(0.00, 0.00),\n",
    "        limits=(0, 0.15),\n",
    "        breaks=seq(0, 0.16, by=0.05),\n",
    "        labels=percent_format(),\n",
    "    )\n",
    "    + scale_x_continuous(expand=(0.00, 0.01), breaks=seq(2.4, 6.7, 0.6))\n",
    "    + labs(x=\"ln(price, US dollars)\", y=\"Percent\")\n",
    "    + theme_bw()\n",
    ")"
   ]
  },
  {
   "cell_type": "code",
   "execution_count": 22,
   "metadata": {},
   "outputs": [
    {
     "data": {
      "image/png": "[encoded data removed]",
      "text/plain": [
       "<Figure size 640x480 with 1 Axes>"
      ]
     },
     "metadata": {},
     "output_type": "display_data"
    },
    {
     "data": {
      "text/plain": [
       "<ggplot: (314215159)>"
      ]
     },
     "execution_count": 22,
     "metadata": {},
     "output_type": "execute_result"
    }
   ],
   "source": [
    "## Boxplot of price by room type\n",
    "(\n",
    "    ggplot(datau, aes(x=\"f_room_type\", y=\"price\"))\n",
    "    + stat_boxplot(\n",
    "        aes(group=\"f_room_type\"),\n",
    "        geom=\"errorbar\",\n",
    "        width=0.3,\n",
    "        color=(color[1], color[0], color[2]),\n",
    "        size=0.5,\n",
    "        na_rm=True,\n",
    "    )\n",
    "    + geom_boxplot(\n",
    "        aes(group=\"f_room_type\"),\n",
    "        color=(color[1], color[0], color[2]),\n",
    "        #fill=(color[1], color[0], color[2]),\n",
    "        size=0.5,\n",
    "        width=0.6,\n",
    "        alpha=0.3,\n",
    "        na_rm=True,\n",
    "        outlier_shape=\"\",\n",
    "    )\n",
    "    + scale_y_continuous(expand=(0.01, 0.01), limits=(0, 300), breaks=seq(0, 301, 100))\n",
    "    + labs(x=\"Room type\", y=\"Price (US dollars)\")\n",
    "    + theme_bw()\n",
    ")"
   ]
  },
  {
   "cell_type": "code",
   "execution_count": 61,
   "metadata": {},
   "outputs": [
    {
     "data": {
      "image/png": "[encoded data removed]",
      "text/plain": [
       "<Figure size 640x480 with 1 Axes>"
      ]
     },
     "metadata": {},
     "output_type": "display_data"
    },
    {
     "data": {
      "text/plain": [
       "<ggplot: (314482658)>"
      ]
     },
     "execution_count": 61,
     "metadata": {},
     "output_type": "execute_result"
    }
   ],
   "source": [
    "(\n",
    "    ggplot(\n",
    "        datau,\n",
    "        aes(\n",
    "            x=\"factor(n_accommodates)\",\n",
    "            y=\"price\",\n",
    "            # fill=\"factor(f_property_type)\",\n",
    "            color=\"factor(f_property_type)\",\n",
    "        ),\n",
    "    )\n",
    "    + geom_boxplot(alpha=0.8, na_rm=True, outlier_shape=\"\", width=0.8, stat=\"boxplot\")\n",
    "    # + stat_boxplot(geom=\"errorbar\", width=0.8, size=0.3, na_rm=True)\n",
    "    + scale_color_manual(name=\"\", values=(color[1], color[0]))\n",
    "    + scale_fill_manual(name=\"\", values=(color[1], color[0]))\n",
    "    + labs(x=\"Accomodates (Persons)\", y=\"Price (US dollars)\")\n",
    "    + scale_y_continuous(expand=(0.01, 0.01), limits=(0, 400), breaks=seq(0, 401, 50))\n",
    "    + theme_bw()\n",
    "    + theme(legend_position=(0.3, 0.8))\n",
    ")"
   ]
  },
  {
   "cell_type": "markdown",
   "metadata": {},
   "source": [
    "### Part2"
   ]
  },
  {
   "cell_type": "code",
   "execution_count": 62,
   "metadata": {},
   "outputs": [],
   "source": [
    "#####################\n",
    "# Setting up models #\n",
    "#####################\n",
    "# Basic Variables\n",
    "basic_lev=(\"n_accommodates\", \"n_beds\", \"f_property_type\", \"f_room_type\", \"n_days_since\", \"flag_days_since\")\n",
    "basic_add=(\"f_bathroom\",\"f_cancellation_policy\",\"f_bed_type\")\n",
    "reviews=(\"f_number_of_reviews\",\"n_review_scores_rating\", \"flag_review_scores_rating\")\n",
    "poly_lev=(\"n_accommodates2\", \"n_days_since2\", \"n_days_since3\")\n",
    "#not use p_host_response_rate due to missing obs\n",
    "amenities=list(data.filter(regex='^d_.*'))"
   ]
  },
  {
   "cell_type": "code",
   "execution_count": 63,
   "metadata": {},
   "outputs": [],
   "source": [
    "#################################################\n",
    "# Look for interactions\n",
    "################################################"
   ]
  },
  {
   "cell_type": "code",
   "execution_count": 64,
   "metadata": {},
   "outputs": [],
   "source": [
    "## Helper functions\n",
    "def price_diff_by_variables(df, factor_var, dummy_var):\n",
    "    stats = df.groupby([factor_var, dummy_var]).agg(\n",
    "        Mean=(\"price\", np.mean), sd=(\"price\", np.std), size=(\"price\", \"size\")\n",
    "    )\n",
    "    stats[\"se\"] = stats[\"sd\"] / stats[\"size\"]\n",
    "    stats[\"Mean_l\"] = stats[\"Mean\"] - (1.96 * stats[\"se\"])\n",
    "    stats[\"Mean_u\"] = stats[\"Mean\"] + (1.96 * stats[\"se\"])\n",
    "    stats = stats.drop([\"sd\", \"size\"], axis=1).reset_index()\n",
    "    plot = (\n",
    "        ggplot(\n",
    "            stats,\n",
    "            aes(\n",
    "                stats.columns[0],\n",
    "                stats.columns[2],\n",
    "                fill=\"factor(\" + stats.columns[1] + \")\",\n",
    "            ),\n",
    "        )\n",
    "        + geom_bar(stat=\"identity\", position=position_dodge(width=0.9))\n",
    "        + geom_errorbar(\n",
    "            aes(ymin=\"Mean_l\", ymax=\"Mean_u\"),\n",
    "            position=position_dodge(width=0.9),\n",
    "            width=0.25,\n",
    "        )\n",
    "        + ylab(\"Mean Price\")\n",
    "        + theme_bw()\n",
    "        + theme(\n",
    "            panel_grid_major=element_blank(),\n",
    "            panel_grid_minor=element_blank(),\n",
    "            panel_border=element_blank(),\n",
    "            axis_line=element_line(),\n",
    "        )\n",
    "        + scale_fill_grey()\n",
    "    )\n",
    "\n",
    "    return plot\n",
    "\n",
    "\n",
    "def price_diff_by_variables2(df, factor_var, dummy_var, factor_lab, dummy_lab):\n",
    "    stats = df.groupby([factor_var, dummy_var]).agg(\n",
    "        Mean=(\"price\", np.mean), sd=(\"price\", np.std), size=(\"price\", \"size\")\n",
    "    )\n",
    "    stats[\"se\"] = stats[\"sd\"] / stats[\"size\"]\n",
    "    stats[\"Mean_l\"] = stats[\"Mean\"] - (1.96 * stats[\"se\"])\n",
    "    stats[\"Mean_u\"] = stats[\"Mean\"] + (1.96 * stats[\"se\"])\n",
    "    stats = stats.drop([\"sd\", \"size\"], axis=1).reset_index()\n",
    "    plot = (\n",
    "        ggplot(\n",
    "            stats,\n",
    "            aes(\n",
    "                stats.columns[0],\n",
    "                stats.columns[2],\n",
    "                fill=\"factor(\" + stats.columns[1] + \")\",\n",
    "            ),\n",
    "        )\n",
    "        + geom_bar(stat=\"identity\", position=position_dodge(width=0.9))\n",
    "        + geom_errorbar(\n",
    "            aes(ymin=\"Mean_l\", ymax=\"Mean_u\"),\n",
    "            position=position_dodge(width=0.9),\n",
    "            width=0.25,\n",
    "        )\n",
    "        + scale_color_manual(name=dummy_lab, values=(color[1], color[0]))\n",
    "        + scale_fill_manual(name=dummy_lab, values=(color[1], color[0]))\n",
    "        + ylab(\"Mean Price\")\n",
    "        + xlab(factor_lab)\n",
    "        + theme_bw()\n",
    "        + theme(\n",
    "            panel_grid_major=element_blank(),\n",
    "            panel_grid_minor=element_blank(),\n",
    "            panel_border=element_blank(),\n",
    "            axis_line=element_line(),\n",
    "            legend_position=\"top\",\n",
    "            legend_box=\"vertical\",\n",
    "            legend_text=element_text(size=5),\n",
    "            legend_title=element_text(size=5, face=\"bold\")\n",
    "        )\n",
    "    )\n",
    "\n",
    "    return plot"
   ]
  },
  {
   "cell_type": "code",
   "execution_count": 65,
   "metadata": {},
   "outputs": [
    {
     "data": {
      "image/png": "[encoded data removed]",
      "text/plain": [
       "<Figure size 640x480 with 1 Axes>"
      ]
     },
     "metadata": {},
     "output_type": "display_data"
    },
    {
     "data": {
      "text/plain": [
       "<ggplot: (314289339)>"
      ]
     },
     "execution_count": 65,
     "metadata": {},
     "output_type": "execute_result"
    }
   ],
   "source": [
    "price_diff_by_variables2(data,\"f_room_type\",\"d_familykidfriendly\",\"Room type\", \"Family kid friendly\")"
   ]
  },
  {
   "cell_type": "code",
   "execution_count": 66,
   "metadata": {},
   "outputs": [
    {
     "data": {
      "image/png": "[encoded data removed]",
      "text/plain": [
       "<Figure size 640x480 with 1 Axes>"
      ]
     },
     "metadata": {},
     "output_type": "display_data"
    },
    {
     "data": {
      "text/plain": [
       "<ggplot: (315280210)>"
      ]
     },
     "execution_count": 66,
     "metadata": {},
     "output_type": "execute_result"
    }
   ],
   "source": [
    "price_diff_by_variables2(data, \"f_room_type\", \"d_familykidfriendly\", \"Room type\", \"Family kid friendly\")"
   ]
  },
  {
   "cell_type": "code",
   "execution_count": 67,
   "metadata": {},
   "outputs": [
    {
     "data": {
      "image/png": "[encoded data removed]",
      "text/plain": [
       "<Figure size 640x480 with 1 Axes>"
      ]
     },
     "metadata": {},
     "output_type": "display_data"
    },
    {
     "data": {
      "text/plain": [
       "<ggplot: (315552943)>"
      ]
     },
     "execution_count": 67,
     "metadata": {},
     "output_type": "execute_result"
    }
   ],
   "source": [
    "price_diff_by_variables2(data, \"f_room_type\", \"f_property_type\", \"Room type\", \"Property type\")"
   ]
  },
  {
   "cell_type": "code",
   "execution_count": 68,
   "metadata": {},
   "outputs": [],
   "source": [
    "#Look up canelation policy"
   ]
  },
  {
   "cell_type": "code",
   "execution_count": 69,
   "metadata": {},
   "outputs": [
    {
     "data": {
      "image/png": "[encoded data removed]",
      "text/plain": [
       "<Figure size 640x480 with 1 Axes>"
      ]
     },
     "metadata": {},
     "output_type": "display_data"
    },
    {
     "data": {
      "text/plain": [
       "<ggplot: (314212898)>"
      ]
     },
     "execution_count": 69,
     "metadata": {},
     "output_type": "execute_result"
    }
   ],
   "source": [
    "price_diff_by_variables2(data, \"f_cancellation_policy\", \"d_familykidfriendly\", \"Cancellation policy\", \"Family kid friendly\")"
   ]
  },
  {
   "cell_type": "code",
   "execution_count": 70,
   "metadata": {},
   "outputs": [
    {
     "data": {
      "image/png": "[encoded data removed]",
      "text/plain": [
       "<Figure size 640x480 with 1 Axes>"
      ]
     },
     "metadata": {},
     "output_type": "display_data"
    },
    {
     "data": {
      "text/plain": [
       "<ggplot: (315523973)>"
      ]
     },
     "execution_count": 70,
     "metadata": {},
     "output_type": "execute_result"
    }
   ],
   "source": [
    "price_diff_by_variables2(data, \"f_cancellation_policy\", \"d_tv\", \"Cancellation policy\", \"TV\")"
   ]
  },
  {
   "cell_type": "code",
   "execution_count": 71,
   "metadata": {},
   "outputs": [
    {
     "data": {
      "image/png": "[encoded data removed]",
      "text/plain": [
       "<Figure size 640x480 with 1 Axes>"
      ]
     },
     "metadata": {},
     "output_type": "display_data"
    },
    {
     "data": {
      "text/plain": [
       "<ggplot: (315219893)>"
      ]
     },
     "execution_count": 71,
     "metadata": {},
     "output_type": "execute_result"
    }
   ],
   "source": [
    "#Look up property type\n",
    "price_diff_by_variables2(data, \"f_property_type\", \"d_cats\", \"Property type\", \"Cats\")"
   ]
  },
  {
   "cell_type": "code",
   "execution_count": 72,
   "metadata": {},
   "outputs": [
    {
     "data": {
      "image/png": "[encoded data removed]",
      "text/plain": [
       "<Figure size 640x480 with 1 Axes>"
      ]
     },
     "metadata": {},
     "output_type": "display_data"
    },
    {
     "data": {
      "text/plain": [
       "<ggplot: (314425742)>"
      ]
     },
     "execution_count": 72,
     "metadata": {},
     "output_type": "execute_result"
    }
   ],
   "source": [
    "price_diff_by_variables2(data, \"f_property_type\", \"d_dogs\", \"Property type\", \"Dogs\")"
   ]
  },
  {
   "cell_type": "code",
   "execution_count": 73,
   "metadata": {},
   "outputs": [],
   "source": [
    "# dummies suggested by graphs\n",
    "X1 = (\"f_room_type*f_property_type\",  \"f_room_type*d_familykidfriendly\")"
   ]
  },
  {
   "cell_type": "code",
   "execution_count": 74,
   "metadata": {},
   "outputs": [],
   "source": [
    "# Additional interactions of factors and dummies\n",
    "X2=(\"d_airconditioning*f_property_type\", \"d_cats*f_property_type\", \"d_dogs*f_property_type\")\n",
    "X3=\"(f_property_type + f_room_type + f_cancellation_policy + f_bed_type) * (\"+ \"+\".join(amenities) +\")\""
   ]
  },
  {
   "cell_type": "code",
   "execution_count": 75,
   "metadata": {},
   "outputs": [],
   "source": [
    "modellev1=\"~ n_accommodates\"\n",
    "modellev2=\"~\"+\"+\".join(basic_lev)\n",
    "modellev3=\"~\"+\"+\".join(basic_lev)+\"+\"+\"+\".join(basic_add)+\"+\"+\"+\".join(reviews)\n",
    "modellev4=\"~\"+\"+\".join(basic_lev)+\"+\"+\"+\".join(basic_add)+\"+\"+\"+\".join(reviews)#+\"+\"+\"+\".join(poly_lev)\n",
    "modellev5=\"~\"+\"+\".join(basic_lev)+\"+\"+\"+\".join(basic_add)+\"+\"+\"+\".join(reviews)+\"+\"+\"+\".join(X1)\n",
    "modellev6=\"~\"+\"+\".join(basic_lev)+\"+\"+\"+\".join(basic_add)+\"+\"+\"+\".join(reviews)+\"+\"+\"+\".join(X1)+\"+\"+\"+\".join(X2)\n",
    "modellev7=\"~\"+\"+\".join(basic_lev)+\"+\"+\"+\".join(basic_add)+\"+\"+\"+\".join(reviews)+\"+\"+\"+\".join(X1)+\"+\"+\"+\".join(X2)+\"+\"+\"+\".join(amenities)\n",
    "modellev8=\"~\"+\"+\".join(basic_lev)+\"+\"+\"+\".join(basic_add)+\"+\"+\"+\".join(reviews)+\"+\"+\"+\".join(X1)+\"+\"+\"+\".join(X2)+\"+\"+\"+\".join(amenities)+\"+\"+X3"
   ]
  },
  {
   "cell_type": "code",
   "execution_count": 76,
   "metadata": {},
   "outputs": [],
   "source": [
    "#################################\n",
    "# Separate hold-out set #\n",
    "#################################\n",
    "smp_size = round(0.2 * data.shape[0])"
   ]
  },
  {
   "cell_type": "code",
   "execution_count": 77,
   "metadata": {},
   "outputs": [],
   "source": [
    "# Set the random number generator: It will make results reproducable\n",
    "np.random.seed(20180123)"
   ]
  },
  {
   "cell_type": "code",
   "execution_count": 78,
   "metadata": {},
   "outputs": [],
   "source": [
    "from sklearn.model_selection import train_test_split"
   ]
  },
  {
   "cell_type": "code",
   "execution_count": 79,
   "metadata": {},
   "outputs": [],
   "source": [
    "data_work,data_holdout=train_test_split(data, test_size=smp_size)"
   ]
  },
  {
   "cell_type": "code",
   "execution_count": 80,
   "metadata": {},
   "outputs": [],
   "source": [
    "##############################\n",
    "#      cross validation      #\n",
    "##############################\n",
    "## N = 5\n",
    "n_folds=5"
   ]
  },
  {
   "cell_type": "code",
   "execution_count": 81,
   "metadata": {},
   "outputs": [],
   "source": [
    "from sklearn.model_selection import KFold\n",
    "from statsmodels.tools.eval_measures import mse,rmse\n",
    "k = KFold(n_splits=n_folds, shuffle=False, random_state=20180124)"
   ]
  },
  {
   "cell_type": "code",
   "execution_count": 82,
   "metadata": {},
   "outputs": [],
   "source": [
    "def cv_reg(formula, data, kfold, testdata,robustse=None):\n",
    "    regression_list = []\n",
    "    predicts_on_test = []\n",
    "    rsquared = []\n",
    "    rmse_list = []\n",
    "    rmse_list_test = []\n",
    "\n",
    "    # Calculating OLS for each fold\n",
    "\n",
    "    for train_index, test_index in k.split(data):\n",
    "        # print(\"TRAIN:\", train_index, \"TEST:\", test_index)\n",
    "        data_train, data_test = data.iloc[train_index, :], data.iloc[test_index, :]\n",
    "        if robustse is None:\n",
    "            model = smf.ols(formula, data=data_train).fit()\n",
    "        else:\n",
    "            model = smf.ols(formula, data=data_train).fit(cov_type=robustse)\n",
    "        regression_list += [model]\n",
    "        predicts_on_test += [model.predict(data_test)]\n",
    "        rsquared += [model.rsquared]\n",
    "        rmse_list += [rmse(data_train[formula.split(\"~\")[0]], model.predict())]\n",
    "\n",
    "    return {\n",
    "        \"regressions\": regression_list,\n",
    "        \"test_predict\": predicts_on_test,\n",
    "        \"r2\": rsquared,\n",
    "        \"rmse\": rmse_list\n",
    "    }\n",
    "\n",
    "\n",
    "def summarize_cv(cvlist, stat=\"rmse\"):\n",
    "    result = pd.DataFrame(\n",
    "        {\"Model\" + str(x + 1): cvlist[x][stat] for x in range(len(cvlist))}\n",
    "    )\n",
    "    result[\"Resample\"] = [\"Fold\" + str(x + 1) for x in range(len(cvlist[0][\"rmse\"]))]\n",
    "    result = result.set_index(\"Resample\")\n",
    "    result = pd.concat([result, pd.DataFrame(result.mean(), columns=[\"Average\"]).T])\n",
    "    return result\n",
    "    "
   ]
  },
  {
   "cell_type": "code",
   "execution_count": 83,
   "metadata": {},
   "outputs": [],
   "source": [
    "cv_list=[]\n",
    "for i in [modellev1,modellev2,modellev3,modellev4,modellev5,modellev6,modellev7,modellev8]:\n",
    "        cv_list+=[cv_reg('price'+i, data, k, \"HC0\")]"
   ]
  },
  {
   "cell_type": "markdown",
   "metadata": {},
   "source": [
    "\n",
    "# RMSE training vs test graph - dl?\n",
    "t1_levels <- t1 %>%\n",
    "  dplyr::select(\"nvars\", \"rmse_train\", \"rmse_test\") %>%\n",
    "  gather(var,value, rmse_train:rmse_test) %>%\n",
    "  mutate(nvars2=nvars+1) %>%\n",
    "  mutate(var = factor(var, levels = c(\"rmse_train\", \"rmse_test\"),\n",
    "                      labels = c(\"RMSE Training\",\"RMSE Test\")))\n",
    "\n",
    "model_result_plot_levels <- ggplot(data = t1_levels,\n",
    "                                   aes(x = factor(nvars2), y = value, color=factor(var), group = var)) +\n",
    "  geom_line(size=1,show.legend=FALSE, na.rm = TRUE) +\n",
    "  scale_color_manual(name=\"\",\n",
    "                     values=c(color[2],color[1])) +\n",
    "  scale_y_continuous(name = \"RMSE\", limits = c(26, 50), breaks = seq(26,50, 2)) +\n",
    "  scale_x_discrete( name = \"Number of coefficients\", expand=c(0.01, 0.01)) +\n",
    "  geom_dl(aes(label = var),  method = list(\"last.points\", dl.trans(x=x-1), cex=0.4)) +\n",
    "  #scale_colour_discrete(guide = 'none') +\n",
    "  theme_bg()\n",
    "model_result_plot_levels"
   ]
  },
  {
   "cell_type": "code",
   "execution_count": 84,
   "metadata": {},
   "outputs": [],
   "source": [
    "#################################\n",
    "#           LASSO               #\n",
    "#################################"
   ]
  },
  {
   "cell_type": "code",
   "execution_count": 85,
   "metadata": {},
   "outputs": [],
   "source": [
    "vars_model_7=\"(f_property_type + f_room_type + f_cancellation_policy + f_bed_type) * (d_24hourcheckin + d_airconditioning + d_breakfast + d_buzzerwirelessintercom + d_cabletv + d_carbonmonoxidedetector + d_cats + d_dogs + d_doorman + d_doormanentry + d_dryer + d_elevatorinbuilding + d_essentials + d_familykidfriendly + d_fireextinguisher + d_firstaidkit + d_freeparkingonpremises + d_freeparkingonstreet + d_gym + d_hairdryer + d_hangers + d_heating + d_hottub + d_indoorfireplace + d_internet + d_iron + d_keypad + d_kitchen + d_laptopfriendlyworkspace + d_lockonbedroomdoor + d_lockbox + d_otherpets + d_paidparkingoffpremises + d_petsallowed + d_petsliveonthisproperty + d_pool + d_privateentrance + d_privatelivingroom + d_safetycard + d_selfcheckin + d_shampoo + d_smartlock + d_smokedetector + d_smokingallowed + d_suitableforevents + d_tv + d_washer + d_washerdryer + d_wheelchairaccessible + d_wirelessinternet)\"\n",
    "vars_model_8=modellev8"
   ]
  },
  {
   "cell_type": "code",
   "execution_count": 86,
   "metadata": {},
   "outputs": [],
   "source": [
    "#LASSO\n",
    "from sklearn.linear_model import Lasso\n",
    "import patsy\n",
    "from sklearn.model_selection import RepeatedKFold\n",
    "from sklearn.preprocessing import StandardScaler\n",
    "\n",
    "# define model evaluation method\n",
    "cv = RepeatedKFold(n_splits=5, n_repeats=1, random_state=1)\n",
    "y,  X = patsy.dmatrices('price'+vars_model_8, data)\n",
    "\n",
    "scaler = StandardScaler()\n",
    "X=scaler.fit_transform(X)\n",
    "\n",
    "X_train, X_test, y_train, y_test = train_test_split(X, y, test_size=smp_size, random_state=10)\n",
    "\n",
    "lambdas = seq(0.05,1,by=0.05)\n",
    "\n",
    "train_r_squared = np.zeros(len(lambdas))\n",
    "test_r_squared = np.zeros(len(lambdas))\n",
    "\n",
    "pred_num = X.shape[1]\n",
    "coeff_a = np.zeros((len(lambdas), pred_num))"
   ]
  },
  {
   "cell_type": "code",
   "execution_count": 87,
   "metadata": {},
   "outputs": [],
   "source": [
    "from sklearn.model_selection import cross_val_score\n",
    "\n",
    "for ind, i in enumerate(lambdas):    \n",
    "    reg = Lasso(alpha = i)\n",
    "    reg.fit(X_train, y_train)\n",
    "    results = cross_val_score(reg, X, y, cv=cv, scoring=\"r2\")\n",
    "\n",
    "    train_r_squared[ind] = reg.score(X_train, y_train)    \n",
    "    test_r_squared[ind] = reg.score(X_test, y_test)"
   ]
  },
  {
   "cell_type": "code",
   "execution_count": 88,
   "metadata": {},
   "outputs": [
    {
     "data": {
      "image/png": "[encoded data removed]",
      "text/plain": [
       "<Figure size 1296x576 with 1 Axes>"
      ]
     },
     "metadata": {},
     "output_type": "display_data"
    }
   ],
   "source": [
    "import matplotlib.pyplot as plt\n",
    "%matplotlib inline\n",
    "plt.style.use('ggplot')\n",
    "# Plotting\n",
    "plt.figure(figsize=(18, 8))\n",
    "plt.plot(train_r_squared, 'bo-', label=r'$R^2$ Training set', color=\"darkblue\", alpha=0.6, linewidth=3)\n",
    "plt.plot(test_r_squared, 'bo-', label=r'$R^2$ Test set', color=\"darkred\", alpha=0.6, linewidth=3)\n",
    "plt.xlabel('Lamda index'); plt.ylabel(r'$R^2$')\n",
    "plt.xlim(0, 6)\n",
    "plt.title(r'Evaluate lasso regression with different lamdas')\n",
    "plt.legend(loc='best')\n",
    "plt.grid()"
   ]
  },
  {
   "cell_type": "code",
   "execution_count": null,
   "metadata": {},
   "outputs": [],
   "source": [
    "df_lam = pd.DataFrame(test_r_squared*100, columns=['R_squared'])\n",
    "df_lam['lambda'] = (lambdas)\n",
    "# returns the index of the row where column has maximum value.\n",
    "df_lam.loc[df_lam['R_squared'].idxmax()]"
   ]
  },
  {
   "cell_type": "code",
   "execution_count": null,
   "metadata": {},
   "outputs": [],
   "source": [
    "reg_best = Lasso(alpha = df_lam.loc[df_lam['R_squared'].idxmax()]['lambda'])\n",
    "reg_best.fit(X_train, y_train)"
   ]
  },
  {
   "cell_type": "code",
   "execution_count": null,
   "metadata": {},
   "outputs": [],
   "source": [
    "reg_best.coef_[reg_best.coef_>0]"
   ]
  },
  {
   "cell_type": "code",
   "execution_count": null,
   "metadata": {
    "scrolled": true
   },
   "outputs": [],
   "source": [
    "from sklearn.metrics import mean_squared_error\n",
    "mean_squared_error(y_test, reg_best.predict(X_test))"
   ]
  },
  {
   "cell_type": "code",
   "execution_count": null,
   "metadata": {},
   "outputs": [],
   "source": [
    "y,  X = patsy.dmatrices('price'+vars_model_8, data)"
   ]
  },
  {
   "cell_type": "code",
   "execution_count": null,
   "metadata": {},
   "outputs": [],
   "source": [
    "from sklearn.model_selection import GridSearchCV\n",
    "# define model\n",
    "model = Lasso()\n",
    "# define model evaluation method\n",
    "cv = RepeatedKFold(n_splits=5, n_repeats=1, random_state=1)\n",
    "# define grid\n",
    "grid = dict()\n",
    "grid['alpha'] = np.arange(0.05, 1, 0.05)\n",
    "# define search\n",
    "search = GridSearchCV(model, grid, scoring='neg_mean_absolute_error', cv=cv)\n",
    "# perform the search\n",
    "results = search.fit(X, y)"
   ]
  },
  {
   "cell_type": "code",
   "execution_count": null,
   "metadata": {},
   "outputs": [],
   "source": [
    "print('MAE: %.3f' % results.best_score_)"
   ]
  },
  {
   "cell_type": "code",
   "execution_count": null,
   "metadata": {},
   "outputs": [],
   "source": [
    "results"
   ]
  },
  {
   "cell_type": "code",
   "execution_count": null,
   "metadata": {},
   "outputs": [],
   "source": []
  },
  {
   "cell_type": "code",
   "execution_count": null,
   "metadata": {},
   "outputs": [],
   "source": []
  }
 ],
 "metadata": {
  "kernelspec": {
   "display_name": "Python 3",
   "language": "python",
   "name": "python3"
  },
  "language_info": {
   "codemirror_mode": {
    "name": "ipython",
    "version": 3
   },
   "file_extension": ".py",
   "mimetype": "text/x-python",
   "name": "python",
   "nbconvert_exporter": "python",
   "pygments_lexer": "ipython3",
   "version": "3.8.6"
  }
 },
 "nbformat": 4,
 "nbformat_minor": 4
}
