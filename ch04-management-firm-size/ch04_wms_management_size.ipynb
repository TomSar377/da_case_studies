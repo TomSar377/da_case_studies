{
 "cells": [
  {
   "cell_type": "markdown",
   "metadata": {},
   "source": [
    "## Prepared for the textbook:\n",
    "-------------------------------------------------------------------\n",
    "## Data Analysis for Business, Economics, and Policy\n",
    "#### by Gabor BEKES and  Gabor KEZDI \n",
    "----------------------------------\n",
    "#### Cambridge University Press 2021\n",
    "-----------------------------------------------------------------------------------------------\n",
    "#### License: Free to share, modify and use for educational purposes. Not to be used for business purposes.\n"
   ]
  },
  {
   "cell_type": "code",
   "execution_count": 12,
   "metadata": {},
   "outputs": [],
   "source": [
    "import os\n",
    "import sys\n",
    "\n",
    "import numpy as np\n",
    "import pandas as pd\n",
    "import seaborn as sns\n",
    "from mizani.formatters import percent_format\n",
    "from plotnine import *\n",
    "\n",
    "# Current script folder\n",
    "current_path = os.getcwd()\n",
    "dirname = \"/\".join(current_path.split(\"/\")[:-2]) + \"/\"\n",
    "# location folders\n",
    "data_in = dirname + \"da_data_repo/wms-management-survey/clean/\"\n",
    "data_out = dirname + \"da_case_studies/ch04-management-firm-size/\"\n",
    "output = dirname + \"da_case_studies/ch04-management-firm-size/output/\"\n",
    "func = dirname + \"da_case_studies/ch00-tech-prep/\"\n",
    "sys.path.append(func)\n",
    "\n",
    "\n",
    "from py_helper_functions import *"
   ]
  },
  {
   "cell_type": "code",
   "execution_count": 13,
   "metadata": {},
   "outputs": [],
   "source": [
    "import warnings\n",
    "\n",
    "warnings.filterwarnings(\"ignore\")"
   ]
  },
  {
   "cell_type": "code",
   "execution_count": 14,
   "metadata": {},
   "outputs": [],
   "source": [
    "# Import data\n",
    "df = pd.read_csv(data_in + \"wms_da_textbook.csv\")"
   ]
  },
  {
   "cell_type": "code",
   "execution_count": 15,
   "metadata": {},
   "outputs": [],
   "source": [
    "# Sample selection\n",
    "df = df.query('country==\"Mexico\" & wave==2013 & emp_firm>=100  & emp_firm<=5000')"
   ]
  },
  {
   "cell_type": "code",
   "execution_count": 16,
   "metadata": {},
   "outputs": [
    {
     "data": {
      "text/plain": [
       "count     300.000000\n",
       "mean      761.140000\n",
       "std       977.035685\n",
       "min       100.000000\n",
       "25%       200.000000\n",
       "50%       353.000000\n",
       "75%       900.000000\n",
       "max      5000.000000\n",
       "Name: emp_firm, dtype: float64"
      ]
     },
     "execution_count": 16,
     "metadata": {},
     "output_type": "execute_result"
    }
   ],
   "source": [
    "df.emp_firm.describe()"
   ]
  },
  {
   "cell_type": "code",
   "execution_count": 17,
   "metadata": {},
   "outputs": [
    {
     "data": {
      "text/html": [
       "<div>\n",
       "<style scoped>\n",
       "    .dataframe tbody tr th:only-of-type {\n",
       "        vertical-align: middle;\n",
       "    }\n",
       "\n",
       "    .dataframe tbody tr th {\n",
       "        vertical-align: top;\n",
       "    }\n",
       "\n",
       "    .dataframe thead th {\n",
       "        text-align: right;\n",
       "    }\n",
       "</style>\n",
       "<table border=\"1\" class=\"dataframe\">\n",
       "  <thead>\n",
       "    <tr style=\"text-align: right;\">\n",
       "      <th></th>\n",
       "      <th>management</th>\n",
       "      <th>emp_firm</th>\n",
       "    </tr>\n",
       "  </thead>\n",
       "  <tbody>\n",
       "    <tr>\n",
       "      <th>count</th>\n",
       "      <td>300.000000</td>\n",
       "      <td>300.000000</td>\n",
       "    </tr>\n",
       "    <tr>\n",
       "      <th>mean</th>\n",
       "      <td>2.938519</td>\n",
       "      <td>761.140000</td>\n",
       "    </tr>\n",
       "    <tr>\n",
       "      <th>std</th>\n",
       "      <td>0.601059</td>\n",
       "      <td>977.035685</td>\n",
       "    </tr>\n",
       "    <tr>\n",
       "      <th>min</th>\n",
       "      <td>1.277778</td>\n",
       "      <td>100.000000</td>\n",
       "    </tr>\n",
       "    <tr>\n",
       "      <th>25%</th>\n",
       "      <td>2.555556</td>\n",
       "      <td>200.000000</td>\n",
       "    </tr>\n",
       "    <tr>\n",
       "      <th>50%</th>\n",
       "      <td>2.944444</td>\n",
       "      <td>353.000000</td>\n",
       "    </tr>\n",
       "    <tr>\n",
       "      <th>75%</th>\n",
       "      <td>3.277778</td>\n",
       "      <td>900.000000</td>\n",
       "    </tr>\n",
       "    <tr>\n",
       "      <th>max</th>\n",
       "      <td>4.611111</td>\n",
       "      <td>5000.000000</td>\n",
       "    </tr>\n",
       "  </tbody>\n",
       "</table>\n",
       "</div>"
      ],
      "text/plain": [
       "       management     emp_firm\n",
       "count  300.000000   300.000000\n",
       "mean     2.938519   761.140000\n",
       "std      0.601059   977.035685\n",
       "min      1.277778   100.000000\n",
       "25%      2.555556   200.000000\n",
       "50%      2.944444   353.000000\n",
       "75%      3.277778   900.000000\n",
       "max      4.611111  5000.000000"
      ]
     },
     "execution_count": 17,
     "metadata": {},
     "output_type": "execute_result"
    }
   ],
   "source": [
    "# Save workfile\n",
    "df.to_csv(data_out + \"ch04-wms-work.csv\", index=False)\n",
    "# Summary\n",
    "df.loc[:, [\"management\", \"emp_firm\"]].describe()"
   ]
  },
  {
   "cell_type": "code",
   "execution_count": 18,
   "metadata": {},
   "outputs": [
    {
     "data": {
      "image/png": "[encoded data removed]",
      "text/plain": [
       "<Figure size 640x480 with 1 Axes>"
      ]
     },
     "metadata": {},
     "output_type": "display_data"
    },
    {
     "data": {
      "text/plain": [
       "<ggplot: (8766893141456)>"
      ]
     },
     "execution_count": 18,
     "metadata": {},
     "output_type": "execute_result"
    }
   ],
   "source": [
    "ggplot(df, aes(x=\"management\")) + geom_histogram(\n",
    "    aes(y=\"stat(count)/sum(stat(count))\"),\n",
    "    fill=color[0],\n",
    "    color=\"white\",\n",
    "    binwidth=0.25,\n",
    "    boundary=0,\n",
    "    closed=\"left\"\n",
    ") + labs(x=\"Management score\", y=\"Percent\") + scale_x_continuous(\n",
    "    expand=(0.01, 0.01), limits=(1, 5)\n",
    ") + scale_y_continuous(\n",
    "    expand=(0.00, 0.00),\n",
    "    limits=(0, 0.25),\n",
    "    breaks=seq(0, 0.26, by=0.05),\n",
    "    labels=percent_format(),\n",
    ") + theme_bw()"
   ]
  },
  {
   "cell_type": "code",
   "execution_count": 19,
   "metadata": {},
   "outputs": [
    {
     "data": {
      "image/png": "[encoded data removed]",
      "text/plain": [
       "<Figure size 640x480 with 1 Axes>"
      ]
     },
     "metadata": {},
     "output_type": "display_data"
    },
    {
     "data": {
      "text/plain": [
       "<ggplot: (8766893102957)>"
      ]
     },
     "execution_count": 19,
     "metadata": {},
     "output_type": "execute_result"
    }
   ],
   "source": [
    "ggplot(df, aes(x=\"emp_firm\",y=\"stat(count)/sum(stat(count))\")) + geom_histogram(\n",
    "    fill=color[0], color=\"white\", binwidth=200,boundary=0,closed=\"left\"\n",
    ") + labs(x=\"Firm size (employment)\", y=\"Percent\") + scale_x_continuous(\n",
    "    expand=(0.01, 0.01), limits=(0, 5000), breaks=seq(0, 5001, by=1000)\n",
    ") + scale_y_continuous(\n",
    "    expand=(0.00, 0.00),\n",
    "    limits=(0, 0.3),\n",
    "    breaks=seq(0, 0.5, by=0.05),\n",
    "    labels=percent_format(),\n",
    ") + theme_bw()"
   ]
  },
  {
   "cell_type": "code",
   "execution_count": 20,
   "metadata": {},
   "outputs": [
    {
     "data": {
      "image/png": "[encoded data removed]",
      "text/plain": [
       "<Figure size 640x480 with 1 Axes>"
      ]
     },
     "metadata": {},
     "output_type": "display_data"
    },
    {
     "data": {
      "text/plain": [
       "<ggplot: (8766932957959)>"
      ]
     },
     "execution_count": 20,
     "metadata": {},
     "output_type": "execute_result"
    }
   ],
   "source": [
    "ggplot(df, aes(x=\"emp_firm\")) + geom_histogram(\n",
    "    aes(y=\"stat(count)/sum(stat(count))\"), fill=color[0], color=\"white\", binwidth=200,boundary=0,closed=\"left\"\n",
    ") + theme_bw() + labs(x=\"Firm size (employment)\", y=\"Percent\") + scale_x_continuous(\n",
    "    expand=(0.01, 0.01), limits=(0, 5000), breaks=seq(0, 5001, by=1000)\n",
    ")"
   ]
  },
  {
   "cell_type": "code",
   "execution_count": 21,
   "metadata": {},
   "outputs": [
    {
     "data": {
      "text/html": [
       "<div>\n",
       "<style scoped>\n",
       "    .dataframe tbody tr th:only-of-type {\n",
       "        vertical-align: middle;\n",
       "    }\n",
       "\n",
       "    .dataframe tbody tr th {\n",
       "        vertical-align: top;\n",
       "    }\n",
       "\n",
       "    .dataframe thead th {\n",
       "        text-align: right;\n",
       "    }\n",
       "</style>\n",
       "<table border=\"1\" class=\"dataframe\">\n",
       "  <thead>\n",
       "    <tr style=\"text-align: right;\">\n",
       "      <th></th>\n",
       "      <th>firmid</th>\n",
       "      <th>wave</th>\n",
       "      <th>sic</th>\n",
       "      <th>management</th>\n",
       "      <th>operations</th>\n",
       "      <th>monitor</th>\n",
       "      <th>target</th>\n",
       "      <th>people</th>\n",
       "      <th>lean1</th>\n",
       "      <th>lean2</th>\n",
       "      <th>...</th>\n",
       "      <th>aa_196</th>\n",
       "      <th>aa_197</th>\n",
       "      <th>aa_198</th>\n",
       "      <th>aa_199</th>\n",
       "      <th>aa_200</th>\n",
       "      <th>aa_201</th>\n",
       "      <th>aa_202</th>\n",
       "      <th>aa_203</th>\n",
       "      <th>aa_204</th>\n",
       "      <th>aa_205</th>\n",
       "    </tr>\n",
       "  </thead>\n",
       "  <tbody>\n",
       "    <tr>\n",
       "      <th>count</th>\n",
       "      <td>300.000000</td>\n",
       "      <td>300.0</td>\n",
       "      <td>300.000000</td>\n",
       "      <td>300.000000</td>\n",
       "      <td>300.000000</td>\n",
       "      <td>300.000000</td>\n",
       "      <td>300.000000</td>\n",
       "      <td>300.000000</td>\n",
       "      <td>300.000000</td>\n",
       "      <td>300.000000</td>\n",
       "      <td>...</td>\n",
       "      <td>300.0</td>\n",
       "      <td>300.0</td>\n",
       "      <td>300.0</td>\n",
       "      <td>300.0</td>\n",
       "      <td>300.0</td>\n",
       "      <td>300.0</td>\n",
       "      <td>300.0</td>\n",
       "      <td>300.0</td>\n",
       "      <td>300.0</td>\n",
       "      <td>300.0</td>\n",
       "    </tr>\n",
       "    <tr>\n",
       "      <th>mean</th>\n",
       "      <td>7977.316667</td>\n",
       "      <td>2013.0</td>\n",
       "      <td>29.390000</td>\n",
       "      <td>2.938519</td>\n",
       "      <td>2.815000</td>\n",
       "      <td>3.320667</td>\n",
       "      <td>2.746667</td>\n",
       "      <td>2.821111</td>\n",
       "      <td>2.783333</td>\n",
       "      <td>2.846667</td>\n",
       "      <td>...</td>\n",
       "      <td>0.0</td>\n",
       "      <td>0.0</td>\n",
       "      <td>0.0</td>\n",
       "      <td>0.0</td>\n",
       "      <td>0.0</td>\n",
       "      <td>0.0</td>\n",
       "      <td>0.0</td>\n",
       "      <td>0.0</td>\n",
       "      <td>0.0</td>\n",
       "      <td>0.0</td>\n",
       "    </tr>\n",
       "    <tr>\n",
       "      <th>std</th>\n",
       "      <td>118.193890</td>\n",
       "      <td>0.0</td>\n",
       "      <td>5.684977</td>\n",
       "      <td>0.601059</td>\n",
       "      <td>0.959868</td>\n",
       "      <td>0.764934</td>\n",
       "      <td>0.705892</td>\n",
       "      <td>0.551878</td>\n",
       "      <td>1.039225</td>\n",
       "      <td>1.039273</td>\n",
       "      <td>...</td>\n",
       "      <td>0.0</td>\n",
       "      <td>0.0</td>\n",
       "      <td>0.0</td>\n",
       "      <td>0.0</td>\n",
       "      <td>0.0</td>\n",
       "      <td>0.0</td>\n",
       "      <td>0.0</td>\n",
       "      <td>0.0</td>\n",
       "      <td>0.0</td>\n",
       "      <td>0.0</td>\n",
       "    </tr>\n",
       "    <tr>\n",
       "      <th>min</th>\n",
       "      <td>7778.000000</td>\n",
       "      <td>2013.0</td>\n",
       "      <td>20.000000</td>\n",
       "      <td>1.277778</td>\n",
       "      <td>1.000000</td>\n",
       "      <td>1.000000</td>\n",
       "      <td>1.200000</td>\n",
       "      <td>1.166667</td>\n",
       "      <td>1.000000</td>\n",
       "      <td>1.000000</td>\n",
       "      <td>...</td>\n",
       "      <td>0.0</td>\n",
       "      <td>0.0</td>\n",
       "      <td>0.0</td>\n",
       "      <td>0.0</td>\n",
       "      <td>0.0</td>\n",
       "      <td>0.0</td>\n",
       "      <td>0.0</td>\n",
       "      <td>0.0</td>\n",
       "      <td>0.0</td>\n",
       "      <td>0.0</td>\n",
       "    </tr>\n",
       "    <tr>\n",
       "      <th>25%</th>\n",
       "      <td>7872.500000</td>\n",
       "      <td>2013.0</td>\n",
       "      <td>25.000000</td>\n",
       "      <td>2.555556</td>\n",
       "      <td>2.500000</td>\n",
       "      <td>2.800000</td>\n",
       "      <td>2.200000</td>\n",
       "      <td>2.500000</td>\n",
       "      <td>2.000000</td>\n",
       "      <td>2.000000</td>\n",
       "      <td>...</td>\n",
       "      <td>0.0</td>\n",
       "      <td>0.0</td>\n",
       "      <td>0.0</td>\n",
       "      <td>0.0</td>\n",
       "      <td>0.0</td>\n",
       "      <td>0.0</td>\n",
       "      <td>0.0</td>\n",
       "      <td>0.0</td>\n",
       "      <td>0.0</td>\n",
       "      <td>0.0</td>\n",
       "    </tr>\n",
       "    <tr>\n",
       "      <th>50%</th>\n",
       "      <td>7973.000000</td>\n",
       "      <td>2013.0</td>\n",
       "      <td>30.000000</td>\n",
       "      <td>2.944444</td>\n",
       "      <td>3.000000</td>\n",
       "      <td>3.400000</td>\n",
       "      <td>2.800000</td>\n",
       "      <td>2.833333</td>\n",
       "      <td>3.000000</td>\n",
       "      <td>3.000000</td>\n",
       "      <td>...</td>\n",
       "      <td>0.0</td>\n",
       "      <td>0.0</td>\n",
       "      <td>0.0</td>\n",
       "      <td>0.0</td>\n",
       "      <td>0.0</td>\n",
       "      <td>0.0</td>\n",
       "      <td>0.0</td>\n",
       "      <td>0.0</td>\n",
       "      <td>0.0</td>\n",
       "      <td>0.0</td>\n",
       "    </tr>\n",
       "    <tr>\n",
       "      <th>75%</th>\n",
       "      <td>8083.500000</td>\n",
       "      <td>2013.0</td>\n",
       "      <td>34.000000</td>\n",
       "      <td>3.277778</td>\n",
       "      <td>3.500000</td>\n",
       "      <td>3.800000</td>\n",
       "      <td>3.200000</td>\n",
       "      <td>3.166667</td>\n",
       "      <td>4.000000</td>\n",
       "      <td>4.000000</td>\n",
       "      <td>...</td>\n",
       "      <td>0.0</td>\n",
       "      <td>0.0</td>\n",
       "      <td>0.0</td>\n",
       "      <td>0.0</td>\n",
       "      <td>0.0</td>\n",
       "      <td>0.0</td>\n",
       "      <td>0.0</td>\n",
       "      <td>0.0</td>\n",
       "      <td>0.0</td>\n",
       "      <td>0.0</td>\n",
       "    </tr>\n",
       "    <tr>\n",
       "      <th>max</th>\n",
       "      <td>8180.000000</td>\n",
       "      <td>2013.0</td>\n",
       "      <td>39.000000</td>\n",
       "      <td>4.611111</td>\n",
       "      <td>5.000000</td>\n",
       "      <td>5.000000</td>\n",
       "      <td>4.600000</td>\n",
       "      <td>4.333333</td>\n",
       "      <td>5.000000</td>\n",
       "      <td>5.000000</td>\n",
       "      <td>...</td>\n",
       "      <td>0.0</td>\n",
       "      <td>0.0</td>\n",
       "      <td>0.0</td>\n",
       "      <td>0.0</td>\n",
       "      <td>0.0</td>\n",
       "      <td>0.0</td>\n",
       "      <td>0.0</td>\n",
       "      <td>0.0</td>\n",
       "      <td>0.0</td>\n",
       "      <td>0.0</td>\n",
       "    </tr>\n",
       "  </tbody>\n",
       "</table>\n",
       "<p>8 rows × 240 columns</p>\n",
       "</div>"
      ],
      "text/plain": [
       "            firmid    wave         sic  management  operations     monitor  \\\n",
       "count   300.000000   300.0  300.000000  300.000000  300.000000  300.000000   \n",
       "mean   7977.316667  2013.0   29.390000    2.938519    2.815000    3.320667   \n",
       "std     118.193890     0.0    5.684977    0.601059    0.959868    0.764934   \n",
       "min    7778.000000  2013.0   20.000000    1.277778    1.000000    1.000000   \n",
       "25%    7872.500000  2013.0   25.000000    2.555556    2.500000    2.800000   \n",
       "50%    7973.000000  2013.0   30.000000    2.944444    3.000000    3.400000   \n",
       "75%    8083.500000  2013.0   34.000000    3.277778    3.500000    3.800000   \n",
       "max    8180.000000  2013.0   39.000000    4.611111    5.000000    5.000000   \n",
       "\n",
       "           target      people       lean1       lean2  ...  aa_196  aa_197  \\\n",
       "count  300.000000  300.000000  300.000000  300.000000  ...   300.0   300.0   \n",
       "mean     2.746667    2.821111    2.783333    2.846667  ...     0.0     0.0   \n",
       "std      0.705892    0.551878    1.039225    1.039273  ...     0.0     0.0   \n",
       "min      1.200000    1.166667    1.000000    1.000000  ...     0.0     0.0   \n",
       "25%      2.200000    2.500000    2.000000    2.000000  ...     0.0     0.0   \n",
       "50%      2.800000    2.833333    3.000000    3.000000  ...     0.0     0.0   \n",
       "75%      3.200000    3.166667    4.000000    4.000000  ...     0.0     0.0   \n",
       "max      4.600000    4.333333    5.000000    5.000000  ...     0.0     0.0   \n",
       "\n",
       "       aa_198  aa_199  aa_200  aa_201  aa_202  aa_203  aa_204  aa_205  \n",
       "count   300.0   300.0   300.0   300.0   300.0   300.0   300.0   300.0  \n",
       "mean      0.0     0.0     0.0     0.0     0.0     0.0     0.0     0.0  \n",
       "std       0.0     0.0     0.0     0.0     0.0     0.0     0.0     0.0  \n",
       "min       0.0     0.0     0.0     0.0     0.0     0.0     0.0     0.0  \n",
       "25%       0.0     0.0     0.0     0.0     0.0     0.0     0.0     0.0  \n",
       "50%       0.0     0.0     0.0     0.0     0.0     0.0     0.0     0.0  \n",
       "75%       0.0     0.0     0.0     0.0     0.0     0.0     0.0     0.0  \n",
       "max       0.0     0.0     0.0     0.0     0.0     0.0     0.0     0.0  \n",
       "\n",
       "[8 rows x 240 columns]"
      ]
     },
     "execution_count": 21,
     "metadata": {},
     "output_type": "execute_result"
    }
   ],
   "source": [
    "df.describe()"
   ]
  },
  {
   "cell_type": "code",
   "execution_count": 22,
   "metadata": {},
   "outputs": [],
   "source": [
    "#### NOT properly finished"
   ]
  },
  {
   "cell_type": "code",
   "execution_count": 24,
   "metadata": {},
   "outputs": [
    {
     "data": {
      "text/plain": [
       "count    300.000000\n",
       "mean       6.081850\n",
       "std        0.992700\n",
       "min        4.605170\n",
       "25%        5.298317\n",
       "50%        5.866432\n",
       "75%        6.802395\n",
       "max        8.517193\n",
       "Name: lnemp, dtype: float64"
      ]
     },
     "execution_count": 24,
     "metadata": {},
     "output_type": "execute_result"
    }
   ],
   "source": [
    "df[\"lnemp\"] = np.log(df.emp_firm)\n",
    "df.lnemp.describe()"
   ]
  },
  {
   "cell_type": "code",
   "execution_count": 25,
   "metadata": {},
   "outputs": [
    {
     "data": {
      "image/png": "[encoded data removed]",
      "text/plain": [
       "<Figure size 640x480 with 1 Axes>"
      ]
     },
     "metadata": {},
     "output_type": "display_data"
    },
    {
     "data": {
      "text/plain": [
       "<ggplot: (8766972621403)>"
      ]
     },
     "execution_count": 25,
     "metadata": {},
     "output_type": "execute_result"
    }
   ],
   "source": [
    "ggplot(df, aes(x=\"lnemp\")) + geom_histogram(\n",
    "    aes(y=\"stat(count)/sum(stat(count))\"),\n",
    "    color=\"white\",\n",
    "    fill=color[0],\n",
    "    binwidth=0.25,\n",
    "    boundary=0,\n",
    "    closed=\"left\"\n",
    ") + labs(x=\"Firm size (ln(employment))\", y=\"Percent\") + scale_x_continuous(\n",
    "    expand=(0.01, 0.01), limits=(4, 9)\n",
    ") + scale_y_continuous(\n",
    "    expand=(0.00, 0.00),\n",
    "    limits=(0, 0.2),\n",
    "    breaks=seq(0, 0.2, by=0.04),\n",
    "    labels=percent_format(),\n",
    ") + theme_bw()"
   ]
  },
  {
   "cell_type": "code",
   "execution_count": 26,
   "metadata": {},
   "outputs": [],
   "source": [
    "df[\"emp3bins\"] = np.where(df.emp_firm < 200, 1, pd.np.nan)\n",
    "df[\"emp3bins\"] = np.where((df.emp_firm >= 200) & (df.emp_firm < 1000), 2, df.emp3bins)\n",
    "df[\"emp3bins\"] = np.where(df.emp_firm >= 1000, 3, df.emp3bins)"
   ]
  },
  {
   "cell_type": "code",
   "execution_count": 27,
   "metadata": {},
   "outputs": [
    {
     "data": {
      "text/plain": [
       "count    300.000000\n",
       "mean       2.000000\n",
       "std        0.693978\n",
       "min        1.000000\n",
       "25%        2.000000\n",
       "50%        2.000000\n",
       "75%        2.000000\n",
       "max        3.000000\n",
       "Name: emp3bins, dtype: float64"
      ]
     },
     "execution_count": 27,
     "metadata": {},
     "output_type": "execute_result"
    }
   ],
   "source": [
    "df.emp3bins.describe()"
   ]
  },
  {
   "cell_type": "code",
   "execution_count": 28,
   "metadata": {},
   "outputs": [],
   "source": [
    "df1 = pd.DataFrame(\n",
    "    df.loc[:, [\"emp3bins\", \"lean1\"]].groupby([\"emp3bins\", \"lean1\"]).agg(\"size\")\n",
    ").reset_index()\n",
    "\n",
    "df1.columns = [\"emp3bins\", \"lean1\", \"Count\"]\n",
    "\n",
    "group_counts=df1.groupby('emp3bins').agg(\"sum\")['Count']\n",
    "\n",
    "df1.loc[df1.emp3bins==1,'Percent']=round(df1.loc[df1.emp3bins==1,'Count']/group_counts[1],5)\n",
    "df1.loc[df1.emp3bins==2,'Percent']=round(df1.loc[df1.emp3bins==2,'Count']/group_counts[2],5)\n",
    "df1.loc[df1.emp3bins==3,'Percent']=round(df1.loc[df1.emp3bins==3,'Count']/group_counts[3],5)\n",
    "\n",
    "df1 = df1.assign(\n",
    "    lean1=pd.Categorical(\n",
    "        df1[\"lean1\"], categories=sorted(set(df[\"lean1\"]), reverse=True)\n",
    "    ))"
   ]
  },
  {
   "cell_type": "code",
   "execution_count": 17,
   "metadata": {},
   "outputs": [
    {
     "data": {
      "image/png": "[encoded data removed]",
      "text/plain": [
       "<Figure size 640x480 with 1 Axes>"
      ]
     },
     "metadata": {},
     "output_type": "display_data"
    },
    {
     "data": {
      "text/plain": [
       "<ggplot: (8781497458682)>"
      ]
     },
     "execution_count": 17,
     "metadata": {},
     "output_type": "execute_result"
    }
   ],
   "source": [
    "ggplot(df1, aes(x=\"emp3bins\", y=\"Percent\", fill=\"lean1\")) + geom_bar(\n",
    "    stat=\"identity\", position=\"fill\", width=0.6, color=\"white\", size=0.5, alpha=0.8\n",
    ") + scale_y_continuous(\n",
    "    expand=(0, 0), limits=(0, 1), breaks=seq(0, 1.1, by=0.2), labels=percent_format()\n",
    ") + labs(\n",
    "    x=\"Firm size (employment), 3 bins\", y=\"Percent\"\n",
    ") + theme_bw() + theme(\n",
    "    legend_position=\"right\"\n",
    ") + scale_fill_manual(\n",
    "    values=(color[2], color[0], color[4], color[1], color[3]), name=\" \"\n",
    ") + scale_x_discrete(limits=[1,2,3],\n",
    "    labels=[\"Small\", \"Medium\", \"Large\"]\n",
    ")"
   ]
  },
  {
   "cell_type": "code",
   "execution_count": 18,
   "metadata": {},
   "outputs": [],
   "source": [
    "df1 = pd.DataFrame(\n",
    "    df.loc[:, [\"emp3bins\", \"perf2\"]].groupby([\"emp3bins\", \"perf2\"]).agg(\"size\")\n",
    ").reset_index()\n",
    "\n",
    "df1.columns = [\"emp3bins\", \"perf2\", \"Count\"]\n",
    "\n",
    "group_counts=df1.groupby('emp3bins').agg(\"sum\")['Count']\n",
    "\n",
    "df1.loc[df1.emp3bins==1,'Percent']=round(df1.loc[df1.emp3bins==1,'Count']/group_counts[1],5)\n",
    "df1.loc[df1.emp3bins==2,'Percent']=round(df1.loc[df1.emp3bins==2,'Count']/group_counts[2],5)\n",
    "df1.loc[df1.emp3bins==3,'Percent']=round(df1.loc[df1.emp3bins==3,'Count']/group_counts[3],5)\n",
    "\n",
    "df1 = df1.assign(\n",
    "    perf2=pd.Categorical(\n",
    "        df1[\"perf2\"], categories=sorted(set(df[\"perf2\"]), reverse=True)\n",
    "    ))"
   ]
  },
  {
   "cell_type": "code",
   "execution_count": 19,
   "metadata": {},
   "outputs": [
    {
     "data": {
      "image/png": "[encoded data removed]",
      "text/plain": [
       "<Figure size 640x480 with 1 Axes>"
      ]
     },
     "metadata": {},
     "output_type": "display_data"
    },
    {
     "data": {
      "text/plain": [
       "<ggplot: (8781497402621)>"
      ]
     },
     "execution_count": 19,
     "metadata": {},
     "output_type": "execute_result"
    }
   ],
   "source": [
    "ggplot(df1, aes(x=\"emp3bins\", y=\"Percent\", fill=\"perf2\")) + geom_bar(\n",
    "    stat=\"identity\", position=\"fill\", width=0.6, color=\"white\", size=0.5, alpha=0.8\n",
    ") + scale_y_continuous(\n",
    "    expand=(0, 0), limits=(0, 1), breaks=seq(0, 1.1, by=0.2), labels=percent_format()\n",
    ") + labs(\n",
    "    x=\"Firm size (employment), 3 bins\", y=\"Percent\"\n",
    ") + theme_bw() + theme(\n",
    "    legend_position=\"right\"\n",
    ") + scale_fill_manual(\n",
    "    values=(color[2], color[0], color[4], color[1], color[3]), name=\" \"\n",
    ") + scale_x_discrete(limits=[1,2,3],\n",
    "    labels=[\"Small\", \"Medium\", \"Large\"]\n",
    ")"
   ]
  },
  {
   "cell_type": "code",
   "execution_count": 20,
   "metadata": {},
   "outputs": [
    {
     "data": {
      "text/html": [
       "<div>\n",
       "<style scoped>\n",
       "    .dataframe tbody tr th:only-of-type {\n",
       "        vertical-align: middle;\n",
       "    }\n",
       "\n",
       "    .dataframe tbody tr th {\n",
       "        vertical-align: top;\n",
       "    }\n",
       "\n",
       "    .dataframe thead tr th {\n",
       "        text-align: left;\n",
       "    }\n",
       "\n",
       "    .dataframe thead tr:last-of-type th {\n",
       "        text-align: right;\n",
       "    }\n",
       "</style>\n",
       "<table border=\"1\" class=\"dataframe\">\n",
       "  <thead>\n",
       "    <tr>\n",
       "      <th></th>\n",
       "      <th colspan=\"6\" halign=\"left\">emp_firm</th>\n",
       "    </tr>\n",
       "    <tr>\n",
       "      <th></th>\n",
       "      <th>min</th>\n",
       "      <th>max</th>\n",
       "      <th>mean</th>\n",
       "      <th>median</th>\n",
       "      <th>std</th>\n",
       "      <th>size</th>\n",
       "    </tr>\n",
       "    <tr>\n",
       "      <th>emp3bins</th>\n",
       "      <th></th>\n",
       "      <th></th>\n",
       "      <th></th>\n",
       "      <th></th>\n",
       "      <th></th>\n",
       "      <th></th>\n",
       "    </tr>\n",
       "  </thead>\n",
       "  <tbody>\n",
       "    <tr>\n",
       "      <th>1.0</th>\n",
       "      <td>100.0</td>\n",
       "      <td>197.0</td>\n",
       "      <td>145.597222</td>\n",
       "      <td>150.0</td>\n",
       "      <td>26.397108</td>\n",
       "      <td>72</td>\n",
       "    </tr>\n",
       "    <tr>\n",
       "      <th>2.0</th>\n",
       "      <td>200.0</td>\n",
       "      <td>994.0</td>\n",
       "      <td>413.153846</td>\n",
       "      <td>353.0</td>\n",
       "      <td>190.397552</td>\n",
       "      <td>156</td>\n",
       "    </tr>\n",
       "    <tr>\n",
       "      <th>3.0</th>\n",
       "      <td>1000.0</td>\n",
       "      <td>5000.0</td>\n",
       "      <td>2130.652778</td>\n",
       "      <td>1650.0</td>\n",
       "      <td>1178.115578</td>\n",
       "      <td>72</td>\n",
       "    </tr>\n",
       "  </tbody>\n",
       "</table>\n",
       "</div>"
      ],
      "text/plain": [
       "         emp_firm                                               \n",
       "              min     max         mean  median          std size\n",
       "emp3bins                                                        \n",
       "1.0         100.0   197.0   145.597222   150.0    26.397108   72\n",
       "2.0         200.0   994.0   413.153846   353.0   190.397552  156\n",
       "3.0        1000.0  5000.0  2130.652778  1650.0  1178.115578   72"
      ]
     },
     "execution_count": 20,
     "metadata": {},
     "output_type": "execute_result"
    }
   ],
   "source": [
    "# Bin scatters avg score by employment bins\n",
    "\n",
    "# Option 1: create 3 bins as defined by thresholds\n",
    "\n",
    "# Summary\n",
    "\n",
    "df.filter([\"emp_firm\", \"emp3bins\"]).groupby(\"emp3bins\").agg(\n",
    "    [\"min\", \"max\", \"mean\", \"median\", np.std, \"size\"]\n",
    ")"
   ]
  },
  {
   "cell_type": "code",
   "execution_count": 21,
   "metadata": {},
   "outputs": [],
   "source": [
    "# Recode employee bins\n",
    "df[\"emp3bins\"] = df[\"emp3bins\"].replace(1, 150).replace(2, 600).replace(3, 3000)"
   ]
  },
  {
   "cell_type": "code",
   "execution_count": 22,
   "metadata": {},
   "outputs": [
    {
     "data": {
      "text/html": [
       "<div>\n",
       "<style scoped>\n",
       "    .dataframe tbody tr th:only-of-type {\n",
       "        vertical-align: middle;\n",
       "    }\n",
       "\n",
       "    .dataframe tbody tr th {\n",
       "        vertical-align: top;\n",
       "    }\n",
       "\n",
       "    .dataframe thead tr th {\n",
       "        text-align: left;\n",
       "    }\n",
       "\n",
       "    .dataframe thead tr:last-of-type th {\n",
       "        text-align: right;\n",
       "    }\n",
       "</style>\n",
       "<table border=\"1\" class=\"dataframe\">\n",
       "  <thead>\n",
       "    <tr>\n",
       "      <th></th>\n",
       "      <th colspan=\"6\" halign=\"left\">emp_firm</th>\n",
       "    </tr>\n",
       "    <tr>\n",
       "      <th></th>\n",
       "      <th>min</th>\n",
       "      <th>max</th>\n",
       "      <th>mean</th>\n",
       "      <th>median</th>\n",
       "      <th>std</th>\n",
       "      <th>size</th>\n",
       "    </tr>\n",
       "    <tr>\n",
       "      <th>emp3bins</th>\n",
       "      <th></th>\n",
       "      <th></th>\n",
       "      <th></th>\n",
       "      <th></th>\n",
       "      <th></th>\n",
       "      <th></th>\n",
       "    </tr>\n",
       "  </thead>\n",
       "  <tbody>\n",
       "    <tr>\n",
       "      <th>150.0</th>\n",
       "      <td>100.0</td>\n",
       "      <td>197.0</td>\n",
       "      <td>145.597222</td>\n",
       "      <td>150.0</td>\n",
       "      <td>26.397108</td>\n",
       "      <td>72</td>\n",
       "    </tr>\n",
       "    <tr>\n",
       "      <th>600.0</th>\n",
       "      <td>200.0</td>\n",
       "      <td>994.0</td>\n",
       "      <td>413.153846</td>\n",
       "      <td>353.0</td>\n",
       "      <td>190.397552</td>\n",
       "      <td>156</td>\n",
       "    </tr>\n",
       "    <tr>\n",
       "      <th>3000.0</th>\n",
       "      <td>1000.0</td>\n",
       "      <td>5000.0</td>\n",
       "      <td>2130.652778</td>\n",
       "      <td>1650.0</td>\n",
       "      <td>1178.115578</td>\n",
       "      <td>72</td>\n",
       "    </tr>\n",
       "  </tbody>\n",
       "</table>\n",
       "</div>"
      ],
      "text/plain": [
       "         emp_firm                                               \n",
       "              min     max         mean  median          std size\n",
       "emp3bins                                                        \n",
       "150.0       100.0   197.0   145.597222   150.0    26.397108   72\n",
       "600.0       200.0   994.0   413.153846   353.0   190.397552  156\n",
       "3000.0     1000.0  5000.0  2130.652778  1650.0  1178.115578   72"
      ]
     },
     "execution_count": 22,
     "metadata": {},
     "output_type": "execute_result"
    }
   ],
   "source": [
    "# Summary\n",
    "df.filter([\"emp_firm\", \"emp3bins\"]).groupby(\"emp3bins\").agg(\n",
    "    [\"min\", \"max\", \"mean\", \"median\", np.std, \"size\"]\n",
    ")"
   ]
  },
  {
   "cell_type": "code",
   "execution_count": 23,
   "metadata": {},
   "outputs": [
    {
     "data": {
      "text/html": [
       "<div>\n",
       "<style scoped>\n",
       "    .dataframe tbody tr th:only-of-type {\n",
       "        vertical-align: middle;\n",
       "    }\n",
       "\n",
       "    .dataframe tbody tr th {\n",
       "        vertical-align: top;\n",
       "    }\n",
       "\n",
       "    .dataframe thead th {\n",
       "        text-align: right;\n",
       "    }\n",
       "</style>\n",
       "<table border=\"1\" class=\"dataframe\">\n",
       "  <thead>\n",
       "    <tr style=\"text-align: right;\">\n",
       "      <th></th>\n",
       "      <th>emp3bins</th>\n",
       "      <th>management_emp3bins</th>\n",
       "    </tr>\n",
       "  </thead>\n",
       "  <tbody>\n",
       "    <tr>\n",
       "      <th>0</th>\n",
       "      <td>150.0</td>\n",
       "      <td>2.679784</td>\n",
       "    </tr>\n",
       "    <tr>\n",
       "      <th>1</th>\n",
       "      <td>600.0</td>\n",
       "      <td>2.943732</td>\n",
       "    </tr>\n",
       "    <tr>\n",
       "      <th>2</th>\n",
       "      <td>3000.0</td>\n",
       "      <td>3.185957</td>\n",
       "    </tr>\n",
       "  </tbody>\n",
       "</table>\n",
       "</div>"
      ],
      "text/plain": [
       "   emp3bins  management_emp3bins\n",
       "0     150.0             2.679784\n",
       "1     600.0             2.943732\n",
       "2    3000.0             3.185957"
      ]
     },
     "execution_count": 23,
     "metadata": {},
     "output_type": "execute_result"
    }
   ],
   "source": [
    "# Generate variables by mean\n",
    "df1=df.groupby(\"emp3bins\").agg(management_emp3bins=(\"management\",\"mean\")).reset_index()\n",
    "df1"
   ]
  },
  {
   "cell_type": "code",
   "execution_count": 24,
   "metadata": {},
   "outputs": [
    {
     "data": {
      "image/png": "[encoded data removed]",
      "text/plain": [
       "<Figure size 640x480 with 1 Axes>"
      ]
     },
     "metadata": {},
     "output_type": "display_data"
    },
    {
     "data": {
      "text/plain": [
       "<ggplot: (8781497498932)>"
      ]
     },
     "execution_count": 24,
     "metadata": {},
     "output_type": "execute_result"
    }
   ],
   "source": [
    "ggplot(df1, aes(x=\"emp3bins\", y=\"management_emp3bins\")) + geom_point(\n",
    "    size=2, color=color[2], fill=color[0], alpha=0.8, na_rm=True\n",
    ") + scale_y_continuous(\n",
    "    expand=(0.01, 0.01), limits=(2.4, 3.4), breaks=seq(2.4, 3.5, by=0.2)\n",
    ") + scale_x_continuous(\n",
    "    expand=(0.01, 0.01), limits=(0, 3000), breaks=seq(0, 3001, by=500)\n",
    ") + labs(\n",
    "    x=\"Firm size (employment), 3 bins\", y=\"Management score\"\n",
    ") + theme_bw()\n"
   ]
  },
  {
   "cell_type": "code",
   "execution_count": 25,
   "metadata": {},
   "outputs": [],
   "source": [
    "df['emp10bins']=pd.qcut(df['emp_firm'],10)"
   ]
  },
  {
   "cell_type": "code",
   "execution_count": 26,
   "metadata": {},
   "outputs": [
    {
     "data": {
      "text/html": [
       "<div>\n",
       "<style scoped>\n",
       "    .dataframe tbody tr th:only-of-type {\n",
       "        vertical-align: middle;\n",
       "    }\n",
       "\n",
       "    .dataframe tbody tr th {\n",
       "        vertical-align: top;\n",
       "    }\n",
       "\n",
       "    .dataframe thead tr th {\n",
       "        text-align: left;\n",
       "    }\n",
       "\n",
       "    .dataframe thead tr:last-of-type th {\n",
       "        text-align: right;\n",
       "    }\n",
       "</style>\n",
       "<table border=\"1\" class=\"dataframe\">\n",
       "  <thead>\n",
       "    <tr>\n",
       "      <th></th>\n",
       "      <th colspan=\"6\" halign=\"left\">emp_firm</th>\n",
       "    </tr>\n",
       "    <tr>\n",
       "      <th></th>\n",
       "      <th>min</th>\n",
       "      <th>max</th>\n",
       "      <th>mean</th>\n",
       "      <th>median</th>\n",
       "      <th>std</th>\n",
       "      <th>size</th>\n",
       "    </tr>\n",
       "    <tr>\n",
       "      <th>emp10bins</th>\n",
       "      <th></th>\n",
       "      <th></th>\n",
       "      <th></th>\n",
       "      <th></th>\n",
       "      <th></th>\n",
       "      <th></th>\n",
       "    </tr>\n",
       "  </thead>\n",
       "  <tbody>\n",
       "    <tr>\n",
       "      <th>(99.999, 144.5]</th>\n",
       "      <td>100.0</td>\n",
       "      <td>140.0</td>\n",
       "      <td>118.566667</td>\n",
       "      <td>118.0</td>\n",
       "      <td>11.595729</td>\n",
       "      <td>30</td>\n",
       "    </tr>\n",
       "    <tr>\n",
       "      <th>(144.5, 180.0]</th>\n",
       "      <td>145.0</td>\n",
       "      <td>180.0</td>\n",
       "      <td>163.625000</td>\n",
       "      <td>160.0</td>\n",
       "      <td>12.947007</td>\n",
       "      <td>40</td>\n",
       "    </tr>\n",
       "    <tr>\n",
       "      <th>(180.0, 229.4]</th>\n",
       "      <td>184.0</td>\n",
       "      <td>228.0</td>\n",
       "      <td>204.000000</td>\n",
       "      <td>200.0</td>\n",
       "      <td>10.223811</td>\n",
       "      <td>20</td>\n",
       "    </tr>\n",
       "    <tr>\n",
       "      <th>(229.4, 278.0]</th>\n",
       "      <td>230.0</td>\n",
       "      <td>275.0</td>\n",
       "      <td>250.533333</td>\n",
       "      <td>250.0</td>\n",
       "      <td>11.607766</td>\n",
       "      <td>30</td>\n",
       "    </tr>\n",
       "    <tr>\n",
       "      <th>(278.0, 353.0]</th>\n",
       "      <td>280.0</td>\n",
       "      <td>350.0</td>\n",
       "      <td>310.266667</td>\n",
       "      <td>300.0</td>\n",
       "      <td>23.090427</td>\n",
       "      <td>30</td>\n",
       "    </tr>\n",
       "    <tr>\n",
       "      <th>(353.0, 500.0]</th>\n",
       "      <td>356.0</td>\n",
       "      <td>500.0</td>\n",
       "      <td>432.222222</td>\n",
       "      <td>405.0</td>\n",
       "      <td>50.747617</td>\n",
       "      <td>36</td>\n",
       "    </tr>\n",
       "    <tr>\n",
       "      <th>(500.0, 670.0]</th>\n",
       "      <td>520.0</td>\n",
       "      <td>670.0</td>\n",
       "      <td>583.240000</td>\n",
       "      <td>600.0</td>\n",
       "      <td>49.321463</td>\n",
       "      <td>25</td>\n",
       "    </tr>\n",
       "    <tr>\n",
       "      <th>(670.0, 1110.0]</th>\n",
       "      <td>700.0</td>\n",
       "      <td>1100.0</td>\n",
       "      <td>905.793103</td>\n",
       "      <td>900.0</td>\n",
       "      <td>137.250912</td>\n",
       "      <td>29</td>\n",
       "    </tr>\n",
       "    <tr>\n",
       "      <th>(1110.0, 2000.0]</th>\n",
       "      <td>1150.0</td>\n",
       "      <td>2000.0</td>\n",
       "      <td>1515.294118</td>\n",
       "      <td>1500.0</td>\n",
       "      <td>289.735881</td>\n",
       "      <td>34</td>\n",
       "    </tr>\n",
       "    <tr>\n",
       "      <th>(2000.0, 5000.0]</th>\n",
       "      <td>2100.0</td>\n",
       "      <td>5000.0</td>\n",
       "      <td>3438.730769</td>\n",
       "      <td>3500.0</td>\n",
       "      <td>982.115006</td>\n",
       "      <td>26</td>\n",
       "    </tr>\n",
       "  </tbody>\n",
       "</table>\n",
       "</div>"
      ],
      "text/plain": [
       "                 emp_firm                                              \n",
       "                      min     max         mean  median         std size\n",
       "emp10bins                                                              \n",
       "(99.999, 144.5]     100.0   140.0   118.566667   118.0   11.595729   30\n",
       "(144.5, 180.0]      145.0   180.0   163.625000   160.0   12.947007   40\n",
       "(180.0, 229.4]      184.0   228.0   204.000000   200.0   10.223811   20\n",
       "(229.4, 278.0]      230.0   275.0   250.533333   250.0   11.607766   30\n",
       "(278.0, 353.0]      280.0   350.0   310.266667   300.0   23.090427   30\n",
       "(353.0, 500.0]      356.0   500.0   432.222222   405.0   50.747617   36\n",
       "(500.0, 670.0]      520.0   670.0   583.240000   600.0   49.321463   25\n",
       "(670.0, 1110.0]     700.0  1100.0   905.793103   900.0  137.250912   29\n",
       "(1110.0, 2000.0]   1150.0  2000.0  1515.294118  1500.0  289.735881   34\n",
       "(2000.0, 5000.0]   2100.0  5000.0  3438.730769  3500.0  982.115006   26"
      ]
     },
     "execution_count": 26,
     "metadata": {},
     "output_type": "execute_result"
    }
   ],
   "source": [
    "# Summary\n",
    "df_summary=df.filter([\"emp_firm\", \"emp10bins\"]).groupby(\"emp10bins\").agg(\n",
    "    [\"min\", \"max\", \"mean\", \"median\", np.std, \"size\"]\n",
    ")\n",
    "df_summary"
   ]
  },
  {
   "cell_type": "code",
   "execution_count": 27,
   "metadata": {},
   "outputs": [],
   "source": [
    "# Recode\n",
    "df=df.replace({'emp10bins':df_summary[\"emp_firm\"][\"mean\"].to_dict()})"
   ]
  },
  {
   "cell_type": "code",
   "execution_count": 28,
   "metadata": {},
   "outputs": [
    {
     "data": {
      "text/html": [
       "<div>\n",
       "<style scoped>\n",
       "    .dataframe tbody tr th:only-of-type {\n",
       "        vertical-align: middle;\n",
       "    }\n",
       "\n",
       "    .dataframe tbody tr th {\n",
       "        vertical-align: top;\n",
       "    }\n",
       "\n",
       "    .dataframe thead tr th {\n",
       "        text-align: left;\n",
       "    }\n",
       "\n",
       "    .dataframe thead tr:last-of-type th {\n",
       "        text-align: right;\n",
       "    }\n",
       "</style>\n",
       "<table border=\"1\" class=\"dataframe\">\n",
       "  <thead>\n",
       "    <tr>\n",
       "      <th></th>\n",
       "      <th colspan=\"6\" halign=\"left\">emp_firm</th>\n",
       "    </tr>\n",
       "    <tr>\n",
       "      <th></th>\n",
       "      <th>min</th>\n",
       "      <th>max</th>\n",
       "      <th>mean</th>\n",
       "      <th>median</th>\n",
       "      <th>std</th>\n",
       "      <th>size</th>\n",
       "    </tr>\n",
       "    <tr>\n",
       "      <th>emp10bins</th>\n",
       "      <th></th>\n",
       "      <th></th>\n",
       "      <th></th>\n",
       "      <th></th>\n",
       "      <th></th>\n",
       "      <th></th>\n",
       "    </tr>\n",
       "  </thead>\n",
       "  <tbody>\n",
       "    <tr>\n",
       "      <th>118.566667</th>\n",
       "      <td>100.0</td>\n",
       "      <td>140.0</td>\n",
       "      <td>118.566667</td>\n",
       "      <td>118.0</td>\n",
       "      <td>11.595729</td>\n",
       "      <td>30</td>\n",
       "    </tr>\n",
       "    <tr>\n",
       "      <th>163.625000</th>\n",
       "      <td>145.0</td>\n",
       "      <td>180.0</td>\n",
       "      <td>163.625000</td>\n",
       "      <td>160.0</td>\n",
       "      <td>12.947007</td>\n",
       "      <td>40</td>\n",
       "    </tr>\n",
       "    <tr>\n",
       "      <th>204.000000</th>\n",
       "      <td>184.0</td>\n",
       "      <td>228.0</td>\n",
       "      <td>204.000000</td>\n",
       "      <td>200.0</td>\n",
       "      <td>10.223811</td>\n",
       "      <td>20</td>\n",
       "    </tr>\n",
       "    <tr>\n",
       "      <th>250.533333</th>\n",
       "      <td>230.0</td>\n",
       "      <td>275.0</td>\n",
       "      <td>250.533333</td>\n",
       "      <td>250.0</td>\n",
       "      <td>11.607766</td>\n",
       "      <td>30</td>\n",
       "    </tr>\n",
       "    <tr>\n",
       "      <th>310.266667</th>\n",
       "      <td>280.0</td>\n",
       "      <td>350.0</td>\n",
       "      <td>310.266667</td>\n",
       "      <td>300.0</td>\n",
       "      <td>23.090427</td>\n",
       "      <td>30</td>\n",
       "    </tr>\n",
       "    <tr>\n",
       "      <th>432.222222</th>\n",
       "      <td>356.0</td>\n",
       "      <td>500.0</td>\n",
       "      <td>432.222222</td>\n",
       "      <td>405.0</td>\n",
       "      <td>50.747617</td>\n",
       "      <td>36</td>\n",
       "    </tr>\n",
       "    <tr>\n",
       "      <th>583.240000</th>\n",
       "      <td>520.0</td>\n",
       "      <td>670.0</td>\n",
       "      <td>583.240000</td>\n",
       "      <td>600.0</td>\n",
       "      <td>49.321463</td>\n",
       "      <td>25</td>\n",
       "    </tr>\n",
       "    <tr>\n",
       "      <th>905.793103</th>\n",
       "      <td>700.0</td>\n",
       "      <td>1100.0</td>\n",
       "      <td>905.793103</td>\n",
       "      <td>900.0</td>\n",
       "      <td>137.250912</td>\n",
       "      <td>29</td>\n",
       "    </tr>\n",
       "    <tr>\n",
       "      <th>1515.294118</th>\n",
       "      <td>1150.0</td>\n",
       "      <td>2000.0</td>\n",
       "      <td>1515.294118</td>\n",
       "      <td>1500.0</td>\n",
       "      <td>289.735881</td>\n",
       "      <td>34</td>\n",
       "    </tr>\n",
       "    <tr>\n",
       "      <th>3438.730769</th>\n",
       "      <td>2100.0</td>\n",
       "      <td>5000.0</td>\n",
       "      <td>3438.730769</td>\n",
       "      <td>3500.0</td>\n",
       "      <td>982.115006</td>\n",
       "      <td>26</td>\n",
       "    </tr>\n",
       "  </tbody>\n",
       "</table>\n",
       "</div>"
      ],
      "text/plain": [
       "            emp_firm                                              \n",
       "                 min     max         mean  median         std size\n",
       "emp10bins                                                         \n",
       "118.566667     100.0   140.0   118.566667   118.0   11.595729   30\n",
       "163.625000     145.0   180.0   163.625000   160.0   12.947007   40\n",
       "204.000000     184.0   228.0   204.000000   200.0   10.223811   20\n",
       "250.533333     230.0   275.0   250.533333   250.0   11.607766   30\n",
       "310.266667     280.0   350.0   310.266667   300.0   23.090427   30\n",
       "432.222222     356.0   500.0   432.222222   405.0   50.747617   36\n",
       "583.240000     520.0   670.0   583.240000   600.0   49.321463   25\n",
       "905.793103     700.0  1100.0   905.793103   900.0  137.250912   29\n",
       "1515.294118   1150.0  2000.0  1515.294118  1500.0  289.735881   34\n",
       "3438.730769   2100.0  5000.0  3438.730769  3500.0  982.115006   26"
      ]
     },
     "execution_count": 28,
     "metadata": {},
     "output_type": "execute_result"
    }
   ],
   "source": [
    "df.filter([\"emp_firm\", \"emp10bins\"]).groupby(\"emp10bins\").agg(\n",
    "    [\"min\", \"max\", \"mean\", \"median\", np.std, \"size\"]\n",
    ")"
   ]
  },
  {
   "cell_type": "code",
   "execution_count": 29,
   "metadata": {},
   "outputs": [
    {
     "data": {
      "text/html": [
       "<div>\n",
       "<style scoped>\n",
       "    .dataframe tbody tr th:only-of-type {\n",
       "        vertical-align: middle;\n",
       "    }\n",
       "\n",
       "    .dataframe tbody tr th {\n",
       "        vertical-align: top;\n",
       "    }\n",
       "\n",
       "    .dataframe thead th {\n",
       "        text-align: right;\n",
       "    }\n",
       "</style>\n",
       "<table border=\"1\" class=\"dataframe\">\n",
       "  <thead>\n",
       "    <tr style=\"text-align: right;\">\n",
       "      <th></th>\n",
       "      <th>emp10bins</th>\n",
       "      <th>management_emp10bins</th>\n",
       "    </tr>\n",
       "  </thead>\n",
       "  <tbody>\n",
       "    <tr>\n",
       "      <th>0</th>\n",
       "      <td>118.566667</td>\n",
       "      <td>2.588889</td>\n",
       "    </tr>\n",
       "    <tr>\n",
       "      <th>1</th>\n",
       "      <td>163.625000</td>\n",
       "      <td>2.736111</td>\n",
       "    </tr>\n",
       "    <tr>\n",
       "      <th>2</th>\n",
       "      <td>204.000000</td>\n",
       "      <td>2.727778</td>\n",
       "    </tr>\n",
       "    <tr>\n",
       "      <th>3</th>\n",
       "      <td>250.533333</td>\n",
       "      <td>2.968519</td>\n",
       "    </tr>\n",
       "    <tr>\n",
       "      <th>4</th>\n",
       "      <td>310.266667</td>\n",
       "      <td>2.953704</td>\n",
       "    </tr>\n",
       "    <tr>\n",
       "      <th>5</th>\n",
       "      <td>432.222222</td>\n",
       "      <td>2.956790</td>\n",
       "    </tr>\n",
       "    <tr>\n",
       "      <th>6</th>\n",
       "      <td>583.240000</td>\n",
       "      <td>3.000000</td>\n",
       "    </tr>\n",
       "    <tr>\n",
       "      <th>7</th>\n",
       "      <td>905.793103</td>\n",
       "      <td>2.994253</td>\n",
       "    </tr>\n",
       "    <tr>\n",
       "      <th>8</th>\n",
       "      <td>1515.294118</td>\n",
       "      <td>3.096405</td>\n",
       "    </tr>\n",
       "    <tr>\n",
       "      <th>9</th>\n",
       "      <td>3438.730769</td>\n",
       "      <td>3.410256</td>\n",
       "    </tr>\n",
       "  </tbody>\n",
       "</table>\n",
       "</div>"
      ],
      "text/plain": [
       "     emp10bins  management_emp10bins\n",
       "0   118.566667              2.588889\n",
       "1   163.625000              2.736111\n",
       "2   204.000000              2.727778\n",
       "3   250.533333              2.968519\n",
       "4   310.266667              2.953704\n",
       "5   432.222222              2.956790\n",
       "6   583.240000              3.000000\n",
       "7   905.793103              2.994253\n",
       "8  1515.294118              3.096405\n",
       "9  3438.730769              3.410256"
      ]
     },
     "execution_count": 29,
     "metadata": {},
     "output_type": "execute_result"
    }
   ],
   "source": [
    "# Generate variables by mean\n",
    "df1=df.groupby(\"emp10bins\").agg(management_emp10bins=(\"management\",\"mean\")).reset_index()\n",
    "df1"
   ]
  },
  {
   "cell_type": "code",
   "execution_count": 30,
   "metadata": {},
   "outputs": [
    {
     "data": {
      "image/png": "[encoded data removed]",
      "text/plain": [
       "<Figure size 640x480 with 1 Axes>"
      ]
     },
     "metadata": {},
     "output_type": "display_data"
    },
    {
     "data": {
      "text/plain": [
       "<ggplot: (8781497400817)>"
      ]
     },
     "execution_count": 30,
     "metadata": {},
     "output_type": "execute_result"
    }
   ],
   "source": [
    "ggplot(df1, aes(x=\"emp10bins\", y=\"management_emp10bins\")) + geom_point(\n",
    "    size=2, color=color[2], fill=color[0], alpha=0.8, na_rm=True\n",
    ") + scale_y_continuous(\n",
    "    expand=(0.01, 0.01), limits=(2.5, 3.5), breaks=seq(2.5, 3.6, by=0.25)\n",
    ") + scale_x_continuous(\n",
    "    expand=(0.01, 0.01), limits=(0, 3500), breaks=seq(0, 3501, by=500)\n",
    ") + labs(\n",
    "    x=\"Firm size (employment), 10 bins\", y=\"Management score\"\n",
    ") + theme_bw()\n"
   ]
  },
  {
   "cell_type": "code",
   "execution_count": 31,
   "metadata": {},
   "outputs": [],
   "source": [
    "## Simpler solution is binsreg in R. There is an implementation of binsreg in Python that is called binscatterplot package"
   ]
  },
  {
   "cell_type": "code",
   "execution_count": 32,
   "metadata": {},
   "outputs": [
    {
     "data": {
      "image/png": "[encoded data removed]",
      "text/plain": [
       "<Figure size 640x480 with 1 Axes>"
      ]
     },
     "metadata": {},
     "output_type": "display_data"
    },
    {
     "data": {
      "text/plain": [
       "<ggplot: (8781497393104)>"
      ]
     },
     "execution_count": 32,
     "metadata": {},
     "output_type": "execute_result"
    }
   ],
   "source": [
    "ggplot(df, aes(x=\"emp_firm\", y=\"management\")) + geom_point(\n",
    "    color=color[0], size=1.5, alpha=0.8, show_legend=False, na_rm=True\n",
    ") + scale_x_continuous(\n",
    "    expand=(0.01, 0.01), limits=(0, 5000), breaks=seq(0, 5001, by=1000)\n",
    ") + scale_y_continuous(\n",
    "    expand=(0.01, 0.01), limits=(1, 5), breaks=seq(1, 6, 1)\n",
    ") + labs(\n",
    "    x=\"Firm size (employment)\", y=\"Management score\"\n",
    ") + theme_bw()\n"
   ]
  },
  {
   "cell_type": "code",
   "execution_count": 33,
   "metadata": {},
   "outputs": [],
   "source": [
    "df['lnemp']=np.log(df['emp_firm'])"
   ]
  },
  {
   "cell_type": "code",
   "execution_count": 34,
   "metadata": {},
   "outputs": [
    {
     "data": {
      "image/png": "[encoded data removed]",
      "text/plain": [
       "<Figure size 640x480 with 1 Axes>"
      ]
     },
     "metadata": {},
     "output_type": "display_data"
    },
    {
     "data": {
      "text/plain": [
       "<ggplot: (8781537271772)>"
      ]
     },
     "execution_count": 34,
     "metadata": {},
     "output_type": "execute_result"
    }
   ],
   "source": [
    "ggplot(df, aes(x=\"lnemp\", y=\"management\")) + geom_point(\n",
    "    color=color[0], size=1.5, alpha=0.8, show_legend=False, na_rm=True\n",
    ") + scale_x_continuous(\n",
    "    expand=(0.01, 0.01), limits=(4, 9), breaks=seq(4, 10, by=1)\n",
    ") + scale_y_continuous(\n",
    "    expand=(0.01, 0.01), limits=(1, 5), breaks=seq(1, 6, 1)\n",
    ") + labs(\n",
    "    x=\"Firm size (ln(employment))\", y=\"Management score\"\n",
    ") + theme_bw()\n"
   ]
  },
  {
   "cell_type": "code",
   "execution_count": 35,
   "metadata": {},
   "outputs": [],
   "source": [
    "df=df.replace({\"emp3bins\":{150:\"Small\",600:\"Medium\",3000:\"Large\"}})"
   ]
  },
  {
   "cell_type": "code",
   "execution_count": 36,
   "metadata": {},
   "outputs": [
    {
     "data": {
      "image/png": "[encoded data removed]",
      "text/plain": [
       "<Figure size 640x480 with 1 Axes>"
      ]
     },
     "metadata": {},
     "output_type": "display_data"
    },
    {
     "data": {
      "text/plain": [
       "<ggplot: (8781497458252)>"
      ]
     },
     "execution_count": 36,
     "metadata": {},
     "output_type": "execute_result"
    }
   ],
   "source": [
    "ggplot(df, aes(x=\"pd.Categorical(df['emp3bins'], categories=sorted(set(df['emp3bins']), reverse=True))\", y=\"management\")) + stat_boxplot(\n",
    "    aes(group=\"emp3bins\"),\n",
    "    geom=\"errorbar\",\n",
    "    width=0.5,\n",
    "    color=(color[1], color[0], color[2]),\n",
    "    size=0.5,\n",
    "    na_rm=True,\n",
    ") + geom_boxplot(\n",
    "    aes(group=\"emp3bins\"),\n",
    "    color=(color[2], color[0], color[1]),\n",
    "    #fill=(color[1], color[0], color[2]),\n",
    "    size=0.5,\n",
    "    width=0.5,\n",
    "    #alpha=0.3,\n",
    "    na_rm=True,\n",
    ") + labs(\n",
    "    x=\"Firm size (employment), 3 bins\", y=\"Management score\"\n",
    ") + scale_y_continuous(\n",
    "    expand=(0.01, 0.01), limits=(1, 5), breaks=seq(1, 5, 1)\n",
    ") + theme_bw()\n"
   ]
  },
  {
   "cell_type": "code",
   "execution_count": 37,
   "metadata": {},
   "outputs": [
    {
     "data": {
      "image/png": "[encoded data removed]",
      "text/plain": [
       "<Figure size 640x480 with 1 Axes>"
      ]
     },
     "metadata": {},
     "output_type": "display_data"
    },
    {
     "data": {
      "text/plain": [
       "<ggplot: (8781497528263)>"
      ]
     },
     "execution_count": 37,
     "metadata": {},
     "output_type": "execute_result"
    }
   ],
   "source": [
    "# Violin plot\n",
    "\n",
    "ggplot(\n",
    "    df, aes(x=\"pd.Categorical(df['emp3bins'], categories=sorted(set(df['emp3bins']), reverse=True))\", y=\"management\", color=\"emp3bins\", fill=\"emp3bins\")\n",
    ") + geom_violin(\n",
    "    aes(group=\"emp3bins\"),\n",
    "    size=0.3,\n",
    "    alpha=0.3,\n",
    "    trim=False,\n",
    "    show_legend=False,\n",
    "    na_rm=True,\n",
    ") + geom_boxplot(\n",
    "    aes(group=\"emp3bins\"),\n",
    "    #fill=(color[2], color[1], color[3]),\n",
    "    size=0.5,\n",
    "    width=0.2,\n",
    "    alpha=0.3,\n",
    "    na_rm=True,\n",
    ") + labs(\n",
    "    x=\"Firm size (employment), 3 bins\", y=\"Management score\"\n",
    ") + scale_y_continuous(\n",
    "    expand=(0.01, 0.01), limits=(0, 6), breaks=seq(0, 7, 1)\n",
    ") + guides(fill=False,color=False)+theme_bw()"
   ]
  },
  {
   "cell_type": "code",
   "execution_count": 38,
   "metadata": {},
   "outputs": [
    {
     "data": {
      "text/plain": [
       "0.3019953957247915"
      ]
     },
     "execution_count": 38,
     "metadata": {},
     "output_type": "execute_result"
    }
   ],
   "source": [
    "# Correlation\n",
    "df['management'].corr(df['emp_firm'])"
   ]
  },
  {
   "cell_type": "code",
   "execution_count": 39,
   "metadata": {},
   "outputs": [],
   "source": [
    "# by industry\n",
    "df[\"industry_broad\"] = pd.np.nan\n",
    "df.loc[df.sic <= 21, \"industry_broad\"] = \"food_drinks_tobacco\"\n",
    "df.loc[\n",
    "    ((df[\"sic\"] >= 22) & (df[\"sic\"] <= 23)) | (df[\"sic\"] == 31), \"industry_broad\"\n",
    "] = \"textile_apparel_leather_etc\"\n",
    "df.loc[(df.sic >= 24) & (df.sic <= 27), \"industry_broad\"] = \"wood_furniture_paper\"\n",
    "df.loc[(df.sic >= 28) & (df.sic <= 30), \"industry_broad\"] = \"chemicals_etc\"\n",
    "df.loc[(df.sic >= 32) & (df.sic < 35), \"industry_broad\"] = \"materials_metals\"\n",
    "df.loc[(df.sic >= 35) & (df.sic < 37), \"industry_broad\"] = \"electronics\"\n",
    "df.loc[df.sic == 37, \"industry_broad\"] = \"auto\"\n",
    "df.loc[df.sic >= 38, \"industry_broad\"] = \"other\""
   ]
  },
  {
   "cell_type": "code",
   "execution_count": 40,
   "metadata": {},
   "outputs": [
    {
     "data": {
      "text/plain": [
       "chemicals_etc                  69\n",
       "materials_metals               50\n",
       "textile_apparel_leather_etc    38\n",
       "wood_furniture_paper           37\n",
       "electronics                    36\n",
       "food_drinks_tobacco            34\n",
       "auto                           26\n",
       "other                          10\n",
       "Name: industry_broad, dtype: int64"
      ]
     },
     "execution_count": 40,
     "metadata": {},
     "output_type": "execute_result"
    }
   ],
   "source": [
    "df.industry_broad.value_counts()"
   ]
  },
  {
   "cell_type": "code",
   "execution_count": 41,
   "metadata": {},
   "outputs": [
    {
     "data": {
      "text/plain": [
       "industry_broad                         \n",
       "auto                         management    0.502322\n",
       "chemicals_etc                management    0.053380\n",
       "electronics                  management    0.282000\n",
       "food_drinks_tobacco          management    0.052144\n",
       "materials_metals             management    0.320921\n",
       "other                        management    0.628398\n",
       "textile_apparel_leather_etc  management    0.360877\n",
       "wood_furniture_paper         management    0.294981\n",
       "Name: emp_firm, dtype: float64"
      ]
     },
     "execution_count": 41,
     "metadata": {},
     "output_type": "execute_result"
    }
   ],
   "source": [
    "# Correlation\n",
    "df.groupby(\"industry_broad\")['management','emp_firm'].corr().iloc[0::2,-1]\n"
   ]
  },
  {
   "cell_type": "code",
   "execution_count": 42,
   "metadata": {},
   "outputs": [
    {
     "data": {
      "text/html": [
       "<div>\n",
       "<style scoped>\n",
       "    .dataframe tbody tr th:only-of-type {\n",
       "        vertical-align: middle;\n",
       "    }\n",
       "\n",
       "    .dataframe tbody tr th {\n",
       "        vertical-align: top;\n",
       "    }\n",
       "\n",
       "    .dataframe thead th {\n",
       "        text-align: right;\n",
       "    }\n",
       "</style>\n",
       "<table border=\"1\" class=\"dataframe\">\n",
       "  <thead>\n",
       "    <tr style=\"text-align: right;\">\n",
       "      <th></th>\n",
       "      <th>Min</th>\n",
       "      <th>Max</th>\n",
       "      <th>SD</th>\n",
       "      <th>Median</th>\n",
       "      <th>n</th>\n",
       "    </tr>\n",
       "    <tr>\n",
       "      <th>industry_broad</th>\n",
       "      <th></th>\n",
       "      <th></th>\n",
       "      <th></th>\n",
       "      <th></th>\n",
       "      <th></th>\n",
       "    </tr>\n",
       "  </thead>\n",
       "  <tbody>\n",
       "    <tr>\n",
       "      <th>auto</th>\n",
       "      <td>2.277778</td>\n",
       "      <td>4.277778</td>\n",
       "      <td>0.553367</td>\n",
       "      <td>3.194445</td>\n",
       "      <td>26</td>\n",
       "    </tr>\n",
       "    <tr>\n",
       "      <th>chemicals_etc</th>\n",
       "      <td>1.277778</td>\n",
       "      <td>4.111111</td>\n",
       "      <td>0.550176</td>\n",
       "      <td>3.000000</td>\n",
       "      <td>69</td>\n",
       "    </tr>\n",
       "    <tr>\n",
       "      <th>electronics</th>\n",
       "      <td>1.500000</td>\n",
       "      <td>4.500000</td>\n",
       "      <td>0.693034</td>\n",
       "      <td>3.111111</td>\n",
       "      <td>36</td>\n",
       "    </tr>\n",
       "    <tr>\n",
       "      <th>food_drinks_tobacco</th>\n",
       "      <td>1.888889</td>\n",
       "      <td>4.222222</td>\n",
       "      <td>0.525753</td>\n",
       "      <td>2.833333</td>\n",
       "      <td>34</td>\n",
       "    </tr>\n",
       "    <tr>\n",
       "      <th>materials_metals</th>\n",
       "      <td>1.555556</td>\n",
       "      <td>4.277778</td>\n",
       "      <td>0.564557</td>\n",
       "      <td>2.861111</td>\n",
       "      <td>50</td>\n",
       "    </tr>\n",
       "    <tr>\n",
       "      <th>other</th>\n",
       "      <td>1.777778</td>\n",
       "      <td>4.611111</td>\n",
       "      <td>0.844087</td>\n",
       "      <td>3.555556</td>\n",
       "      <td>10</td>\n",
       "    </tr>\n",
       "    <tr>\n",
       "      <th>textile_apparel_leather_etc</th>\n",
       "      <td>1.777778</td>\n",
       "      <td>4.000000</td>\n",
       "      <td>0.567371</td>\n",
       "      <td>2.777778</td>\n",
       "      <td>38</td>\n",
       "    </tr>\n",
       "    <tr>\n",
       "      <th>wood_furniture_paper</th>\n",
       "      <td>1.722222</td>\n",
       "      <td>3.555556</td>\n",
       "      <td>0.555556</td>\n",
       "      <td>2.833333</td>\n",
       "      <td>37</td>\n",
       "    </tr>\n",
       "  </tbody>\n",
       "</table>\n",
       "</div>"
      ],
      "text/plain": [
       "                                  Min       Max        SD    Median   n\n",
       "industry_broad                                                         \n",
       "auto                         2.277778  4.277778  0.553367  3.194445  26\n",
       "chemicals_etc                1.277778  4.111111  0.550176  3.000000  69\n",
       "electronics                  1.500000  4.500000  0.693034  3.111111  36\n",
       "food_drinks_tobacco          1.888889  4.222222  0.525753  2.833333  34\n",
       "materials_metals             1.555556  4.277778  0.564557  2.861111  50\n",
       "other                        1.777778  4.611111  0.844087  3.555556  10\n",
       "textile_apparel_leather_etc  1.777778  4.000000  0.567371  2.777778  38\n",
       "wood_furniture_paper         1.722222  3.555556  0.555556  2.833333  37"
      ]
     },
     "execution_count": 42,
     "metadata": {},
     "output_type": "execute_result"
    }
   ],
   "source": [
    "df.filter([\"management\", \"industry_broad\"]).query(\"industry_broad.notna()\").groupby(\n",
    "    \"industry_broad\"\n",
    ").agg(\n",
    "    Min=(\"management\", min),\n",
    "    Max=(\"management\", max),\n",
    "    SD=(\"management\", np.std),\n",
    "    Median=(\"management\", \"median\"),\n",
    "    n=(\"management\", \"size\"),\n",
    ")"
   ]
  },
  {
   "cell_type": "code",
   "execution_count": 43,
   "metadata": {
    "scrolled": false
   },
   "outputs": [
    {
     "data": {
      "text/html": [
       "<div>\n",
       "<style scoped>\n",
       "    .dataframe tbody tr th:only-of-type {\n",
       "        vertical-align: middle;\n",
       "    }\n",
       "\n",
       "    .dataframe tbody tr th {\n",
       "        vertical-align: top;\n",
       "    }\n",
       "\n",
       "    .dataframe thead th {\n",
       "        text-align: right;\n",
       "    }\n",
       "</style>\n",
       "<table border=\"1\" class=\"dataframe\">\n",
       "  <thead>\n",
       "    <tr style=\"text-align: right;\">\n",
       "      <th></th>\n",
       "      <th>Min</th>\n",
       "      <th>Max</th>\n",
       "      <th>SD</th>\n",
       "      <th>Median</th>\n",
       "      <th>n</th>\n",
       "    </tr>\n",
       "    <tr>\n",
       "      <th>industry_broad</th>\n",
       "      <th></th>\n",
       "      <th></th>\n",
       "      <th></th>\n",
       "      <th></th>\n",
       "      <th></th>\n",
       "    </tr>\n",
       "  </thead>\n",
       "  <tbody>\n",
       "    <tr>\n",
       "      <th>auto</th>\n",
       "      <td>130.0</td>\n",
       "      <td>5000.0</td>\n",
       "      <td>1625.103843</td>\n",
       "      <td>500.0</td>\n",
       "      <td>26</td>\n",
       "    </tr>\n",
       "    <tr>\n",
       "      <th>chemicals_etc</th>\n",
       "      <td>116.0</td>\n",
       "      <td>2000.0</td>\n",
       "      <td>465.980775</td>\n",
       "      <td>356.0</td>\n",
       "      <td>69</td>\n",
       "    </tr>\n",
       "    <tr>\n",
       "      <th>electronics</th>\n",
       "      <td>115.0</td>\n",
       "      <td>5000.0</td>\n",
       "      <td>1126.786821</td>\n",
       "      <td>295.0</td>\n",
       "      <td>36</td>\n",
       "    </tr>\n",
       "    <tr>\n",
       "      <th>food_drinks_tobacco</th>\n",
       "      <td>120.0</td>\n",
       "      <td>2400.0</td>\n",
       "      <td>665.626102</td>\n",
       "      <td>471.0</td>\n",
       "      <td>34</td>\n",
       "    </tr>\n",
       "    <tr>\n",
       "      <th>materials_metals</th>\n",
       "      <td>100.0</td>\n",
       "      <td>5000.0</td>\n",
       "      <td>1151.436836</td>\n",
       "      <td>335.0</td>\n",
       "      <td>50</td>\n",
       "    </tr>\n",
       "    <tr>\n",
       "      <th>other</th>\n",
       "      <td>200.0</td>\n",
       "      <td>2900.0</td>\n",
       "      <td>867.247043</td>\n",
       "      <td>350.0</td>\n",
       "      <td>10</td>\n",
       "    </tr>\n",
       "    <tr>\n",
       "      <th>textile_apparel_leather_etc</th>\n",
       "      <td>110.0</td>\n",
       "      <td>4000.0</td>\n",
       "      <td>899.413044</td>\n",
       "      <td>350.0</td>\n",
       "      <td>38</td>\n",
       "    </tr>\n",
       "    <tr>\n",
       "      <th>wood_furniture_paper</th>\n",
       "      <td>100.0</td>\n",
       "      <td>3500.0</td>\n",
       "      <td>855.610261</td>\n",
       "      <td>300.0</td>\n",
       "      <td>37</td>\n",
       "    </tr>\n",
       "  </tbody>\n",
       "</table>\n",
       "</div>"
      ],
      "text/plain": [
       "                               Min     Max           SD  Median   n\n",
       "industry_broad                                                     \n",
       "auto                         130.0  5000.0  1625.103843   500.0  26\n",
       "chemicals_etc                116.0  2000.0   465.980775   356.0  69\n",
       "electronics                  115.0  5000.0  1126.786821   295.0  36\n",
       "food_drinks_tobacco          120.0  2400.0   665.626102   471.0  34\n",
       "materials_metals             100.0  5000.0  1151.436836   335.0  50\n",
       "other                        200.0  2900.0   867.247043   350.0  10\n",
       "textile_apparel_leather_etc  110.0  4000.0   899.413044   350.0  38\n",
       "wood_furniture_paper         100.0  3500.0   855.610261   300.0  37"
      ]
     },
     "execution_count": 43,
     "metadata": {},
     "output_type": "execute_result"
    }
   ],
   "source": [
    "df.filter([\"emp_firm\", \"industry_broad\"]).query(\"industry_broad.notna()\").groupby(\n",
    "    \"industry_broad\"\n",
    ").agg(\n",
    "    Min=(\"emp_firm\", min),\n",
    "    Max=(\"emp_firm\", max),\n",
    "    SD=(\"emp_firm\", np.std),\n",
    "    Median=(\"emp_firm\", \"median\"),\n",
    "    n=(\"emp_firm\", \"size\"),\n",
    ")"
   ]
  },
  {
   "cell_type": "code",
   "execution_count": 44,
   "metadata": {},
   "outputs": [],
   "source": [
    "# Correlation\n",
    "cor=pd.DataFrame(df.groupby(\"industry_broad\")[\"management\", \"emp_firm\"].corr().iloc[0::2, -1]).reset_index().drop(['level_1'],axis=1)\n",
    "cor.columns=[\"industry_broad\",\"COR\"]\n",
    "cor=cor.set_index(\"industry_broad\")"
   ]
  },
  {
   "cell_type": "code",
   "execution_count": 45,
   "metadata": {},
   "outputs": [],
   "source": [
    "table41=df.filter([\"emp_firm\",\"industry_broad\",\"management\"]).groupby(\"industry_broad\").agg(Mean=(\"management\",\"mean\"),Obs=(\"management\",\"size\"))\n",
    "table41['cor']=cor.COR"
   ]
  },
  {
   "cell_type": "code",
   "execution_count": 46,
   "metadata": {},
   "outputs": [
    {
     "data": {
      "text/html": [
       "<div>\n",
       "<style scoped>\n",
       "    .dataframe tbody tr th:only-of-type {\n",
       "        vertical-align: middle;\n",
       "    }\n",
       "\n",
       "    .dataframe tbody tr th {\n",
       "        vertical-align: top;\n",
       "    }\n",
       "\n",
       "    .dataframe thead th {\n",
       "        text-align: right;\n",
       "    }\n",
       "</style>\n",
       "<table border=\"1\" class=\"dataframe\">\n",
       "  <thead>\n",
       "    <tr style=\"text-align: right;\">\n",
       "      <th></th>\n",
       "      <th>Mean</th>\n",
       "      <th>Obs</th>\n",
       "      <th>cor</th>\n",
       "    </tr>\n",
       "  </thead>\n",
       "  <tbody>\n",
       "    <tr>\n",
       "      <th>Auto</th>\n",
       "      <td>3.254274</td>\n",
       "      <td>26</td>\n",
       "      <td>0.502322</td>\n",
       "    </tr>\n",
       "    <tr>\n",
       "      <th>Chemicals</th>\n",
       "      <td>2.968599</td>\n",
       "      <td>69</td>\n",
       "      <td>0.053380</td>\n",
       "    </tr>\n",
       "    <tr>\n",
       "      <th>Machinery, equipment, electronics</th>\n",
       "      <td>3.145062</td>\n",
       "      <td>36</td>\n",
       "      <td>0.282000</td>\n",
       "    </tr>\n",
       "    <tr>\n",
       "      <th>Food, drinks, tobacco</th>\n",
       "      <td>2.870915</td>\n",
       "      <td>34</td>\n",
       "      <td>0.052144</td>\n",
       "    </tr>\n",
       "    <tr>\n",
       "      <th>Materials, metals</th>\n",
       "      <td>2.848889</td>\n",
       "      <td>50</td>\n",
       "      <td>0.320921</td>\n",
       "    </tr>\n",
       "    <tr>\n",
       "      <th>Textile, apparel, leather</th>\n",
       "      <td>3.288889</td>\n",
       "      <td>10</td>\n",
       "      <td>0.628398</td>\n",
       "    </tr>\n",
       "    <tr>\n",
       "      <th>Wood, furniture, paper</th>\n",
       "      <td>2.769006</td>\n",
       "      <td>38</td>\n",
       "      <td>0.360877</td>\n",
       "    </tr>\n",
       "    <tr>\n",
       "      <th>Other</th>\n",
       "      <td>2.722222</td>\n",
       "      <td>37</td>\n",
       "      <td>0.294981</td>\n",
       "    </tr>\n",
       "  </tbody>\n",
       "</table>\n",
       "</div>"
      ],
      "text/plain": [
       "                                       Mean  Obs       cor\n",
       "Auto                               3.254274   26  0.502322\n",
       "Chemicals                          2.968599   69  0.053380\n",
       "Machinery, equipment, electronics  3.145062   36  0.282000\n",
       "Food, drinks, tobacco              2.870915   34  0.052144\n",
       "Materials, metals                  2.848889   50  0.320921\n",
       "Textile, apparel, leather          3.288889   10  0.628398\n",
       "Wood, furniture, paper             2.769006   38  0.360877\n",
       "Other                              2.722222   37  0.294981"
      ]
     },
     "execution_count": 46,
     "metadata": {},
     "output_type": "execute_result"
    }
   ],
   "source": [
    "table41.index=['Auto','Chemicals','Machinery, equipment, electronics','Food, drinks, tobacco','Materials, metals','Textile, apparel, leather','Wood, furniture, paper','Other']\n",
    "table41"
   ]
  },
  {
   "cell_type": "code",
   "execution_count": 47,
   "metadata": {},
   "outputs": [],
   "source": [
    "last_row=table41.groupby(lambda _: True).agg(Mean=(\"Mean\",\"mean\"),Obs=(\"Obs\",\"sum\"),cor=(\"cor\",\"mean\")).reset_index(drop=True)\n",
    "last_row.index=['All']"
   ]
  },
  {
   "cell_type": "code",
   "execution_count": 48,
   "metadata": {},
   "outputs": [],
   "source": [
    "table41=table41.append(last_row)"
   ]
  },
  {
   "cell_type": "code",
   "execution_count": 49,
   "metadata": {},
   "outputs": [],
   "source": [
    "table41=table41.loc[:,[\"cor\",\"Mean\",\"Obs\"]].reset_index()\n",
    "table41.columns=['Industry','Management - employment correlation','Management score','Observations']"
   ]
  },
  {
   "cell_type": "code",
   "execution_count": 50,
   "metadata": {
    "scrolled": false
   },
   "outputs": [
    {
     "data": {
      "text/html": [
       "<div>\n",
       "<style scoped>\n",
       "    .dataframe tbody tr th:only-of-type {\n",
       "        vertical-align: middle;\n",
       "    }\n",
       "\n",
       "    .dataframe tbody tr th {\n",
       "        vertical-align: top;\n",
       "    }\n",
       "\n",
       "    .dataframe thead th {\n",
       "        text-align: right;\n",
       "    }\n",
       "</style>\n",
       "<table border=\"1\" class=\"dataframe\">\n",
       "  <thead>\n",
       "    <tr style=\"text-align: right;\">\n",
       "      <th></th>\n",
       "      <th>Industry</th>\n",
       "      <th>Management - employment correlation</th>\n",
       "      <th>Management score</th>\n",
       "      <th>Observations</th>\n",
       "    </tr>\n",
       "  </thead>\n",
       "  <tbody>\n",
       "    <tr>\n",
       "      <th>0</th>\n",
       "      <td>Auto</td>\n",
       "      <td>0.502322</td>\n",
       "      <td>3.254274</td>\n",
       "      <td>26</td>\n",
       "    </tr>\n",
       "    <tr>\n",
       "      <th>1</th>\n",
       "      <td>Chemicals</td>\n",
       "      <td>0.053380</td>\n",
       "      <td>2.968599</td>\n",
       "      <td>69</td>\n",
       "    </tr>\n",
       "    <tr>\n",
       "      <th>2</th>\n",
       "      <td>Machinery, equipment, electronics</td>\n",
       "      <td>0.282000</td>\n",
       "      <td>3.145062</td>\n",
       "      <td>36</td>\n",
       "    </tr>\n",
       "    <tr>\n",
       "      <th>3</th>\n",
       "      <td>Food, drinks, tobacco</td>\n",
       "      <td>0.052144</td>\n",
       "      <td>2.870915</td>\n",
       "      <td>34</td>\n",
       "    </tr>\n",
       "    <tr>\n",
       "      <th>4</th>\n",
       "      <td>Materials, metals</td>\n",
       "      <td>0.320921</td>\n",
       "      <td>2.848889</td>\n",
       "      <td>50</td>\n",
       "    </tr>\n",
       "    <tr>\n",
       "      <th>5</th>\n",
       "      <td>Textile, apparel, leather</td>\n",
       "      <td>0.628398</td>\n",
       "      <td>3.288889</td>\n",
       "      <td>10</td>\n",
       "    </tr>\n",
       "    <tr>\n",
       "      <th>6</th>\n",
       "      <td>Wood, furniture, paper</td>\n",
       "      <td>0.360877</td>\n",
       "      <td>2.769006</td>\n",
       "      <td>38</td>\n",
       "    </tr>\n",
       "    <tr>\n",
       "      <th>7</th>\n",
       "      <td>Other</td>\n",
       "      <td>0.294981</td>\n",
       "      <td>2.722222</td>\n",
       "      <td>37</td>\n",
       "    </tr>\n",
       "    <tr>\n",
       "      <th>8</th>\n",
       "      <td>All</td>\n",
       "      <td>0.311878</td>\n",
       "      <td>2.983482</td>\n",
       "      <td>300</td>\n",
       "    </tr>\n",
       "  </tbody>\n",
       "</table>\n",
       "</div>"
      ],
      "text/plain": [
       "                            Industry  Management - employment correlation  \\\n",
       "0                               Auto                             0.502322   \n",
       "1                          Chemicals                             0.053380   \n",
       "2  Machinery, equipment, electronics                             0.282000   \n",
       "3              Food, drinks, tobacco                             0.052144   \n",
       "4                  Materials, metals                             0.320921   \n",
       "5          Textile, apparel, leather                             0.628398   \n",
       "6             Wood, furniture, paper                             0.360877   \n",
       "7                              Other                             0.294981   \n",
       "8                                All                             0.311878   \n",
       "\n",
       "   Management score  Observations  \n",
       "0          3.254274            26  \n",
       "1          2.968599            69  \n",
       "2          3.145062            36  \n",
       "3          2.870915            34  \n",
       "4          2.848889            50  \n",
       "5          3.288889            10  \n",
       "6          2.769006            38  \n",
       "7          2.722222            37  \n",
       "8          2.983482           300  "
      ]
     },
     "execution_count": 50,
     "metadata": {},
     "output_type": "execute_result"
    }
   ],
   "source": [
    "table41"
   ]
  },
  {
   "cell_type": "markdown",
   "metadata": {},
   "source": [
    "\n",
    "## Chapter 03 plots\n",
    "---------------------------------------------------------------"
   ]
  },
  {
   "cell_type": "code",
   "execution_count": 51,
   "metadata": {},
   "outputs": [],
   "source": [
    "df2=df.filter([\"emp3bins\",\"management\"]).query('emp3bins==\"Small\"')"
   ]
  },
  {
   "cell_type": "code",
   "execution_count": 52,
   "metadata": {},
   "outputs": [],
   "source": [
    "q1=np.quantile(df2[\"management\"],0.25)\n",
    "q2=np.quantile(df2[\"management\"],0.5)\n",
    "q3=np.quantile(df2[\"management\"],0.75)\n",
    "iqr=q3-q1\n",
    "ub=max(df2.loc[df2['management']<q3+1.5*iqr,\"management\"])\n",
    "lb=min(df2.loc[df2['management']>=q1-1.5*iqr,\"management\"])\n",
    "out_lb=min(df2['management'])\n",
    "min=min(df['management'])\n",
    "max=max(df['management'])"
   ]
  },
  {
   "cell_type": "code",
   "execution_count": 53,
   "metadata": {},
   "outputs": [
    {
     "data": {
      "image/png": "[encoded data removed]",
      "text/plain": [
       "<Figure size 640x480 with 1 Axes>"
      ]
     },
     "metadata": {},
     "output_type": "display_data"
    },
    {
     "data": {
      "text/plain": [
       "<ggplot: (8781497390870)>"
      ]
     },
     "execution_count": 53,
     "metadata": {},
     "output_type": "execute_result"
    }
   ],
   "source": [
    "ggplot(df2, aes(x=\"emp3bins\", y=\"management\")) + geom_boxplot(\n",
    "    color=color[0], fill=color[4], size=0.5, width=0.1, alpha=0.5, na_rm=True\n",
    ") + stat_boxplot(\n",
    "    geom=\"errorbar\", width=0.05, color=color[0], size=0.5, na_rm=True\n",
    ") + scale_y_continuous(\n",
    "    limits=(min, max)\n",
    ") + annotate(\n",
    "    \"text\", x=1.3, y=ub, label=\"<-- Upper adjacent value\",  size=8\n",
    ") + annotate(\n",
    "    \"text\", x=1.3, y=q3, label=\"<-- 75th percentile (upper hinge)\",  size=8\n",
    ") + annotate(\n",
    "    \"text\", x=1.3, y=q2, label=\"<-- Median\",  size=8\n",
    ") + annotate(\n",
    "    \"text\", x=1.3, y=q1, label=\"<-- 25th percentile (upper hinge)\",  size=8\n",
    ") + annotate(\n",
    "    \"text\", x=1.3, y=lb, label=\"<-- Lower adjacent value\",  size=8\n",
    ") + annotate(\n",
    "    \"text\", x=1.3, y=out_lb, label=\"<-- Outside values\",  size=8\n",
    ") + annotate(\n",
    "    \"text\", x=0.63, y=ub, label=\"Adjacent line\",  size=8\n",
    ") + annotate(\n",
    "    \"text\", x=0.63, y=q3, label=\"Whiskers\",  size=8\n",
    ") + annotate(\n",
    "    \"text\", x=0.63, y=q2, label=\"Median\",  size=8\n",
    ") + annotate(\n",
    "    \"text\", x=0.63, y=q1, label=\"Whiskers\",  size=8\n",
    ") + annotate(\n",
    "    \"text\", x=0.63, y=lb, label=\"Adjacent line\",  size=8\n",
    ") + geom_segment(\n",
    "    aes(x=0.9, y=lb, xend=0.9, yend=ub)\n",
    ") + geom_segment(\n",
    "    aes(x=0.88, y=lb, xend=0.9, yend=lb)\n",
    ") + geom_segment(\n",
    "    aes(x=0.88, y=q1, xend=0.9, yend=q1)\n",
    ") + geom_segment(\n",
    "    aes(x=0.88, y=q2, xend=0.9, yend=q2)\n",
    ") + geom_segment(\n",
    "    aes(x=0.88, y=q3, xend=0.9, yend=q3)\n",
    ") + geom_segment(\n",
    "    aes(x=0.88, y=ub, xend=0.9, yend=ub)\n",
    ") + theme_bw() + theme(\n",
    "    axis_title_x=element_blank(),\n",
    "    axis_line_x=element_blank(),\n",
    "    #axis_ticks_x=element_blank(),\n",
    "    axis_text_x=element_blank(),\n",
    "    axis_title_y=element_blank(),\n",
    "    axis_line_y=element_blank(),\n",
    "    #axis_ticks_y=element_blank(),\n",
    "    axis_text_y=element_blank(),\n",
    "    panel_grid=element_blank(),\n",
    "    panel_border=element_blank(),\n",
    ")"
   ]
  },
  {
   "cell_type": "code",
   "execution_count": 54,
   "metadata": {},
   "outputs": [
    {
     "data": {
      "image/png": "[encoded data removed]",
      "text/plain": [
       "<Figure size 640x480 with 1 Axes>"
      ]
     },
     "metadata": {},
     "output_type": "display_data"
    },
    {
     "data": {
      "text/plain": [
       "<ggplot: (8781497529335)>"
      ]
     },
     "execution_count": 54,
     "metadata": {},
     "output_type": "execute_result"
    }
   ],
   "source": [
    "ggplot(df2, aes(x=\"emp3bins\", y=\"management\")) + geom_violin(\n",
    "    size=0.2,\n",
    "    width=0.3,\n",
    "    trim=False,\n",
    "    show_legend=False,\n",
    "    na_rm=True,\n",
    "    color=color[0],\n",
    "    alpha=0.3,\n",
    ") + geom_boxplot(\n",
    "    color=color[0],\n",
    "    fill=color[4],\n",
    "    size=0.6,\n",
    "    width=0.1,\n",
    "    alpha=0.5,\n",
    "    na_rm=True,\n",
    "    outlier_shape=\"\",\n",
    ") + annotate(\n",
    "    \"text\", x=1.2, y=ub, label=\"<-- 95% Confidence Interval\",  size=8\n",
    ") + annotate(\n",
    "    \"text\", x=1.2, y=lb, label=\"<-- 95% Confidence Interval\",  size=8\n",
    ") + annotate(\n",
    "    \"text\", x=1.4, y=q3, label=\"<-- Interquartile range\",  size=8\n",
    ") + annotate(\n",
    "    \"text\", x=1.4, y=q2, label=\"<-- Median\",  size=8\n",
    ") +ylim(1,4\n",
    ") + theme_bw() + theme(\n",
    "    axis_title_x=element_blank(),\n",
    "    axis_line_x=element_blank(),\n",
    "    #axis_ticks_x=element_blank(),\n",
    "    axis_text_x=element_blank(),\n",
    "    axis_title_y=element_blank(),\n",
    "    axis_line_y=element_blank(),\n",
    "    #axis_ticks_y=element_blank(),\n",
    "    axis_text_y=element_blank(),\n",
    "    panel_grid=element_blank(),\n",
    "    panel_border=element_blank(),\n",
    ")\n"
   ]
  },
  {
   "cell_type": "code",
   "execution_count": null,
   "metadata": {},
   "outputs": [],
   "source": []
  }
 ],
 "metadata": {
  "kernelspec": {
   "display_name": "Python 3",
   "language": "python",
   "name": "python3"
  },
  "language_info": {
   "codemirror_mode": {
    "name": "ipython",
    "version": 3
   },
   "file_extension": ".py",
   "mimetype": "text/x-python",
   "name": "python",
   "nbconvert_exporter": "python",
   "pygments_lexer": "ipython3",
   "version": "3.8.2"
  }
 },
 "nbformat": 4,
 "nbformat_minor": 4
}
