{
 "cells": [
  {
   "source": [
    "NOTE: cross validation and prediction check needs revision!"
   ],
   "cell_type": "markdown",
   "metadata": {}
  },
  {
   "cell_type": "markdown",
   "metadata": {},
   "source": [
    "##### DATA ANALYSIS TEXTBOOK\n",
    "##### Chapter 13 Prediction\n",
    "#\n",
    "##### Used car data for LA and Chicago\n",
    "\n",
    "##### graphs not in textbook!\n",
    "##### WHAT THIS CODES DOES:\n",
    "##### prep - cleans the data, makes it ready for work\n",
    "##### Models\n",
    "##### Measure of fits\n",
    "##### Cross validation"
   ]
  },
  {
   "cell_type": "code",
   "execution_count": 1,
   "metadata": {},
   "outputs": [],
   "source": [
    "import warnings\n",
    "warnings.filterwarnings('ignore')\n",
    "\n",
    "import pandas as pd\n",
    "import seaborn as sns\n",
    "from mizani.formatters import percent_format\n",
    "import os\n",
    "from plotnine import *\n",
    "import numpy as np\n",
    "import sys\n",
    "import numpy as np\n",
    "import statsmodels.api as sm\n",
    "import statsmodels.formula.api as smf\n",
    "from stargazer import stargazer\n",
    "from statsmodels.tools.eval_measures import mse,rmse"
   ]
  },
  {
   "cell_type": "code",
   "execution_count": 2,
   "metadata": {},
   "outputs": [],
   "source": [
    "# Current script folder\n",
    "current_path = os.getcwd()\n",
    "dirname = \"/\".join(current_path.split(\"/\")[:-2]) + \"/\"\n",
    "\n",
    "# location folders\n",
    "data_in = dirname + \"da_data_repo/used-cars/clean/\"\n",
    "data_out = dirname + \"da_case_studies/ch13-used-cars-reg/\"\n",
    "output = dirname + \"da_case_studies/ch13-used-cars-reg/output/\"\n",
    "func = dirname + \"da_case_studies/ch00-tech-prep/\"\n",
    "sys.path.append(func)"
   ]
  },
  {
   "cell_type": "code",
   "execution_count": 3,
   "metadata": {},
   "outputs": [],
   "source": [
    "# Import the prewritten helper functions\n",
    "from py_helper_functions import *"
   ]
  },
  {
   "cell_type": "code",
   "execution_count": 4,
   "metadata": {},
   "outputs": [],
   "source": [
    "# DATA IMPORT\n",
    "data = pd.read_csv(data_in + \"used-cars_2cities_prep.csv\")"
   ]
  },
  {
   "cell_type": "code",
   "execution_count": 5,
   "metadata": {},
   "outputs": [],
   "source": [
    "# SAMPLE DESIGN\n",
    "\n",
    "# Manage missing\n",
    "data[\"fuel\"] = data[\"fuel\"].fillna(\"Missing\")\n",
    "data[\"condition\"] = data[\"condition\"].fillna(\"Missing\")\n",
    "data[\"drive\"] = data[\"drive\"].fillna(\"Missing\")\n",
    "data[\"cylinders\"] = data[\"cylinders\"].fillna(\"Missing\")\n",
    "data[\"transmission\"] = data[\"transmission\"].fillna(\"Missing\")\n",
    "data[\"type\"] = data[\"type\"].fillna(\"Missing\")"
   ]
  },
  {
   "cell_type": "code",
   "execution_count": 6,
   "metadata": {},
   "outputs": [],
   "source": [
    "# drop hybrid models then drop column\n",
    "data = (data.query(\"Hybrid==0\")).drop([\"Hybrid\"], axis=1)"
   ]
  },
  {
   "cell_type": "code",
   "execution_count": 7,
   "metadata": {},
   "outputs": [
    {
     "data": {
      "text/html": [
       "<div>\n",
       "<style scoped>\n",
       "    .dataframe tbody tr th:only-of-type {\n",
       "        vertical-align: middle;\n",
       "    }\n",
       "\n",
       "    .dataframe tbody tr th {\n",
       "        vertical-align: top;\n",
       "    }\n",
       "\n",
       "    .dataframe thead th {\n",
       "        text-align: right;\n",
       "    }\n",
       "</style>\n",
       "<table border=\"1\" class=\"dataframe\">\n",
       "  <thead>\n",
       "    <tr style=\"text-align: right;\">\n",
       "      <th></th>\n",
       "      <th>frequency</th>\n",
       "      <th>percent</th>\n",
       "      <th>cumulative_percent</th>\n",
       "    </tr>\n",
       "    <tr>\n",
       "      <th>fuel</th>\n",
       "      <th></th>\n",
       "      <th></th>\n",
       "      <th></th>\n",
       "    </tr>\n",
       "  </thead>\n",
       "  <tbody>\n",
       "    <tr>\n",
       "      <th>Missing</th>\n",
       "      <td>1</td>\n",
       "      <td>0.190</td>\n",
       "      <td>0.190</td>\n",
       "    </tr>\n",
       "    <tr>\n",
       "      <th>diesel</th>\n",
       "      <td>1</td>\n",
       "      <td>0.190</td>\n",
       "      <td>0.380</td>\n",
       "    </tr>\n",
       "    <tr>\n",
       "      <th>gas</th>\n",
       "      <td>516</td>\n",
       "      <td>98.099</td>\n",
       "      <td>98.479</td>\n",
       "    </tr>\n",
       "    <tr>\n",
       "      <th>hybrid</th>\n",
       "      <td>1</td>\n",
       "      <td>0.190</td>\n",
       "      <td>98.669</td>\n",
       "    </tr>\n",
       "    <tr>\n",
       "      <th>other</th>\n",
       "      <td>7</td>\n",
       "      <td>1.331</td>\n",
       "      <td>100.000</td>\n",
       "    </tr>\n",
       "  </tbody>\n",
       "</table>\n",
       "</div>"
      ],
      "text/plain": [
       "         frequency  percent  cumulative_percent\n",
       "fuel                                           \n",
       "Missing          1    0.190               0.190\n",
       "diesel           1    0.190               0.380\n",
       "gas            516   98.099              98.479\n",
       "hybrid           1    0.190              98.669\n",
       "other            7    1.331             100.000"
      ]
     },
     "execution_count": 7,
     "metadata": {},
     "output_type": "execute_result"
    }
   ],
   "source": [
    "# check frequency by fuel type\n",
    "freq = data.groupby(\"fuel\").agg(frequency=(\"type\", \"size\"))\n",
    "freq[\"percent\"] = round(freq[\"frequency\"] / sum(freq[\"frequency\"]) * 100, 3)\n",
    "freq[\"cumulative_percent\"] = np.cumsum(freq[\"percent\"])\n",
    "freq"
   ]
  },
  {
   "cell_type": "code",
   "execution_count": 8,
   "metadata": {},
   "outputs": [],
   "source": [
    "# keep gas-fuelled vehicles\n",
    "data = data.query(\"fuel=='gas'\")"
   ]
  },
  {
   "cell_type": "code",
   "execution_count": 11,
   "metadata": {},
   "outputs": [
    {
     "data": {
      "text/html": [
       "<div>\n",
       "<style scoped>\n",
       "    .dataframe tbody tr th:only-of-type {\n",
       "        vertical-align: middle;\n",
       "    }\n",
       "\n",
       "    .dataframe tbody tr th {\n",
       "        vertical-align: top;\n",
       "    }\n",
       "\n",
       "    .dataframe thead th {\n",
       "        text-align: right;\n",
       "    }\n",
       "</style>\n",
       "<table border=\"1\" class=\"dataframe\">\n",
       "  <thead>\n",
       "    <tr style=\"text-align: right;\">\n",
       "      <th></th>\n",
       "      <th>frequency</th>\n",
       "      <th>percent</th>\n",
       "      <th>cumulative_percent</th>\n",
       "    </tr>\n",
       "    <tr>\n",
       "      <th>condition</th>\n",
       "      <th></th>\n",
       "      <th></th>\n",
       "      <th></th>\n",
       "    </tr>\n",
       "  </thead>\n",
       "  <tbody>\n",
       "    <tr>\n",
       "      <th>Missing</th>\n",
       "      <td>207</td>\n",
       "      <td>40.116</td>\n",
       "      <td>40.116</td>\n",
       "    </tr>\n",
       "    <tr>\n",
       "      <th>excellent</th>\n",
       "      <td>133</td>\n",
       "      <td>25.775</td>\n",
       "      <td>65.891</td>\n",
       "    </tr>\n",
       "    <tr>\n",
       "      <th>fair</th>\n",
       "      <td>14</td>\n",
       "      <td>2.713</td>\n",
       "      <td>68.604</td>\n",
       "    </tr>\n",
       "    <tr>\n",
       "      <th>good</th>\n",
       "      <td>106</td>\n",
       "      <td>20.543</td>\n",
       "      <td>89.147</td>\n",
       "    </tr>\n",
       "    <tr>\n",
       "      <th>like new</th>\n",
       "      <td>53</td>\n",
       "      <td>10.271</td>\n",
       "      <td>99.418</td>\n",
       "    </tr>\n",
       "    <tr>\n",
       "      <th>new</th>\n",
       "      <td>3</td>\n",
       "      <td>0.581</td>\n",
       "      <td>99.999</td>\n",
       "    </tr>\n",
       "  </tbody>\n",
       "</table>\n",
       "</div>"
      ],
      "text/plain": [
       "           frequency  percent  cumulative_percent\n",
       "condition                                        \n",
       "Missing          207   40.116              40.116\n",
       "excellent        133   25.775              65.891\n",
       "fair              14    2.713              68.604\n",
       "good             106   20.543              89.147\n",
       "like new          53   10.271              99.418\n",
       "new                3    0.581              99.999"
      ]
     },
     "execution_count": 11,
     "metadata": {},
     "output_type": "execute_result"
    }
   ],
   "source": [
    "# check frequency by vehicle condition\n",
    "freq = data.groupby(\"condition\").agg(frequency=(\"type\", \"size\"))\n",
    "freq[\"percent\"] = round(freq[\"frequency\"] / sum(freq[\"frequency\"]) * 100, 3)\n",
    "freq[\"cumulative_percent\"] = np.cumsum(freq[\"percent\"])\n",
    "freq"
   ]
  },
  {
   "cell_type": "code",
   "execution_count": 12,
   "metadata": {},
   "outputs": [],
   "source": [
    "# drop vehicles in fair and new condition, trucks\n",
    "data = data.query(\"condition not in ['new','fair']\")\n",
    "\n",
    "# drop unrealistic values for price and odometer reading\n",
    "data = data.query(\"price in @seq(500,25001,by=1)\").query(\"odometer<=100\")\n",
    "\n",
    "# drop if price is smaller than 1000 and condition is like new or age is less than 8\n",
    "data = data.query(\"~(price < 1000 & (condition == 'like new'|age < 8))\")"
   ]
  },
  {
   "cell_type": "code",
   "execution_count": 13,
   "metadata": {},
   "outputs": [
    {
     "data": {
      "text/html": [
       "<div>\n",
       "<style scoped>\n",
       "    .dataframe tbody tr th:only-of-type {\n",
       "        vertical-align: middle;\n",
       "    }\n",
       "\n",
       "    .dataframe tbody tr th {\n",
       "        vertical-align: top;\n",
       "    }\n",
       "\n",
       "    .dataframe thead th {\n",
       "        text-align: right;\n",
       "    }\n",
       "</style>\n",
       "<table border=\"1\" class=\"dataframe\">\n",
       "  <thead>\n",
       "    <tr style=\"text-align: right;\">\n",
       "      <th></th>\n",
       "      <th>frequency</th>\n",
       "      <th>percent</th>\n",
       "      <th>cumulative_percent</th>\n",
       "    </tr>\n",
       "    <tr>\n",
       "      <th>transmission</th>\n",
       "      <th></th>\n",
       "      <th></th>\n",
       "      <th></th>\n",
       "    </tr>\n",
       "  </thead>\n",
       "  <tbody>\n",
       "    <tr>\n",
       "      <th>automatic</th>\n",
       "      <td>478</td>\n",
       "      <td>98.557</td>\n",
       "      <td>98.557</td>\n",
       "    </tr>\n",
       "    <tr>\n",
       "      <th>manual</th>\n",
       "      <td>7</td>\n",
       "      <td>1.443</td>\n",
       "      <td>100.000</td>\n",
       "    </tr>\n",
       "  </tbody>\n",
       "</table>\n",
       "</div>"
      ],
      "text/plain": [
       "              frequency  percent  cumulative_percent\n",
       "transmission                                        \n",
       "automatic           478   98.557              98.557\n",
       "manual                7    1.443             100.000"
      ]
     },
     "execution_count": 13,
     "metadata": {},
     "output_type": "execute_result"
    }
   ],
   "source": [
    "# check frequency by transmission\n",
    "freq = data.groupby(\"transmission\").agg(frequency=(\"type\", \"size\"))\n",
    "freq[\"percent\"] = round(freq[\"frequency\"] / sum(freq[\"frequency\"]) * 100, 3)\n",
    "freq[\"cumulative_percent\"] = np.cumsum(freq[\"percent\"])\n",
    "freq"
   ]
  },
  {
   "cell_type": "code",
   "execution_count": 14,
   "metadata": {},
   "outputs": [],
   "source": [
    "data = data.query(\"~(transmission=='manual')\")"
   ]
  },
  {
   "cell_type": "code",
   "execution_count": 15,
   "metadata": {},
   "outputs": [
    {
     "data": {
      "text/html": [
       "<div>\n",
       "<style scoped>\n",
       "    .dataframe tbody tr th:only-of-type {\n",
       "        vertical-align: middle;\n",
       "    }\n",
       "\n",
       "    .dataframe tbody tr th {\n",
       "        vertical-align: top;\n",
       "    }\n",
       "\n",
       "    .dataframe thead th {\n",
       "        text-align: right;\n",
       "    }\n",
       "</style>\n",
       "<table border=\"1\" class=\"dataframe\">\n",
       "  <thead>\n",
       "    <tr style=\"text-align: right;\">\n",
       "      <th></th>\n",
       "      <th>frequency</th>\n",
       "      <th>percent</th>\n",
       "      <th>cumulative_percent</th>\n",
       "    </tr>\n",
       "    <tr>\n",
       "      <th>type</th>\n",
       "      <th></th>\n",
       "      <th></th>\n",
       "      <th></th>\n",
       "    </tr>\n",
       "  </thead>\n",
       "  <tbody>\n",
       "    <tr>\n",
       "      <th>Missing</th>\n",
       "      <td>223</td>\n",
       "      <td>46.653</td>\n",
       "      <td>46.653</td>\n",
       "    </tr>\n",
       "    <tr>\n",
       "      <th>SUV</th>\n",
       "      <td>1</td>\n",
       "      <td>0.209</td>\n",
       "      <td>46.862</td>\n",
       "    </tr>\n",
       "    <tr>\n",
       "      <th>convertible</th>\n",
       "      <td>6</td>\n",
       "      <td>1.255</td>\n",
       "      <td>48.117</td>\n",
       "    </tr>\n",
       "    <tr>\n",
       "      <th>coupe</th>\n",
       "      <td>19</td>\n",
       "      <td>3.975</td>\n",
       "      <td>52.092</td>\n",
       "    </tr>\n",
       "    <tr>\n",
       "      <th>pickup</th>\n",
       "      <td>1</td>\n",
       "      <td>0.209</td>\n",
       "      <td>52.301</td>\n",
       "    </tr>\n",
       "    <tr>\n",
       "      <th>sedan</th>\n",
       "      <td>227</td>\n",
       "      <td>47.490</td>\n",
       "      <td>99.791</td>\n",
       "    </tr>\n",
       "    <tr>\n",
       "      <th>wagon</th>\n",
       "      <td>1</td>\n",
       "      <td>0.209</td>\n",
       "      <td>100.000</td>\n",
       "    </tr>\n",
       "  </tbody>\n",
       "</table>\n",
       "</div>"
      ],
      "text/plain": [
       "             frequency  percent  cumulative_percent\n",
       "type                                               \n",
       "Missing            223   46.653              46.653\n",
       "SUV                  1    0.209              46.862\n",
       "convertible          6    1.255              48.117\n",
       "coupe               19    3.975              52.092\n",
       "pickup               1    0.209              52.301\n",
       "sedan              227   47.490              99.791\n",
       "wagon                1    0.209             100.000"
      ]
     },
     "execution_count": 15,
     "metadata": {},
     "output_type": "execute_result"
    }
   ],
   "source": [
    "# check frequency by transmission\n",
    "freq = data.groupby(\"type\").agg(frequency=(\"type\", \"size\"))\n",
    "freq[\"percent\"] = round(freq[\"frequency\"] / sum(freq[\"frequency\"]) * 100, 3)\n",
    "freq[\"cumulative_percent\"] = np.cumsum(freq[\"percent\"])\n",
    "freq"
   ]
  },
  {
   "cell_type": "code",
   "execution_count": 16,
   "metadata": {},
   "outputs": [],
   "source": [
    "# drop if truck\n",
    "data = data.query(\"~(type=='truck')\")\n",
    "# drop pricestr\n",
    "data = data.drop([\"pricestr\"], axis=1)"
   ]
  },
  {
   "cell_type": "code",
   "execution_count": 17,
   "metadata": {},
   "outputs": [],
   "source": [
    "# DATA GENERATION & DESCRIPTIVES\n",
    "# CONDITION\n",
    "data[\"cond_excellent\"] = np.where(data[\"condition\"] == \"excellent\", 1, 0)\n",
    "data[\"cond_good\"] = np.where(data[\"condition\"] == \"good\", 1, 0)\n",
    "data[\"cond_likenew\"] = np.where(data[\"condition\"] == \"like new\", 1, 0)\n",
    "# cylinders\n",
    "data[\"cylind6\"] = np.where(data[\"cylinders\"] == \"6 cylinders\", 1, 0)\n",
    "data.cylinders.value_counts()\n",
    "data.cylind6.value_counts()\n",
    "# age: quadratic, cubic\n",
    "data[\"agesq\"] = data[\"age\"] ** 2\n",
    "data[\"agecu\"] = data[\"age\"] ** 3\n",
    "# odometer quadratic\n",
    "data[\"odometersq\"] = data[\"odometer\"] ** 3\n",
    "data.to_csv(data_out + \"usedcars_work.csv\", index=False)"
   ]
  },
  {
   "cell_type": "code",
   "execution_count": 18,
   "metadata": {},
   "outputs": [],
   "source": [
    "df = pd.read_csv(data_out + \"usedcars_work.csv\")\n",
    "\n",
    "# Frequency tables"
   ]
  },
  {
   "cell_type": "code",
   "execution_count": 19,
   "metadata": {},
   "outputs": [
    {
     "data": {
      "text/html": [
       "<div>\n",
       "<style scoped>\n",
       "    .dataframe tbody tr th:only-of-type {\n",
       "        vertical-align: middle;\n",
       "    }\n",
       "\n",
       "    .dataframe tbody tr th {\n",
       "        vertical-align: top;\n",
       "    }\n",
       "\n",
       "    .dataframe thead th {\n",
       "        text-align: right;\n",
       "    }\n",
       "</style>\n",
       "<table border=\"1\" class=\"dataframe\">\n",
       "  <thead>\n",
       "    <tr style=\"text-align: right;\">\n",
       "      <th></th>\n",
       "      <th>frequency</th>\n",
       "      <th>mean</th>\n",
       "    </tr>\n",
       "    <tr>\n",
       "      <th>area</th>\n",
       "      <th></th>\n",
       "      <th></th>\n",
       "    </tr>\n",
       "  </thead>\n",
       "  <tbody>\n",
       "    <tr>\n",
       "      <th>chicago</th>\n",
       "      <td>281</td>\n",
       "      <td>6060.975089</td>\n",
       "    </tr>\n",
       "    <tr>\n",
       "      <th>los angeles</th>\n",
       "      <td>197</td>\n",
       "      <td>5518.253807</td>\n",
       "    </tr>\n",
       "  </tbody>\n",
       "</table>\n",
       "</div>"
      ],
      "text/plain": [
       "             frequency         mean\n",
       "area                               \n",
       "chicago            281  6060.975089\n",
       "los angeles        197  5518.253807"
      ]
     },
     "execution_count": 19,
     "metadata": {},
     "output_type": "execute_result"
    }
   ],
   "source": [
    "# area\n",
    "data.groupby(\"area\").agg(frequency=(\"price\", \"size\"), mean=(\"price\", np.mean))"
   ]
  },
  {
   "cell_type": "code",
   "execution_count": 20,
   "metadata": {},
   "outputs": [],
   "source": [
    "# focus only on Chicago\n",
    "data = data.query(\"area=='chicago'\")"
   ]
  },
  {
   "cell_type": "code",
   "execution_count": 21,
   "metadata": {},
   "outputs": [
    {
     "data": {
      "text/html": [
       "<div>\n",
       "<style scoped>\n",
       "    .dataframe tbody tr th:only-of-type {\n",
       "        vertical-align: middle;\n",
       "    }\n",
       "\n",
       "    .dataframe tbody tr th {\n",
       "        vertical-align: top;\n",
       "    }\n",
       "\n",
       "    .dataframe thead th {\n",
       "        text-align: right;\n",
       "    }\n",
       "</style>\n",
       "<table border=\"1\" class=\"dataframe\">\n",
       "  <thead>\n",
       "    <tr style=\"text-align: right;\">\n",
       "      <th></th>\n",
       "      <th>frequency</th>\n",
       "      <th>mean</th>\n",
       "    </tr>\n",
       "    <tr>\n",
       "      <th>condition</th>\n",
       "      <th></th>\n",
       "      <th></th>\n",
       "    </tr>\n",
       "  </thead>\n",
       "  <tbody>\n",
       "    <tr>\n",
       "      <th>Missing</th>\n",
       "      <td>124</td>\n",
       "      <td>6611.161290</td>\n",
       "    </tr>\n",
       "    <tr>\n",
       "      <th>excellent</th>\n",
       "      <td>75</td>\n",
       "      <td>6724.186667</td>\n",
       "    </tr>\n",
       "    <tr>\n",
       "      <th>good</th>\n",
       "      <td>67</td>\n",
       "      <td>3988.179104</td>\n",
       "    </tr>\n",
       "    <tr>\n",
       "      <th>like new</th>\n",
       "      <td>15</td>\n",
       "      <td>7455.200000</td>\n",
       "    </tr>\n",
       "  </tbody>\n",
       "</table>\n",
       "</div>"
      ],
      "text/plain": [
       "           frequency         mean\n",
       "condition                        \n",
       "Missing          124  6611.161290\n",
       "excellent         75  6724.186667\n",
       "good              67  3988.179104\n",
       "like new          15  7455.200000"
      ]
     },
     "execution_count": 21,
     "metadata": {},
     "output_type": "execute_result"
    }
   ],
   "source": [
    "# condition\n",
    "data.groupby(\"condition\").agg(frequency=(\"price\", \"size\"), mean=(\"price\", np.mean))"
   ]
  },
  {
   "cell_type": "code",
   "execution_count": 22,
   "metadata": {},
   "outputs": [
    {
     "data": {
      "text/html": [
       "<div>\n",
       "<style scoped>\n",
       "    .dataframe tbody tr th:only-of-type {\n",
       "        vertical-align: middle;\n",
       "    }\n",
       "\n",
       "    .dataframe tbody tr th {\n",
       "        vertical-align: top;\n",
       "    }\n",
       "\n",
       "    .dataframe thead th {\n",
       "        text-align: right;\n",
       "    }\n",
       "</style>\n",
       "<table border=\"1\" class=\"dataframe\">\n",
       "  <thead>\n",
       "    <tr style=\"text-align: right;\">\n",
       "      <th></th>\n",
       "      <th>frequency</th>\n",
       "      <th>mean</th>\n",
       "    </tr>\n",
       "    <tr>\n",
       "      <th>drive</th>\n",
       "      <th></th>\n",
       "      <th></th>\n",
       "    </tr>\n",
       "  </thead>\n",
       "  <tbody>\n",
       "    <tr>\n",
       "      <th>4wd</th>\n",
       "      <td>4</td>\n",
       "      <td>10168.750000</td>\n",
       "    </tr>\n",
       "    <tr>\n",
       "      <th>Missing</th>\n",
       "      <td>106</td>\n",
       "      <td>4575.094340</td>\n",
       "    </tr>\n",
       "    <tr>\n",
       "      <th>fwd</th>\n",
       "      <td>169</td>\n",
       "      <td>6893.485207</td>\n",
       "    </tr>\n",
       "    <tr>\n",
       "      <th>rwd</th>\n",
       "      <td>2</td>\n",
       "      <td>6250.000000</td>\n",
       "    </tr>\n",
       "  </tbody>\n",
       "</table>\n",
       "</div>"
      ],
      "text/plain": [
       "         frequency          mean\n",
       "drive                           \n",
       "4wd              4  10168.750000\n",
       "Missing        106   4575.094340\n",
       "fwd            169   6893.485207\n",
       "rwd              2   6250.000000"
      ]
     },
     "execution_count": 22,
     "metadata": {},
     "output_type": "execute_result"
    }
   ],
   "source": [
    "# drive\n",
    "data.groupby(\"drive\").agg(frequency=(\"price\", \"size\"), mean=(\"price\", np.mean))"
   ]
  },
  {
   "cell_type": "code",
   "execution_count": 23,
   "metadata": {},
   "outputs": [
    {
     "data": {
      "text/html": [
       "<div>\n",
       "<style scoped>\n",
       "    .dataframe tbody tr th:only-of-type {\n",
       "        vertical-align: middle;\n",
       "    }\n",
       "\n",
       "    .dataframe tbody tr th {\n",
       "        vertical-align: top;\n",
       "    }\n",
       "\n",
       "    .dataframe thead th {\n",
       "        text-align: right;\n",
       "    }\n",
       "</style>\n",
       "<table border=\"1\" class=\"dataframe\">\n",
       "  <thead>\n",
       "    <tr style=\"text-align: right;\">\n",
       "      <th></th>\n",
       "      <th>frequency</th>\n",
       "      <th>mean</th>\n",
       "    </tr>\n",
       "    <tr>\n",
       "      <th>dealer</th>\n",
       "      <th></th>\n",
       "      <th></th>\n",
       "    </tr>\n",
       "  </thead>\n",
       "  <tbody>\n",
       "    <tr>\n",
       "      <th>0</th>\n",
       "      <td>193</td>\n",
       "      <td>4402.181347</td>\n",
       "    </tr>\n",
       "    <tr>\n",
       "      <th>1</th>\n",
       "      <td>88</td>\n",
       "      <td>9699.011364</td>\n",
       "    </tr>\n",
       "  </tbody>\n",
       "</table>\n",
       "</div>"
      ],
      "text/plain": [
       "        frequency         mean\n",
       "dealer                        \n",
       "0             193  4402.181347\n",
       "1              88  9699.011364"
      ]
     },
     "execution_count": 23,
     "metadata": {},
     "output_type": "execute_result"
    }
   ],
   "source": [
    "# dealer\n",
    "data.groupby(\"dealer\").agg(frequency=(\"price\", \"size\"), mean=(\"price\", np.mean))"
   ]
  },
  {
   "cell_type": "code",
   "execution_count": 24,
   "metadata": {},
   "outputs": [
    {
     "data": {
      "text/html": [
       "<div>\n",
       "<style scoped>\n",
       "    .dataframe tbody tr th:only-of-type {\n",
       "        vertical-align: middle;\n",
       "    }\n",
       "\n",
       "    .dataframe tbody tr th {\n",
       "        vertical-align: top;\n",
       "    }\n",
       "\n",
       "    .dataframe thead th {\n",
       "        text-align: right;\n",
       "    }\n",
       "</style>\n",
       "<table border=\"1\" class=\"dataframe\">\n",
       "  <thead>\n",
       "    <tr style=\"text-align: right;\">\n",
       "      <th></th>\n",
       "      <th>age</th>\n",
       "      <th>odometer</th>\n",
       "      <th>LE</th>\n",
       "      <th>XLE</th>\n",
       "      <th>SE</th>\n",
       "      <th>cond_likenew</th>\n",
       "      <th>cond_excellent</th>\n",
       "      <th>cond_good</th>\n",
       "      <th>cylind6</th>\n",
       "    </tr>\n",
       "  </thead>\n",
       "  <tbody>\n",
       "    <tr>\n",
       "      <th>count</th>\n",
       "      <td>281.000000</td>\n",
       "      <td>281.000000</td>\n",
       "      <td>281.000000</td>\n",
       "      <td>281.000000</td>\n",
       "      <td>281.000000</td>\n",
       "      <td>281.000000</td>\n",
       "      <td>281.000000</td>\n",
       "      <td>281.000000</td>\n",
       "      <td>281.000000</td>\n",
       "    </tr>\n",
       "    <tr>\n",
       "      <th>mean</th>\n",
       "      <td>12.298932</td>\n",
       "      <td>12.521702</td>\n",
       "      <td>0.192171</td>\n",
       "      <td>0.071174</td>\n",
       "      <td>0.064057</td>\n",
       "      <td>0.053381</td>\n",
       "      <td>0.266904</td>\n",
       "      <td>0.238434</td>\n",
       "      <td>0.145907</td>\n",
       "    </tr>\n",
       "    <tr>\n",
       "      <th>std</th>\n",
       "      <td>5.892153</td>\n",
       "      <td>5.172572</td>\n",
       "      <td>0.394710</td>\n",
       "      <td>0.257575</td>\n",
       "      <td>0.245291</td>\n",
       "      <td>0.225193</td>\n",
       "      <td>0.443131</td>\n",
       "      <td>0.426886</td>\n",
       "      <td>0.353643</td>\n",
       "    </tr>\n",
       "    <tr>\n",
       "      <th>min</th>\n",
       "      <td>1.000000</td>\n",
       "      <td>0.231900</td>\n",
       "      <td>0.000000</td>\n",
       "      <td>0.000000</td>\n",
       "      <td>0.000000</td>\n",
       "      <td>0.000000</td>\n",
       "      <td>0.000000</td>\n",
       "      <td>0.000000</td>\n",
       "      <td>0.000000</td>\n",
       "    </tr>\n",
       "    <tr>\n",
       "      <th>25%</th>\n",
       "      <td>7.000000</td>\n",
       "      <td>8.140000</td>\n",
       "      <td>0.000000</td>\n",
       "      <td>0.000000</td>\n",
       "      <td>0.000000</td>\n",
       "      <td>0.000000</td>\n",
       "      <td>0.000000</td>\n",
       "      <td>0.000000</td>\n",
       "      <td>0.000000</td>\n",
       "    </tr>\n",
       "    <tr>\n",
       "      <th>50%</th>\n",
       "      <td>13.000000</td>\n",
       "      <td>13.655900</td>\n",
       "      <td>0.000000</td>\n",
       "      <td>0.000000</td>\n",
       "      <td>0.000000</td>\n",
       "      <td>0.000000</td>\n",
       "      <td>0.000000</td>\n",
       "      <td>0.000000</td>\n",
       "      <td>0.000000</td>\n",
       "    </tr>\n",
       "    <tr>\n",
       "      <th>75%</th>\n",
       "      <td>17.000000</td>\n",
       "      <td>16.430000</td>\n",
       "      <td>0.000000</td>\n",
       "      <td>0.000000</td>\n",
       "      <td>0.000000</td>\n",
       "      <td>0.000000</td>\n",
       "      <td>1.000000</td>\n",
       "      <td>0.000000</td>\n",
       "      <td>0.000000</td>\n",
       "    </tr>\n",
       "    <tr>\n",
       "      <th>max</th>\n",
       "      <td>27.000000</td>\n",
       "      <td>25.300000</td>\n",
       "      <td>1.000000</td>\n",
       "      <td>1.000000</td>\n",
       "      <td>1.000000</td>\n",
       "      <td>1.000000</td>\n",
       "      <td>1.000000</td>\n",
       "      <td>1.000000</td>\n",
       "      <td>1.000000</td>\n",
       "    </tr>\n",
       "  </tbody>\n",
       "</table>\n",
       "</div>"
      ],
      "text/plain": [
       "              age    odometer          LE         XLE          SE  \\\n",
       "count  281.000000  281.000000  281.000000  281.000000  281.000000   \n",
       "mean    12.298932   12.521702    0.192171    0.071174    0.064057   \n",
       "std      5.892153    5.172572    0.394710    0.257575    0.245291   \n",
       "min      1.000000    0.231900    0.000000    0.000000    0.000000   \n",
       "25%      7.000000    8.140000    0.000000    0.000000    0.000000   \n",
       "50%     13.000000   13.655900    0.000000    0.000000    0.000000   \n",
       "75%     17.000000   16.430000    0.000000    0.000000    0.000000   \n",
       "max     27.000000   25.300000    1.000000    1.000000    1.000000   \n",
       "\n",
       "       cond_likenew  cond_excellent   cond_good     cylind6  \n",
       "count    281.000000      281.000000  281.000000  281.000000  \n",
       "mean       0.053381        0.266904    0.238434    0.145907  \n",
       "std        0.225193        0.443131    0.426886    0.353643  \n",
       "min        0.000000        0.000000    0.000000    0.000000  \n",
       "25%        0.000000        0.000000    0.000000    0.000000  \n",
       "50%        0.000000        0.000000    0.000000    0.000000  \n",
       "75%        0.000000        1.000000    0.000000    0.000000  \n",
       "max        1.000000        1.000000    1.000000    1.000000  "
      ]
     },
     "execution_count": 24,
     "metadata": {},
     "output_type": "execute_result"
    }
   ],
   "source": [
    "# data summary\n",
    "data.loc[\n",
    "    :,\n",
    "    [\n",
    "        \"age\",\n",
    "        \"odometer\",\n",
    "        \"LE\",\n",
    "        \"XLE\",\n",
    "        \"SE\",\n",
    "        \"cond_likenew\",\n",
    "        \"cond_excellent\",\n",
    "        \"cond_good\",\n",
    "        \"cylind6\",\n",
    "    ],\n",
    "].describe()"
   ]
  },
  {
   "cell_type": "code",
   "execution_count": 25,
   "metadata": {},
   "outputs": [],
   "source": [
    "#Histograms not in the textbook"
   ]
  },
  {
   "cell_type": "code",
   "execution_count": 26,
   "metadata": {},
   "outputs": [
    {
     "data": {
      "image/png": "[encoded data removed]",
      "text/plain": [
       "<Figure size 640x480 with 1 Axes>"
      ]
     },
     "metadata": {},
     "output_type": "display_data"
    },
    {
     "data": {
      "text/plain": [
       "<ggplot: (310774556)>"
      ]
     },
     "execution_count": 26,
     "metadata": {},
     "output_type": "execute_result"
    }
   ],
   "source": [
    "ggplot(data, aes(x=\"price\")) + geom_histogram(\n",
    "    aes(y=\"(stat(count))/sum(stat(count))\"),\n",
    "    binwidth=1000,\n",
    "    boundary=0,\n",
    "    color=\"white\",\n",
    "    fill=color[0],\n",
    "    size=0.25,\n",
    "    alpha=0.8,\n",
    "    show_legend=False,\n",
    "    na_rm=True,\n",
    ") + coord_cartesian(xlim=(0, 20000)) + labs(\n",
    "    x=\"Price (US dollars)\", y=\"Percent\"\n",
    ") + theme_bw() + expand_limits(\n",
    "    x=0.01, y=0.01\n",
    ") + scale_y_continuous(\n",
    "    expand=(0.01, 0.01), labels=percent_format()\n",
    ") + scale_x_continuous(\n",
    "    expand=(0.01, 0.01), breaks=seq(0, 20000, 2500)\n",
    ")\n"
   ]
  },
  {
   "cell_type": "code",
   "execution_count": 27,
   "metadata": {},
   "outputs": [
    {
     "data": {
      "image/png": "[encoded data removed]",
      "text/plain": [
       "<Figure size 640x480 with 1 Axes>"
      ]
     },
     "metadata": {},
     "output_type": "display_data"
    },
    {
     "data": {
      "text/plain": [
       "<ggplot: (310868667)>"
      ]
     },
     "execution_count": 27,
     "metadata": {},
     "output_type": "execute_result"
    }
   ],
   "source": [
    "ggplot(data, aes(x=\"lnprice\")) + geom_histogram(\n",
    "    aes(y=\"(stat(count)) / sum(stat(count))\"),\n",
    "    binwidth=0.2,\n",
    "    boundary=0,\n",
    "    color=\"white\",\n",
    "    fill=color[0],\n",
    "    size=0.25,\n",
    "    alpha=0.8,\n",
    "    show_legend=False,\n",
    "    na_rm=True,\n",
    ") + coord_cartesian(xlim=(6, 10)) + labs(\n",
    "    x=\"ln(Price, US dollars)\", y=\"Percent\"\n",
    ") + expand_limits(\n",
    "    x=0.01, y=0.01\n",
    ") + scale_y_continuous(\n",
    "    expand=(0.01, 0.01), labels=percent_format()\n",
    ") + scale_x_continuous(\n",
    "    expand=(0.01, 0.01), breaks=seq(6, 10, 1)\n",
    ") + theme_bw()"
   ]
  },
  {
   "cell_type": "markdown",
   "metadata": {},
   "source": [
    "### Regression analysis"
   ]
  },
  {
   "cell_type": "code",
   "execution_count": 28,
   "metadata": {},
   "outputs": [
    {
     "data": {
      "image/png": "[encoded data removed]",
      "text/plain": [
       "<Figure size 640x480 with 1 Axes>"
      ]
     },
     "metadata": {},
     "output_type": "display_data"
    },
    {
     "data": {
      "text/plain": [
       "<ggplot: (310905977)>"
      ]
     },
     "execution_count": 28,
     "metadata": {},
     "output_type": "execute_result"
    }
   ],
   "source": [
    "#lowess\n",
    "ggplot(data, aes(x=\"age\", y=\"price\")) + geom_point(\n",
    "    color=color[0], size=1, alpha=0.8, show_legend=False, na_rm=True\n",
    ") + geom_smooth(method=\"loess\", se=False, colour=color[3], size=1, span=0.9) + labs(\n",
    "    x=\"Age (years)\", y=\"Price (US dollars)\"\n",
    ") + theme_bw() + expand_limits(\n",
    "    x=0.01, y=0.01\n",
    ") + scale_y_continuous(\n",
    "    expand=(0.01, 0.01), limits=(0, 20000), breaks=seq(0, 20000, 5000)\n",
    ") + scale_x_continuous(\n",
    "    expand=(0.01, 0.01), limits=(0, 30), breaks=seq(0, 30, 5)\n",
    ")\n"
   ]
  },
  {
   "cell_type": "code",
   "execution_count": 29,
   "metadata": {},
   "outputs": [],
   "source": [
    "###################################\n",
    "# Linear regressions\n",
    "\n",
    "# Model 1: Linear regression on age\n",
    "reg1=smf.ols(\"price~age+agesq\",data=data).fit(cov_type=\"HC0\")\n",
    "reg2=smf.ols(\"price~age+agesq+odometer\",data=data).fit(cov_type=\"HC0\")\n",
    "reg3=smf.ols(\"price~age+agesq+ odometer + odometersq + LE + cond_excellent + cond_good + dealer\",data=data).fit(cov_type=\"HC0\")\n",
    "reg4=smf.ols(\"price~age+agesq+ odometer + odometersq + LE + XLE + SE + cond_likenew + cond_excellent + cond_good + cylind6 + dealer\",data=data).fit(cov_type=\"HC0\")\n",
    "reg5=smf.ols(\"price~age+agesq + odometer + odometersq + LE*age + XLE*age + SE*age + cond_likenew*age + cond_excellent*age + cond_good*age + cylind6*age + odometer*age + dealer*age\",data=data).fit(cov_type=\"HC0\")"
   ]
  },
  {
   "cell_type": "code",
   "execution_count": 30,
   "metadata": {},
   "outputs": [],
   "source": [
    "from sklearn.metrics import mean_squared_error\n",
    "models = [reg1, reg2,reg3, reg4, reg5]\n",
    "AIC=[None]*len(models)\n",
    "BIC=[None]*len(models)\n",
    "RMSE=[None]*len(models)\n",
    "Rsquared=[None]*len(models)\n",
    "regr=[None]*len(models)\n",
    "k=[None]*len(models)\n",
    "\n",
    "for i in range(0,len(models)):\n",
    "    AIC[i]=models[i].aic\n",
    "    BIC[i]=models[i].bic\n",
    "    RMSE[i]=np.sqrt(models[i].mse_total)\n",
    "    Rsquared[i]=models[i].rsquared\n",
    "    #regr[i]\n",
    "    k[i]=(models[i].df_model)+1"
   ]
  },
  {
   "cell_type": "code",
   "execution_count": 31,
   "metadata": {},
   "outputs": [
    {
     "data": {
      "text/html": [
       "<table style=\"text-align:center\"><tr><td colspan=\"2\" style=\"border-bottom: 1px solid black\"></td></tr><tr><td style=\"text-align:left\"></td><td colspan=\"1\"><em>Dependent variable:price</em></td></tr><tr><td style=\"text-align:left\"></td><tr><td style=\"text-align:left\"></td><td>(1)</td></tr><tr><td colspan=\"2\" style=\"border-bottom: 1px solid black\"></td></tr><tr><td style=\"text-align:left\">Intercept</td><td>18365.447<sup>***</sup></td></tr><tr><td style=\"text-align:left\"></td><td>(351.642)</td></tr><tr><td style=\"text-align:left\">age</td><td>-1530.088<sup>***</sup></td></tr><tr><td style=\"text-align:left\"></td><td>(59.324)</td></tr><tr><td style=\"text-align:left\">agesq</td><td>35.048<sup>***</sup></td></tr><tr><td style=\"text-align:left\"></td><td>(2.301)</td></tr><td colspan=\"2\" style=\"border-bottom: 1px solid black\"></td></tr><tr><td style=\"text-align: left\">Observations</td><td>281</td></tr><tr><td style=\"text-align: left\">R<sup>2</sup></td><td>0.847</td></tr><tr><td style=\"text-align: left\">Adjusted R<sup>2</sup></td><td>0.846</td></tr><tr><td style=\"text-align: left\">Residual Std. Error</td><td>1764.626 (df=278)</td></tr><tr><td style=\"text-align: left\">F Statistic</td><td>1076.794<sup>***</sup> (df=2; 278)</td></tr><tr><td colspan=\"2\" style=\"border-bottom: 1px solid black\"></td></tr><tr><td style=\"text-align: left\">Note:</td>\n",
       " <td colspan=\"1\" style=\"text-align: right\">\n",
       "  <sup>*</sup>p&lt;0.1;\n",
       "  <sup>**</sup>p&lt;0.05;\n",
       "  <sup>***</sup>p&lt;0.01\n",
       " </td></tr></table>"
      ],
      "text/plain": [
       "<stargazer.stargazer.Stargazer at 0x12e7c4ee0>"
      ]
     },
     "execution_count": 31,
     "metadata": {},
     "output_type": "execute_result"
    }
   ],
   "source": [
    "stargazer.Stargazer([reg1])"
   ]
  },
  {
   "cell_type": "code",
   "execution_count": 32,
   "metadata": {},
   "outputs": [
    {
     "data": {
      "image/png": "[encoded data removed]",
      "text/plain": [
       "<Figure size 640x480 with 1 Axes>"
      ]
     },
     "metadata": {},
     "output_type": "display_data"
    },
    {
     "data": {
      "text/plain": [
       "<ggplot: (317189370)>"
      ]
     },
     "execution_count": 32,
     "metadata": {},
     "output_type": "execute_result"
    }
   ],
   "source": [
    "ggplot(data, aes(x=\"age\")) + geom_smooth(\n",
    "    aes(y=\"price\"),colour=color[0],linetype=\"dashed\", method=\"loess\", se=False, size=1\n",
    ") + geom_line(aes(y=\"reg1.predict()\"), colour=color[1], size=1) + labs(\n",
    "    x=\"Age (years)\", y=\"Price (US dollars)\"\n",
    ") + scale_color_manual(\n",
    "    name=\"\", values=(color[0], color[1]), labels=(\"Lowess in age\", \"Quadratic in age\")\n",
    ") + theme_bw() + scale_x_continuous(\n",
    "    limits=(0, 30), breaks=seq(0, 30, 5)\n",
    ") + scale_y_continuous(\n",
    "    limits=(0, 20000), breaks=seq(0, 20000, 5000)\n",
    ") + theme(\n",
    "    legend_position=(20, 20),\n",
    "    legend_direction=\"horizontal\",\n",
    "    legend_background=element_blank(),\n",
    "    legend_box_background=element_rect(color=\"white\"),\n",
    ")"
   ]
  },
  {
   "cell_type": "code",
   "execution_count": 33,
   "metadata": {},
   "outputs": [
    {
     "data": {
      "text/html": [
       "<table style=\"text-align:center\"><tr><td colspan=\"5\" style=\"border-bottom: 1px solid black\"></td></tr><tr><td style=\"text-align:left\"></td><td colspan=\"4\"><em>Dependent variable:price</em></td></tr><tr><td style=\"text-align:left\"></td><tr><td style=\"text-align:left\"></td><td>(1)</td><td>(2)</td><td>(3)</td><td>(4)</td></tr><tr><td colspan=\"5\" style=\"border-bottom: 1px solid black\"></td></tr><tr><td style=\"text-align:left\">Intercept</td><td>18365.447<sup>***</sup></td><td>18860.197<sup>***</sup></td><td>18888.333<sup>***</sup></td><td>18407.773<sup>***</sup></td></tr><tr><td style=\"text-align:left\"></td><td>(351.642)</td><td>(311.265)</td><td>(382.478)</td><td>(406.946)</td></tr><tr><td style=\"text-align:left\">LE</td><td></td><td></td><td>43.664<sup></sup></td><td>-8.220<sup></sup></td></tr><tr><td style=\"text-align:left\"></td><td></td><td></td><td>(198.721)</td><td>(202.048)</td></tr><tr><td style=\"text-align:left\">SE</td><td></td><td></td><td></td><td>1322.868<sup>***</sup></td></tr><tr><td style=\"text-align:left\"></td><td></td><td></td><td></td><td>(511.469)</td></tr><tr><td style=\"text-align:left\">XLE</td><td></td><td></td><td></td><td>287.870<sup></sup></td></tr><tr><td style=\"text-align:left\"></td><td></td><td></td><td></td><td>(354.169)</td></tr><tr><td style=\"text-align:left\">age</td><td>-1530.088<sup>***</sup></td><td>-1149.223<sup>***</sup></td><td>-885.841<sup>***</sup></td><td>-850.734<sup>***</sup></td></tr><tr><td style=\"text-align:left\"></td><td>(59.324)</td><td>(69.623)</td><td>(79.290)</td><td>(74.905)</td></tr><tr><td style=\"text-align:left\">agesq</td><td>35.048<sup>***</sup></td><td>27.653<sup>***</sup></td><td>18.673<sup>***</sup></td><td>18.147<sup>***</sup></td></tr><tr><td style=\"text-align:left\"></td><td>(2.301)</td><td>(2.540)</td><td>(2.492)</td><td>(2.347)</td></tr><tr><td style=\"text-align:left\">cond_excellent</td><td></td><td></td><td>173.749<sup></sup></td><td>191.279<sup></sup></td></tr><tr><td style=\"text-align:left\"></td><td></td><td></td><td>(191.064)</td><td>(204.361)</td></tr><tr><td style=\"text-align:left\">cond_good</td><td></td><td></td><td>307.524<sup></sup></td><td>338.777<sup></sup></td></tr><tr><td style=\"text-align:left\"></td><td></td><td></td><td>(218.459)</td><td>(227.133)</td></tr><tr><td style=\"text-align:left\">cond_likenew</td><td></td><td></td><td></td><td>568.716<sup></sup></td></tr><tr><td style=\"text-align:left\"></td><td></td><td></td><td></td><td>(384.511)</td></tr><tr><td style=\"text-align:left\">cylind6</td><td></td><td></td><td></td><td>-373.388<sup></sup></td></tr><tr><td style=\"text-align:left\"></td><td></td><td></td><td></td><td>(251.383)</td></tr><tr><td style=\"text-align:left\">dealer</td><td></td><td></td><td>548.920<sup>**</sup></td><td>796.840<sup>***</sup></td></tr><tr><td style=\"text-align:left\"></td><td></td><td></td><td>(219.299)</td><td>(229.537)</td></tr><tr><td style=\"text-align:left\">odometer</td><td></td><td>-303.840<sup>***</sup></td><td>-568.747<sup>***</sup></td><td>-571.716<sup>***</sup></td></tr><tr><td style=\"text-align:left\"></td><td></td><td>(30.883)</td><td>(57.830)</td><td>(54.888)</td></tr><tr><td style=\"text-align:left\">odometersq</td><td></td><td></td><td>0.484<sup>***</sup></td><td>0.491<sup>***</sup></td></tr><tr><td style=\"text-align:left\"></td><td></td><td></td><td>(0.070)</td><td>(0.068)</td></tr><td colspan=\"5\" style=\"border-bottom: 1px solid black\"></td></tr><tr><td style=\"text-align: left\">Observations</td><td>281</td><td>281</td><td>281</td><td>281</td></tr><tr><td style=\"text-align: left\">R<sup>2</sup></td><td>0.847</td><td>0.898</td><td>0.913</td><td>0.920</td></tr><tr><td style=\"text-align: left\">Adjusted R<sup>2</sup></td><td>0.846</td><td>0.897</td><td>0.911</td><td>0.916</td></tr><tr><td style=\"text-align: left\">Residual Std. Error</td><td>1764.626 (df=278)</td><td>1444.030 (df=277)</td><td>1340.315 (df=272)</td><td>1300.684 (df=268)</td></tr><tr><td style=\"text-align: left\">F Statistic</td><td>1076.794<sup>***</sup> (df=2; 278)</td><td>1167.158<sup>***</sup> (df=3; 277)</td><td>526.218<sup>***</sup> (df=8; 272)</td><td>343.987<sup>***</sup> (df=12; 268)</td></tr><tr><td colspan=\"5\" style=\"border-bottom: 1px solid black\"></td></tr><tr><td style=\"text-align: left\">Note:</td>\n",
       " <td colspan=\"4\" style=\"text-align: right\">\n",
       "  <sup>*</sup>p&lt;0.1;\n",
       "  <sup>**</sup>p&lt;0.05;\n",
       "  <sup>***</sup>p&lt;0.01\n",
       " </td></tr></table>"
      ],
      "text/plain": [
       "<stargazer.stargazer.Stargazer at 0x128815580>"
      ]
     },
     "execution_count": 33,
     "metadata": {},
     "output_type": "execute_result"
    }
   ],
   "source": [
    "stargazer.Stargazer([reg1,reg2,reg3,reg4])"
   ]
  },
  {
   "cell_type": "markdown",
   "metadata": {},
   "source": [
    "## Cross validation"
   ]
  },
  {
   "cell_type": "code",
   "execution_count": 34,
   "metadata": {},
   "outputs": [],
   "source": [
    "from sklearn.model_selection import KFold\n",
    "k = KFold(n_splits=4, shuffle=False, random_state=1)\n"
   ]
  },
  {
   "cell_type": "code",
   "execution_count": 35,
   "metadata": {},
   "outputs": [],
   "source": [
    "### Cross validate OLS with combining sklearn k-fold cross validation and statsmodels ols formula\n",
    "\n",
    "\n",
    "def cv_reg(formula, data, kfold, robustse=None):\n",
    "    regression_list = []\n",
    "    predicts_on_test = []\n",
    "    rsquared = []\n",
    "    rmse_list = []\n",
    "\n",
    "    # Calculating OLS for each fold\n",
    "\n",
    "    for train_index, test_index in k.split(data):\n",
    "        # print(\"TRAIN:\", train_index, \"TEST:\", test_index)\n",
    "        data_train, data_test = data.iloc[train_index, :], data.iloc[test_index, :]\n",
    "        if robustse is None:\n",
    "            model = smf.ols(formula, data=data_train).fit()\n",
    "        else:\n",
    "            model = smf.ols(formula, data=data_train).fit(cov_type=robustse)\n",
    "        regression_list += [model]\n",
    "        predicts_on_test += [model.predict(data_test)]\n",
    "        rsquared += [model.rsquared]\n",
    "        rmse_list += [rmse(data_train[formula.split(\"~\")[0]], model.predict())]\n",
    "\n",
    "    return {\n",
    "        \"regressions\": regression_list,\n",
    "        \"test_predict\": predicts_on_test,\n",
    "        \"r2\": rsquared,\n",
    "        \"rmse\": rmse_list,\n",
    "    }\n",
    "\n",
    "\n",
    "def summarize_cv(cvlist, stat=\"rmse\"):\n",
    "    result = pd.DataFrame(\n",
    "        {\"Model\" + str(x + 1): cvlist[x][stat] for x in range(len(cv_list))}\n",
    "    )\n",
    "    result[\"Resample\"] = [\"Fold\" + str(x + 1) for x in range(len(cvlist[0][\"rmse\"]))]\n",
    "    result = result.set_index(\"Resample\")\n",
    "    result = pd.concat([result, pd.DataFrame(result.mean(), columns=[\"Average\"]).T])\n",
    "    return result"
   ]
  },
  {
   "cell_type": "code",
   "execution_count": 36,
   "metadata": {},
   "outputs": [],
   "source": [
    "cv1 = cv_reg(\"price~age+agesq\", data, k, \"HC0\")\n",
    "cv2 = cv_reg(\"price~age+agesq+odometer\", data, k, \"HC0\")\n",
    "cv3 = cv_reg(\n",
    "    \"price~age+agesq+ odometer + odometersq + LE + cond_excellent + cond_good + dealer\",\n",
    "    data,\n",
    "    k,\n",
    "    \"HC0\",\n",
    ")\n",
    "cv4 = cv_reg(\n",
    "    \"price~age+agesq+ odometer + odometersq + LE + XLE + SE + cond_likenew + cond_excellent + cond_good + cylind6 + dealer\",\n",
    "    data,\n",
    "    k,\n",
    "    \"HC0\",\n",
    ")\n",
    "cv5 = cv_reg(\n",
    "    \"price~age+agesq + odometer + odometersq + LE*age + XLE*age + SE*age + cond_likenew*age + cond_excellent*age + cond_good*age + cylind6*age + odometer*age + dealer*age\",\n",
    "    data,\n",
    "    k,\n",
    "    \"HC0\",\n",
    ")\n",
    "cv_list = [cv1, cv2, cv3, cv4, cv5]"
   ]
  },
  {
   "cell_type": "code",
   "execution_count": 37,
   "metadata": {
    "scrolled": false
   },
   "outputs": [
    {
     "data": {
      "text/html": [
       "<div>\n",
       "<style scoped>\n",
       "    .dataframe tbody tr th:only-of-type {\n",
       "        vertical-align: middle;\n",
       "    }\n",
       "\n",
       "    .dataframe tbody tr th {\n",
       "        vertical-align: top;\n",
       "    }\n",
       "\n",
       "    .dataframe thead th {\n",
       "        text-align: right;\n",
       "    }\n",
       "</style>\n",
       "<table border=\"1\" class=\"dataframe\">\n",
       "  <thead>\n",
       "    <tr style=\"text-align: right;\">\n",
       "      <th></th>\n",
       "      <th>Model1</th>\n",
       "      <th>Model2</th>\n",
       "      <th>Model3</th>\n",
       "      <th>Model4</th>\n",
       "      <th>Model5</th>\n",
       "    </tr>\n",
       "  </thead>\n",
       "  <tbody>\n",
       "    <tr>\n",
       "      <th>Fold1</th>\n",
       "      <td>1618.115827</td>\n",
       "      <td>1366.548420</td>\n",
       "      <td>1279.793886</td>\n",
       "      <td>1215.424879</td>\n",
       "      <td>1185.937003</td>\n",
       "    </tr>\n",
       "    <tr>\n",
       "      <th>Fold2</th>\n",
       "      <td>1811.811621</td>\n",
       "      <td>1449.936044</td>\n",
       "      <td>1337.596555</td>\n",
       "      <td>1274.322122</td>\n",
       "      <td>1242.048531</td>\n",
       "    </tr>\n",
       "    <tr>\n",
       "      <th>Fold3</th>\n",
       "      <td>1712.024549</td>\n",
       "      <td>1413.394587</td>\n",
       "      <td>1287.515104</td>\n",
       "      <td>1249.015589</td>\n",
       "      <td>1204.769120</td>\n",
       "    </tr>\n",
       "    <tr>\n",
       "      <th>Fold4</th>\n",
       "      <td>1826.251023</td>\n",
       "      <td>1450.552039</td>\n",
       "      <td>1299.776642</td>\n",
       "      <td>1257.653552</td>\n",
       "      <td>1201.181584</td>\n",
       "    </tr>\n",
       "    <tr>\n",
       "      <th>Average</th>\n",
       "      <td>1742.050755</td>\n",
       "      <td>1420.107772</td>\n",
       "      <td>1301.170547</td>\n",
       "      <td>1249.104036</td>\n",
       "      <td>1208.484060</td>\n",
       "    </tr>\n",
       "  </tbody>\n",
       "</table>\n",
       "</div>"
      ],
      "text/plain": [
       "              Model1       Model2       Model3       Model4       Model5\n",
       "Fold1    1618.115827  1366.548420  1279.793886  1215.424879  1185.937003\n",
       "Fold2    1811.811621  1449.936044  1337.596555  1274.322122  1242.048531\n",
       "Fold3    1712.024549  1413.394587  1287.515104  1249.015589  1204.769120\n",
       "Fold4    1826.251023  1450.552039  1299.776642  1257.653552  1201.181584\n",
       "Average  1742.050755  1420.107772  1301.170547  1249.104036  1208.484060"
      ]
     },
     "execution_count": 37,
     "metadata": {},
     "output_type": "execute_result"
    }
   ],
   "source": [
    "summarize_cv(cv_list)"
   ]
  },
  {
   "cell_type": "markdown",
   "metadata": {},
   "source": [
    "### Prediction"
   ]
  },
  {
   "cell_type": "code",
   "execution_count": 38,
   "metadata": {},
   "outputs": [],
   "source": [
    "data = data.loc[\n",
    "    :,\n",
    "    [\n",
    "        \"age\",\n",
    "        \"agesq\",\n",
    "        \"odometer\",\n",
    "        \"odometersq\",\n",
    "        \"SE\",\n",
    "        \"LE\",\n",
    "        \"XLE\",\n",
    "        \"cond_likenew\",\n",
    "        \"cond_excellent\",\n",
    "        \"cond_good\",\n",
    "        \"dealer\",\n",
    "        \"price\",\n",
    "        \"cylind6\"\n",
    "    ],\n",
    "]"
   ]
  },
  {
   "cell_type": "code",
   "execution_count": 39,
   "metadata": {},
   "outputs": [
    {
     "data": {
      "text/html": [
       "<div>\n",
       "<style scoped>\n",
       "    .dataframe tbody tr th:only-of-type {\n",
       "        vertical-align: middle;\n",
       "    }\n",
       "\n",
       "    .dataframe tbody tr th {\n",
       "        vertical-align: top;\n",
       "    }\n",
       "\n",
       "    .dataframe thead th {\n",
       "        text-align: right;\n",
       "    }\n",
       "</style>\n",
       "<table border=\"1\" class=\"dataframe\">\n",
       "  <thead>\n",
       "    <tr style=\"text-align: right;\">\n",
       "      <th></th>\n",
       "      <th>age</th>\n",
       "      <th>agesq</th>\n",
       "      <th>odometer</th>\n",
       "      <th>odometersq</th>\n",
       "      <th>SE</th>\n",
       "      <th>LE</th>\n",
       "      <th>XLE</th>\n",
       "      <th>cond_likenew</th>\n",
       "      <th>cond_excellent</th>\n",
       "      <th>cond_good</th>\n",
       "      <th>dealer</th>\n",
       "      <th>price</th>\n",
       "      <th>cylind6</th>\n",
       "    </tr>\n",
       "  </thead>\n",
       "  <tbody>\n",
       "    <tr>\n",
       "      <th>2</th>\n",
       "      <td>3</td>\n",
       "      <td>9</td>\n",
       "      <td>3.572100</td>\n",
       "      <td>45.579633</td>\n",
       "      <td>0</td>\n",
       "      <td>0</td>\n",
       "      <td>0</td>\n",
       "      <td>0</td>\n",
       "      <td>1</td>\n",
       "      <td>0</td>\n",
       "      <td>1</td>\n",
       "      <td>14850</td>\n",
       "      <td>0</td>\n",
       "    </tr>\n",
       "    <tr>\n",
       "      <th>3</th>\n",
       "      <td>2</td>\n",
       "      <td>4</td>\n",
       "      <td>1.315200</td>\n",
       "      <td>2.274969</td>\n",
       "      <td>0</td>\n",
       "      <td>0</td>\n",
       "      <td>0</td>\n",
       "      <td>0</td>\n",
       "      <td>0</td>\n",
       "      <td>0</td>\n",
       "      <td>1</td>\n",
       "      <td>15630</td>\n",
       "      <td>0</td>\n",
       "    </tr>\n",
       "    <tr>\n",
       "      <th>4</th>\n",
       "      <td>25</td>\n",
       "      <td>625</td>\n",
       "      <td>18.700000</td>\n",
       "      <td>6539.203000</td>\n",
       "      <td>0</td>\n",
       "      <td>0</td>\n",
       "      <td>0</td>\n",
       "      <td>0</td>\n",
       "      <td>0</td>\n",
       "      <td>1</td>\n",
       "      <td>0</td>\n",
       "      <td>850</td>\n",
       "      <td>1</td>\n",
       "    </tr>\n",
       "    <tr>\n",
       "      <th>6</th>\n",
       "      <td>20</td>\n",
       "      <td>400</td>\n",
       "      <td>16.824259</td>\n",
       "      <td>4762.202089</td>\n",
       "      <td>0</td>\n",
       "      <td>1</td>\n",
       "      <td>0</td>\n",
       "      <td>0</td>\n",
       "      <td>0</td>\n",
       "      <td>0</td>\n",
       "      <td>0</td>\n",
       "      <td>1600</td>\n",
       "      <td>0</td>\n",
       "    </tr>\n",
       "    <tr>\n",
       "      <th>7</th>\n",
       "      <td>20</td>\n",
       "      <td>400</td>\n",
       "      <td>16.824259</td>\n",
       "      <td>4762.202089</td>\n",
       "      <td>0</td>\n",
       "      <td>0</td>\n",
       "      <td>0</td>\n",
       "      <td>0</td>\n",
       "      <td>0</td>\n",
       "      <td>0</td>\n",
       "      <td>0</td>\n",
       "      <td>1500</td>\n",
       "      <td>0</td>\n",
       "    </tr>\n",
       "  </tbody>\n",
       "</table>\n",
       "</div>"
      ],
      "text/plain": [
       "   age  agesq   odometer   odometersq  SE  LE  XLE  cond_likenew  \\\n",
       "2    3      9   3.572100    45.579633   0   0    0             0   \n",
       "3    2      4   1.315200     2.274969   0   0    0             0   \n",
       "4   25    625  18.700000  6539.203000   0   0    0             0   \n",
       "6   20    400  16.824259  4762.202089   0   1    0             0   \n",
       "7   20    400  16.824259  4762.202089   0   0    0             0   \n",
       "\n",
       "   cond_excellent  cond_good  dealer  price  cylind6  \n",
       "2               1          0       1  14850        0  \n",
       "3               0          0       1  15630        0  \n",
       "4               0          1       0    850        1  \n",
       "6               0          0       0   1600        0  \n",
       "7               0          0       0   1500        0  "
      ]
     },
     "execution_count": 39,
     "metadata": {},
     "output_type": "execute_result"
    }
   ],
   "source": [
    "data.head()"
   ]
  },
  {
   "cell_type": "code",
   "execution_count": 40,
   "metadata": {
    "scrolled": true
   },
   "outputs": [
    {
     "data": {
      "text/html": [
       "<div>\n",
       "<style scoped>\n",
       "    .dataframe tbody tr th:only-of-type {\n",
       "        vertical-align: middle;\n",
       "    }\n",
       "\n",
       "    .dataframe tbody tr th {\n",
       "        vertical-align: top;\n",
       "    }\n",
       "\n",
       "    .dataframe thead th {\n",
       "        text-align: right;\n",
       "    }\n",
       "</style>\n",
       "<table border=\"1\" class=\"dataframe\">\n",
       "  <thead>\n",
       "    <tr style=\"text-align: right;\">\n",
       "      <th></th>\n",
       "      <th>age</th>\n",
       "      <th>agesq</th>\n",
       "      <th>odometer</th>\n",
       "      <th>odometersq</th>\n",
       "      <th>SE</th>\n",
       "      <th>LE</th>\n",
       "      <th>XLE</th>\n",
       "      <th>cond_likenew</th>\n",
       "      <th>cond_excellent</th>\n",
       "      <th>cond_good</th>\n",
       "      <th>dealer</th>\n",
       "      <th>price</th>\n",
       "      <th>cylind6</th>\n",
       "    </tr>\n",
       "  </thead>\n",
       "  <tbody>\n",
       "    <tr>\n",
       "      <th>0</th>\n",
       "      <td>10.0</td>\n",
       "      <td>100.0</td>\n",
       "      <td>12.0</td>\n",
       "      <td>144.0</td>\n",
       "      <td>0.0</td>\n",
       "      <td>1.0</td>\n",
       "      <td>0.0</td>\n",
       "      <td>0.0</td>\n",
       "      <td>1.0</td>\n",
       "      <td>0.0</td>\n",
       "      <td>0.0</td>\n",
       "      <td>NaN</td>\n",
       "      <td>0.0</td>\n",
       "    </tr>\n",
       "  </tbody>\n",
       "</table>\n",
       "</div>"
      ],
      "text/plain": [
       "    age  agesq  odometer  odometersq   SE   LE  XLE  cond_likenew  \\\n",
       "0  10.0  100.0      12.0       144.0  0.0  1.0  0.0           0.0   \n",
       "\n",
       "   cond_excellent  cond_good  dealer  price  cylind6  \n",
       "0             1.0        0.0     0.0    NaN      0.0  "
      ]
     },
     "execution_count": 40,
     "metadata": {},
     "output_type": "execute_result"
    }
   ],
   "source": [
    "new = pd.DataFrame(pd.Series({\n",
    "    \"age\":10,\n",
    "    \"agesq\":10**2,\n",
    "    \"odometer\":12,\n",
    "    \"odometersq\":12**2,\n",
    "    \"SE\":0,\n",
    "    \"LE\":1,\n",
    "    \"XLE\":0,\n",
    "    \"cond_likenew\":0,\n",
    "    \"cond_excellent\":1,\n",
    "    \"cond_good\":0,\n",
    "    \"dealer\":0,\n",
    "    \"price\":np.nan,\n",
    "    \"cylind6\":0\n",
    "})).T\n",
    "new"
   ]
  },
  {
   "cell_type": "code",
   "execution_count": 41,
   "metadata": {},
   "outputs": [],
   "source": [
    "#turning off scientific notation\n",
    "pd.set_option('display.float_format', lambda x: '%.3f' % x)"
   ]
  },
  {
   "cell_type": "code",
   "execution_count": 42,
   "metadata": {},
   "outputs": [
    {
     "data": {
      "text/plain": [
       "count     281.000\n",
       "mean        0.000\n",
       "std      1758.313\n",
       "min     -6367.827\n",
       "25%      -863.663\n",
       "50%      -101.332\n",
       "75%       893.620\n",
       "max      7448.668\n",
       "dtype: float64"
      ]
     },
     "execution_count": 42,
     "metadata": {},
     "output_type": "execute_result"
    }
   ],
   "source": [
    "reg1.resid.describe()"
   ]
  },
  {
   "cell_type": "code",
   "execution_count": 43,
   "metadata": {},
   "outputs": [
    {
     "data": {
      "text/html": [
       "<div>\n",
       "<style scoped>\n",
       "    .dataframe tbody tr th:only-of-type {\n",
       "        vertical-align: middle;\n",
       "    }\n",
       "\n",
       "    .dataframe tbody tr th {\n",
       "        vertical-align: top;\n",
       "    }\n",
       "\n",
       "    .dataframe thead th {\n",
       "        text-align: right;\n",
       "    }\n",
       "</style>\n",
       "<table border=\"1\" class=\"dataframe\">\n",
       "  <thead>\n",
       "    <tr style=\"text-align: right;\">\n",
       "      <th></th>\n",
       "      <th>mean</th>\n",
       "      <th>mean_se</th>\n",
       "      <th>mean_ci_lower</th>\n",
       "      <th>mean_ci_upper</th>\n",
       "      <th>obs_ci_lower</th>\n",
       "      <th>obs_ci_upper</th>\n",
       "    </tr>\n",
       "  </thead>\n",
       "  <tbody>\n",
       "    <tr>\n",
       "      <th>0</th>\n",
       "      <td>6569.387</td>\n",
       "      <td>155.912</td>\n",
       "      <td>6263.805</td>\n",
       "      <td>6874.968</td>\n",
       "      <td>3097.309</td>\n",
       "      <td>10041.464</td>\n",
       "    </tr>\n",
       "  </tbody>\n",
       "</table>\n",
       "</div>"
      ],
      "text/plain": [
       "      mean  mean_se  mean_ci_lower  mean_ci_upper  obs_ci_lower  obs_ci_upper\n",
       "0 6569.387  155.912       6263.805       6874.968      3097.309     10041.464"
      ]
     },
     "execution_count": 43,
     "metadata": {},
     "output_type": "execute_result"
    }
   ],
   "source": [
    "p1=reg1.get_prediction(new).summary_frame()\n",
    "p1"
   ]
  },
  {
   "cell_type": "code",
   "execution_count": 44,
   "metadata": {},
   "outputs": [
    {
     "data": {
      "text/plain": [
       "count     281.000\n",
       "mean       -0.000\n",
       "std      1321.029\n",
       "min     -5818.190\n",
       "25%      -563.593\n",
       "50%        19.039\n",
       "75%       641.749\n",
       "max      4225.474\n",
       "dtype: float64"
      ]
     },
     "execution_count": 44,
     "metadata": {},
     "output_type": "execute_result"
    }
   ],
   "source": [
    "(reg3.fittedvalues-data.price).describe()"
   ]
  },
  {
   "cell_type": "code",
   "execution_count": 45,
   "metadata": {},
   "outputs": [
    {
     "data": {
      "text/html": [
       "<div>\n",
       "<style scoped>\n",
       "    .dataframe tbody tr th:only-of-type {\n",
       "        vertical-align: middle;\n",
       "    }\n",
       "\n",
       "    .dataframe tbody tr th {\n",
       "        vertical-align: top;\n",
       "    }\n",
       "\n",
       "    .dataframe thead th {\n",
       "        text-align: right;\n",
       "    }\n",
       "</style>\n",
       "<table border=\"1\" class=\"dataframe\">\n",
       "  <thead>\n",
       "    <tr style=\"text-align: right;\">\n",
       "      <th></th>\n",
       "      <th>mean</th>\n",
       "      <th>mean_se</th>\n",
       "      <th>mean_ci_lower</th>\n",
       "      <th>mean_ci_upper</th>\n",
       "      <th>obs_ci_lower</th>\n",
       "      <th>obs_ci_upper</th>\n",
       "    </tr>\n",
       "  </thead>\n",
       "  <tbody>\n",
       "    <tr>\n",
       "      <th>0</th>\n",
       "      <td>5359.323</td>\n",
       "      <td>282.523</td>\n",
       "      <td>4805.588</td>\n",
       "      <td>5913.058</td>\n",
       "      <td>2674.627</td>\n",
       "      <td>8044.019</td>\n",
       "    </tr>\n",
       "  </tbody>\n",
       "</table>\n",
       "</div>"
      ],
      "text/plain": [
       "      mean  mean_se  mean_ci_lower  mean_ci_upper  obs_ci_lower  obs_ci_upper\n",
       "0 5359.323  282.523       4805.588       5913.058      2674.627      8044.019"
      ]
     },
     "execution_count": 45,
     "metadata": {},
     "output_type": "execute_result"
    }
   ],
   "source": [
    "p2=reg3.get_prediction(new).summary_frame()\n",
    "p2"
   ]
  },
  {
   "cell_type": "code",
   "execution_count": 46,
   "metadata": {
    "scrolled": true
   },
   "outputs": [
    {
     "data": {
      "text/plain": [
       "1318.676544378657"
      ]
     },
     "execution_count": 46,
     "metadata": {},
     "output_type": "execute_result"
    }
   ],
   "source": [
    "#get model3 rmse\n",
    "rmse(reg3.fittedvalues,data.price)"
   ]
  },
  {
   "cell_type": "code",
   "execution_count": 47,
   "metadata": {},
   "outputs": [
    {
     "data": {
      "text/html": [
       "<div>\n",
       "<style scoped>\n",
       "    .dataframe tbody tr th:only-of-type {\n",
       "        vertical-align: middle;\n",
       "    }\n",
       "\n",
       "    .dataframe tbody tr th {\n",
       "        vertical-align: top;\n",
       "    }\n",
       "\n",
       "    .dataframe thead th {\n",
       "        text-align: right;\n",
       "    }\n",
       "</style>\n",
       "<table border=\"1\" class=\"dataframe\">\n",
       "  <thead>\n",
       "    <tr style=\"text-align: right;\">\n",
       "      <th></th>\n",
       "      <th>Model1</th>\n",
       "      <th>Model3</th>\n",
       "    </tr>\n",
       "    <tr>\n",
       "      <th></th>\n",
       "      <th></th>\n",
       "      <th></th>\n",
       "    </tr>\n",
       "  </thead>\n",
       "  <tbody>\n",
       "    <tr>\n",
       "      <th>Predicted</th>\n",
       "      <td>6569.387</td>\n",
       "      <td>5359.323</td>\n",
       "    </tr>\n",
       "    <tr>\n",
       "      <th>PI_low(95%)</th>\n",
       "      <td>3097.309</td>\n",
       "      <td>2674.627</td>\n",
       "    </tr>\n",
       "    <tr>\n",
       "      <th>PI_high(95%)</th>\n",
       "      <td>10041.464</td>\n",
       "      <td>8044.019</td>\n",
       "    </tr>\n",
       "  </tbody>\n",
       "</table>\n",
       "</div>"
      ],
      "text/plain": [
       "                Model1   Model3\n",
       "                               \n",
       "Predicted     6569.387 5359.323\n",
       "PI_low(95%)   3097.309 2674.627\n",
       "PI_high(95%) 10041.464 8044.019"
      ]
     },
     "execution_count": 47,
     "metadata": {},
     "output_type": "execute_result"
    }
   ],
   "source": [
    "pd.DataFrame(\n",
    "    {\n",
    "        \" \": [\"Predicted\", \"PI_low(95%)\", \"PI_high(95%)\"],\n",
    "        \"Model1\": p1[[\"mean\", \"obs_ci_lower\", \"obs_ci_upper\"]].values.tolist()[0],\n",
    "        \"Model3\": p2[[\"mean\", \"obs_ci_lower\", \"obs_ci_upper\"]].values.tolist()[0],\n",
    "    }\n",
    ").set_index(\" \")"
   ]
  },
  {
   "cell_type": "code",
   "execution_count": 48,
   "metadata": {},
   "outputs": [
    {
     "data": {
      "text/html": [
       "<div>\n",
       "<style scoped>\n",
       "    .dataframe tbody tr th:only-of-type {\n",
       "        vertical-align: middle;\n",
       "    }\n",
       "\n",
       "    .dataframe tbody tr th {\n",
       "        vertical-align: top;\n",
       "    }\n",
       "\n",
       "    .dataframe thead th {\n",
       "        text-align: right;\n",
       "    }\n",
       "</style>\n",
       "<table border=\"1\" class=\"dataframe\">\n",
       "  <thead>\n",
       "    <tr style=\"text-align: right;\">\n",
       "      <th></th>\n",
       "      <th>Model1</th>\n",
       "      <th>Model3</th>\n",
       "    </tr>\n",
       "    <tr>\n",
       "      <th></th>\n",
       "      <th></th>\n",
       "      <th></th>\n",
       "    </tr>\n",
       "  </thead>\n",
       "  <tbody>\n",
       "    <tr>\n",
       "      <th>Predicted</th>\n",
       "      <td>6569.387</td>\n",
       "      <td>5359.323</td>\n",
       "    </tr>\n",
       "    <tr>\n",
       "      <th>PI_low(95%)</th>\n",
       "      <td>4299.117</td>\n",
       "      <td>3603.894</td>\n",
       "    </tr>\n",
       "    <tr>\n",
       "      <th>PI_high(95%)</th>\n",
       "      <td>8839.656</td>\n",
       "      <td>7114.751</td>\n",
       "    </tr>\n",
       "  </tbody>\n",
       "</table>\n",
       "</div>"
      ],
      "text/plain": [
       "               Model1   Model3\n",
       "                              \n",
       "Predicted    6569.387 5359.323\n",
       "PI_low(95%)  4299.117 3603.894\n",
       "PI_high(95%) 8839.656 7114.751"
      ]
     },
     "execution_count": 48,
     "metadata": {},
     "output_type": "execute_result"
    }
   ],
   "source": [
    "# summary of predictions and PI 80% version\n",
    "p1=reg1.get_prediction(new).summary_frame(alpha=0.2)\n",
    "p2=reg3.get_prediction(new).summary_frame(alpha=0.2)\n",
    "\n",
    "pd.DataFrame(\n",
    "    {\n",
    "        \" \": [\"Predicted\", \"PI_low(95%)\", \"PI_high(95%)\"],\n",
    "        \"Model1\": p1[[\"mean\", \"obs_ci_lower\", \"obs_ci_upper\"]].values.tolist()[0],\n",
    "        \"Model3\": p2[[\"mean\", \"obs_ci_lower\", \"obs_ci_upper\"]].values.tolist()[0],\n",
    "    }\n",
    ").set_index(\" \")"
   ]
  },
  {
   "cell_type": "code",
   "execution_count": null,
   "metadata": {},
   "outputs": [],
   "source": []
  }
 ],
 "metadata": {
  "kernelspec": {
   "display_name": "Python 3",
   "language": "python",
   "name": "python3"
  },
  "language_info": {
   "codemirror_mode": {
    "name": "ipython",
    "version": 3
   },
   "file_extension": ".py",
   "mimetype": "text/x-python",
   "name": "python",
   "nbconvert_exporter": "python",
   "pygments_lexer": "ipython3",
   "version": "3.8.6"
  }
 },
 "nbformat": 4,
 "nbformat_minor": 4
}