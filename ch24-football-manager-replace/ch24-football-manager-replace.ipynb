{
 "cells": [
  {
   "cell_type": "markdown",
   "metadata": {},
   "source": [
    "#### Prepared for Gabor's Data Analysis\n",
    "\n",
    "### Data Analysis for Business, Economics, and Policy\n",
    "by Gabor Bekes and  Gabor Kezdi\n",
    " \n",
    "Cambridge University Press 2021\n",
    "\n",
    "**[gabors-data-analysis.com ](https://gabors-data-analysis.com/)**\n",
    "\n",
    " License: Free to share, modify and use for educational purposes. \n",
    " Not to be used for commercial purposes.\n",
    "\n",
    "\n",
    "### Chapter 24\n",
    "**CH24B Estimating the impact of replacing football team managers**\n",
    "\n",
    "using the football dataset\n",
    "\n",
    "version 1.0 2021-05-05"
   ]
  },
  {
   "cell_type": "code",
   "execution_count": 1,
   "metadata": {},
   "outputs": [],
   "source": [
    "import warnings\n",
    "warnings.filterwarnings('ignore')\n",
    "import pandas as pd\n",
    "from plotnine import *\n",
    "import statsmodels.api as sm\n",
    "import statsmodels.formula.api as smf\n",
    "from datetime import datetime as dt\n",
    "import os\n",
    "import sys\n",
    "from stargazer.stargazer import Stargazer\n",
    "from IPython.core.display import HTML"
   ]
  },
  {
   "cell_type": "code",
   "execution_count": 2,
   "metadata": {},
   "outputs": [],
   "source": [
    "# Current script folder\n",
    "current_path = os.getcwd()\n",
    "dirname = \"/\".join(current_path.split(\"/\")[:-2]) + \"/\"\n",
    "\n",
    "# location folders\n",
    "data_in = dirname + \"da_data_repo/football/clean/\"\n",
    "data_out = dirname + \"da_case_studies/ch24-football-manager-replace/\"\n",
    "output = dirname + \"da_case_studies/ch24-football-manager-replace/output/\"\n",
    "\n",
    "func = dirname + \"da_case_studies/ch00-tech-prep/\"\n",
    "sys.path.append(func)"
   ]
  },
  {
   "cell_type": "code",
   "execution_count": 3,
   "metadata": {},
   "outputs": [],
   "source": [
    "# Import the prewritten helper functions \n",
    "from py_helper_functions import *"
   ]
  },
  {
   "cell_type": "markdown",
   "metadata": {},
   "source": [
    "## Loading and preparing data"
   ]
  },
  {
   "cell_type": "code",
   "execution_count": 4,
   "metadata": {},
   "outputs": [],
   "source": [
    "data = pd.read_csv(data_in + \"football_managers_workfile.csv\")\n",
    "data[\"date\"] = data[\"date\"].apply(lambda x: dt.strptime(x.strip()[0:10], \"%Y-%m-%d\"))"
   ]
  },
  {
   "cell_type": "code",
   "execution_count": 5,
   "metadata": {},
   "outputs": [
    {
     "data": {
      "text/html": [
       "<div>\n",
       "<style scoped>\n",
       "    .dataframe tbody tr th:only-of-type {\n",
       "        vertical-align: middle;\n",
       "    }\n",
       "\n",
       "    .dataframe tbody tr th {\n",
       "        vertical-align: top;\n",
       "    }\n",
       "\n",
       "    .dataframe thead th {\n",
       "        text-align: right;\n",
       "    }\n",
       "</style>\n",
       "<table border=\"1\" class=\"dataframe\">\n",
       "  <thead>\n",
       "    <tr style=\"text-align: right;\">\n",
       "      <th></th>\n",
       "      <th>season</th>\n",
       "      <th>gameno</th>\n",
       "      <th>points</th>\n",
       "    </tr>\n",
       "  </thead>\n",
       "  <tbody>\n",
       "    <tr>\n",
       "      <th>count</th>\n",
       "      <td>8360.000000</td>\n",
       "      <td>8360.000000</td>\n",
       "      <td>8360.000000</td>\n",
       "    </tr>\n",
       "    <tr>\n",
       "      <th>mean</th>\n",
       "      <td>2013.000000</td>\n",
       "      <td>19.500000</td>\n",
       "      <td>1.375957</td>\n",
       "    </tr>\n",
       "    <tr>\n",
       "      <th>std</th>\n",
       "      <td>3.162467</td>\n",
       "      <td>10.966512</td>\n",
       "      <td>1.318578</td>\n",
       "    </tr>\n",
       "    <tr>\n",
       "      <th>min</th>\n",
       "      <td>2008.000000</td>\n",
       "      <td>1.000000</td>\n",
       "      <td>0.000000</td>\n",
       "    </tr>\n",
       "    <tr>\n",
       "      <th>25%</th>\n",
       "      <td>2010.000000</td>\n",
       "      <td>10.000000</td>\n",
       "      <td>0.000000</td>\n",
       "    </tr>\n",
       "    <tr>\n",
       "      <th>50%</th>\n",
       "      <td>2013.000000</td>\n",
       "      <td>19.500000</td>\n",
       "      <td>1.000000</td>\n",
       "    </tr>\n",
       "    <tr>\n",
       "      <th>75%</th>\n",
       "      <td>2016.000000</td>\n",
       "      <td>29.000000</td>\n",
       "      <td>3.000000</td>\n",
       "    </tr>\n",
       "    <tr>\n",
       "      <th>max</th>\n",
       "      <td>2018.000000</td>\n",
       "      <td>38.000000</td>\n",
       "      <td>3.000000</td>\n",
       "    </tr>\n",
       "  </tbody>\n",
       "</table>\n",
       "</div>"
      ],
      "text/plain": [
       "            season       gameno       points\n",
       "count  8360.000000  8360.000000  8360.000000\n",
       "mean   2013.000000    19.500000     1.375957\n",
       "std       3.162467    10.966512     1.318578\n",
       "min    2008.000000     1.000000     0.000000\n",
       "25%    2010.000000    10.000000     0.000000\n",
       "50%    2013.000000    19.500000     1.000000\n",
       "75%    2016.000000    29.000000     3.000000\n",
       "max    2018.000000    38.000000     3.000000"
      ]
     },
     "execution_count": 5,
     "metadata": {},
     "output_type": "execute_result"
    }
   ],
   "source": [
    "# describe data\n",
    "data[[\"season\", \"team\", \"gameno\", \"points\"]].describe()"
   ]
  },
  {
   "cell_type": "markdown",
   "metadata": {},
   "source": [
    "### Jani megoldás commentelve"
   ]
  },
  {
   "cell_type": "code",
   "execution_count": 6,
   "metadata": {},
   "outputs": [],
   "source": [
    "data[\"shifted\"] = (\n",
    "    data.sort_values(by=[\"team\", \"season\", \"date\"])\n",
    "    .groupby([\"team\", \"season\"])[\"manager_id\"]\n",
    "    .shift()\n",
    ")  # helper column\n",
    "data = (\n",
    "    data.sort_values(by=[\"team\", \"season\", \"date\"])\n",
    "    .reset_index(drop=True)\n",
    "    .assign(\n",
    "        managchange=lambda x: np.where(  # create this variable based on ifelse with np.where\n",
    "            (x[\"manager_id\"] == x[\"shifted\"])\n",
    "            | (pd.isnull(x[\"shifted\"])),  # this is the first condition\n",
    "            np.where(\n",
    "                pd.isnull(x[\"shifted\"]), np.nan, 0\n",
    "            ),  # if first is true the true value is a second condition\n",
    "            1,  # if other conditions are false then this value will be assigned (first condition's false value)\n",
    "        )\n",
    "    )\n",
    "    .drop(\"shifted\", axis=1)  # dropping helper column\n",
    ")\n",
    "data[\"countmanagchange\"] = data.groupby([\"team\", \"season\"])[\"managchange\"].transform(\n",
    "    sum\n",
    ")  # counting changes with groupby"
   ]
  },
  {
   "cell_type": "code",
   "execution_count": 7,
   "metadata": {
    "scrolled": false
   },
   "outputs": [
    {
     "data": {
      "text/plain": [
       "0.0    8046\n",
       "NaN     220\n",
       "1.0      94\n",
       "Name: managchange, dtype: int64"
      ]
     },
     "execution_count": 7,
     "metadata": {},
     "output_type": "execute_result"
    }
   ],
   "source": [
    "data['managchange'].value_counts(dropna=False)"
   ]
  },
  {
   "cell_type": "code",
   "execution_count": 8,
   "metadata": {},
   "outputs": [
    {
     "data": {
      "text/plain": [
       "countmanagchange\n",
       "0.0    151\n",
       "1.0     48\n",
       "2.0     17\n",
       "3.0      4\n",
       "dtype: int64"
      ]
     },
     "execution_count": 8,
     "metadata": {},
     "output_type": "execute_result"
    }
   ],
   "source": [
    "data[[\"countmanagchange\", \"team\", \"season\"]].groupby(\"countmanagchange\").apply(\n",
    "    lambda x: x.groupby([\"team\", \"season\"]).ngroups\n",
    ")"
   ]
  },
  {
   "cell_type": "markdown",
   "metadata": {},
   "source": [
    "##   BALANCED PANEL"
   ]
  },
  {
   "cell_type": "markdown",
   "metadata": {},
   "source": [
    "We define intervention as ***management change***:\n",
    " - at least 12 games before (since season started or previous management changed)\n",
    " - at least 12 games after (till season ends or next management change)"
   ]
  },
  {
   "cell_type": "code",
   "execution_count": 9,
   "metadata": {},
   "outputs": [],
   "source": [
    "data = data.merge(\n",
    "    data.sort_values(by=[\"team\", \"season\", \"date\"])\n",
    "    .groupby([\"team\", \"season\"])\n",
    "    .agg(max_gameno=(\"gameno\", max))\n",
    "    .reset_index(),\n",
    "    on=[\"team\", \"season\"],\n",
    ")"
   ]
  },
  {
   "cell_type": "code",
   "execution_count": 10,
   "metadata": {},
   "outputs": [],
   "source": [
    "data_aux = data.query(\"managchange == 1\").reset_index(drop=True)"
   ]
  },
  {
   "cell_type": "code",
   "execution_count": 11,
   "metadata": {},
   "outputs": [],
   "source": [
    "data_aux[\"gamesbefore\"] = None\n",
    "data_aux.loc[0, \"gamesbefore\"] = data_aux.loc[0, \"gameno\"] - 1\n",
    "for i in range(1, data_aux.shape[0]):\n",
    "    if (data_aux.loc[i, \"season\"] == data_aux.loc[i - 1, \"season\"]) & (\n",
    "        data_aux.loc[i, \"team\"] == data_aux.loc[i - 1, \"team\"]\n",
    "    ):\n",
    "        data_aux.loc[i, \"gamesbefore\"] = (\n",
    "            data_aux.loc[i, \"gameno\"] - data_aux.loc[i - 1, \"gameno\"]\n",
    "        )\n",
    "    else:\n",
    "        data_aux.loc[i, \"gamesbefore\"] = data_aux.loc[i, \"gameno\"] - 1"
   ]
  },
  {
   "cell_type": "code",
   "execution_count": 12,
   "metadata": {},
   "outputs": [],
   "source": [
    "data_aux[\"gamesafter\"] = None\n",
    "for i in range(0, data_aux.shape[0] - 1):\n",
    "    if (data_aux.loc[i, \"season\"] == data_aux.loc[i + 1, \"season\"]) & (\n",
    "        data_aux.loc[i, \"team\"] == data_aux.loc[i + 1, \"team\"]\n",
    "    ):\n",
    "        data_aux.loc[i, \"gamesafter\"] = (\n",
    "            data_aux.loc[i + 1, \"gameno\"] - data_aux.loc[i, \"gameno\"]\n",
    "        )\n",
    "    else:\n",
    "        data_aux.loc[i, \"gamesafter\"] = (\n",
    "            data_aux.loc[i, \"max_gameno\"] - data_aux.loc[i, \"gameno\"]\n",
    "        )"
   ]
  },
  {
   "cell_type": "code",
   "execution_count": 13,
   "metadata": {},
   "outputs": [],
   "source": [
    "data_aux[\"intervention\"] = np.where(\n",
    "    (data_aux[\"gamesbefore\"] < 12) | (data_aux[\"gamesafter\"] < 12),\n",
    "    0,\n",
    "    data_aux[\"managchange\"],\n",
    ")"
   ]
  },
  {
   "cell_type": "code",
   "execution_count": 14,
   "metadata": {},
   "outputs": [],
   "source": [
    "data_aux = data_aux[[\"team\", \"season\", \"date\", \"intervention\"]]"
   ]
  },
  {
   "cell_type": "code",
   "execution_count": 15,
   "metadata": {},
   "outputs": [
    {
     "data": {
      "text/plain": [
       "count    94.000000\n",
       "mean      0.351064\n",
       "std       0.479862\n",
       "min       0.000000\n",
       "25%       0.000000\n",
       "50%       0.000000\n",
       "75%       1.000000\n",
       "max       1.000000\n",
       "Name: intervention, dtype: float64"
      ]
     },
     "execution_count": 15,
     "metadata": {},
     "output_type": "execute_result"
    }
   ],
   "source": [
    "data_aux[\"intervention\"].describe()"
   ]
  },
  {
   "cell_type": "code",
   "execution_count": 16,
   "metadata": {},
   "outputs": [],
   "source": [
    "data_balanced = data.merge(data_aux, on=[\"team\", \"season\", \"date\"], how=\"left\")\n",
    "data_balanced[\"intervention\"] = data_balanced[\"intervention\"].fillna(0)"
   ]
  },
  {
   "cell_type": "code",
   "execution_count": 17,
   "metadata": {},
   "outputs": [],
   "source": [
    "data_balanced = data_balanced.merge(\n",
    "    data_balanced.groupby([\"team\", \"season\"])\n",
    "    .agg(countinterv=(\"intervention\", \"sum\"))\n",
    "    .reset_index(),\n",
    "    on=[\"team\", \"season\"],\n",
    "    how=\"left\",\n",
    ")"
   ]
  },
  {
   "cell_type": "code",
   "execution_count": 18,
   "metadata": {},
   "outputs": [
    {
     "data": {
      "text/plain": [
       "count    8360.000000\n",
       "mean        0.003947\n",
       "std         0.062708\n",
       "min         0.000000\n",
       "25%         0.000000\n",
       "50%         0.000000\n",
       "75%         0.000000\n",
       "max         1.000000\n",
       "Name: intervention, dtype: float64"
      ]
     },
     "execution_count": 18,
     "metadata": {},
     "output_type": "execute_result"
    }
   ],
   "source": [
    "data_balanced.intervention.describe()"
   ]
  },
  {
   "cell_type": "code",
   "execution_count": 19,
   "metadata": {},
   "outputs": [
    {
     "data": {
      "text/plain": [
       "count    8360.000000\n",
       "mean        0.150000\n",
       "std         0.357093\n",
       "min         0.000000\n",
       "25%         0.000000\n",
       "50%         0.000000\n",
       "75%         0.000000\n",
       "max         1.000000\n",
       "Name: countinterv, dtype: float64"
      ]
     },
     "execution_count": 19,
     "metadata": {},
     "output_type": "execute_result"
    }
   ],
   "source": [
    "data_balanced.countinterv.describe()"
   ]
  },
  {
   "cell_type": "code",
   "execution_count": 20,
   "metadata": {},
   "outputs": [],
   "source": [
    "data_balanced = data_balanced.merge(\n",
    "    data_balanced.groupby([\"team\", \"season\"])\n",
    "    .apply(lambda x: np.nanmin(np.where(x[\"intervention\"] == 1, x[\"gameno\"], np.nan)))\n",
    "    .reset_index()\n",
    "    .rename(columns={0: \"intervention_time\"}),\n",
    "    on=[\"team\", \"season\"],\n",
    "    how=\"left\",\n",
    ")"
   ]
  },
  {
   "cell_type": "code",
   "execution_count": 21,
   "metadata": {},
   "outputs": [],
   "source": [
    "data_balanced = data_balanced.merge(\n",
    "    data_balanced.groupby([\"team\", \"season\",\"date\"])\n",
    "    .apply(\n",
    "        lambda x: np.where(\n",
    "            np.isfinite(x[\"intervention_time\"]),\n",
    "            x[\"gameno\"] - x[\"intervention_time\"],\n",
    "            np.nan,\n",
    "        )[0]\n",
    "    )\n",
    "    .reset_index()\n",
    "    .rename(columns={0: \"t_event\"}),\n",
    "    on=[\"team\", \"season\",\"date\"],\n",
    "    how=\"left\",\n",
    ")"
   ]
  },
  {
   "cell_type": "code",
   "execution_count": 22,
   "metadata": {},
   "outputs": [],
   "source": [
    "data_balanced = (\n",
    "    data_balanced.merge(\n",
    "        data_balanced.groupby([\"team\", \"season\", \"date\"])\n",
    "        .agg(\n",
    "            t_event=(\n",
    "                \"t_event\",\n",
    "                lambda x: np.where((x >= 0) & (x <= 38), x + 1, x),\n",
    "            )\n",
    "        )\n",
    "        .reset_index(),\n",
    "        on=[\"team\", \"season\", \"date\"],\n",
    "        how=\"left\",\n",
    "    )\n",
    "    .drop(columns=[\"t_event_x\"])\n",
    "    .rename(columns={\"t_event_y\": \"t_event\"})\n",
    ")"
   ]
  },
  {
   "cell_type": "code",
   "execution_count": 23,
   "metadata": {},
   "outputs": [],
   "source": [
    "data_balanced = data_balanced.query(\n",
    "    \"(countinterv == 1 & t_event >= -12 & t_event <= 12) | countmanagchange == 0\"\n",
    ")"
   ]
  },
  {
   "cell_type": "code",
   "execution_count": 24,
   "metadata": {},
   "outputs": [
    {
     "data": {
      "text/plain": [
       "countinterv\n",
       "0.0    151\n",
       "1.0     33\n",
       "dtype: int64"
      ]
     },
     "execution_count": 24,
     "metadata": {},
     "output_type": "execute_result"
    }
   ],
   "source": [
    "data_balanced.groupby(\"countinterv\").apply(\n",
    "    lambda x: x.groupby([\"team\", \"season\"]).ngroups\n",
    ")"
   ]
  },
  {
   "cell_type": "code",
   "execution_count": 25,
   "metadata": {},
   "outputs": [
    {
     "data": {
      "image/png": "[encoded data removed]",
      "text/plain": [
       "<Figure size 640x480 with 1 Axes>"
      ]
     },
     "metadata": {},
     "output_type": "display_data"
    },
    {
     "data": {
      "text/plain": [
       "<ggplot: (303904720)>"
      ]
     },
     "execution_count": 25,
     "metadata": {},
     "output_type": "execute_result"
    }
   ],
   "source": [
    "# figure: average number interventions by game number\n",
    "ggplot(data_balanced, aes(x=\"gameno\", y=\"intervention\")) + geom_col(\n",
    "    fill=color[0], size=0.25, alpha=0.8, show_legend=False\n",
    ") + labs(y=\"Number of manager changes\", x=\"Game number\") + scale_y_continuous(\n",
    "    expand=(0.0, 0.0), breaks=np.arange(1, 6, 1), limits=(0, 6)\n",
    ") + scale_x_continuous(\n",
    "    expand=(0.01, 0.01), breaks=np.arange(0, 38, 4), limits=(0, 38)\n",
    ") + theme_bw()"
   ]
  },
  {
   "cell_type": "code",
   "execution_count": 26,
   "metadata": {},
   "outputs": [
    {
     "data": {
      "image/png": "[encoded data removed]",
      "text/plain": [
       "<Figure size 640x480 with 1 Axes>"
      ]
     },
     "metadata": {},
     "output_type": "display_data"
    },
    {
     "data": {
      "text/plain": [
       "<ggplot: (303947659)>"
      ]
     },
     "execution_count": 26,
     "metadata": {},
     "output_type": "execute_result"
    }
   ],
   "source": [
    "data_plot = (\n",
    "    data_balanced.groupby(\"t_event\")\n",
    "    .agg(mean=(\"points\", \"mean\"))\n",
    "    .reset_index()\n",
    "    .assign(\n",
    "        t_event_6=lambda df: pd.cut(\n",
    "            df[\"t_event\"], bins=[-13, -6, 0, 1, 7, 13], right=False\n",
    "        )\n",
    "    )\n",
    ")\n",
    "data_plot = data_plot.merge(\n",
    "    data_plot.groupby(\"t_event_6\").agg(group_mean=(\"mean\", \"mean\")),\n",
    "    on=\"t_event_6\",\n",
    "    how=\"left\",\n",
    ")\n",
    "\n",
    "ggplot(data_plot, aes(x=\"t_event\", y=\"mean\")) + geom_point(color=color[0]) + geom_line(\n",
    "    aes(x=\"t_event\", y=\"group_mean\", group=\"t_event_6\"),\n",
    "    size=1,\n",
    "    color=color[0],\n",
    ") + geom_vline(xintercept=0, color=color[2], size=1.5, linetype=\"dashed\") + labs(\n",
    "    y=\"Average points\", x=\"Event time: games before/after manager change\"\n",
    ") + scale_x_continuous(\n",
    "    breaks=(-12, -6, -1, 1, 6, 12), limits=(-12, 12)\n",
    ") + scale_y_continuous(\n",
    "    expand=(0.01, 0.01), breaks=np.arange(0, 1.7, 0.2), limits=(0, 1.7)\n",
    ") + annotate(\n",
    "    \"text\", x=4, y=0.1, label=\"after\", size=10\n",
    ") + annotate(\n",
    "    \"text\", x=-6, y=0.1, label=\"before\", size=10\n",
    ") + theme_bw()"
   ]
  },
  {
   "cell_type": "markdown",
   "metadata": {},
   "source": [
    "## CREATE CONTORL GROUP WITH PSEUDO-INTERVENTIONS"
   ]
  },
  {
   "cell_type": "code",
   "execution_count": 27,
   "metadata": {},
   "outputs": [],
   "source": [
    "# for each game, define avg diff of points 12-7 before\n",
    "# dip: avg diff of points 6-1 before minus 12-7 before\n",
    "\n",
    "\n",
    "data_balanced[\"points_b_7_12\"] = (\n",
    "    data_balanced.sort_values(by=[\"team\", \"season\", \"date\"])\n",
    "    .groupby([\"team\", \"season\"])[\"points\"]\n",
    "    .apply(\n",
    "        lambda x: x.shift(12)\n",
    "        + x.shift(11)\n",
    "        + x.shift(10)\n",
    "        + x.shift(9)\n",
    "        + x.shift(8)\n",
    "        + x.shift(7),\n",
    "    )\n",
    ")\n",
    "\n",
    "data_balanced[\"points_b_1_6\"] = (\n",
    "    data_balanced.sort_values(by=[\"team\", \"season\", \"date\"])\n",
    "    .groupby([\"team\", \"season\"])[\"points\"]\n",
    "    .apply(\n",
    "        lambda x: x.shift(6)\n",
    "        + x.shift(5)\n",
    "        + x.shift(4)\n",
    "        + x.shift(3)\n",
    "        + x.shift(2)\n",
    "        + x.shift(1),\n",
    "    )\n",
    ")\n",
    "\n",
    "data_balanced = data_balanced.assign(\n",
    "    dip=lambda df: df[\"points_b_1_6\"] / 6 - df[\"points_b_7_12\"] / 6\n",
    ").assign(points_b_1=lambda df: df[\"points\"].shift(1))"
   ]
  },
  {
   "cell_type": "code",
   "execution_count": 28,
   "metadata": {},
   "outputs": [
    {
     "data": {
      "text/html": [
       "<div>\n",
       "<style scoped>\n",
       "    .dataframe tbody tr th:only-of-type {\n",
       "        vertical-align: middle;\n",
       "    }\n",
       "\n",
       "    .dataframe tbody tr th {\n",
       "        vertical-align: top;\n",
       "    }\n",
       "\n",
       "    .dataframe thead th {\n",
       "        text-align: right;\n",
       "    }\n",
       "</style>\n",
       "<table border=\"1\" class=\"dataframe\">\n",
       "  <thead>\n",
       "    <tr style=\"text-align: right;\">\n",
       "      <th></th>\n",
       "      <th>points_b_1_6</th>\n",
       "      <th>points_b_7_12</th>\n",
       "      <th>dip</th>\n",
       "      <th>points_b_1</th>\n",
       "    </tr>\n",
       "  </thead>\n",
       "  <tbody>\n",
       "    <tr>\n",
       "      <th>count</th>\n",
       "      <td>33.000000</td>\n",
       "      <td>33.000000</td>\n",
       "      <td>33.000000</td>\n",
       "      <td>33.000000</td>\n",
       "    </tr>\n",
       "    <tr>\n",
       "      <th>mean</th>\n",
       "      <td>4.242424</td>\n",
       "      <td>6.939394</td>\n",
       "      <td>-0.449495</td>\n",
       "      <td>0.151515</td>\n",
       "    </tr>\n",
       "    <tr>\n",
       "      <th>std</th>\n",
       "      <td>2.512846</td>\n",
       "      <td>3.436381</td>\n",
       "      <td>0.567470</td>\n",
       "      <td>0.364110</td>\n",
       "    </tr>\n",
       "    <tr>\n",
       "      <th>min</th>\n",
       "      <td>0.000000</td>\n",
       "      <td>0.000000</td>\n",
       "      <td>-1.333333</td>\n",
       "      <td>0.000000</td>\n",
       "    </tr>\n",
       "    <tr>\n",
       "      <th>25%</th>\n",
       "      <td>2.000000</td>\n",
       "      <td>5.000000</td>\n",
       "      <td>-1.000000</td>\n",
       "      <td>0.000000</td>\n",
       "    </tr>\n",
       "    <tr>\n",
       "      <th>50%</th>\n",
       "      <td>4.000000</td>\n",
       "      <td>6.000000</td>\n",
       "      <td>-0.333333</td>\n",
       "      <td>0.000000</td>\n",
       "    </tr>\n",
       "    <tr>\n",
       "      <th>75%</th>\n",
       "      <td>7.000000</td>\n",
       "      <td>9.000000</td>\n",
       "      <td>0.000000</td>\n",
       "      <td>0.000000</td>\n",
       "    </tr>\n",
       "    <tr>\n",
       "      <th>max</th>\n",
       "      <td>9.000000</td>\n",
       "      <td>16.000000</td>\n",
       "      <td>1.166667</td>\n",
       "      <td>1.000000</td>\n",
       "    </tr>\n",
       "  </tbody>\n",
       "</table>\n",
       "</div>"
      ],
      "text/plain": [
       "       points_b_1_6  points_b_7_12        dip  points_b_1\n",
       "count     33.000000      33.000000  33.000000   33.000000\n",
       "mean       4.242424       6.939394  -0.449495    0.151515\n",
       "std        2.512846       3.436381   0.567470    0.364110\n",
       "min        0.000000       0.000000  -1.333333    0.000000\n",
       "25%        2.000000       5.000000  -1.000000    0.000000\n",
       "50%        4.000000       6.000000  -0.333333    0.000000\n",
       "75%        7.000000       9.000000   0.000000    0.000000\n",
       "max        9.000000      16.000000   1.166667    1.000000"
      ]
     },
     "execution_count": 28,
     "metadata": {},
     "output_type": "execute_result"
    }
   ],
   "source": [
    "# summary stats of dip when intervention\n",
    "data_balanced.query(\"intervention == 1\")[\n",
    "    [\"points_b_1_6\", \"points_b_7_12\", \"dip\", \"points_b_1\"]\n",
    "].describe()"
   ]
  },
  {
   "cell_type": "code",
   "execution_count": 29,
   "metadata": {},
   "outputs": [],
   "source": [
    "# set ranges to define control group\n",
    "points_b_7_12min = 5\n",
    "points_b_7_12max = 8\n",
    "dipmin = -1.33\n",
    "dipmax = -0.166\n",
    "points_b_1min = 0\n",
    "points_b_1max = 0"
   ]
  },
  {
   "cell_type": "code",
   "execution_count": 30,
   "metadata": {},
   "outputs": [],
   "source": [
    "data_balanced[\"pseudo\"] = np.where(\n",
    "    (data_balanced[\"countmanagchange\"] == 0)\n",
    "    & (data_balanced[\"dip\"] >= dipmin)\n",
    "    & (data_balanced[\"dip\"] <= dipmax)\n",
    "    & (data_balanced[\"points_b_7_12\"] >= points_b_7_12min)\n",
    "    & (data_balanced[\"points_b_7_12\"] <= points_b_7_12max)\n",
    "    & (data_balanced[\"points_b_1\"] >= points_b_1min)\n",
    "    & (data_balanced[\"points_b_1\"] <= points_b_1max)\n",
    "    & (data_balanced[\"gameno\"] < (38 - 12)),\n",
    "    1,\n",
    "    0,\n",
    ")"
   ]
  },
  {
   "cell_type": "code",
   "execution_count": 31,
   "metadata": {},
   "outputs": [
    {
     "data": {
      "text/plain": [
       "0    6398\n",
       "1     132\n",
       "Name: pseudo, dtype: int64"
      ]
     },
     "execution_count": 31,
     "metadata": {},
     "output_type": "execute_result"
    }
   ],
   "source": [
    "data_balanced[\"pseudo\"].value_counts(dropna=False)"
   ]
  },
  {
   "cell_type": "code",
   "execution_count": 32,
   "metadata": {},
   "outputs": [
    {
     "data": {
      "text/html": [
       "<div>\n",
       "<style scoped>\n",
       "    .dataframe tbody tr th:only-of-type {\n",
       "        vertical-align: middle;\n",
       "    }\n",
       "\n",
       "    .dataframe tbody tr th {\n",
       "        vertical-align: top;\n",
       "    }\n",
       "\n",
       "    .dataframe thead th {\n",
       "        text-align: right;\n",
       "    }\n",
       "</style>\n",
       "<table border=\"1\" class=\"dataframe\">\n",
       "  <thead>\n",
       "    <tr style=\"text-align: right;\">\n",
       "      <th></th>\n",
       "      <th>points_b_7_12</th>\n",
       "      <th>dip</th>\n",
       "      <th>points_b_1</th>\n",
       "    </tr>\n",
       "  </thead>\n",
       "  <tbody>\n",
       "    <tr>\n",
       "      <th>count</th>\n",
       "      <td>132.000000</td>\n",
       "      <td>132.000000</td>\n",
       "      <td>132.0</td>\n",
       "    </tr>\n",
       "    <tr>\n",
       "      <th>mean</th>\n",
       "      <td>6.856061</td>\n",
       "      <td>-0.452020</td>\n",
       "      <td>0.0</td>\n",
       "    </tr>\n",
       "    <tr>\n",
       "      <th>std</th>\n",
       "      <td>1.027355</td>\n",
       "      <td>0.270496</td>\n",
       "      <td>0.0</td>\n",
       "    </tr>\n",
       "    <tr>\n",
       "      <th>min</th>\n",
       "      <td>5.000000</td>\n",
       "      <td>-1.166667</td>\n",
       "      <td>0.0</td>\n",
       "    </tr>\n",
       "    <tr>\n",
       "      <th>25%</th>\n",
       "      <td>6.000000</td>\n",
       "      <td>-0.666667</td>\n",
       "      <td>0.0</td>\n",
       "    </tr>\n",
       "    <tr>\n",
       "      <th>50%</th>\n",
       "      <td>7.000000</td>\n",
       "      <td>-0.500000</td>\n",
       "      <td>0.0</td>\n",
       "    </tr>\n",
       "    <tr>\n",
       "      <th>75%</th>\n",
       "      <td>8.000000</td>\n",
       "      <td>-0.166667</td>\n",
       "      <td>0.0</td>\n",
       "    </tr>\n",
       "    <tr>\n",
       "      <th>max</th>\n",
       "      <td>8.000000</td>\n",
       "      <td>-0.166667</td>\n",
       "      <td>0.0</td>\n",
       "    </tr>\n",
       "  </tbody>\n",
       "</table>\n",
       "</div>"
      ],
      "text/plain": [
       "       points_b_7_12         dip  points_b_1\n",
       "count     132.000000  132.000000       132.0\n",
       "mean        6.856061   -0.452020         0.0\n",
       "std         1.027355    0.270496         0.0\n",
       "min         5.000000   -1.166667         0.0\n",
       "25%         6.000000   -0.666667         0.0\n",
       "50%         7.000000   -0.500000         0.0\n",
       "75%         8.000000   -0.166667         0.0\n",
       "max         8.000000   -0.166667         0.0"
      ]
     },
     "execution_count": 32,
     "metadata": {},
     "output_type": "execute_result"
    }
   ],
   "source": [
    "data_balanced.query(\"pseudo == 1\")[[\"points_b_7_12\", \"dip\", \"points_b_1\"]].describe()"
   ]
  },
  {
   "cell_type": "code",
   "execution_count": 33,
   "metadata": {},
   "outputs": [],
   "source": [
    "# if more such games in a teamXseason, choose one randomly\n",
    "np.random.seed(27845)\n",
    "data_balanced = pd.concat(\n",
    "    [\n",
    "        data_balanced.loc[~(data_balanced[\"pseudo\"] == 1)],\n",
    "        data_balanced.sort_values(by=[\"team\", \"season\"])\n",
    "        .query(\"pseudo == 1\")\n",
    "        .groupby([\"team\", \"season\"])\n",
    "        .agg(np.random.choice)\n",
    "        .reset_index(),\n",
    "    ]\n",
    ").reset_index(drop=True)"
   ]
  },
  {
   "cell_type": "markdown",
   "metadata": {},
   "source": [
    "**Note**: In the textbook (2021 edition) we say  \"When there was more than one candidate game \n",
    "within the same season for the same team, we selected the first one in the season.\"\n",
    "\n",
    "\n",
    "In fact we mean \"..., we selected **one in the season randomly**.\""
   ]
  },
  {
   "cell_type": "code",
   "execution_count": 34,
   "metadata": {},
   "outputs": [
    {
     "data": {
      "text/plain": [
       "0    6398\n",
       "1      67\n",
       "Name: pseudo, dtype: int64"
      ]
     },
     "execution_count": 34,
     "metadata": {},
     "output_type": "execute_result"
    }
   ],
   "source": [
    "data_balanced[\"pseudo\"].value_counts(dropna=False)"
   ]
  },
  {
   "cell_type": "code",
   "execution_count": 35,
   "metadata": {},
   "outputs": [
    {
     "data": {
      "text/html": [
       "<div>\n",
       "<style scoped>\n",
       "    .dataframe tbody tr th:only-of-type {\n",
       "        vertical-align: middle;\n",
       "    }\n",
       "\n",
       "    .dataframe tbody tr th {\n",
       "        vertical-align: top;\n",
       "    }\n",
       "\n",
       "    .dataframe thead th {\n",
       "        text-align: right;\n",
       "    }\n",
       "</style>\n",
       "<table border=\"1\" class=\"dataframe\">\n",
       "  <thead>\n",
       "    <tr style=\"text-align: right;\">\n",
       "      <th></th>\n",
       "      <th>points_b_7_12</th>\n",
       "      <th>dip</th>\n",
       "      <th>points_b_1</th>\n",
       "    </tr>\n",
       "  </thead>\n",
       "  <tbody>\n",
       "    <tr>\n",
       "      <th>count</th>\n",
       "      <td>67.000000</td>\n",
       "      <td>67.000000</td>\n",
       "      <td>67.0</td>\n",
       "    </tr>\n",
       "    <tr>\n",
       "      <th>mean</th>\n",
       "      <td>7.059701</td>\n",
       "      <td>-0.432836</td>\n",
       "      <td>0.0</td>\n",
       "    </tr>\n",
       "    <tr>\n",
       "      <th>std</th>\n",
       "      <td>0.919166</td>\n",
       "      <td>0.246285</td>\n",
       "      <td>0.0</td>\n",
       "    </tr>\n",
       "    <tr>\n",
       "      <th>min</th>\n",
       "      <td>5.000000</td>\n",
       "      <td>-1.166667</td>\n",
       "      <td>0.0</td>\n",
       "    </tr>\n",
       "    <tr>\n",
       "      <th>25%</th>\n",
       "      <td>7.000000</td>\n",
       "      <td>-0.500000</td>\n",
       "      <td>0.0</td>\n",
       "    </tr>\n",
       "    <tr>\n",
       "      <th>50%</th>\n",
       "      <td>7.000000</td>\n",
       "      <td>-0.333333</td>\n",
       "      <td>0.0</td>\n",
       "    </tr>\n",
       "    <tr>\n",
       "      <th>75%</th>\n",
       "      <td>8.000000</td>\n",
       "      <td>-0.166667</td>\n",
       "      <td>0.0</td>\n",
       "    </tr>\n",
       "    <tr>\n",
       "      <th>max</th>\n",
       "      <td>8.000000</td>\n",
       "      <td>-0.166667</td>\n",
       "      <td>0.0</td>\n",
       "    </tr>\n",
       "  </tbody>\n",
       "</table>\n",
       "</div>"
      ],
      "text/plain": [
       "       points_b_7_12        dip  points_b_1\n",
       "count      67.000000  67.000000        67.0\n",
       "mean        7.059701  -0.432836         0.0\n",
       "std         0.919166   0.246285         0.0\n",
       "min         5.000000  -1.166667         0.0\n",
       "25%         7.000000  -0.500000         0.0\n",
       "50%         7.000000  -0.333333         0.0\n",
       "75%         8.000000  -0.166667         0.0\n",
       "max         8.000000  -0.166667         0.0"
      ]
     },
     "execution_count": 35,
     "metadata": {},
     "output_type": "execute_result"
    }
   ],
   "source": [
    "data_balanced.query(\"pseudo == 1\")[[\"points_b_7_12\", \"dip\", \"points_b_1\"]].describe()"
   ]
  },
  {
   "cell_type": "code",
   "execution_count": 36,
   "metadata": {},
   "outputs": [],
   "source": [
    "data_balanced = data_balanced.merge(\n",
    "    data_balanced.groupby([\"team\", \"season\"])\n",
    "    .agg(countpseudo=(\"pseudo\", sum))\n",
    "    .reset_index(),\n",
    "    on=[\"team\", \"season\"],\n",
    "    how=\"left\",\n",
    ")"
   ]
  },
  {
   "cell_type": "code",
   "execution_count": 37,
   "metadata": {},
   "outputs": [],
   "source": [
    "data_balanced = data_balanced.merge(\n",
    "    data_balanced.groupby([\"team\", \"season\"])\n",
    "    .apply(lambda x: np.nanmin(np.where(x[\"pseudo\"] == 1, x[\"gameno\"], np.nan)))\n",
    "    .reset_index()\n",
    "    .rename(columns={0: \"pseudo_time\"}),\n",
    "    on=[\"team\", \"season\"],\n",
    "    how=\"left\",\n",
    ")"
   ]
  },
  {
   "cell_type": "code",
   "execution_count": 38,
   "metadata": {},
   "outputs": [],
   "source": [
    "data_balanced = data_balanced.merge(\n",
    "    data_balanced.groupby([\"team\", \"season\",\"date\"])\n",
    "    .apply(\n",
    "        lambda x: np.where(\n",
    "            np.isfinite(x[\"pseudo_time\"]),\n",
    "            x[\"gameno\"] - x[\"pseudo_time\"],\n",
    "            np.nan,\n",
    "        )[0]\n",
    "    )\n",
    "    .reset_index()\n",
    "    .rename(columns={0: \"t_pseudo\"}),\n",
    "    on=[\"team\", \"season\",\"date\"],\n",
    "    how=\"left\",\n",
    ")"
   ]
  },
  {
   "cell_type": "code",
   "execution_count": 39,
   "metadata": {},
   "outputs": [],
   "source": [
    "data_balanced = (\n",
    "    data_balanced.merge(\n",
    "        data_balanced.groupby([\"team\", \"season\", \"date\"])\n",
    "        .agg(\n",
    "            t_pseudo=(\n",
    "                \"t_pseudo\",\n",
    "                lambda x: np.where((x >= 0) & (x <= 38), x + 1, x),\n",
    "            )\n",
    "        )\n",
    "        .reset_index(),\n",
    "        on=[\"team\", \"season\", \"date\"],\n",
    "        how=\"left\",\n",
    "    )\n",
    "    .drop(columns=[\"t_pseudo_x\"])\n",
    "    .rename(columns={\"t_pseudo_y\": \"t_pseudo\"})\n",
    ")"
   ]
  },
  {
   "cell_type": "code",
   "execution_count": 40,
   "metadata": {},
   "outputs": [],
   "source": [
    "data_balanced = (\n",
    "    data_balanced.merge(\n",
    "        data_balanced.groupby([\"team\", \"season\", \"date\"])\n",
    "        .apply(\n",
    "            lambda x: np.where(\n",
    "                np.isnan(x[\"t_event\"]),\n",
    "                x[\"t_pseudo\"],\n",
    "                x[\"t_event\"],\n",
    "            )[0]\n",
    "        )\n",
    "        .reset_index()\n",
    "        .rename(columns={0: \"t_event\"}),\n",
    "        on=[\"team\", \"season\", \"date\"],\n",
    "        how=\"left\",\n",
    "    )\n",
    "    .drop(columns=[\"t_event_x\"])\n",
    "    .rename(columns={\"t_event_y\": \"t_event\"})\n",
    ")"
   ]
  },
  {
   "cell_type": "code",
   "execution_count": 41,
   "metadata": {},
   "outputs": [],
   "source": [
    "data_balanced = data_balanced.query(\n",
    "    \"(t_event >= -12 & t_event <= 12)\"\n",
    ")"
   ]
  },
  {
   "cell_type": "code",
   "execution_count": 42,
   "metadata": {},
   "outputs": [
    {
     "data": {
      "text/plain": [
       "countinterv  countpseudo\n",
       "0.0          1              67\n",
       "1.0          0              33\n",
       "dtype: int64"
      ]
     },
     "execution_count": 42,
     "metadata": {},
     "output_type": "execute_result"
    }
   ],
   "source": [
    "data_balanced.groupby([\"countinterv\", \"countpseudo\"]).apply(\n",
    "    lambda x: x.groupby([\"team\", \"season\"]).ngroups\n",
    ")"
   ]
  },
  {
   "cell_type": "markdown",
   "metadata": {},
   "source": [
    "## FIGURE with intervention and pseudo-intervention averages"
   ]
  },
  {
   "cell_type": "code",
   "execution_count": 43,
   "metadata": {},
   "outputs": [
    {
     "data": {
      "image/png": "[encoded data removed]",
      "text/plain": [
       "<Figure size 640x480 with 1 Axes>"
      ]
     },
     "metadata": {},
     "output_type": "display_data"
    },
    {
     "data": {
      "text/plain": [
       "<ggplot: (306146609)>"
      ]
     },
     "execution_count": 43,
     "metadata": {},
     "output_type": "execute_result"
    }
   ],
   "source": [
    "data_plot = (\n",
    "    data_balanced.groupby([\"t_event\", \"countinterv\", \"countpseudo\"])\n",
    "    .agg(mean=(\"points\", \"mean\"))\n",
    "    .reset_index()\n",
    "    .assign(\n",
    "        t_event_6=lambda df: pd.cut(\n",
    "            df[\"t_event\"], bins=[-13, -6, 0, 1, 7, 13], right=False\n",
    "        )\n",
    "    )\n",
    ")\n",
    "data_plot = data_plot.merge(\n",
    "    data_plot.groupby([\"t_event_6\",\"countpseudo\"]).agg(\n",
    "        group_mean=(\"mean\", \"mean\")\n",
    "    ),\n",
    "    on=[\"t_event_6\",\"countpseudo\"],\n",
    "    how=\"left\",\n",
    ")\n",
    "data_plot[\"countpseudo\"] = data_plot[\"countpseudo\"].astype(\"category\")\n",
    "\n",
    "ggplot(\n",
    "    data_plot, aes(x=\"t_event\", y=\"mean\", color=\"countpseudo\")\n",
    ") + geom_point() + geom_line(\n",
    "    data_plot.query(\"countpseudo == 0\"),\n",
    "    aes(x=\"t_event\", y=\"group_mean\", group=\"t_event_6\"),\n",
    "    size=1,\n",
    ") + geom_line(\n",
    "    data_plot.query(\"countpseudo == 1\"),\n",
    "    aes(x=\"t_event\", y=\"group_mean\", group=\"t_event_6\"),\n",
    "    size=1,\n",
    ") + scale_color_manual(\n",
    "    values=color[0:2], name=\" \", labels=(\"intervention\", \"pseudo intervention\")\n",
    ") + geom_vline(\n",
    "    xintercept=0, color=color[2], size=1.5, linetype=\"dashed\"\n",
    ") + labs(\n",
    "    y=\"Average points\", x=\"Event time: games before/after manager change\"\n",
    ") + scale_x_continuous(\n",
    "    breaks=(-12, -6, -1, 1, 6, 12), limits=(-12, 12)\n",
    ") + scale_y_continuous(\n",
    "    expand=(0.01, 0.01), breaks=np.arange(0, 1.7, 0.2), limits=(0, 1.7)\n",
    ") + annotate(\n",
    "    \"text\", x=4, y=0.1, label=\"after\", size=10\n",
    ") + annotate(\n",
    "    \"text\", x=-6, y=0.1, label=\"before\", size=10\n",
    ") + theme_bw()"
   ]
  },
  {
   "cell_type": "markdown",
   "metadata": {},
   "source": [
    "## REGRESSION with 6-game averages"
   ]
  },
  {
   "cell_type": "code",
   "execution_count": 44,
   "metadata": {},
   "outputs": [],
   "source": [
    "data_balanced_agg = data_balanced.assign(\n",
    "    teamseason=lambda df: df[\"team\"] + \"_\" + df[\"season\"].astype(str)\n",
    ").assign(\n",
    "    t6_event=lambda df: pd.cut(df[\"t_event\"], bins=[-13, -6, 0, 1, 7, 13], right=False)\n",
    ").groupby(\n",
    "    [\"teamseason\", \"t6_event\"]\n",
    ").agg(\n",
    "    treated=(\"countinterv\", \"mean\"), points6avg=(\"points\", \"mean\")\n",
    ").reset_index().dropna().assign(\n",
    "    Dp6avg=lambda df: df.groupby(\"teamseason\")[\"points6avg\"].transform(\"diff\")\n",
    ")"
   ]
  },
  {
   "cell_type": "code",
   "execution_count": 45,
   "metadata": {},
   "outputs": [],
   "source": [
    "data_balanced_agg = pd.concat(\n",
    "    [data_balanced_agg, pd.get_dummies(data_balanced_agg[\"t6_event\"])], axis=1\n",
    ").iloc[:, [0, 1, 2, 3, 4, 5, 6, 8, 9]]\n"
   ]
  },
  {
   "cell_type": "code",
   "execution_count": 46,
   "metadata": {},
   "outputs": [],
   "source": [
    "data_balanced_agg.columns = [\n",
    "    \"teamseason\",\n",
    "    \"t6_event\",\n",
    "    \"treated\",\n",
    "    \"points6avg\",\n",
    "    \"Dp6avg\",\n",
    "    \"before_7_12\",\n",
    "    \"before_1_6\",\n",
    "    \"after_1_6\",\n",
    "    \"after_7_12\",\n",
    "]"
   ]
  },
  {
   "cell_type": "code",
   "execution_count": 47,
   "metadata": {},
   "outputs": [
    {
     "data": {
      "text/html": [
       "<div>\n",
       "<style scoped>\n",
       "    .dataframe tbody tr th:only-of-type {\n",
       "        vertical-align: middle;\n",
       "    }\n",
       "\n",
       "    .dataframe tbody tr th {\n",
       "        vertical-align: top;\n",
       "    }\n",
       "\n",
       "    .dataframe thead th {\n",
       "        text-align: right;\n",
       "    }\n",
       "</style>\n",
       "<table border=\"1\" class=\"dataframe\">\n",
       "  <thead>\n",
       "    <tr style=\"text-align: right;\">\n",
       "      <th></th>\n",
       "      <th>Dp6avg</th>\n",
       "      <th>after_1_6</th>\n",
       "      <th>after_7_12</th>\n",
       "    </tr>\n",
       "  </thead>\n",
       "  <tbody>\n",
       "    <tr>\n",
       "      <th>count</th>\n",
       "      <td>300.000000</td>\n",
       "      <td>400.000000</td>\n",
       "      <td>400.000000</td>\n",
       "    </tr>\n",
       "    <tr>\n",
       "      <th>mean</th>\n",
       "      <td>0.047000</td>\n",
       "      <td>0.250000</td>\n",
       "      <td>0.250000</td>\n",
       "    </tr>\n",
       "    <tr>\n",
       "      <th>std</th>\n",
       "      <td>0.750927</td>\n",
       "      <td>0.433555</td>\n",
       "      <td>0.433555</td>\n",
       "    </tr>\n",
       "    <tr>\n",
       "      <th>min</th>\n",
       "      <td>-1.666667</td>\n",
       "      <td>0.000000</td>\n",
       "      <td>0.000000</td>\n",
       "    </tr>\n",
       "    <tr>\n",
       "      <th>25%</th>\n",
       "      <td>-0.500000</td>\n",
       "      <td>0.000000</td>\n",
       "      <td>0.000000</td>\n",
       "    </tr>\n",
       "    <tr>\n",
       "      <th>50%</th>\n",
       "      <td>-0.041667</td>\n",
       "      <td>0.000000</td>\n",
       "      <td>0.000000</td>\n",
       "    </tr>\n",
       "    <tr>\n",
       "      <th>75%</th>\n",
       "      <td>0.587500</td>\n",
       "      <td>0.250000</td>\n",
       "      <td>0.250000</td>\n",
       "    </tr>\n",
       "    <tr>\n",
       "      <th>max</th>\n",
       "      <td>2.333333</td>\n",
       "      <td>1.000000</td>\n",
       "      <td>1.000000</td>\n",
       "    </tr>\n",
       "  </tbody>\n",
       "</table>\n",
       "</div>"
      ],
      "text/plain": [
       "           Dp6avg   after_1_6  after_7_12\n",
       "count  300.000000  400.000000  400.000000\n",
       "mean     0.047000    0.250000    0.250000\n",
       "std      0.750927    0.433555    0.433555\n",
       "min     -1.666667    0.000000    0.000000\n",
       "25%     -0.500000    0.000000    0.000000\n",
       "50%     -0.041667    0.000000    0.000000\n",
       "75%      0.587500    0.250000    0.250000\n",
       "max      2.333333    1.000000    1.000000"
      ]
     },
     "execution_count": 47,
     "metadata": {},
     "output_type": "execute_result"
    }
   ],
   "source": [
    "data_balanced_agg[[\"Dp6avg\", \"after_1_6\", \"after_7_12\"]].describe()"
   ]
  },
  {
   "cell_type": "markdown",
   "metadata": {},
   "source": [
    "### FD REGRESSIONS"
   ]
  },
  {
   "cell_type": "code",
   "execution_count": 48,
   "metadata": {},
   "outputs": [],
   "source": [
    "fd_treatment = smf.ols(\n",
    "    \"Dp6avg ~ after_1_6 + after_7_12\", data=data_balanced_agg.query(\"treated == 1\")\n",
    ").fit(cov_type=\"HC0\")\n",
    "fd_control = smf.ols(\n",
    "    \"Dp6avg ~ after_1_6 + after_7_12\", data=data_balanced_agg.query(\"treated == 0\")\n",
    ").fit(cov_type=\"HC0\")\n",
    "fd = smf.ols(\n",
    "    \"Dp6avg ~ after_1_6 + after_7_12 + treated + I(treated*after_1_6) + I(treated*after_7_12)\",\n",
    "    data=data_balanced_agg,\n",
    ").fit(cov_type=\"HC0\")"
   ]
  },
  {
   "cell_type": "code",
   "execution_count": 49,
   "metadata": {
    "scrolled": true
   },
   "outputs": [
    {
     "data": {
      "text/html": [
       "<table style=\"text-align:center\"><tr><td colspan=\"4\" style=\"border-bottom: 1px solid black\"></td></tr><tr><td style=\"text-align:left\"></td><td colspan=\"3\"><em>Dependent variable:Dp6avg</em></td></tr><tr><td style=\"text-align:left\"></td><tr><td></td><td colspan=\"1\">Treatment</td><td colspan=\"1\">Control</td><td colspan=\"1\">All</td></tr><tr><td style=\"text-align:left\"></td><td>(1)</td><td>(2)</td><td>(3)</td></tr><tr><td colspan=\"4\" style=\"border-bottom: 1px solid black\"></td></tr><tr><td style=\"text-align:left\">I(treated * after_1_6)</td><td></td><td></td><td>0.091<sup></sup></td></tr><tr><td style=\"text-align:left\"></td><td></td><td></td><td>(0.176)</td></tr><tr><td style=\"text-align:left\">I(treated * after_7_12)</td><td></td><td></td><td>-0.023<sup></sup></td></tr><tr><td style=\"text-align:left\"></td><td></td><td></td><td>(0.185)</td></tr><tr><td style=\"text-align:left\">Constant</td><td>-0.449<sup>***</sup></td><td>-0.422<sup>***</sup></td><td>-0.422<sup>***</sup></td></tr><tr><td style=\"text-align:left\"></td><td>(0.097)</td><td>(0.041)</td><td>(0.041)</td></tr><tr><td style=\"text-align:left\">after_1_6</td><td>1.106<sup>***</sup></td><td>1.015<sup>***</sup></td><td>1.015<sup>***</sup></td></tr><tr><td style=\"text-align:left\"></td><td>(0.155)</td><td>(0.083)</td><td>(0.083)</td></tr><tr><td style=\"text-align:left\">after_7_12</td><td>0.374<sup>**</sup></td><td>0.396<sup>***</sup></td><td>0.396<sup>***</sup></td></tr><tr><td style=\"text-align:left\"></td><td>(0.154)</td><td>(0.103)</td><td>(0.103)</td></tr><tr><td style=\"text-align:left\">treated</td><td></td><td></td><td>-0.028<sup></sup></td></tr><tr><td style=\"text-align:left\"></td><td></td><td></td><td>(0.106)</td></tr><td colspan=\"4\" style=\"border-bottom: 1px solid black\"></td></tr><tr><td style=\"text-align: left\">Observations</td><td>99</td><td>201</td><td>300</td></tr><tr><td style=\"text-align: left\">R<sup>2</sup></td><td>0.333</td><td>0.331</td><td>0.332</td></tr><tr><td style=\"text-align: left\">Adjusted R<sup>2</sup></td><td>0.319</td><td>0.325</td><td>0.321</td></tr><tr><td style=\"text-align: left\">Residual Std. Error</td><td>0.660 (df=96)</td><td>0.598 (df=198)</td><td>0.619 (df=294)</td></tr><tr><td style=\"text-align: left\">F Statistic</td><td>25.415<sup>***</sup> (df=2; 96)</td><td>75.731<sup>***</sup> (df=2; 198)</td><td>41.029<sup>***</sup> (df=5; 294)</td></tr><tr><td colspan=\"4\" style=\"border-bottom: 1px solid black\"></td></tr><tr><td style=\"text-align: left\">Note:</td>\n",
       " <td colspan=\"3\" style=\"text-align: right\">\n",
       "  <sup>*</sup>p&lt;0.1;\n",
       "  <sup>**</sup>p&lt;0.05;\n",
       "  <sup>***</sup>p&lt;0.01\n",
       " </td></tr></table>"
      ],
      "text/plain": [
       "<IPython.core.display.HTML object>"
      ]
     },
     "execution_count": 49,
     "metadata": {},
     "output_type": "execute_result"
    }
   ],
   "source": [
    "stargazer = Stargazer([fd_treatment, fd_control, fd])\n",
    "stargazer.rename_covariates({\"Intercept\": \"Constant\"})\n",
    "stargazer.custom_columns([\"Treatment\", \"Control\", \"All\"], [1, 1, 1])\n",
    "HTML(stargazer.render_html())"
   ]
  },
  {
   "cell_type": "code",
   "execution_count": 53,
   "metadata": {},
   "outputs": [],
   "source": [
    "# EXTENSION NOT INCLUDED IN THE BOOK: not finished for pyhton"
   ]
  }
 ],
 "metadata": {
  "kernelspec": {
   "display_name": "Python 3",
   "language": "python",
   "name": "python3"
  },
  "language_info": {
   "codemirror_mode": {
    "name": "ipython",
    "version": 3
   },
   "file_extension": ".py",
   "mimetype": "text/x-python",
   "name": "python",
   "nbconvert_exporter": "python",
   "pygments_lexer": "ipython3",
   "version": "3.8.6"
  }
 },
 "nbformat": 4,
 "nbformat_minor": 4
}
